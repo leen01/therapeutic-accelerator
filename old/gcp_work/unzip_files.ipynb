{
 "cells": [
  {
   "attachments": {},
   "cell_type": "markdown",
   "metadata": {},
   "source": [
    "Unzip files"
   ]
  },
  {
   "cell_type": "code",
   "execution_count": 2,
   "metadata": {},
   "outputs": [],
   "source": [
    "import pandas as pd\n",
    "import os\n",
    "from tqdm import tqdm\n",
    "from glob import glob\n",
    "import yaml\n",
    "\n",
    "import gzip\n",
    "import shutil\n",
    "\n",
    "with open(\"/home/ubuntu/work/therapeutic_accelerator/config/main.yaml\", \"r\") as f:\n",
    "    config = yaml.load(f, Loader=yaml.FullLoader)\n",
    "\n",
    "bucket_path = os.path.join(config['paths']['root'], config['paths']['mount'])"
   ]
  },
  {
   "cell_type": "code",
   "execution_count": 6,
   "metadata": {},
   "outputs": [
    {
     "name": "stdout",
     "output_type": "stream",
     "text": [
      "New file name:\n",
      "could not extract file /home/ubuntu/work/bucket/fulltext-zipped/20230609_111759_00053_f77bs_1ac732c6-b47f-4cde-9939-9e9e66910c98.gz\n"
     ]
    }
   ],
   "source": [
    "fulltext_files = glob(\"\".join([bucket_path, '/fulltext-zipped/', '/*?[.gz|!.zip]']))\n",
    "\n",
    "# for file in tqdm(fulltext_files): \n",
    "\n",
    "file = \"/home/ubuntu/work/bucket/fulltext-zipped/20230609_111759_00053_f77bs_1ac732c6-b47f-4cde-9939-9e9e66910c98.gz\"\n",
    "\n",
    "with open(file, 'rb') as f_in:\n",
    "    try: \n",
    "        new_file = file.strip('\\.gz')\n",
    "        print(\"New file name:\", new_file)\n",
    "        with gzip.open(new_file, 'wb') as f_out:\n",
    "            shutil.copyfileobj(f_in, f_out)\n",
    "    except: \n",
    "        print(f\"could not extract file {file}\")"
   ]
  },
  {
   "cell_type": "code",
   "execution_count": null,
   "metadata": {},
   "outputs": [],
   "source": []
  }
 ],
 "metadata": {
  "kernelspec": {
   "display_name": "base",
   "language": "python",
   "name": "python3"
  },
  "language_info": {
   "codemirror_mode": {
    "name": "ipython",
    "version": 3
   },
   "file_extension": ".py",
   "mimetype": "text/x-python",
   "name": "python",
   "nbconvert_exporter": "python",
   "pygments_lexer": "ipython3",
   "version": "3.10.9"
  },
  "orig_nbformat": 4
 },
 "nbformat": 4,
 "nbformat_minor": 2
}
