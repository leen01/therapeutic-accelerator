{
 "cells": [
  {
   "cell_type": "code",
   "execution_count": 15,
   "metadata": {},
   "outputs": [],
   "source": [
    "import chromadb\n",
    "from chromadb.config import Settings\n",
    "from chromadb.utils import embedding_functions\n",
    "\n",
    "chroma = chromadb.Client(Settings(chroma_api_impl=\"rest\",\n",
    "                                  chroma_server_host=\"54.157.5.146\", # EC2 instance public IPv4\n",
    "                                  chroma_server_http_port=8000))"
   ]
  },
  {
   "cell_type": "code",
   "execution_count": 18,
   "metadata": {},
   "outputs": [
    {
     "data": {
      "text/plain": [
       "[Collection(name=abstract_sentence)]"
      ]
     },
     "execution_count": 18,
     "metadata": {},
     "output_type": "execute_result"
    }
   ],
   "source": [
    "# Check Existing connections\n",
    "chroma.list_collections()"
   ]
  },
  {
   "cell_type": "code",
   "execution_count": 12,
   "metadata": {},
   "outputs": [
    {
     "data": {
      "text/plain": [
       "1687397472142023344000"
      ]
     },
     "execution_count": 12,
     "metadata": {},
     "output_type": "execute_result"
    }
   ],
   "source": [
    "chroma.heartbeat() # returns a nanosecond heartbeat. Useful for making sure the client remains connected.\n",
    "# client.reset() # Empties and completely resets the database. ⚠️ This is destructive and not reversible."
   ]
  },
  {
   "cell_type": "code",
   "execution_count": 13,
   "metadata": {},
   "outputs": [],
   "source": [
    "# Sentence Transformers all-MiniLM-L6-v2 \n",
    "default_ef = embedding_functions.DefaultEmbeddingFunction()"
   ]
  },
  {
   "cell_type": "code",
   "execution_count": 17,
   "metadata": {},
   "outputs": [],
   "source": [
    "# Create collection to store embeddings with T5\n",
    "collection = chroma.create_collection(\n",
    "    name=\"abstract_sentence\",\n",
    "    metadata={\"hnsw:space\":\"cosine\"}, \n",
    "    embedding_function = default_ef) #customize distance method of embedding space "
   ]
  },
  {
   "cell_type": "code",
   "execution_count": 23,
   "metadata": {},
   "outputs": [],
   "source": [
    "# I got tired of copying the same code all the time\n",
    "# loads config for main parts and creates engine for sqlalchemy\n",
    "%run /home/ubuntu/work/therapeutic_accelerator/scripts/create_sqlalchemy_engine.py"
   ]
  },
  {
   "cell_type": "code",
   "execution_count": 38,
   "metadata": {},
   "outputs": [
    {
     "ename": "",
     "evalue": "",
     "output_type": "error",
     "traceback": [
      "\u001b[1;31mCannot execute code, session has been disposed. Please try restarting the Kernel."
     ]
    }
   ],
   "source": [
    "sql = text(''' \n",
    "    CREATE INDEX idx_corpusid \n",
    "    ON attributes(corpusid);\n",
    "''')\n",
    "\n",
    "with engine.connect() as conn: \n",
    "    query = conn.execute(sql)\n",
    "    \n",
    "# df = pd.DataFrame(query.fetchall())"
   ]
  },
  {
   "cell_type": "code",
   "execution_count": 34,
   "metadata": {},
   "outputs": [
    {
     "data": {
      "text/html": [
       "<div>\n",
       "<style scoped>\n",
       "    .dataframe tbody tr th:only-of-type {\n",
       "        vertical-align: middle;\n",
       "    }\n",
       "\n",
       "    .dataframe tbody tr th {\n",
       "        vertical-align: top;\n",
       "    }\n",
       "\n",
       "    .dataframe thead th {\n",
       "        text-align: right;\n",
       "    }\n",
       "</style>\n",
       "<table border=\"1\" class=\"dataframe\">\n",
       "  <thead>\n",
       "    <tr style=\"text-align: right;\">\n",
       "      <th></th>\n",
       "      <th>paperId</th>\n",
       "      <th>corpusId</th>\n",
       "      <th>abstract</th>\n",
       "      <th>input_ids</th>\n",
       "      <th>attention_mask</th>\n",
       "    </tr>\n",
       "  </thead>\n",
       "  <tbody>\n",
       "    <tr>\n",
       "      <th>0</th>\n",
       "      <td>859c91de1ab22aeff85558dcf676ee5ffc4981a5</td>\n",
       "      <td>33235381</td>\n",
       "      <td>Summary This work aims at applying concepts of...</td>\n",
       "      <td>[20698, 100, 161, 3, 8345, 44, 6247, 6085, 13,...</td>\n",
       "      <td>[1, 1, 1, 1, 1, 1, 1, 1, 1, 1, 1, 1, 1, 1, 1, ...</td>\n",
       "    </tr>\n",
       "    <tr>\n",
       "      <th>1</th>\n",
       "      <td>2460a37a3305b3bb072770e5bb57ed95496ecf80</td>\n",
       "      <td>72970529</td>\n",
       "      <td>Summary Objectives: To diagnose the hospital i...</td>\n",
       "      <td>[20698, 27919, 7, 10, 304, 18730, 8, 2833, 251...</td>\n",
       "      <td>[1, 1, 1, 1, 1, 1, 1, 1, 1, 1, 1, 1, 1, 1, 1, ...</td>\n",
       "    </tr>\n",
       "    <tr>\n",
       "      <th>2</th>\n",
       "      <td>e92f481f3be6f0956e0cd6c160a2a384c4eacd76</td>\n",
       "      <td>26375252</td>\n",
       "      <td>Holdoff et al.1 described a retrospective, mon...</td>\n",
       "      <td>[8470, 1647, 3, 15, 17, 491, 5, 536, 3028, 3, ...</td>\n",
       "      <td>[1, 1, 1, 1, 1, 1, 1, 1, 1, 1, 1, 1, 1, 1, 1, ...</td>\n",
       "    </tr>\n",
       "    <tr>\n",
       "      <th>3</th>\n",
       "      <td>d51f04cfdc8fe907e4a66e948028bf09f3a6af7a</td>\n",
       "      <td>11026954</td>\n",
       "      <td>1. In forty‐one out of forty‐seven dogs under ...</td>\n",
       "      <td>[1300, 86, 19662, 2, 782, 91, 13, 19662, 2, 7,...</td>\n",
       "      <td>[1, 1, 1, 1, 1, 1, 1, 1, 1, 1, 1, 1, 1, 1, 1, ...</td>\n",
       "    </tr>\n",
       "    <tr>\n",
       "      <th>4</th>\n",
       "      <td>111d6c65ad374861a3c9c70b210996b76b0a7080</td>\n",
       "      <td>95308098</td>\n",
       "      <td>Calculated and observed excited singlet state ...</td>\n",
       "      <td>[18555, 920, 11, 6970, 2787, 712, 17, 538, 703...</td>\n",
       "      <td>[1, 1, 1, 1, 1, 1, 1, 1, 1, 1, 1, 1, 1, 1, 1, ...</td>\n",
       "    </tr>\n",
       "    <tr>\n",
       "      <th>5</th>\n",
       "      <td>9e5749aa981b7fbbd06b7db9e00ec7096a3ffb0a</td>\n",
       "      <td>26192246</td>\n",
       "      <td>The V617F JAK 2 mutation is not a frequent eve...</td>\n",
       "      <td>[37, 584, 948, 2517, 371, 446, 12396, 204, 173...</td>\n",
       "      <td>[1, 1, 1, 1, 1, 1, 1, 1, 1, 1, 1, 1, 1, 1, 1, ...</td>\n",
       "    </tr>\n",
       "    <tr>\n",
       "      <th>6</th>\n",
       "      <td>79d45216563f627708b15064b153a9f8fba50d15</td>\n",
       "      <td>144048434</td>\n",
       "      <td>A review of the existing research literature i...</td>\n",
       "      <td>[71, 1132, 13, 8, 1895, 585, 6678, 9379, 24, 6...</td>\n",
       "      <td>[1, 1, 1, 1, 1, 1, 1, 1, 1, 1, 1, 1, 1, 1, 1, ...</td>\n",
       "    </tr>\n",
       "    <tr>\n",
       "      <th>7</th>\n",
       "      <td>8b65b4d8ae09ff096fd708f6033ac1bdb9b68aad</td>\n",
       "      <td>145714563</td>\n",
       "      <td>A hierarchical cluster analysis of the time co...</td>\n",
       "      <td>[71, 1382, 7064, 1950, 9068, 1693, 13, 8, 97, ...</td>\n",
       "      <td>[1, 1, 1, 1, 1, 1, 1, 1, 1, 1, 1, 1, 1, 1, 1, ...</td>\n",
       "    </tr>\n",
       "    <tr>\n",
       "      <th>8</th>\n",
       "      <td>816b35bba221b6e09af24f89760cd4d688ebd632</td>\n",
       "      <td>95263422</td>\n",
       "      <td>The methods of synthesis of fluorine-containin...</td>\n",
       "      <td>[37, 2254, 13, 3, 17282, 13, 6720, 127, 630, 1...</td>\n",
       "      <td>[1, 1, 1, 1, 1, 1, 1, 1, 1, 1, 1, 1, 1, 1, 1, ...</td>\n",
       "    </tr>\n",
       "    <tr>\n",
       "      <th>9</th>\n",
       "      <td>57468bb892cf217aa88b265c4e776e64a06e40d7</td>\n",
       "      <td>33331407</td>\n",
       "      <td>Paenibacillus larvae causes American foulbrood...</td>\n",
       "      <td>[2709, 35, 23, 9305, 1092, 302, 30434, 15, 411...</td>\n",
       "      <td>[1, 1, 1, 1, 1, 1, 1, 1, 1, 1, 1, 1, 1, 1, 1, ...</td>\n",
       "    </tr>\n",
       "    <tr>\n",
       "      <th>10</th>\n",
       "      <td>5aab79826bf844b4efc4d4ad76d6ddc0d721ec14</td>\n",
       "      <td>23305549</td>\n",
       "      <td>BACKGROUND There are few data to indicate whet...</td>\n",
       "      <td>[3, 26953, 18256, 4630, 13110, 290, 33, 360, 3...</td>\n",
       "      <td>[1, 1, 1, 1, 1, 1, 1, 1, 1, 1, 1, 1, 1, 1, 1, ...</td>\n",
       "    </tr>\n",
       "    <tr>\n",
       "      <th>11</th>\n",
       "      <td>f02c9b7fbc55879c5a7ed247c72549114d58f29d</td>\n",
       "      <td>108654115</td>\n",
       "      <td>Wilkinson and colleagues argue that while with...</td>\n",
       "      <td>[8540, 7815, 106, 11, 6976, 9409, 24, 298, 28,...</td>\n",
       "      <td>[1, 1, 1, 1, 1, 1, 1, 1, 1, 1, 1, 1, 1, 1, 1, ...</td>\n",
       "    </tr>\n",
       "    <tr>\n",
       "      <th>12</th>\n",
       "      <td>ce26390e83229aa287e1203e5de8ca77d8c50e2f</td>\n",
       "      <td>16699082</td>\n",
       "      <td>ABSTRACT A pan-virus DNA microarray (Virochip)...</td>\n",
       "      <td>[20798, 11359, 6227, 71, 2131, 18, 18095, 6642...</td>\n",
       "      <td>[1, 1, 1, 1, 1, 1, 1, 1, 1, 1, 1, 1, 1, 1, 1, ...</td>\n",
       "    </tr>\n",
       "    <tr>\n",
       "      <th>13</th>\n",
       "      <td>7f209b36e96e316233b4dc29b0422f53bd81ee44</td>\n",
       "      <td>163167246</td>\n",
       "      <td>A 39-year-old man with necrotising pancreatiti...</td>\n",
       "      <td>[71, 6352, 18, 1201, 18, 1490, 388, 28, 9705, ...</td>\n",
       "      <td>[1, 1, 1, 1, 1, 1, 1, 1, 1, 1, 1, 1, 1, 1, 1, ...</td>\n",
       "    </tr>\n",
       "    <tr>\n",
       "      <th>14</th>\n",
       "      <td>82db44dc5725175383b12776704c912dc723aed2</td>\n",
       "      <td>221037652</td>\n",
       "      <td>Objective The performance of anti-NMDAR Enceph...</td>\n",
       "      <td>[27919, 37, 821, 13, 1181, 18, 16568, 308, 428...</td>\n",
       "      <td>[1, 1, 1, 1, 1, 1, 1, 1, 1, 1, 1, 1, 1, 1, 1, ...</td>\n",
       "    </tr>\n",
       "    <tr>\n",
       "      <th>15</th>\n",
       "      <td>657ea7634350100a7cc6cb3819adb93c326e4732</td>\n",
       "      <td>12563832</td>\n",
       "      <td>Cell walls of Histoplasma capsulatum yeast-for...</td>\n",
       "      <td>[7845, 4205, 13, 978, 235, 21178, 9, 3, 30080,...</td>\n",
       "      <td>[1, 1, 1, 1, 1, 1, 1, 1, 1, 1, 1, 1, 1, 1, 1, ...</td>\n",
       "    </tr>\n",
       "    <tr>\n",
       "      <th>16</th>\n",
       "      <td>371dc523e9ff74220514c94da80793deb54dbd8a</td>\n",
       "      <td>24334730</td>\n",
       "      <td>The understanding of the membrane flow process...</td>\n",
       "      <td>[37, 1705, 13, 8, 13304, 2537, 433, 383, 1510,...</td>\n",
       "      <td>[1, 1, 1, 1, 1, 1, 1, 1, 1, 1, 1, 1, 1, 1, 1, ...</td>\n",
       "    </tr>\n",
       "    <tr>\n",
       "      <th>17</th>\n",
       "      <td>141fb56ef119df27f55319298f497b1e7c6de5f1</td>\n",
       "      <td>221525215</td>\n",
       "      <td>ABSTRACT Introduction Purine analogs made dram...</td>\n",
       "      <td>[20798, 11359, 6227, 18921, 7333, 630, 10552, ...</td>\n",
       "      <td>[1, 1, 1, 1, 1, 1, 1, 1, 1, 1, 1, 1, 1, 1, 1, ...</td>\n",
       "    </tr>\n",
       "    <tr>\n",
       "      <th>18</th>\n",
       "      <td>3b7f4962786c088b23920e33e9cb464cdb20ab70</td>\n",
       "      <td>2146110</td>\n",
       "      <td>The many functional partnerships and interacti...</td>\n",
       "      <td>[37, 186, 5014, 13416, 11, 9944, 24, 4093, 344...</td>\n",
       "      <td>[1, 1, 1, 1, 1, 1, 1, 1, 1, 1, 1, 1, 1, 1, 1, ...</td>\n",
       "    </tr>\n",
       "    <tr>\n",
       "      <th>19</th>\n",
       "      <td>db8adedb701471180f624af6626f7741986eb82c</td>\n",
       "      <td>83349870</td>\n",
       "      <td>Machadobelba baloghi n. sp. (Acari: Oribatei) ...</td>\n",
       "      <td>[10176, 9, 26, 32, 2370, 115, 9, 6561, 32, 564...</td>\n",
       "      <td>[1, 1, 1, 1, 1, 1, 1, 1, 1, 1, 1, 1, 1, 1, 1, ...</td>\n",
       "    </tr>\n",
       "  </tbody>\n",
       "</table>\n",
       "</div>"
      ],
      "text/plain": [
       "                                     paperId   corpusId   \n",
       "0   859c91de1ab22aeff85558dcf676ee5ffc4981a5   33235381  \\\n",
       "1   2460a37a3305b3bb072770e5bb57ed95496ecf80   72970529   \n",
       "2   e92f481f3be6f0956e0cd6c160a2a384c4eacd76   26375252   \n",
       "3   d51f04cfdc8fe907e4a66e948028bf09f3a6af7a   11026954   \n",
       "4   111d6c65ad374861a3c9c70b210996b76b0a7080   95308098   \n",
       "5   9e5749aa981b7fbbd06b7db9e00ec7096a3ffb0a   26192246   \n",
       "6   79d45216563f627708b15064b153a9f8fba50d15  144048434   \n",
       "7   8b65b4d8ae09ff096fd708f6033ac1bdb9b68aad  145714563   \n",
       "8   816b35bba221b6e09af24f89760cd4d688ebd632   95263422   \n",
       "9   57468bb892cf217aa88b265c4e776e64a06e40d7   33331407   \n",
       "10  5aab79826bf844b4efc4d4ad76d6ddc0d721ec14   23305549   \n",
       "11  f02c9b7fbc55879c5a7ed247c72549114d58f29d  108654115   \n",
       "12  ce26390e83229aa287e1203e5de8ca77d8c50e2f   16699082   \n",
       "13  7f209b36e96e316233b4dc29b0422f53bd81ee44  163167246   \n",
       "14  82db44dc5725175383b12776704c912dc723aed2  221037652   \n",
       "15  657ea7634350100a7cc6cb3819adb93c326e4732   12563832   \n",
       "16  371dc523e9ff74220514c94da80793deb54dbd8a   24334730   \n",
       "17  141fb56ef119df27f55319298f497b1e7c6de5f1  221525215   \n",
       "18  3b7f4962786c088b23920e33e9cb464cdb20ab70    2146110   \n",
       "19  db8adedb701471180f624af6626f7741986eb82c   83349870   \n",
       "\n",
       "                                             abstract   \n",
       "0   Summary This work aims at applying concepts of...  \\\n",
       "1   Summary Objectives: To diagnose the hospital i...   \n",
       "2   Holdoff et al.1 described a retrospective, mon...   \n",
       "3   1. In forty‐one out of forty‐seven dogs under ...   \n",
       "4   Calculated and observed excited singlet state ...   \n",
       "5   The V617F JAK 2 mutation is not a frequent eve...   \n",
       "6   A review of the existing research literature i...   \n",
       "7   A hierarchical cluster analysis of the time co...   \n",
       "8   The methods of synthesis of fluorine-containin...   \n",
       "9   Paenibacillus larvae causes American foulbrood...   \n",
       "10  BACKGROUND There are few data to indicate whet...   \n",
       "11  Wilkinson and colleagues argue that while with...   \n",
       "12  ABSTRACT A pan-virus DNA microarray (Virochip)...   \n",
       "13  A 39-year-old man with necrotising pancreatiti...   \n",
       "14  Objective The performance of anti-NMDAR Enceph...   \n",
       "15  Cell walls of Histoplasma capsulatum yeast-for...   \n",
       "16  The understanding of the membrane flow process...   \n",
       "17  ABSTRACT Introduction Purine analogs made dram...   \n",
       "18  The many functional partnerships and interacti...   \n",
       "19  Machadobelba baloghi n. sp. (Acari: Oribatei) ...   \n",
       "\n",
       "                                            input_ids   \n",
       "0   [20698, 100, 161, 3, 8345, 44, 6247, 6085, 13,...  \\\n",
       "1   [20698, 27919, 7, 10, 304, 18730, 8, 2833, 251...   \n",
       "2   [8470, 1647, 3, 15, 17, 491, 5, 536, 3028, 3, ...   \n",
       "3   [1300, 86, 19662, 2, 782, 91, 13, 19662, 2, 7,...   \n",
       "4   [18555, 920, 11, 6970, 2787, 712, 17, 538, 703...   \n",
       "5   [37, 584, 948, 2517, 371, 446, 12396, 204, 173...   \n",
       "6   [71, 1132, 13, 8, 1895, 585, 6678, 9379, 24, 6...   \n",
       "7   [71, 1382, 7064, 1950, 9068, 1693, 13, 8, 97, ...   \n",
       "8   [37, 2254, 13, 3, 17282, 13, 6720, 127, 630, 1...   \n",
       "9   [2709, 35, 23, 9305, 1092, 302, 30434, 15, 411...   \n",
       "10  [3, 26953, 18256, 4630, 13110, 290, 33, 360, 3...   \n",
       "11  [8540, 7815, 106, 11, 6976, 9409, 24, 298, 28,...   \n",
       "12  [20798, 11359, 6227, 71, 2131, 18, 18095, 6642...   \n",
       "13  [71, 6352, 18, 1201, 18, 1490, 388, 28, 9705, ...   \n",
       "14  [27919, 37, 821, 13, 1181, 18, 16568, 308, 428...   \n",
       "15  [7845, 4205, 13, 978, 235, 21178, 9, 3, 30080,...   \n",
       "16  [37, 1705, 13, 8, 13304, 2537, 433, 383, 1510,...   \n",
       "17  [20798, 11359, 6227, 18921, 7333, 630, 10552, ...   \n",
       "18  [37, 186, 5014, 13416, 11, 9944, 24, 4093, 344...   \n",
       "19  [10176, 9, 26, 32, 2370, 115, 9, 6561, 32, 564...   \n",
       "\n",
       "                                       attention_mask  \n",
       "0   [1, 1, 1, 1, 1, 1, 1, 1, 1, 1, 1, 1, 1, 1, 1, ...  \n",
       "1   [1, 1, 1, 1, 1, 1, 1, 1, 1, 1, 1, 1, 1, 1, 1, ...  \n",
       "2   [1, 1, 1, 1, 1, 1, 1, 1, 1, 1, 1, 1, 1, 1, 1, ...  \n",
       "3   [1, 1, 1, 1, 1, 1, 1, 1, 1, 1, 1, 1, 1, 1, 1, ...  \n",
       "4   [1, 1, 1, 1, 1, 1, 1, 1, 1, 1, 1, 1, 1, 1, 1, ...  \n",
       "5   [1, 1, 1, 1, 1, 1, 1, 1, 1, 1, 1, 1, 1, 1, 1, ...  \n",
       "6   [1, 1, 1, 1, 1, 1, 1, 1, 1, 1, 1, 1, 1, 1, 1, ...  \n",
       "7   [1, 1, 1, 1, 1, 1, 1, 1, 1, 1, 1, 1, 1, 1, 1, ...  \n",
       "8   [1, 1, 1, 1, 1, 1, 1, 1, 1, 1, 1, 1, 1, 1, 1, ...  \n",
       "9   [1, 1, 1, 1, 1, 1, 1, 1, 1, 1, 1, 1, 1, 1, 1, ...  \n",
       "10  [1, 1, 1, 1, 1, 1, 1, 1, 1, 1, 1, 1, 1, 1, 1, ...  \n",
       "11  [1, 1, 1, 1, 1, 1, 1, 1, 1, 1, 1, 1, 1, 1, 1, ...  \n",
       "12  [1, 1, 1, 1, 1, 1, 1, 1, 1, 1, 1, 1, 1, 1, 1, ...  \n",
       "13  [1, 1, 1, 1, 1, 1, 1, 1, 1, 1, 1, 1, 1, 1, 1, ...  \n",
       "14  [1, 1, 1, 1, 1, 1, 1, 1, 1, 1, 1, 1, 1, 1, 1, ...  \n",
       "15  [1, 1, 1, 1, 1, 1, 1, 1, 1, 1, 1, 1, 1, 1, 1, ...  \n",
       "16  [1, 1, 1, 1, 1, 1, 1, 1, 1, 1, 1, 1, 1, 1, 1, ...  \n",
       "17  [1, 1, 1, 1, 1, 1, 1, 1, 1, 1, 1, 1, 1, 1, 1, ...  \n",
       "18  [1, 1, 1, 1, 1, 1, 1, 1, 1, 1, 1, 1, 1, 1, 1, ...  \n",
       "19  [1, 1, 1, 1, 1, 1, 1, 1, 1, 1, 1, 1, 1, 1, 1, ...  "
      ]
     },
     "execution_count": 34,
     "metadata": {},
     "output_type": "execute_result"
    }
   ],
   "source": [
    "df"
   ]
  },
  {
   "attachments": {},
   "cell_type": "markdown",
   "metadata": {},
   "source": [
    "Add data to collection"
   ]
  },
  {
   "cell_type": "code",
   "execution_count": null,
   "metadata": {},
   "outputs": [],
   "source": [
    "# Add data to collection\n",
    "collection.add(\n",
    "    documents=[],\n",
    "    metadatas=[], # attributes? \n",
    "    ids=[] # use corpus ids\n",
    ")"
   ]
  },
  {
   "attachments": {},
   "cell_type": "markdown",
   "metadata": {},
   "source": [
    "# Different Embeddings"
   ]
  },
  {
   "attachments": {},
   "cell_type": "markdown",
   "metadata": {},
   "source": [
    "Create embeddings to upload to chroma"
   ]
  },
  {
   "cell_type": "code",
   "execution_count": null,
   "metadata": {},
   "outputs": [],
   "source": [
    "embedding_size = 200\n",
    "\n",
    "T5Abstract_model = TFT5ForConditionalGeneration.from_pretrained('t5-base')\n",
    "T5tokens = T5Tokenizer.from_pretrained('t5-base')"
   ]
  },
  {
   "cell_type": "code",
   "execution_count": null,
   "metadata": {},
   "outputs": [],
   "source": [
    "# Custome Embedding Function\n",
    "from chromadb.api.types import Documents, EmbeddingFunction, Embeddings\n",
    "\n",
    "class MyEmbeddingFunction(EmbeddingFunction):\n",
    "    def __call__(self, texts: Documents) -> Embeddings:\n",
    "        # embed the documents somehow\n",
    "        model = T5Model.from_pretrained(\"t5-small\")\n",
    "        tok = T5Tokenizer.from_pretrained(\"t5-small\")\n",
    "\n",
    "        enc = tok(\"some text\", return_tensors=\"pt\")\n",
    "\n",
    "        # forward pass through encoder only\n",
    "        output = model.encoder(\n",
    "            input_ids=enc[\"input_ids\"], \n",
    "            attention_mask=enc[\"attention_mask\"], \n",
    "            return_dict=True\n",
    "        )\n",
    "        # get the final hidden states\n",
    "        embeddings = output.last_hidden_state\n",
    "        return embeddings"
   ]
  },
  {
   "cell_type": "code",
   "execution_count": null,
   "metadata": {},
   "outputs": [],
   "source": [
    "def t5summary_model(tokenizer, text, t5model):\n",
    "    summarize = \"summarize: \"\n",
    "    encoding = tokenizer([summarize+text], return_tensors='tf')"
   ]
  },
  {
   "cell_type": "code",
   "execution_count": null,
   "metadata": {},
   "outputs": [],
   "source": [
    "# Bio bert toeknizer\n"
   ]
  },
  {
   "cell_type": "code",
   "execution_count": null,
   "metadata": {},
   "outputs": [],
   "source": [
    "# Create collection to store embeddings with T5\n",
    "collection = chroma_client.create_collection(\n",
    "    name=\"abstract_collection_t5\",\n",
    "    metadata={\"hnsw:space\":\"cosine\"}) #customize distance method of embedding space \n",
    "\n",
    "\n",
    "# Get collection\n",
    "collection = chroma_client.get_collection(name=\"my_collection\", embedding_function=emb_fn)"
   ]
  },
  {
   "cell_type": "code",
   "execution_count": null,
   "metadata": {},
   "outputs": [],
   "source": [
    "# Embeddings with Sentence Transformers\n",
    "sentence_transformer_ef = embedding_functions.SentenceTransformerEmbeddingFunction(model_name=\"all-MiniLM-L6-v2\")"
   ]
  },
  {
   "cell_type": "code",
   "execution_count": null,
   "metadata": {},
   "outputs": [],
   "source": [
    "# Embeddings with OpenAI\n",
    "openai_ef = embedding_functions.OpenAIEmbeddingFunction(\n",
    "                api_key=\"YOUR_API_KEY\",\n",
    "                model_name=\"text-embedding-ada-002\"\n",
    "            )"
   ]
  },
  {
   "cell_type": "code",
   "execution_count": null,
   "metadata": {},
   "outputs": [],
   "source": [
    "# Biogpt tokenizer\n",
    "biogpttokenizer = BioGptTokenizer.from_pretrained(\"microsoft/biogpt\")\n",
    "biogptmodel = BioGptForCausalLM.from_pretrained(\"microsoft/biogpt\")"
   ]
  },
  {
   "attachments": {},
   "cell_type": "markdown",
   "metadata": {},
   "source": [
    "Queries\n",
    "https://docs.trychroma.com/usage-guide"
   ]
  },
  {
   "cell_type": "code",
   "execution_count": null,
   "metadata": {},
   "outputs": [],
   "source": [
    "# Query Embeddings\n",
    "collection.query(\n",
    "    query_embeddings=[[11.1, 12.1, 13.1],[1.1, 2.3, 3.2] ...]\n",
    "    n_results=10,\n",
    "    where={\"metadata_field\": \"is_equal_to_this\"},\n",
    "    where_document={\"$contains\":\"search_string\"}\n",
    ")"
   ]
  },
  {
   "cell_type": "code",
   "execution_count": null,
   "metadata": {},
   "outputs": [],
   "source": [
    "# query by ids\n",
    "collection.get(\n",
    "    ids=[\"id1\", \"id2\", \"id3\", ...],\n",
    "    where={\"style\": \"style1\"}\n",
    ")"
   ]
  },
  {
   "cell_type": "code",
   "execution_count": null,
   "metadata": {},
   "outputs": [],
   "source": [
    "# Query by texts\n",
    "collection.query(\n",
    "    query_texts=[\"doc10\", \"thus spake zarathustra\", ...]\n",
    "    n_results=10,\n",
    "    where={\"metadata_field\": \"is_equal_to_this\"},\n",
    "    where_document={\"$contains\":\"search_string\"}\n",
    ")"
   ]
  }
 ],
 "metadata": {
  "kernelspec": {
   "display_name": "chroma",
   "language": "python",
   "name": "python3"
  },
  "language_info": {
   "codemirror_mode": {
    "name": "ipython",
    "version": 3
   },
   "file_extension": ".py",
   "mimetype": "text/x-python",
   "name": "python",
   "nbconvert_exporter": "python",
   "pygments_lexer": "ipython3",
   "version": "3.10.11"
  },
  "orig_nbformat": 4
 },
 "nbformat": 4,
 "nbformat_minor": 2
}
