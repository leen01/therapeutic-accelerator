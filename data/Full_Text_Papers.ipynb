{
 "cells": [
  {
   "cell_type": "markdown",
   "id": "f0365ece",
   "metadata": {},
   "source": [
    "### Pull Full Text Papers ###"
   ]
  },
  {
   "cell_type": "code",
   "execution_count": 1,
   "id": "1d1e6c4c",
   "metadata": {
    "scrolled": true
   },
   "outputs": [
    {
     "name": "stderr",
     "output_type": "stream",
     "text": [
      "2023-06-17 13:08:24 vanis-mbp.lan metapub.config[12681] WARNING NCBI_API_KEY was not set.\n"
     ]
    }
   ],
   "source": [
    "import pandas as pd\n",
    "from metapub import PubMedFetcher\n",
    "import requests\n",
    "from semanticscholar import SemanticScholar"
   ]
  },
  {
   "cell_type": "code",
   "execution_count": null,
   "id": "f239d6a4",
   "metadata": {},
   "outputs": [],
   "source": [
    "s2_api_key = 'jvN8XitMY59Wtoqm3FZnc94qRHnsKw3z3hLNh7XB'\n",
    "sch = SemanticScholar(api_key=s2_api_key)\n",
    "\n",
    "# follow s3 link\n",
    "full_text = requests.get(\"http://api.semanticscholar.org/datasets/v1/release/latest/dataset/s2orc\",\n",
    "                      headers={'x-api-key':'jvN8XitMY59Wtoqm3FZnc94qRHnsKw3z3hLNh7XB'}).json()\n"
   ]
  },
  {
   "cell_type": "code",
   "execution_count": null,
   "id": "916ae089",
   "metadata": {},
   "outputs": [],
   "source": [
    "full_text"
   ]
  },
  {
   "cell_type": "markdown",
   "id": "e9b0389c",
   "metadata": {},
   "source": [
    "### Parse Files ###"
   ]
  },
  {
   "cell_type": "code",
   "execution_count": 2,
   "id": "19f933b8",
   "metadata": {},
   "outputs": [],
   "source": [
    "import duckdb\n",
    "import pandas as pd\n",
    "\n",
    "conn = duckdb.connect()"
   ]
  },
  {
   "cell_type": "markdown",
   "id": "ad11cb80",
   "metadata": {},
   "source": [
    "**Import List of Corpus ids**"
   ]
  },
  {
   "cell_type": "code",
   "execution_count": 3,
   "id": "6888d9b4",
   "metadata": {},
   "outputs": [],
   "source": [
    "df = pd.read_csv('final_corpuslist.csv')\n",
    "\n",
    "t = tuple(df['corpusid'])\n",
    "query = \"select * from article_attributes where corpusid IN {}\".format(t)"
   ]
  },
  {
   "cell_type": "markdown",
   "id": "d709a7b0",
   "metadata": {},
   "source": [
    "**Parse gzip files using duck db**"
   ]
  },
  {
   "cell_type": "code",
   "execution_count": 4,
   "id": "722ea5fc",
   "metadata": {
    "scrolled": true
   },
   "outputs": [
    {
     "name": "stdout",
     "output_type": "stream",
     "text": [
      "file 1\n",
      "file 1 time = 162.98096108436584\n",
      "file 2\n",
      "file 2 time = 308.1070120334625\n",
      "file 3\n",
      "file 3 time = 455.190593957901\n",
      "file 4\n",
      "file 4 time = 601.0564742088318\n",
      "file 5\n",
      "file 5 time = 744.1327021121979\n",
      "file 6\n",
      "file 6 time = 888.029806137085\n",
      "file 7\n",
      "file 7 time = 1029.0420892238617\n",
      "file 8\n",
      "file 8 time = 1168.2937471866608\n",
      "file 9\n",
      "file 9 time = 1307.9308910369873\n",
      "file 10\n",
      "file 10 time = 1445.06458902359\n",
      "file 11\n",
      "file 11 time = 1585.545599937439\n",
      "file 12\n",
      "file 12 time = 1723.3107051849365\n",
      "file 13\n",
      "file 13 time = 1860.680430173874\n",
      "file 14\n",
      "file 14 time = 1999.46000623703\n",
      "file 15\n",
      "file 15 time = 2137.236243247986\n",
      "file 16\n",
      "file 16 time = 2277.1493961811066\n",
      "file 17\n",
      "file 17 time = 2419.8535721302032\n",
      "file 18\n",
      "file 18 time = 2557.130742073059\n",
      "file 19\n",
      "file 19 time = 2696.7790892124176\n",
      "file 20\n",
      "file 20 time = 2832.94287109375\n",
      "file 21\n",
      "file 21 time = 2967.3952622413635\n",
      "file 22\n",
      "file 22 time = 3103.0412271022797\n",
      "file 23\n",
      "file 23 time = 3239.1913640499115\n",
      "file 24\n",
      "file 24 time = 3376.8884251117706\n",
      "file 25\n",
      "file 25 time = 3510.605306148529\n",
      "file 26\n",
      "file 26 time = 3646.442364215851\n",
      "file 27\n",
      "file 27 time = 3781.0483949184418\n",
      "file 28\n",
      "file 28 time = 3914.9280922412872\n",
      "file 29\n",
      "file 29 time = 4047.498122215271\n",
      "file 30\n",
      "file 30 time = 4182.296198129654\n",
      "Seconds since epoch = 4182.299607992172\n"
     ]
    }
   ],
   "source": [
    "import time\n",
    "\n",
    "seconds = time.time()\n",
    "\n",
    "for i in range(1,31):\n",
    "    print (\"file\", i)\n",
    "    x = conn.execute(\"select * from '{}.json.gz' where corpusid in {}\".format(i,t)).fetchdf()\n",
    "    x.to_csv('{}.csv'.format(i))\n",
    "    print(\"file\",i,\"time =\", time.time() - seconds)\n",
    "    \n",
    "print(\"Seconds since epoch =\", time.time() - seconds)"
   ]
  },
  {
   "cell_type": "markdown",
   "id": "6ae78e2b",
   "metadata": {},
   "source": [
    "**Parse all CVS to get json into dataframe columns**"
   ]
  },
  {
   "cell_type": "code",
   "execution_count": 3,
   "id": "18b3e607",
   "metadata": {},
   "outputs": [
    {
     "name": "stderr",
     "output_type": "stream",
     "text": [
      "/var/folders/f3/1bf0zv1s7991qswb6sl4v9k00000gn/T/ipykernel_15713/3015115667.py:15: FutureWarning: pandas.io.json.json_normalize is deprecated, use pandas.json_normalize instead\n",
      "  A = json_normalize(df['content'].apply(only_dict).tolist())\n"
     ]
    },
    {
     "name": "stdout",
     "output_type": "stream",
     "text": [
      "Seconds since epoch = 449.7636981010437\n"
     ]
    }
   ],
   "source": [
    "import ast\n",
    "from pandas.io.json import json_normalize\n",
    "import time\n",
    "\n",
    "\n",
    "def only_dict(d):\n",
    "    return ast.literal_eval(d)\n",
    "\n",
    "\n",
    "seconds = time.time()\n",
    "\n",
    "for i in range(1,31):\n",
    "    df = pd.read_csv(str(i) + '.csv')\n",
    "    df = df[['corpusid','content']]\n",
    "    A = json_normalize(df['content'].apply(only_dict).tolist())\n",
    "    df = df[['corpusid']].join([A])\n",
    "    df.to_csv('{}_full_text.csv'.format(i))\n",
    "\n",
    "print(\"Seconds since epoch =\", time.time() - seconds)\n",
    "\n"
   ]
  },
  {
   "cell_type": "markdown",
   "id": "4126699c",
   "metadata": {},
   "source": [
    "**Export into CSV and check final results**"
   ]
  },
  {
   "cell_type": "code",
   "execution_count": 4,
   "id": "11f3cef4",
   "metadata": {},
   "outputs": [
    {
     "data": {
      "text/html": [
       "<div>\n",
       "<style scoped>\n",
       "    .dataframe tbody tr th:only-of-type {\n",
       "        vertical-align: middle;\n",
       "    }\n",
       "\n",
       "    .dataframe tbody tr th {\n",
       "        vertical-align: top;\n",
       "    }\n",
       "\n",
       "    .dataframe thead th {\n",
       "        text-align: right;\n",
       "    }\n",
       "</style>\n",
       "<table border=\"1\" class=\"dataframe\">\n",
       "  <thead>\n",
       "    <tr style=\"text-align: right;\">\n",
       "      <th></th>\n",
       "      <th>Unnamed: 0</th>\n",
       "      <th>corpusid</th>\n",
       "      <th>text</th>\n",
       "      <th>source.pdfurls</th>\n",
       "      <th>source.pdfsha</th>\n",
       "      <th>source.oainfo</th>\n",
       "      <th>annotations.abstract</th>\n",
       "      <th>annotations.author</th>\n",
       "      <th>annotations.authoraffiliation</th>\n",
       "      <th>annotations.authorfirstname</th>\n",
       "      <th>...</th>\n",
       "      <th>annotations.paragraph</th>\n",
       "      <th>annotations.publisher</th>\n",
       "      <th>annotations.sectionheader</th>\n",
       "      <th>annotations.table</th>\n",
       "      <th>annotations.tableref</th>\n",
       "      <th>annotations.title</th>\n",
       "      <th>annotations.venue</th>\n",
       "      <th>source.oainfo.license</th>\n",
       "      <th>source.oainfo.openaccessurl</th>\n",
       "      <th>source.oainfo.status</th>\n",
       "    </tr>\n",
       "  </thead>\n",
       "  <tbody>\n",
       "    <tr>\n",
       "      <th>0</th>\n",
       "      <td>0</td>\n",
       "      <td>250150147</td>\n",
       "      <td>\\nNext-Generation Metagenome Sequencing Shows ...</td>\n",
       "      <td>NaN</td>\n",
       "      <td>a3d95f615d674c56efc6cc0e134a773951328c79</td>\n",
       "      <td>NaN</td>\n",
       "      <td>[{\"end\":4475,\"start\":2322}]</td>\n",
       "      <td>[{\"end\":254,\"start\":245},{\"end\":275,\"start\":25...</td>\n",
       "      <td>[{\"end\":494,\"start\":385},{\"end\":615,\"start\":50...</td>\n",
       "      <td>[{\"end\":248,\"start\":245},{\"end\":262,\"start\":25...</td>\n",
       "      <td>...</td>\n",
       "      <td>[{\"end\":5260,\"start\":4491},{\"end\":6886,\"start\"...</td>\n",
       "      <td>NaN</td>\n",
       "      <td>[{\"end\":4489,\"start\":4477},{\"end\":9898,\"start\"...</td>\n",
       "      <td>[{\"end\":37053,\"start\":33349},{\"end\":38156,\"sta...</td>\n",
       "      <td>[{\"attributes\":{\"ref_id\":\"tab_0\"},\"end\":15910,...</td>\n",
       "      <td>[{\"end\":195,\"start\":1},{\"end\":1738,\"start\":1544}]</td>\n",
       "      <td>[{\"end\":1756,\"start\":1740}]</td>\n",
       "      <td>NaN</td>\n",
       "      <td>NaN</td>\n",
       "      <td>NaN</td>\n",
       "    </tr>\n",
       "    <tr>\n",
       "      <th>1</th>\n",
       "      <td>1</td>\n",
       "      <td>251969342</td>\n",
       "      <td>\\nProtective roles of cytoplasmic p21 Cip1/Waf...</td>\n",
       "      <td>NaN</td>\n",
       "      <td>77d34fefc0ce5bbf0e130f621720f9490e07a1d4</td>\n",
       "      <td>NaN</td>\n",
       "      <td>[{\"end\":3064,\"start\":1441}]</td>\n",
       "      <td>[{\"end\":270,\"start\":99},{\"end\":371,\"start\":271...</td>\n",
       "      <td>[{\"end\":198,\"start\":115},{\"end\":269,\"start\":20...</td>\n",
       "      <td>[{\"end\":104,\"start\":99},{\"end\":278,\"start\":271...</td>\n",
       "      <td>...</td>\n",
       "      <td>[{\"end\":5305,\"start\":3066},{\"end\":5893,\"start\"...</td>\n",
       "      <td>NaN</td>\n",
       "      <td>[{\"attributes\":{\"n\":\"2.1\"},\"end\":5333,\"start\":...</td>\n",
       "      <td>NaN</td>\n",
       "      <td>NaN</td>\n",
       "      <td>[{\"end\":96,\"start\":1},{\"end\":1271,\"start\":1176}]</td>\n",
       "      <td>NaN</td>\n",
       "      <td>NaN</td>\n",
       "      <td>NaN</td>\n",
       "      <td>NaN</td>\n",
       "    </tr>\n",
       "    <tr>\n",
       "      <th>2</th>\n",
       "      <td>2</td>\n",
       "      <td>7063556</td>\n",
       "      <td>\\nThe Impact of Nutritional Status and Longitu...</td>\n",
       "      <td>NaN</td>\n",
       "      <td>fcd362c9e4615d887d1600faad9b6e319422a57d</td>\n",
       "      <td>NaN</td>\n",
       "      <td>[{\"end\":2815,\"start\":1706}]</td>\n",
       "      <td>[{\"end\":402,\"start\":136},{\"end\":672,\"start\":40...</td>\n",
       "      <td>[{\"end\":312,\"start\":161},{\"end\":401,\"start\":31...</td>\n",
       "      <td>[{\"end\":140,\"start\":136},{\"end\":409,\"start\":40...</td>\n",
       "      <td>...</td>\n",
       "      <td>[{\"end\":4127,\"start\":2831},{\"end\":4959,\"start\"...</td>\n",
       "      <td>NaN</td>\n",
       "      <td>[{\"attributes\":{\"n\":\"1.\"},\"end\":2829,\"start\":2...</td>\n",
       "      <td>NaN</td>\n",
       "      <td>[{\"end\":14302,\"start\":14295}]</td>\n",
       "      <td>[{\"end\":129,\"start\":1},{\"end\":1380,\"start\":1252}]</td>\n",
       "      <td>[{\"end\":1417,\"start\":1382}]</td>\n",
       "      <td>CCBY</td>\n",
       "      <td>https://www.mdpi.com/1660-4601/8/1/105/pdf</td>\n",
       "      <td>GOLD</td>\n",
       "    </tr>\n",
       "    <tr>\n",
       "      <th>3</th>\n",
       "      <td>3</td>\n",
       "      <td>14778566</td>\n",
       "      <td>\\nARTICLE Coarse-grained simulation reveals ke...</td>\n",
       "      <td>NaN</td>\n",
       "      <td>4c80183d0ae3364fc2db2a9a024222cd2888d662</td>\n",
       "      <td>NaN</td>\n",
       "      <td>[{\"end\":2734,\"start\":1751}]</td>\n",
       "      <td>[{\"end\":284,\"start\":109},{\"end\":458,\"start\":28...</td>\n",
       "      <td>[{\"end\":283,\"start\":125},{\"end\":457,\"start\":29...</td>\n",
       "      <td>[{\"end\":113,\"start\":109},{\"end\":117,\"start\":11...</td>\n",
       "      <td>...</td>\n",
       "      <td>[{\"end\":3226,\"start\":2736},{\"end\":4255,\"start\"...</td>\n",
       "      <td>NaN</td>\n",
       "      <td>[{\"end\":8028,\"start\":8021},{\"end\":23211,\"start...</td>\n",
       "      <td>[{\"end\":42963,\"start\":42373},{\"end\":45178,\"sta...</td>\n",
       "      <td>[{\"attributes\":{\"ref_id\":\"tab_0\"},\"end\":8877,\"...</td>\n",
       "      <td>[{\"end\":85,\"start\":1},{\"end\":1558,\"start\":1474}]</td>\n",
       "      <td>NaN</td>\n",
       "      <td>CCBY</td>\n",
       "      <td>https://doi.org/10.1038/ncomms11568</td>\n",
       "      <td>GOLD</td>\n",
       "    </tr>\n",
       "    <tr>\n",
       "      <th>4</th>\n",
       "      <td>4</td>\n",
       "      <td>475102</td>\n",
       "      <td>\\nPhysiological relation between respiration a...</td>\n",
       "      <td>NaN</td>\n",
       "      <td>a6c6bd1e378da5c7a0561f755808a38f282d8cbd</td>\n",
       "      <td>NaN</td>\n",
       "      <td>[{\"end\":3427,\"start\":436}]</td>\n",
       "      <td>[{\"end\":169,\"start\":153},{\"end\":172,\"start\":17...</td>\n",
       "      <td>NaN</td>\n",
       "      <td>[{\"end\":159,\"start\":153},{\"end\":161,\"start\":16...</td>\n",
       "      <td>...</td>\n",
       "      <td>[{\"end\":4323,\"start\":3441},{\"end\":5816,\"start\"...</td>\n",
       "      <td>NaN</td>\n",
       "      <td>[{\"end\":3439,\"start\":3429},{\"end\":7292,\"start\"...</td>\n",
       "      <td>[{\"end\":38677,\"start\":38670},{\"end\":39006,\"sta...</td>\n",
       "      <td>[{\"attributes\":{\"ref_id\":\"tab_0\"},\"end\":7981,\"...</td>\n",
       "      <td>[{\"end\":150,\"start\":1},{\"end\":407,\"start\":258}]</td>\n",
       "      <td>NaN</td>\n",
       "      <td>CCBY</td>\n",
       "      <td>https://microbialcellfactories.biomedcentral.c...</td>\n",
       "      <td>GOLD</td>\n",
       "    </tr>\n",
       "  </tbody>\n",
       "</table>\n",
       "<p>5 rows × 32 columns</p>\n",
       "</div>"
      ],
      "text/plain": [
       "   Unnamed: 0   corpusid                                               text  \\\n",
       "0           0  250150147  \\nNext-Generation Metagenome Sequencing Shows ...   \n",
       "1           1  251969342  \\nProtective roles of cytoplasmic p21 Cip1/Waf...   \n",
       "2           2    7063556  \\nThe Impact of Nutritional Status and Longitu...   \n",
       "3           3   14778566  \\nARTICLE Coarse-grained simulation reveals ke...   \n",
       "4           4     475102  \\nPhysiological relation between respiration a...   \n",
       "\n",
       "  source.pdfurls                             source.pdfsha  source.oainfo  \\\n",
       "0            NaN  a3d95f615d674c56efc6cc0e134a773951328c79            NaN   \n",
       "1            NaN  77d34fefc0ce5bbf0e130f621720f9490e07a1d4            NaN   \n",
       "2            NaN  fcd362c9e4615d887d1600faad9b6e319422a57d            NaN   \n",
       "3            NaN  4c80183d0ae3364fc2db2a9a024222cd2888d662            NaN   \n",
       "4            NaN  a6c6bd1e378da5c7a0561f755808a38f282d8cbd            NaN   \n",
       "\n",
       "          annotations.abstract  \\\n",
       "0  [{\"end\":4475,\"start\":2322}]   \n",
       "1  [{\"end\":3064,\"start\":1441}]   \n",
       "2  [{\"end\":2815,\"start\":1706}]   \n",
       "3  [{\"end\":2734,\"start\":1751}]   \n",
       "4   [{\"end\":3427,\"start\":436}]   \n",
       "\n",
       "                                  annotations.author  \\\n",
       "0  [{\"end\":254,\"start\":245},{\"end\":275,\"start\":25...   \n",
       "1  [{\"end\":270,\"start\":99},{\"end\":371,\"start\":271...   \n",
       "2  [{\"end\":402,\"start\":136},{\"end\":672,\"start\":40...   \n",
       "3  [{\"end\":284,\"start\":109},{\"end\":458,\"start\":28...   \n",
       "4  [{\"end\":169,\"start\":153},{\"end\":172,\"start\":17...   \n",
       "\n",
       "                       annotations.authoraffiliation  \\\n",
       "0  [{\"end\":494,\"start\":385},{\"end\":615,\"start\":50...   \n",
       "1  [{\"end\":198,\"start\":115},{\"end\":269,\"start\":20...   \n",
       "2  [{\"end\":312,\"start\":161},{\"end\":401,\"start\":31...   \n",
       "3  [{\"end\":283,\"start\":125},{\"end\":457,\"start\":29...   \n",
       "4                                                NaN   \n",
       "\n",
       "                         annotations.authorfirstname  ...  \\\n",
       "0  [{\"end\":248,\"start\":245},{\"end\":262,\"start\":25...  ...   \n",
       "1  [{\"end\":104,\"start\":99},{\"end\":278,\"start\":271...  ...   \n",
       "2  [{\"end\":140,\"start\":136},{\"end\":409,\"start\":40...  ...   \n",
       "3  [{\"end\":113,\"start\":109},{\"end\":117,\"start\":11...  ...   \n",
       "4  [{\"end\":159,\"start\":153},{\"end\":161,\"start\":16...  ...   \n",
       "\n",
       "                               annotations.paragraph annotations.publisher  \\\n",
       "0  [{\"end\":5260,\"start\":4491},{\"end\":6886,\"start\"...                   NaN   \n",
       "1  [{\"end\":5305,\"start\":3066},{\"end\":5893,\"start\"...                   NaN   \n",
       "2  [{\"end\":4127,\"start\":2831},{\"end\":4959,\"start\"...                   NaN   \n",
       "3  [{\"end\":3226,\"start\":2736},{\"end\":4255,\"start\"...                   NaN   \n",
       "4  [{\"end\":4323,\"start\":3441},{\"end\":5816,\"start\"...                   NaN   \n",
       "\n",
       "                           annotations.sectionheader  \\\n",
       "0  [{\"end\":4489,\"start\":4477},{\"end\":9898,\"start\"...   \n",
       "1  [{\"attributes\":{\"n\":\"2.1\"},\"end\":5333,\"start\":...   \n",
       "2  [{\"attributes\":{\"n\":\"1.\"},\"end\":2829,\"start\":2...   \n",
       "3  [{\"end\":8028,\"start\":8021},{\"end\":23211,\"start...   \n",
       "4  [{\"end\":3439,\"start\":3429},{\"end\":7292,\"start\"...   \n",
       "\n",
       "                                   annotations.table  \\\n",
       "0  [{\"end\":37053,\"start\":33349},{\"end\":38156,\"sta...   \n",
       "1                                                NaN   \n",
       "2                                                NaN   \n",
       "3  [{\"end\":42963,\"start\":42373},{\"end\":45178,\"sta...   \n",
       "4  [{\"end\":38677,\"start\":38670},{\"end\":39006,\"sta...   \n",
       "\n",
       "                                annotations.tableref  \\\n",
       "0  [{\"attributes\":{\"ref_id\":\"tab_0\"},\"end\":15910,...   \n",
       "1                                                NaN   \n",
       "2                      [{\"end\":14302,\"start\":14295}]   \n",
       "3  [{\"attributes\":{\"ref_id\":\"tab_0\"},\"end\":8877,\"...   \n",
       "4  [{\"attributes\":{\"ref_id\":\"tab_0\"},\"end\":7981,\"...   \n",
       "\n",
       "                                   annotations.title  \\\n",
       "0  [{\"end\":195,\"start\":1},{\"end\":1738,\"start\":1544}]   \n",
       "1   [{\"end\":96,\"start\":1},{\"end\":1271,\"start\":1176}]   \n",
       "2  [{\"end\":129,\"start\":1},{\"end\":1380,\"start\":1252}]   \n",
       "3   [{\"end\":85,\"start\":1},{\"end\":1558,\"start\":1474}]   \n",
       "4    [{\"end\":150,\"start\":1},{\"end\":407,\"start\":258}]   \n",
       "\n",
       "             annotations.venue source.oainfo.license  \\\n",
       "0  [{\"end\":1756,\"start\":1740}]                   NaN   \n",
       "1                          NaN                   NaN   \n",
       "2  [{\"end\":1417,\"start\":1382}]                  CCBY   \n",
       "3                          NaN                  CCBY   \n",
       "4                          NaN                  CCBY   \n",
       "\n",
       "                         source.oainfo.openaccessurl source.oainfo.status  \n",
       "0                                                NaN                  NaN  \n",
       "1                                                NaN                  NaN  \n",
       "2         https://www.mdpi.com/1660-4601/8/1/105/pdf                 GOLD  \n",
       "3                https://doi.org/10.1038/ncomms11568                 GOLD  \n",
       "4  https://microbialcellfactories.biomedcentral.c...                 GOLD  \n",
       "\n",
       "[5 rows x 32 columns]"
      ]
     },
     "execution_count": 4,
     "metadata": {},
     "output_type": "execute_result"
    }
   ],
   "source": [
    "csv = []\n",
    "\n",
    "for i in range(1,31):\n",
    "    csv.append(str(i) + '_full_text.csv')\n",
    "    \n",
    "df = pd.concat(map(pd.read_csv, csv))\n",
    "\n",
    "\n",
    "df.head(5)"
   ]
  },
  {
   "cell_type": "code",
   "execution_count": 5,
   "id": "9c6ba3c7",
   "metadata": {},
   "outputs": [
    {
     "data": {
      "text/plain": [
       "158844"
      ]
     },
     "execution_count": 5,
     "metadata": {},
     "output_type": "execute_result"
    }
   ],
   "source": [
    "len(df)"
   ]
  },
  {
   "cell_type": "code",
   "execution_count": 6,
   "id": "b62143e3",
   "metadata": {},
   "outputs": [
    {
     "data": {
      "text/plain": [
       "True"
      ]
     },
     "execution_count": 6,
     "metadata": {},
     "output_type": "execute_result"
    }
   ],
   "source": [
    "df1 = pd.read_csv('final_corpuslist.csv')\n",
    "\n",
    "set(df['corpusid']).issubset(set(df1['corpusid']))"
   ]
  },
  {
   "cell_type": "code",
   "execution_count": null,
   "id": "55db1b61",
   "metadata": {},
   "outputs": [],
   "source": []
  }
 ],
 "metadata": {
  "kernelspec": {
   "display_name": "Python 3 (ipykernel)",
   "language": "python",
   "name": "python3"
  },
  "language_info": {
   "codemirror_mode": {
    "name": "ipython",
    "version": 3
   },
   "file_extension": ".py",
   "mimetype": "text/x-python",
   "name": "python",
   "nbconvert_exporter": "python",
   "pygments_lexer": "ipython3",
   "version": "3.9.7"
  }
 },
 "nbformat": 4,
 "nbformat_minor": 5
}
