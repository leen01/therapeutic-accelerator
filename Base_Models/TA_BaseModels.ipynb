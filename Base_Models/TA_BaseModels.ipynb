{
  "nbformat": 4,
  "nbformat_minor": 0,
  "metadata": {
    "colab": {
      "provenance": []
    },
    "kernelspec": {
      "name": "python3",
      "display_name": "Python 3"
    },
    "language_info": {
      "name": "python"
    },
    "widgets": {
      "application/vnd.jupyter.widget-state+json": {
        "0cf33300bd7441268fa06b8a96d71d1d": {
          "model_module": "@jupyter-widgets/controls",
          "model_name": "HBoxModel",
          "model_module_version": "1.5.0",
          "state": {
            "_dom_classes": [],
            "_model_module": "@jupyter-widgets/controls",
            "_model_module_version": "1.5.0",
            "_model_name": "HBoxModel",
            "_view_count": null,
            "_view_module": "@jupyter-widgets/controls",
            "_view_module_version": "1.5.0",
            "_view_name": "HBoxView",
            "box_style": "",
            "children": [
              "IPY_MODEL_04a3734df99945b387ac0246d843701d",
              "IPY_MODEL_4be775dc08ea4fd9b6b0a104f5921de5",
              "IPY_MODEL_6c627d5c458e4b2ca946e7536c2523a5"
            ],
            "layout": "IPY_MODEL_d2255ffeb73e4cc5ae73ad0b14c01aab"
          }
        },
        "04a3734df99945b387ac0246d843701d": {
          "model_module": "@jupyter-widgets/controls",
          "model_name": "HTMLModel",
          "model_module_version": "1.5.0",
          "state": {
            "_dom_classes": [],
            "_model_module": "@jupyter-widgets/controls",
            "_model_module_version": "1.5.0",
            "_model_name": "HTMLModel",
            "_view_count": null,
            "_view_module": "@jupyter-widgets/controls",
            "_view_module_version": "1.5.0",
            "_view_name": "HTMLView",
            "description": "",
            "description_tooltip": null,
            "layout": "IPY_MODEL_14b60fb3332b462b82e2d7e09f9f139a",
            "placeholder": "​",
            "style": "IPY_MODEL_f4cc574ad00642e5ac8e5e3dcb633ac6",
            "value": "Downloading (…)ve/main/spiece.model: 100%"
          }
        },
        "4be775dc08ea4fd9b6b0a104f5921de5": {
          "model_module": "@jupyter-widgets/controls",
          "model_name": "FloatProgressModel",
          "model_module_version": "1.5.0",
          "state": {
            "_dom_classes": [],
            "_model_module": "@jupyter-widgets/controls",
            "_model_module_version": "1.5.0",
            "_model_name": "FloatProgressModel",
            "_view_count": null,
            "_view_module": "@jupyter-widgets/controls",
            "_view_module_version": "1.5.0",
            "_view_name": "ProgressView",
            "bar_style": "success",
            "description": "",
            "description_tooltip": null,
            "layout": "IPY_MODEL_ff9370b8dd6748099c666684e7c1b2ec",
            "max": 791656,
            "min": 0,
            "orientation": "horizontal",
            "style": "IPY_MODEL_1cecb86e1abd4ebca6a640303c9e39ea",
            "value": 791656
          }
        },
        "6c627d5c458e4b2ca946e7536c2523a5": {
          "model_module": "@jupyter-widgets/controls",
          "model_name": "HTMLModel",
          "model_module_version": "1.5.0",
          "state": {
            "_dom_classes": [],
            "_model_module": "@jupyter-widgets/controls",
            "_model_module_version": "1.5.0",
            "_model_name": "HTMLModel",
            "_view_count": null,
            "_view_module": "@jupyter-widgets/controls",
            "_view_module_version": "1.5.0",
            "_view_name": "HTMLView",
            "description": "",
            "description_tooltip": null,
            "layout": "IPY_MODEL_3f05034a339a4ddea3361c9e36590d76",
            "placeholder": "​",
            "style": "IPY_MODEL_c551ac535fe14ab59ed21dd6a38e13e3",
            "value": " 792k/792k [00:00&lt;00:00, 8.84MB/s]"
          }
        },
        "d2255ffeb73e4cc5ae73ad0b14c01aab": {
          "model_module": "@jupyter-widgets/base",
          "model_name": "LayoutModel",
          "model_module_version": "1.2.0",
          "state": {
            "_model_module": "@jupyter-widgets/base",
            "_model_module_version": "1.2.0",
            "_model_name": "LayoutModel",
            "_view_count": null,
            "_view_module": "@jupyter-widgets/base",
            "_view_module_version": "1.2.0",
            "_view_name": "LayoutView",
            "align_content": null,
            "align_items": null,
            "align_self": null,
            "border": null,
            "bottom": null,
            "display": null,
            "flex": null,
            "flex_flow": null,
            "grid_area": null,
            "grid_auto_columns": null,
            "grid_auto_flow": null,
            "grid_auto_rows": null,
            "grid_column": null,
            "grid_gap": null,
            "grid_row": null,
            "grid_template_areas": null,
            "grid_template_columns": null,
            "grid_template_rows": null,
            "height": null,
            "justify_content": null,
            "justify_items": null,
            "left": null,
            "margin": null,
            "max_height": null,
            "max_width": null,
            "min_height": null,
            "min_width": null,
            "object_fit": null,
            "object_position": null,
            "order": null,
            "overflow": null,
            "overflow_x": null,
            "overflow_y": null,
            "padding": null,
            "right": null,
            "top": null,
            "visibility": null,
            "width": null
          }
        },
        "14b60fb3332b462b82e2d7e09f9f139a": {
          "model_module": "@jupyter-widgets/base",
          "model_name": "LayoutModel",
          "model_module_version": "1.2.0",
          "state": {
            "_model_module": "@jupyter-widgets/base",
            "_model_module_version": "1.2.0",
            "_model_name": "LayoutModel",
            "_view_count": null,
            "_view_module": "@jupyter-widgets/base",
            "_view_module_version": "1.2.0",
            "_view_name": "LayoutView",
            "align_content": null,
            "align_items": null,
            "align_self": null,
            "border": null,
            "bottom": null,
            "display": null,
            "flex": null,
            "flex_flow": null,
            "grid_area": null,
            "grid_auto_columns": null,
            "grid_auto_flow": null,
            "grid_auto_rows": null,
            "grid_column": null,
            "grid_gap": null,
            "grid_row": null,
            "grid_template_areas": null,
            "grid_template_columns": null,
            "grid_template_rows": null,
            "height": null,
            "justify_content": null,
            "justify_items": null,
            "left": null,
            "margin": null,
            "max_height": null,
            "max_width": null,
            "min_height": null,
            "min_width": null,
            "object_fit": null,
            "object_position": null,
            "order": null,
            "overflow": null,
            "overflow_x": null,
            "overflow_y": null,
            "padding": null,
            "right": null,
            "top": null,
            "visibility": null,
            "width": null
          }
        },
        "f4cc574ad00642e5ac8e5e3dcb633ac6": {
          "model_module": "@jupyter-widgets/controls",
          "model_name": "DescriptionStyleModel",
          "model_module_version": "1.5.0",
          "state": {
            "_model_module": "@jupyter-widgets/controls",
            "_model_module_version": "1.5.0",
            "_model_name": "DescriptionStyleModel",
            "_view_count": null,
            "_view_module": "@jupyter-widgets/base",
            "_view_module_version": "1.2.0",
            "_view_name": "StyleView",
            "description_width": ""
          }
        },
        "ff9370b8dd6748099c666684e7c1b2ec": {
          "model_module": "@jupyter-widgets/base",
          "model_name": "LayoutModel",
          "model_module_version": "1.2.0",
          "state": {
            "_model_module": "@jupyter-widgets/base",
            "_model_module_version": "1.2.0",
            "_model_name": "LayoutModel",
            "_view_count": null,
            "_view_module": "@jupyter-widgets/base",
            "_view_module_version": "1.2.0",
            "_view_name": "LayoutView",
            "align_content": null,
            "align_items": null,
            "align_self": null,
            "border": null,
            "bottom": null,
            "display": null,
            "flex": null,
            "flex_flow": null,
            "grid_area": null,
            "grid_auto_columns": null,
            "grid_auto_flow": null,
            "grid_auto_rows": null,
            "grid_column": null,
            "grid_gap": null,
            "grid_row": null,
            "grid_template_areas": null,
            "grid_template_columns": null,
            "grid_template_rows": null,
            "height": null,
            "justify_content": null,
            "justify_items": null,
            "left": null,
            "margin": null,
            "max_height": null,
            "max_width": null,
            "min_height": null,
            "min_width": null,
            "object_fit": null,
            "object_position": null,
            "order": null,
            "overflow": null,
            "overflow_x": null,
            "overflow_y": null,
            "padding": null,
            "right": null,
            "top": null,
            "visibility": null,
            "width": null
          }
        },
        "1cecb86e1abd4ebca6a640303c9e39ea": {
          "model_module": "@jupyter-widgets/controls",
          "model_name": "ProgressStyleModel",
          "model_module_version": "1.5.0",
          "state": {
            "_model_module": "@jupyter-widgets/controls",
            "_model_module_version": "1.5.0",
            "_model_name": "ProgressStyleModel",
            "_view_count": null,
            "_view_module": "@jupyter-widgets/base",
            "_view_module_version": "1.2.0",
            "_view_name": "StyleView",
            "bar_color": null,
            "description_width": ""
          }
        },
        "3f05034a339a4ddea3361c9e36590d76": {
          "model_module": "@jupyter-widgets/base",
          "model_name": "LayoutModel",
          "model_module_version": "1.2.0",
          "state": {
            "_model_module": "@jupyter-widgets/base",
            "_model_module_version": "1.2.0",
            "_model_name": "LayoutModel",
            "_view_count": null,
            "_view_module": "@jupyter-widgets/base",
            "_view_module_version": "1.2.0",
            "_view_name": "LayoutView",
            "align_content": null,
            "align_items": null,
            "align_self": null,
            "border": null,
            "bottom": null,
            "display": null,
            "flex": null,
            "flex_flow": null,
            "grid_area": null,
            "grid_auto_columns": null,
            "grid_auto_flow": null,
            "grid_auto_rows": null,
            "grid_column": null,
            "grid_gap": null,
            "grid_row": null,
            "grid_template_areas": null,
            "grid_template_columns": null,
            "grid_template_rows": null,
            "height": null,
            "justify_content": null,
            "justify_items": null,
            "left": null,
            "margin": null,
            "max_height": null,
            "max_width": null,
            "min_height": null,
            "min_width": null,
            "object_fit": null,
            "object_position": null,
            "order": null,
            "overflow": null,
            "overflow_x": null,
            "overflow_y": null,
            "padding": null,
            "right": null,
            "top": null,
            "visibility": null,
            "width": null
          }
        },
        "c551ac535fe14ab59ed21dd6a38e13e3": {
          "model_module": "@jupyter-widgets/controls",
          "model_name": "DescriptionStyleModel",
          "model_module_version": "1.5.0",
          "state": {
            "_model_module": "@jupyter-widgets/controls",
            "_model_module_version": "1.5.0",
            "_model_name": "DescriptionStyleModel",
            "_view_count": null,
            "_view_module": "@jupyter-widgets/base",
            "_view_module_version": "1.2.0",
            "_view_name": "StyleView",
            "description_width": ""
          }
        },
        "510dc194a105444fa739382c107e469d": {
          "model_module": "@jupyter-widgets/controls",
          "model_name": "HBoxModel",
          "model_module_version": "1.5.0",
          "state": {
            "_dom_classes": [],
            "_model_module": "@jupyter-widgets/controls",
            "_model_module_version": "1.5.0",
            "_model_name": "HBoxModel",
            "_view_count": null,
            "_view_module": "@jupyter-widgets/controls",
            "_view_module_version": "1.5.0",
            "_view_name": "HBoxView",
            "box_style": "",
            "children": [
              "IPY_MODEL_0001e275454f4667a10bebea635a33d5",
              "IPY_MODEL_79daafe6f4d643d7b846ab4c13fdbed8",
              "IPY_MODEL_4f1bb584a97b4465870f9e65951c1c04"
            ],
            "layout": "IPY_MODEL_26f6cb1a22804d28be68ea5958dd5c3d"
          }
        },
        "0001e275454f4667a10bebea635a33d5": {
          "model_module": "@jupyter-widgets/controls",
          "model_name": "HTMLModel",
          "model_module_version": "1.5.0",
          "state": {
            "_dom_classes": [],
            "_model_module": "@jupyter-widgets/controls",
            "_model_module_version": "1.5.0",
            "_model_name": "HTMLModel",
            "_view_count": null,
            "_view_module": "@jupyter-widgets/controls",
            "_view_module_version": "1.5.0",
            "_view_name": "HTMLView",
            "description": "",
            "description_tooltip": null,
            "layout": "IPY_MODEL_1d2c6c5c826c4902a7ead5351de7b186",
            "placeholder": "​",
            "style": "IPY_MODEL_748dbe35b43744e9828377cc226c0a34",
            "value": "Downloading (…)olve/main/vocab.json: 100%"
          }
        },
        "79daafe6f4d643d7b846ab4c13fdbed8": {
          "model_module": "@jupyter-widgets/controls",
          "model_name": "FloatProgressModel",
          "model_module_version": "1.5.0",
          "state": {
            "_dom_classes": [],
            "_model_module": "@jupyter-widgets/controls",
            "_model_module_version": "1.5.0",
            "_model_name": "FloatProgressModel",
            "_view_count": null,
            "_view_module": "@jupyter-widgets/controls",
            "_view_module_version": "1.5.0",
            "_view_name": "ProgressView",
            "bar_style": "success",
            "description": "",
            "description_tooltip": null,
            "layout": "IPY_MODEL_3f2f8da3ac4540acb28e0012592eb4a0",
            "max": 927059,
            "min": 0,
            "orientation": "horizontal",
            "style": "IPY_MODEL_de75b7c8743a4fb0abcd891f8b8e8d4d",
            "value": 927059
          }
        },
        "4f1bb584a97b4465870f9e65951c1c04": {
          "model_module": "@jupyter-widgets/controls",
          "model_name": "HTMLModel",
          "model_module_version": "1.5.0",
          "state": {
            "_dom_classes": [],
            "_model_module": "@jupyter-widgets/controls",
            "_model_module_version": "1.5.0",
            "_model_name": "HTMLModel",
            "_view_count": null,
            "_view_module": "@jupyter-widgets/controls",
            "_view_module_version": "1.5.0",
            "_view_name": "HTMLView",
            "description": "",
            "description_tooltip": null,
            "layout": "IPY_MODEL_ed878c4046fa46a59986233db6ad2cf9",
            "placeholder": "​",
            "style": "IPY_MODEL_6559a9587c704ab6b76ab0286a2b6fcc",
            "value": " 927k/927k [00:00&lt;00:00, 9.71MB/s]"
          }
        },
        "26f6cb1a22804d28be68ea5958dd5c3d": {
          "model_module": "@jupyter-widgets/base",
          "model_name": "LayoutModel",
          "model_module_version": "1.2.0",
          "state": {
            "_model_module": "@jupyter-widgets/base",
            "_model_module_version": "1.2.0",
            "_model_name": "LayoutModel",
            "_view_count": null,
            "_view_module": "@jupyter-widgets/base",
            "_view_module_version": "1.2.0",
            "_view_name": "LayoutView",
            "align_content": null,
            "align_items": null,
            "align_self": null,
            "border": null,
            "bottom": null,
            "display": null,
            "flex": null,
            "flex_flow": null,
            "grid_area": null,
            "grid_auto_columns": null,
            "grid_auto_flow": null,
            "grid_auto_rows": null,
            "grid_column": null,
            "grid_gap": null,
            "grid_row": null,
            "grid_template_areas": null,
            "grid_template_columns": null,
            "grid_template_rows": null,
            "height": null,
            "justify_content": null,
            "justify_items": null,
            "left": null,
            "margin": null,
            "max_height": null,
            "max_width": null,
            "min_height": null,
            "min_width": null,
            "object_fit": null,
            "object_position": null,
            "order": null,
            "overflow": null,
            "overflow_x": null,
            "overflow_y": null,
            "padding": null,
            "right": null,
            "top": null,
            "visibility": null,
            "width": null
          }
        },
        "1d2c6c5c826c4902a7ead5351de7b186": {
          "model_module": "@jupyter-widgets/base",
          "model_name": "LayoutModel",
          "model_module_version": "1.2.0",
          "state": {
            "_model_module": "@jupyter-widgets/base",
            "_model_module_version": "1.2.0",
            "_model_name": "LayoutModel",
            "_view_count": null,
            "_view_module": "@jupyter-widgets/base",
            "_view_module_version": "1.2.0",
            "_view_name": "LayoutView",
            "align_content": null,
            "align_items": null,
            "align_self": null,
            "border": null,
            "bottom": null,
            "display": null,
            "flex": null,
            "flex_flow": null,
            "grid_area": null,
            "grid_auto_columns": null,
            "grid_auto_flow": null,
            "grid_auto_rows": null,
            "grid_column": null,
            "grid_gap": null,
            "grid_row": null,
            "grid_template_areas": null,
            "grid_template_columns": null,
            "grid_template_rows": null,
            "height": null,
            "justify_content": null,
            "justify_items": null,
            "left": null,
            "margin": null,
            "max_height": null,
            "max_width": null,
            "min_height": null,
            "min_width": null,
            "object_fit": null,
            "object_position": null,
            "order": null,
            "overflow": null,
            "overflow_x": null,
            "overflow_y": null,
            "padding": null,
            "right": null,
            "top": null,
            "visibility": null,
            "width": null
          }
        },
        "748dbe35b43744e9828377cc226c0a34": {
          "model_module": "@jupyter-widgets/controls",
          "model_name": "DescriptionStyleModel",
          "model_module_version": "1.5.0",
          "state": {
            "_model_module": "@jupyter-widgets/controls",
            "_model_module_version": "1.5.0",
            "_model_name": "DescriptionStyleModel",
            "_view_count": null,
            "_view_module": "@jupyter-widgets/base",
            "_view_module_version": "1.2.0",
            "_view_name": "StyleView",
            "description_width": ""
          }
        },
        "3f2f8da3ac4540acb28e0012592eb4a0": {
          "model_module": "@jupyter-widgets/base",
          "model_name": "LayoutModel",
          "model_module_version": "1.2.0",
          "state": {
            "_model_module": "@jupyter-widgets/base",
            "_model_module_version": "1.2.0",
            "_model_name": "LayoutModel",
            "_view_count": null,
            "_view_module": "@jupyter-widgets/base",
            "_view_module_version": "1.2.0",
            "_view_name": "LayoutView",
            "align_content": null,
            "align_items": null,
            "align_self": null,
            "border": null,
            "bottom": null,
            "display": null,
            "flex": null,
            "flex_flow": null,
            "grid_area": null,
            "grid_auto_columns": null,
            "grid_auto_flow": null,
            "grid_auto_rows": null,
            "grid_column": null,
            "grid_gap": null,
            "grid_row": null,
            "grid_template_areas": null,
            "grid_template_columns": null,
            "grid_template_rows": null,
            "height": null,
            "justify_content": null,
            "justify_items": null,
            "left": null,
            "margin": null,
            "max_height": null,
            "max_width": null,
            "min_height": null,
            "min_width": null,
            "object_fit": null,
            "object_position": null,
            "order": null,
            "overflow": null,
            "overflow_x": null,
            "overflow_y": null,
            "padding": null,
            "right": null,
            "top": null,
            "visibility": null,
            "width": null
          }
        },
        "de75b7c8743a4fb0abcd891f8b8e8d4d": {
          "model_module": "@jupyter-widgets/controls",
          "model_name": "ProgressStyleModel",
          "model_module_version": "1.5.0",
          "state": {
            "_model_module": "@jupyter-widgets/controls",
            "_model_module_version": "1.5.0",
            "_model_name": "ProgressStyleModel",
            "_view_count": null,
            "_view_module": "@jupyter-widgets/base",
            "_view_module_version": "1.2.0",
            "_view_name": "StyleView",
            "bar_color": null,
            "description_width": ""
          }
        },
        "ed878c4046fa46a59986233db6ad2cf9": {
          "model_module": "@jupyter-widgets/base",
          "model_name": "LayoutModel",
          "model_module_version": "1.2.0",
          "state": {
            "_model_module": "@jupyter-widgets/base",
            "_model_module_version": "1.2.0",
            "_model_name": "LayoutModel",
            "_view_count": null,
            "_view_module": "@jupyter-widgets/base",
            "_view_module_version": "1.2.0",
            "_view_name": "LayoutView",
            "align_content": null,
            "align_items": null,
            "align_self": null,
            "border": null,
            "bottom": null,
            "display": null,
            "flex": null,
            "flex_flow": null,
            "grid_area": null,
            "grid_auto_columns": null,
            "grid_auto_flow": null,
            "grid_auto_rows": null,
            "grid_column": null,
            "grid_gap": null,
            "grid_row": null,
            "grid_template_areas": null,
            "grid_template_columns": null,
            "grid_template_rows": null,
            "height": null,
            "justify_content": null,
            "justify_items": null,
            "left": null,
            "margin": null,
            "max_height": null,
            "max_width": null,
            "min_height": null,
            "min_width": null,
            "object_fit": null,
            "object_position": null,
            "order": null,
            "overflow": null,
            "overflow_x": null,
            "overflow_y": null,
            "padding": null,
            "right": null,
            "top": null,
            "visibility": null,
            "width": null
          }
        },
        "6559a9587c704ab6b76ab0286a2b6fcc": {
          "model_module": "@jupyter-widgets/controls",
          "model_name": "DescriptionStyleModel",
          "model_module_version": "1.5.0",
          "state": {
            "_model_module": "@jupyter-widgets/controls",
            "_model_module_version": "1.5.0",
            "_model_name": "DescriptionStyleModel",
            "_view_count": null,
            "_view_module": "@jupyter-widgets/base",
            "_view_module_version": "1.2.0",
            "_view_name": "StyleView",
            "description_width": ""
          }
        },
        "09ec1ab267d5417685078b678eefde0c": {
          "model_module": "@jupyter-widgets/controls",
          "model_name": "HBoxModel",
          "model_module_version": "1.5.0",
          "state": {
            "_dom_classes": [],
            "_model_module": "@jupyter-widgets/controls",
            "_model_module_version": "1.5.0",
            "_model_name": "HBoxModel",
            "_view_count": null,
            "_view_module": "@jupyter-widgets/controls",
            "_view_module_version": "1.5.0",
            "_view_name": "HBoxView",
            "box_style": "",
            "children": [
              "IPY_MODEL_1c5a8385c2dc4206b41d23a03627721d",
              "IPY_MODEL_112530c0c3c44bef905e2c6d7846c2f5",
              "IPY_MODEL_cdd6d71682c34908810193510f911c59"
            ],
            "layout": "IPY_MODEL_a3263dbbdbfd40c6b19111e93759c40f"
          }
        },
        "1c5a8385c2dc4206b41d23a03627721d": {
          "model_module": "@jupyter-widgets/controls",
          "model_name": "HTMLModel",
          "model_module_version": "1.5.0",
          "state": {
            "_dom_classes": [],
            "_model_module": "@jupyter-widgets/controls",
            "_model_module_version": "1.5.0",
            "_model_name": "HTMLModel",
            "_view_count": null,
            "_view_module": "@jupyter-widgets/controls",
            "_view_module_version": "1.5.0",
            "_view_name": "HTMLView",
            "description": "",
            "description_tooltip": null,
            "layout": "IPY_MODEL_ac085e3803b04d1a968f531f6fbe75f0",
            "placeholder": "​",
            "style": "IPY_MODEL_92833490d9174f76896423f53e42c40b",
            "value": "Downloading (…)olve/main/merges.txt: 100%"
          }
        },
        "112530c0c3c44bef905e2c6d7846c2f5": {
          "model_module": "@jupyter-widgets/controls",
          "model_name": "FloatProgressModel",
          "model_module_version": "1.5.0",
          "state": {
            "_dom_classes": [],
            "_model_module": "@jupyter-widgets/controls",
            "_model_module_version": "1.5.0",
            "_model_name": "FloatProgressModel",
            "_view_count": null,
            "_view_module": "@jupyter-widgets/controls",
            "_view_module_version": "1.5.0",
            "_view_name": "ProgressView",
            "bar_style": "success",
            "description": "",
            "description_tooltip": null,
            "layout": "IPY_MODEL_c3568587310a4ad98beae293d72e8815",
            "max": 696298,
            "min": 0,
            "orientation": "horizontal",
            "style": "IPY_MODEL_ba93b9ade4854278957ccbaeef2a2274",
            "value": 696298
          }
        },
        "cdd6d71682c34908810193510f911c59": {
          "model_module": "@jupyter-widgets/controls",
          "model_name": "HTMLModel",
          "model_module_version": "1.5.0",
          "state": {
            "_dom_classes": [],
            "_model_module": "@jupyter-widgets/controls",
            "_model_module_version": "1.5.0",
            "_model_name": "HTMLModel",
            "_view_count": null,
            "_view_module": "@jupyter-widgets/controls",
            "_view_module_version": "1.5.0",
            "_view_name": "HTMLView",
            "description": "",
            "description_tooltip": null,
            "layout": "IPY_MODEL_96198d981f9d491d90fc837eb0ec395c",
            "placeholder": "​",
            "style": "IPY_MODEL_8680cbfb096e4ec59bdbd16f62e363bb",
            "value": " 696k/696k [00:00&lt;00:00, 23.0MB/s]"
          }
        },
        "a3263dbbdbfd40c6b19111e93759c40f": {
          "model_module": "@jupyter-widgets/base",
          "model_name": "LayoutModel",
          "model_module_version": "1.2.0",
          "state": {
            "_model_module": "@jupyter-widgets/base",
            "_model_module_version": "1.2.0",
            "_model_name": "LayoutModel",
            "_view_count": null,
            "_view_module": "@jupyter-widgets/base",
            "_view_module_version": "1.2.0",
            "_view_name": "LayoutView",
            "align_content": null,
            "align_items": null,
            "align_self": null,
            "border": null,
            "bottom": null,
            "display": null,
            "flex": null,
            "flex_flow": null,
            "grid_area": null,
            "grid_auto_columns": null,
            "grid_auto_flow": null,
            "grid_auto_rows": null,
            "grid_column": null,
            "grid_gap": null,
            "grid_row": null,
            "grid_template_areas": null,
            "grid_template_columns": null,
            "grid_template_rows": null,
            "height": null,
            "justify_content": null,
            "justify_items": null,
            "left": null,
            "margin": null,
            "max_height": null,
            "max_width": null,
            "min_height": null,
            "min_width": null,
            "object_fit": null,
            "object_position": null,
            "order": null,
            "overflow": null,
            "overflow_x": null,
            "overflow_y": null,
            "padding": null,
            "right": null,
            "top": null,
            "visibility": null,
            "width": null
          }
        },
        "ac085e3803b04d1a968f531f6fbe75f0": {
          "model_module": "@jupyter-widgets/base",
          "model_name": "LayoutModel",
          "model_module_version": "1.2.0",
          "state": {
            "_model_module": "@jupyter-widgets/base",
            "_model_module_version": "1.2.0",
            "_model_name": "LayoutModel",
            "_view_count": null,
            "_view_module": "@jupyter-widgets/base",
            "_view_module_version": "1.2.0",
            "_view_name": "LayoutView",
            "align_content": null,
            "align_items": null,
            "align_self": null,
            "border": null,
            "bottom": null,
            "display": null,
            "flex": null,
            "flex_flow": null,
            "grid_area": null,
            "grid_auto_columns": null,
            "grid_auto_flow": null,
            "grid_auto_rows": null,
            "grid_column": null,
            "grid_gap": null,
            "grid_row": null,
            "grid_template_areas": null,
            "grid_template_columns": null,
            "grid_template_rows": null,
            "height": null,
            "justify_content": null,
            "justify_items": null,
            "left": null,
            "margin": null,
            "max_height": null,
            "max_width": null,
            "min_height": null,
            "min_width": null,
            "object_fit": null,
            "object_position": null,
            "order": null,
            "overflow": null,
            "overflow_x": null,
            "overflow_y": null,
            "padding": null,
            "right": null,
            "top": null,
            "visibility": null,
            "width": null
          }
        },
        "92833490d9174f76896423f53e42c40b": {
          "model_module": "@jupyter-widgets/controls",
          "model_name": "DescriptionStyleModel",
          "model_module_version": "1.5.0",
          "state": {
            "_model_module": "@jupyter-widgets/controls",
            "_model_module_version": "1.5.0",
            "_model_name": "DescriptionStyleModel",
            "_view_count": null,
            "_view_module": "@jupyter-widgets/base",
            "_view_module_version": "1.2.0",
            "_view_name": "StyleView",
            "description_width": ""
          }
        },
        "c3568587310a4ad98beae293d72e8815": {
          "model_module": "@jupyter-widgets/base",
          "model_name": "LayoutModel",
          "model_module_version": "1.2.0",
          "state": {
            "_model_module": "@jupyter-widgets/base",
            "_model_module_version": "1.2.0",
            "_model_name": "LayoutModel",
            "_view_count": null,
            "_view_module": "@jupyter-widgets/base",
            "_view_module_version": "1.2.0",
            "_view_name": "LayoutView",
            "align_content": null,
            "align_items": null,
            "align_self": null,
            "border": null,
            "bottom": null,
            "display": null,
            "flex": null,
            "flex_flow": null,
            "grid_area": null,
            "grid_auto_columns": null,
            "grid_auto_flow": null,
            "grid_auto_rows": null,
            "grid_column": null,
            "grid_gap": null,
            "grid_row": null,
            "grid_template_areas": null,
            "grid_template_columns": null,
            "grid_template_rows": null,
            "height": null,
            "justify_content": null,
            "justify_items": null,
            "left": null,
            "margin": null,
            "max_height": null,
            "max_width": null,
            "min_height": null,
            "min_width": null,
            "object_fit": null,
            "object_position": null,
            "order": null,
            "overflow": null,
            "overflow_x": null,
            "overflow_y": null,
            "padding": null,
            "right": null,
            "top": null,
            "visibility": null,
            "width": null
          }
        },
        "ba93b9ade4854278957ccbaeef2a2274": {
          "model_module": "@jupyter-widgets/controls",
          "model_name": "ProgressStyleModel",
          "model_module_version": "1.5.0",
          "state": {
            "_model_module": "@jupyter-widgets/controls",
            "_model_module_version": "1.5.0",
            "_model_name": "ProgressStyleModel",
            "_view_count": null,
            "_view_module": "@jupyter-widgets/base",
            "_view_module_version": "1.2.0",
            "_view_name": "StyleView",
            "bar_color": null,
            "description_width": ""
          }
        },
        "96198d981f9d491d90fc837eb0ec395c": {
          "model_module": "@jupyter-widgets/base",
          "model_name": "LayoutModel",
          "model_module_version": "1.2.0",
          "state": {
            "_model_module": "@jupyter-widgets/base",
            "_model_module_version": "1.2.0",
            "_model_name": "LayoutModel",
            "_view_count": null,
            "_view_module": "@jupyter-widgets/base",
            "_view_module_version": "1.2.0",
            "_view_name": "LayoutView",
            "align_content": null,
            "align_items": null,
            "align_self": null,
            "border": null,
            "bottom": null,
            "display": null,
            "flex": null,
            "flex_flow": null,
            "grid_area": null,
            "grid_auto_columns": null,
            "grid_auto_flow": null,
            "grid_auto_rows": null,
            "grid_column": null,
            "grid_gap": null,
            "grid_row": null,
            "grid_template_areas": null,
            "grid_template_columns": null,
            "grid_template_rows": null,
            "height": null,
            "justify_content": null,
            "justify_items": null,
            "left": null,
            "margin": null,
            "max_height": null,
            "max_width": null,
            "min_height": null,
            "min_width": null,
            "object_fit": null,
            "object_position": null,
            "order": null,
            "overflow": null,
            "overflow_x": null,
            "overflow_y": null,
            "padding": null,
            "right": null,
            "top": null,
            "visibility": null,
            "width": null
          }
        },
        "8680cbfb096e4ec59bdbd16f62e363bb": {
          "model_module": "@jupyter-widgets/controls",
          "model_name": "DescriptionStyleModel",
          "model_module_version": "1.5.0",
          "state": {
            "_model_module": "@jupyter-widgets/controls",
            "_model_module_version": "1.5.0",
            "_model_name": "DescriptionStyleModel",
            "_view_count": null,
            "_view_module": "@jupyter-widgets/base",
            "_view_module_version": "1.2.0",
            "_view_name": "StyleView",
            "description_width": ""
          }
        },
        "5b94c6aaf70c465e860693c10646db59": {
          "model_module": "@jupyter-widgets/controls",
          "model_name": "HBoxModel",
          "model_module_version": "1.5.0",
          "state": {
            "_dom_classes": [],
            "_model_module": "@jupyter-widgets/controls",
            "_model_module_version": "1.5.0",
            "_model_name": "HBoxModel",
            "_view_count": null,
            "_view_module": "@jupyter-widgets/controls",
            "_view_module_version": "1.5.0",
            "_view_name": "HBoxView",
            "box_style": "",
            "children": [
              "IPY_MODEL_92ad1e4a1dac4ac29c140031f52715eb",
              "IPY_MODEL_c60a436815804d0fab89a71334585ff0",
              "IPY_MODEL_e1c5c4fa9f8c4cc38ae1f08c4b5d8545"
            ],
            "layout": "IPY_MODEL_a9b5a4c88ca64ce789aaa6252b31c031"
          }
        },
        "92ad1e4a1dac4ac29c140031f52715eb": {
          "model_module": "@jupyter-widgets/controls",
          "model_name": "HTMLModel",
          "model_module_version": "1.5.0",
          "state": {
            "_dom_classes": [],
            "_model_module": "@jupyter-widgets/controls",
            "_model_module_version": "1.5.0",
            "_model_name": "HTMLModel",
            "_view_count": null,
            "_view_module": "@jupyter-widgets/controls",
            "_view_module_version": "1.5.0",
            "_view_name": "HTMLView",
            "description": "",
            "description_tooltip": null,
            "layout": "IPY_MODEL_3a16cc2741864c7486049635f4172f66",
            "placeholder": "​",
            "style": "IPY_MODEL_3a1c8c3d3ccd441f8b38858897f161b4",
            "value": "Downloading (…)lve/main/config.json: 100%"
          }
        },
        "c60a436815804d0fab89a71334585ff0": {
          "model_module": "@jupyter-widgets/controls",
          "model_name": "FloatProgressModel",
          "model_module_version": "1.5.0",
          "state": {
            "_dom_classes": [],
            "_model_module": "@jupyter-widgets/controls",
            "_model_module_version": "1.5.0",
            "_model_name": "FloatProgressModel",
            "_view_count": null,
            "_view_module": "@jupyter-widgets/controls",
            "_view_module_version": "1.5.0",
            "_view_name": "ProgressView",
            "bar_style": "success",
            "description": "",
            "description_tooltip": null,
            "layout": "IPY_MODEL_300a654f25f24f8389da764d39ec9d7e",
            "max": 595,
            "min": 0,
            "orientation": "horizontal",
            "style": "IPY_MODEL_687b0d6527aa42bbb37ad5851e0ec961",
            "value": 595
          }
        },
        "e1c5c4fa9f8c4cc38ae1f08c4b5d8545": {
          "model_module": "@jupyter-widgets/controls",
          "model_name": "HTMLModel",
          "model_module_version": "1.5.0",
          "state": {
            "_dom_classes": [],
            "_model_module": "@jupyter-widgets/controls",
            "_model_module_version": "1.5.0",
            "_model_name": "HTMLModel",
            "_view_count": null,
            "_view_module": "@jupyter-widgets/controls",
            "_view_module_version": "1.5.0",
            "_view_name": "HTMLView",
            "description": "",
            "description_tooltip": null,
            "layout": "IPY_MODEL_6b04b4a3516542f2a91c2a52baa97fd1",
            "placeholder": "​",
            "style": "IPY_MODEL_f9d2243240c14d658b885401a019af3c",
            "value": " 595/595 [00:00&lt;00:00, 33.5kB/s]"
          }
        },
        "a9b5a4c88ca64ce789aaa6252b31c031": {
          "model_module": "@jupyter-widgets/base",
          "model_name": "LayoutModel",
          "model_module_version": "1.2.0",
          "state": {
            "_model_module": "@jupyter-widgets/base",
            "_model_module_version": "1.2.0",
            "_model_name": "LayoutModel",
            "_view_count": null,
            "_view_module": "@jupyter-widgets/base",
            "_view_module_version": "1.2.0",
            "_view_name": "LayoutView",
            "align_content": null,
            "align_items": null,
            "align_self": null,
            "border": null,
            "bottom": null,
            "display": null,
            "flex": null,
            "flex_flow": null,
            "grid_area": null,
            "grid_auto_columns": null,
            "grid_auto_flow": null,
            "grid_auto_rows": null,
            "grid_column": null,
            "grid_gap": null,
            "grid_row": null,
            "grid_template_areas": null,
            "grid_template_columns": null,
            "grid_template_rows": null,
            "height": null,
            "justify_content": null,
            "justify_items": null,
            "left": null,
            "margin": null,
            "max_height": null,
            "max_width": null,
            "min_height": null,
            "min_width": null,
            "object_fit": null,
            "object_position": null,
            "order": null,
            "overflow": null,
            "overflow_x": null,
            "overflow_y": null,
            "padding": null,
            "right": null,
            "top": null,
            "visibility": null,
            "width": null
          }
        },
        "3a16cc2741864c7486049635f4172f66": {
          "model_module": "@jupyter-widgets/base",
          "model_name": "LayoutModel",
          "model_module_version": "1.2.0",
          "state": {
            "_model_module": "@jupyter-widgets/base",
            "_model_module_version": "1.2.0",
            "_model_name": "LayoutModel",
            "_view_count": null,
            "_view_module": "@jupyter-widgets/base",
            "_view_module_version": "1.2.0",
            "_view_name": "LayoutView",
            "align_content": null,
            "align_items": null,
            "align_self": null,
            "border": null,
            "bottom": null,
            "display": null,
            "flex": null,
            "flex_flow": null,
            "grid_area": null,
            "grid_auto_columns": null,
            "grid_auto_flow": null,
            "grid_auto_rows": null,
            "grid_column": null,
            "grid_gap": null,
            "grid_row": null,
            "grid_template_areas": null,
            "grid_template_columns": null,
            "grid_template_rows": null,
            "height": null,
            "justify_content": null,
            "justify_items": null,
            "left": null,
            "margin": null,
            "max_height": null,
            "max_width": null,
            "min_height": null,
            "min_width": null,
            "object_fit": null,
            "object_position": null,
            "order": null,
            "overflow": null,
            "overflow_x": null,
            "overflow_y": null,
            "padding": null,
            "right": null,
            "top": null,
            "visibility": null,
            "width": null
          }
        },
        "3a1c8c3d3ccd441f8b38858897f161b4": {
          "model_module": "@jupyter-widgets/controls",
          "model_name": "DescriptionStyleModel",
          "model_module_version": "1.5.0",
          "state": {
            "_model_module": "@jupyter-widgets/controls",
            "_model_module_version": "1.5.0",
            "_model_name": "DescriptionStyleModel",
            "_view_count": null,
            "_view_module": "@jupyter-widgets/base",
            "_view_module_version": "1.2.0",
            "_view_name": "StyleView",
            "description_width": ""
          }
        },
        "300a654f25f24f8389da764d39ec9d7e": {
          "model_module": "@jupyter-widgets/base",
          "model_name": "LayoutModel",
          "model_module_version": "1.2.0",
          "state": {
            "_model_module": "@jupyter-widgets/base",
            "_model_module_version": "1.2.0",
            "_model_name": "LayoutModel",
            "_view_count": null,
            "_view_module": "@jupyter-widgets/base",
            "_view_module_version": "1.2.0",
            "_view_name": "LayoutView",
            "align_content": null,
            "align_items": null,
            "align_self": null,
            "border": null,
            "bottom": null,
            "display": null,
            "flex": null,
            "flex_flow": null,
            "grid_area": null,
            "grid_auto_columns": null,
            "grid_auto_flow": null,
            "grid_auto_rows": null,
            "grid_column": null,
            "grid_gap": null,
            "grid_row": null,
            "grid_template_areas": null,
            "grid_template_columns": null,
            "grid_template_rows": null,
            "height": null,
            "justify_content": null,
            "justify_items": null,
            "left": null,
            "margin": null,
            "max_height": null,
            "max_width": null,
            "min_height": null,
            "min_width": null,
            "object_fit": null,
            "object_position": null,
            "order": null,
            "overflow": null,
            "overflow_x": null,
            "overflow_y": null,
            "padding": null,
            "right": null,
            "top": null,
            "visibility": null,
            "width": null
          }
        },
        "687b0d6527aa42bbb37ad5851e0ec961": {
          "model_module": "@jupyter-widgets/controls",
          "model_name": "ProgressStyleModel",
          "model_module_version": "1.5.0",
          "state": {
            "_model_module": "@jupyter-widgets/controls",
            "_model_module_version": "1.5.0",
            "_model_name": "ProgressStyleModel",
            "_view_count": null,
            "_view_module": "@jupyter-widgets/base",
            "_view_module_version": "1.2.0",
            "_view_name": "StyleView",
            "bar_color": null,
            "description_width": ""
          }
        },
        "6b04b4a3516542f2a91c2a52baa97fd1": {
          "model_module": "@jupyter-widgets/base",
          "model_name": "LayoutModel",
          "model_module_version": "1.2.0",
          "state": {
            "_model_module": "@jupyter-widgets/base",
            "_model_module_version": "1.2.0",
            "_model_name": "LayoutModel",
            "_view_count": null,
            "_view_module": "@jupyter-widgets/base",
            "_view_module_version": "1.2.0",
            "_view_name": "LayoutView",
            "align_content": null,
            "align_items": null,
            "align_self": null,
            "border": null,
            "bottom": null,
            "display": null,
            "flex": null,
            "flex_flow": null,
            "grid_area": null,
            "grid_auto_columns": null,
            "grid_auto_flow": null,
            "grid_auto_rows": null,
            "grid_column": null,
            "grid_gap": null,
            "grid_row": null,
            "grid_template_areas": null,
            "grid_template_columns": null,
            "grid_template_rows": null,
            "height": null,
            "justify_content": null,
            "justify_items": null,
            "left": null,
            "margin": null,
            "max_height": null,
            "max_width": null,
            "min_height": null,
            "min_width": null,
            "object_fit": null,
            "object_position": null,
            "order": null,
            "overflow": null,
            "overflow_x": null,
            "overflow_y": null,
            "padding": null,
            "right": null,
            "top": null,
            "visibility": null,
            "width": null
          }
        },
        "f9d2243240c14d658b885401a019af3c": {
          "model_module": "@jupyter-widgets/controls",
          "model_name": "DescriptionStyleModel",
          "model_module_version": "1.5.0",
          "state": {
            "_model_module": "@jupyter-widgets/controls",
            "_model_module_version": "1.5.0",
            "_model_name": "DescriptionStyleModel",
            "_view_count": null,
            "_view_module": "@jupyter-widgets/base",
            "_view_module_version": "1.2.0",
            "_view_name": "StyleView",
            "description_width": ""
          }
        },
        "1a3d2f0674574175ba5349ac95de8d28": {
          "model_module": "@jupyter-widgets/controls",
          "model_name": "HBoxModel",
          "model_module_version": "1.5.0",
          "state": {
            "_dom_classes": [],
            "_model_module": "@jupyter-widgets/controls",
            "_model_module_version": "1.5.0",
            "_model_name": "HBoxModel",
            "_view_count": null,
            "_view_module": "@jupyter-widgets/controls",
            "_view_module_version": "1.5.0",
            "_view_name": "HBoxView",
            "box_style": "",
            "children": [
              "IPY_MODEL_4998e0eeac82457c86d0a543c4f9e6bd",
              "IPY_MODEL_5b68ca1917c849fa826a3c26651afaa0",
              "IPY_MODEL_838fd663d65f4a1b961c159c85530fa3"
            ],
            "layout": "IPY_MODEL_a9e3965cb4364d389df2f5896a4991d8"
          }
        },
        "4998e0eeac82457c86d0a543c4f9e6bd": {
          "model_module": "@jupyter-widgets/controls",
          "model_name": "HTMLModel",
          "model_module_version": "1.5.0",
          "state": {
            "_dom_classes": [],
            "_model_module": "@jupyter-widgets/controls",
            "_model_module_version": "1.5.0",
            "_model_name": "HTMLModel",
            "_view_count": null,
            "_view_module": "@jupyter-widgets/controls",
            "_view_module_version": "1.5.0",
            "_view_name": "HTMLView",
            "description": "",
            "description_tooltip": null,
            "layout": "IPY_MODEL_c5fffe66c19e4ba7a3da3e1c1f3f3303",
            "placeholder": "​",
            "style": "IPY_MODEL_67f595316f7a4fa785e1967943b298f0",
            "value": "Downloading pytorch_model.bin: 100%"
          }
        },
        "5b68ca1917c849fa826a3c26651afaa0": {
          "model_module": "@jupyter-widgets/controls",
          "model_name": "FloatProgressModel",
          "model_module_version": "1.5.0",
          "state": {
            "_dom_classes": [],
            "_model_module": "@jupyter-widgets/controls",
            "_model_module_version": "1.5.0",
            "_model_name": "FloatProgressModel",
            "_view_count": null,
            "_view_module": "@jupyter-widgets/controls",
            "_view_module_version": "1.5.0",
            "_view_name": "ProgressView",
            "bar_style": "success",
            "description": "",
            "description_tooltip": null,
            "layout": "IPY_MODEL_9cb04ac27a83415fbf00773ee73f86a9",
            "max": 1560781537,
            "min": 0,
            "orientation": "horizontal",
            "style": "IPY_MODEL_13be9cef81f94d30bd8515b11e410427",
            "value": 1560781537
          }
        },
        "838fd663d65f4a1b961c159c85530fa3": {
          "model_module": "@jupyter-widgets/controls",
          "model_name": "HTMLModel",
          "model_module_version": "1.5.0",
          "state": {
            "_dom_classes": [],
            "_model_module": "@jupyter-widgets/controls",
            "_model_module_version": "1.5.0",
            "_model_name": "HTMLModel",
            "_view_count": null,
            "_view_module": "@jupyter-widgets/controls",
            "_view_module_version": "1.5.0",
            "_view_name": "HTMLView",
            "description": "",
            "description_tooltip": null,
            "layout": "IPY_MODEL_0d8538e1674341d990fda9f577f95c3f",
            "placeholder": "​",
            "style": "IPY_MODEL_22442c9618aa405aa2068239c06246aa",
            "value": " 1.56G/1.56G [00:20&lt;00:00, 75.7MB/s]"
          }
        },
        "a9e3965cb4364d389df2f5896a4991d8": {
          "model_module": "@jupyter-widgets/base",
          "model_name": "LayoutModel",
          "model_module_version": "1.2.0",
          "state": {
            "_model_module": "@jupyter-widgets/base",
            "_model_module_version": "1.2.0",
            "_model_name": "LayoutModel",
            "_view_count": null,
            "_view_module": "@jupyter-widgets/base",
            "_view_module_version": "1.2.0",
            "_view_name": "LayoutView",
            "align_content": null,
            "align_items": null,
            "align_self": null,
            "border": null,
            "bottom": null,
            "display": null,
            "flex": null,
            "flex_flow": null,
            "grid_area": null,
            "grid_auto_columns": null,
            "grid_auto_flow": null,
            "grid_auto_rows": null,
            "grid_column": null,
            "grid_gap": null,
            "grid_row": null,
            "grid_template_areas": null,
            "grid_template_columns": null,
            "grid_template_rows": null,
            "height": null,
            "justify_content": null,
            "justify_items": null,
            "left": null,
            "margin": null,
            "max_height": null,
            "max_width": null,
            "min_height": null,
            "min_width": null,
            "object_fit": null,
            "object_position": null,
            "order": null,
            "overflow": null,
            "overflow_x": null,
            "overflow_y": null,
            "padding": null,
            "right": null,
            "top": null,
            "visibility": null,
            "width": null
          }
        },
        "c5fffe66c19e4ba7a3da3e1c1f3f3303": {
          "model_module": "@jupyter-widgets/base",
          "model_name": "LayoutModel",
          "model_module_version": "1.2.0",
          "state": {
            "_model_module": "@jupyter-widgets/base",
            "_model_module_version": "1.2.0",
            "_model_name": "LayoutModel",
            "_view_count": null,
            "_view_module": "@jupyter-widgets/base",
            "_view_module_version": "1.2.0",
            "_view_name": "LayoutView",
            "align_content": null,
            "align_items": null,
            "align_self": null,
            "border": null,
            "bottom": null,
            "display": null,
            "flex": null,
            "flex_flow": null,
            "grid_area": null,
            "grid_auto_columns": null,
            "grid_auto_flow": null,
            "grid_auto_rows": null,
            "grid_column": null,
            "grid_gap": null,
            "grid_row": null,
            "grid_template_areas": null,
            "grid_template_columns": null,
            "grid_template_rows": null,
            "height": null,
            "justify_content": null,
            "justify_items": null,
            "left": null,
            "margin": null,
            "max_height": null,
            "max_width": null,
            "min_height": null,
            "min_width": null,
            "object_fit": null,
            "object_position": null,
            "order": null,
            "overflow": null,
            "overflow_x": null,
            "overflow_y": null,
            "padding": null,
            "right": null,
            "top": null,
            "visibility": null,
            "width": null
          }
        },
        "67f595316f7a4fa785e1967943b298f0": {
          "model_module": "@jupyter-widgets/controls",
          "model_name": "DescriptionStyleModel",
          "model_module_version": "1.5.0",
          "state": {
            "_model_module": "@jupyter-widgets/controls",
            "_model_module_version": "1.5.0",
            "_model_name": "DescriptionStyleModel",
            "_view_count": null,
            "_view_module": "@jupyter-widgets/base",
            "_view_module_version": "1.2.0",
            "_view_name": "StyleView",
            "description_width": ""
          }
        },
        "9cb04ac27a83415fbf00773ee73f86a9": {
          "model_module": "@jupyter-widgets/base",
          "model_name": "LayoutModel",
          "model_module_version": "1.2.0",
          "state": {
            "_model_module": "@jupyter-widgets/base",
            "_model_module_version": "1.2.0",
            "_model_name": "LayoutModel",
            "_view_count": null,
            "_view_module": "@jupyter-widgets/base",
            "_view_module_version": "1.2.0",
            "_view_name": "LayoutView",
            "align_content": null,
            "align_items": null,
            "align_self": null,
            "border": null,
            "bottom": null,
            "display": null,
            "flex": null,
            "flex_flow": null,
            "grid_area": null,
            "grid_auto_columns": null,
            "grid_auto_flow": null,
            "grid_auto_rows": null,
            "grid_column": null,
            "grid_gap": null,
            "grid_row": null,
            "grid_template_areas": null,
            "grid_template_columns": null,
            "grid_template_rows": null,
            "height": null,
            "justify_content": null,
            "justify_items": null,
            "left": null,
            "margin": null,
            "max_height": null,
            "max_width": null,
            "min_height": null,
            "min_width": null,
            "object_fit": null,
            "object_position": null,
            "order": null,
            "overflow": null,
            "overflow_x": null,
            "overflow_y": null,
            "padding": null,
            "right": null,
            "top": null,
            "visibility": null,
            "width": null
          }
        },
        "13be9cef81f94d30bd8515b11e410427": {
          "model_module": "@jupyter-widgets/controls",
          "model_name": "ProgressStyleModel",
          "model_module_version": "1.5.0",
          "state": {
            "_model_module": "@jupyter-widgets/controls",
            "_model_module_version": "1.5.0",
            "_model_name": "ProgressStyleModel",
            "_view_count": null,
            "_view_module": "@jupyter-widgets/base",
            "_view_module_version": "1.2.0",
            "_view_name": "StyleView",
            "bar_color": null,
            "description_width": ""
          }
        },
        "0d8538e1674341d990fda9f577f95c3f": {
          "model_module": "@jupyter-widgets/base",
          "model_name": "LayoutModel",
          "model_module_version": "1.2.0",
          "state": {
            "_model_module": "@jupyter-widgets/base",
            "_model_module_version": "1.2.0",
            "_model_name": "LayoutModel",
            "_view_count": null,
            "_view_module": "@jupyter-widgets/base",
            "_view_module_version": "1.2.0",
            "_view_name": "LayoutView",
            "align_content": null,
            "align_items": null,
            "align_self": null,
            "border": null,
            "bottom": null,
            "display": null,
            "flex": null,
            "flex_flow": null,
            "grid_area": null,
            "grid_auto_columns": null,
            "grid_auto_flow": null,
            "grid_auto_rows": null,
            "grid_column": null,
            "grid_gap": null,
            "grid_row": null,
            "grid_template_areas": null,
            "grid_template_columns": null,
            "grid_template_rows": null,
            "height": null,
            "justify_content": null,
            "justify_items": null,
            "left": null,
            "margin": null,
            "max_height": null,
            "max_width": null,
            "min_height": null,
            "min_width": null,
            "object_fit": null,
            "object_position": null,
            "order": null,
            "overflow": null,
            "overflow_x": null,
            "overflow_y": null,
            "padding": null,
            "right": null,
            "top": null,
            "visibility": null,
            "width": null
          }
        },
        "22442c9618aa405aa2068239c06246aa": {
          "model_module": "@jupyter-widgets/controls",
          "model_name": "DescriptionStyleModel",
          "model_module_version": "1.5.0",
          "state": {
            "_model_module": "@jupyter-widgets/controls",
            "_model_module_version": "1.5.0",
            "_model_name": "DescriptionStyleModel",
            "_view_count": null,
            "_view_module": "@jupyter-widgets/base",
            "_view_module_version": "1.2.0",
            "_view_name": "StyleView",
            "description_width": ""
          }
        },
        "ddb9f1f126e941e49dcd63e5f5299b3d": {
          "model_module": "@jupyter-widgets/controls",
          "model_name": "HBoxModel",
          "model_module_version": "1.5.0",
          "state": {
            "_dom_classes": [],
            "_model_module": "@jupyter-widgets/controls",
            "_model_module_version": "1.5.0",
            "_model_name": "HBoxModel",
            "_view_count": null,
            "_view_module": "@jupyter-widgets/controls",
            "_view_module_version": "1.5.0",
            "_view_name": "HBoxView",
            "box_style": "",
            "children": [
              "IPY_MODEL_9a19f7a3201f4af2bd100a2fdbf64c62",
              "IPY_MODEL_d5e8f8a56335431e888d150010b7433c",
              "IPY_MODEL_ceef42b2c3d14831a53f285f8be1c742"
            ],
            "layout": "IPY_MODEL_fb03ffc94a454cde97eda7dcf031953d"
          }
        },
        "9a19f7a3201f4af2bd100a2fdbf64c62": {
          "model_module": "@jupyter-widgets/controls",
          "model_name": "HTMLModel",
          "model_module_version": "1.5.0",
          "state": {
            "_dom_classes": [],
            "_model_module": "@jupyter-widgets/controls",
            "_model_module_version": "1.5.0",
            "_model_name": "HTMLModel",
            "_view_count": null,
            "_view_module": "@jupyter-widgets/controls",
            "_view_module_version": "1.5.0",
            "_view_name": "HTMLView",
            "description": "",
            "description_tooltip": null,
            "layout": "IPY_MODEL_e4d0c36e45b94f878e5d0ddfc19e411c",
            "placeholder": "​",
            "style": "IPY_MODEL_a677941aad65459597813f2821fa3e5b",
            "value": "Downloading model.safetensors: 100%"
          }
        },
        "d5e8f8a56335431e888d150010b7433c": {
          "model_module": "@jupyter-widgets/controls",
          "model_name": "FloatProgressModel",
          "model_module_version": "1.5.0",
          "state": {
            "_dom_classes": [],
            "_model_module": "@jupyter-widgets/controls",
            "_model_module_version": "1.5.0",
            "_model_name": "FloatProgressModel",
            "_view_count": null,
            "_view_module": "@jupyter-widgets/controls",
            "_view_module_version": "1.5.0",
            "_view_name": "ProgressView",
            "bar_style": "success",
            "description": "",
            "description_tooltip": null,
            "layout": "IPY_MODEL_f237223c399142c9ab227b3a6fe62c16",
            "max": 440449768,
            "min": 0,
            "orientation": "horizontal",
            "style": "IPY_MODEL_2dd18df75dc84449be46c088ac543120",
            "value": 440449768
          }
        },
        "ceef42b2c3d14831a53f285f8be1c742": {
          "model_module": "@jupyter-widgets/controls",
          "model_name": "HTMLModel",
          "model_module_version": "1.5.0",
          "state": {
            "_dom_classes": [],
            "_model_module": "@jupyter-widgets/controls",
            "_model_module_version": "1.5.0",
            "_model_name": "HTMLModel",
            "_view_count": null,
            "_view_module": "@jupyter-widgets/controls",
            "_view_module_version": "1.5.0",
            "_view_name": "HTMLView",
            "description": "",
            "description_tooltip": null,
            "layout": "IPY_MODEL_5d8f21580ce84a70b632ba3627369f50",
            "placeholder": "​",
            "style": "IPY_MODEL_24a2600af4af4b7aa5d5811084ea4bc2",
            "value": " 440M/440M [00:06&lt;00:00, 98.9MB/s]"
          }
        },
        "fb03ffc94a454cde97eda7dcf031953d": {
          "model_module": "@jupyter-widgets/base",
          "model_name": "LayoutModel",
          "model_module_version": "1.2.0",
          "state": {
            "_model_module": "@jupyter-widgets/base",
            "_model_module_version": "1.2.0",
            "_model_name": "LayoutModel",
            "_view_count": null,
            "_view_module": "@jupyter-widgets/base",
            "_view_module_version": "1.2.0",
            "_view_name": "LayoutView",
            "align_content": null,
            "align_items": null,
            "align_self": null,
            "border": null,
            "bottom": null,
            "display": null,
            "flex": null,
            "flex_flow": null,
            "grid_area": null,
            "grid_auto_columns": null,
            "grid_auto_flow": null,
            "grid_auto_rows": null,
            "grid_column": null,
            "grid_gap": null,
            "grid_row": null,
            "grid_template_areas": null,
            "grid_template_columns": null,
            "grid_template_rows": null,
            "height": null,
            "justify_content": null,
            "justify_items": null,
            "left": null,
            "margin": null,
            "max_height": null,
            "max_width": null,
            "min_height": null,
            "min_width": null,
            "object_fit": null,
            "object_position": null,
            "order": null,
            "overflow": null,
            "overflow_x": null,
            "overflow_y": null,
            "padding": null,
            "right": null,
            "top": null,
            "visibility": null,
            "width": null
          }
        },
        "e4d0c36e45b94f878e5d0ddfc19e411c": {
          "model_module": "@jupyter-widgets/base",
          "model_name": "LayoutModel",
          "model_module_version": "1.2.0",
          "state": {
            "_model_module": "@jupyter-widgets/base",
            "_model_module_version": "1.2.0",
            "_model_name": "LayoutModel",
            "_view_count": null,
            "_view_module": "@jupyter-widgets/base",
            "_view_module_version": "1.2.0",
            "_view_name": "LayoutView",
            "align_content": null,
            "align_items": null,
            "align_self": null,
            "border": null,
            "bottom": null,
            "display": null,
            "flex": null,
            "flex_flow": null,
            "grid_area": null,
            "grid_auto_columns": null,
            "grid_auto_flow": null,
            "grid_auto_rows": null,
            "grid_column": null,
            "grid_gap": null,
            "grid_row": null,
            "grid_template_areas": null,
            "grid_template_columns": null,
            "grid_template_rows": null,
            "height": null,
            "justify_content": null,
            "justify_items": null,
            "left": null,
            "margin": null,
            "max_height": null,
            "max_width": null,
            "min_height": null,
            "min_width": null,
            "object_fit": null,
            "object_position": null,
            "order": null,
            "overflow": null,
            "overflow_x": null,
            "overflow_y": null,
            "padding": null,
            "right": null,
            "top": null,
            "visibility": null,
            "width": null
          }
        },
        "a677941aad65459597813f2821fa3e5b": {
          "model_module": "@jupyter-widgets/controls",
          "model_name": "DescriptionStyleModel",
          "model_module_version": "1.5.0",
          "state": {
            "_model_module": "@jupyter-widgets/controls",
            "_model_module_version": "1.5.0",
            "_model_name": "DescriptionStyleModel",
            "_view_count": null,
            "_view_module": "@jupyter-widgets/base",
            "_view_module_version": "1.2.0",
            "_view_name": "StyleView",
            "description_width": ""
          }
        },
        "f237223c399142c9ab227b3a6fe62c16": {
          "model_module": "@jupyter-widgets/base",
          "model_name": "LayoutModel",
          "model_module_version": "1.2.0",
          "state": {
            "_model_module": "@jupyter-widgets/base",
            "_model_module_version": "1.2.0",
            "_model_name": "LayoutModel",
            "_view_count": null,
            "_view_module": "@jupyter-widgets/base",
            "_view_module_version": "1.2.0",
            "_view_name": "LayoutView",
            "align_content": null,
            "align_items": null,
            "align_self": null,
            "border": null,
            "bottom": null,
            "display": null,
            "flex": null,
            "flex_flow": null,
            "grid_area": null,
            "grid_auto_columns": null,
            "grid_auto_flow": null,
            "grid_auto_rows": null,
            "grid_column": null,
            "grid_gap": null,
            "grid_row": null,
            "grid_template_areas": null,
            "grid_template_columns": null,
            "grid_template_rows": null,
            "height": null,
            "justify_content": null,
            "justify_items": null,
            "left": null,
            "margin": null,
            "max_height": null,
            "max_width": null,
            "min_height": null,
            "min_width": null,
            "object_fit": null,
            "object_position": null,
            "order": null,
            "overflow": null,
            "overflow_x": null,
            "overflow_y": null,
            "padding": null,
            "right": null,
            "top": null,
            "visibility": null,
            "width": null
          }
        },
        "2dd18df75dc84449be46c088ac543120": {
          "model_module": "@jupyter-widgets/controls",
          "model_name": "ProgressStyleModel",
          "model_module_version": "1.5.0",
          "state": {
            "_model_module": "@jupyter-widgets/controls",
            "_model_module_version": "1.5.0",
            "_model_name": "ProgressStyleModel",
            "_view_count": null,
            "_view_module": "@jupyter-widgets/base",
            "_view_module_version": "1.2.0",
            "_view_name": "StyleView",
            "bar_color": null,
            "description_width": ""
          }
        },
        "5d8f21580ce84a70b632ba3627369f50": {
          "model_module": "@jupyter-widgets/base",
          "model_name": "LayoutModel",
          "model_module_version": "1.2.0",
          "state": {
            "_model_module": "@jupyter-widgets/base",
            "_model_module_version": "1.2.0",
            "_model_name": "LayoutModel",
            "_view_count": null,
            "_view_module": "@jupyter-widgets/base",
            "_view_module_version": "1.2.0",
            "_view_name": "LayoutView",
            "align_content": null,
            "align_items": null,
            "align_self": null,
            "border": null,
            "bottom": null,
            "display": null,
            "flex": null,
            "flex_flow": null,
            "grid_area": null,
            "grid_auto_columns": null,
            "grid_auto_flow": null,
            "grid_auto_rows": null,
            "grid_column": null,
            "grid_gap": null,
            "grid_row": null,
            "grid_template_areas": null,
            "grid_template_columns": null,
            "grid_template_rows": null,
            "height": null,
            "justify_content": null,
            "justify_items": null,
            "left": null,
            "margin": null,
            "max_height": null,
            "max_width": null,
            "min_height": null,
            "min_width": null,
            "object_fit": null,
            "object_position": null,
            "order": null,
            "overflow": null,
            "overflow_x": null,
            "overflow_y": null,
            "padding": null,
            "right": null,
            "top": null,
            "visibility": null,
            "width": null
          }
        },
        "24a2600af4af4b7aa5d5811084ea4bc2": {
          "model_module": "@jupyter-widgets/controls",
          "model_name": "DescriptionStyleModel",
          "model_module_version": "1.5.0",
          "state": {
            "_model_module": "@jupyter-widgets/controls",
            "_model_module_version": "1.5.0",
            "_model_name": "DescriptionStyleModel",
            "_view_count": null,
            "_view_module": "@jupyter-widgets/base",
            "_view_module_version": "1.2.0",
            "_view_name": "StyleView",
            "description_width": ""
          }
        }
      }
    }
  },
  "cells": [
    {
      "cell_type": "markdown",
      "source": [
        "# Imports"
      ],
      "metadata": {
        "id": "zkWLp_3wPVi4"
      }
    },
    {
      "cell_type": "code",
      "execution_count": 1,
      "metadata": {
        "id": "WJO7UEhGyl2H",
        "colab": {
          "base_uri": "https://localhost:8080/"
        },
        "outputId": "3aa09271-d258-4fb7-9cee-0c2aa5a284da"
      },
      "outputs": [
        {
          "output_type": "stream",
          "name": "stdout",
          "text": [
            "Looking in indexes: https://pypi.org/simple, https://us-python.pkg.dev/colab-wheels/public/simple/\n",
            "Requirement already satisfied: transformers in /usr/local/lib/python3.10/dist-packages (4.30.2)\n",
            "Requirement already satisfied: filelock in /usr/local/lib/python3.10/dist-packages (from transformers) (3.12.2)\n",
            "Requirement already satisfied: huggingface-hub<1.0,>=0.14.1 in /usr/local/lib/python3.10/dist-packages (from transformers) (0.15.1)\n",
            "Requirement already satisfied: numpy>=1.17 in /usr/local/lib/python3.10/dist-packages (from transformers) (1.22.4)\n",
            "Requirement already satisfied: packaging>=20.0 in /usr/local/lib/python3.10/dist-packages (from transformers) (23.1)\n",
            "Requirement already satisfied: pyyaml>=5.1 in /usr/local/lib/python3.10/dist-packages (from transformers) (6.0)\n",
            "Requirement already satisfied: regex!=2019.12.17 in /usr/local/lib/python3.10/dist-packages (from transformers) (2022.10.31)\n",
            "Requirement already satisfied: requests in /usr/local/lib/python3.10/dist-packages (from transformers) (2.27.1)\n",
            "Requirement already satisfied: tokenizers!=0.11.3,<0.14,>=0.11.1 in /usr/local/lib/python3.10/dist-packages (from transformers) (0.13.3)\n",
            "Requirement already satisfied: safetensors>=0.3.1 in /usr/local/lib/python3.10/dist-packages (from transformers) (0.3.1)\n",
            "Requirement already satisfied: tqdm>=4.27 in /usr/local/lib/python3.10/dist-packages (from transformers) (4.65.0)\n",
            "Requirement already satisfied: fsspec in /usr/local/lib/python3.10/dist-packages (from huggingface-hub<1.0,>=0.14.1->transformers) (2023.4.0)\n",
            "Requirement already satisfied: typing-extensions>=3.7.4.3 in /usr/local/lib/python3.10/dist-packages (from huggingface-hub<1.0,>=0.14.1->transformers) (4.5.0)\n",
            "Requirement already satisfied: urllib3<1.27,>=1.21.1 in /usr/local/lib/python3.10/dist-packages (from requests->transformers) (1.26.15)\n",
            "Requirement already satisfied: certifi>=2017.4.17 in /usr/local/lib/python3.10/dist-packages (from requests->transformers) (2022.12.7)\n",
            "Requirement already satisfied: charset-normalizer~=2.0.0 in /usr/local/lib/python3.10/dist-packages (from requests->transformers) (2.0.12)\n",
            "Requirement already satisfied: idna<4,>=2.5 in /usr/local/lib/python3.10/dist-packages (from requests->transformers) (3.4)\n",
            "Looking in indexes: https://pypi.org/simple, https://us-python.pkg.dev/colab-wheels/public/simple/\n",
            "Requirement already satisfied: semanticscholar in /usr/local/lib/python3.10/dist-packages (0.4.1)\n",
            "Requirement already satisfied: requests in /usr/local/lib/python3.10/dist-packages (from semanticscholar) (2.27.1)\n",
            "Requirement already satisfied: tenacity in /usr/local/lib/python3.10/dist-packages (from semanticscholar) (8.2.2)\n",
            "Requirement already satisfied: urllib3<1.27,>=1.21.1 in /usr/local/lib/python3.10/dist-packages (from requests->semanticscholar) (1.26.15)\n",
            "Requirement already satisfied: certifi>=2017.4.17 in /usr/local/lib/python3.10/dist-packages (from requests->semanticscholar) (2022.12.7)\n",
            "Requirement already satisfied: charset-normalizer~=2.0.0 in /usr/local/lib/python3.10/dist-packages (from requests->semanticscholar) (2.0.12)\n",
            "Requirement already satisfied: idna<4,>=2.5 in /usr/local/lib/python3.10/dist-packages (from requests->semanticscholar) (3.4)\n",
            "Looking in indexes: https://pypi.org/simple, https://us-python.pkg.dev/colab-wheels/public/simple/\n",
            "Requirement already satisfied: metapub in /usr/local/lib/python3.10/dist-packages (0.5.5)\n",
            "Requirement already satisfied: setuptools in /usr/local/lib/python3.10/dist-packages (from metapub) (67.7.2)\n",
            "Requirement already satisfied: lxml in /usr/local/lib/python3.10/dist-packages (from metapub) (4.9.2)\n",
            "Requirement already satisfied: requests in /usr/local/lib/python3.10/dist-packages (from metapub) (2.27.1)\n",
            "Requirement already satisfied: eutils in /usr/local/lib/python3.10/dist-packages (from metapub) (0.6.0)\n",
            "Requirement already satisfied: habanero in /usr/local/lib/python3.10/dist-packages (from metapub) (1.2.3)\n",
            "Requirement already satisfied: tabulate in /usr/local/lib/python3.10/dist-packages (from metapub) (0.8.10)\n",
            "Requirement already satisfied: cssselect in /usr/local/lib/python3.10/dist-packages (from metapub) (1.2.0)\n",
            "Requirement already satisfied: unidecode in /usr/local/lib/python3.10/dist-packages (from metapub) (1.3.6)\n",
            "Requirement already satisfied: docopt in /usr/local/lib/python3.10/dist-packages (from metapub) (0.6.2)\n",
            "Requirement already satisfied: six in /usr/local/lib/python3.10/dist-packages (from metapub) (1.16.0)\n",
            "Requirement already satisfied: tox in /usr/local/lib/python3.10/dist-packages (from metapub) (4.6.1)\n",
            "Requirement already satisfied: pytest in /usr/local/lib/python3.10/dist-packages (from metapub) (7.2.2)\n",
            "Requirement already satisfied: coloredlogs in /usr/local/lib/python3.10/dist-packages (from metapub) (15.0.1)\n",
            "Requirement already satisfied: python-Levenshtein in /usr/local/lib/python3.10/dist-packages (from metapub) (0.21.1)\n",
            "Requirement already satisfied: humanfriendly>=9.1 in /usr/local/lib/python3.10/dist-packages (from coloredlogs->metapub) (10.0)\n",
            "Requirement already satisfied: pytz in /usr/local/lib/python3.10/dist-packages (from eutils->metapub) (2022.7.1)\n",
            "Requirement already satisfied: tqdm in /usr/local/lib/python3.10/dist-packages (from habanero->metapub) (4.65.0)\n",
            "Requirement already satisfied: urllib3<1.27,>=1.21.1 in /usr/local/lib/python3.10/dist-packages (from requests->metapub) (1.26.15)\n",
            "Requirement already satisfied: certifi>=2017.4.17 in /usr/local/lib/python3.10/dist-packages (from requests->metapub) (2022.12.7)\n",
            "Requirement already satisfied: charset-normalizer~=2.0.0 in /usr/local/lib/python3.10/dist-packages (from requests->metapub) (2.0.12)\n",
            "Requirement already satisfied: idna<4,>=2.5 in /usr/local/lib/python3.10/dist-packages (from requests->metapub) (3.4)\n",
            "Requirement already satisfied: attrs>=19.2.0 in /usr/local/lib/python3.10/dist-packages (from pytest->metapub) (23.1.0)\n",
            "Requirement already satisfied: iniconfig in /usr/local/lib/python3.10/dist-packages (from pytest->metapub) (2.0.0)\n",
            "Requirement already satisfied: packaging in /usr/local/lib/python3.10/dist-packages (from pytest->metapub) (23.1)\n",
            "Requirement already satisfied: pluggy<2.0,>=0.12 in /usr/local/lib/python3.10/dist-packages (from pytest->metapub) (1.0.0)\n",
            "Requirement already satisfied: exceptiongroup>=1.0.0rc8 in /usr/local/lib/python3.10/dist-packages (from pytest->metapub) (1.1.1)\n",
            "Requirement already satisfied: tomli>=1.0.0 in /usr/local/lib/python3.10/dist-packages (from pytest->metapub) (2.0.1)\n",
            "Requirement already satisfied: Levenshtein==0.21.1 in /usr/local/lib/python3.10/dist-packages (from python-Levenshtein->metapub) (0.21.1)\n",
            "Requirement already satisfied: rapidfuzz<4.0.0,>=2.3.0 in /usr/local/lib/python3.10/dist-packages (from Levenshtein==0.21.1->python-Levenshtein->metapub) (3.1.1)\n",
            "Requirement already satisfied: cachetools>=5.3.1 in /usr/local/lib/python3.10/dist-packages (from tox->metapub) (5.3.1)\n",
            "Requirement already satisfied: chardet>=5.1 in /usr/local/lib/python3.10/dist-packages (from tox->metapub) (5.1.0)\n",
            "Requirement already satisfied: colorama>=0.4.6 in /usr/local/lib/python3.10/dist-packages (from tox->metapub) (0.4.6)\n",
            "Requirement already satisfied: filelock>=3.12.2 in /usr/local/lib/python3.10/dist-packages (from tox->metapub) (3.12.2)\n",
            "Requirement already satisfied: platformdirs>=3.5.3 in /usr/local/lib/python3.10/dist-packages (from tox->metapub) (3.5.3)\n",
            "Requirement already satisfied: pyproject-api>=1.5.1 in /usr/local/lib/python3.10/dist-packages (from tox->metapub) (1.5.2)\n",
            "Requirement already satisfied: virtualenv>=20.23 in /usr/local/lib/python3.10/dist-packages (from tox->metapub) (20.23.0)\n",
            "Requirement already satisfied: distlib<1,>=0.3.6 in /usr/local/lib/python3.10/dist-packages (from virtualenv>=20.23->tox->metapub) (0.3.6)\n",
            "Looking in indexes: https://pypi.org/simple, https://us-python.pkg.dev/colab-wheels/public/simple/\n",
            "Requirement already satisfied: sentencepiece in /usr/local/lib/python3.10/dist-packages (0.1.99)\n",
            "Looking in indexes: https://pypi.org/simple, https://us-python.pkg.dev/colab-wheels/public/simple/\n",
            "Requirement already satisfied: sacremoses in /usr/local/lib/python3.10/dist-packages (0.0.53)\n",
            "Requirement already satisfied: regex in /usr/local/lib/python3.10/dist-packages (from sacremoses) (2022.10.31)\n",
            "Requirement already satisfied: six in /usr/local/lib/python3.10/dist-packages (from sacremoses) (1.16.0)\n",
            "Requirement already satisfied: click in /usr/local/lib/python3.10/dist-packages (from sacremoses) (8.1.3)\n",
            "Requirement already satisfied: joblib in /usr/local/lib/python3.10/dist-packages (from sacremoses) (1.2.0)\n",
            "Requirement already satisfied: tqdm in /usr/local/lib/python3.10/dist-packages (from sacremoses) (4.65.0)\n"
          ]
        },
        {
          "output_type": "stream",
          "name": "stderr",
          "text": [
            "/usr/local/lib/python3.10/dist-packages/requests/__init__.py:102: RequestsDependencyWarning: urllib3 (1.26.15) or chardet (5.1.0)/charset_normalizer (2.0.12) doesn't match a supported version!\n",
            "  warnings.warn(\"urllib3 ({}) or chardet ({})/charset_normalizer ({}) doesn't match a supported \"\n",
            "2023-06-16 18:36:10 95c40d20f5ea metapub.config[5149] WARNING NCBI_API_KEY was not set.\n"
          ]
        }
      ],
      "source": [
        "!pip install transformers\n",
        "!pip install semanticscholar\n",
        "!pip install metapub\n",
        "!pip install sentencepiece\n",
        "!pip install sacremoses\n",
        "import os\n",
        "import tensorflow as tf\n",
        "import pandas as pd\n",
        "import numpy as np\n",
        "import zipfile as zf\n",
        "from glob import glob\n",
        "# from keras.saving.hdf5_format import save_attributes_to_hdf5_group\n",
        "from transformers import T5Tokenizer, TFT5Model, TFT5ForConditionalGeneration, AutoTokenizer, TFBertModel, AutoModel, BertTokenizer, TFBertForQuestionAnswering\n",
        "import sentencepiece\n",
        "from metapub import PubMedFetcher\n",
        "from semanticscholar import SemanticScholar\n",
        "from metapub import FindIt\n",
        "import requests\n",
        "import urllib\n",
        "import json\n",
        "from transformers import BioGptModel, BioGptConfig, BioGptTokenizer, BioGptForCausalLM"
      ]
    },
    {
      "cell_type": "code",
      "source": [
        "# !pip install datsets transformers[sentencepiece]"
      ],
      "metadata": {
        "id": "v1CBMMDCVzKS"
      },
      "execution_count": 2,
      "outputs": []
    },
    {
      "cell_type": "code",
      "source": [
        "from google.colab import drive\n",
        "from google.colab import files\n",
        "import os\n",
        "import glob"
      ],
      "metadata": {
        "id": "cja6d2HpRwSk"
      },
      "execution_count": 3,
      "outputs": []
    },
    {
      "cell_type": "code",
      "source": [
        "# Mount google drive\n",
        "drive.mount('/content/drive')"
      ],
      "metadata": {
        "colab": {
          "base_uri": "https://localhost:8080/"
        },
        "id": "H-IlYyf0Q6PM",
        "outputId": "680dd3a4-4d6a-4e00-c42d-b877480c1952"
      },
      "execution_count": 4,
      "outputs": [
        {
          "output_type": "stream",
          "name": "stdout",
          "text": [
            "Drive already mounted at /content/drive; to attempt to forcibly remount, call drive.mount(\"/content/drive\", force_remount=True).\n"
          ]
        }
      ]
    },
    {
      "cell_type": "code",
      "source": [
        "# Paths\n",
        "main_path = \"/content/drive/MyDrive/\"\n",
        "capstone_directory = main_path + \"w210_Capstone_Therapeutic_Accelerator/\"\n",
        "starter_data = capstone_directory + \"data\"\n"
      ],
      "metadata": {
        "id": "T9A_ZcWYQ59E"
      },
      "execution_count": 5,
      "outputs": []
    },
    {
      "cell_type": "code",
      "source": [
        "os.listdir(starter_data)"
      ],
      "metadata": {
        "colab": {
          "base_uri": "https://localhost:8080/"
        },
        "id": "r56LuRUwQ5xn",
        "outputId": "c2cbdb0d-0ee8-4f96-cd29-2ec867f9b66c"
      },
      "execution_count": 6,
      "outputs": [
        {
          "output_type": "execute_result",
          "data": {
            "text/plain": [
              "['Mitochondrial N formyl methionine peptides contribute to exaggerated neutrophil activation in patients with COVID 19.pdf',\n",
              " 'text.txt',\n",
              " 'Data Post to postgresql.ipynb',\n",
              " 'Connect to postgresql.ipynb',\n",
              " 'Semantic Scholar and PubMed API.ipynb',\n",
              " 'final.csv']"
            ]
          },
          "metadata": {},
          "execution_count": 6
        }
      ]
    },
    {
      "cell_type": "code",
      "source": [
        "attributes_csv = starter_data + \"/final.csv\"\n",
        "attributes_df = pd.read_csv(attributes_csv)\n",
        "attributes_df.head(10)"
      ],
      "metadata": {
        "colab": {
          "base_uri": "https://localhost:8080/",
          "height": 982
        },
        "id": "STddQbAyQ5hD",
        "outputId": "34ee3a61-c8f6-40bd-bd85-b7d19b39dd89"
      },
      "execution_count": 7,
      "outputs": [
        {
          "output_type": "execute_result",
          "data": {
            "text/plain": [
              "   Unnamed: 0   corpusid                                        externalids  \\\n",
              "0           0   52273203  {\"ACL\": null, \"DBLP\": null, \"ArXiv\": null, \"MA...   \n",
              "1           1   23708908  {\"ACL\": null, \"DBLP\": null, \"ArXiv\": null, \"MA...   \n",
              "2           2   13232625  {\"ACL\": null, \"DBLP\": null, \"ArXiv\": null, \"MA...   \n",
              "3           3   73484844  {\"ACL\": null, \"DBLP\": null, \"ArXiv\": null, \"MA...   \n",
              "4           4  229159752  {\"ACL\": null, \"DBLP\": null, \"ArXiv\": null, \"MA...   \n",
              "5           5   10041098  {\"ACL\": null, \"DBLP\": null, \"ArXiv\": null, \"MA...   \n",
              "6           6   19472375  {\"ACL\": null, \"DBLP\": null, \"ArXiv\": null, \"MA...   \n",
              "7           7  219603447  {\"ACL\": null, \"DBLP\": null, \"ArXiv\": null, \"MA...   \n",
              "8           8   15826244  {\"ACL\": null, \"DBLP\": null, \"ArXiv\": null, \"MA...   \n",
              "9           9    2311509  {\"ACL\": null, \"DBLP\": null, \"ArXiv\": null, \"MA...   \n",
              "\n",
              "                                                 url  \\\n",
              "0  https://www.semanticscholar.org/paper/39063bcd...   \n",
              "1  https://www.semanticscholar.org/paper/6ec7c156...   \n",
              "2  https://www.semanticscholar.org/paper/c8566272...   \n",
              "3  https://www.semanticscholar.org/paper/d4c9b2fa...   \n",
              "4  https://www.semanticscholar.org/paper/7f13abe2...   \n",
              "5  https://www.semanticscholar.org/paper/92b26dee...   \n",
              "6  https://www.semanticscholar.org/paper/2c682757...   \n",
              "7  https://www.semanticscholar.org/paper/9b9659a4...   \n",
              "8  https://www.semanticscholar.org/paper/314f8d8a...   \n",
              "9  https://www.semanticscholar.org/paper/7a0b4601...   \n",
              "\n",
              "                                               title  \\\n",
              "0  Large conformational changes of a highly dynam...   \n",
              "1  Drug sensitivity profiling identifies potentia...   \n",
              "2  Men's memory for women's sexual-interest and r...   \n",
              "3  The Reactive Plasticity of Hippocampal Ionotro...   \n",
              "4  High Mortality Rate in Adult COVID-19 Inpatien...   \n",
              "5  NADH-dependent metabolism of nitric oxide in a...   \n",
              "6  Aspects of posttraumatic stress disorder in lo...   \n",
              "7  Multicenter assessment of the Brain Injury Gui...   \n",
              "8  Mycobacterium haemophilum as the Initial Prese...   \n",
              "9  Up-regulation and subcellular localization of ...   \n",
              "\n",
              "                                             authors  \\\n",
              "0  {\"{\\\"authorId\\\": \\\"51285510\\\", \\\"name\\\": \\\"Isa...   \n",
              "1  {\"{\\\"authorId\\\": \\\"5699001\\\", \\\"name\\\": \\\"H. K...   \n",
              "2  {\"{\\\"authorId\\\": \\\"4425040\\\", \\\"name\\\": \\\"T. T...   \n",
              "3  {\"{\\\"authorId\\\": \\\"2225106\\\", \\\"name\\\": \\\"A. M...   \n",
              "4  {\"{\\\"authorId\\\": \\\"7685173\\\", \\\"name\\\": \\\"Saee...   \n",
              "5  {\"{\\\"authorId\\\": \\\"1792255\\\", \\\"name\\\": \\\"A. I...   \n",
              "6  {\"{\\\"authorId\\\": \\\"2000616\\\", \\\"name\\\": \\\"A. D...   \n",
              "7  {\"{\\\"authorId\\\": \\\"145776250\\\", \\\"name\\\": \\\"Ab...   \n",
              "8  {\"{\\\"authorId\\\": \\\"2060804071\\\", \\\"name\\\": \\\"T...   \n",
              "9  {\"{\\\"authorId\\\": \\\"14726800\\\", \\\"name\\\": \\\"Hua...   \n",
              "\n",
              "                                         venue  \\\n",
              "0                       Communications Biology   \n",
              "1                                   OncoTarget   \n",
              "2                                          NaN   \n",
              "3  International Journal of Molecular Sciences   \n",
              "4      Journal of Multidisciplinary Healthcare   \n",
              "5                                       Planta   \n",
              "6               Journal of cancer survivorship   \n",
              "7             Trauma Surgery & Acute Care Open   \n",
              "8                 Case Reports in Rheumatology   \n",
              "9                                   BMC Cancer   \n",
              "\n",
              "                     publicationvenueid    year  referencecount  \\\n",
              "0  069e05e7-ca35-41d0-a8c7-bdc9ec6a82af  2018.0              28   \n",
              "1  106ecc86-1801-4b36-a05c-d36db69a968c  2017.0              46   \n",
              "2                                   NaN  2011.0              36   \n",
              "3  8506a01a-40b8-4e6f-bbb8-ce2492139c15  2019.0              97   \n",
              "4  12e5e550-28bd-401c-a348-f347956deec4  2020.0              37   \n",
              "5  66507f0b-12a1-4058-a35c-73029853d5b9  2004.0              30   \n",
              "6  649b7693-cb10-4892-b8a2-65b9b51fcd50  2016.0              33   \n",
              "7  d40f33e8-6f79-4e91-a62e-acf29f9a3e2f  2020.0              35   \n",
              "8  884ab217-3965-4a74-90d1-003d0b378d6d  2014.0              24   \n",
              "9  b482a99f-ef53-4694-aec6-32ad78e0d716  2010.0              58   \n",
              "\n",
              "   citationcount  influentialcitationcount  isopenaccess  \\\n",
              "0             13                         0          True   \n",
              "1             24                         0          True   \n",
              "2             13                         0          True   \n",
              "3             15                         1          True   \n",
              "4             17                         1          True   \n",
              "5            145                         3         False   \n",
              "6             18                         0         False   \n",
              "7             11                         0          True   \n",
              "8              8                         0          True   \n",
              "9             44                         0          True   \n",
              "\n",
              "                                     s2fieldsofstudy         publicationtypes  \\\n",
              "0  {\"{\\\"category\\\": \\\"Biology\\\", \\\"source\\\": \\\"s2...         {JournalArticle}   \n",
              "1  {\"{\\\"category\\\": \\\"Biology\\\", \\\"source\\\": \\\"s2...         {JournalArticle}   \n",
              "2  {\"{\\\"category\\\": \\\"Psychology\\\", \\\"source\\\": \\...                 {Review}   \n",
              "3  {\"{\\\"category\\\": \\\"Biology\\\", \\\"source\\\": \\\"s2...  {Review,JournalArticle}   \n",
              "4  {\"{\\\"category\\\": \\\"Medicine\\\", \\\"source\\\": \\\"s...  {JournalArticle,Review}   \n",
              "5  {\"{\\\"category\\\": \\\"Biology\\\", \\\"source\\\": \\\"s2...         {JournalArticle}   \n",
              "6  {\"{\\\"category\\\": \\\"Psychology\\\", \\\"source\\\": \\...         {JournalArticle}   \n",
              "7  {\"{\\\"category\\\": \\\"Medicine\\\", \\\"source\\\": \\\"s...  {JournalArticle,Review}   \n",
              "8  {\"{\\\"category\\\": \\\"Medicine\\\", \\\"source\\\": \\\"s...         {JournalArticle}   \n",
              "9  {\"{\\\"category\\\": \\\"Biology\\\", \\\"source\\\": \\\"s2...         {JournalArticle}   \n",
              "\n",
              "  publicationdate                                            journal  \\\n",
              "0      2018-09-03  {\"name\": \"Communications Biology\", \"pages\": nu...   \n",
              "1      2017-10-31  {\"name\": \"Oncotarget\", \"pages\": \"97516 - 97527...   \n",
              "2      2011-09-01  {\"name\": \"Applied Cognitive Psychology\", \"page...   \n",
              "3      2019-02-27  {\"name\": \"International Journal of Molecular S...   \n",
              "4      2020-12-01  {\"name\": \"Journal of Multidisciplinary Healthc...   \n",
              "5      2004-01-22  {\"name\": \"Planta\", \"pages\": \"95-102\", \"volume\"...   \n",
              "6      2016-02-26  {\"name\": \"Journal of Cancer Survivorship\", \"pa...   \n",
              "7      2020-05-01  {\"name\": \"Trauma Surgery & Acute Care Open\", \"...   \n",
              "8      2014-01-12  {\"name\": \"Case Reports in Rheumatology\", \"page...   \n",
              "9      2010-07-06  {\"name\": \"BMC Cancer\", \"pages\": \"356 - 356\", \"...   \n",
              "\n",
              "                    updated       id  \n",
              "0  2023-03-31T01:28:37.897Z  5692596  \n",
              "1  2023-04-05T06:18:15.837Z  5692609  \n",
              "2  2023-04-05T08:18:02.240Z  5692611  \n",
              "3  2023-05-20T17:20:54.230Z  5692615  \n",
              "4  2023-05-23T13:34:07.581Z  5692620  \n",
              "5  2023-04-05T15:01:41.273Z  5692625  \n",
              "6  2023-04-05T19:07:12.948Z  5692626  \n",
              "7  2023-04-07T01:56:26.282Z  5692637  \n",
              "8  2023-04-07T01:15:17.667Z  5692638  \n",
              "9  2023-04-07T01:28:15.493Z  5692639  "
            ],
            "text/html": [
              "\n",
              "  <div id=\"df-ab8e5f9e-bb7f-4b1a-be17-3c61dfa2a4f4\">\n",
              "    <div class=\"colab-df-container\">\n",
              "      <div>\n",
              "<style scoped>\n",
              "    .dataframe tbody tr th:only-of-type {\n",
              "        vertical-align: middle;\n",
              "    }\n",
              "\n",
              "    .dataframe tbody tr th {\n",
              "        vertical-align: top;\n",
              "    }\n",
              "\n",
              "    .dataframe thead th {\n",
              "        text-align: right;\n",
              "    }\n",
              "</style>\n",
              "<table border=\"1\" class=\"dataframe\">\n",
              "  <thead>\n",
              "    <tr style=\"text-align: right;\">\n",
              "      <th></th>\n",
              "      <th>Unnamed: 0</th>\n",
              "      <th>corpusid</th>\n",
              "      <th>externalids</th>\n",
              "      <th>url</th>\n",
              "      <th>title</th>\n",
              "      <th>authors</th>\n",
              "      <th>venue</th>\n",
              "      <th>publicationvenueid</th>\n",
              "      <th>year</th>\n",
              "      <th>referencecount</th>\n",
              "      <th>citationcount</th>\n",
              "      <th>influentialcitationcount</th>\n",
              "      <th>isopenaccess</th>\n",
              "      <th>s2fieldsofstudy</th>\n",
              "      <th>publicationtypes</th>\n",
              "      <th>publicationdate</th>\n",
              "      <th>journal</th>\n",
              "      <th>updated</th>\n",
              "      <th>id</th>\n",
              "    </tr>\n",
              "  </thead>\n",
              "  <tbody>\n",
              "    <tr>\n",
              "      <th>0</th>\n",
              "      <td>0</td>\n",
              "      <td>52273203</td>\n",
              "      <td>{\"ACL\": null, \"DBLP\": null, \"ArXiv\": null, \"MA...</td>\n",
              "      <td>https://www.semanticscholar.org/paper/39063bcd...</td>\n",
              "      <td>Large conformational changes of a highly dynam...</td>\n",
              "      <td>{\"{\\\"authorId\\\": \\\"51285510\\\", \\\"name\\\": \\\"Isa...</td>\n",
              "      <td>Communications Biology</td>\n",
              "      <td>069e05e7-ca35-41d0-a8c7-bdc9ec6a82af</td>\n",
              "      <td>2018.0</td>\n",
              "      <td>28</td>\n",
              "      <td>13</td>\n",
              "      <td>0</td>\n",
              "      <td>True</td>\n",
              "      <td>{\"{\\\"category\\\": \\\"Biology\\\", \\\"source\\\": \\\"s2...</td>\n",
              "      <td>{JournalArticle}</td>\n",
              "      <td>2018-09-03</td>\n",
              "      <td>{\"name\": \"Communications Biology\", \"pages\": nu...</td>\n",
              "      <td>2023-03-31T01:28:37.897Z</td>\n",
              "      <td>5692596</td>\n",
              "    </tr>\n",
              "    <tr>\n",
              "      <th>1</th>\n",
              "      <td>1</td>\n",
              "      <td>23708908</td>\n",
              "      <td>{\"ACL\": null, \"DBLP\": null, \"ArXiv\": null, \"MA...</td>\n",
              "      <td>https://www.semanticscholar.org/paper/6ec7c156...</td>\n",
              "      <td>Drug sensitivity profiling identifies potentia...</td>\n",
              "      <td>{\"{\\\"authorId\\\": \\\"5699001\\\", \\\"name\\\": \\\"H. K...</td>\n",
              "      <td>OncoTarget</td>\n",
              "      <td>106ecc86-1801-4b36-a05c-d36db69a968c</td>\n",
              "      <td>2017.0</td>\n",
              "      <td>46</td>\n",
              "      <td>24</td>\n",
              "      <td>0</td>\n",
              "      <td>True</td>\n",
              "      <td>{\"{\\\"category\\\": \\\"Biology\\\", \\\"source\\\": \\\"s2...</td>\n",
              "      <td>{JournalArticle}</td>\n",
              "      <td>2017-10-31</td>\n",
              "      <td>{\"name\": \"Oncotarget\", \"pages\": \"97516 - 97527...</td>\n",
              "      <td>2023-04-05T06:18:15.837Z</td>\n",
              "      <td>5692609</td>\n",
              "    </tr>\n",
              "    <tr>\n",
              "      <th>2</th>\n",
              "      <td>2</td>\n",
              "      <td>13232625</td>\n",
              "      <td>{\"ACL\": null, \"DBLP\": null, \"ArXiv\": null, \"MA...</td>\n",
              "      <td>https://www.semanticscholar.org/paper/c8566272...</td>\n",
              "      <td>Men's memory for women's sexual-interest and r...</td>\n",
              "      <td>{\"{\\\"authorId\\\": \\\"4425040\\\", \\\"name\\\": \\\"T. T...</td>\n",
              "      <td>NaN</td>\n",
              "      <td>NaN</td>\n",
              "      <td>2011.0</td>\n",
              "      <td>36</td>\n",
              "      <td>13</td>\n",
              "      <td>0</td>\n",
              "      <td>True</td>\n",
              "      <td>{\"{\\\"category\\\": \\\"Psychology\\\", \\\"source\\\": \\...</td>\n",
              "      <td>{Review}</td>\n",
              "      <td>2011-09-01</td>\n",
              "      <td>{\"name\": \"Applied Cognitive Psychology\", \"page...</td>\n",
              "      <td>2023-04-05T08:18:02.240Z</td>\n",
              "      <td>5692611</td>\n",
              "    </tr>\n",
              "    <tr>\n",
              "      <th>3</th>\n",
              "      <td>3</td>\n",
              "      <td>73484844</td>\n",
              "      <td>{\"ACL\": null, \"DBLP\": null, \"ArXiv\": null, \"MA...</td>\n",
              "      <td>https://www.semanticscholar.org/paper/d4c9b2fa...</td>\n",
              "      <td>The Reactive Plasticity of Hippocampal Ionotro...</td>\n",
              "      <td>{\"{\\\"authorId\\\": \\\"2225106\\\", \\\"name\\\": \\\"A. M...</td>\n",
              "      <td>International Journal of Molecular Sciences</td>\n",
              "      <td>8506a01a-40b8-4e6f-bbb8-ce2492139c15</td>\n",
              "      <td>2019.0</td>\n",
              "      <td>97</td>\n",
              "      <td>15</td>\n",
              "      <td>1</td>\n",
              "      <td>True</td>\n",
              "      <td>{\"{\\\"category\\\": \\\"Biology\\\", \\\"source\\\": \\\"s2...</td>\n",
              "      <td>{Review,JournalArticle}</td>\n",
              "      <td>2019-02-27</td>\n",
              "      <td>{\"name\": \"International Journal of Molecular S...</td>\n",
              "      <td>2023-05-20T17:20:54.230Z</td>\n",
              "      <td>5692615</td>\n",
              "    </tr>\n",
              "    <tr>\n",
              "      <th>4</th>\n",
              "      <td>4</td>\n",
              "      <td>229159752</td>\n",
              "      <td>{\"ACL\": null, \"DBLP\": null, \"ArXiv\": null, \"MA...</td>\n",
              "      <td>https://www.semanticscholar.org/paper/7f13abe2...</td>\n",
              "      <td>High Mortality Rate in Adult COVID-19 Inpatien...</td>\n",
              "      <td>{\"{\\\"authorId\\\": \\\"7685173\\\", \\\"name\\\": \\\"Saee...</td>\n",
              "      <td>Journal of Multidisciplinary Healthcare</td>\n",
              "      <td>12e5e550-28bd-401c-a348-f347956deec4</td>\n",
              "      <td>2020.0</td>\n",
              "      <td>37</td>\n",
              "      <td>17</td>\n",
              "      <td>1</td>\n",
              "      <td>True</td>\n",
              "      <td>{\"{\\\"category\\\": \\\"Medicine\\\", \\\"source\\\": \\\"s...</td>\n",
              "      <td>{JournalArticle,Review}</td>\n",
              "      <td>2020-12-01</td>\n",
              "      <td>{\"name\": \"Journal of Multidisciplinary Healthc...</td>\n",
              "      <td>2023-05-23T13:34:07.581Z</td>\n",
              "      <td>5692620</td>\n",
              "    </tr>\n",
              "    <tr>\n",
              "      <th>5</th>\n",
              "      <td>5</td>\n",
              "      <td>10041098</td>\n",
              "      <td>{\"ACL\": null, \"DBLP\": null, \"ArXiv\": null, \"MA...</td>\n",
              "      <td>https://www.semanticscholar.org/paper/92b26dee...</td>\n",
              "      <td>NADH-dependent metabolism of nitric oxide in a...</td>\n",
              "      <td>{\"{\\\"authorId\\\": \\\"1792255\\\", \\\"name\\\": \\\"A. I...</td>\n",
              "      <td>Planta</td>\n",
              "      <td>66507f0b-12a1-4058-a35c-73029853d5b9</td>\n",
              "      <td>2004.0</td>\n",
              "      <td>30</td>\n",
              "      <td>145</td>\n",
              "      <td>3</td>\n",
              "      <td>False</td>\n",
              "      <td>{\"{\\\"category\\\": \\\"Biology\\\", \\\"source\\\": \\\"s2...</td>\n",
              "      <td>{JournalArticle}</td>\n",
              "      <td>2004-01-22</td>\n",
              "      <td>{\"name\": \"Planta\", \"pages\": \"95-102\", \"volume\"...</td>\n",
              "      <td>2023-04-05T15:01:41.273Z</td>\n",
              "      <td>5692625</td>\n",
              "    </tr>\n",
              "    <tr>\n",
              "      <th>6</th>\n",
              "      <td>6</td>\n",
              "      <td>19472375</td>\n",
              "      <td>{\"ACL\": null, \"DBLP\": null, \"ArXiv\": null, \"MA...</td>\n",
              "      <td>https://www.semanticscholar.org/paper/2c682757...</td>\n",
              "      <td>Aspects of posttraumatic stress disorder in lo...</td>\n",
              "      <td>{\"{\\\"authorId\\\": \\\"2000616\\\", \\\"name\\\": \\\"A. D...</td>\n",
              "      <td>Journal of cancer survivorship</td>\n",
              "      <td>649b7693-cb10-4892-b8a2-65b9b51fcd50</td>\n",
              "      <td>2016.0</td>\n",
              "      <td>33</td>\n",
              "      <td>18</td>\n",
              "      <td>0</td>\n",
              "      <td>False</td>\n",
              "      <td>{\"{\\\"category\\\": \\\"Psychology\\\", \\\"source\\\": \\...</td>\n",
              "      <td>{JournalArticle}</td>\n",
              "      <td>2016-02-26</td>\n",
              "      <td>{\"name\": \"Journal of Cancer Survivorship\", \"pa...</td>\n",
              "      <td>2023-04-05T19:07:12.948Z</td>\n",
              "      <td>5692626</td>\n",
              "    </tr>\n",
              "    <tr>\n",
              "      <th>7</th>\n",
              "      <td>7</td>\n",
              "      <td>219603447</td>\n",
              "      <td>{\"ACL\": null, \"DBLP\": null, \"ArXiv\": null, \"MA...</td>\n",
              "      <td>https://www.semanticscholar.org/paper/9b9659a4...</td>\n",
              "      <td>Multicenter assessment of the Brain Injury Gui...</td>\n",
              "      <td>{\"{\\\"authorId\\\": \\\"145776250\\\", \\\"name\\\": \\\"Ab...</td>\n",
              "      <td>Trauma Surgery &amp; Acute Care Open</td>\n",
              "      <td>d40f33e8-6f79-4e91-a62e-acf29f9a3e2f</td>\n",
              "      <td>2020.0</td>\n",
              "      <td>35</td>\n",
              "      <td>11</td>\n",
              "      <td>0</td>\n",
              "      <td>True</td>\n",
              "      <td>{\"{\\\"category\\\": \\\"Medicine\\\", \\\"source\\\": \\\"s...</td>\n",
              "      <td>{JournalArticle,Review}</td>\n",
              "      <td>2020-05-01</td>\n",
              "      <td>{\"name\": \"Trauma Surgery &amp; Acute Care Open\", \"...</td>\n",
              "      <td>2023-04-07T01:56:26.282Z</td>\n",
              "      <td>5692637</td>\n",
              "    </tr>\n",
              "    <tr>\n",
              "      <th>8</th>\n",
              "      <td>8</td>\n",
              "      <td>15826244</td>\n",
              "      <td>{\"ACL\": null, \"DBLP\": null, \"ArXiv\": null, \"MA...</td>\n",
              "      <td>https://www.semanticscholar.org/paper/314f8d8a...</td>\n",
              "      <td>Mycobacterium haemophilum as the Initial Prese...</td>\n",
              "      <td>{\"{\\\"authorId\\\": \\\"2060804071\\\", \\\"name\\\": \\\"T...</td>\n",
              "      <td>Case Reports in Rheumatology</td>\n",
              "      <td>884ab217-3965-4a74-90d1-003d0b378d6d</td>\n",
              "      <td>2014.0</td>\n",
              "      <td>24</td>\n",
              "      <td>8</td>\n",
              "      <td>0</td>\n",
              "      <td>True</td>\n",
              "      <td>{\"{\\\"category\\\": \\\"Medicine\\\", \\\"source\\\": \\\"s...</td>\n",
              "      <td>{JournalArticle}</td>\n",
              "      <td>2014-01-12</td>\n",
              "      <td>{\"name\": \"Case Reports in Rheumatology\", \"page...</td>\n",
              "      <td>2023-04-07T01:15:17.667Z</td>\n",
              "      <td>5692638</td>\n",
              "    </tr>\n",
              "    <tr>\n",
              "      <th>9</th>\n",
              "      <td>9</td>\n",
              "      <td>2311509</td>\n",
              "      <td>{\"ACL\": null, \"DBLP\": null, \"ArXiv\": null, \"MA...</td>\n",
              "      <td>https://www.semanticscholar.org/paper/7a0b4601...</td>\n",
              "      <td>Up-regulation and subcellular localization of ...</td>\n",
              "      <td>{\"{\\\"authorId\\\": \\\"14726800\\\", \\\"name\\\": \\\"Hua...</td>\n",
              "      <td>BMC Cancer</td>\n",
              "      <td>b482a99f-ef53-4694-aec6-32ad78e0d716</td>\n",
              "      <td>2010.0</td>\n",
              "      <td>58</td>\n",
              "      <td>44</td>\n",
              "      <td>0</td>\n",
              "      <td>True</td>\n",
              "      <td>{\"{\\\"category\\\": \\\"Biology\\\", \\\"source\\\": \\\"s2...</td>\n",
              "      <td>{JournalArticle}</td>\n",
              "      <td>2010-07-06</td>\n",
              "      <td>{\"name\": \"BMC Cancer\", \"pages\": \"356 - 356\", \"...</td>\n",
              "      <td>2023-04-07T01:28:15.493Z</td>\n",
              "      <td>5692639</td>\n",
              "    </tr>\n",
              "  </tbody>\n",
              "</table>\n",
              "</div>\n",
              "      <button class=\"colab-df-convert\" onclick=\"convertToInteractive('df-ab8e5f9e-bb7f-4b1a-be17-3c61dfa2a4f4')\"\n",
              "              title=\"Convert this dataframe to an interactive table.\"\n",
              "              style=\"display:none;\">\n",
              "        \n",
              "  <svg xmlns=\"http://www.w3.org/2000/svg\" height=\"24px\"viewBox=\"0 0 24 24\"\n",
              "       width=\"24px\">\n",
              "    <path d=\"M0 0h24v24H0V0z\" fill=\"none\"/>\n",
              "    <path d=\"M18.56 5.44l.94 2.06.94-2.06 2.06-.94-2.06-.94-.94-2.06-.94 2.06-2.06.94zm-11 1L8.5 8.5l.94-2.06 2.06-.94-2.06-.94L8.5 2.5l-.94 2.06-2.06.94zm10 10l.94 2.06.94-2.06 2.06-.94-2.06-.94-.94-2.06-.94 2.06-2.06.94z\"/><path d=\"M17.41 7.96l-1.37-1.37c-.4-.4-.92-.59-1.43-.59-.52 0-1.04.2-1.43.59L10.3 9.45l-7.72 7.72c-.78.78-.78 2.05 0 2.83L4 21.41c.39.39.9.59 1.41.59.51 0 1.02-.2 1.41-.59l7.78-7.78 2.81-2.81c.8-.78.8-2.07 0-2.86zM5.41 20L4 18.59l7.72-7.72 1.47 1.35L5.41 20z\"/>\n",
              "  </svg>\n",
              "      </button>\n",
              "      \n",
              "  <style>\n",
              "    .colab-df-container {\n",
              "      display:flex;\n",
              "      flex-wrap:wrap;\n",
              "      gap: 12px;\n",
              "    }\n",
              "\n",
              "    .colab-df-convert {\n",
              "      background-color: #E8F0FE;\n",
              "      border: none;\n",
              "      border-radius: 50%;\n",
              "      cursor: pointer;\n",
              "      display: none;\n",
              "      fill: #1967D2;\n",
              "      height: 32px;\n",
              "      padding: 0 0 0 0;\n",
              "      width: 32px;\n",
              "    }\n",
              "\n",
              "    .colab-df-convert:hover {\n",
              "      background-color: #E2EBFA;\n",
              "      box-shadow: 0px 1px 2px rgba(60, 64, 67, 0.3), 0px 1px 3px 1px rgba(60, 64, 67, 0.15);\n",
              "      fill: #174EA6;\n",
              "    }\n",
              "\n",
              "    [theme=dark] .colab-df-convert {\n",
              "      background-color: #3B4455;\n",
              "      fill: #D2E3FC;\n",
              "    }\n",
              "\n",
              "    [theme=dark] .colab-df-convert:hover {\n",
              "      background-color: #434B5C;\n",
              "      box-shadow: 0px 1px 3px 1px rgba(0, 0, 0, 0.15);\n",
              "      filter: drop-shadow(0px 1px 2px rgba(0, 0, 0, 0.3));\n",
              "      fill: #FFFFFF;\n",
              "    }\n",
              "  </style>\n",
              "\n",
              "      <script>\n",
              "        const buttonEl =\n",
              "          document.querySelector('#df-ab8e5f9e-bb7f-4b1a-be17-3c61dfa2a4f4 button.colab-df-convert');\n",
              "        buttonEl.style.display =\n",
              "          google.colab.kernel.accessAllowed ? 'block' : 'none';\n",
              "\n",
              "        async function convertToInteractive(key) {\n",
              "          const element = document.querySelector('#df-ab8e5f9e-bb7f-4b1a-be17-3c61dfa2a4f4');\n",
              "          const dataTable =\n",
              "            await google.colab.kernel.invokeFunction('convertToInteractive',\n",
              "                                                     [key], {});\n",
              "          if (!dataTable) return;\n",
              "\n",
              "          const docLinkHtml = 'Like what you see? Visit the ' +\n",
              "            '<a target=\"_blank\" href=https://colab.research.google.com/notebooks/data_table.ipynb>data table notebook</a>'\n",
              "            + ' to learn more about interactive tables.';\n",
              "          element.innerHTML = '';\n",
              "          dataTable['output_type'] = 'display_data';\n",
              "          await google.colab.output.renderOutput(dataTable, element);\n",
              "          const docLink = document.createElement('div');\n",
              "          docLink.innerHTML = docLinkHtml;\n",
              "          element.appendChild(docLink);\n",
              "        }\n",
              "      </script>\n",
              "    </div>\n",
              "  </div>\n",
              "  "
            ]
          },
          "metadata": {},
          "execution_count": 7
        }
      ]
    },
    {
      "cell_type": "markdown",
      "source": [
        "## Load Models & Tokenizers"
      ],
      "metadata": {
        "id": "4lgACUZRU7N8"
      }
    },
    {
      "cell_type": "code",
      "source": [
        "bio_bert_model = AutoModel.from_pretrained(\"gsarti/biobert-nli\")\n",
        "bio_bert_tokenizer = AutoTokenizer.from_pretrained(\"gsarti/biobert-nli\")\n",
        "original_bert_tokenizer = BertTokenizer.from_pretrained('bert-base-uncased')"
      ],
      "metadata": {
        "id": "cpWiRNqIU648"
      },
      "execution_count": 8,
      "outputs": []
    },
    {
      "cell_type": "code",
      "source": [
        "T5Abstract_model = TFT5ForConditionalGeneration.from_pretrained('t5-base')\n",
        "T5tokens = T5Tokenizer.from_pretrained('t5-base')\n"
      ],
      "metadata": {
        "colab": {
          "base_uri": "https://localhost:8080/",
          "height": 248,
          "referenced_widgets": [
            "0cf33300bd7441268fa06b8a96d71d1d",
            "04a3734df99945b387ac0246d843701d",
            "4be775dc08ea4fd9b6b0a104f5921de5",
            "6c627d5c458e4b2ca946e7536c2523a5",
            "d2255ffeb73e4cc5ae73ad0b14c01aab",
            "14b60fb3332b462b82e2d7e09f9f139a",
            "f4cc574ad00642e5ac8e5e3dcb633ac6",
            "ff9370b8dd6748099c666684e7c1b2ec",
            "1cecb86e1abd4ebca6a640303c9e39ea",
            "3f05034a339a4ddea3361c9e36590d76",
            "c551ac535fe14ab59ed21dd6a38e13e3"
          ]
        },
        "id": "NrfnypCuU6z4",
        "outputId": "a3c24d30-56aa-4a98-9f7a-16fc9933b3d2"
      },
      "execution_count": 9,
      "outputs": [
        {
          "output_type": "stream",
          "name": "stderr",
          "text": [
            "All PyTorch model weights were used when initializing TFT5ForConditionalGeneration.\n",
            "\n",
            "All the weights of TFT5ForConditionalGeneration were initialized from the PyTorch model.\n",
            "If your task is similar to the task the model of the checkpoint was trained on, you can already use TFT5ForConditionalGeneration for predictions without further training.\n"
          ]
        },
        {
          "output_type": "display_data",
          "data": {
            "text/plain": [
              "Downloading (…)ve/main/spiece.model:   0%|          | 0.00/792k [00:00<?, ?B/s]"
            ],
            "application/vnd.jupyter.widget-view+json": {
              "version_major": 2,
              "version_minor": 0,
              "model_id": "0cf33300bd7441268fa06b8a96d71d1d"
            }
          },
          "metadata": {}
        },
        {
          "output_type": "stream",
          "name": "stderr",
          "text": [
            "/usr/local/lib/python3.10/dist-packages/transformers/models/t5/tokenization_t5.py:163: FutureWarning: This tokenizer was incorrectly instantiated with a model max length of 512 which will be corrected in Transformers v5.\n",
            "For now, this behavior is kept to avoid breaking backwards compatibility when padding/encoding with `truncation is True`.\n",
            "- Be aware that you SHOULD NOT rely on t5-base automatically truncating your input to 512 when padding/encoding.\n",
            "- If you want to encode/pad to sequences longer than 512 you can either instantiate this tokenizer with `model_max_length` or pass `max_length` when encoding/padding.\n",
            "- To avoid this warning, please instantiate this tokenizer with `model_max_length` set to your preferred value.\n",
            "  warnings.warn(\n"
          ]
        }
      ]
    },
    {
      "cell_type": "code",
      "source": [
        "# Get info about the latest release\n",
        "latest_release = requests.get(\"http://api.semanticscholar.org/datasets/v1/release/2023-05-30\",\n",
        "                              headers={'x-api-key':'jvN8XitMY59Wtoqm3FZnc94qRHnsKw3z3hLNh7XB'}).json()\n",
        "\n",
        "# Get info about past releases\n",
        "dataset_ids = requests.get(\"http://api.semanticscholar.org/datasets/v1/release\").json()\n",
        "earliest_release = requests.get(f\"http://api.semanticscholar.org/datasets/v1/release/{dataset_ids[0]}\").json()\n",
        "\n",
        "# Get info about the papers dataset\n",
        "papers = requests.get(\"http://api.semanticscholar.org/datasets/v1/release/latest/dataset/papers\",\n",
        "                      headers={'x-api-key':'jvN8XitMY59Wtoqm3FZnc94qRHnsKw3z3hLNh7XB'}).json()"
      ],
      "metadata": {
        "id": "tSZ8aGxaU6wX"
      },
      "execution_count": 10,
      "outputs": []
    },
    {
      "cell_type": "code",
      "source": [
        "print(json.dumps(latest_release['datasets'][7], indent=1))"
      ],
      "metadata": {
        "id": "flwdnukKU6uI",
        "colab": {
          "base_uri": "https://localhost:8080/"
        },
        "outputId": "45a8c1e6-989a-47e5-fda4-dad9235fc1a2"
      },
      "execution_count": 11,
      "outputs": [
        {
          "output_type": "stream",
          "name": "stdout",
          "text": [
            "{\n",
            " \"name\": \"s2orc\",\n",
            " \"description\": \"Full-body paper text parsed from open-access PDFs. Identifies structural elements such as paragraphs, sections, and bibliography entries.\\n5M records in 30 4GB files.\",\n",
            " \"README\": \"Semantic Scholar Academic Graph Datasets\\n\\nThe \\\"s2orc\\\" dataset contains parsed full-body text from selected papers.\\n\\nA subset of this data was previously released (in a different format) as S2ORC https://github.com/allenai/s2orc\\n\\nThe body text is parsed from PDF documents using Grobid, documented at https://grobid.readthedocs.io.\\nIts output is converted from XML into a single string with a set of annotation spans.\\n\\nSCHEMA\\n - externalIds: IDs of this paper in different catalogs\\n - content:\\n   - source:\\n\\t   - pdfUrls: URLs to the PDF\\n\\t   - oaInfo: license/url/status information from Unpaywall\\n   - text: Full body text as a single string\\n   - annotations: Annotated spans of the full body text\\n\\n\\nLICENSE\\nThis collection is licensed under ODC-BY. (https://opendatacommons.org/licenses/by/1.0/)\\n\\nBy downloading this data you acknowledge that you have read and agreed to all the terms in this license.\\n\\nATTRIBUTION\\nWhen using this data in a product or service, or including data in a redistribution, please cite the following paper:\\n\\n@inproceedings{lo-wang-2020-s2orc,\\n    title = \\\"{S}2{ORC}: The Semantic Scholar Open Research Corpus\\\",\\n    author = \\\"Lo, Kyle  and Wang, Lucy Lu  and Neumann, Mark  and Kinney, Rodney  and Weld, Daniel\\\",\\n    booktitle = \\\"Proceedings of the 58th Annual Meeting of the Association for Computational Linguistics\\\",\\n    month = jul,\\n    year = \\\"2020\\\",\\n    address = \\\"Online\\\",\\n    publisher = \\\"Association for Computational Linguistics\\\",\\n    url = \\\"https://www.aclweb.org/anthology/2020.acl-main.447\\\",\\n    doi = \\\"10.18653/v1/2020.acl-main.447\\\",\\n    pages = \\\"4969--4983\\\"\\n}\\n\"\n",
            "}\n"
          ]
        }
      ]
    },
    {
      "cell_type": "code",
      "source": [
        "sch = SemanticScholar()\n",
        "\n",
        "sch = SemanticScholar(api_key='jvN8XitMY59Wtoqm3FZnc94qRHnsKw3z3hLNh7XB')\n",
        "\n",
        "paper = sch.get_paper('d0bc1501ae6f54dd16534e651d90d2aeeeb1cfc1')  #'10.1093/mind/lix.236.433')\n",
        "\n",
        "paper.referenceCount #number of references in this one, can help us create some sort of pagerank type algo\n",
        "paper.citationCount #number of papers that cited this one\n",
        "paper.externalIds\n",
        "text_example = paper.abstract\n",
        "# paper.embedding\n",
        "print(text_example)"
      ],
      "metadata": {
        "id": "tLeJ_VfSU6pA",
        "colab": {
          "base_uri": "https://localhost:8080/"
        },
        "outputId": "2f3140aa-9934-4116-94db-8911ec216c20"
      },
      "execution_count": 12,
      "outputs": [
        {
          "output_type": "stream",
          "name": "stdout",
          "text": [
            "In spite of many years of work by a multitude of organizations, a clear and simple standard for software engineering and management requirements and a method to assess their applicability to projects of various types and sizes remains elusive. From IEEE to CMMI to NASA's NPR 7150.2, there is no shortage of sources of information providing various types of requirements and standards for software engineering. Even a book on software project management for “dummies” approaches 400 pages. Wading through this information can dizzy the mind of even the most experienced software engineer; the newbie just trying to “do the right thing” will probably give up, open a text editor and start coding. This lack of clarity and simplicity perhaps goes a long way towards explaining why, in spite of this large body of work, there remains such an incredible variability in the knowledge and application of software engineering discipline not only from one organization to the next, but between groups within the same organization, or even between individual developers in the same group! Surely at least the basics of what should be done and why those things should be done can be conveyed in less than a novel-sized volume. There must be some timeless principles that cut across structured and object-oriented techniques, waterfall and agile methods, and CMMI and NASA standards. To properly interpret software engineering requirements and approaches and successfully (and selectively) apply them, one must first understand them at a fundamental level and how they can benefit the project. This paper will make an admittedly bold and brash attempt to boil it all down into something anyone can understand, hopefully resulting in a brief reference — a type of lens through which existing standards can be more practically viewed.\n"
          ]
        }
      ]
    },
    {
      "cell_type": "code",
      "source": [
        "# Get info about the papers dataset\n",
        "papers_2 = requests.get(\"http://api.semanticscholar.org/datasets/v1/release/latest/dataset/papers/5692596\",\n",
        "                      headers={'x-api-key':'jvN8XitMY59Wtoqm3FZnc94qRHnsKw3z3hLNh7XB'}).json()\n",
        "papers_2"
      ],
      "metadata": {
        "colab": {
          "base_uri": "https://localhost:8080/"
        },
        "id": "EKBfw0-mLzGQ",
        "outputId": "32ce849a-61d3-46c6-e0a2-4f082691d77c"
      },
      "execution_count": 53,
      "outputs": [
        {
          "output_type": "execute_result",
          "data": {
            "text/plain": [
              "{'error': 'No dataset named papers/5692596 in release latest'}"
            ]
          },
          "metadata": {},
          "execution_count": 53
        }
      ]
    },
    {
      "cell_type": "code",
      "source": [
        "max_sequence_length = 512\n",
        "embedding_size = 200"
      ],
      "metadata": {
        "id": "FZdi2w4KU6lD"
      },
      "execution_count": 13,
      "outputs": []
    },
    {
      "cell_type": "code",
      "source": [
        "T5tokens(text_example)"
      ],
      "metadata": {
        "id": "cRqm-UfVU6gY",
        "colab": {
          "base_uri": "https://localhost:8080/"
        },
        "outputId": "81d7fb08-1720-4c6f-abd2-1ad5b4d5fc97"
      },
      "execution_count": 14,
      "outputs": [
        {
          "output_type": "execute_result",
          "data": {
            "text/plain": [
              "{'input_ids': [86, 17912, 13, 186, 203, 13, 161, 57, 3, 9, 16635, 13, 2371, 6, 3, 9, 964, 11, 650, 1068, 21, 889, 3867, 11, 758, 1502, 11, 3, 9, 1573, 12, 6570, 70, 1120, 2176, 2020, 12, 1195, 13, 796, 1308, 11, 4342, 3048, 3, 29748, 5, 1029, 23570, 12, 3, 5518, 7075, 12, 15971, 31, 7, 445, 5554, 489, 1808, 18189, 6, 132, 19, 150, 16316, 13, 2836, 13, 251, 1260, 796, 1308, 13, 1502, 11, 2443, 21, 889, 3867, 5, 1441, 3, 9, 484, 30, 889, 516, 758, 21, 105, 26, 30885, 153, 6315, 4837, 1688, 5, 3129, 26, 53, 190, 48, 251, 54, 1227, 19974, 8, 809, 13, 237, 8, 167, 1906, 889, 9739, 117, 8, 126, 4232, 131, 1119, 12, 105, 26, 32, 8, 269, 589, 153, 56, 1077, 428, 95, 6, 539, 3, 9, 1499, 6005, 11, 456, 3, 9886, 5, 100, 2136, 13, 12428, 11, 16538, 2361, 1550, 3, 9, 307, 194, 1587, 13834, 572, 6, 16, 17912, 13, 48, 508, 643, 13, 161, 6, 132, 3048, 224, 46, 3904, 27980, 16, 8, 1103, 11, 917, 13, 889, 3867, 7998, 59, 163, 45, 80, 1470, 12, 8, 416, 6, 68, 344, 1637, 441, 8, 337, 1470, 6, 42, 237, 344, 928, 5564, 16, 8, 337, 563, 55, 3, 28186, 44, 709, 8, 14311, 13, 125, 225, 36, 612, 11, 572, 273, 378, 225, 36, 612, 54, 36, 11770, 15, 26, 16, 705, 145, 3, 9, 3714, 18, 5120, 2908, 5, 290, 398, 36, 128, 19408, 5559, 24, 1340, 640, 14039, 11, 3735, 18, 9442, 2097, 6, 17067, 11, 20562, 2254, 6, 11, 3, 5518, 7075, 11, 15971, 2443, 5, 304, 3085, 7280, 889, 3867, 1502, 11, 6315, 11, 4234, 41, 232, 20459, 120, 61, 1581, 135, 6, 80, 398, 166, 734, 135, 44, 3, 9, 4431, 593, 11, 149, 79, 54, 1656, 8, 516, 5, 100, 1040, 56, 143, 46, 10246, 120, 8197, 11, 3, 115, 12380, 3332, 12, 13374, 34, 66, 323, 139, 424, 1321, 54, 734, 6, 8858, 3, 5490, 16, 3, 9, 4456, 2848, 3, 318, 3, 9, 686, 13, 6888, 190, 84, 1895, 2443, 54, 36, 72, 16447, 3, 4931, 5, 1], 'attention_mask': [1, 1, 1, 1, 1, 1, 1, 1, 1, 1, 1, 1, 1, 1, 1, 1, 1, 1, 1, 1, 1, 1, 1, 1, 1, 1, 1, 1, 1, 1, 1, 1, 1, 1, 1, 1, 1, 1, 1, 1, 1, 1, 1, 1, 1, 1, 1, 1, 1, 1, 1, 1, 1, 1, 1, 1, 1, 1, 1, 1, 1, 1, 1, 1, 1, 1, 1, 1, 1, 1, 1, 1, 1, 1, 1, 1, 1, 1, 1, 1, 1, 1, 1, 1, 1, 1, 1, 1, 1, 1, 1, 1, 1, 1, 1, 1, 1, 1, 1, 1, 1, 1, 1, 1, 1, 1, 1, 1, 1, 1, 1, 1, 1, 1, 1, 1, 1, 1, 1, 1, 1, 1, 1, 1, 1, 1, 1, 1, 1, 1, 1, 1, 1, 1, 1, 1, 1, 1, 1, 1, 1, 1, 1, 1, 1, 1, 1, 1, 1, 1, 1, 1, 1, 1, 1, 1, 1, 1, 1, 1, 1, 1, 1, 1, 1, 1, 1, 1, 1, 1, 1, 1, 1, 1, 1, 1, 1, 1, 1, 1, 1, 1, 1, 1, 1, 1, 1, 1, 1, 1, 1, 1, 1, 1, 1, 1, 1, 1, 1, 1, 1, 1, 1, 1, 1, 1, 1, 1, 1, 1, 1, 1, 1, 1, 1, 1, 1, 1, 1, 1, 1, 1, 1, 1, 1, 1, 1, 1, 1, 1, 1, 1, 1, 1, 1, 1, 1, 1, 1, 1, 1, 1, 1, 1, 1, 1, 1, 1, 1, 1, 1, 1, 1, 1, 1, 1, 1, 1, 1, 1, 1, 1, 1, 1, 1, 1, 1, 1, 1, 1, 1, 1, 1, 1, 1, 1, 1, 1, 1, 1, 1, 1, 1, 1, 1, 1, 1, 1, 1, 1, 1, 1, 1, 1, 1, 1, 1, 1, 1, 1, 1, 1, 1, 1, 1, 1, 1, 1, 1, 1, 1, 1, 1, 1, 1, 1, 1, 1, 1, 1, 1, 1, 1, 1, 1, 1, 1, 1, 1, 1, 1, 1, 1, 1, 1, 1, 1, 1, 1, 1, 1, 1, 1, 1, 1, 1, 1, 1, 1, 1, 1, 1, 1, 1, 1, 1, 1, 1, 1, 1, 1, 1]}"
            ]
          },
          "metadata": {},
          "execution_count": 14
        }
      ]
    },
    {
      "cell_type": "code",
      "source": [
        "### Instead of summarization can be used for classification of papers\n",
        "def biobert_classifier(embedding_size = 200, input_dimensions = 3, hidden_layers = 0, max_sequence_length = 512, learning_rate=0.01):\n",
        "  input_ids = tf.keras.layers.Input(shape=embedding_size, name=\"input_ids\")\n",
        "  token_type_ids = tf.keras.layers.Input(shape=embedding_size, name=\"token_type_id\")\n",
        "  attention_mask = tf.keras.layers.Input(shape=embedding_size, name=\"attention_mask\")\n",
        "\n",
        "  model_inputs = {\"input_ids\": input_ids,\n",
        "                  \"token_type_ids\": token_type_ids,\n",
        "                  \"attention_mask\": attention_mask}\n",
        "\n",
        "  embedding_matrix = tf.keras.layers.Embedding(200)\n",
        "\n",
        "  normalization_layer = tf.keras.layers.BatchNormalization()\n",
        "\n",
        "  attention_layer = tf.keras.layers.Attention()\n",
        "\n",
        "  pooler_layer = bio_bert_model(model_inputs)[0]\n",
        "\n",
        "  dense_layer = tf.keras.layers.Dense(100, activation=\"relu\")(pooler_layer)\n",
        "\n",
        "  dropout_layer = tf.keras.layers.Dropout(0.3)(dense_layer)\n",
        "\n",
        "  final_layer = tf.keras.layers.Dense(1, activation=\"relu\")(dropout_layer)\n",
        "\n",
        "  classification_layer = tf.keras.layers.Dense(1, activation='sigmoid')(final_layer)\n",
        "\n",
        "  model = tf.keras.Model(inputs = [input_ids, token_type_ids, attention_mask], outputs = [classification_layer])\n",
        "\n",
        "  model.compile(optimizer=tf.keras.optimizers.Adam(learning_rate=learning_rate),\n",
        "                loss = tf.keras.losses.BinaryCrossentropy,\n",
        "                metrics = [tf.keras.metrics.Accuracy, tf.keras.metrics.Precision])\n",
        "\n",
        "  return model"
      ],
      "metadata": {
        "id": "sWhLy64ZU6WY"
      },
      "execution_count": 15,
      "outputs": []
    },
    {
      "cell_type": "code",
      "source": [
        "summary_task_prefix = \"Summarize :\"\n",
        "qa_task_prefix = \"Question :\""
      ],
      "metadata": {
        "id": "1DKmtjr2d57m"
      },
      "execution_count": 16,
      "outputs": []
    },
    {
      "cell_type": "code",
      "source": [
        "### T5 Abstractive Text Summarization Model\n",
        "def t5summary_model(tokenizer, text, t5model):\n",
        "    summarize = \"summarize: \"\n",
        "    encoding = tokenizer([summarize+text], return_tensors='tf')\n",
        "    output = t5model.generate(encoding.input_ids,\n",
        "                             num_beams=3,\n",
        "                            no_repeat_ngram_size=2,\n",
        "                              top_k=10,\n",
        "                              top_p=80,\n",
        "                              max_length=50,\n",
        "                              min_length=30\n",
        "                             )\n",
        "    print([tokenizer.decode(w, skip_special_tokens=True, clean_up_tokenization_spaces=True) for w in output])\n",
        "#     print(summary)"
      ],
      "metadata": {
        "id": "fmBwhjTrd525"
      },
      "execution_count": 17,
      "outputs": []
    },
    {
      "cell_type": "code",
      "source": [
        "T5Abstract_model"
      ],
      "metadata": {
        "colab": {
          "base_uri": "https://localhost:8080/"
        },
        "id": "ohWY_Oi9d5y0",
        "outputId": "f5d7802b-4234-464f-e0a5-b680561d687e"
      },
      "execution_count": 18,
      "outputs": [
        {
          "output_type": "execute_result",
          "data": {
            "text/plain": [
              "<transformers.models.t5.modeling_tf_t5.TFT5ForConditionalGeneration at 0x7f40109451e0>"
            ]
          },
          "metadata": {},
          "execution_count": 18
        }
      ]
    },
    {
      "cell_type": "code",
      "source": [
        "biogpttokenizer = BioGptTokenizer.from_pretrained(\"microsoft/biogpt\")\n",
        "biogptmodel = BioGptForCausalLM.from_pretrained(\"microsoft/biogpt\")\n"
      ],
      "metadata": {
        "colab": {
          "base_uri": "https://localhost:8080/",
          "height": 145,
          "referenced_widgets": [
            "510dc194a105444fa739382c107e469d",
            "0001e275454f4667a10bebea635a33d5",
            "79daafe6f4d643d7b846ab4c13fdbed8",
            "4f1bb584a97b4465870f9e65951c1c04",
            "26f6cb1a22804d28be68ea5958dd5c3d",
            "1d2c6c5c826c4902a7ead5351de7b186",
            "748dbe35b43744e9828377cc226c0a34",
            "3f2f8da3ac4540acb28e0012592eb4a0",
            "de75b7c8743a4fb0abcd891f8b8e8d4d",
            "ed878c4046fa46a59986233db6ad2cf9",
            "6559a9587c704ab6b76ab0286a2b6fcc",
            "09ec1ab267d5417685078b678eefde0c",
            "1c5a8385c2dc4206b41d23a03627721d",
            "112530c0c3c44bef905e2c6d7846c2f5",
            "cdd6d71682c34908810193510f911c59",
            "a3263dbbdbfd40c6b19111e93759c40f",
            "ac085e3803b04d1a968f531f6fbe75f0",
            "92833490d9174f76896423f53e42c40b",
            "c3568587310a4ad98beae293d72e8815",
            "ba93b9ade4854278957ccbaeef2a2274",
            "96198d981f9d491d90fc837eb0ec395c",
            "8680cbfb096e4ec59bdbd16f62e363bb",
            "5b94c6aaf70c465e860693c10646db59",
            "92ad1e4a1dac4ac29c140031f52715eb",
            "c60a436815804d0fab89a71334585ff0",
            "e1c5c4fa9f8c4cc38ae1f08c4b5d8545",
            "a9b5a4c88ca64ce789aaa6252b31c031",
            "3a16cc2741864c7486049635f4172f66",
            "3a1c8c3d3ccd441f8b38858897f161b4",
            "300a654f25f24f8389da764d39ec9d7e",
            "687b0d6527aa42bbb37ad5851e0ec961",
            "6b04b4a3516542f2a91c2a52baa97fd1",
            "f9d2243240c14d658b885401a019af3c",
            "1a3d2f0674574175ba5349ac95de8d28",
            "4998e0eeac82457c86d0a543c4f9e6bd",
            "5b68ca1917c849fa826a3c26651afaa0",
            "838fd663d65f4a1b961c159c85530fa3",
            "a9e3965cb4364d389df2f5896a4991d8",
            "c5fffe66c19e4ba7a3da3e1c1f3f3303",
            "67f595316f7a4fa785e1967943b298f0",
            "9cb04ac27a83415fbf00773ee73f86a9",
            "13be9cef81f94d30bd8515b11e410427",
            "0d8538e1674341d990fda9f577f95c3f",
            "22442c9618aa405aa2068239c06246aa"
          ]
        },
        "id": "wulF_yIEeJHP",
        "outputId": "f0caa849-1bcf-4fa0-8754-9ab3fac2d98c"
      },
      "execution_count": 19,
      "outputs": [
        {
          "output_type": "display_data",
          "data": {
            "text/plain": [
              "Downloading (…)olve/main/vocab.json:   0%|          | 0.00/927k [00:00<?, ?B/s]"
            ],
            "application/vnd.jupyter.widget-view+json": {
              "version_major": 2,
              "version_minor": 0,
              "model_id": "510dc194a105444fa739382c107e469d"
            }
          },
          "metadata": {}
        },
        {
          "output_type": "display_data",
          "data": {
            "text/plain": [
              "Downloading (…)olve/main/merges.txt:   0%|          | 0.00/696k [00:00<?, ?B/s]"
            ],
            "application/vnd.jupyter.widget-view+json": {
              "version_major": 2,
              "version_minor": 0,
              "model_id": "09ec1ab267d5417685078b678eefde0c"
            }
          },
          "metadata": {}
        },
        {
          "output_type": "display_data",
          "data": {
            "text/plain": [
              "Downloading (…)lve/main/config.json:   0%|          | 0.00/595 [00:00<?, ?B/s]"
            ],
            "application/vnd.jupyter.widget-view+json": {
              "version_major": 2,
              "version_minor": 0,
              "model_id": "5b94c6aaf70c465e860693c10646db59"
            }
          },
          "metadata": {}
        },
        {
          "output_type": "display_data",
          "data": {
            "text/plain": [
              "Downloading pytorch_model.bin:   0%|          | 0.00/1.56G [00:00<?, ?B/s]"
            ],
            "application/vnd.jupyter.widget-view+json": {
              "version_major": 2,
              "version_minor": 0,
              "model_id": "1a3d2f0674574175ba5349ac95de8d28"
            }
          },
          "metadata": {}
        }
      ]
    },
    {
      "cell_type": "code",
      "source": [
        "t5summary_model(T5tokens, text_example, T5Abstract_model)"
      ],
      "metadata": {
        "colab": {
          "base_uri": "https://localhost:8080/"
        },
        "id": "5Sm-FWuleJDl",
        "outputId": "aab35495-310f-4926-b340-a9e97673ff7a"
      },
      "execution_count": 20,
      "outputs": [
        {
          "output_type": "stream",
          "name": "stdout",
          "text": [
            "['a clear and simple standard for software engineering and management requirements remains elusive. the paper will make an admittedly bold and brash attempt to boil it all down into something anyone can understand, hopefully resulting in an brief reference']\n"
          ]
        }
      ]
    },
    {
      "cell_type": "markdown",
      "source": [
        "### Q&A Model"
      ],
      "metadata": {
        "id": "3qF-4YLaeVLr"
      }
    },
    {
      "cell_type": "code",
      "source": [
        "bertqa = TFBertForQuestionAnswering.from_pretrained('bert-base-uncased')\n",
        "berttokenizer = BertTokenizer.from_pretrained('bert-base-uncased')"
      ],
      "metadata": {
        "colab": {
          "base_uri": "https://localhost:8080/",
          "height": 120,
          "referenced_widgets": [
            "ddb9f1f126e941e49dcd63e5f5299b3d",
            "9a19f7a3201f4af2bd100a2fdbf64c62",
            "d5e8f8a56335431e888d150010b7433c",
            "ceef42b2c3d14831a53f285f8be1c742",
            "fb03ffc94a454cde97eda7dcf031953d",
            "e4d0c36e45b94f878e5d0ddfc19e411c",
            "a677941aad65459597813f2821fa3e5b",
            "f237223c399142c9ab227b3a6fe62c16",
            "2dd18df75dc84449be46c088ac543120",
            "5d8f21580ce84a70b632ba3627369f50",
            "24a2600af4af4b7aa5d5811084ea4bc2"
          ]
        },
        "id": "8bpAfVC7Cz3d",
        "outputId": "67cc93f3-207c-4c6e-9421-59f1b25385e0"
      },
      "execution_count": 21,
      "outputs": [
        {
          "output_type": "display_data",
          "data": {
            "text/plain": [
              "Downloading model.safetensors:   0%|          | 0.00/440M [00:00<?, ?B/s]"
            ],
            "application/vnd.jupyter.widget-view+json": {
              "version_major": 2,
              "version_minor": 0,
              "model_id": "ddb9f1f126e941e49dcd63e5f5299b3d"
            }
          },
          "metadata": {}
        },
        {
          "output_type": "stream",
          "name": "stderr",
          "text": [
            "All PyTorch model weights were used when initializing TFBertForQuestionAnswering.\n",
            "\n",
            "Some weights or buffers of the TF 2.0 model TFBertForQuestionAnswering were not initialized from the PyTorch model and are newly initialized: ['qa_outputs.weight', 'qa_outputs.bias']\n",
            "You should probably TRAIN this model on a down-stream task to be able to use it for predictions and inference.\n"
          ]
        }
      ]
    },
    {
      "cell_type": "code",
      "source": [
        "sample_question = \"question: What is the capital city of Switzerland?\"\n",
        "sample_context = \"context: Many people are surprised when they hear that pretty little Bern is the Swiss capital. Surely industrial Zurich or international Geneva would be more logical, they say. But it's precisely to avoid a concentration of power that Bern was chosen as the “federal city” exactly 170 years ago.\"\n",
        "\n",
        "tokenized_qa = berttokenizer([sample_question + sample_context], return_tensors ='tf')\n",
        "model_output = bertqa(**tokenized_qa)\n",
        "\n",
        "answer_start_index = int(tf.math.argmax(model_output.start_logits, axis=-1)[0])\n",
        "answer_end_index = int(tf.math.argmax(model_output.end_logits, axis=-1)[0])\n",
        "print(answer_end_index)\n",
        "answer_encoded = tokenized_qa.input_ids[0,answer_start_index:answer_end_index]\n",
        "start_answer = tokenized_qa.input_ids[0][answer_start_index]\n",
        "print(berttokenizer.decode(answer_encoded, skip_special_tokens=True, clean_up_tokenization_spaces=True))"
      ],
      "metadata": {
        "colab": {
          "base_uri": "https://localhost:8080/"
        },
        "id": "tSfBsw63EHL9",
        "outputId": "48501b8d-226a-4393-be1f-51e10246e1d5"
      },
      "execution_count": 29,
      "outputs": [
        {
          "output_type": "stream",
          "name": "stdout",
          "text": [
            "69\n",
            "question : what is the capital city of switzerland? context : many people are surprised when they hear that pretty little bern is the swiss capital. surely industrial zurich or international geneva would be more logical, they say. but it's precisely to avoid a concentration of power that bern was chosen as the “ federal city ” exactly 170 years ago.\n"
          ]
        }
      ]
    },
    {
      "cell_type": "code",
      "source": [
        "from transformers import RobertaForSequenceClassification, RobertaTokenizer"
      ],
      "metadata": {
        "id": "emGa3wTayv45"
      },
      "execution_count": 31,
      "outputs": []
    },
    {
      "cell_type": "code",
      "source": [
        "from transformers import RobertaForQuestionAnswering, RobertaTokenizer, AutoTokenizer, TFAutoModel\n",
        "roberta_tokens = AutoTokenizer.from_pretrained(\"deepset/roberta-base-squad2\")\n",
        "robertaqa_model = TFAutoModel.from_pretrained(\"deepset/roberta-base-squad2\")"
      ],
      "metadata": {
        "colab": {
          "base_uri": "https://localhost:8080/"
        },
        "id": "1a1eg3HeyrTk",
        "outputId": "60e864c7-e01b-42b0-909e-2c48f6bc03f5"
      },
      "execution_count": 45,
      "outputs": [
        {
          "output_type": "stream",
          "name": "stderr",
          "text": [
            "Some weights of the PyTorch model were not used when initializing the TF 2.0 model TFRobertaModel: ['qa_outputs.bias', 'qa_outputs.weight', 'roberta.embeddings.position_ids']\n",
            "- This IS expected if you are initializing TFRobertaModel from a PyTorch model trained on another task or with another architecture (e.g. initializing a TFBertForSequenceClassification model from a BertForPreTraining model).\n",
            "- This IS NOT expected if you are initializing TFRobertaModel from a PyTorch model that you expect to be exactly identical (e.g. initializing a TFBertForSequenceClassification model from a BertForSequenceClassification model).\n",
            "Some weights or buffers of the TF 2.0 model TFRobertaModel were not initialized from the PyTorch model and are newly initialized: ['roberta.pooler.dense.weight', 'roberta.pooler.dense.bias']\n",
            "You should probably TRAIN this model on a down-stream task to be able to use it for predictions and inference.\n"
          ]
        }
      ]
    },
    {
      "cell_type": "code",
      "source": [
        "roberta_tokenized_qa = roberta_tokens([sample_question + sample_context], padding=True,  return_tensors='tf')\n",
        "roberta_model_layer = robertaqa_model(**roberta_tokenized_qa)\n",
        "\n"
      ],
      "metadata": {
        "colab": {
          "base_uri": "https://localhost:8080/",
          "height": 206
        },
        "id": "jwW18H4ez7W3",
        "outputId": "56e0c33b-9778-4ec9-8f41-52bf1572e382"
      },
      "execution_count": 48,
      "outputs": [
        {
          "output_type": "error",
          "ename": "AttributeError",
          "evalue": "ignored",
          "traceback": [
            "\u001b[0;31m---------------------------------------------------------------------------\u001b[0m",
            "\u001b[0;31mAttributeError\u001b[0m                            Traceback (most recent call last)",
            "\u001b[0;32m<ipython-input-48-3b517b90cf2d>\u001b[0m in \u001b[0;36m<cell line: 4>\u001b[0;34m()\u001b[0m\n\u001b[1;32m      2\u001b[0m \u001b[0mroberta_model_layer\u001b[0m \u001b[0;34m=\u001b[0m \u001b[0mrobertaqa_model\u001b[0m\u001b[0;34m(\u001b[0m\u001b[0;34m**\u001b[0m\u001b[0mroberta_tokenized_qa\u001b[0m\u001b[0;34m)\u001b[0m\u001b[0;34m\u001b[0m\u001b[0;34m\u001b[0m\u001b[0m\n\u001b[1;32m      3\u001b[0m \u001b[0;34m\u001b[0m\u001b[0m\n\u001b[0;32m----> 4\u001b[0;31m \u001b[0mroberta_model_layer\u001b[0m\u001b[0;34m.\u001b[0m\u001b[0mstart_logits\u001b[0m\u001b[0;34m\u001b[0m\u001b[0;34m\u001b[0m\u001b[0m\n\u001b[0m",
            "\u001b[0;31mAttributeError\u001b[0m: 'TFBaseModelOutputWithPoolingAndCrossAttentions' object has no attribute 'start_logits'"
          ]
        }
      ]
    },
    {
      "cell_type": "code",
      "source": [
        "tokenized_qa.input_ids[0]"
      ],
      "metadata": {
        "colab": {
          "base_uri": "https://localhost:8080/"
        },
        "id": "900U0j2VIWfz",
        "outputId": "c1e7535c-806c-4658-ebda-2ac82dd6fe43"
      },
      "execution_count": 30,
      "outputs": [
        {
          "output_type": "execute_result",
          "data": {
            "text/plain": [
              "<tf.Tensor: shape=(70,), dtype=int32, numpy=\n",
              "array([  101,  3160,  1024,  2054,  2003,  1996,  3007,  2103,  1997,\n",
              "        5288,  1029,  6123,  1024,  2116,  2111,  2024,  4527,  2043,\n",
              "        2027,  2963,  2008,  3492,  2210, 16595,  2003,  1996,  5364,\n",
              "        3007,  1012,  7543,  3919, 10204,  2030,  2248,  9810,  2052,\n",
              "        2022,  2062, 11177,  1010,  2027,  2360,  1012,  2021,  2009,\n",
              "        1005,  1055, 10785,  2000,  4468,  1037,  6693,  1997,  2373,\n",
              "        2008, 16595,  2001,  4217,  2004,  1996,  1523,  2976,  2103,\n",
              "        1524,  3599, 10894,  2086,  3283,  1012,   102], dtype=int32)>"
            ]
          },
          "metadata": {},
          "execution_count": 30
        }
      ]
    },
    {
      "cell_type": "code",
      "source": [
        "model_output"
      ],
      "metadata": {
        "colab": {
          "base_uri": "https://localhost:8080/"
        },
        "id": "r-7Okey2GUlk",
        "outputId": "5e45f604-4d55-4f26-bf81-915b954c3287"
      },
      "execution_count": 56,
      "outputs": [
        {
          "output_type": "execute_result",
          "data": {
            "text/plain": [
              "TFQuestionAnsweringModelOutput(loss=None, start_logits=<tf.Tensor: shape=(1, 67), dtype=float32, numpy=\n",
              "array([[ 0.16508265,  0.45413932,  0.04580224,  0.09424645, -0.07182357,\n",
              "        -0.11457947,  0.11367559,  0.12410395, -0.00738204,  0.29390356,\n",
              "        -0.19900739, -0.12262025, -0.00352622, -0.26001504,  0.16652006,\n",
              "         0.11015014, -0.05808127, -0.07685345, -0.05458946,  0.0009411 ,\n",
              "        -0.01198626, -0.01611032, -0.11756027, -0.08084115,  0.04347808,\n",
              "        -0.48372173, -0.09519623, -0.24002753,  0.12300973,  0.3441984 ,\n",
              "         0.14760727,  0.06125803, -0.20339994,  0.13757387,  0.00848398,\n",
              "        -0.21722472,  0.04151647, -0.19865523, -0.18272205, -0.48353076,\n",
              "         0.01219941,  0.0961633 , -0.25447947, -0.24058512,  0.04575343,\n",
              "        -0.48203897, -0.21114022, -0.5456536 , -0.5361859 , -0.62731385,\n",
              "        -0.24357261, -0.1540298 ,  0.04120081,  0.18258283, -0.15227222,\n",
              "        -0.01945501,  0.08738828, -0.1486671 ,  0.01810225, -0.10272819,\n",
              "        -0.07920434,  0.35868502,  0.2290863 , -0.11908378,  0.01715866,\n",
              "        -0.4824056 , -0.49840283]], dtype=float32)>, end_logits=<tf.Tensor: shape=(1, 67), dtype=float32, numpy=\n",
              "array([[-0.37842977, -0.54591346, -0.44190007, -0.38354486,  0.13024455,\n",
              "         0.06996022, -0.45764387,  0.43116495, -0.11723499,  0.01687711,\n",
              "         0.5574734 ,  0.33378688,  0.2612868 ,  0.3110443 ,  0.3782298 ,\n",
              "         0.16576321,  0.18096304, -0.07256892,  0.39907604,  0.24963456,\n",
              "         0.3622578 , -0.06117686, -0.14129427,  0.5727215 ,  0.37569267,\n",
              "         0.14167741,  0.13949206,  0.24147311,  0.3260344 ,  0.15811396,\n",
              "         0.3378716 ,  0.2719077 ,  0.13317478,  0.23574993,  0.3364743 ,\n",
              "         0.4285242 ,  0.19086096,  0.38646862, -0.07961759,  0.14901032,\n",
              "         0.15892452,  0.24136557,  0.09169276,  0.35769293,  0.29266548,\n",
              "        -0.07014388,  0.2757585 ,  0.18478319, -0.03836624, -0.00678906,\n",
              "         0.31032312, -0.21862847,  0.42310455,  0.12014231,  0.34813502,\n",
              "         0.236927  ,  0.06859855,  0.28040168,  0.636027  ,  0.25104234,\n",
              "         0.23734462,  0.33618522,  0.23546293,  0.38733557,  0.19625211,\n",
              "         0.1427074 ,  0.16689417]], dtype=float32)>, hidden_states=None, attentions=None)"
            ]
          },
          "metadata": {},
          "execution_count": 56
        }
      ]
    },
    {
      "cell_type": "code",
      "source": [
        "### BioBERT or BERT Q&A or Clincal-T5-Large\n",
        "sample_question = \"question: What is the capital city of Switzerland?\"\n",
        "sample_context = \"context: Many people are surprised when they hear that pretty little Bern is the Swiss capital. Surely industrial Zurich or international Geneva would be more logical, they say. But it's precisely to avoid a concentration of power that Bern was chosen as the “federal city” exactly 170 years ago.\"\n",
        "\n",
        "encoding_gpt = biogpttokenizer([sample_question + sample_context], return_tensors='tf')\n",
        "encoding_gpt\n",
        "# encoded_answer = biogptmodel.generate(encoding_gpt.input_ids,\n",
        "                                      # num_beams = 3,\n",
        "                                      # top_p = 80,\n",
        "                                      # top_k = 4,\n",
        "                                      # no_repeat_ngram_size = 2,\n",
        "                                      # max_length = 10,\n",
        "                                      # min_length =2\n",
        "                                      # )\n",
        "# decoded_answer = biogpttokenizer.decode(encoded_answer)\n",
        "# print(decoded_answer)"
      ],
      "metadata": {
        "colab": {
          "base_uri": "https://localhost:8080/"
        },
        "id": "y1b4xIO-eI_8",
        "outputId": "32bc2e5f-dd2b-4503-97e0-7abb7289f6d4"
      },
      "execution_count": 41,
      "outputs": [
        {
          "output_type": "execute_result",
          "data": {
            "text/plain": [
              "{'input_ids': <tf.Tensor: shape=(1, 79), dtype=int32, numpy=\n",
              "array([[    2,  2969,    20,  5732,    21,     6, 11991,  5712,     5,\n",
              "        14693,   927,  1544,    20,  2621,   962,    31, 32991,  4464,\n",
              "          154,   298,  3734,  1770,    22,   968,   765,  7484,  1161,\n",
              "        14421,   169,    21,     6, 11029, 11991,     4,   250, 37144,\n",
              "         5132,  1196,  1595, 10956,    30,  3560,  7661,  3838,    14,\n",
              "          739,    33,    77, 10775,     7,   298, 20933,     4,  6349,\n",
              "          114,   121,  8641,    13,  3350,    14,   276,     5,  1382,\n",
              "           22, 14421,   169,    17,  4852,    27,     6,     3, 14191,\n",
              "         5712,     3, 15362,  8093,   113,  5306,     4]], dtype=int32)>, 'attention_mask': <tf.Tensor: shape=(1, 79), dtype=int32, numpy=\n",
              "array([[1, 1, 1, 1, 1, 1, 1, 1, 1, 1, 1, 1, 1, 1, 1, 1, 1, 1, 1, 1, 1, 1,\n",
              "        1, 1, 1, 1, 1, 1, 1, 1, 1, 1, 1, 1, 1, 1, 1, 1, 1, 1, 1, 1, 1, 1,\n",
              "        1, 1, 1, 1, 1, 1, 1, 1, 1, 1, 1, 1, 1, 1, 1, 1, 1, 1, 1, 1, 1, 1,\n",
              "        1, 1, 1, 1, 1, 1, 1, 1, 1, 1, 1, 1, 1]], dtype=int32)>}"
            ]
          },
          "metadata": {},
          "execution_count": 41
        }
      ]
    },
    {
      "cell_type": "markdown",
      "source": [
        "### Extractive Summary Models"
      ],
      "metadata": {
        "id": "39IxNMHIeaAn"
      }
    },
    {
      "cell_type": "code",
      "source": [
        "### T5 or T5v1 or Clincal-T5-Large or Bio-GPT"
      ],
      "metadata": {
        "id": "kSEo_HlNeI88"
      },
      "execution_count": 22,
      "outputs": []
    },
    {
      "cell_type": "markdown",
      "source": [
        "### Classification Model"
      ],
      "metadata": {
        "id": "T_gD-Atdegwi"
      }
    },
    {
      "cell_type": "code",
      "source": [
        "### BERT or Bio-GPT"
      ],
      "metadata": {
        "id": "QCAiuz6_el9U"
      },
      "execution_count": 23,
      "outputs": []
    },
    {
      "cell_type": "markdown",
      "source": [
        "### NER Model"
      ],
      "metadata": {
        "id": "TSqrOHYjenKC"
      }
    },
    {
      "cell_type": "code",
      "source": [
        "### BioELECTRA"
      ],
      "metadata": {
        "id": "kcl5hpH_epBb"
      },
      "execution_count": 24,
      "outputs": []
    },
    {
      "cell_type": "markdown",
      "source": [],
      "metadata": {
        "id": "8wr6j1wJPUlO"
      }
    }
  ]
}