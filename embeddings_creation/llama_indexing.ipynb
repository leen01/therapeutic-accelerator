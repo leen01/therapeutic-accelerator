{
 "cells": [
  {
   "cell_type": "markdown",
   "metadata": {},
   "source": [
    "# Llama Indexing for Chroma"
   ]
  },
  {
   "cell_type": "code",
   "execution_count": 13,
   "metadata": {},
   "outputs": [],
   "source": [
    "import chromadb\n",
    "from chromadb.config import Settings\n",
    "from chromadb.utils import embedding_functions\n",
    "\n",
    "from llama_index import VectorStoreIndex, SimpleDirectoryReader\n",
    "from llama_index.vector_stores import ChromaVectorStore\n",
    "from llama_index.storage.storage_context import StorageContext\n",
    "from langchain.embeddings.huggingface import HuggingFaceEmbeddings\n",
    "from llama_index.embeddings import LangchainEmbedding\n",
    "\n",
    "from IPython.display import Markdown, display\n"
   ]
  },
  {
   "cell_type": "code",
   "execution_count": 8,
   "metadata": {},
   "outputs": [
    {
     "name": "stdout",
     "output_type": "stream",
     "text": [
      "Nanosecond heartbeat on server 1688939199295354373000\n",
      "[Collection(name=fulltext)]\n"
     ]
    }
   ],
   "source": [
    "\n",
    "# Create chroma client\n",
    "# chroma_client = chromadb.Client()\n",
    "# chroma_client = chromadb.Client(Settings(chroma_api_impl=\"rest\",\n",
    "#                                 chroma_server_host=\"18.233.156.143\",  # EC2 instance public IPv4\n",
    "#                                 chroma_server_http_port=8000))\n",
    "\n",
    "db = chromadb.Client(\n",
    "    Settings(chroma_db_impl=\"duckdb+parquet\", persist_directory=\"./chroma_db\")\n",
    ")\n",
    "\n",
    "# returns a nanosecond heartbeat. Useful for making sure the client remains connected.\n",
    "print(\"Nanosecond heartbeat on server\", chroma_client.heartbeat())\n",
    "\n",
    "# Check Existing connections\n",
    "print(chroma_client.list_collections())\n",
    "\n",
    "default_ef = embedding_functions.DefaultEmbeddingFunction()\n",
    "collection = db.get_or_create_collection(\"fulltext\")"
   ]
  },
  {
   "cell_type": "code",
   "execution_count": null,
   "metadata": {},
   "outputs": [],
   "source": [
    "collection.add(*doc)"
   ]
  },
  {
   "cell_type": "code",
   "execution_count": 9,
   "metadata": {},
   "outputs": [],
   "source": [
    "# set up OpenAI\n",
    "import os\n",
    "import getpass\n",
    "\n",
    "os.environ[\"OPENAI_API_KEY\"] = getpass.getpass(\"OpenAI API Key:\")\n"
   ]
  },
  {
   "cell_type": "code",
   "execution_count": 15,
   "metadata": {},
   "outputs": [
    {
     "data": {
      "application/vnd.jupyter.widget-view+json": {
       "model_id": "03557ec7da5f4fe5b82a1827896d58ab",
       "version_major": 2,
       "version_minor": 0
      },
      "text/plain": [
       "Downloading (…)a8e1d/.gitattributes:   0%|          | 0.00/1.18k [00:00<?, ?B/s]"
      ]
     },
     "metadata": {},
     "output_type": "display_data"
    },
    {
     "data": {
      "application/vnd.jupyter.widget-view+json": {
       "model_id": "05a7f7e41e2a470fa9cd0c1f24ea3f33",
       "version_major": 2,
       "version_minor": 0
      },
      "text/plain": [
       "Downloading (…)_Pooling/config.json:   0%|          | 0.00/190 [00:00<?, ?B/s]"
      ]
     },
     "metadata": {},
     "output_type": "display_data"
    },
    {
     "data": {
      "application/vnd.jupyter.widget-view+json": {
       "model_id": "d6dd776167524cc1b53e8862ec063cd0",
       "version_major": 2,
       "version_minor": 0
      },
      "text/plain": [
       "Downloading (…)b20bca8e1d/README.md:   0%|          | 0.00/10.6k [00:00<?, ?B/s]"
      ]
     },
     "metadata": {},
     "output_type": "display_data"
    },
    {
     "data": {
      "application/vnd.jupyter.widget-view+json": {
       "model_id": "cd5d168087864ecc875d73e09ba1093c",
       "version_major": 2,
       "version_minor": 0
      },
      "text/plain": [
       "Downloading (…)0bca8e1d/config.json:   0%|          | 0.00/571 [00:00<?, ?B/s]"
      ]
     },
     "metadata": {},
     "output_type": "display_data"
    },
    {
     "data": {
      "application/vnd.jupyter.widget-view+json": {
       "model_id": "68a1cc0025eb4a908cb428c0f2487b07",
       "version_major": 2,
       "version_minor": 0
      },
      "text/plain": [
       "Downloading (…)ce_transformers.json:   0%|          | 0.00/116 [00:00<?, ?B/s]"
      ]
     },
     "metadata": {},
     "output_type": "display_data"
    },
    {
     "data": {
      "application/vnd.jupyter.widget-view+json": {
       "model_id": "9414cd99e314411d8ea3ff67f29ca21a",
       "version_major": 2,
       "version_minor": 0
      },
      "text/plain": [
       "Downloading (…)e1d/data_config.json:   0%|          | 0.00/39.3k [00:00<?, ?B/s]"
      ]
     },
     "metadata": {},
     "output_type": "display_data"
    },
    {
     "data": {
      "application/vnd.jupyter.widget-view+json": {
       "model_id": "b463bcf809994b04a46cb6fc3c55a915",
       "version_major": 2,
       "version_minor": 0
      },
      "text/plain": [
       "Downloading pytorch_model.bin:   0%|          | 0.00/438M [00:00<?, ?B/s]"
      ]
     },
     "metadata": {},
     "output_type": "display_data"
    },
    {
     "data": {
      "application/vnd.jupyter.widget-view+json": {
       "model_id": "4049949448e143b2860f0e994901abf6",
       "version_major": 2,
       "version_minor": 0
      },
      "text/plain": [
       "Downloading (…)nce_bert_config.json:   0%|          | 0.00/53.0 [00:00<?, ?B/s]"
      ]
     },
     "metadata": {},
     "output_type": "display_data"
    },
    {
     "data": {
      "application/vnd.jupyter.widget-view+json": {
       "model_id": "a229e10eb78341608190f45f3be1bf64",
       "version_major": 2,
       "version_minor": 0
      },
      "text/plain": [
       "Downloading (…)cial_tokens_map.json:   0%|          | 0.00/239 [00:00<?, ?B/s]"
      ]
     },
     "metadata": {},
     "output_type": "display_data"
    },
    {
     "data": {
      "application/vnd.jupyter.widget-view+json": {
       "model_id": "d6332d2622624cbb87c6206d268d107d",
       "version_major": 2,
       "version_minor": 0
      },
      "text/plain": [
       "Downloading (…)a8e1d/tokenizer.json:   0%|          | 0.00/466k [00:00<?, ?B/s]"
      ]
     },
     "metadata": {},
     "output_type": "display_data"
    },
    {
     "data": {
      "application/vnd.jupyter.widget-view+json": {
       "model_id": "786c3d27a2174942949657f1d2942ae4",
       "version_major": 2,
       "version_minor": 0
      },
      "text/plain": [
       "Downloading (…)okenizer_config.json:   0%|          | 0.00/363 [00:00<?, ?B/s]"
      ]
     },
     "metadata": {},
     "output_type": "display_data"
    },
    {
     "data": {
      "application/vnd.jupyter.widget-view+json": {
       "model_id": "f73645c73b014d3f9c8190d812db278c",
       "version_major": 2,
       "version_minor": 0
      },
      "text/plain": [
       "Downloading (…)8e1d/train_script.py:   0%|          | 0.00/13.1k [00:00<?, ?B/s]"
      ]
     },
     "metadata": {},
     "output_type": "display_data"
    },
    {
     "data": {
      "application/vnd.jupyter.widget-view+json": {
       "model_id": "c882b77dac9547e9b7eb8d27abc9d8b4",
       "version_major": 2,
       "version_minor": 0
      },
      "text/plain": [
       "Downloading (…)b20bca8e1d/vocab.txt:   0%|          | 0.00/232k [00:00<?, ?B/s]"
      ]
     },
     "metadata": {},
     "output_type": "display_data"
    },
    {
     "data": {
      "application/vnd.jupyter.widget-view+json": {
       "model_id": "b87dc07831bf480dbe713c3397b5b263",
       "version_major": 2,
       "version_minor": 0
      },
      "text/plain": [
       "Downloading (…)bca8e1d/modules.json:   0%|          | 0.00/349 [00:00<?, ?B/s]"
      ]
     },
     "metadata": {},
     "output_type": "display_data"
    }
   ],
   "source": [
    "# define embedding function\n",
    "embed_model = LangchainEmbedding(\n",
    "    HuggingFaceEmbeddings(model_name=\"sentence-transformers/all-mpnet-base-v2\")\n",
    ")"
   ]
  },
  {
   "cell_type": "code",
   "execution_count": 66,
   "metadata": {},
   "outputs": [],
   "source": [
    "import pandas as pd\n",
    "doc = pd.read_csv(\"/home/ubuntu/work/data/fulltext_docs_csvs_cleaned/fulltext_doc_1.csv\")"
   ]
  },
  {
   "cell_type": "code",
   "execution_count": 67,
   "metadata": {},
   "outputs": [
    {
     "data": {
      "text/html": [
       "<div>\n",
       "<style scoped>\n",
       "    .dataframe tbody tr th:only-of-type {\n",
       "        vertical-align: middle;\n",
       "    }\n",
       "\n",
       "    .dataframe tbody tr th {\n",
       "        vertical-align: top;\n",
       "    }\n",
       "\n",
       "    .dataframe thead th {\n",
       "        text-align: right;\n",
       "    }\n",
       "</style>\n",
       "<table border=\"1\" class=\"dataframe\">\n",
       "  <thead>\n",
       "    <tr style=\"text-align: right;\">\n",
       "      <th></th>\n",
       "      <th>0</th>\n",
       "    </tr>\n",
       "  </thead>\n",
       "  <tbody>\n",
       "    <tr>\n",
       "      <th>0</th>\n",
       "      <td>{'documents': ['the implication of metabolical...</td>\n",
       "    </tr>\n",
       "    <tr>\n",
       "      <th>1</th>\n",
       "      <td>{'documents': ['HAPLOMETRA CYLINDRACEA (ZEDER,...</td>\n",
       "    </tr>\n",
       "    <tr>\n",
       "      <th>2</th>\n",
       "      <td>{'documents': ['Harnessing Gene Expression Net...</td>\n",
       "    </tr>\n",
       "    <tr>\n",
       "      <th>3</th>\n",
       "      <td>{'documents': ['Phasic Contractions in Urinary...</td>\n",
       "    </tr>\n",
       "    <tr>\n",
       "      <th>4</th>\n",
       "      <td>{'documents': [\"Altered Mental Status as a Nov...</td>\n",
       "    </tr>\n",
       "    <tr>\n",
       "      <th>...</th>\n",
       "      <td>...</td>\n",
       "    </tr>\n",
       "    <tr>\n",
       "      <th>382</th>\n",
       "      <td>{'documents': ['Utility of the Physical Examin...</td>\n",
       "    </tr>\n",
       "    <tr>\n",
       "      <th>383</th>\n",
       "      <td>{'documents': ['Department of Internal Medicin...</td>\n",
       "    </tr>\n",
       "    <tr>\n",
       "      <th>384</th>\n",
       "      <td>{'documents': ['Liverpool and Macarthur Cancer...</td>\n",
       "    </tr>\n",
       "    <tr>\n",
       "      <th>385</th>\n",
       "      <td>{'documents': ['High Prevalence and Partner Co...</td>\n",
       "    </tr>\n",
       "    <tr>\n",
       "      <th>386</th>\n",
       "      <td>{'documents': ['MINERVA: A Facile Strategy for...</td>\n",
       "    </tr>\n",
       "  </tbody>\n",
       "</table>\n",
       "<p>387 rows × 1 columns</p>\n",
       "</div>"
      ],
      "text/plain": [
       "                                                     0\n",
       "0    {'documents': ['the implication of metabolical...\n",
       "1    {'documents': ['HAPLOMETRA CYLINDRACEA (ZEDER,...\n",
       "2    {'documents': ['Harnessing Gene Expression Net...\n",
       "3    {'documents': ['Phasic Contractions in Urinary...\n",
       "4    {'documents': [\"Altered Mental Status as a Nov...\n",
       "..                                                 ...\n",
       "382  {'documents': ['Utility of the Physical Examin...\n",
       "383  {'documents': ['Department of Internal Medicin...\n",
       "384  {'documents': ['Liverpool and Macarthur Cancer...\n",
       "385  {'documents': ['High Prevalence and Partner Co...\n",
       "386  {'documents': ['MINERVA: A Facile Strategy for...\n",
       "\n",
       "[387 rows x 1 columns]"
      ]
     },
     "execution_count": 67,
     "metadata": {},
     "output_type": "execute_result"
    }
   ],
   "source": [
    "doc"
   ]
  },
  {
   "cell_type": "code",
   "execution_count": 68,
   "metadata": {},
   "outputs": [
    {
     "data": {
      "text/plain": [
       "{'documents': ['the implication of metabolically active Vibrio spp. in the digestive tract of Litopenaeus vannamei for its post-larval development\\n0123456789\\n\\nEstefanía Garibay-Valdez \\nCentro de Investigación en Alimentos y Desarrollo A.C (CIAD)\\nCarretera a La Victoria S/NCP. 83304Hermosillo, SonoraMexico\\n\\nLuis Rafael Martínez-Córdova \\nDepartamento de Investigaciones Científicas y Tecnológicas (DICTUS)\\nUniversidad de Sonora\\nBlvd. Luis Donaldo Colosio S/N\\nCP. 83000Hermosillo, SonoraMexico\\n\\nMarco A López-Torres \\nDepartamento de Investigaciones Científicas y Tecnológicas (DICTUS)\\nUniversidad de Sonora\\nBlvd. Luis Donaldo Colosio S/N\\nCP. 83000Hermosillo, SonoraMexico\\n\\nF Javier Almendariz-Tapia \\nDepartamento de Ingeniería Química y Metalurgia\\nUniversidad de Sonora\\nBlvd. Luis Donaldo Colosio S/N\\nCP. 83000Hermosillo, SonoraMexico\\n\\nMarcel Martínez-Porchas \\nCentro de Investigación en Alimentos y Desarrollo A.C (CIAD)\\nCarretera a La Victoria S/NCP. 83304Hermosillo, SonoraMexico\\n\\nKadiya Calderón kadiya.calderon@unison.mx \\nDepartamento de Investigaciones Científicas y Tecnológicas (DICTUS)\\nUniversidad de Sonora\\nBlvd. Luis Donaldo Colosio S/N\\nCP. 83000Hermosillo, SonoraMexico',\n",
       "  \"Estefanía Garibay-Valdez \\nKadiya Calderón \\nthe implication of metabolically active Vibrio spp. in the digestive tract of Litopenaeus vannamei for its post-larval development\\n012345678910.1038/s41598-020-68222-91\\nThis work aimed to evaluate the link between the occurrence/abundance of Vibrio populations and bacterial composition in shrimp's intestine (Litopenaeus vannamei) during post-larval ontogenetic development and in its culture water, and the correlation of these with environmental parameters. The total and metabolically active populations of Vibrio in the digestive tract of shrimp during its post-larval development were analysed using quantitative PCR (qPCR) and reverse transcription qPCR targeting the 16S rRNA gene sequence. A lab-scale shrimp bioassay was performed for 80 days in a recirculating aquarium under strictly controlled conditions. The results indicate that the Vibrio population from shrimp's gut is associated with its developmental stage and the environment. Multivariate analyses revealed that the presence of Vibrio spp. drove the studied system, but their metabolically active performance was related to earlier developmental stages in an aqueous environment. Also, the samples taken from water of culture units to compare the influence of the aquatic environment on the intestinal microbial community during shrimp's ontogenetic development showed significant differences. Finally, our results revealed that Vibrio is an important member of shrimp's gut microbiota; however, its metabolic activity seems to be highly regulated, possibly by the host and by the rest of the microbiota.Shrimp aquaculture plays an important role in the world's economy. In the western hemisphere, Mexico is the sixth-largest producer of shrimp by aquaculture and, specifically, 37% of this production is provided by the State of Sonora, where the Pacific white shrimp, Litopenaeus vannamei is one of the most exported species around the world for human consumption due to its edible protein and nutrients 1,2 . In the last decade, the high demand from the aquaculture market, the quickly growing rate of shrimp production, and intensive farming practices have made these shrimp susceptible to disease and mortality, causing spoiled cultures and irreparable economic losses for the aquaculture industry 2-4 .One of the principal factors threatening shrimp production is related to biotic factors, which encompass virus and bacterial infections, and abiotic factors which are mostly linked to intensive farming practices, triggering the accumulation of carbonaceous, nitrogenous, and phosphorous species in farming ponds 1,3 . Shrimp diseases caused by opportunistic bacteria such as bacteria and viruses are the major problems that can lead to considerable losses in the shrimp farm industry. The main shrimp diseases are caused by bacterial pathogens mainly from Vibrio species such as V. harveyi, V. alginolyticus, V. campbellii, and V. parahaemolyticus, causing necrosis, slow growth, anorexia, and mortality during the post-larval development 5 . In this regard V. parahaemolyticus strains constitute the etiological agent of the most relevant bacterial disease recorded in shrimp to this day, which has severely disrupted the shrimp industry containing a unique virulence plasmid with genes encoded for delta endotoxins (pir A and pir B), similar to the Photorhabdus insect-related (Pir) toxin, and causing mortality in the infected organisms 2,6 . However, non-pathogenic species such as V. alginolyticus and V. gazogenes inhibit the open growth of other pathogenic Vibrio. For instance, V. alginolyticus has shown antagonistic activity and V. gazogenes has potential as a probiotic for the control of Vibrio infections after oral application in the Pacific white shrimp, L. vannamei 7 . In other invertebrates like copepods, it is established that they are capable to discriminate between different Vibrio species, presenting different transcriptional immune responses that may favour the acquisition of bacterial symbionts from the environment such as non-pathogenic Vibrio 8 . In this sense, Wendling and Wegner 9 mentioned that the Pacific oyster (Crassostrea gigas) presents a fast evolutionary response and a genetic resistance mechanism against Vibrio virulence factors. Besides, the expression of Vibrio virulence factors depends on the resident microbiota of the host; therefore, a Vibrio disease breaks out synergistically with the microbiome, which may include other non-virulent Vibrio.Research on Vibrio disease should focus on the biotic interactions between the environment, the host, and the pathogenic and non-pathogenic fractions of microbial communities 10 . For instance, Vibrio pathogens can interact with symbiotic communities and the host microbiota, to invade the host's intestine manipulating its biomechanics to redefine gut communities. On the whole, understanding the ecological processes implicated in diseases is complicated due to the high diversity of the Vibrio populations, and because the biotic interactions within and between microbial communities modify the disease expression on different levels 10-12 .In the same way, the microbial communities could provide guest protection against pathogenic infections because some microorganisms produce antimicrobial complexes 13,14 . Also, the gut microbiota of shrimp has become more relevant due to our knowledge of its biological interactions. The microbial colonization process in the gut can be driven by populations that set the optimal conditions for colony formation, where other microbes become attached to the intestinal tissue and create strong interactions with the microbial consortium formed while displacing pathogens or undesirable microbes that could affect the host and efficient intestinal function 3,13-16 . Therefore, studying aspects related to the behaviour of the gut microbiota may contribute to our understanding of these complex communities. In addition, the microbiota varies during the development of most animals, according to their requirements and other underlying factors; thus, this response is also expected in shrimp, but what changes or how these changes occur remains unknown. Information about the Vibrio dynamics in shrimp gut would contribute to understand this complex relationship between Vibrio and penaeid shrimp.Despite efforts to improve shrimp production, there are only a few studies based on microbial ecology that link the occurrence of relevant pathogenic microbial groups and the metabolic activities of these groups, causing dysbiosis in white shrimp, which is related to their ontogenetic development. In the present study, the total population and the metabolically active population of Vibrio sp. were evaluated in a lab-scale system with Realtime polymerase chain reaction (qPCR) and reverse transcription qPCR (RT-qPCR), targeting the 16S rRNA gene sequence. The link between the occurrence/abundance of target populations and bacterial composition during post-larval ontogenetic development and their correlation with environmental parameters and nutrients were investigated by multivariable analyses [principal component analysis (PCA)] in the intestines and culturing water.\",\n",
       "  'Results',\n",
       "  \"Biometry and productive response analyses of L. vannamei were evaluated, registering significant differences associated with the developmental stage; for example, between the control (day 0), 20-40 days of development, and 60-80 days of development (Table 1). Moreover, the productive response of shrimp was as expected, with higher growth performance from days 1 to 40 and a stationary phase achieved at days 60-80. The specific growth rate (SGR) was estimated to explain the rate of increase of the L. vannamei population from one sampling day to another, with each interval belonging to a developmental stage. There were significant differences in the SGR between all post-larval stages. From the first stage, the SGR was 5.60% day -1 , followed by the second stage with 4.24% day -1 . At stages III and IV, the SGR of shrimp decreased to 1.36% and 0.33% day -1 respectively, with a global SGR of 2.88% day −1 for the entire bioassay (Table 1). No significant differences were found between the developmental stages in regards to temperature (24.8-25.4 °C), salinity (35.36-36.25%), DO (6.4-6.9 mg L -1 ), and pH (8.1-8.4), demonstrating that the entire experiment was well controlled on a lab-scale (Table 2). Regarding water quality, significant differences were recorded for some parameters (Table 3). High concentrations of NH 3 -NH 4 were observed at 20 days of development (5.34 mg L -1 ), while low values were recorded at days 40 Table 1. Biometrics data during shrimp development and specific growth rates (SGRs) of Litopenaeus vannamei during the experimental period. BL corresponds to biometric length. Initial BL and weight refer to the first day of each stage and Final BL and weight refer to the final day of each stage. Values shown are averages ± standard deviation SD. LSD, least significant difference (Student's test, p < 0.05). *Significant differences between stages I, II, and III, corresponding to 0-20, 20-40, and 40-60 days of shrimp development, respectively (p < 0.05). Different letters indicate significant differences among development stages at a 95% confidence level. www.nature.com/scientificreports/ and 60 (0.93 and 1.2 mg L -1 , respectively), and statistically similar but lower values at days 0 and 80 were recorded (0.39 mg L -1 ). The concentrations of nitrite (NO 2 -N) and nitrate (NO 3 -N) were higher at day 60 (0.27 mg L -1 and 10.2 mg L -1 , respectively), followed by day 40 (0.11 mg L -1 and 6.50 mg L -1 , respectively), compared with the rest of the sampled days (0, 20, and 80 days). The highest concentrations of phosphate were registered at days 20, 40, and 60, all with values ranging within 1.6-1.98 mg L -1 .\",\n",
       "  'Regarding qPCR and RT-qPCR analyses, all average abundances were expressed as a logarithmic scale of the number of copies of 16S rDNA or 16S rRNA of total bacteria and Vibrio spp., quantified per gram of sample (water or intestine, respectively), corresponding to 0, 20, 40, 60, and 80 days of development (Fig. 1A, B). The Kruskal-Wallis and Conover-Iman tests showed that the differences among the quantifications of each target group, based on either DNA or RNA were always significant, with the metabolically active populations being at least four orders of magnitude higher, especially for total bacteria (Fig. 1). Significant differences were also observed between the different origins of the samples, where values of water samples were often higher than values of intestine samples for both target groups and only occasionally for the stage of development of the shrimp.\\n\\nThe results of the average relative abundances of Vibrio spp. compared to the total bacteria showed significant differences based on the environmental group studied, such as the intestine or water, and significant differences were observed for both groups when comparing the occurrence (16S rDNA copies) and the metabolically active specimens (16S rRNA copies) (Fig. 1). The occurrence of Vibrio 16S rDNA copies in water ranged from 0.7 to 7.4% (Fig. 1C). Simultaneously, the relative abundance of the metabolically active Vibrio community ranged from 0.4 to 7.6% (Fig. 1D). Additionally, at the beginning of the bioassay (W0), the Vibrio community presented higher metabolic activity compared to the total relative abundance (16S rDNA). At W80, the relative abundance of Vibrio was higher than the metabolically active abundance, which is related to the total bacteria (Fig. 1C, D). Meanwhile, the relative abundance of the entire Vibrio community in the intestines of shrimp was higher (5.83-10.63%) than that found in water samples (0.4-7.6%). In addition, the relative abundance of metabolically active Vibrio (16S rRNA) among total bacteria was mostly higher in water than in shrimp intestines throughout the bioassay.',\n",
       "  'To analyse the biological system related to the total abundance and the metabolically active expression of total bacteria and the Vibrio spp. communities, PCA based on Euclidean distances was performed (Fig. 2), where the first axis explained 51.2% of the total variability in the entire biological system. The second axis also explained 30.5% of the variability, meaning that 81.7% of the total variability of the studied system was explained, considering the four sets of biotic data derived from the quantifications by qPCR/RT-qPCR in water and intestine samples. The entire system was first driven by the presence of total bacteria (bacteria 16S rDNA), which theoretically includes all bacterial taxa thriving in the system (including the Vibrio population), followed by the presence of the Vibrio community (Vibrio 16S rDNA). In addition, different clusters were clearly formed, depending on the tissue evaluated [water (blue) or intestine (green)]. Herein, one isolated cluster was formed, corresponding to the intestines of post-larval organisms from the farm (ID0), and another neighbouring cluster was also formed, corresponding to samples of the first stage of post-larval development, corresponding to 20 days (ID20) of trial, which was strongly correlated to the metabolically active performance of total bacteria (bacteria 16S rRNA). Interestingly, the metabolically active abundance of total bacteria (16S rRNA) was negatively correlated with the metabolically active abundance of the Vibrio population (Vibrio 16S rRNA), which was, at the same time, the biotic parameter that managed the studied water environment. Additionally, clusters derived  www.nature.com/scientificreports/  www.nature.com/scientificreports/ from intestine samples from D40, D60, and D80 formed a single cluster, suggesting a similar microbiota pattern during late post-larval development (juvenile-adult) compared to early stages from D0 and D20 (post-larvae). Furthermore, to evaluate the entire system, considering the four sets of biotic parameters and the influence of abiotic parameters in an aqueous environment, another PCA was performed (Fig. 3). As a result, 70.5% of the total variability of the biological system was explained, resulting from 43.2% in the first axis and 27.3% from the second axis. Different clusters were clearly formed, depending on the developmental stage of the white shrimp. The results revealed that for the water environment abiotic factors, such as nutrient accumulation (P-PO 4 ), are key players that manage bacterial performance. A separate cluster of samples from W0 was positively correlated with the total bacterial occurrence, where temperature and salinity played an important role. Control samples (W0) were negatively correlated with W40 and W60, which were strongly and positively correlated with nitrate and nitrite accumulation in water. The abundances of the total and metabolically active Vibrio community displayed similar trends in response, where samples from W80 were positively correlated according to this biotic set of data and according to the metabolically active performance of total bacteria, where DO played an important role by its positive correlation with W80. Finally, samples from early developmental stages (W20) were positively correlated with ammonia (NH 3 -NH 4 ) accumulation in water, as well as with pH.',\n",
       "  \"Discussion\\n\\nTo evaluate the growth of the white shrimp, biometric analyses were performed, demonstrating significant differences based on the developmental stage of the shrimp, where two main groups were formed. The first stage encompassed organisms from days 1 to 40, where their growth was notorious, and the second stage encompassed organisms that were still in the growth process but at a much lesser rate, registering no significant differences between days 60 and 80. The first group corresponded to shrimp during the first post-larval developmental stage, while the second group corresponded to shrimp on the 60th day of development, when shrimp were considered juveniles. Therefore, the shrimp's nutritional requirements change according to its development and biological behaviour. Previous reports demonstrated that the gut enzymatic profile differs between each stage in order to achieve better nutrient absorption 17 . In addition, Xiong et al. 18 showed that the shrimp growth rate is linked to its microbiota since organisms of the same age and culture time may have differences in their growth rate, and they present similarities between the gut community assembly according to their growth. In the present study, there was a significantly higher growth rate during the post-larval phase compared to the juvenile-adult phase. In this work, when the shrimp reached a mature stage, asymptotic growth rates were registered 19 .\",\n",
       "  'Based on qPCR and RT-qPCR analyses, the abundance of the total bacterial community (16S rDNA and 16S rRNA) in the shrimp intestine was demonstrated to be stable from day 20 and onwards. Before that, samples from the control (ID0) were significantly lower than other culture days. Despite this, some factors including disease, nutrition, and environment, can regulate the gut microbiota. Our results suggest that a colonisation process occurs during the post-larval phase, reaching stability during the juvenile to adult phase, reducing the risk of dysbiosis [20][21][22] . However, our results demonstrated that the presence of metabolically active bacteria decreased www.nature.com/scientificreports/ at culture days 40 and 60, and the amount of this bacteria increased on day 80, with no significant differences concerning days 0 and 20. The total abundance of the bacterial community in water samples was constant during the bioassay, except for the control (day 0) where the abundance was significantly higher. However, the abundance of metabolically active bacteria was the highest on day 80, and the abundance was significantly higher than days 0, 20, and 60.\\n\\nPrevious studies have revealed that both shrimp and its culture water share the same bacterial composition, meaning that shrimp can have similar bacterial assemblages as their culturing media 23,24 . Also, species richness tends to be higher in water samples than in gut shrimp microbiota 18 , probably because bacteria harboured by shrimp are subjected to bottleneck conditions, favouring particular specimens.',\n",
       "  'In this study, by exploring the dynamics of the occurrence of the Vibrio population, it was found that throughout the bioassay the abundance levels were significantly lower in the intestine on the first culture day (ID0). Conversely, the metabolically active Vibrio population did not show significant differences in the shrimp intestine during the post-larvae to adult period. However, the total Vibrio community in water tended to decrease on days 20, 40, and 60, and it increased again on day 80. Notably, metabolically active Vibrio was significantly higher in water than metabolically active Vibrio in shrimp intestines, despite the relative abundance of the total Vibrio (16S rDNA) community, which was higher in shrimp intestines. Notably, it is important to highlight that our study was performed with healthy shrimp, where the abundance levels in the total Vibrio community and the metabolically active community were similar.\\n\\nPrevious authors have reported that increases in the Vibrio community or specific bacterial variations in shrimp intestines or water are considered indicators of disease 24,25 . However, their presence could be associated with their metabolically active performance, but this is not determined only by their occurrence. Gainza et al. 26 demonstrated that the proportion of the Vibrio population in shrimp gut microbiota based on V2-V3 amplicon sequencing, was higher during the nursery stage (2.02%) than in the harvest stage (0.64%), revealing that harvest stage microbiota is more diverse than nursery microbiota. Huang et al. 27 argued that the microbiota of culture ponds (water or sediment) differs from shrimp gut microbiota. Also, the community abundance in shrimp intestines is not related to the surrounding environment (water), because the environmental microbiota is exposed to higher fluctuations of nutrients and other influential factors.',\n",
       "  'There were no significant differences in the average relative abundances of the total Vibrio community (16S rDNA) among all bacterial populations in shrimp intestines across the bioassay related to the developmental stages. Conversely, the average relative abundance of the 16S rRNA number copy of the Vibrio population among all bacterial communities in shrimp intestines was lower than 1%. Our study demonstrated that despite the total Vibrio population being higher in healthy shrimp intestines, this community was not metabolically active. This indicates that the metabolic activity is the main factor causing disease through intestinal dysbiosis due the fact that gut microbiota has essential roles in host development, acting as a natural barrier against pathogens 18,28 . Species from the Vibrio genus are known to be pathogenic to shrimp; although Vibrio bacteria are natural inhabitants in shrimp intestines and could be controllable under optimum culture conditions 29,30 .',\n",
       "  'Our results demonstrated that Vibrio was highly metabolically active in the water environment at days 0 and 20 but not in the intestine, where only its occurrence was detected. This indicates that the Vibrio population plays a key role as part of the whole bacterial community structure during the first days of shrimp cultivation corresponding to post-larval stages (0-20 days). In this sense, aquatic organisms have a close relationship with the microbiota present in the water environment due to the exchange of the intestinal microbiota and the microbiota occurring in water, meaning that shrimp and their microbiota were working together as a holobiont. However, the planktonic microbial population is not part of this holobiont, but they share the same environment and shrimp gut is exposed to the aquatic environment representing an important portal of entry for microorganisms. This complete relationship may be considered as an hologenome 31 . Like many other microorganisms, Vibrio is naturally in marine and estuarine environments, both as free-floating cells and attached to chitinous surfaces; however, it is well known that not all Vibrio strains are pathogenic. In a previous study developed by our research group 32 , we explored the bacterial composition diversity of the intestinal microbiota of the white shrimp and their structure during the ontogenetic development using next-generation sequencing analysis, and interestingly it was observed that the Vibrio population does not colonize at all stages of development, but only during the post-larval stage (0 and 20) in contrast with juvenile stage (Fig. S1). This could be explained due to the high levels of metabolically active abundance of Vibrio at the post-larval stages in water environment. In addition, the total diversity is the total number of species presented in a niche 33 ; thus, the Vibrio population behaviour presented in the shrimp gut can be explained if we consider that the community structure are assembled by different species that conform the whole microbiome.',\n",
       "  \"Although, in water at W80, the presence of metabolically active Vibrio increased, presenting similar activity to that recorded at day 60 (W60), suggesting low opportunity for infection compared to the metabolically active community on the initial culture days. Thus, in a case where a Vibrio infection could develop in a shrimp culture at a farm scale, it could probably be associated with the loss of culture due to its high metabolic activity in water. Thus, the importance of tracking abiotic factors, such as water quality parameters and nutrients, is fundamental in order to avoid vibriosis as a result of its metabolic activity. In particular, water temperature, salinity, and eutrophication level can lead to shrimp stress and, eventually, reduce bacterial host selection and shrimp disease 34,35 . The results of this study demonstrate that the total relative abundance of Vibrio spp. in shrimp intestines is higher than its metabolic activity. This is in agreement with previous studies, where innate immune system activation of shrimp, such as Marsopenaeus japonicus and L. vannamei, was evaluated in response to V. alginolyticus and V. parahaemolyticus infections, demonstrating that they could modulate host signalling proteins and activate their defence system in the presence of potentially pathogenic microorganisms, activating genes that have activities related to immune response mechanisms, such as prophenoloxidase and superoxide dismutase activities, and apoptosis in the hepatopancreas tissue 36 www.nature.com/scientificreports/ Therefore, a selective biological pressure exerted by the host on the metabolic activity of this bacteria could be occurring, while stimulating the shrimp's immune system by functioning as a natural probiotic necessary for the life cycle of the host.\\n\\n\\nConclusions\",\n",
       "  'Conclusions\\n\\nThis study provides an overview of the interactions between the intestinal microbiota of the white shrimp and its environment, emphasising the ratio and correlation between the total and metabolically active Vibrio. Both the total and active populations of Vibrio indicated that there is colonisation of this bacterium in the white shrimp intestine throughout its post-larval development, but with low metabolic activity. Therefore, Vibrio is part of the intestinal microbiota of the shrimp, and it could be playing dualistic role, involved in a symbiotic relationship between the organism and the bacterial community structure of the intestinal microbiota, while acting as an opportunistic pathogen under certain circumstances. Our results suggest that the rest of the microbiota could probably regulate Vibrio activity, possibly establishing a coexistence mechanism that does not affect the host, providing conditions for the thrive of the microbial community. In contrast, the abundance of the metabolically active Vibrio population was greater in crop water, despite its low total abundance. Finally, our results demonstrate that despite Vibrio can be a common and inclusively dominant member of the white shrimp microbiota, its activity could be regulated by the rest of the microbiota and by the shrimp.\\n\\n\\nMaterials and methods',\n",
       "  'Materials and methods\\n\\nSampling of organisms and bioassay experiments. Shrimp post-larvae (PL5) of Litopenaeus vannamei were collected from the aquaculture farm Parque acuícola Cruz de Piedra, Guaymas, Sonora, Mexico (27° 51′ 05.9″ N 110° 31′ 57.0″ W). Afterward, post-larval shrimp were transported in aerated tanks with the same pond water as the farm to the Departamento de Investigaciones Científicas y Tecnológicas de la Universidad de Sonora (DICTUS), where a lab-scale system was previously tested and used. The bioassay was conducted for 80 days with healthy shrimp, each weighing 0.5 ± 0.1 g, and post-larvae were randomly distributed in the labscale system. The system consisted of nine 80-L culture units linked to a recirculation aquaculture system (RAS), and sterile seawater was used to fill the units to an operating volume of 60 L. Influent seawater was filtrated and flowed through a UV lamp for sterilization, and the seawater was equally dispensed to all culture units, as depicted in the supplementary material (Fig. S2). The culture units were maintained under similar indoor conditions with artificial aeration (2000F heat bonded silica; pore size, 140 µm), and the salinity was maintained at around 35‰ with the addition of sterile freshwater (MilliQ grade, Millipore) to avoid the incorporation of outside bacteria and to compensate evaporation. Finally, the effluent generated by the system flowed through a biofilter containing nitrifying bacteria to control toxic nitrogen compounds in the recirculation system (Fig. S2). The unconsumed feed, feces, moults, and dead organisms (if any) were removed daily. The salinity, dissolved oxygen (DO), pH, and temperature were measured twice per day (07:00 and 18:00 h) using a YSI multiprobe system 556 (YSI Incorporated).',\n",
       "  'The bioassay started with PL5 on day 0. At this point, 40 organisms were randomly introduced into each culture unit, and the experiment lasted 80 days. Throughout the experiment, shrimp were fed twice a day at a rate of 4% wet biomass day -1 using feeding trays with the same formulated feed consisting of commercial grow-out pelletized feed with 25% crude protein, 5% lipids, and 4% fiber.\\n\\nWater quality and productive response. The water quality was monitored daily throughout the bioassay, and samples were collected weekly from each culture unit using sterile falcon tubes by filtering the water through 0.45 μm membranes (Millipore). Nitrite (NO 2 -N), nitrate (NO 3 -N), ammonia (NH 3 -NH 4 ), and phosphate (P-PO 4 ) concentrations were measured using commercial Hanna reagent kits HI 93707-01, HI 93728-01, HI 93700-01, and HI 93717-01, respectively (Hanna Instruments, Romania).\\n\\nBiometry analyses were performed at the four different developmental stages, denominated as I, II, III, and IV, corresponding to 0-20, 20-40, 40-60, and 60-80 culture days, respectively, and the productive response was calculated 15 .\\n\\n\\nCollection of intestine and water samples and DNA and RNA extraction.',\n",
       "  'Collection of intestine and water samples and DNA and RNA extraction.\\n\\nTo discard the transitory microbiota, the shrimp were fasted for 6 h before sampling. Once the intestines were empty, these were dissected on the corresponding dates using a sterile dissection kit, placed in sterile cryogenic tubes, and stored at -80 °C until nucleic acid extraction. Each sample date belongs to an experimental unit with three culture tanks. The intestine samples from culture tanks were pooled and considered as a replicate, giving three replicates per sampling time. At the same sampling points, 1 L samples of water (W) from each culture unit corresponding to an experimental replicate were collected and pooled for filtration through 0.22 µm sterile filters of mixed cellulose ester membrane (Whatman, Sigma, St Louis, USA) and placed in sterile, 50 mL falcon tubes for storage at -80 °C until nucleic acid extraction.',\n",
       "  \"Total DNA and RNA were extracted and purified from the membrane filters previously used to filter seawater samples and from intestines that were also previously sampled, both of them with the FastDNA Spin Kit for Soil 15  www.nature.com/scientificreports/ qPCR and RT-qPCR assays. Real-time polymerase chain reaction (qPCR) assays have been widely implemented for estimating total cell count based on DNA gene markers, regardless of their level of metabolic activity 40,41 , while reverse transcription qPCR (RT-qPCR) is a useful method for analyzing the expression of specific genes. RT-qPCR is also used because of its high sensitivity, accuracy, specificity, and rapidity in analyzing the time-specific expression of particular genes, allowing for the detection of low-abundance transcripts 42 . The absolute abundance of total and metabolically active populations of bacteria and Vibrio in both target samples were measured by qPCR and RT-qPCR, respectively, using a StepOne Real-Time PCR system (Applied Biosystems, USA). For RT-qPCR, the synthesis of cDNA was performed by reverse transcription of RNA with the aid of SuperScript III Reverse Transcriptase (Invitrogen, Life Technologies Corporation, Carlsbad, CA, EEUU), following the manufacturer's specifications, in a final volume of 20 µL and using 150-200 ng of total RNA as a template (specific primers described in Table S4) (Sigma Aldrich; St. Louis, MO, USA) and dNTPs (Invitrogen; Carlsbad, USA). In addition, the cDNA quality and concentration were measured using a NanoDrop ND-1000 spectrophotometer (Thermo Scientific Waltham, MA USA). The number of copies (nbc) of 16S rRNA genes (16S rDNA) and 16S rRNA (16S rRNA) were evaluated in each sample using either extracted DNA or cDNA, respectively, as templates with a set of primers previously described (Table S4) Table S5.\",\n",
       "  \"To provide absolute quantification of the target microorganisms, standard curves were constructed with the aid of a standard plasmid that contained the inserts of the targeted genes. Amplicons of the 16S rDNA were generated from culture strains of Pseudomonas putida NCB957 (quantification of bacteria) and Vibrio parahaemolyticus ATCC17802 (quantification of Vibrio). The PCR products were cloned with the aid of the pCR2.1-TOPO plasmid vector using the TOPO TA cloning system (Invitrogen, Life Technologies Corporation, Carlsbad, CA, USA), following the manufacturer's protocols. The calibration curves for absolute quantification in the DNA samples (16S rDNA) were generated using serial ten-fold dilutions of linearized plasmid standards, and for absolute quantification in RNA samples (16S rRNA), non-linearized plasmid standards were used as templates for in vitro transcription of the target genes into RNA 39,40,43 . The copy number per ng was calculated as previously described 43 . All calibration curves had a correlation coefficient (r2) of > 0.99 in all assays, and the efficiency of PCR amplification was always between 90 and 110%. Finally, the number of copies of the targeted genes was expressed per gram of tissue sampled, while for water samples these were expressed as the number of copies per mL.\",\n",
       "  \"Statistical analyses. All statistical analyses were performed in R Studio (version 3.6.0) 44 using the following R packages: maggrittr 45 , ade4 46 , factoextra 47 , vegan 48 , and gplots 49 . Analyses of variance (ANOVA) and multiple-range tests (Student's-test) were used with a significance level of 95% (p < 0.05). Since most of the data sets did not fit the normal distribution, a nonparametric ordination method based on a multiple-comparison test, such as the Kruskall-Wallis test, followed by a Conover-Iman test was conducted for each biological assay, comparing the developmental stage or environment tested (intestine and water) between each shrimp, with a 95% significance level (p < 0.05). PCA based on Euclidean distances was used to better explain the analysis of the four sets of biotic data referred to the number of copies per gram of sample of 16S rDNA and 16S rRNA both from total Bacteria and Vibrio derived from the quantifications by qPCR/RT-qPCR in water and intestine samples. Moreover, to correlate the influence of the abiotic variables such as NO 2 -N, NH 3 -NH 4 , NO 3 -N, P-PO 4 , DO, salinity, pH, and temperature, with the set of biotic data from the aqueous environment, a PCA was also performed. Differences in gene copy abundance and physical-chemical parameters were evaluated using ANOVA followed by Tukey's honestly significant difference (HSD) tests.\",\n",
       "  'Figure 1 .\\n1Logarithm of the numbers of copies (nbc) of 16S rDNA genes and 16S rDNA of bacteria (A) per gram of intestine (ID) and water (W) sampled, and the logarithm of the numbers of copies (nbc) of 16S rDNA and 16S rRNA of Vibrio (B) per gram sampled at intestine (ID) and water (W). Bars marked with the asterisk are significantly different according to the Kruskal-Wallis test (p < 0.05). Average relative abundances of Vibrio sp. 16S rDNA (C) and 16S rRNA (D) copies, expressed as the percentage of 16S rDNA copies of bacteria, in shrimp intestine (ID) and water (W). Bars marked with the asterisk are significantly different, according to the Kruskal-Wallis test (p < 0.05).\\n\\nFigure 2 .\\n2Principal component analysis (PCA) based on Euclidean distances illustrating the component of four sets of biotic data derived from the quantifications by qPCR/RT-qPCR in water and intestine samples. The number of copies per g of sample of 16S rRNA genes (16S rDNA) and 16S rRNA was used to explain the abundance of total bacteria and Vibrio. Scientific RepoRtS | (2020) 10:11428 | https://doi.org/10.1038/s41598-020-68222-9\\n\\nFigure 3 .\\n3PCA based on Euclidean distances to analyse the influence of abiotic variables, such as NO 2 -N, NH 3 -NH 4 , NO 3 -N, P-PO 4 , dissolved oxygen (DO), salinity, pH, and temperature, over the total bacteria and Vibrio from water samples, based on the number of copies of 16S rRNA genes (16S rDNA) and 16S rRNA.Scientific RepoRtS | (2020) 10:11428 | https://doi.org/10.1038/s41598-020-68222-9',\n",
       "  ', and the FastRNA Pro Blue Kit (MP-Bio, Santa Ana, CA, USA) in combination with mechanical lysis using the FastPrep Systems (MP-BIO, Santa Ana, CA, USA). The obtained RNA samples were digested according to the TURBO DNA protocol (Ambion, Life Technologies Corporation, Carlsbad, CA, USA) and EDTA to stop the DNase activity and to ensure that any DNA residuals were presented. Finally, samples were purified according to the RNA Cleanup protocol from the RNeasy Mini Kit (Qiagen, Hamburg, Germany). The quality and concentration of nucleic acids were tested as previously described Maza-Márquez et al.39 .Scientific RepoRtS | (2020) 10:11428 | https://doi.org/10.1038/s41598-020-68222-9\\n\\n\\nbased on the increasing fluorescence intensity of the SYBR Green dye during amplification. For the amplification and detection of specific fragments, the iTaq Universal SYBR Green Supermix (Biorad, USA) was used in a final volume of 15 µL for each reaction. All quantitative amplifications were performed in triplicate. The qPCR reaction mixtures contained 1.8 µL of cDNA or DNA, 250 ng of T4 gene 32 (QBiogene, Illkirch, France), 1.2 µL of each primer (10 mM), supplied by Sigma Aldrich (St. Louis, MO, USA), and 1 × SYBR Green Supermix. The amplification and detection conditions are described in\\n\\nTable 2 .\\n2Physical-chemical parameters of water monitored during the bioassay. *Significant differences (p < 0.05).Development stage \\nDays of development Temperature (°C) DO (mg L −1 ) Salinity (%) pH \\n\\nI \\n1-20 \\n25.4 ± 0.05 \\n6.7 ± 0.01 \\n36.25 ± 0.10 \\n8.4 ± 0.01 \\n\\nII \\n21-40 \\n25.0 ± 0.07 \\n6.4 ± 0.23 \\n35.57 ± 0.07 \\n8.1 ± 0.01',\n",
       "  'III \\n41-60 \\n24.8 ± 0.09 \\n6.8 ± 0.02 \\n35.49 ± 0.07 \\n8.2 ± 0.01 \\n\\nIV \\n61-80 \\n24.8 ± 0.16 \\n6.9 ± 0.02 \\n35.36 ± 0.03 \\n8.1 ± 0.01 \\n\\nTable 3 .\\n3Mean± SD of water quality parameters of nitrite (NO 2 -N), nitrate (NO 3 -N), ammonia (NH 3 -NH 4 ), \\nand phosphate (P-PO 4 ) during shrimp culture days as Temperature. Different letters in the same column \\nindicate significant differences among treatments at a 95% confidence level. \\n\\nSample \\nNH 3 -NH 4 (mg \\nL −1 ) \\nNO 2 -N (mg \\nL −1 ) \\nNO 3 -N (mg \\nL −1 ) \\nP-PO 4 (mg \\nL −1 ) \\n\\nTemperature \\n(°C) \\nSalinity (%) DO (mg L −1 ) pH \\n\\nW0 \\n0.39 ± 0.01 (c) \\n0.01 ± 0.00 (c) \\n0.0 ± 0 (c) \\n0.17 ± 0.03 (b) \\n25.2 ± 0.3 \\n37.9 ± 0.7 \\n6.87 ± 0.05 \\n8.3 ± 0.0 \\n\\nW20 \\n5.34 ± 0.16 (a) \\n0.04 ± 0.00 (c) \\n0.93 ± 0.49 (c) \\n1.98 ± 0.20 (a) \\n25.1 ± 0.6 \\n35.4 ± 0.3 \\n6.45 ± 0.27 \\n8.4 ± 0.1 \\n\\nW40 \\n0.93 ± 0.09 (b) \\n0.11 ± 0.00 (b) \\n6.50 ± 1.67 (b) \\n1.66 ± 0.08 (a) \\n24.7 ± 0.7 \\n35.2 ± 0.1 \\n6.57 ± 0.25 \\n8.1 ± 0.1 \\n\\nW60 \\n1.20 ± 0.03 (b) \\n0.27 ± 0.05 (a) \\n10.2 ± 1.30 (a) \\n1.88 ± 0.30 (a) \\n24.3 ± 1.1 \\n35.3 ± 0.4 \\n7.07 ± 0.13 \\n8.1 ± 0.1',\n",
       "  'W80 \\n0.39 ± 0.01 (c) \\n0.01 ± 0.00 (c) \\n0.0 ± 0 (c) \\n0.17 ± 0.03 (b) \\n24.9 ± 1.5 \\n35.1 ± 0.0 \\n7.07 ± 0.13 \\n8.0 ± 0.0 \\n\\n,37 as well as in the intestinal epithelium38 .Scientific RepoRtS | \\n(2020) 10:11428 | \\nhttps://doi.org/10.1038/s41598-020-68222-9',\n",
       "  \"© The Author(s) 2020\\nAcknowledgementsThe authors thank Dr. Laurent Philippot and Dr. Aymé Spor (INRA, Dijon) for their help in data analysis and for their useful discussions. The authors also wish to thank Dr. David Correa-Galeote (CCG-UNAM) for his valuable help in plasmid construction and José Luis Nieblas (DICTUS) for his technical support during bioassay experiments. We also thank Dennis Hubbard for kindly revising the English language. This research was funded by Fondo PROMEP-SEP-2018 No. 218032 (USO313005119). Estefanía Garibay-Valdez (605382) would like to thank Consejo Nacional de Ciencia y Tecnología (CONACyT) for the scholarships that she received.Author contributionscompeting interestThe authors declare no competing interests.Additional informationSupplementary information is available for this paper at https ://doi.org/10.1038/s4159 8-020-68222 -9.Correspondence and requests for materials should be addressed to K.C.Reprints and permissions information is available at www.nature.com/reprints.Publisher's note Springer Nature remains neutral with regard to jurisdictional claims in published maps and institutional affiliations.Open Access This article is licensed under a Creative Commons Attribution 4.0 InternationalLicense, which permits use, sharing, adaptation, distribution and reproduction in any medium or format, as long as you give appropriate credit to the original author(s) and the source, provide a link to the Creative Commons license, and indicate if changes were made. The images or other third party material in this article are included in the article's Creative Commons license, unless indicated otherwise in a credit line to the material. If material is not included in the article's Creative Commons license and your intended use is not permitted by statutory regulation or exceeds the permitted use, you will need to obtain permission directly from the copyright holder. To view a copy of this license, visit http://creat iveco mmons .org/licen ses/by/4.0/.\\nComité de Sanidad Acuícola del Estado de Sonora, A. C. Informe final del ciclo. COSAESCOSAES. Comité de Sanidad Acuícola del Estado de Sonora, A. C. Informe final del ciclo 2015, https ://www.cosae s.com/ (2015).\",\n",
       "  'Insight into the diversity of antibiotic resistance genes in the intestinal bacteria of shrimp Penaeus vannamei by culturedependent and independent approaches. K Liu, 10.1016/j.ecoenv.2019.01.109Ecotoxicol. Environ. Saf. 172Liu, K. et al. Insight into the diversity of antibiotic resistance genes in the intestinal bacteria of shrimp Penaeus vannamei by culture- dependent and independent approaches. Ecotoxicol. Environ. Saf. 172, 451-459. https ://doi.org/10.1016/j.ecoen v.2019.01.109 (2019).\\n\\nDynamics of the gut microbiota in developmental stages of Litopenaeus vannamei reveal its association with body weight. J Fan, 10.1038/s41598-018-37042-3Sci. Rep. 9Fan, J. et al. Dynamics of the gut microbiota in developmental stages of Litopenaeus vannamei reveal its association with body weight. Sci. Rep. 9, 734. https ://doi.org/10.1038/s4159 8-018-37042 -3 (2019).\\n\\nMicrobiota from Litopenaeus vannamei: digestive tract microbial community of Pacific white shrimp (Litopenaeus vannamei). J T Tzuc, D R Escalante, R Rojas Herrera, G Gaxiola Cortés, M L A Ortiz, 10.1186/2193-1801-3-280SpringerPlus. 3Tzuc, J. T., Escalante, D. R., Rojas Herrera, R., Gaxiola Cortés, G. & Ortiz, M. L. A. Microbiota from Litopenaeus vannamei: digestive tract microbial community of Pacific white shrimp (Litopenaeus vannamei). SpringerPlus 3, 280. https ://doi.org/10.1186/2193- 1801-3-280 (2014).',\n",
       "  'Efficacy assessment of commercially available natural products and antibiotics, commonly used for mitigation of pathogenic Vibrio outbreaks in Ecuadorian Penaeus (Litopenaeus) vannamei hatcheries. M A Sotomayor, 10.1371/journal.pone.0210478PLoS ONE. 1478Sotomayor, M. A. et al. Efficacy assessment of commercially available natural products and antibiotics, commonly used for mitigation of pathogenic Vibrio outbreaks in Ecuadorian Penaeus (Litopenaeus) vannamei hatcheries. PLoS ONE 14, e0210478- e0210478. https ://doi.org/10.1371/journ al.pone.02104 78 (2019).\\n\\nSurvival of Litopenaeus vannamei shrimp fed on diets supplemented with Dunaliella sp. is improved after challenges by Vibrio parahaemolyticus. D Medina-Felix, 10.1016/j.jip.2017.06.003J. Invertebr. Pathol. 148Medina-Felix, D. et al. Survival of Litopenaeus vannamei shrimp fed on diets supplemented with Dunaliella sp. is improved after challenges by Vibrio parahaemolyticus. J. Invertebr. Pathol. 148, 118-123. https ://doi.org/10.1016/j.jip.2017.06.003 (2017).',\n",
       "  'An in vitro and in vivo assessment of the potential of Vibrio spp. as probiotics for the Pacific White shrimp, Litopenaeus vannamei. J Thompson, S Gregory, S Plummer, R J Shields, A F Rowley, 10.1111/j.1365-2672.2010.04743.xJ. Appl. Microbiol. 109Thompson, J., Gregory, S., Plummer, S., Shields, R. J. & Rowley, A. F. An in vitro and in vivo assessment of the potential of Vibrio spp. as probiotics for the Pacific White shrimp, Litopenaeus vannamei. J. Appl. Microbiol. 109, 1177-1187. https ://doi.org/10.111 1/j.1365-2672.2010.04743 .x (2010).\\n\\nVibrio elicits targeted transcriptional responses from copepod hosts. A A Almada, A M Tarrant, 10.1093/femsec/fiw072FEMS Microbiol. Ecol. Almada, A. A. & Tarrant, A. M. Vibrio elicits targeted transcriptional responses from copepod hosts. FEMS Microbiol. Ecol. https ://doi.org/10.1093/femse c/fiw07 2 (2016).\\n\\nAdaptation to enemy shifts: rapid resistance evolution to local Vibrio spp. in invasive Pacific oysters. C C Wendling, K M Wegner, Proc. R. Soc. B Biol. Sci. 28220142244Wendling, C. C. & Wegner, K. M. Adaptation to enemy shifts: rapid resistance evolution to local Vibrio spp. in invasive Pacific oysters. Proc. R. Soc. B Biol. Sci. 282, 20142244 (2015).',\n",
       "  'The emergence of Vibrio pathogens in Europe: ecology, evolution, and pathogenesis. F L Roux, 10.3389/fmicb.2015.00830Front. Microbiol. ParisRoux, F. L. et al. The emergence of Vibrio pathogens in Europe: ecology, evolution, and pathogenesis (Paris, 11-12th March 2015). Front. Microbiol. https ://doi.org/10.3389/fmicb .2015.00830 (2015).\\n\\nThe Vibrio cholerae Type VI Secretion System Can Modulate Host Intestinal Mechanics to Displace Commensal Gut Bacteria. S L Logan, Biorxiv. 226472Logan, S. L. et al. The Vibrio cholerae Type VI Secretion System Can Modulate Host Intestinal Mechanics to Displace Commensal Gut Bacteria. Biorxiv, 226472, (2017).\\n\\nBacterial predation in a marine host-associated microbiome. R M Welsh, 10.1038/ismej.2015.219ISME J. 10Welsh, R. M. et al. Bacterial predation in a marine host-associated microbiome. ISME J. 10, 1540-1544. https ://doi.org/10.1038/ ismej .2015.219 (2016).\\n\\nProbiotic modulation of the gut bacterial community of juvenile Litopenaeus vannamei challenged with Vibrio parahaemolyticus CAIM 170. Latin Am. I E Luis-Villaseñor, J. Aquat. Res. 43Luis-Villaseñor, I. E. et al. Probiotic modulation of the gut bacterial community of juvenile Litopenaeus vannamei challenged with Vibrio parahaemolyticus CAIM 170. Latin Am. J. Aquat. Res. 43, 766-775 (2015).',\n",
       "  'Comparison of cultivable bacterial communities associated with Pacific white shrimp (Litopenaeus vannamei) larvae at different health statuses and growth stages. Y Zheng, 10.1016/j.aquaculture.2015.09.020Aquaculture. 451Zheng, Y. et al. Comparison of cultivable bacterial communities associated with Pacific white shrimp (Litopenaeus vannamei) larvae at different health statuses and growth stages. Aquaculture 451, 163-169. https ://doi.org/10.1016/j.aquac ultur e.2015.09.020 (2016).\\n\\nBiofilm consumption shapes the intestinal microbiota of shrimp (Penaeus vannamei). E Garibay-Valdez, 10.1111/anu.12868Aquac. Nutr. 25Garibay-Valdez, E. et al. Biofilm consumption shapes the intestinal microbiota of shrimp (Penaeus vannamei). Aquac. Nutr. 25, 427-435. https ://doi.org/10.1111/anu.12868 (2019).\\n\\nMicrobiome of pacific whiteleg shrimp reveals differential bacterial community composition between wild, aquacultured and AHPND/EMS outbreak conditions. F Cornejo-Granados, 10.1038/s41598-017-11805-wSci. Rep. 7Cornejo-Granados, F. et al. Microbiome of pacific whiteleg shrimp reveals differential bacterial community composition between wild, aquacultured and AHPND/EMS outbreak conditions. Sci. Rep. 7, 11783. https ://doi.org/10.1038/s4159 8-017-11805 -w (2017).',\n",
       "  'Ontogenetic variation in digestive proteinase activity, RNA and DNA content of larval and postlarval white shrimp Litopenaeus schmitti. D Lemos, F Garcia-Carreno, P Hernández, A N Del Toro, Aquaculture. 214Lemos, D., Garcia-Carreno, F., Hernández, P. & Del Toro, A. N. Ontogenetic variation in digestive proteinase activity, RNA and DNA content of larval and postlarval white shrimp Litopenaeus schmitti. Aquaculture 214, 363-380 (2002).\\n\\nThe underlying ecological processes of gut microbiota among cohabitating retarded, overgrown and normal shrimp. J Xiong, 10.1007/s00248-016-0910-xMicrob. Ecol. 73Xiong, J. et al. The underlying ecological processes of gut microbiota among cohabitating retarded, overgrown and normal shrimp. Microb. Ecol. 73, 988-999. https ://doi.org/10.1007/s0024 8-016-0910-x (2017).\\n\\nEvaluation of Pacific white shrimp (Litopenaeus vannamei) health during a superintensive aquaculture growout using NMR-based metabolomics. T B Schock, 10.1371/journal.pone.0059521PLoS ONE. 821Schock, T. B. et al. Evaluation of Pacific white shrimp (Litopenaeus vannamei) health during a superintensive aquaculture growout using NMR-based metabolomics. PLoS ONE 8, e59521-e59521. https ://doi.org/10.1371/journ al.pone.00595 21 (2013).',\n",
       "  'Contrasting ecological processes and functional compositions between intestinal bacterial community in healthy and diseased shrimp. J Zhu, 10.1007/s00248-016-0831-8Microb. Ecol. 72Zhu, J. et al. Contrasting ecological processes and functional compositions between intestinal bacterial community in healthy and diseased shrimp. Microb. Ecol. 72, 975-985. https ://doi.org/10.1007/s0024 8-016-0831-8 (2016).\\n\\nComposition, diversity and function of intestinal microbiota in pacific white shrimp (Litopenaeus vannamei) at different culture stages. S Zeng, PeerJ. 53986Zeng, S. et al. Composition, diversity and function of intestinal microbiota in pacific white shrimp (Litopenaeus vannamei) at different culture stages. PeerJ 5, e3986 (2017).\\n\\nChanges in the intestinal bacterial community during the growth of white shrimp, Litopenaeus vannamei. Z Huang, X Li, L Wang, Z Shao, 10.1111/are.12628Aquac. Res. 47Huang, Z., Li, X., Wang, L. & Shao, Z. Changes in the intestinal bacterial community during the growth of white shrimp, Litopenaeus vannamei. Aquac. Res. 47, 1737-1746. https ://doi.org/10.1111/are.12628 (2016).\\n\\nBacterial population in intestines of the black tiger shrimp (Penaeus monodon) under different growth stages. W Rungrassamee, 10.1371/journal.pone.0060802PLoS ONE. 82Rungrassamee, W. et al. Bacterial population in intestines of the black tiger shrimp (Penaeus monodon) under different growth stages. PLoS ONE 8, 1-11. https ://doi.org/10.1371/journ al.pone.00608 02 (2013).',\n",
       "  'Changes in intestinal bacterial communities are closely associated with shrimp disease severity. J Xiong, 10.1007/s00253-015-6632-zAppl. Microbiol. Biotechnol. 99Xiong, J. et al. Changes in intestinal bacterial communities are closely associated with shrimp disease severity. Appl. Microbiol. Biotechnol. 99, 6911-6919. https ://doi.org/10.1007/s0025 3-015-6632-z (2015).\\n\\nComparative analysis of the bacterial community compositions of the shrimp intestine, surrounding water and sediment. D Hou, 10.1111/jam.13919J. Appl. Microbiol. 125Hou, D. et al. Comparative analysis of the bacterial community compositions of the shrimp intestine, surrounding water and sediment. J. Appl. Microbiol. 125, 792-799. https ://doi.org/10.1111/jam.13919 (2018).\\n\\nIntestinal microbiota of white shrimp Penaeus vannamei under intensive cultivation conditions in Ecuador. O Gainza, C Ramírez, A S Ramos, J Romero, 10.1007/s00248-017-1066-zMicrob. Ecol. 75Gainza, O., Ramírez, C., Ramos, A. S. & Romero, J. Intestinal microbiota of white shrimp Penaeus vannamei under intensive cultivation conditions in Ecuador. Microb. Ecol. 75, 562-568. https ://doi.org/10.1007/s0024 8-017-1066-z (2018).',\n",
       "  'Microbiota assemblages of water, sediment, and intestine and their associations with environmental factors and shrimp physiological health. F Huang, L Pan, M Song, C Tian, S Gao, 10.1007/s00253-018-9229-5Appl. Microbiol. Biotechnol. 102Huang, F., Pan, L., Song, M., Tian, C. & Gao, S. Microbiota assemblages of water, sediment, and intestine and their associations with environmental factors and shrimp physiological health. Appl. Microbiol. Biotechnol. 102, 8585-8598. https ://doi.org/10.1007/ s0025 3-018-9229-5 (2018).\\n\\nBacterial dynamics in intestines of the black tiger shrimp and the Pacific white shrimp during Vibrio harveyi exposure. W Rungrassamee, A Klanchui, S Maibunkaew, N Karoonuthaisiri, 10.1016/j.jip.2015.11.004J. Invertebr. Pathol. 133Rungrassamee, W., Klanchui, A., Maibunkaew, S. & Karoonuthaisiri, N. Bacterial dynamics in intestines of the black tiger shrimp and the Pacific white shrimp during Vibrio harveyi exposure. J. Invertebr. Pathol. 133, 12-19. https ://doi.org/10.1016/j. jip.2015.11.004 (2016).',\n",
       "  'Exploring fish microbial communities to mitigate emerging diseases in aquaculture. I De Bruijn, Y Liu, J M Raaijmakers, G F Wiegertjes, 10.1093/femsec/fix161FEMS Microbiol. Ecol. 1de Bruijn, I., Liu, Y., Raaijmakers, J. M. & Wiegertjes, G. F. Exploring fish microbial communities to mitigate emerging diseases in aquaculture. FEMS Microbiol. Ecol. https ://doi.org/10.1093/femse c/fix16 1 (2017).\\n\\nHigh-resolution detection of bacterial profile of ocean water, before and after being used by shrimp farms. M A Porchas-Cornejo, Aquacul. Int. Porchas-Cornejo, M. A. et al. High-resolution detection of bacterial profile of ocean water, before and after being used by shrimp farms. Aquacul. Int., 1-11 (2017).\\n\\nWhat is the hologenome concept of evolution. J J Morris, 10.12688/f1000research.14385.1Morris, J. J. What is the hologenome concept of evolution?. F1000Res https ://doi.org/10.12688 /f1000 resea rch.14385 .1 (2018).\\n\\nTaxonomic and functional changes in the microbiota of the white shrimp (Litopenaeus vannamei) associated with postlarval ontogenetic development. E Garibay-Valdez, Aquaculture. 518734842Garibay-Valdez, E. et al. Taxonomic and functional changes in the microbiota of the white shrimp (Litopenaeus vannamei) associated with postlarval ontogenetic development. Aquaculture 518, 734842 (2020).',\n",
       "  'Species divergence and the measurement of microbial diversity. C A Lozupone, R Knight, FEMS Microbiol. Rev. 32Lozupone, C. A. & Knight, R. Species divergence and the measurement of microbial diversity. FEMS Microbiol. Rev. 32, 557-578 (2008).\\n\\nAdvances, challenges, and directions in shrimp disease control: the guidelines from an ecological perspective. J Xiong, W Dai, C Li, 10.1007/s00253-016-7679-1Appl. Microbiol. Biotechnol. 100Xiong, J., Dai, W. & Li, C. Advances, challenges, and directions in shrimp disease control: the guidelines from an ecological perspective. Appl. Microbiol. Biotechnol. 100, 6947-6954. https ://doi.org/10.1007/s0025 3-016-7679-1 (2016).\\n\\nIntegrating gut microbiota immaturity and disease-discriminatory taxa to diagnose the initiation and severity of shrimp disease: Gut microbiota diagnoses shrimp disease. J Xiong, 19Xiong, J. et al. Integrating gut microbiota immaturity and disease-discriminatory taxa to diagnose the initiation and severity of shrimp disease: Gut microbiota diagnoses shrimp disease. Vol. 19 (2017).',\n",
       "  'Transcriptomic analysis of Pacific white shrimp (Litopenaeus vannamei, Boone 1931) in response to acute hepatopancreatic necrosis disease caused by Vibrio parahaemolyticus. A E Velázquez-Lizárraga, 10.1371/journal.pone.0220993PLoS ONE. 1493Velázquez-Lizárraga, A. E. et al. Transcriptomic analysis of Pacific white shrimp (Litopenaeus vannamei, Boone 1931) in response to acute hepatopancreatic necrosis disease caused by Vibrio parahaemolyticus. PLoS ONE 14, e0220993-e0220993. https ://doi. org/10.1371/journ al.pone.02209 93 (2019).\\n\\nMolecular cloning of Kuruma shrimp Marsupenaeus japonicus endonuclease-reverse transcriptase and its positive role in white spot syndrome virus and Vibrio alginolyticus infection. X Ma, B Sun, F Zhu, 10.1016/j.fsi.2017.12.031Fish Shellfish Immunol. 73Ma, X., Sun, B. & Zhu, F. Molecular cloning of Kuruma shrimp Marsupenaeus japonicus endonuclease-reverse transcriptase and its positive role in white spot syndrome virus and Vibrio alginolyticus infection. Fish Shellfish Immunol. 73, 297-308. https ://doi. org/10.1016/j.fsi.2017.12.031 (2018).',\n",
       "  'Transcriptomic and morphological analyses of Litopenaeus vannamei intestinal barrier in response to Vibrio paraheamolyticus infection reveals immune response signatures and structural disruption. C Qi, 10.1016/j.fsi.2017.09.004Fish Shellfish Immunol. 70Qi, C. et al. Transcriptomic and morphological analyses of Litopenaeus vannamei intestinal barrier in response to Vibrio paraheamolyticus infection reveals immune response signatures and structural disruption. Fish Shellfish Immunol. 70, 437-450. https ://doi.org/10.1016/j.fsi.2017.09.004 (2017).\\n\\nThe ratio of metabolically active versus total Mycolata populations triggers foaming in a membrane bioreactor. P Maza-Márquez, 10.1016/j.watres.2015.12.057Water Res. 9257Maza-Márquez, P. et al. The ratio of metabolically active versus total Mycolata populations triggers foaming in a membrane bioreactor. Water Res. 92, 208-217. https ://doi.org/10.1016/j.watre s.2015.12.057 (2016).\\n\\nAbundance of total and metabolically active Candidatus Microthrix and fungal populations in three fullscale wastewater treatment plants. P Maza-Márquez, 10.1016/j.chemosphere.2019.05.149Chemosphere. 232Maza-Márquez, P. et al. Abundance of total and metabolically active Candidatus Microthrix and fungal populations in three full- scale wastewater treatment plants. Chemosphere 232, 26-34. https ://doi.org/10.1016/j.chemo spher e.2019.05.149 (2019).',\n",
       "  'Quantification of Microthrix parvicella in activated sludge bacterial communities by realtime PCR. A Kaetzke, D Jentzsch, K Eschrich, Lett. Appl. Microbiol. 40Kaetzke, A., Jentzsch, D. & Eschrich, K. Quantification of Microthrix parvicella in activated sludge bacterial communities by real- time PCR. Lett. Appl. Microbiol. 40, 207-211 (2005).\\n\\nGene expression studies of reference genes for quantitative real-time PCR: an overview in insects. M Shakeel, A Rodriguez, U B Tahir, F Jin, Biotech. Lett. 40Shakeel, M., Rodriguez, A., Tahir, U. B. & Jin, F. Gene expression studies of reference genes for quantitative real-time PCR: an overview in insects. Biotech. Lett. 40, 227-236 (2018).\\n\\nDetermination of denitrification genes abundance in environmental samples. D Correa-Galeote, G Tortosa, E Bedmar, Metagenomics. 2Correa-Galeote, D., Tortosa, G. & Bedmar, E. Determination of denitrification genes abundance in environmental samples. Metagenomics 2, 10-4303 (2013).\\n\\nR: A language and environment for statistical computing. R C Team, R Foundation for Statistical Computing. Vienna, AustriaTeam, R. C. R: A language and environment for statistical computing. Vienna, Austria: R Foundation for Statistical Computing. Retrieved from https ://www.R-proje ct.org. Accessed 30 May 2020 (2015).',\n",
       "  'A Forward-Pipe Operator for R. R package version 1.5. Vienna, Austria: The R Foundation. S M Bache, H Wickham, Magrittr, Bache, S. M. & Wickham, H. magrittr: A Forward-Pipe Operator for R. R package version 1.5. Vienna, Austria: The R Foundation. Retrieved from https ://CRAN.R-proje ct.org/packa ge=magri ttr. Accessed 30 May 2020 (2016).\\n\\n. 10.1038/s41598-020-68222-9Scientific RepoRtS |. 10Scientific RepoRtS | (2020) 10:11428 | https://doi.org/10.1038/s41598-020-68222-9\\n\\nThe ade4 package: Analysis of Ecological Data: Exploratory and Euclidean methods in Environmental sciences. R package version 1.7-13 R Foundation for Statistical Computing. D Chessel, A Dufour, J Thioulouse, Chessel, D., Dufour, A. & Thioulouse, J. The ade4 package: Analysis of Ecological Data: Exploratory and Euclidean methods in Environmental sciences. R package version 1.7-13 R Foundation for Statistical Computing. Retrieved from https ://pbil.univ-lyon1 .fr/ADE-4. Accessed 30 May 2020 (2018)\\n\\nExtract and visualize the results of multivariate data analyses. A Kassambara, F Mundt, Factoextra, R package version 1.0.5.Kassambara, A. & Mundt, F. Factoextra: Extract and visualize the results of multivariate data analyses. R package version 1.0.5. Retrieved from: https ://www.sthda .com/engli sh/rpkgs /facto extra . Accessed 30 May 2020 (2017).',\n",
       "  'Vegan: community ecology package. R package version 2.0-3. J Oksanen, Oksanen, J. et al. Vegan: community ecology package. R package version 2.0-3. Retrieved from: https ://cran.r-proje ct.org. Accessed 30 May 2020 (2012).\\n\\n. L Bonebakker, R package gplots. Version 3.0. 1.Bonebakker, L. et al. R package gplots. Version 3.0. 1. Retrieved from: https ://githu b.com/talga lili/gplot s. Accessed 30 May 2020 (2012).'],\n",
       " 'ids': ['220439601-0',\n",
       "  '220439601-1',\n",
       "  '220439601-2',\n",
       "  '220439601-3',\n",
       "  '220439601-4',\n",
       "  '220439601-5',\n",
       "  '220439601-6',\n",
       "  '220439601-7',\n",
       "  '220439601-8',\n",
       "  '220439601-9',\n",
       "  '220439601-10',\n",
       "  '220439601-11',\n",
       "  '220439601-12',\n",
       "  '220439601-13',\n",
       "  '220439601-14',\n",
       "  '220439601-15',\n",
       "  '220439601-16',\n",
       "  '220439601-17',\n",
       "  '220439601-18',\n",
       "  '220439601-19',\n",
       "  '220439601-20',\n",
       "  '220439601-21',\n",
       "  '220439601-22',\n",
       "  '220439601-23',\n",
       "  '220439601-24',\n",
       "  '220439601-25',\n",
       "  '220439601-26',\n",
       "  '220439601-27',\n",
       "  '220439601-28',\n",
       "  '220439601-29',\n",
       "  '220439601-30',\n",
       "  '220439601-31',\n",
       "  '220439601-32',\n",
       "  '220439601-33',\n",
       "  '220439601-34',\n",
       "  '220439601-35',\n",
       "  '220439601-36',\n",
       "  '220439601-37',\n",
       "  '220439601-38',\n",
       "  '220439601-39'],\n",
       " 'metadatas': [{'corpusid': 220439601, 'chunk': 0},\n",
       "  {'corpusid': 220439601, 'chunk': 1},\n",
       "  {'corpusid': 220439601, 'chunk': 2},\n",
       "  {'corpusid': 220439601, 'chunk': 3},\n",
       "  {'corpusid': 220439601, 'chunk': 4},\n",
       "  {'corpusid': 220439601, 'chunk': 5},\n",
       "  {'corpusid': 220439601, 'chunk': 6},\n",
       "  {'corpusid': 220439601, 'chunk': 7},\n",
       "  {'corpusid': 220439601, 'chunk': 8},\n",
       "  {'corpusid': 220439601, 'chunk': 9},\n",
       "  {'corpusid': 220439601, 'chunk': 10},\n",
       "  {'corpusid': 220439601, 'chunk': 11},\n",
       "  {'corpusid': 220439601, 'chunk': 12},\n",
       "  {'corpusid': 220439601, 'chunk': 13},\n",
       "  {'corpusid': 220439601, 'chunk': 14},\n",
       "  {'corpusid': 220439601, 'chunk': 15},\n",
       "  {'corpusid': 220439601, 'chunk': 16},\n",
       "  {'corpusid': 220439601, 'chunk': 17},\n",
       "  {'corpusid': 220439601, 'chunk': 18},\n",
       "  {'corpusid': 220439601, 'chunk': 19},\n",
       "  {'corpusid': 220439601, 'chunk': 20},\n",
       "  {'corpusid': 220439601, 'chunk': 21},\n",
       "  {'corpusid': 220439601, 'chunk': 22},\n",
       "  {'corpusid': 220439601, 'chunk': 23},\n",
       "  {'corpusid': 220439601, 'chunk': 24},\n",
       "  {'corpusid': 220439601, 'chunk': 25},\n",
       "  {'corpusid': 220439601, 'chunk': 26},\n",
       "  {'corpusid': 220439601, 'chunk': 27},\n",
       "  {'corpusid': 220439601, 'chunk': 28},\n",
       "  {'corpusid': 220439601, 'chunk': 29},\n",
       "  {'corpusid': 220439601, 'chunk': 30},\n",
       "  {'corpusid': 220439601, 'chunk': 31},\n",
       "  {'corpusid': 220439601, 'chunk': 32},\n",
       "  {'corpusid': 220439601, 'chunk': 33},\n",
       "  {'corpusid': 220439601, 'chunk': 34},\n",
       "  {'corpusid': 220439601, 'chunk': 35},\n",
       "  {'corpusid': 220439601, 'chunk': 36},\n",
       "  {'corpusid': 220439601, 'chunk': 37},\n",
       "  {'corpusid': 220439601, 'chunk': 38},\n",
       "  {'corpusid': 220439601, 'chunk': 39}]}"
      ]
     },
     "execution_count": 68,
     "metadata": {},
     "output_type": "execute_result"
    }
   ],
   "source": [
    "# turn string dictionaries into dictionary objects\n",
    "import ast\n",
    "ast.literal_eval(doc.iloc[0, 0])"
   ]
  },
  {
   "cell_type": "code",
   "execution_count": 52,
   "metadata": {},
   "outputs": [],
   "source": [
    "import langchain"
   ]
  },
  {
   "cell_type": "code",
   "execution_count": 72,
   "metadata": {},
   "outputs": [],
   "source": [
    "test = ast.literal_eval(doc.iloc[0, 0])['documents']"
   ]
  },
  {
   "cell_type": "code",
   "execution_count": 18,
   "metadata": {},
   "outputs": [
    {
     "data": {
      "text/html": [
       "<pre style=\"white-space:pre;overflow-x:auto;line-height:normal;font-family:Menlo,'DejaVu Sans Mono',consolas,'Courier New',monospace\"><span style=\"color: #800000; text-decoration-color: #800000\">╭─────────────────────────────── </span><span style=\"color: #800000; text-decoration-color: #800000; font-weight: bold\">Traceback </span><span style=\"color: #bf7f7f; text-decoration-color: #bf7f7f; font-weight: bold\">(most recent call last)</span><span style=\"color: #800000; text-decoration-color: #800000\"> ────────────────────────────────╮</span>\n",
       "<span style=\"color: #800000; text-decoration-color: #800000\">│</span> in <span style=\"color: #00ff00; text-decoration-color: #00ff00\">&lt;module&gt;</span>:<span style=\"color: #0000ff; text-decoration-color: #0000ff\">1</span>                                                                                    <span style=\"color: #800000; text-decoration-color: #800000\">│</span>\n",
       "<span style=\"color: #800000; text-decoration-color: #800000\">│</span>                                                                                                  <span style=\"color: #800000; text-decoration-color: #800000\">│</span>\n",
       "<span style=\"color: #800000; text-decoration-color: #800000\">│</span> <span style=\"color: #800000; text-decoration-color: #800000\">❱ </span>1 documents = SimpleDirectoryReader(<span style=\"color: #808000; text-decoration-color: #808000\">'/home/ubuntu/work/data/fulltext_docs_csvs/'</span>).load_dat     <span style=\"color: #800000; text-decoration-color: #800000\">│</span>\n",
       "<span style=\"color: #800000; text-decoration-color: #800000\">│</span>   <span style=\"color: #7f7f7f; text-decoration-color: #7f7f7f\">2 </span>                                                                                             <span style=\"color: #800000; text-decoration-color: #800000\">│</span>\n",
       "<span style=\"color: #800000; text-decoration-color: #800000\">│</span>   <span style=\"color: #7f7f7f; text-decoration-color: #7f7f7f\">3 # set up ChromaVectorStore and load in data</span>                                                  <span style=\"color: #800000; text-decoration-color: #800000\">│</span>\n",
       "<span style=\"color: #800000; text-decoration-color: #800000\">│</span>   <span style=\"color: #7f7f7f; text-decoration-color: #7f7f7f\">4 </span>vector_store = ChromaVectorStore(chroma_collection=collection)                               <span style=\"color: #800000; text-decoration-color: #800000\">│</span>\n",
       "<span style=\"color: #800000; text-decoration-color: #800000\">│</span>                                                                                                  <span style=\"color: #800000; text-decoration-color: #800000\">│</span>\n",
       "<span style=\"color: #800000; text-decoration-color: #800000\">│</span> <span style=\"color: #bfbf7f; text-decoration-color: #bfbf7f\">/home/ubuntu/anaconda3/envs/chroma/lib/python3.10/site-packages/llama_index/readers/file/</span><span style=\"color: #808000; text-decoration-color: #808000; font-weight: bold\">base.py</span> <span style=\"color: #800000; text-decoration-color: #800000\">│</span>\n",
       "<span style=\"color: #800000; text-decoration-color: #800000\">│</span> :<span style=\"color: #0000ff; text-decoration-color: #0000ff\">195</span> in <span style=\"color: #00ff00; text-decoration-color: #00ff00\">load_data</span>                                                                                <span style=\"color: #800000; text-decoration-color: #800000\">│</span>\n",
       "<span style=\"color: #800000; text-decoration-color: #800000\">│</span>                                                                                                  <span style=\"color: #800000; text-decoration-color: #800000\">│</span>\n",
       "<span style=\"color: #800000; text-decoration-color: #800000\">│</span>   <span style=\"color: #7f7f7f; text-decoration-color: #7f7f7f\">192 </span><span style=\"color: #7f7f7f; text-decoration-color: #7f7f7f\">│   │   │   │   │   </span>reader_cls = DEFAULT_FILE_READER_CLS[file_suffix]                      <span style=\"color: #800000; text-decoration-color: #800000\">│</span>\n",
       "<span style=\"color: #800000; text-decoration-color: #800000\">│</span>   <span style=\"color: #7f7f7f; text-decoration-color: #7f7f7f\">193 </span><span style=\"color: #7f7f7f; text-decoration-color: #7f7f7f\">│   │   │   │   │   </span><span style=\"color: #00ffff; text-decoration-color: #00ffff\">self</span>.file_extractor[file_suffix] = reader_cls()                        <span style=\"color: #800000; text-decoration-color: #800000\">│</span>\n",
       "<span style=\"color: #800000; text-decoration-color: #800000\">│</span>   <span style=\"color: #7f7f7f; text-decoration-color: #7f7f7f\">194 </span><span style=\"color: #7f7f7f; text-decoration-color: #7f7f7f\">│   │   │   │   </span>reader = <span style=\"color: #00ffff; text-decoration-color: #00ffff\">self</span>.file_extractor[file_suffix]                                  <span style=\"color: #800000; text-decoration-color: #800000\">│</span>\n",
       "<span style=\"color: #800000; text-decoration-color: #800000\">│</span> <span style=\"color: #800000; text-decoration-color: #800000\">❱ </span>195 <span style=\"color: #7f7f7f; text-decoration-color: #7f7f7f\">│   │   │   │   </span>docs = reader.load_data(input_file, metadata=metadata <span style=\"color: #ff00ff; text-decoration-color: #ff00ff\">or</span> {})               <span style=\"color: #800000; text-decoration-color: #800000\">│</span>\n",
       "<span style=\"color: #800000; text-decoration-color: #800000\">│</span>   <span style=\"color: #7f7f7f; text-decoration-color: #7f7f7f\">196 </span><span style=\"color: #7f7f7f; text-decoration-color: #7f7f7f\">│   │   │   │   </span>                                                                           <span style=\"color: #800000; text-decoration-color: #800000\">│</span>\n",
       "<span style=\"color: #800000; text-decoration-color: #800000\">│</span>   <span style=\"color: #7f7f7f; text-decoration-color: #7f7f7f\">197 </span><span style=\"color: #7f7f7f; text-decoration-color: #7f7f7f\">│   │   │   │   </span><span style=\"color: #7f7f7f; text-decoration-color: #7f7f7f\"># iterate over docs if needed</span>                                              <span style=\"color: #800000; text-decoration-color: #800000\">│</span>\n",
       "<span style=\"color: #800000; text-decoration-color: #800000\">│</span>   <span style=\"color: #7f7f7f; text-decoration-color: #7f7f7f\">198 </span><span style=\"color: #7f7f7f; text-decoration-color: #7f7f7f\">│   │   │   │   </span><span style=\"color: #0000ff; text-decoration-color: #0000ff\">if</span> <span style=\"color: #00ffff; text-decoration-color: #00ffff\">self</span>.filename_as_id:                                                    <span style=\"color: #800000; text-decoration-color: #800000\">│</span>\n",
       "<span style=\"color: #800000; text-decoration-color: #800000\">│</span>                                                                                                  <span style=\"color: #800000; text-decoration-color: #800000\">│</span>\n",
       "<span style=\"color: #800000; text-decoration-color: #800000\">│</span> <span style=\"color: #bfbf7f; text-decoration-color: #bfbf7f\">/home/ubuntu/anaconda3/envs/chroma/lib/python3.10/site-packages/llama_index/readers/file/</span><span style=\"color: #808000; text-decoration-color: #808000; font-weight: bold\">tabular</span> <span style=\"color: #800000; text-decoration-color: #800000\">│</span>\n",
       "<span style=\"color: #800000; text-decoration-color: #800000\">│</span> <span style=\"color: #808000; text-decoration-color: #808000; font-weight: bold\">_reader.py</span>:<span style=\"color: #0000ff; text-decoration-color: #0000ff\">96</span> in <span style=\"color: #00ff00; text-decoration-color: #00ff00\">load_data</span>                                                                       <span style=\"color: #800000; text-decoration-color: #800000\">│</span>\n",
       "<span style=\"color: #800000; text-decoration-color: #800000\">│</span>                                                                                                  <span style=\"color: #800000; text-decoration-color: #800000\">│</span>\n",
       "<span style=\"color: #800000; text-decoration-color: #800000\">│</span>   <span style=\"color: #7f7f7f; text-decoration-color: #7f7f7f\"> 93 </span><span style=\"color: #7f7f7f; text-decoration-color: #7f7f7f\">│   </span>                                                                                       <span style=\"color: #800000; text-decoration-color: #800000\">│</span>\n",
       "<span style=\"color: #800000; text-decoration-color: #800000\">│</span>   <span style=\"color: #7f7f7f; text-decoration-color: #7f7f7f\"> 94 </span><span style=\"color: #7f7f7f; text-decoration-color: #7f7f7f\">│   </span><span style=\"color: #0000ff; text-decoration-color: #0000ff\">def</span> <span style=\"color: #00ff00; text-decoration-color: #00ff00\">load_data</span>(<span style=\"color: #00ffff; text-decoration-color: #00ffff\">self</span>, file: Path, metadata: Optional[Dict] = <span style=\"color: #0000ff; text-decoration-color: #0000ff\">None</span>) -&gt; List[Document]:    <span style=\"color: #800000; text-decoration-color: #800000\">│</span>\n",
       "<span style=\"color: #800000; text-decoration-color: #800000\">│</span>   <span style=\"color: #7f7f7f; text-decoration-color: #7f7f7f\"> 95 </span><span style=\"color: #bfbfbf; text-decoration-color: #bfbfbf\">│   │   </span><span style=\"color: #808000; text-decoration-color: #808000\">\"\"\"Parse file.\"\"\"</span>                                                                  <span style=\"color: #800000; text-decoration-color: #800000\">│</span>\n",
       "<span style=\"color: #800000; text-decoration-color: #800000\">│</span> <span style=\"color: #800000; text-decoration-color: #800000\">❱ </span> 96 <span style=\"color: #7f7f7f; text-decoration-color: #7f7f7f\">│   │   </span>df = pd.read_csv(file, **<span style=\"color: #00ffff; text-decoration-color: #00ffff\">self</span>._pandas_config)                                      <span style=\"color: #800000; text-decoration-color: #800000\">│</span>\n",
       "<span style=\"color: #800000; text-decoration-color: #800000\">│</span>   <span style=\"color: #7f7f7f; text-decoration-color: #7f7f7f\"> 97 </span><span style=\"color: #7f7f7f; text-decoration-color: #7f7f7f\">│   │   </span>                                                                                   <span style=\"color: #800000; text-decoration-color: #800000\">│</span>\n",
       "<span style=\"color: #800000; text-decoration-color: #800000\">│</span>   <span style=\"color: #7f7f7f; text-decoration-color: #7f7f7f\"> 98 </span><span style=\"color: #7f7f7f; text-decoration-color: #7f7f7f\">│   │   </span>text_list = df.apply(                                                              <span style=\"color: #800000; text-decoration-color: #800000\">│</span>\n",
       "<span style=\"color: #800000; text-decoration-color: #800000\">│</span>   <span style=\"color: #7f7f7f; text-decoration-color: #7f7f7f\"> 99 </span><span style=\"color: #7f7f7f; text-decoration-color: #7f7f7f\">│   │   │   </span><span style=\"color: #0000ff; text-decoration-color: #0000ff\">lambda</span> row: (<span style=\"color: #00ffff; text-decoration-color: #00ffff\">self</span>._col_joiner).join(row.astype(<span style=\"color: #00ffff; text-decoration-color: #00ffff\">str</span>).tolist()), axis=<span style=\"color: #0000ff; text-decoration-color: #0000ff\">1</span>          <span style=\"color: #800000; text-decoration-color: #800000\">│</span>\n",
       "<span style=\"color: #800000; text-decoration-color: #800000\">│</span>                                                                                                  <span style=\"color: #800000; text-decoration-color: #800000\">│</span>\n",
       "<span style=\"color: #800000; text-decoration-color: #800000\">│</span> <span style=\"color: #bfbf7f; text-decoration-color: #bfbf7f\">/home/ubuntu/anaconda3/envs/chroma/lib/python3.10/site-packages/pandas/util/</span><span style=\"color: #808000; text-decoration-color: #808000; font-weight: bold\">_decorators.py</span>:<span style=\"color: #0000ff; text-decoration-color: #0000ff\">211</span>   <span style=\"color: #800000; text-decoration-color: #800000\">│</span>\n",
       "<span style=\"color: #800000; text-decoration-color: #800000\">│</span> in <span style=\"color: #00ff00; text-decoration-color: #00ff00\">wrapper</span>                                                                                       <span style=\"color: #800000; text-decoration-color: #800000\">│</span>\n",
       "<span style=\"color: #800000; text-decoration-color: #800000\">│</span>                                                                                                  <span style=\"color: #800000; text-decoration-color: #800000\">│</span>\n",
       "<span style=\"color: #800000; text-decoration-color: #800000\">│</span>   <span style=\"color: #7f7f7f; text-decoration-color: #7f7f7f\">208 </span><span style=\"color: #7f7f7f; text-decoration-color: #7f7f7f\">│   │   │   │   │   </span><span style=\"color: #0000ff; text-decoration-color: #0000ff\">raise</span> <span style=\"color: #00ffff; text-decoration-color: #00ffff\">TypeError</span>(msg)                                                   <span style=\"color: #800000; text-decoration-color: #800000\">│</span>\n",
       "<span style=\"color: #800000; text-decoration-color: #800000\">│</span>   <span style=\"color: #7f7f7f; text-decoration-color: #7f7f7f\">209 </span><span style=\"color: #7f7f7f; text-decoration-color: #7f7f7f\">│   │   │   │   </span><span style=\"color: #0000ff; text-decoration-color: #0000ff\">else</span>:                                                                      <span style=\"color: #800000; text-decoration-color: #800000\">│</span>\n",
       "<span style=\"color: #800000; text-decoration-color: #800000\">│</span>   <span style=\"color: #7f7f7f; text-decoration-color: #7f7f7f\">210 </span><span style=\"color: #7f7f7f; text-decoration-color: #7f7f7f\">│   │   │   │   │   </span>kwargs[new_arg_name] = new_arg_value                                   <span style=\"color: #800000; text-decoration-color: #800000\">│</span>\n",
       "<span style=\"color: #800000; text-decoration-color: #800000\">│</span> <span style=\"color: #800000; text-decoration-color: #800000\">❱ </span>211 <span style=\"color: #7f7f7f; text-decoration-color: #7f7f7f\">│   │   │   </span><span style=\"color: #0000ff; text-decoration-color: #0000ff\">return</span> func(*args, **kwargs)                                                   <span style=\"color: #800000; text-decoration-color: #800000\">│</span>\n",
       "<span style=\"color: #800000; text-decoration-color: #800000\">│</span>   <span style=\"color: #7f7f7f; text-decoration-color: #7f7f7f\">212 </span><span style=\"color: #7f7f7f; text-decoration-color: #7f7f7f\">│   │   </span>                                                                                   <span style=\"color: #800000; text-decoration-color: #800000\">│</span>\n",
       "<span style=\"color: #800000; text-decoration-color: #800000\">│</span>   <span style=\"color: #7f7f7f; text-decoration-color: #7f7f7f\">213 </span><span style=\"color: #7f7f7f; text-decoration-color: #7f7f7f\">│   │   </span><span style=\"color: #0000ff; text-decoration-color: #0000ff\">return</span> cast(F, wrapper)                                                            <span style=\"color: #800000; text-decoration-color: #800000\">│</span>\n",
       "<span style=\"color: #800000; text-decoration-color: #800000\">│</span>   <span style=\"color: #7f7f7f; text-decoration-color: #7f7f7f\">214 </span>                                                                                           <span style=\"color: #800000; text-decoration-color: #800000\">│</span>\n",
       "<span style=\"color: #800000; text-decoration-color: #800000\">│</span>                                                                                                  <span style=\"color: #800000; text-decoration-color: #800000\">│</span>\n",
       "<span style=\"color: #800000; text-decoration-color: #800000\">│</span> <span style=\"color: #bfbf7f; text-decoration-color: #bfbf7f\">/home/ubuntu/anaconda3/envs/chroma/lib/python3.10/site-packages/pandas/util/</span><span style=\"color: #808000; text-decoration-color: #808000; font-weight: bold\">_decorators.py</span>:<span style=\"color: #0000ff; text-decoration-color: #0000ff\">331</span>   <span style=\"color: #800000; text-decoration-color: #800000\">│</span>\n",
       "<span style=\"color: #800000; text-decoration-color: #800000\">│</span> in <span style=\"color: #00ff00; text-decoration-color: #00ff00\">wrapper</span>                                                                                       <span style=\"color: #800000; text-decoration-color: #800000\">│</span>\n",
       "<span style=\"color: #800000; text-decoration-color: #800000\">│</span>                                                                                                  <span style=\"color: #800000; text-decoration-color: #800000\">│</span>\n",
       "<span style=\"color: #800000; text-decoration-color: #800000\">│</span>   <span style=\"color: #7f7f7f; text-decoration-color: #7f7f7f\">328 </span><span style=\"color: #7f7f7f; text-decoration-color: #7f7f7f\">│   │   │   │   │   </span><span style=\"color: #00ffff; text-decoration-color: #00ffff\">FutureWarning</span>,                                                         <span style=\"color: #800000; text-decoration-color: #800000\">│</span>\n",
       "<span style=\"color: #800000; text-decoration-color: #800000\">│</span>   <span style=\"color: #7f7f7f; text-decoration-color: #7f7f7f\">329 </span><span style=\"color: #7f7f7f; text-decoration-color: #7f7f7f\">│   │   │   │   │   </span>stacklevel=find_stack_level(),                                         <span style=\"color: #800000; text-decoration-color: #800000\">│</span>\n",
       "<span style=\"color: #800000; text-decoration-color: #800000\">│</span>   <span style=\"color: #7f7f7f; text-decoration-color: #7f7f7f\">330 </span><span style=\"color: #7f7f7f; text-decoration-color: #7f7f7f\">│   │   │   │   </span>)                                                                          <span style=\"color: #800000; text-decoration-color: #800000\">│</span>\n",
       "<span style=\"color: #800000; text-decoration-color: #800000\">│</span> <span style=\"color: #800000; text-decoration-color: #800000\">❱ </span>331 <span style=\"color: #7f7f7f; text-decoration-color: #7f7f7f\">│   │   │   </span><span style=\"color: #0000ff; text-decoration-color: #0000ff\">return</span> func(*args, **kwargs)                                                   <span style=\"color: #800000; text-decoration-color: #800000\">│</span>\n",
       "<span style=\"color: #800000; text-decoration-color: #800000\">│</span>   <span style=\"color: #7f7f7f; text-decoration-color: #7f7f7f\">332 </span><span style=\"color: #7f7f7f; text-decoration-color: #7f7f7f\">│   │   </span>                                                                                   <span style=\"color: #800000; text-decoration-color: #800000\">│</span>\n",
       "<span style=\"color: #800000; text-decoration-color: #800000\">│</span>   <span style=\"color: #7f7f7f; text-decoration-color: #7f7f7f\">333 </span><span style=\"color: #7f7f7f; text-decoration-color: #7f7f7f\">│   │   </span><span style=\"color: #7f7f7f; text-decoration-color: #7f7f7f\"># error: \"Callable[[VarArg(Any), KwArg(Any)], Any]\" has no</span>                         <span style=\"color: #800000; text-decoration-color: #800000\">│</span>\n",
       "<span style=\"color: #800000; text-decoration-color: #800000\">│</span>   <span style=\"color: #7f7f7f; text-decoration-color: #7f7f7f\">334 </span><span style=\"color: #7f7f7f; text-decoration-color: #7f7f7f\">│   │   </span><span style=\"color: #7f7f7f; text-decoration-color: #7f7f7f\"># attribute \"__signature__\"</span>                                                        <span style=\"color: #800000; text-decoration-color: #800000\">│</span>\n",
       "<span style=\"color: #800000; text-decoration-color: #800000\">│</span>                                                                                                  <span style=\"color: #800000; text-decoration-color: #800000\">│</span>\n",
       "<span style=\"color: #800000; text-decoration-color: #800000\">│</span> <span style=\"color: #bfbf7f; text-decoration-color: #bfbf7f\">/home/ubuntu/anaconda3/envs/chroma/lib/python3.10/site-packages/pandas/io/parsers/</span><span style=\"color: #808000; text-decoration-color: #808000; font-weight: bold\">readers.py</span>:<span style=\"color: #0000ff; text-decoration-color: #0000ff\">950</span> <span style=\"color: #800000; text-decoration-color: #800000\">│</span>\n",
       "<span style=\"color: #800000; text-decoration-color: #800000\">│</span> in <span style=\"color: #00ff00; text-decoration-color: #00ff00\">read_csv</span>                                                                                      <span style=\"color: #800000; text-decoration-color: #800000\">│</span>\n",
       "<span style=\"color: #800000; text-decoration-color: #800000\">│</span>                                                                                                  <span style=\"color: #800000; text-decoration-color: #800000\">│</span>\n",
       "<span style=\"color: #800000; text-decoration-color: #800000\">│</span>   <span style=\"color: #7f7f7f; text-decoration-color: #7f7f7f\"> 947 </span><span style=\"color: #7f7f7f; text-decoration-color: #7f7f7f\">│   </span>)                                                                                     <span style=\"color: #800000; text-decoration-color: #800000\">│</span>\n",
       "<span style=\"color: #800000; text-decoration-color: #800000\">│</span>   <span style=\"color: #7f7f7f; text-decoration-color: #7f7f7f\"> 948 </span><span style=\"color: #7f7f7f; text-decoration-color: #7f7f7f\">│   </span>kwds.update(kwds_defaults)                                                            <span style=\"color: #800000; text-decoration-color: #800000\">│</span>\n",
       "<span style=\"color: #800000; text-decoration-color: #800000\">│</span>   <span style=\"color: #7f7f7f; text-decoration-color: #7f7f7f\"> 949 </span><span style=\"color: #7f7f7f; text-decoration-color: #7f7f7f\">│   </span>                                                                                      <span style=\"color: #800000; text-decoration-color: #800000\">│</span>\n",
       "<span style=\"color: #800000; text-decoration-color: #800000\">│</span> <span style=\"color: #800000; text-decoration-color: #800000\">❱ </span> 950 <span style=\"color: #7f7f7f; text-decoration-color: #7f7f7f\">│   </span><span style=\"color: #0000ff; text-decoration-color: #0000ff\">return</span> _read(filepath_or_buffer, kwds)                                                <span style=\"color: #800000; text-decoration-color: #800000\">│</span>\n",
       "<span style=\"color: #800000; text-decoration-color: #800000\">│</span>   <span style=\"color: #7f7f7f; text-decoration-color: #7f7f7f\"> 951 </span>                                                                                          <span style=\"color: #800000; text-decoration-color: #800000\">│</span>\n",
       "<span style=\"color: #800000; text-decoration-color: #800000\">│</span>   <span style=\"color: #7f7f7f; text-decoration-color: #7f7f7f\"> 952 </span>                                                                                          <span style=\"color: #800000; text-decoration-color: #800000\">│</span>\n",
       "<span style=\"color: #800000; text-decoration-color: #800000\">│</span>   <span style=\"color: #7f7f7f; text-decoration-color: #7f7f7f\"> 953 # iterator=True -&gt; TextFileReader</span>                                                         <span style=\"color: #800000; text-decoration-color: #800000\">│</span>\n",
       "<span style=\"color: #800000; text-decoration-color: #800000\">│</span>                                                                                                  <span style=\"color: #800000; text-decoration-color: #800000\">│</span>\n",
       "<span style=\"color: #800000; text-decoration-color: #800000\">│</span> <span style=\"color: #bfbf7f; text-decoration-color: #bfbf7f\">/home/ubuntu/anaconda3/envs/chroma/lib/python3.10/site-packages/pandas/io/parsers/</span><span style=\"color: #808000; text-decoration-color: #808000; font-weight: bold\">readers.py</span>:<span style=\"color: #0000ff; text-decoration-color: #0000ff\">611</span> <span style=\"color: #800000; text-decoration-color: #800000\">│</span>\n",
       "<span style=\"color: #800000; text-decoration-color: #800000\">│</span> in <span style=\"color: #00ff00; text-decoration-color: #00ff00\">_read</span>                                                                                         <span style=\"color: #800000; text-decoration-color: #800000\">│</span>\n",
       "<span style=\"color: #800000; text-decoration-color: #800000\">│</span>                                                                                                  <span style=\"color: #800000; text-decoration-color: #800000\">│</span>\n",
       "<span style=\"color: #800000; text-decoration-color: #800000\">│</span>   <span style=\"color: #7f7f7f; text-decoration-color: #7f7f7f\"> 608 </span><span style=\"color: #7f7f7f; text-decoration-color: #7f7f7f\">│   │   </span><span style=\"color: #0000ff; text-decoration-color: #0000ff\">return</span> parser                                                                     <span style=\"color: #800000; text-decoration-color: #800000\">│</span>\n",
       "<span style=\"color: #800000; text-decoration-color: #800000\">│</span>   <span style=\"color: #7f7f7f; text-decoration-color: #7f7f7f\"> 609 </span><span style=\"color: #7f7f7f; text-decoration-color: #7f7f7f\">│   </span>                                                                                      <span style=\"color: #800000; text-decoration-color: #800000\">│</span>\n",
       "<span style=\"color: #800000; text-decoration-color: #800000\">│</span>   <span style=\"color: #7f7f7f; text-decoration-color: #7f7f7f\"> 610 </span><span style=\"color: #7f7f7f; text-decoration-color: #7f7f7f\">│   </span><span style=\"color: #0000ff; text-decoration-color: #0000ff\">with</span> parser:                                                                          <span style=\"color: #800000; text-decoration-color: #800000\">│</span>\n",
       "<span style=\"color: #800000; text-decoration-color: #800000\">│</span> <span style=\"color: #800000; text-decoration-color: #800000\">❱ </span> 611 <span style=\"color: #7f7f7f; text-decoration-color: #7f7f7f\">│   │   </span><span style=\"color: #0000ff; text-decoration-color: #0000ff\">return</span> parser.read(nrows)                                                         <span style=\"color: #800000; text-decoration-color: #800000\">│</span>\n",
       "<span style=\"color: #800000; text-decoration-color: #800000\">│</span>   <span style=\"color: #7f7f7f; text-decoration-color: #7f7f7f\"> 612 </span>                                                                                          <span style=\"color: #800000; text-decoration-color: #800000\">│</span>\n",
       "<span style=\"color: #800000; text-decoration-color: #800000\">│</span>   <span style=\"color: #7f7f7f; text-decoration-color: #7f7f7f\"> 613 </span>                                                                                          <span style=\"color: #800000; text-decoration-color: #800000\">│</span>\n",
       "<span style=\"color: #800000; text-decoration-color: #800000\">│</span>   <span style=\"color: #7f7f7f; text-decoration-color: #7f7f7f\"> 614 # iterator=True -&gt; TextFileReader</span>                                                         <span style=\"color: #800000; text-decoration-color: #800000\">│</span>\n",
       "<span style=\"color: #800000; text-decoration-color: #800000\">│</span>                                                                                                  <span style=\"color: #800000; text-decoration-color: #800000\">│</span>\n",
       "<span style=\"color: #800000; text-decoration-color: #800000\">│</span> <span style=\"color: #bfbf7f; text-decoration-color: #bfbf7f\">/home/ubuntu/anaconda3/envs/chroma/lib/python3.10/site-packages/pandas/io/parsers/</span><span style=\"color: #808000; text-decoration-color: #808000; font-weight: bold\">readers.py</span>:<span style=\"color: #0000ff; text-decoration-color: #0000ff\">177</span> <span style=\"color: #800000; text-decoration-color: #800000\">│</span>\n",
       "<span style=\"color: #800000; text-decoration-color: #800000\">│</span> <span style=\"color: #0000ff; text-decoration-color: #0000ff\">8</span> in <span style=\"color: #00ff00; text-decoration-color: #00ff00\">read</span>                                                                                        <span style=\"color: #800000; text-decoration-color: #800000\">│</span>\n",
       "<span style=\"color: #800000; text-decoration-color: #800000\">│</span>                                                                                                  <span style=\"color: #800000; text-decoration-color: #800000\">│</span>\n",
       "<span style=\"color: #800000; text-decoration-color: #800000\">│</span>   <span style=\"color: #7f7f7f; text-decoration-color: #7f7f7f\">1775 </span><span style=\"color: #7f7f7f; text-decoration-color: #7f7f7f\">│   │   │   │   │   </span>index,                                                                <span style=\"color: #800000; text-decoration-color: #800000\">│</span>\n",
       "<span style=\"color: #800000; text-decoration-color: #800000\">│</span>   <span style=\"color: #7f7f7f; text-decoration-color: #7f7f7f\">1776 </span><span style=\"color: #7f7f7f; text-decoration-color: #7f7f7f\">│   │   │   │   │   </span>columns,                                                              <span style=\"color: #800000; text-decoration-color: #800000\">│</span>\n",
       "<span style=\"color: #800000; text-decoration-color: #800000\">│</span>   <span style=\"color: #7f7f7f; text-decoration-color: #7f7f7f\">1777 </span><span style=\"color: #7f7f7f; text-decoration-color: #7f7f7f\">│   │   │   │   │   </span>col_dict,                                                             <span style=\"color: #800000; text-decoration-color: #800000\">│</span>\n",
       "<span style=\"color: #800000; text-decoration-color: #800000\">│</span> <span style=\"color: #800000; text-decoration-color: #800000\">❱ </span>1778 <span style=\"color: #7f7f7f; text-decoration-color: #7f7f7f\">│   │   │   │   </span>) = <span style=\"color: #00ffff; text-decoration-color: #00ffff\">self</span>._engine.read(  <span style=\"color: #7f7f7f; text-decoration-color: #7f7f7f\"># type: ignore[attr-defined]</span>                      <span style=\"color: #800000; text-decoration-color: #800000\">│</span>\n",
       "<span style=\"color: #800000; text-decoration-color: #800000\">│</span>   <span style=\"color: #7f7f7f; text-decoration-color: #7f7f7f\">1779 </span><span style=\"color: #7f7f7f; text-decoration-color: #7f7f7f\">│   │   │   │   │   </span>nrows                                                                 <span style=\"color: #800000; text-decoration-color: #800000\">│</span>\n",
       "<span style=\"color: #800000; text-decoration-color: #800000\">│</span>   <span style=\"color: #7f7f7f; text-decoration-color: #7f7f7f\">1780 </span><span style=\"color: #7f7f7f; text-decoration-color: #7f7f7f\">│   │   │   │   </span>)                                                                         <span style=\"color: #800000; text-decoration-color: #800000\">│</span>\n",
       "<span style=\"color: #800000; text-decoration-color: #800000\">│</span>   <span style=\"color: #7f7f7f; text-decoration-color: #7f7f7f\">1781 </span><span style=\"color: #7f7f7f; text-decoration-color: #7f7f7f\">│   │   │   </span><span style=\"color: #0000ff; text-decoration-color: #0000ff\">except</span> <span style=\"color: #00ffff; text-decoration-color: #00ffff\">Exception</span>:                                                             <span style=\"color: #800000; text-decoration-color: #800000\">│</span>\n",
       "<span style=\"color: #800000; text-decoration-color: #800000\">│</span>                                                                                                  <span style=\"color: #800000; text-decoration-color: #800000\">│</span>\n",
       "<span style=\"color: #800000; text-decoration-color: #800000\">│</span> <span style=\"color: #bfbf7f; text-decoration-color: #bfbf7f\">/home/ubuntu/anaconda3/envs/chroma/lib/python3.10/site-packages/pandas/io/parsers/</span><span style=\"color: #808000; text-decoration-color: #808000; font-weight: bold\">c_parser_wrapp</span> <span style=\"color: #800000; text-decoration-color: #800000\">│</span>\n",
       "<span style=\"color: #800000; text-decoration-color: #800000\">│</span> <span style=\"color: #808000; text-decoration-color: #808000; font-weight: bold\">er.py</span>:<span style=\"color: #0000ff; text-decoration-color: #0000ff\">230</span> in <span style=\"color: #00ff00; text-decoration-color: #00ff00\">read</span>                                                                                <span style=\"color: #800000; text-decoration-color: #800000\">│</span>\n",
       "<span style=\"color: #800000; text-decoration-color: #800000\">│</span>                                                                                                  <span style=\"color: #800000; text-decoration-color: #800000\">│</span>\n",
       "<span style=\"color: #800000; text-decoration-color: #800000\">│</span>   <span style=\"color: #7f7f7f; text-decoration-color: #7f7f7f\">227 </span><span style=\"color: #7f7f7f; text-decoration-color: #7f7f7f\">│   │   </span>column_names: Sequence[Hashable] | MultiIndex                                      <span style=\"color: #800000; text-decoration-color: #800000\">│</span>\n",
       "<span style=\"color: #800000; text-decoration-color: #800000\">│</span>   <span style=\"color: #7f7f7f; text-decoration-color: #7f7f7f\">228 </span><span style=\"color: #7f7f7f; text-decoration-color: #7f7f7f\">│   │   </span><span style=\"color: #0000ff; text-decoration-color: #0000ff\">try</span>:                                                                               <span style=\"color: #800000; text-decoration-color: #800000\">│</span>\n",
       "<span style=\"color: #800000; text-decoration-color: #800000\">│</span>   <span style=\"color: #7f7f7f; text-decoration-color: #7f7f7f\">229 </span><span style=\"color: #7f7f7f; text-decoration-color: #7f7f7f\">│   │   │   </span><span style=\"color: #0000ff; text-decoration-color: #0000ff\">if</span> <span style=\"color: #00ffff; text-decoration-color: #00ffff\">self</span>.low_memory:                                                            <span style=\"color: #800000; text-decoration-color: #800000\">│</span>\n",
       "<span style=\"color: #800000; text-decoration-color: #800000\">│</span> <span style=\"color: #800000; text-decoration-color: #800000\">❱ </span>230 <span style=\"color: #7f7f7f; text-decoration-color: #7f7f7f\">│   │   │   │   </span>chunks = <span style=\"color: #00ffff; text-decoration-color: #00ffff\">self</span>._reader.read_low_memory(nrows)                               <span style=\"color: #800000; text-decoration-color: #800000\">│</span>\n",
       "<span style=\"color: #800000; text-decoration-color: #800000\">│</span>   <span style=\"color: #7f7f7f; text-decoration-color: #7f7f7f\">231 </span><span style=\"color: #7f7f7f; text-decoration-color: #7f7f7f\">│   │   │   │   </span><span style=\"color: #7f7f7f; text-decoration-color: #7f7f7f\"># destructive to chunks</span>                                                    <span style=\"color: #800000; text-decoration-color: #800000\">│</span>\n",
       "<span style=\"color: #800000; text-decoration-color: #800000\">│</span>   <span style=\"color: #7f7f7f; text-decoration-color: #7f7f7f\">232 </span><span style=\"color: #7f7f7f; text-decoration-color: #7f7f7f\">│   │   │   │   </span>data = _concatenate_chunks(chunks)                                         <span style=\"color: #800000; text-decoration-color: #800000\">│</span>\n",
       "<span style=\"color: #800000; text-decoration-color: #800000\">│</span>   <span style=\"color: #7f7f7f; text-decoration-color: #7f7f7f\">233 </span>                                                                                           <span style=\"color: #800000; text-decoration-color: #800000\">│</span>\n",
       "<span style=\"color: #800000; text-decoration-color: #800000\">│</span>                                                                                                  <span style=\"color: #800000; text-decoration-color: #800000\">│</span>\n",
       "<span style=\"color: #800000; text-decoration-color: #800000\">│</span> in <span style=\"color: #00ff00; text-decoration-color: #00ff00\">pandas._libs.parsers.TextReader.read_low_memory</span>:<span style=\"color: #0000ff; text-decoration-color: #0000ff\">808</span>                                           <span style=\"color: #800000; text-decoration-color: #800000\">│</span>\n",
       "<span style=\"color: #800000; text-decoration-color: #800000\">│</span>                                                                                                  <span style=\"color: #800000; text-decoration-color: #800000\">│</span>\n",
       "<span style=\"color: #800000; text-decoration-color: #800000\">│</span> in <span style=\"color: #00ff00; text-decoration-color: #00ff00\">pandas._libs.parsers.TextReader._read_rows</span>:<span style=\"color: #0000ff; text-decoration-color: #0000ff\">866</span>                                                <span style=\"color: #800000; text-decoration-color: #800000\">│</span>\n",
       "<span style=\"color: #800000; text-decoration-color: #800000\">│</span>                                                                                                  <span style=\"color: #800000; text-decoration-color: #800000\">│</span>\n",
       "<span style=\"color: #800000; text-decoration-color: #800000\">│</span> in <span style=\"color: #00ff00; text-decoration-color: #00ff00\">pandas._libs.parsers.TextReader._tokenize_rows</span>:<span style=\"color: #0000ff; text-decoration-color: #0000ff\">852</span>                                            <span style=\"color: #800000; text-decoration-color: #800000\">│</span>\n",
       "<span style=\"color: #800000; text-decoration-color: #800000\">│</span>                                                                                                  <span style=\"color: #800000; text-decoration-color: #800000\">│</span>\n",
       "<span style=\"color: #800000; text-decoration-color: #800000\">│</span> in <span style=\"color: #00ff00; text-decoration-color: #00ff00\">pandas._libs.parsers.raise_parser_error</span>:<span style=\"color: #0000ff; text-decoration-color: #0000ff\">1973</span>                                                  <span style=\"color: #800000; text-decoration-color: #800000\">│</span>\n",
       "<span style=\"color: #800000; text-decoration-color: #800000\">╰──────────────────────────────────────────────────────────────────────────────────────────────────╯</span>\n",
       "<span style=\"color: #ff0000; text-decoration-color: #ff0000; font-weight: bold\">ParserError: </span>Error tokenizing data. C error: Expected <span style=\"color: #008080; text-decoration-color: #008080; font-weight: bold\">1</span> fields in line <span style=\"color: #008080; text-decoration-color: #008080; font-weight: bold\">12</span>, saw <span style=\"color: #008080; text-decoration-color: #008080; font-weight: bold\">2587</span>\n",
       "\n",
       "</pre>\n"
      ],
      "text/plain": [
       "\u001b[31m╭─\u001b[0m\u001b[31m──────────────────────────────\u001b[0m\u001b[31m \u001b[0m\u001b[1;31mTraceback \u001b[0m\u001b[1;2;31m(most recent call last)\u001b[0m\u001b[31m \u001b[0m\u001b[31m───────────────────────────────\u001b[0m\u001b[31m─╮\u001b[0m\n",
       "\u001b[31m│\u001b[0m in \u001b[92m<module>\u001b[0m:\u001b[94m1\u001b[0m                                                                                    \u001b[31m│\u001b[0m\n",
       "\u001b[31m│\u001b[0m                                                                                                  \u001b[31m│\u001b[0m\n",
       "\u001b[31m│\u001b[0m \u001b[31m❱ \u001b[0m1 documents = SimpleDirectoryReader(\u001b[33m'\u001b[0m\u001b[33m/home/ubuntu/work/data/fulltext_docs_csvs/\u001b[0m\u001b[33m'\u001b[0m).load_dat     \u001b[31m│\u001b[0m\n",
       "\u001b[31m│\u001b[0m   \u001b[2m2 \u001b[0m                                                                                             \u001b[31m│\u001b[0m\n",
       "\u001b[31m│\u001b[0m   \u001b[2m3 \u001b[0m\u001b[2m# set up ChromaVectorStore and load in data\u001b[0m                                                  \u001b[31m│\u001b[0m\n",
       "\u001b[31m│\u001b[0m   \u001b[2m4 \u001b[0mvector_store = ChromaVectorStore(chroma_collection=collection)                               \u001b[31m│\u001b[0m\n",
       "\u001b[31m│\u001b[0m                                                                                                  \u001b[31m│\u001b[0m\n",
       "\u001b[31m│\u001b[0m \u001b[2;33m/home/ubuntu/anaconda3/envs/chroma/lib/python3.10/site-packages/llama_index/readers/file/\u001b[0m\u001b[1;33mbase.py\u001b[0m \u001b[31m│\u001b[0m\n",
       "\u001b[31m│\u001b[0m :\u001b[94m195\u001b[0m in \u001b[92mload_data\u001b[0m                                                                                \u001b[31m│\u001b[0m\n",
       "\u001b[31m│\u001b[0m                                                                                                  \u001b[31m│\u001b[0m\n",
       "\u001b[31m│\u001b[0m   \u001b[2m192 \u001b[0m\u001b[2m│   │   │   │   │   \u001b[0mreader_cls = DEFAULT_FILE_READER_CLS[file_suffix]                      \u001b[31m│\u001b[0m\n",
       "\u001b[31m│\u001b[0m   \u001b[2m193 \u001b[0m\u001b[2m│   │   │   │   │   \u001b[0m\u001b[96mself\u001b[0m.file_extractor[file_suffix] = reader_cls()                        \u001b[31m│\u001b[0m\n",
       "\u001b[31m│\u001b[0m   \u001b[2m194 \u001b[0m\u001b[2m│   │   │   │   \u001b[0mreader = \u001b[96mself\u001b[0m.file_extractor[file_suffix]                                  \u001b[31m│\u001b[0m\n",
       "\u001b[31m│\u001b[0m \u001b[31m❱ \u001b[0m195 \u001b[2m│   │   │   │   \u001b[0mdocs = reader.load_data(input_file, metadata=metadata \u001b[95mor\u001b[0m {})               \u001b[31m│\u001b[0m\n",
       "\u001b[31m│\u001b[0m   \u001b[2m196 \u001b[0m\u001b[2m│   │   │   │   \u001b[0m                                                                           \u001b[31m│\u001b[0m\n",
       "\u001b[31m│\u001b[0m   \u001b[2m197 \u001b[0m\u001b[2m│   │   │   │   \u001b[0m\u001b[2m# iterate over docs if needed\u001b[0m                                              \u001b[31m│\u001b[0m\n",
       "\u001b[31m│\u001b[0m   \u001b[2m198 \u001b[0m\u001b[2m│   │   │   │   \u001b[0m\u001b[94mif\u001b[0m \u001b[96mself\u001b[0m.filename_as_id:                                                    \u001b[31m│\u001b[0m\n",
       "\u001b[31m│\u001b[0m                                                                                                  \u001b[31m│\u001b[0m\n",
       "\u001b[31m│\u001b[0m \u001b[2;33m/home/ubuntu/anaconda3/envs/chroma/lib/python3.10/site-packages/llama_index/readers/file/\u001b[0m\u001b[1;33mtabular\u001b[0m \u001b[31m│\u001b[0m\n",
       "\u001b[31m│\u001b[0m \u001b[1;33m_reader.py\u001b[0m:\u001b[94m96\u001b[0m in \u001b[92mload_data\u001b[0m                                                                       \u001b[31m│\u001b[0m\n",
       "\u001b[31m│\u001b[0m                                                                                                  \u001b[31m│\u001b[0m\n",
       "\u001b[31m│\u001b[0m   \u001b[2m 93 \u001b[0m\u001b[2m│   \u001b[0m                                                                                       \u001b[31m│\u001b[0m\n",
       "\u001b[31m│\u001b[0m   \u001b[2m 94 \u001b[0m\u001b[2m│   \u001b[0m\u001b[94mdef\u001b[0m \u001b[92mload_data\u001b[0m(\u001b[96mself\u001b[0m, file: Path, metadata: Optional[Dict] = \u001b[94mNone\u001b[0m) -> List[Document]:    \u001b[31m│\u001b[0m\n",
       "\u001b[31m│\u001b[0m   \u001b[2m 95 \u001b[0m\u001b[2;90m│   │   \u001b[0m\u001b[33m\"\"\"Parse file.\"\"\"\u001b[0m                                                                  \u001b[31m│\u001b[0m\n",
       "\u001b[31m│\u001b[0m \u001b[31m❱ \u001b[0m 96 \u001b[2m│   │   \u001b[0mdf = pd.read_csv(file, **\u001b[96mself\u001b[0m._pandas_config)                                      \u001b[31m│\u001b[0m\n",
       "\u001b[31m│\u001b[0m   \u001b[2m 97 \u001b[0m\u001b[2m│   │   \u001b[0m                                                                                   \u001b[31m│\u001b[0m\n",
       "\u001b[31m│\u001b[0m   \u001b[2m 98 \u001b[0m\u001b[2m│   │   \u001b[0mtext_list = df.apply(                                                              \u001b[31m│\u001b[0m\n",
       "\u001b[31m│\u001b[0m   \u001b[2m 99 \u001b[0m\u001b[2m│   │   │   \u001b[0m\u001b[94mlambda\u001b[0m row: (\u001b[96mself\u001b[0m._col_joiner).join(row.astype(\u001b[96mstr\u001b[0m).tolist()), axis=\u001b[94m1\u001b[0m          \u001b[31m│\u001b[0m\n",
       "\u001b[31m│\u001b[0m                                                                                                  \u001b[31m│\u001b[0m\n",
       "\u001b[31m│\u001b[0m \u001b[2;33m/home/ubuntu/anaconda3/envs/chroma/lib/python3.10/site-packages/pandas/util/\u001b[0m\u001b[1;33m_decorators.py\u001b[0m:\u001b[94m211\u001b[0m   \u001b[31m│\u001b[0m\n",
       "\u001b[31m│\u001b[0m in \u001b[92mwrapper\u001b[0m                                                                                       \u001b[31m│\u001b[0m\n",
       "\u001b[31m│\u001b[0m                                                                                                  \u001b[31m│\u001b[0m\n",
       "\u001b[31m│\u001b[0m   \u001b[2m208 \u001b[0m\u001b[2m│   │   │   │   │   \u001b[0m\u001b[94mraise\u001b[0m \u001b[96mTypeError\u001b[0m(msg)                                                   \u001b[31m│\u001b[0m\n",
       "\u001b[31m│\u001b[0m   \u001b[2m209 \u001b[0m\u001b[2m│   │   │   │   \u001b[0m\u001b[94melse\u001b[0m:                                                                      \u001b[31m│\u001b[0m\n",
       "\u001b[31m│\u001b[0m   \u001b[2m210 \u001b[0m\u001b[2m│   │   │   │   │   \u001b[0mkwargs[new_arg_name] = new_arg_value                                   \u001b[31m│\u001b[0m\n",
       "\u001b[31m│\u001b[0m \u001b[31m❱ \u001b[0m211 \u001b[2m│   │   │   \u001b[0m\u001b[94mreturn\u001b[0m func(*args, **kwargs)                                                   \u001b[31m│\u001b[0m\n",
       "\u001b[31m│\u001b[0m   \u001b[2m212 \u001b[0m\u001b[2m│   │   \u001b[0m                                                                                   \u001b[31m│\u001b[0m\n",
       "\u001b[31m│\u001b[0m   \u001b[2m213 \u001b[0m\u001b[2m│   │   \u001b[0m\u001b[94mreturn\u001b[0m cast(F, wrapper)                                                            \u001b[31m│\u001b[0m\n",
       "\u001b[31m│\u001b[0m   \u001b[2m214 \u001b[0m                                                                                           \u001b[31m│\u001b[0m\n",
       "\u001b[31m│\u001b[0m                                                                                                  \u001b[31m│\u001b[0m\n",
       "\u001b[31m│\u001b[0m \u001b[2;33m/home/ubuntu/anaconda3/envs/chroma/lib/python3.10/site-packages/pandas/util/\u001b[0m\u001b[1;33m_decorators.py\u001b[0m:\u001b[94m331\u001b[0m   \u001b[31m│\u001b[0m\n",
       "\u001b[31m│\u001b[0m in \u001b[92mwrapper\u001b[0m                                                                                       \u001b[31m│\u001b[0m\n",
       "\u001b[31m│\u001b[0m                                                                                                  \u001b[31m│\u001b[0m\n",
       "\u001b[31m│\u001b[0m   \u001b[2m328 \u001b[0m\u001b[2m│   │   │   │   │   \u001b[0m\u001b[96mFutureWarning\u001b[0m,                                                         \u001b[31m│\u001b[0m\n",
       "\u001b[31m│\u001b[0m   \u001b[2m329 \u001b[0m\u001b[2m│   │   │   │   │   \u001b[0mstacklevel=find_stack_level(),                                         \u001b[31m│\u001b[0m\n",
       "\u001b[31m│\u001b[0m   \u001b[2m330 \u001b[0m\u001b[2m│   │   │   │   \u001b[0m)                                                                          \u001b[31m│\u001b[0m\n",
       "\u001b[31m│\u001b[0m \u001b[31m❱ \u001b[0m331 \u001b[2m│   │   │   \u001b[0m\u001b[94mreturn\u001b[0m func(*args, **kwargs)                                                   \u001b[31m│\u001b[0m\n",
       "\u001b[31m│\u001b[0m   \u001b[2m332 \u001b[0m\u001b[2m│   │   \u001b[0m                                                                                   \u001b[31m│\u001b[0m\n",
       "\u001b[31m│\u001b[0m   \u001b[2m333 \u001b[0m\u001b[2m│   │   \u001b[0m\u001b[2m# error: \"Callable[[VarArg(Any), KwArg(Any)], Any]\" has no\u001b[0m                         \u001b[31m│\u001b[0m\n",
       "\u001b[31m│\u001b[0m   \u001b[2m334 \u001b[0m\u001b[2m│   │   \u001b[0m\u001b[2m# attribute \"__signature__\"\u001b[0m                                                        \u001b[31m│\u001b[0m\n",
       "\u001b[31m│\u001b[0m                                                                                                  \u001b[31m│\u001b[0m\n",
       "\u001b[31m│\u001b[0m \u001b[2;33m/home/ubuntu/anaconda3/envs/chroma/lib/python3.10/site-packages/pandas/io/parsers/\u001b[0m\u001b[1;33mreaders.py\u001b[0m:\u001b[94m950\u001b[0m \u001b[31m│\u001b[0m\n",
       "\u001b[31m│\u001b[0m in \u001b[92mread_csv\u001b[0m                                                                                      \u001b[31m│\u001b[0m\n",
       "\u001b[31m│\u001b[0m                                                                                                  \u001b[31m│\u001b[0m\n",
       "\u001b[31m│\u001b[0m   \u001b[2m 947 \u001b[0m\u001b[2m│   \u001b[0m)                                                                                     \u001b[31m│\u001b[0m\n",
       "\u001b[31m│\u001b[0m   \u001b[2m 948 \u001b[0m\u001b[2m│   \u001b[0mkwds.update(kwds_defaults)                                                            \u001b[31m│\u001b[0m\n",
       "\u001b[31m│\u001b[0m   \u001b[2m 949 \u001b[0m\u001b[2m│   \u001b[0m                                                                                      \u001b[31m│\u001b[0m\n",
       "\u001b[31m│\u001b[0m \u001b[31m❱ \u001b[0m 950 \u001b[2m│   \u001b[0m\u001b[94mreturn\u001b[0m _read(filepath_or_buffer, kwds)                                                \u001b[31m│\u001b[0m\n",
       "\u001b[31m│\u001b[0m   \u001b[2m 951 \u001b[0m                                                                                          \u001b[31m│\u001b[0m\n",
       "\u001b[31m│\u001b[0m   \u001b[2m 952 \u001b[0m                                                                                          \u001b[31m│\u001b[0m\n",
       "\u001b[31m│\u001b[0m   \u001b[2m 953 \u001b[0m\u001b[2m# iterator=True -> TextFileReader\u001b[0m                                                         \u001b[31m│\u001b[0m\n",
       "\u001b[31m│\u001b[0m                                                                                                  \u001b[31m│\u001b[0m\n",
       "\u001b[31m│\u001b[0m \u001b[2;33m/home/ubuntu/anaconda3/envs/chroma/lib/python3.10/site-packages/pandas/io/parsers/\u001b[0m\u001b[1;33mreaders.py\u001b[0m:\u001b[94m611\u001b[0m \u001b[31m│\u001b[0m\n",
       "\u001b[31m│\u001b[0m in \u001b[92m_read\u001b[0m                                                                                         \u001b[31m│\u001b[0m\n",
       "\u001b[31m│\u001b[0m                                                                                                  \u001b[31m│\u001b[0m\n",
       "\u001b[31m│\u001b[0m   \u001b[2m 608 \u001b[0m\u001b[2m│   │   \u001b[0m\u001b[94mreturn\u001b[0m parser                                                                     \u001b[31m│\u001b[0m\n",
       "\u001b[31m│\u001b[0m   \u001b[2m 609 \u001b[0m\u001b[2m│   \u001b[0m                                                                                      \u001b[31m│\u001b[0m\n",
       "\u001b[31m│\u001b[0m   \u001b[2m 610 \u001b[0m\u001b[2m│   \u001b[0m\u001b[94mwith\u001b[0m parser:                                                                          \u001b[31m│\u001b[0m\n",
       "\u001b[31m│\u001b[0m \u001b[31m❱ \u001b[0m 611 \u001b[2m│   │   \u001b[0m\u001b[94mreturn\u001b[0m parser.read(nrows)                                                         \u001b[31m│\u001b[0m\n",
       "\u001b[31m│\u001b[0m   \u001b[2m 612 \u001b[0m                                                                                          \u001b[31m│\u001b[0m\n",
       "\u001b[31m│\u001b[0m   \u001b[2m 613 \u001b[0m                                                                                          \u001b[31m│\u001b[0m\n",
       "\u001b[31m│\u001b[0m   \u001b[2m 614 \u001b[0m\u001b[2m# iterator=True -> TextFileReader\u001b[0m                                                         \u001b[31m│\u001b[0m\n",
       "\u001b[31m│\u001b[0m                                                                                                  \u001b[31m│\u001b[0m\n",
       "\u001b[31m│\u001b[0m \u001b[2;33m/home/ubuntu/anaconda3/envs/chroma/lib/python3.10/site-packages/pandas/io/parsers/\u001b[0m\u001b[1;33mreaders.py\u001b[0m:\u001b[94m177\u001b[0m \u001b[31m│\u001b[0m\n",
       "\u001b[31m│\u001b[0m \u001b[94m8\u001b[0m in \u001b[92mread\u001b[0m                                                                                        \u001b[31m│\u001b[0m\n",
       "\u001b[31m│\u001b[0m                                                                                                  \u001b[31m│\u001b[0m\n",
       "\u001b[31m│\u001b[0m   \u001b[2m1775 \u001b[0m\u001b[2m│   │   │   │   │   \u001b[0mindex,                                                                \u001b[31m│\u001b[0m\n",
       "\u001b[31m│\u001b[0m   \u001b[2m1776 \u001b[0m\u001b[2m│   │   │   │   │   \u001b[0mcolumns,                                                              \u001b[31m│\u001b[0m\n",
       "\u001b[31m│\u001b[0m   \u001b[2m1777 \u001b[0m\u001b[2m│   │   │   │   │   \u001b[0mcol_dict,                                                             \u001b[31m│\u001b[0m\n",
       "\u001b[31m│\u001b[0m \u001b[31m❱ \u001b[0m1778 \u001b[2m│   │   │   │   \u001b[0m) = \u001b[96mself\u001b[0m._engine.read(  \u001b[2m# type: ignore[attr-defined]\u001b[0m                      \u001b[31m│\u001b[0m\n",
       "\u001b[31m│\u001b[0m   \u001b[2m1779 \u001b[0m\u001b[2m│   │   │   │   │   \u001b[0mnrows                                                                 \u001b[31m│\u001b[0m\n",
       "\u001b[31m│\u001b[0m   \u001b[2m1780 \u001b[0m\u001b[2m│   │   │   │   \u001b[0m)                                                                         \u001b[31m│\u001b[0m\n",
       "\u001b[31m│\u001b[0m   \u001b[2m1781 \u001b[0m\u001b[2m│   │   │   \u001b[0m\u001b[94mexcept\u001b[0m \u001b[96mException\u001b[0m:                                                             \u001b[31m│\u001b[0m\n",
       "\u001b[31m│\u001b[0m                                                                                                  \u001b[31m│\u001b[0m\n",
       "\u001b[31m│\u001b[0m \u001b[2;33m/home/ubuntu/anaconda3/envs/chroma/lib/python3.10/site-packages/pandas/io/parsers/\u001b[0m\u001b[1;33mc_parser_wrapp\u001b[0m \u001b[31m│\u001b[0m\n",
       "\u001b[31m│\u001b[0m \u001b[1;33mer.py\u001b[0m:\u001b[94m230\u001b[0m in \u001b[92mread\u001b[0m                                                                                \u001b[31m│\u001b[0m\n",
       "\u001b[31m│\u001b[0m                                                                                                  \u001b[31m│\u001b[0m\n",
       "\u001b[31m│\u001b[0m   \u001b[2m227 \u001b[0m\u001b[2m│   │   \u001b[0mcolumn_names: Sequence[Hashable] | MultiIndex                                      \u001b[31m│\u001b[0m\n",
       "\u001b[31m│\u001b[0m   \u001b[2m228 \u001b[0m\u001b[2m│   │   \u001b[0m\u001b[94mtry\u001b[0m:                                                                               \u001b[31m│\u001b[0m\n",
       "\u001b[31m│\u001b[0m   \u001b[2m229 \u001b[0m\u001b[2m│   │   │   \u001b[0m\u001b[94mif\u001b[0m \u001b[96mself\u001b[0m.low_memory:                                                            \u001b[31m│\u001b[0m\n",
       "\u001b[31m│\u001b[0m \u001b[31m❱ \u001b[0m230 \u001b[2m│   │   │   │   \u001b[0mchunks = \u001b[96mself\u001b[0m._reader.read_low_memory(nrows)                               \u001b[31m│\u001b[0m\n",
       "\u001b[31m│\u001b[0m   \u001b[2m231 \u001b[0m\u001b[2m│   │   │   │   \u001b[0m\u001b[2m# destructive to chunks\u001b[0m                                                    \u001b[31m│\u001b[0m\n",
       "\u001b[31m│\u001b[0m   \u001b[2m232 \u001b[0m\u001b[2m│   │   │   │   \u001b[0mdata = _concatenate_chunks(chunks)                                         \u001b[31m│\u001b[0m\n",
       "\u001b[31m│\u001b[0m   \u001b[2m233 \u001b[0m                                                                                           \u001b[31m│\u001b[0m\n",
       "\u001b[31m│\u001b[0m                                                                                                  \u001b[31m│\u001b[0m\n",
       "\u001b[31m│\u001b[0m in \u001b[92mpandas._libs.parsers.TextReader.read_low_memory\u001b[0m:\u001b[94m808\u001b[0m                                           \u001b[31m│\u001b[0m\n",
       "\u001b[31m│\u001b[0m                                                                                                  \u001b[31m│\u001b[0m\n",
       "\u001b[31m│\u001b[0m in \u001b[92mpandas._libs.parsers.TextReader._read_rows\u001b[0m:\u001b[94m866\u001b[0m                                                \u001b[31m│\u001b[0m\n",
       "\u001b[31m│\u001b[0m                                                                                                  \u001b[31m│\u001b[0m\n",
       "\u001b[31m│\u001b[0m in \u001b[92mpandas._libs.parsers.TextReader._tokenize_rows\u001b[0m:\u001b[94m852\u001b[0m                                            \u001b[31m│\u001b[0m\n",
       "\u001b[31m│\u001b[0m                                                                                                  \u001b[31m│\u001b[0m\n",
       "\u001b[31m│\u001b[0m in \u001b[92mpandas._libs.parsers.raise_parser_error\u001b[0m:\u001b[94m1973\u001b[0m                                                  \u001b[31m│\u001b[0m\n",
       "\u001b[31m╰──────────────────────────────────────────────────────────────────────────────────────────────────╯\u001b[0m\n",
       "\u001b[1;91mParserError: \u001b[0mError tokenizing data. C error: Expected \u001b[1;36m1\u001b[0m fields in line \u001b[1;36m12\u001b[0m, saw \u001b[1;36m2587\u001b[0m\n",
       "\n"
      ]
     },
     "metadata": {},
     "output_type": "display_data"
    }
   ],
   "source": [
    "documents = SimpleDirectoryReader('/home/ubuntu/work/data/fulltext_docs_csvs/', num_files_limit= 5).load_data()\n"
   ]
  },
  {
   "cell_type": "code",
   "execution_count": null,
   "metadata": {},
   "outputs": [],
   "source": [
    "# set up ChromaVectorStore and load in data\n",
    "vector_store = ChromaVectorStore(chroma_collection=collection)\n"
   ]
  },
  {
   "cell_type": "code",
   "execution_count": null,
   "metadata": {},
   "outputs": [],
   "source": [
    "storage_context = StorageContext.from_defaults(vector_store=vector_store)\n"
   ]
  },
  {
   "cell_type": "code",
   "execution_count": null,
   "metadata": {},
   "outputs": [],
   "source": [
    "index = VectorStoreIndex.from_documents(\n",
    "    documents, storage_context=storage_context, embed_model=embed_model\n",
    ")\n"
   ]
  },
  {
   "cell_type": "code",
   "execution_count": null,
   "metadata": {},
   "outputs": [],
   "source": [
    "\n",
    "# Query Data\n",
    "query_engine = index.as_query_engine(chroma_collection=chroma_collection)\n",
    "response = query_engine.query(\"What did the author do growing up?\")\n",
    "display(Markdown(f\"<b>{response}</b>\"))"
   ]
  },
  {
   "cell_type": "markdown",
   "metadata": {},
   "source": [
    "Check Work"
   ]
  },
  {
   "cell_type": "code",
   "execution_count": null,
   "metadata": {},
   "outputs": [],
   "source": [
    "collection.count()"
   ]
  }
 ],
 "metadata": {
  "kernelspec": {
   "display_name": "thera",
   "language": "python",
   "name": "python3"
  },
  "language_info": {
   "codemirror_mode": {
    "name": "ipython",
    "version": 3
   },
   "file_extension": ".py",
   "mimetype": "text/x-python",
   "name": "python",
   "nbconvert_exporter": "python",
   "pygments_lexer": "ipython3",
   "version": "3.10.12"
  },
  "orig_nbformat": 4
 },
 "nbformat": 4,
 "nbformat_minor": 2
}
