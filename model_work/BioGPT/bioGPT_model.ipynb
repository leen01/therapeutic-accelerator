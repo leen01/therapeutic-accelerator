{
 "cells": [
  {
   "cell_type": "code",
   "execution_count": null,
   "metadata": {},
   "outputs": [],
   "source": []
  },
  {
   "cell_type": "code",
   "execution_count": null,
   "metadata": {},
   "outputs": [],
   "source": []
  },
  {
   "cell_type": "code",
   "execution_count": null,
   "metadata": {},
   "outputs": [],
   "source": [
    "biogpttokenizer = BioGptTokenizer.from_pretrained(\"microsoft/biogpt\")\n",
    "biogptmodel = BioGptForCausalLM.from_pretrained(\"microsoft/biogpt\")"
   ]
  },
  {
   "cell_type": "code",
   "execution_count": null,
   "metadata": {},
   "outputs": [],
   "source": [
    "### BioBERT or BERT Q&A or Clincal-T5-Large\n",
    "sample_question = \"question: What is the capital city of Switzerland?\"\n",
    "sample_context = \"context: Many people are surprised when they hear that pretty little Bern is the Swiss capital. Surely industrial Zurich or international Geneva would be more logical, they say. But it's precisely to avoid a concentration of power that Bern was chosen as the “federal city” exactly 170 years ago.\"\n",
    "\n",
    "encoding_gpt = biogpttokenizer([sample_question + sample_context], return_tensors='tf')\n",
    "encoding_gpt\n"
   ]
  }
 ],
 "metadata": {
  "language_info": {
   "name": "python"
  },
  "orig_nbformat": 4
 },
 "nbformat": 4,
 "nbformat_minor": 2
}
