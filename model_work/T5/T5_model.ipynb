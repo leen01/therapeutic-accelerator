{
 "cells": [
  {
   "cell_type": "markdown",
   "metadata": {},
   "source": [
    "# T5 Models\n"
   ]
  },
  {
   "cell_type": "code",
   "execution_count": 1,
   "metadata": {},
   "outputs": [
    {
     "name": "stderr",
     "output_type": "stream",
     "text": [
      "2023-07-20 05:31:27.780607: I tensorflow/tsl/cuda/cudart_stub.cc:28] Could not find cuda drivers on your machine, GPU will not be used.\n",
      "2023-07-20 05:31:27.829557: I tensorflow/tsl/cuda/cudart_stub.cc:28] Could not find cuda drivers on your machine, GPU will not be used.\n",
      "2023-07-20 05:31:27.830767: I tensorflow/core/platform/cpu_feature_guard.cc:182] This TensorFlow binary is optimized to use available CPU instructions in performance-critical operations.\n",
      "To enable the following instructions: AVX2 AVX512F FMA, in other operations, rebuild TensorFlow with the appropriate compiler flags.\n",
      "2023-07-20 05:31:28.754464: W tensorflow/compiler/tf2tensorrt/utils/py_utils.cc:38] TF-TRT Warning: Could not find TensorRT\n",
      "2023-07-20 05:31:30 ip-172-31-64-95 metapub.config[10822] WARNING NCBI_API_KEY was not set.\n"
     ]
    }
   ],
   "source": [
    "import os\n",
    "import glob\n",
    "import tensorflow as tf\n",
    "import pandas as pd\n",
    "import numpy as np\n",
    "import zipfile as zf\n",
    "from glob import glob\n",
    "\n",
    "# from keras.saving.hdf5_format import save_attributes_to_hdf5_group\n",
    "from transformers import (\n",
    "    AutoTokenizer,\n",
    "    AutoModel,\n",
    "    AutoModelWithLMHead\n",
    "    # T5Tokenizer,\n",
    "    # TFT5Model,\n",
    "    # TFT5ForConditionalGeneration,\n",
    "    # TFBertModel,\n",
    "    # TFBertForQuestionAnswering,\n",
    ")\n",
    "import sentencepiece\n",
    "from metapub import PubMedFetcher\n",
    "from semanticscholar import SemanticScholar\n",
    "from metapub import FindIt\n",
    "import requests\n",
    "import urllib\n",
    "import json"
   ]
  },
  {
   "cell_type": "code",
   "execution_count": null,
   "metadata": {},
   "outputs": [],
   "source": [
    "# import functions from a file stored in a different directory\n",
    "import sys\n",
    "\n",
    "sys.path.append(\"/home/ubuntu/work/therapeutic_accelerator/scripts/utils\")\n",
    "sys.path.append(\"/home/ubuntu/work/therapeutic_accelerator/scripts/database\")\n",
    "\n",
    "from utils import import_config\n",
    "from db_tools import db_connection\n",
    "\n",
    "config, keys = import_config()\n",
    "\n",
    "# engine = db_connection(password = keys[\"postgres\"], host = config[\"database\"][\"host\"])\n",
    "import chromaDB_connection as cDBc\n",
    "\n",
    "# Chroma setup\n",
    "chroma_server_host = \"34.238.51.66\"\n",
    "chroma_client = cDBc.create_chroma_client(chroma_server_host)\n",
    "\n",
    "# Working Collection\n",
    "collection = chroma_client.get_or_create_collection(\"specter_abstracts\")"
   ]
  },
  {
   "cell_type": "code",
   "execution_count": 4,
   "metadata": {},
   "outputs": [],
   "source": [
    "# Hard coded variables\n",
    "max_sequence_length = 512\n",
    "embedding_size = 200"
   ]
  },
  {
   "cell_type": "code",
   "execution_count": 5,
   "metadata": {},
   "outputs": [
    {
     "name": "stderr",
     "output_type": "stream",
     "text": [
      "/home/ubuntu/work/therapeutic_accelerator/.venv/lib/python3.10/site-packages/transformers/models/t5/tokenization_t5_fast.py:155: FutureWarning: This tokenizer was incorrectly instantiated with a model max length of 512 which will be corrected in Transformers v5.\n",
      "For now, this behavior is kept to avoid breaking backwards compatibility when padding/encoding with `truncation is True`.\n",
      "- Be aware that you SHOULD NOT rely on t5-base automatically truncating your input to 512 when padding/encoding.\n",
      "- If you want to encode/pad to sequences longer than 512 you can either instantiate this tokenizer with `model_max_length` or pass `max_length` when encoding/padding.\n",
      "- To avoid this warning, please instantiate this tokenizer with `model_max_length` set to your preferred value.\n",
      "  warnings.warn(\n",
      "/home/ubuntu/work/therapeutic_accelerator/.venv/lib/python3.10/site-packages/transformers/models/auto/modeling_auto.py:1362: FutureWarning: The class `AutoModelWithLMHead` is deprecated and will be removed in a future version. Please use `AutoModelForCausalLM` for causal language models, `AutoModelForMaskedLM` for masked language models and `AutoModelForSeq2SeqLM` for encoder-decoder models.\n",
      "  warnings.warn(\n"
     ]
    }
   ],
   "source": [
    "tokenizer = AutoTokenizer.from_pretrained('t5-base')\n",
    "model = AutoModelWithLMHead.from_pretrained('t5-base', return_dict=True)"
   ]
  },
  {
   "cell_type": "code",
   "execution_count": 6,
   "metadata": {},
   "outputs": [],
   "source": [
    "# T5Abstract_model = TFT5ForConditionalGeneration.from_pretrained(\"t5-base\")\n",
    "# T5tokens = T5Tokenizer.from_pretrained(\"t5-base\")"
   ]
  },
  {
   "cell_type": "code",
   "execution_count": 20,
   "metadata": {},
   "outputs": [],
   "source": [
    "### T5 Abstractive Text Summarization Model\n",
    "class summary_model:\n",
    "    def __init__(self, tokenizer, model):\n",
    "        self.tokenizer = tokenizer\n",
    "        self.model = model\n",
    "\n",
    "    def summarize_text(self, text):\n",
    "\n",
    "        encoding = self.tokenizer.encode(\n",
    "            \"summarize: \" + text,\n",
    "            return_tensors=\"pt\",\n",
    "            max_length = 3000,\n",
    "            truncation=True\n",
    "            )\n",
    "\n",
    "        output = self.model.generate(\n",
    "            encoding,\n",
    "            num_beams=3,\n",
    "            no_repeat_ngram_size=2,\n",
    "            top_k=10,\n",
    "            top_p=80,\n",
    "            max_length=150,\n",
    "            min_length=30,\n",
    "        )\n",
    "        \n",
    "        summarization = [\n",
    "            self.tokenizer.decode(\n",
    "                w, skip_special_tokens=True, clean_up_tokenization_spaces=True\n",
    "            )\n",
    "            for w in output\n",
    "        ][0]\n",
    "        \n",
    "        return summarization"
   ]
  },
  {
   "cell_type": "markdown",
   "metadata": {},
   "source": [
    "# Get Results from ChromaDB\n"
   ]
  },
  {
   "cell_type": "code",
   "execution_count": 8,
   "metadata": {},
   "outputs": [
    {
     "data": {
      "text/plain": [
       "{'ids': ['38374595-0',\n",
       "  '11181159-0',\n",
       "  '203622768-0',\n",
       "  '211474643-0',\n",
       "  '232429176-0',\n",
       "  '38325820-0',\n",
       "  '10984456-0',\n",
       "  '234597674-0',\n",
       "  '29710885-0',\n",
       "  '26735832-0'],\n",
       " 'distances': [209.34613037109375,\n",
       "  227.97434997558594,\n",
       "  228.57211303710938,\n",
       "  291.1222839355469,\n",
       "  294.4068603515625,\n",
       "  296.2919006347656,\n",
       "  302.37457275390625,\n",
       "  306.3112487792969,\n",
       "  310.4975891113281,\n",
       "  317.519287109375],\n",
       " 'embeddings': None,\n",
       " 'metadatas': [{'corpusid': 38374595, 'chunk': 0},\n",
       "  {'corpusid': 11181159, 'chunk': 0},\n",
       "  {'corpusid': 203622768, 'chunk': 0},\n",
       "  {'corpusid': 211474643, 'chunk': 0},\n",
       "  {'corpusid': 232429176, 'chunk': 0},\n",
       "  {'corpusid': 38325820, 'chunk': 0},\n",
       "  {'corpusid': 10984456, 'chunk': 0},\n",
       "  {'corpusid': 234597674, 'chunk': 0},\n",
       "  {'corpusid': 29710885, 'chunk': 0},\n",
       "  {'corpusid': 26735832, 'chunk': 0}],\n",
       " 'documents': ['Microvascular density (MVD), a marker for tumor angiogenesis, has been demonstrated to have prognostic significance in various malignancies. Previous studies have demonstrated that MVD is an independent prognostic factor in pancreatic adenocarcinoma and that longer survival is associated with hypovascular tumors. The prognostic importance of MVD in pancreatic neuroendocrine tumor (NET) has not been documented. We evaluated MVD in pancreatic NET and correlated it with clinicopathologic features and patient outcome to determine whether MVD is a useful prognostic indicator for these patients. Twenty-five pancreatic NETs from our archival files resected between 1981 and 2000 were identified. The mean MVD was determined for each tumor from the 3 most vascularized 200 × fields. Clinical follow-up ranged from 1 to 19 years, with a mean of 4.9 years. At last follow-up, 6 patients were dead of disease, 10 patients were alive without disease, 4 patients were alive with disease, and 5 patients were alive with disease status unknown. Mean MVD ranged from 43 to 527 microvessels per 200 × field. MVD did not correlate with tumor size, the examined histologic parameters, or patient outcome. MVD in pancreatic NET does not correlate with the clinicohistologic features evaluated in this study or with the patient outcome and is not a useful prognostic indicator in these patients. These results suggest that factors other than the simple number of microvessels are important in determining pancreatic NET behavior. However, most tumors were highly vascular, and additional studies may be helpful to clarify further the role of vascularity and assess the utility of antiangiogenic agents in the treatment of pancreatic NET.',\n",
       "  'Patient: Female, 67 Final Diagnosis: Intrahepatic cholangiocarcinoma Symptoms: Atypical chest pain Medication: — Clinical Procedure: Liver biopsy Specialty: Internal Medicine/Oncology Objective: Rare disease Background: Intrahepatic cholangiocarcinoma is a rare condition which typically occurs in males between 50 and 70 years of age, and presents with symptoms related to biliary obstruction including jaundice, pruritus, and dark urine. Other common symptoms at presentation include abdominal pain, weight loss, and fever. Case Report: We present a case of a 67-year-old female initially presenting with chest pain at rest, found to have a lung nodule on diagnostic imaging at the time of admission. On further imaging, a 9 cm liver lesion was incidentally discovered, initially suspicious for hepatocellular carcinoma on imaging, with initial biopsy staining CK7 positive, and CK20 negative. The patient also had an elevated alpha-fetoprotein level. Biopsy results were later confirmed as moderately differentiated adenocarcinoma consistent with intrahepatic cholangiocarcinoma. Conclusions: This report illustrates an unusual presentation of intrahepatic cholangiocarcinoma. Although rare, cholangio-carcinoma is diagnosed most frequently as an incidental finding on imaging studies. With quick work-up and successful biopsy results, patients can undergo surgical or chemo-radiation therapy earlier, potentially leading to a longer survival time.',\n",
       "  'Background/Aim: This study aimed to identify risk factors for recurrence of patients with stage III colorectal cancer by assessing clinicopathological features. Patients and Methods: The study included 231 patients with stage III colorectal cancer who underwent curative resection between 2006 and 2012 at the Department of Surgery of the Jikei University Hospital, Tokyo, Japan. Clinicopathological data of the patients were retrospectively evaluated. Results: The recurrence rate was 27.7% (64/231) in the study group. The univariate analysis for recurrence identified five risk factors: site of primary tumor (rectal cancer), surgical procedure (open surgery), preoperative serum CEA level (>5 ng/ml), preoperative serum CA19-9 level (>37 U/ml), and number of metastatic lymph nodes (over three metastases). The multivariate analysis for recurrence identified three risk factors: rectal cancer, preoperative serum CEA level >5.0 ng/ml 95%, and more than three metastatic lymph nodes. Conclusion: The risk factors for stage III colorectal cancer recurrence seem to be rectal cancer, preoperative serum CEA level >5.0 ng/ml, and more than three metastatic lymph nodes.',\n",
       "  'Prostate cancer (PC) is a heterogeneous disease characterized by variable morphological patterns. Thus, establishing a patient-derived xenograft (PDX) model that retains the key features of the primary tumor for each type of PC is important for appropriate evaluation. In this study, we established PDX models of hormone-naïve (D17225) and castration-resistant (B45354) PC by implanting fresh tumor samples, obtained from patients with advanced PC under the renal capsule of immune-compromised mice. Supplementation with exogenous androgens shortened the latent period of tumorigenesis and increased the tumor formation rate. The PDX models exhibited the same major genomic and phenotypic features of the disease in humans and maintained the main pathological features of the primary tumors. Moreover, both PDX models showed different outcomes after castration or docetaxel treatment. The hormone-naïve D17225 PDX model displayed a range of responses from complete tumor regression to overt tumor progression, and the development of castrate-resistant PC was induced after castration. The responses of the two PDX models to androgen deprivation and docetaxel were similar to those observed in patients with advanced PC. These new preclinical PC models will facilitate research on the mechanisms underlying treatment response and resistance.',\n",
       "  'Transarterial chemoembolization (TACE) is a therapeutic option for patients with intermediate‐stage hepatocellular carcinoma (HCC) or metastatic liver cancers. Identifying those patients who particularly benefit from TACE remains challenging. Macrophage migration inhibitory factor (MIF) represents is an inflammatory protein described in patients with liver cancer, but no data on its prognostic relevance in patients undergoing TACE exist. Here, we evaluate MIF serum concentrations as a potential biomarker in patients undergoing TACE for primary and secondary hepatic malignancies. MIF serum concentrations were measured by multiplex immunoassay in 50 patients (HCC: n = 39, liver metastases: n = 11) before and 1 day after TACE as well as in 51 healthy controls. Serum concentrations of MIF did not differ between patients and healthy controls. Interestingly, in the subgroup of patients with larger tumor size, significantly more patients had increased MIF concentrations. Patients with an objective tumor response to TACE therapy showed comparable concentrations of serum MIF compared to patients who did not respond. MIF concentrations at day 1 after TACE were significantly higher compared to baseline concentrations. Importantly, baseline MIF concentrations above the optimal cutoff value (0.625 ng/ml) turned out as a significant and independent prognostic marker for a reduced overall survival (OS) following TACE: patients with elevated MIF concentrations showed a significantly reduced median OS of only 719 days compared to patients below the cutoff value (median OS: 1430 days, p = 0.021). Baseline MIF serum concentrations are associated with tumor size of intrahepatic malignancies and predict outcome of patients with liver cancer receiving TACE.',\n",
       "  'Aim: The Italian Piedmont region sponsored in 2005 a population‐based registry to assess the epidemiology of childhood chronic organ failure involving kidneys, liver, heart or lungs.',\n",
       "  'Purpose: Recent studies have suggested that osteopontin is induced by hypoxia in head and neck cancer cell lines and its plasma level may serve as a surrogate marker for tumor hypoxia and treatment outcome in head and neck cancer. We investigated the response of osteopontin to in vitro hypoxia in nasopharyngeal carcinoma cell lines, and determined plasma osteopontin levels in nasopharyngeal carcinoma patients, nonnasopharyngeal carcinoma head and neck cancer patients, and healthy controls. We explored the relationship of plasma osteopontin and response to radiotherapy in nasopharyngeal carcinoma. Experimental Design: Nasopharyngeal carcinoma cell lines HK1, HONE-1, C666-1, and CNE-2 were treated with 0 to 48 hours of hypoxia or normoxia, +/− reoxygenation. Osteopontin secretion in the supernatant was measured by ELISA assay. Cellular osteopontin protein and mRNA were detected by Western blotting and reverse transcription-PCR, respectively. Plasma osteopontin levels in patients (n = 66; 44 nasopharyngeal carcinoma, 22 head and neck cancer) and controls (n = 29) were measured by ELISA. Results: Hypoxia has no effect on osteopontin protein and mRNA level in nasopharyngeal carcinoma cells. Only CNE-2 secreted osteopontin, and there was no significant induction by hypoxia. Plasma osteopontin levels in patients of metastatic nasopharyngeal carcinoma and head and neck cancer, but not in locoregional nasopharyngeal carcinoma, were significantly higher than in controls. In patients with locoregional nasopharyngeal carcinoma receiving curative radiotherapy (n = 31), a high (>median) pretreatment plasma osteopontin level was a significant predictor of poor response to radiotherapy (complete response rate, 40% versus 88%; P = 0.009), which remained significant in multivariate analysis. Conclusion: Our results suggested that the pretreatment plasma osteopontin level may be a useful biomarker of response to radiotherapy in nasopharyngeal carcinoma.',\n",
       "  'Abstract Purpose Colon cancer is one of the malignant tumors that threatens human health. miR-510 was demonstrated to play roles in the progression of various cancers; its dysregulation was speculated to be associated with the development of colon cancer. Methods One hundred and thirteen colon cancer patients participated in this research. With the help of RT-qPCR, the expression of miR-510 in collected tissues and cultured cells was analyzed. The association between miR-510 expression level and clinical features and prognosis of patients was evaluated. Moreover, the effects of miR-510 on cell proliferation, migration, and invasion of colon cancer were assessed by CCK8 and Transwell assay. Results miR-510 significantly upregulated in colon cancer tissues and cell lines relative to the adjacent normal tissues and colonic cells. The expression of miR-510 was significantly associated with the TNM stage and poor prognosis of patients, indicating miR-510 was involved in the disease progression and clinical prognosis of colon cancer. Additionally, the upregulation of miR-510 significantly promoted cell proliferation, migration, and invasion of colon cancer, while its knockdown significantly inhibited these cellular processes. SRCIN 1 was the direct target of miR-510 during its promoted effect on the development of colon cancer. Conclusion The upregulation of miR-510 acts as an independent prognostic indicator and a tumor promoter by targeting SRCIN 1 in colon cancer, which provides novel therapeutic strategies for colon cancer.',\n",
       "  'Bleeding per rectum is a common complaint in pediatric age group and mostly relates to benign conditions. Underlying colorectal carcinoma is a rare cause and carries a poor prognosis. We report two cases of mucinous adenocarcinoma of colon, one in a 9 years old male and other in a female of 12 years. The boy presented with rectal bleeding and increasing constipation of more than three years duration. He had mucinous adenocarcinoma (T3N0MX) of rectosigmoid region and underwent local complete resection of the tumor with colostomy. He also received postoperative chemotherapy and later underwent colostomy reversal. He is tumor free at two years follow up. The girl presented with signs of intestinal obstruction and at colonoscopy a stricture found in descending colon. The tumor was resected and biopsy reported as poorly differentiated mucinous adenocarcinoma with positive mesenteric nodes positive for tumor (T3N2MX). She is on chemotherapy.',\n",
       "  'The present study examines the LH secretory process in hyperprolactinaemic women before, during and after bromocriptine therapy, using restrictive clinical selection criteria as well as improved methodological tools.']}"
      ]
     },
     "execution_count": 8,
     "metadata": {},
     "output_type": "execute_result"
    }
   ],
   "source": [
    "question = \"What is pancreatic cancer?\"\n",
    "results = cDBc.query_chroma(collection, question)\n",
    "results"
   ]
  },
  {
   "cell_type": "code",
   "execution_count": null,
   "metadata": {},
   "outputs": [],
   "source": [
    "# for tokenization and splitting text\n",
    "text_splitter = cDBc.text_splitter(tokenizer = tokenizer, chunk_size=512, chunk_overlap=20).create_text_splitter()"
   ]
  },
  {
   "cell_type": "code",
   "execution_count": null,
   "metadata": {},
   "outputs": [],
   "source": [
    "docs = text_splitter.create_documents(results['documents'])"
   ]
  },
  {
   "cell_type": "code",
   "execution_count": null,
   "metadata": {},
   "outputs": [
    {
     "data": {
      "text/plain": [
       "[Document(page_content='Microvascular density (MVD), a marker for tumor angiogenesis, has been demonstrated to have prognostic significance in various malignancies. Previous studies have demonstrated that MVD is an independent prognostic factor in pancreatic adenocarcinoma and that longer survival is associated with hypovascular tumors. The prognostic importance of MVD in pancreatic neuroendocrine tumor (NET) has not been documented. We evaluated MVD in pancreatic NET and correlated it with clinicopathologic features and patient outcome to determine whether MVD is a useful prognostic indicator for these patients. Twenty-five pancreatic NETs from our archival files resected between 1981 and 2000 were identified. The mean MVD was determined for each tumor from the 3 most vascularized 200 × fields. Clinical follow-up ranged from 1 to 19 years, with a mean of 4.9 years. At last follow-up, 6 patients were dead of disease, 10 patients were alive without disease,', metadata={}),\n",
       " Document(page_content='10 patients were alive without disease, 4 patients were alive with disease, and 5 patients were alive with disease status unknown. Mean MVD ranged from 43 to 527 microvessels per 200 × field. MVD did not correlate with tumor size, the examined histologic parameters, or patient outcome. MVD in pancreatic NET does not correlate with the clinicohistologic features evaluated in this study or with the patient outcome and is not a useful prognostic indicator in these patients. These results suggest that factors other than the simple number of microvessels are important in determining pancreatic NET behavior. However, most tumors were highly vascular, and additional studies may be helpful to clarify further the role of vascularity and assess the utility of antiangiogenic agents in the treatment of pancreatic NET.', metadata={}),\n",
       " Document(page_content='Patient: Female, 67 Final Diagnosis: Intrahepatic cholangiocarcinoma Symptoms: Atypical chest pain Medication: — Clinical Procedure: Liver biopsy Specialty: Internal Medicine/Oncology Objective: Rare disease Background: Intrahepatic cholangiocarcinoma is a rare condition which typically occurs in males between 50 and 70 years of age, and presents with symptoms related to biliary obstruction including jaundice, pruritus, and dark urine. Other common symptoms at presentation include abdominal pain, weight loss, and fever. Case Report: We present a case of a 67-year-old female initially presenting with chest pain at rest, found to have a lung nodule on diagnostic imaging at the time of admission. On further imaging, a 9 cm liver lesion was incidentally discovered, initially suspicious for hepatocellular carcinoma on imaging, with initial biopsy staining CK7 positive, and CK20 negative. The patient also had an elevated alpha-fetoprotein level. Biopsy results', metadata={}),\n",
       " Document(page_content='alpha-fetoprotein level. Biopsy results were later confirmed as moderately differentiated adenocarcinoma consistent with intrahepatic cholangiocarcinoma. Conclusions: This report illustrates an unusual presentation of intrahepatic cholangiocarcinoma. Although rare, cholangio-carcinoma is diagnosed most frequently as an incidental finding on imaging studies. With quick work-up and successful biopsy results, patients can undergo surgical or chemo-radiation therapy earlier, potentially leading to a longer survival time.', metadata={}),\n",
       " Document(page_content='Background/Aim: This study aimed to identify risk factors for recurrence of patients with stage III colorectal cancer by assessing clinicopathological features. Patients and Methods: The study included 231 patients with stage III colorectal cancer who underwent curative resection between 2006 and 2012 at the Department of Surgery of the Jikei University Hospital, Tokyo, Japan. Clinicopathological data of the patients were retrospectively evaluated. Results: The recurrence rate was 27.7% (64/231) in the study group. The univariate analysis for recurrence identified five risk factors: site of primary tumor (rectal cancer), surgical procedure (open surgery), preoperative serum CEA level (>5 ng/ml), preoperative serum CA19-9 level (>37 U/ml), and number of metastatic lymph nodes (over three metastases). The multivariate analysis for recurrence identified three risk factors: rectal cancer, preoperative serum CEA level >5.0 ng/ml 95%, and more than three metastatic', metadata={}),\n",
       " Document(page_content='95%, and more than three metastatic lymph nodes. Conclusion: The risk factors for stage III colorectal cancer recurrence seem to be rectal cancer, preoperative serum CEA level >5.0 ng/ml, and more than three metastatic lymph nodes.', metadata={}),\n",
       " Document(page_content='Prostate cancer (PC) is a heterogeneous disease characterized by variable morphological patterns. Thus, establishing a patient-derived xenograft (PDX) model that retains the key features of the primary tumor for each type of PC is important for appropriate evaluation. In this study, we established PDX models of hormone-naïve (D17225) and castration-resistant (B45354) PC by implanting fresh tumor samples, obtained from patients with advanced PC under the renal capsule of immune-compromised mice. Supplementation with exogenous androgens shortened the latent period of tumorigenesis and increased the tumor formation rate. The PDX models exhibited the same major genomic and phenotypic features of the disease in humans and maintained the main pathological features of the primary tumors. Moreover, both PDX models showed different outcomes after castration or docetaxel treatment. The hormone-naïve D17225 PDX model displayed a range of responses from complete tumor regression to overt', metadata={}),\n",
       " Document(page_content='from complete tumor regression to overt tumor progression, and the development of castrate-resistant PC was induced after castration. The responses of the two PDX models to androgen deprivation and docetaxel were similar to those observed in patients with advanced PC. These new preclinical PC models will facilitate research on the mechanisms underlying treatment response and resistance.', metadata={}),\n",
       " Document(page_content='Transarterial chemoembolization (TACE) is a therapeutic option for patients with intermediate‐stage hepatocellular carcinoma (HCC) or metastatic liver cancers. Identifying those patients who particularly benefit from TACE remains challenging. Macrophage migration inhibitory factor (MIF) represents is an inflammatory protein described in patients with liver cancer, but no data on its prognostic relevance in patients undergoing TACE exist. Here, we evaluate MIF serum concentrations as a potential biomarker in patients undergoing TACE for primary and secondary hepatic malignancies. MIF serum concentrations were measured by multiplex immunoassay in 50 patients (HCC: n = 39, liver metastases: n = 11) before and 1 day after TACE as well as in 51 healthy controls. Serum concentrations of MIF did not differ between patients and healthy controls. Interestingly, in the subgroup of patients with larger tumor size, significantly more patients had increased MIF concentrations. Patients with an objective', metadata={}),\n",
       " Document(page_content='MIF concentrations. Patients with an objective tumor response to TACE therapy showed comparable concentrations of serum MIF compared to patients who did not respond. MIF concentrations at day 1 after TACE were significantly higher compared to baseline concentrations. Importantly, baseline MIF concentrations above the optimal cutoff value (0.625 ng/ml) turned out as a significant and independent prognostic marker for a reduced overall survival (OS) following TACE: patients with elevated MIF concentrations showed a significantly reduced median OS of only 719 days compared to patients below the cutoff value (median OS: 1430 days, p = 0.021). Baseline MIF serum concentrations are associated with tumor size of intrahepatic malignancies and predict outcome of patients with liver cancer receiving TACE.', metadata={}),\n",
       " Document(page_content='Aim: The Italian Piedmont region sponsored in 2005 a population‐based registry to assess the epidemiology of childhood chronic organ failure involving kidneys, liver, heart or lungs.', metadata={}),\n",
       " Document(page_content='Purpose: Recent studies have suggested that osteopontin is induced by hypoxia in head and neck cancer cell lines and its plasma level may serve as a surrogate marker for tumor hypoxia and treatment outcome in head and neck cancer. We investigated the response of osteopontin to in vitro hypoxia in nasopharyngeal carcinoma cell lines, and determined plasma osteopontin levels in nasopharyngeal carcinoma patients, nonnasopharyngeal carcinoma head and neck cancer patients, and healthy controls. We explored the relationship of plasma osteopontin and response to radiotherapy in nasopharyngeal carcinoma. Experimental Design: Nasopharyngeal carcinoma cell lines HK1, HONE-1, C666-1, and CNE-2 were treated with 0 to 48 hours of hypoxia or normoxia, +/− reoxygenation. Osteopontin secretion in the supernatant was measured by ELISA assay. Cellular osteopontin protein and mRNA were detected by Western blotting and reverse', metadata={}),\n",
       " Document(page_content='detected by Western blotting and reverse transcription-PCR, respectively. Plasma osteopontin levels in patients (n = 66; 44 nasopharyngeal carcinoma, 22 head and neck cancer) and controls (n = 29) were measured by ELISA. Results: Hypoxia has no effect on osteopontin protein and mRNA level in nasopharyngeal carcinoma cells. Only CNE-2 secreted osteopontin, and there was no significant induction by hypoxia. Plasma osteopontin levels in patients of metastatic nasopharyngeal carcinoma and head and neck cancer, but not in locoregional nasopharyngeal carcinoma, were significantly higher than in controls. In patients with locoregional nasopharyngeal carcinoma receiving curative radiotherapy (n = 31), a high (>median) pretreatment plasma osteopontin level was a significant predictor of poor response to radiotherapy (complete response rate, 40% versus 88%; P = 0.009), which remained significant in multivariate analysis. Conclusion: Our', metadata={}),\n",
       " Document(page_content='in multivariate analysis. Conclusion: Our results suggested that the pretreatment plasma osteopontin level may be a useful biomarker of response to radiotherapy in nasopharyngeal carcinoma.', metadata={}),\n",
       " Document(page_content='Abstract Purpose Colon cancer is one of the malignant tumors that threatens human health. miR-510 was demonstrated to play roles in the progression of various cancers; its dysregulation was speculated to be associated with the development of colon cancer. Methods One hundred and thirteen colon cancer patients participated in this research. With the help of RT-qPCR, the expression of miR-510 in collected tissues and cultured cells was analyzed. The association between miR-510 expression level and clinical features and prognosis of patients was evaluated. Moreover, the effects of miR-510 on cell proliferation, migration, and invasion of colon cancer were assessed by CCK8 and Transwell assay. Results miR-510 significantly upregulated in colon cancer tissues and cell lines relative to the adjacent normal tissues and colonic cells. The expression of miR-510 was significantly associated with the TNM stage and poor prognosis of patients, indicating miR-510 was involved in the disease progression and', metadata={}),\n",
       " Document(page_content='was involved in the disease progression and clinical prognosis of colon cancer. Additionally, the upregulation of miR-510 significantly promoted cell proliferation, migration, and invasion of colon cancer, while its knockdown significantly inhibited these cellular processes. SRCIN 1 was the direct target of miR-510 during its promoted effect on the development of colon cancer. Conclusion The upregulation of miR-510 acts as an independent prognostic indicator and a tumor promoter by targeting SRCIN 1 in colon cancer, which provides novel therapeutic strategies for colon cancer.', metadata={}),\n",
       " Document(page_content='Bleeding per rectum is a common complaint in pediatric age group and mostly relates to benign conditions. Underlying colorectal carcinoma is a rare cause and carries a poor prognosis. We report two cases of mucinous adenocarcinoma of colon, one in a 9 years old male and other in a female of 12 years. The boy presented with rectal bleeding and increasing constipation of more than three years duration. He had mucinous adenocarcinoma (T3N0MX) of rectosigmoid region and underwent local complete resection of the tumor with colostomy. He also received postoperative chemotherapy and later underwent colostomy reversal. He is tumor free at two years follow up. The girl presented with signs of intestinal obstruction and at colonoscopy a stricture found in descending colon. The tumor was resected and biopsy reported as poorly differentiated mucinous adenocarcinoma with positive mesenteric', metadata={}),\n",
       " Document(page_content='with positive mesenteric nodes positive for tumor (T3N2MX). She is on chemotherapy.', metadata={}),\n",
       " Document(page_content='The present study examines the LH secretory process in hyperprolactinaemic women before, during and after bromocriptine therapy, using restrictive clinical selection criteria as well as improved methodological tools.', metadata={})]"
      ]
     },
     "metadata": {},
     "output_type": "display_data"
    }
   ],
   "source": [
    "docs"
   ]
  },
  {
   "cell_type": "code",
   "execution_count": null,
   "metadata": {},
   "outputs": [],
   "source": [
    "# # Questions\n",
    "# prompts = pd.read_csv(\"/home/ubuntu/work/therapeutic_accelerator/data/prompts.csv\")\n",
    "# # testing prompt one\n",
    "# question = prompts.loc[0, \"Prompt\"]"
   ]
  },
  {
   "cell_type": "markdown",
   "metadata": {},
   "source": [
    "# Testing\n"
   ]
  },
  {
   "cell_type": "code",
   "execution_count": 21,
   "metadata": {},
   "outputs": [],
   "source": [
    "t5_model = summary_model(tokenizer, model)"
   ]
  },
  {
   "cell_type": "code",
   "execution_count": 23,
   "metadata": {},
   "outputs": [],
   "source": [
    "text = ''.join(results['documents'])"
   ]
  },
  {
   "cell_type": "code",
   "execution_count": 29,
   "metadata": {},
   "outputs": [],
   "source": [
    "from transformers import T5Tokenizer, T5ForConditionalGeneration\n",
    "\n",
    "# def split_text_into_chunks(text, max_chunk_len=512):\n",
    "#     chunks = []\n",
    "#     current_chunk = \"\"\n",
    "#     for sentence in text.split('. '):  # Split by sentences, adjust as needed\n",
    "#         if len(current_chunk) + len(sentence) < max_chunk_len:\n",
    "#             current_chunk += sentence + '. '\n",
    "#         else:\n",
    "#             chunks.append(current_chunk.strip())\n",
    "#             current_chunk = sentence + '. '\n",
    "#     if current_chunk:\n",
    "#         chunks.append(current_chunk.strip())\n",
    "#     return chunks\n",
    "\n",
    "def summarize_text_with_t5(text):\n",
    "    model_name = \"t5-base\"\n",
    "    tokenizer = T5Tokenizer.from_pretrained(model_name)\n",
    "    model = T5ForConditionalGeneration.from_pretrained(model_name)\n",
    "\n",
    "    # chunks = split_text_into_chunks(text)\n",
    "    summaries = []\n",
    "    chunks = text_splitter.split_text(text)\n",
    "    \n",
    "    for chunk in chunks:\n",
    "        inputs = tokenizer.encode(\"summarize: \" + chunk, return_tensors=\"pt\", max_length=512, truncation=True)\n",
    "        summary_ids = model.generate(inputs, max_length=150, min_length=50, length_penalty=2.0, num_beams=4, early_stopping=True)\n",
    "        summary = tokenizer.decode(summary_ids[0], skip_special_tokens=True)\n",
    "        summaries.append(summary)\n",
    "\n",
    "    final_summary = \" \".join(summaries)\n",
    "    return final_summary\n"
   ]
  },
  {
   "cell_type": "code",
   "execution_count": 30,
   "metadata": {},
   "outputs": [
    {
     "name": "stderr",
     "output_type": "stream",
     "text": [
      "/home/ubuntu/work/therapeutic_accelerator/.venv/lib/python3.10/site-packages/transformers/models/t5/tokenization_t5.py:163: FutureWarning: This tokenizer was incorrectly instantiated with a model max length of 512 which will be corrected in Transformers v5.\n",
      "For now, this behavior is kept to avoid breaking backwards compatibility when padding/encoding with `truncation is True`.\n",
      "- Be aware that you SHOULD NOT rely on t5-base automatically truncating your input to 512 when padding/encoding.\n",
      "- If you want to encode/pad to sequences longer than 512 you can either instantiate this tokenizer with `model_max_length` or pass `max_length` when encoding/padding.\n",
      "- To avoid this warning, please instantiate this tokenizer with `model_max_length` set to your preferred value.\n",
      "  warnings.warn(\n"
     ]
    },
    {
     "name": "stdout",
     "output_type": "stream",
     "text": [
      "microvascular density (MVD) is a marker for tumor angiogenesis. MVD is an independent prognostic factor in pancreatic adenocarcinoma. longer survival is associated with hypovascular tumors. 10 patients alive without disease, 4 alive with disease, 5 alive with disease status unknown. MVD in pancreatic NET does not correlate with tumor size, histologic parameters or outcome. most tumors were highly vascular, and additional studies may be helpful. intrahepatic cholangiocarcinoma typically occurs in males between 50 and 70 years of age. symptoms include jaundice, pruritus, dark urine, abdominal pain, weight loss, fever. a 9 cm liver lesion was discovered, initially suspicious for hepatocellular carcinoma. report shows unusual presentation of intrahepatic cholangiocarcinoma. cholangio-carcinoma is diagnosed most frequently as an incidental finding. recurrence rate was 27.7% (64/231) in the study group. rectal cancer, preoperative serum CEA level >5.0 ng/ml 95% risk factors. prostate cancer (PC) is a heterogeneous disease characterized by variable morphological patterns. establishing a patient-derived xenograft (PDX) model that retains key features of the primary tumor for each type of PC is important. hormone-nave (D17225) and castrate-resistant (B45354) PC. supplementation with exogenous androgens shortened latent period of tumorigenesis. both PDX models showed different outcomes after castration or docetaxel treatment. transarterial chemoembolization (TACE) is a therapeutic option for patients with hepatocellular carcinoma or liver cancers. macrophage migration inhibitory factor (MIF) represents is an inflammatory protein. no data on its prognostic relevance in patients undergoing TACE exist. patients with an objective tumor response to TACE showed comparable concentrations of serum MIF. baseline MIF concentrations above the optimal cutoff value (0.625 ng/ml) turned out to be a significant and independent prognostic marker for a reduced overall survival. plasma level of osteopontin may serve as surrogate marker for tumor hypoxia. nasopharyngeal carcinoma cell lines treated with hypoxia or normoxia. plasma osteopontin and response to radiotherapy in nasopharyngeal carcinoma. hypoxia has no effect on osteopontin protein and mRNA level in nasopharyngeal carcinoma cells. only CNE-2 secreted osteopontin, and there was no significant induction by hypoxia. plasma osteopontin levels in metastatic nasopharyngeal carcinoma and head and neck cancer significantly higher than in controls. results suggest pretreatment plasma osteopontin level may be useful biomarker of response to radiotherapy in nasopharyngeal carcinoma. miR-510 was demonstrated to play roles in the progression of various cancers; its dysregulation was speculated to be associated with the development of colon cancer. results miR-510 significantly upregulated in colon cancer. miR-510 upregulated in colon cancer tissues and cell lines. upregulation of miR-510 promoted cell proliferation, migration, invasion. miR-510 acts as an independent prognostic indicator and a tumor promoter. rare cause of mucinous adenocarcinoma of colon carries poor prognosis. one boy had rectal bleeding and increased constipation of more than three years duration. girl presented with signs of intestinal obstruction and at colonoscopy a stricture found in descending colon. in hyperprolactinaemic women before, during and after bromocriptine therapy. using restrictive clinical selection criteria as well as improved methodological tools. a randomized controlled trial was conducted to determine the efficacy of bromocriptine therapy.\n"
     ]
    }
   ],
   "source": [
    "# Generate the summary\n",
    "summary = summarize_text_with_t5(text)\n",
    "print(summary)"
   ]
  },
  {
   "cell_type": "code",
   "execution_count": 38,
   "metadata": {},
   "outputs": [
    {
     "name": "stdout",
     "output_type": "stream",
     "text": [
      "microvascular density (MVD) is a marker for tumor angiogenesis\n",
      " MVD is an independent prognostic factor in pancreatic adenocarcinoma\n",
      " longer survival is associated with hypovascular tumors\n",
      " 10 patients alive without disease, 4 alive with disease, 5 alive with disease status unknown\n",
      " MVD in pancreatic NET does not correlate with tumor size, histologic parameters or outcome\n",
      " most tumors were highly vascular, and additional studies may be helpful\n",
      " intrahepatic cholangiocarcinoma typically occurs in males between 50 and 70 years of age\n",
      " symptoms include jaundice, pruritus, dark urine, abdominal pain, weight loss, fever\n",
      " a 9 cm liver lesion was discovered, initially suspicious for hepatocellular carcinoma\n",
      " report shows unusual presentation of intrahepatic cholangiocarcinoma\n",
      " cholangio-carcinoma is diagnosed most frequently as an incidental finding\n",
      " recurrence rate was 27\n",
      "7% (64/231) in the study group\n",
      " rectal cancer, preoperative serum CEA level >5\n",
      "0 ng/ml 95% risk factors\n",
      " prostate cancer (PC) is a heterogeneous disease characterized by variable morphological patterns\n",
      " establishing a patient-derived xenograft (PDX) model that retains key features of the primary tumor for each type of PC is important\n",
      " hormone-nave (D17225) and castrate-resistant (B45354) PC\n",
      " supplementation with exogenous androgens shortened latent period of tumorigenesis\n",
      " both PDX models showed different outcomes after castration or docetaxel treatment\n",
      " transarterial chemoembolization (TACE) is a therapeutic option for patients with hepatocellular carcinoma or liver cancers\n",
      " macrophage migration inhibitory factor (MIF) represents is an inflammatory protein\n",
      " no data on its prognostic relevance in patients undergoing TACE exist\n",
      " patients with an objective tumor response to TACE showed comparable concentrations of serum MIF\n",
      " baseline MIF concentrations above the optimal cutoff value (0\n",
      "625 ng/ml) turned out to be a significant and independent prognostic marker for a reduced overall survival\n",
      " plasma level of osteopontin may serve as surrogate marker for tumor hypoxia\n",
      " nasopharyngeal carcinoma cell lines treated with hypoxia or normoxia\n",
      " plasma osteopontin and response to radiotherapy in nasopharyngeal carcinoma\n",
      " hypoxia has no effect on osteopontin protein and mRNA level in nasopharyngeal carcinoma cells\n",
      " only CNE-2 secreted osteopontin, and there was no significant induction by hypoxia\n",
      " plasma osteopontin levels in metastatic nasopharyngeal carcinoma and head and neck cancer significantly higher than in controls\n",
      " results suggest pretreatment plasma osteopontin level may be useful biomarker of response to radiotherapy in nasopharyngeal carcinoma\n",
      " miR-510 was demonstrated to play roles in the progression of various cancers; its dysregulation was speculated to be associated with the development of colon cancer\n",
      " results miR-510 significantly upregulated in colon cancer\n",
      " miR-510 upregulated in colon cancer tissues and cell lines\n",
      " upregulation of miR-510 promoted cell proliferation, migration, invasion\n",
      " miR-510 acts as an independent prognostic indicator and a tumor promoter\n",
      " rare cause of mucinous adenocarcinoma of colon carries poor prognosis\n",
      " one boy had rectal bleeding and increased constipation of more than three years duration\n",
      " girl presented with signs of intestinal obstruction and at colonoscopy a stricture found in descending colon\n",
      " in hyperprolactinaemic women before, during and after bromocriptine therapy\n",
      " using restrictive clinical selection criteria as well as improved methodological tools\n",
      " a randomized controlled trial was conducted to determine the efficacy of bromocriptine therapy\n",
      "\n"
     ]
    }
   ],
   "source": [
    "for i in summary.split('.'): \n",
    "    print(i)"
   ]
  },
  {
   "cell_type": "code",
   "execution_count": 25,
   "metadata": {},
   "outputs": [
    {
     "data": {
      "text/plain": [
       "'recurrence rate is 27.7% in patients with stage III colorectal cancer. a high plasma osteopontin level predicts poor response to radiotherapy, study finds. authors: MVD is an independent prognostic factor in pancreatic neuroendocrine tumor (NET)'"
      ]
     },
     "execution_count": 25,
     "metadata": {},
     "output_type": "execute_result"
    }
   ],
   "source": [
    "summarization = t5_model.summarize_text(text)\n",
    "summarization"
   ]
  },
  {
   "cell_type": "code",
   "execution_count": null,
   "metadata": {},
   "outputs": [],
   "source": [
    "from langchain.chains import LLMChain\n",
    "chain = LLMChain(llm=llm, prompt=prompt)\n",
    "\n",
    "# Run the chain only specifying the input variable.\n",
    "print(chain.run(\"colorful socks\"))"
   ]
  },
  {
   "cell_type": "code",
   "execution_count": null,
   "metadata": {},
   "outputs": [],
   "source": []
  }
 ],
 "metadata": {
  "kernelspec": {
   "display_name": ".venv",
   "language": "python",
   "name": "python3"
  },
  "language_info": {
   "codemirror_mode": {
    "name": "ipython",
    "version": 3
   },
   "file_extension": ".py",
   "mimetype": "text/x-python",
   "name": "python",
   "nbconvert_exporter": "python",
   "pygments_lexer": "ipython3",
   "version": "3.10.6"
  },
  "orig_nbformat": 4
 },
 "nbformat": 4,
 "nbformat_minor": 2
}
