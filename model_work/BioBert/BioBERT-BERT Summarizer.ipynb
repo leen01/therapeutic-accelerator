{
 "cells": [
  {
   "cell_type": "markdown",
   "id": "6d0db0aa",
   "metadata": {},
   "source": [
    "# Imports"
   ]
  },
  {
   "cell_type": "code",
   "execution_count": 1,
   "id": "baec4770",
   "metadata": {},
   "outputs": [
    {
     "name": "stderr",
     "output_type": "stream",
     "text": [
      "2023-07-18 23:19:23.658197: I tensorflow/tsl/cuda/cudart_stub.cc:28] Could not find cuda drivers on your machine, GPU will not be used.\n",
      "2023-07-18 23:19:23.706303: I tensorflow/tsl/cuda/cudart_stub.cc:28] Could not find cuda drivers on your machine, GPU will not be used.\n",
      "2023-07-18 23:19:23.707607: I tensorflow/core/platform/cpu_feature_guard.cc:182] This TensorFlow binary is optimized to use available CPU instructions in performance-critical operations.\n",
      "To enable the following instructions: AVX2 AVX512F FMA, in other operations, rebuild TensorFlow with the appropriate compiler flags.\n",
      "2023-07-18 23:19:24.692501: W tensorflow/compiler/tf2tensorrt/utils/py_utils.cc:38] TF-TRT Warning: Could not find TensorRT\n",
      "2023-07-18 23:19:31 ip-172-31-64-95 metapub.config[31048] WARNING NCBI_API_KEY was not set.\n"
     ]
    }
   ],
   "source": [
    "from transformers import (\n",
    "    T5Tokenizer,\n",
    "    TFT5Model,\n",
    "    TFT5ForConditionalGeneration,\n",
    "    # TFAutoModel,\n",
    "    AutoTokenizer,\n",
    "    TFBertModel,\n",
    "    AutoModel,\n",
    "    BertTokenizer,\n",
    ")\n",
    "import os\n",
    "import tensorflow as tf\n",
    "import pandas as pd\n",
    "import numpy as np\n",
    "import zipfile as zf\n",
    "from glob import glob\n",
    "import sentencepiece\n",
    "from metapub import PubMedFetcher\n",
    "from semanticscholar import SemanticScholar\n",
    "from metapub import FindIt\n",
    "import requests\n",
    "import urllib\n",
    "import json\n",
    "\n",
    "# from keras.saving.hdf5_format import save_attributes_to_hdf5_group\n",
    "os.environ['CUDA_VISIBLE_DEVICES'] = '-1'"
   ]
  },
  {
   "cell_type": "markdown",
   "id": "d65d39ce",
   "metadata": {},
   "source": [
    "## Tokenizer & Model Imports"
   ]
  },
  {
   "cell_type": "code",
   "execution_count": 2,
   "id": "304645fa",
   "metadata": {},
   "outputs": [],
   "source": [
    "bio_bert_model = AutoModel.from_pretrained(\"gsarti/biobert-nli\")\n",
    "bio_bert_tokenizer = AutoTokenizer.from_pretrained(\"gsarti/biobert-nli\")"
   ]
  },
  {
   "cell_type": "code",
   "execution_count": 3,
   "id": "ee271843",
   "metadata": {},
   "outputs": [
    {
     "name": "stderr",
     "output_type": "stream",
     "text": [
      "All PyTorch model weights were used when initializing TFT5ForConditionalGeneration.\n",
      "\n",
      "All the weights of TFT5ForConditionalGeneration were initialized from the PyTorch model.\n",
      "If your task is similar to the task the model of the checkpoint was trained on, you can already use TFT5ForConditionalGeneration for predictions without further training.\n",
      "/home/ubuntu/work/therapeutic_accelerator/.venv/lib/python3.10/site-packages/transformers/models/t5/tokenization_t5.py:163: FutureWarning: This tokenizer was incorrectly instantiated with a model max length of 512 which will be corrected in Transformers v5.\n",
      "For now, this behavior is kept to avoid breaking backwards compatibility when padding/encoding with `truncation is True`.\n",
      "- Be aware that you SHOULD NOT rely on t5-base automatically truncating your input to 512 when padding/encoding.\n",
      "- If you want to encode/pad to sequences longer than 512 you can either instantiate this tokenizer with `model_max_length` or pass `max_length` when encoding/padding.\n",
      "- To avoid this warning, please instantiate this tokenizer with `model_max_length` set to your preferred value.\n",
      "  warnings.warn(\n"
     ]
    }
   ],
   "source": [
    "original_bert_tokenizer = BertTokenizer.from_pretrained(\"bert-base-uncased\")\n",
    "T5Abstract_model = TFT5ForConditionalGeneration.from_pretrained(\"t5-base\")\n",
    "T5tokens = T5Tokenizer.from_pretrained(\"t5-base\")"
   ]
  },
  {
   "cell_type": "code",
   "execution_count": 4,
   "id": "e98a585e",
   "metadata": {},
   "outputs": [
    {
     "name": "stderr",
     "output_type": "stream",
     "text": [
      "2023-07-18 23:19:48 ip-172-31-64-95 chromadb.telemetry.posthog[31048] INFO Anonymized telemetry enabled. See https://docs.trychroma.com/telemetry for more information.\n"
     ]
    },
    {
     "name": "stdout",
     "output_type": "stream",
     "text": [
      "Nanosecond heartbeat on server 1689722388499249179000\n"
     ]
    },
    {
     "data": {
      "text/plain": [
       "[Collection(name=langchain_store),\n",
       " Collection(name=abstracts),\n",
       " Collection(name=fulltext),\n",
       " Collection(name=specter_abstracts)]"
      ]
     },
     "metadata": {},
     "output_type": "display_data"
    }
   ],
   "source": [
    "#! usr/bin/env python\n",
    "\n",
    "# setup\n",
    "\n",
    "# Base\n",
    "import pandas as pd\n",
    "import numpy as np\n",
    "import re\n",
    "\n",
    "# LLM packages\n",
    "from transformers import pipeline, set_seed\n",
    "from transformers import AutoTokenizer, AutoModelWithLMHead, BioGptTokenizer, BioGptForCausalLM\n",
    "\n",
    "# Chunk context into 512  tokens\n",
    "from langchain.text_splitter import RecursiveCharacterTextSplitter\n",
    "# import tiktoken\n",
    "\n",
    "# @dask.delayed\n",
    "def token_len(text): \n",
    "    \"\"\" Get the length of tokens from text\"\"\"\n",
    "    tokens = tokenizer(text, padding=True, truncation=True, return_tensors=\"pt\", max_length=512)['input_ids'][0]\n",
    "    return len(tokens)\n",
    "    \n",
    "chunk_size = 1024\n",
    "\n",
    "# create text splitters for processing the texts\n",
    "text_splitter = RecursiveCharacterTextSplitter(\n",
    "    # separator = [\"\\n\\n\", \"\\n\", \". \", \"? \", \"! \", \"; \"],\n",
    "    chunk_size = chunk_size,\n",
    "    chunk_overlap  = 20,\n",
    "    length_function = token_len\n",
    ")\n",
    "\n",
    "\n",
    "# Create embeddings function with specter model\n",
    "from transformers import AutoTokenizer, AutoModel\n",
    "\n",
    "tokenizer = AutoTokenizer.from_pretrained('allenai/specter')\n",
    "model = AutoModel.from_pretrained('allenai/specter')\n",
    "\n",
    "from chromadb.api.types import Documents, EmbeddingFunction, Embeddings\n",
    "\n",
    "class specter_ef(EmbeddingFunction):\n",
    "    def __init__(self, model, tokenizer):\n",
    "        self.model = model\n",
    "        self.tokenizer = tokenizer\n",
    "    \n",
    "    def embed_documents(self, texts: Documents) -> Embeddings:\n",
    "        \n",
    "        text_list = [re.sub(\"\\n\", \" \", p) for p in texts]\n",
    "        texts = [re.sub(\"\\s\\s+\", \" \", t) for t in text_list]\n",
    "        \n",
    "        # embed the documents somehow\n",
    "        embeddings = []\n",
    "        \n",
    "        for text in texts:\n",
    "            inputs = tokenizer(text, padding=True, truncation=True, return_tensors=\"pt\", max_length=512)\n",
    "            result = model(**inputs)\n",
    "            embeddings.append(result.last_hidden_state[:, 0, :])\n",
    "        \n",
    "        return embeddings\n",
    "    \n",
    "specter_embeder = specter_ef(model, tokenizer)\n",
    "\n",
    "\n",
    "import chromadb\n",
    "from chromadb.config import Settings\n",
    "\n",
    "# Create chroma client\n",
    "chroma = chromadb.Client(Settings(chroma_api_impl=\"rest\",\n",
    "                                  chroma_server_host=\"34.238.51.66\", # EC2 instance public IPv4\n",
    "                                  chroma_server_http_port=8000))\n",
    "\n",
    "print(\"Nanosecond heartbeat on server\", chroma.heartbeat()) # returns a nanosecond heartbeat. Useful for making sure the client remains connected.\n",
    "\n",
    "# Check Existing connections\n",
    "display(chroma.list_collections())\n",
    "\n",
    "collection = chroma.get_or_create_collection(\"specter_abstracts\")\n"
   ]
  },
  {
   "cell_type": "markdown",
   "id": "7fe463f6",
   "metadata": {},
   "source": [
    "## Model Testing"
   ]
  },
  {
   "cell_type": "code",
   "execution_count": 5,
   "id": "b96f09da",
   "metadata": {},
   "outputs": [],
   "source": [
    "# text_example = abstracts.loc[0, \"abstract\"]"
   ]
  },
  {
   "cell_type": "code",
   "execution_count": 6,
   "id": "5a0f4c15",
   "metadata": {},
   "outputs": [],
   "source": [
    "max_sequence_length = 512\n",
    "embedding_size = 200"
   ]
  },
  {
   "cell_type": "code",
   "execution_count": null,
   "id": "9d397b99",
   "metadata": {},
   "outputs": [
    {
     "data": {
      "text/html": [
       "<div>\n",
       "<style scoped>\n",
       "    .dataframe tbody tr th:only-of-type {\n",
       "        vertical-align: middle;\n",
       "    }\n",
       "\n",
       "    .dataframe tbody tr th {\n",
       "        vertical-align: top;\n",
       "    }\n",
       "\n",
       "    .dataframe thead th {\n",
       "        text-align: right;\n",
       "    }\n",
       "</style>\n",
       "<table border=\"1\" class=\"dataframe\">\n",
       "  <thead>\n",
       "    <tr style=\"text-align: right;\">\n",
       "      <th></th>\n",
       "      <th>User</th>\n",
       "      <th>Task</th>\n",
       "      <th>Prompt</th>\n",
       "    </tr>\n",
       "  </thead>\n",
       "  <tbody>\n",
       "    <tr>\n",
       "      <th>0</th>\n",
       "      <td>General</td>\n",
       "      <td>QA</td>\n",
       "      <td>What is the most current research on pancreati...</td>\n",
       "    </tr>\n",
       "    <tr>\n",
       "      <th>1</th>\n",
       "      <td>General</td>\n",
       "      <td>QA</td>\n",
       "      <td>What recent therapeutics have come out for lun...</td>\n",
       "    </tr>\n",
       "    <tr>\n",
       "      <th>2</th>\n",
       "      <td>General</td>\n",
       "      <td>QA</td>\n",
       "      <td>How does ELISA assays work?</td>\n",
       "    </tr>\n",
       "    <tr>\n",
       "      <th>3</th>\n",
       "      <td>General</td>\n",
       "      <td>QA</td>\n",
       "      <td>What are the common use cases for flow cytometry?</td>\n",
       "    </tr>\n",
       "    <tr>\n",
       "      <th>4</th>\n",
       "      <td>General</td>\n",
       "      <td>QA</td>\n",
       "      <td>How does lentivirus transductions work?</td>\n",
       "    </tr>\n",
       "  </tbody>\n",
       "</table>\n",
       "</div>"
      ],
      "text/plain": [
       "      User Task                                             Prompt\n",
       "0  General   QA  What is the most current research on pancreati...\n",
       "1  General   QA  What recent therapeutics have come out for lun...\n",
       "2  General   QA                        How does ELISA assays work?\n",
       "3  General   QA  What are the common use cases for flow cytometry?\n",
       "4  General   QA            How does lentivirus transductions work?"
      ]
     },
     "execution_count": 7,
     "metadata": {},
     "output_type": "execute_result"
    }
   ],
   "source": [
    "prompts = pd.read_csv('/home/ubuntu/work/therapeutic_accelerator/data/prompts.csv')\n",
    "# testing prompt one\n",
    "question = prompts.loc[0, \"Prompt\"]"
   ]
  },
  {
   "cell_type": "code",
   "execution_count": 9,
   "id": "a7f4721c",
   "metadata": {},
   "outputs": [],
   "source": [
    "def get_question_embeddings(question): \n",
    "    # Embed question\n",
    "    question_embeddings = specter_embeder.embed_documents([question])[0][0].tolist()\n",
    "    \n",
    "    return question_embeddings\n",
    "\n",
    "def query_chroma(question_embeddings):\n",
    "    # Query ChromaDB with Embeddings\n",
    "    results = collection.query(\n",
    "        query_embeddings=[question_embeddings],\n",
    "        n_results=10\n",
    "        # where={\"metadata_field\": \"is_equal_to_this\"},\n",
    "        # where_document={\"$contains\":\"search_string\"}\n",
    "    )\n",
    "    \n",
    "    return results"
   ]
  },
  {
   "cell_type": "code",
   "execution_count": 10,
   "id": "53e26803",
   "metadata": {},
   "outputs": [
    {
     "data": {
      "text/plain": [
       "'What is the most current research on pancreatic cancer?'"
      ]
     },
     "execution_count": 10,
     "metadata": {},
     "output_type": "execute_result"
    }
   ],
   "source": [
    "question"
   ]
  },
  {
   "cell_type": "code",
   "execution_count": 11,
   "id": "75ceb6ed",
   "metadata": {},
   "outputs": [
    {
     "data": {
      "text/plain": [
       "{'ids': [['38374595-0',\n",
       "   '203622768-0',\n",
       "   '234597674-0',\n",
       "   '211474643-0',\n",
       "   '11181159-0',\n",
       "   '10984456-0',\n",
       "   '232429176-0',\n",
       "   '246997767-0',\n",
       "   '240425531-0',\n",
       "   '38325820-0']],\n",
       " 'distances': [[196.53672790527344,\n",
       "   210.16175842285156,\n",
       "   224.75006103515625,\n",
       "   240.17074584960938,\n",
       "   246.17657470703125,\n",
       "   247.79898071289062,\n",
       "   263.77459716796875,\n",
       "   273.4192199707031,\n",
       "   283.67694091796875,\n",
       "   284.9610290527344]],\n",
       " 'embeddings': None,\n",
       " 'metadatas': [[{'corpusid': 38374595, 'chunk': 0},\n",
       "   {'corpusid': 203622768, 'chunk': 0},\n",
       "   {'corpusid': 234597674, 'chunk': 0},\n",
       "   {'corpusid': 211474643, 'chunk': 0},\n",
       "   {'corpusid': 11181159, 'chunk': 0},\n",
       "   {'corpusid': 10984456, 'chunk': 0},\n",
       "   {'corpusid': 232429176, 'chunk': 0},\n",
       "   {'corpusid': 246997767, 'chunk': 0},\n",
       "   {'corpusid': 240425531, 'chunk': 0},\n",
       "   {'corpusid': 38325820, 'chunk': 0}]],\n",
       " 'documents': [['Microvascular density (MVD), a marker for tumor angiogenesis, has been demonstrated to have prognostic significance in various malignancies. Previous studies have demonstrated that MVD is an independent prognostic factor in pancreatic adenocarcinoma and that longer survival is associated with hypovascular tumors. The prognostic importance of MVD in pancreatic neuroendocrine tumor (NET) has not been documented. We evaluated MVD in pancreatic NET and correlated it with clinicopathologic features and patient outcome to determine whether MVD is a useful prognostic indicator for these patients. Twenty-five pancreatic NETs from our archival files resected between 1981 and 2000 were identified. The mean MVD was determined for each tumor from the 3 most vascularized 200 × fields. Clinical follow-up ranged from 1 to 19 years, with a mean of 4.9 years. At last follow-up, 6 patients were dead of disease, 10 patients were alive without disease, 4 patients were alive with disease, and 5 patients were alive with disease status unknown. Mean MVD ranged from 43 to 527 microvessels per 200 × field. MVD did not correlate with tumor size, the examined histologic parameters, or patient outcome. MVD in pancreatic NET does not correlate with the clinicohistologic features evaluated in this study or with the patient outcome and is not a useful prognostic indicator in these patients. These results suggest that factors other than the simple number of microvessels are important in determining pancreatic NET behavior. However, most tumors were highly vascular, and additional studies may be helpful to clarify further the role of vascularity and assess the utility of antiangiogenic agents in the treatment of pancreatic NET.',\n",
       "   'Background/Aim: This study aimed to identify risk factors for recurrence of patients with stage III colorectal cancer by assessing clinicopathological features. Patients and Methods: The study included 231 patients with stage III colorectal cancer who underwent curative resection between 2006 and 2012 at the Department of Surgery of the Jikei University Hospital, Tokyo, Japan. Clinicopathological data of the patients were retrospectively evaluated. Results: The recurrence rate was 27.7% (64/231) in the study group. The univariate analysis for recurrence identified five risk factors: site of primary tumor (rectal cancer), surgical procedure (open surgery), preoperative serum CEA level (>5 ng/ml), preoperative serum CA19-9 level (>37 U/ml), and number of metastatic lymph nodes (over three metastases). The multivariate analysis for recurrence identified three risk factors: rectal cancer, preoperative serum CEA level >5.0 ng/ml 95%, and more than three metastatic lymph nodes. Conclusion: The risk factors for stage III colorectal cancer recurrence seem to be rectal cancer, preoperative serum CEA level >5.0 ng/ml, and more than three metastatic lymph nodes.',\n",
       "   'Abstract Purpose Colon cancer is one of the malignant tumors that threatens human health. miR-510 was demonstrated to play roles in the progression of various cancers; its dysregulation was speculated to be associated with the development of colon cancer. Methods One hundred and thirteen colon cancer patients participated in this research. With the help of RT-qPCR, the expression of miR-510 in collected tissues and cultured cells was analyzed. The association between miR-510 expression level and clinical features and prognosis of patients was evaluated. Moreover, the effects of miR-510 on cell proliferation, migration, and invasion of colon cancer were assessed by CCK8 and Transwell assay. Results miR-510 significantly upregulated in colon cancer tissues and cell lines relative to the adjacent normal tissues and colonic cells. The expression of miR-510 was significantly associated with the TNM stage and poor prognosis of patients, indicating miR-510 was involved in the disease progression and clinical prognosis of colon cancer. Additionally, the upregulation of miR-510 significantly promoted cell proliferation, migration, and invasion of colon cancer, while its knockdown significantly inhibited these cellular processes. SRCIN 1 was the direct target of miR-510 during its promoted effect on the development of colon cancer. Conclusion The upregulation of miR-510 acts as an independent prognostic indicator and a tumor promoter by targeting SRCIN 1 in colon cancer, which provides novel therapeutic strategies for colon cancer.',\n",
       "   'Prostate cancer (PC) is a heterogeneous disease characterized by variable morphological patterns. Thus, establishing a patient-derived xenograft (PDX) model that retains the key features of the primary tumor for each type of PC is important for appropriate evaluation. In this study, we established PDX models of hormone-naïve (D17225) and castration-resistant (B45354) PC by implanting fresh tumor samples, obtained from patients with advanced PC under the renal capsule of immune-compromised mice. Supplementation with exogenous androgens shortened the latent period of tumorigenesis and increased the tumor formation rate. The PDX models exhibited the same major genomic and phenotypic features of the disease in humans and maintained the main pathological features of the primary tumors. Moreover, both PDX models showed different outcomes after castration or docetaxel treatment. The hormone-naïve D17225 PDX model displayed a range of responses from complete tumor regression to overt tumor progression, and the development of castrate-resistant PC was induced after castration. The responses of the two PDX models to androgen deprivation and docetaxel were similar to those observed in patients with advanced PC. These new preclinical PC models will facilitate research on the mechanisms underlying treatment response and resistance.',\n",
       "   'Patient: Female, 67 Final Diagnosis: Intrahepatic cholangiocarcinoma Symptoms: Atypical chest pain Medication: — Clinical Procedure: Liver biopsy Specialty: Internal Medicine/Oncology Objective: Rare disease Background: Intrahepatic cholangiocarcinoma is a rare condition which typically occurs in males between 50 and 70 years of age, and presents with symptoms related to biliary obstruction including jaundice, pruritus, and dark urine. Other common symptoms at presentation include abdominal pain, weight loss, and fever. Case Report: We present a case of a 67-year-old female initially presenting with chest pain at rest, found to have a lung nodule on diagnostic imaging at the time of admission. On further imaging, a 9 cm liver lesion was incidentally discovered, initially suspicious for hepatocellular carcinoma on imaging, with initial biopsy staining CK7 positive, and CK20 negative. The patient also had an elevated alpha-fetoprotein level. Biopsy results were later confirmed as moderately differentiated adenocarcinoma consistent with intrahepatic cholangiocarcinoma. Conclusions: This report illustrates an unusual presentation of intrahepatic cholangiocarcinoma. Although rare, cholangio-carcinoma is diagnosed most frequently as an incidental finding on imaging studies. With quick work-up and successful biopsy results, patients can undergo surgical or chemo-radiation therapy earlier, potentially leading to a longer survival time.',\n",
       "   'Purpose: Recent studies have suggested that osteopontin is induced by hypoxia in head and neck cancer cell lines and its plasma level may serve as a surrogate marker for tumor hypoxia and treatment outcome in head and neck cancer. We investigated the response of osteopontin to in vitro hypoxia in nasopharyngeal carcinoma cell lines, and determined plasma osteopontin levels in nasopharyngeal carcinoma patients, nonnasopharyngeal carcinoma head and neck cancer patients, and healthy controls. We explored the relationship of plasma osteopontin and response to radiotherapy in nasopharyngeal carcinoma. Experimental Design: Nasopharyngeal carcinoma cell lines HK1, HONE-1, C666-1, and CNE-2 were treated with 0 to 48 hours of hypoxia or normoxia, +/− reoxygenation. Osteopontin secretion in the supernatant was measured by ELISA assay. Cellular osteopontin protein and mRNA were detected by Western blotting and reverse transcription-PCR, respectively. Plasma osteopontin levels in patients (n = 66; 44 nasopharyngeal carcinoma, 22 head and neck cancer) and controls (n = 29) were measured by ELISA. Results: Hypoxia has no effect on osteopontin protein and mRNA level in nasopharyngeal carcinoma cells. Only CNE-2 secreted osteopontin, and there was no significant induction by hypoxia. Plasma osteopontin levels in patients of metastatic nasopharyngeal carcinoma and head and neck cancer, but not in locoregional nasopharyngeal carcinoma, were significantly higher than in controls. In patients with locoregional nasopharyngeal carcinoma receiving curative radiotherapy (n = 31), a high (>median) pretreatment plasma osteopontin level was a significant predictor of poor response to radiotherapy (complete response rate, 40% versus 88%; P = 0.009), which remained significant in multivariate analysis. Conclusion: Our results suggested that the pretreatment plasma osteopontin level may be a useful biomarker of response to radiotherapy in nasopharyngeal carcinoma.',\n",
       "   'Transarterial chemoembolization (TACE) is a therapeutic option for patients with intermediate‐stage hepatocellular carcinoma (HCC) or metastatic liver cancers. Identifying those patients who particularly benefit from TACE remains challenging. Macrophage migration inhibitory factor (MIF) represents is an inflammatory protein described in patients with liver cancer, but no data on its prognostic relevance in patients undergoing TACE exist. Here, we evaluate MIF serum concentrations as a potential biomarker in patients undergoing TACE for primary and secondary hepatic malignancies. MIF serum concentrations were measured by multiplex immunoassay in 50 patients (HCC: n = 39, liver metastases: n = 11) before and 1 day after TACE as well as in 51 healthy controls. Serum concentrations of MIF did not differ between patients and healthy controls. Interestingly, in the subgroup of patients with larger tumor size, significantly more patients had increased MIF concentrations. Patients with an objective tumor response to TACE therapy showed comparable concentrations of serum MIF compared to patients who did not respond. MIF concentrations at day 1 after TACE were significantly higher compared to baseline concentrations. Importantly, baseline MIF concentrations above the optimal cutoff value (0.625 ng/ml) turned out as a significant and independent prognostic marker for a reduced overall survival (OS) following TACE: patients with elevated MIF concentrations showed a significantly reduced median OS of only 719 days compared to patients below the cutoff value (median OS: 1430 days, p = 0.021). Baseline MIF serum concentrations are associated with tumor size of intrahepatic malignancies and predict outcome of patients with liver cancer receiving TACE.',\n",
       "   'Cancer vaccines are emerging as a viable strategy for cancer treatment. In the current study, we screened for genes associated with the prognosis of patients with lung adenocarcinoma and positively correlated with antigen-presenting cell infiltration and identified KLRG1 and CBFA2T3 as potential tumor antigens for mRNA vaccines in lung adenocarcinoma (LUAD). Further analyses of immune subtypes revealed that patients with early-stage LUAD, high immune cell infiltration, high immune checkpoint expression, and low tumor mutation burden might benefit from mRNA vaccination. Moreover, we identified four biomarkers that can be used to assess mRNA vaccination suitability. We also identified potentially sensitive anti-cancer drugs for populations not suitable for vaccination by means of anti-cancer drug susceptibility prediction. Overall, we provided a new perspective for mRNA vaccine treatment strategies for LUAD and emphasized the importance of precise and personalized treatments.',\n",
       "   'Background: Recurrent laryngeal nerve paralysis (RLNP), a severe complication of mini-invasive esophagectomy, usually occurs during lymphadenectomy adjacent to recurrent laryngeal nerve. This systematic review and meta-analysis aimed to evaluate the efficacy of intraoperative nerve monitoring (IONM) in reducing RLNP incidence during mini-invasive esophagectomy. Methods: Systematic literature search of PubMed, EMBASE, EBSCO, Web of Knowledge, and Cochrane Library until June 4, 2021 was performed using the terms “(nerve monitoring) OR neuromonitoring OR neural monitoring OR recurrent laryngeal nerve AND (esophagectomy OR esophageal).” Primary outcome was postoperative RLNP incidence. Secondary outcomes were sensitivity, specificity, and positive and negative predictive values for IONM; complications after esophagectomy; number of dissected lymph nodes; operation time; and length of hospital stay. Results: Among 2,330 studies, five studies comprising 509 patients were eligible for final analysis. The RLNP incidence was significantly lower (odds ratio [OR] 0.33, 95% confidence interval [CI] 0.12–0.88, p < 0.05), the number of dissected mediastinal lymph nodes was significantly higher (mean difference 4.30, 95%CI 2.75–5.85, p < 0.001), and the rate of hoarseness was significantly lower (OR 0.14, 95%CI 0.03–0.63, p = 0.01) in the IONM group than in the non-IONM group. The rates of aspiration (OR 0.31, 95%CI 0.06–1.64, p = 0.17), pneumonia (OR 1.08, 95%CI 0.70–1.67, p = 0.71), and operation time (mean difference 7.68, 95%CI −23.60–38.95, p = 0.63) were not significantly different between the two groups. The mean sensitivity, specificity, and positive and negative predictive values for IONM were 53.2% (0–66.7%), 93.7% (54.8–100%), 71.4% (0–100%), and 87.1% (68.0–96.6%), respectively. Conclusion: IONM was a feasible and effective approach to minimize RLNP, improve lymphadenectomy, and reduce hoarseness after thoracoscopic esophagectomy for esophageal cancer, although IONM did not provide significant benefit in reducing aspiration, pneumonia, operation time, and length of hospital stay.',\n",
       "   'Aim: The Italian Piedmont region sponsored in 2005 a population‐based registry to assess the epidemiology of childhood chronic organ failure involving kidneys, liver, heart or lungs.']]}"
      ]
     },
     "execution_count": 11,
     "metadata": {},
     "output_type": "execute_result"
    }
   ],
   "source": [
    "question_embeddings = get_question_embeddings(question)\n",
    "results = query_chroma(question_embeddings)\n",
    "results"
   ]
  },
  {
   "cell_type": "code",
   "execution_count": null,
   "id": "89f25626",
   "metadata": {},
   "outputs": [],
   "source": [
    "results"
   ]
  },
  {
   "cell_type": "code",
   "execution_count": null,
   "id": "a91cb949",
   "metadata": {},
   "outputs": [],
   "source": [
    "# for k, v in results.items():\n",
    "#     try: \n",
    "#         results[k] = v[0]\n",
    "#     except: \n",
    "#         pass\n",
    "# pd.DataFrame.from_dict(results).to_csv(\"/home/ubuntu/work/therapeutic_accelerator/data/outputs/chroma_results.csv\", index=False)"
   ]
  },
  {
   "cell_type": "markdown",
   "id": "63f16f87",
   "metadata": {},
   "source": [
    "# Setting Up Prompts"
   ]
  },
  {
   "cell_type": "code",
   "execution_count": null,
   "id": "ae1a5066",
   "metadata": {},
   "outputs": [],
   "source": [
    "template = \"\"\"Answer the question based on the context below. If the\n",
    "question cannot be answered using the information provided answer\n",
    "with \"I don't know\".\n",
    "\n",
    "Question: {question}\n",
    "\n",
    "Context: {context}\n",
    "\n",
    "Answer: \"\"\""
   ]
  },
  {
   "cell_type": "code",
   "execution_count": null,
   "id": "5d099a0a",
   "metadata": {},
   "outputs": [],
   "source": [
    "# Define your desired data structure.\n",
    "class qa(BaseModel):\n",
    "    setup: str = Field(description=\"question\")\n",
    "    punchline: str = Field(description=\"answer\")\n",
    "    \n",
    "    # You can add custom validation logic easily with Pydantic.\n",
    "    @validator('setup')\n",
    "    def question_ends_with_question_mark(cls, field):\n",
    "        if field[-1] != '?':\n",
    "            raise ValueError(\"Badly formed question!\")\n",
    "        return field"
   ]
  },
  {
   "cell_type": "code",
   "execution_count": null,
   "id": "64bd26b4",
   "metadata": {},
   "outputs": [],
   "source": [
    "from langchain.output_parsers import PydanticOutputParser\n",
    "from pydantic import BaseModel, Field, validator\n",
    "from typing import List\n",
    "\n",
    "parser = PydanticOutputParser(pydantic_object=qa)"
   ]
  },
  {
   "cell_type": "code",
   "execution_count": null,
   "id": "bebbfce1",
   "metadata": {},
   "outputs": [],
   "source": [
    "help(LLMChain)"
   ]
  },
  {
   "cell_type": "code",
   "execution_count": null,
   "id": "a578cd40",
   "metadata": {},
   "outputs": [],
   "source": [
    "from langchain.chains import LLMChain, TransformChain\n",
    "from langchain.chains import SequentialChain\n",
    "\n",
    "from langchain.prompts import PromptTemplate, ChatPromptTemplate, HumanMessagePromptTemplate\n",
    "\n",
    "prompt_template = PromptTemplate(\n",
    "    template= template,\n",
    "    input_variables=[\"question\", \"context\"]\n",
    "    # partial_variables={\"format_instructions\": parser.get_format_instructions()}\n",
    ")\n",
    "\n"
   ]
  },
  {
   "cell_type": "code",
   "execution_count": 14,
   "id": "c4460d06",
   "metadata": {},
   "outputs": [],
   "source": [
    "context = ' '.join(results['documents'][0])"
   ]
  },
  {
   "cell_type": "code",
   "execution_count": null,
   "id": "66821169",
   "metadata": {},
   "outputs": [],
   "source": [
    "print(\n",
    "    prompt_template.format(\n",
    "        question=question,\n",
    "        context = context,\n",
    "    )\n",
    ")"
   ]
  },
  {
   "cell_type": "code",
   "execution_count": null,
   "id": "48ffdb68",
   "metadata": {},
   "outputs": [],
   "source": [
    "# from transformers import AutoModelForQuestionAnswering\n",
    "model = AutoModelForQuestionAnswering.from_pretrained('gsarti/biobert-nli')"
   ]
  },
  {
   "cell_type": "code",
   "execution_count": null,
   "id": "0bfb709b",
   "metadata": {},
   "outputs": [],
   "source": [
    "import yaml\n",
    "\n",
    "with open(\"/home/ubuntu/work/therapeutic_accelerator/config/main.yaml\", \"r\") as f:\n",
    "    config = yaml.load(f, Loader=yaml.FullLoader)\n",
    "    \n",
    "with open(\"/home/ubuntu/work/therapeutic_accelerator/config/keys.yaml\", \"r\") as f:\n",
    "    keys = yaml.load(f, Loader=yaml.FullLoader)"
   ]
  },
  {
   "cell_type": "code",
   "execution_count": null,
   "id": "4d454b1d",
   "metadata": {},
   "outputs": [],
   "source": [
    "import os\n",
    "\n",
    "os.environ[\"HUGGINGFACEHUB_API_TOKEN\"] = keys['huggingface']"
   ]
  },
  {
   "cell_type": "code",
   "execution_count": null,
   "id": "724753e0",
   "metadata": {},
   "outputs": [],
   "source": [
    "from langchain import HuggingFaceHub\n",
    "\n",
    "repo_id = 'microsoft/biogpt'\n",
    "\n",
    "llm = HuggingFaceHub(\n",
    "    repo_id=repo_id\n",
    "    \n",
    ")"
   ]
  },
  {
   "cell_type": "code",
   "execution_count": null,
   "id": "e46cad7c",
   "metadata": {},
   "outputs": [],
   "source": [
    "llm_chain = LLMChain(\n",
    "    prompt=prompt,\n",
    "    llm=llm,\n",
    "    output_key=\"json_string\",\n",
    ")"
   ]
  },
  {
   "cell_type": "code",
   "execution_count": null,
   "id": "7a000dcc",
   "metadata": {},
   "outputs": [],
   "source": [
    "print(llm_chain.run({\n",
    "    'question': question,\n",
    "    'context': context\n",
    "    }))"
   ]
  },
  {
   "cell_type": "code",
   "execution_count": null,
   "id": "4d127dc9",
   "metadata": {},
   "outputs": [],
   "source": [
    "test_text = question + test_text"
   ]
  },
  {
   "cell_type": "code",
   "execution_count": null,
   "id": "324e1f29",
   "metadata": {},
   "outputs": [],
   "source": [
    "# # split text\n",
    "text_chunks = text_splitter.split_text(test_text)"
   ]
  },
  {
   "cell_type": "code",
   "execution_count": null,
   "id": "fe668b23",
   "metadata": {},
   "outputs": [],
   "source": [
    "text_chunks"
   ]
  },
  {
   "cell_type": "code",
   "execution_count": null,
   "id": "6b57085a",
   "metadata": {},
   "outputs": [],
   "source": [
    "inputs = bio_bert_tokenizer.batch_encode_plus(text_chunks, padding=True, truncation=True, return_tensors=\"pt\", max_length=512)"
   ]
  },
  {
   "cell_type": "code",
   "execution_count": null,
   "id": "40c0e5fd",
   "metadata": {},
   "outputs": [],
   "source": [
    "# input_ids = inputs['input_ids'].numpy()"
   ]
  },
  {
   "cell_type": "code",
   "execution_count": null,
   "id": "95a06ee9",
   "metadata": {},
   "outputs": [],
   "source": [
    "outputs = bio_bert_model(inputs['input_ids'])"
   ]
  },
  {
   "cell_type": "code",
   "execution_count": null,
   "id": "bf6ea86e",
   "metadata": {},
   "outputs": [],
   "source": [
    "dir(bio_bert_model)"
   ]
  },
  {
   "cell_type": "code",
   "execution_count": null,
   "id": "eb528ba4",
   "metadata": {},
   "outputs": [],
   "source": [
    "outputs"
   ]
  },
  {
   "cell_type": "code",
   "execution_count": null,
   "id": "e86f22ee",
   "metadata": {},
   "outputs": [],
   "source": [
    "answer_start = tf.argmax(\n",
    "          outputs.start_logits, axis=1\n",
    "      ).numpy()  # Get the most likely beginning of each answer with the argmax of the score\n"
   ]
  },
  {
   "cell_type": "code",
   "execution_count": null,
   "id": "73840a20",
   "metadata": {},
   "outputs": [],
   "source": [
    "answer_end = (\n",
    "          tf.argmax(output.end_logits, axis=1) + 1\n",
    "      ).numpy()\n",
    "\n",
    "input_text = tokenizer.decode(input_ids[i, :], clean_up_tokenization_spaces=True)\n",
    "input_text = input_text.split('[SEP] ', 2)[1]\n",
    "answer = tokenizer.decode(\n",
    "    input_ids[i, answer_start[i]:answer_end[i]], clean_up_tokenization_spaces=True)"
   ]
  },
  {
   "cell_type": "code",
   "execution_count": null,
   "id": "213d0aaa",
   "metadata": {},
   "outputs": [],
   "source": [
    "outputs['last_hidden_state'][0][0]"
   ]
  },
  {
   "cell_type": "code",
   "execution_count": null,
   "id": "e84550b1",
   "metadata": {},
   "outputs": [],
   "source": [
    "bio_bert_tokenizer.decode(outputs['last_hidden_state'][0][0])"
   ]
  },
  {
   "cell_type": "code",
   "execution_count": null,
   "id": "cdf8655d",
   "metadata": {},
   "outputs": [],
   "source": [
    "# Instead of summarization can be used for classification of papers\n",
    "def biobert_classifier(\n",
    "    embedding_size=200,\n",
    "    input_dimensions=3,\n",
    "    hidden_layers=0,\n",
    "    max_sequence_length=512,\n",
    "    learning_rate=0.01,\n",
    "):\n",
    "    input_ids = tf.keras.layers.Input(shape=embedding_size, name=\"input_ids\")\n",
    "    token_type_ids = tf.keras.layers.Input(\n",
    "        shape=embedding_size, name=\"token_type_id\")\n",
    "    attention_mask = tf.keras.layers.Input(\n",
    "        shape=embedding_size, name=\"attention_mask\")\n",
    "\n",
    "    model_inputs = {\n",
    "        \"input_ids\": input_ids,\n",
    "        \"token_type_ids\": token_type_ids,\n",
    "        \"attention_mask\": attention_mask,\n",
    "    }\n",
    "\n",
    "    embedding_matrix = tf.keras.layers.Embedding(200)\n",
    "\n",
    "    normalization_layer = tf.keras.layers.BatchNormalization()\n",
    "\n",
    "    attention_layer = tf.keras.layers.Attention()\n",
    "\n",
    "    pooler_layer = bio_bert_model(model_inputs)[0]\n",
    "\n",
    "    dense_layer = tf.keras.layers.Dense(100, activation=\"relu\")(pooler_layer)\n",
    "\n",
    "    dropout_layer = tf.keras.layers.Dropout(0.3)(dense_layer)\n",
    "\n",
    "    final_layer = tf.keras.layers.Dense(1, activation=\"relu\")(dropout_layer)\n",
    "\n",
    "    classification_layer = tf.keras.layers.Dense(\n",
    "        1, activation=\"sigmoid\")(final_layer)\n",
    "\n",
    "    model = tf.keras.Model(\n",
    "        inputs=[input_ids, token_type_ids, attention_mask],\n",
    "        outputs=[classification_layer],\n",
    "    )\n",
    "\n",
    "    model.compile(\n",
    "        optimizer=tf.keras.optimizers.Adam(learning_rate=learning_rate),\n",
    "        loss=tf.keras.losses.BinaryCrossentropy,\n",
    "        metrics=[tf.keras.metrics.Accuracy, tf.keras.metrics.Precision],\n",
    "    )\n",
    "\n",
    "    return model"
   ]
  },
  {
   "cell_type": "code",
   "execution_count": null,
   "id": "835256f7",
   "metadata": {},
   "outputs": [],
   "source": [
    "inputs = bio_bert_tokenizer.batch_encode_plus(\n",
    "    [(question, text) for text in text_list], add_special_tokens=True, return_tensors='tf',\n",
    "    max_length=max_tokens, truncation_strategy='only_second', pad_to_max_length=True)\n",
    "input_ids = inputs['input_ids'].numpy()"
   ]
  },
  {
   "cell_type": "code",
   "execution_count": null,
   "id": "4e43ee55",
   "metadata": {},
   "outputs": [],
   "source": [
    "# from transformers import AutoModelForQuestionAnswering\n",
    "model = AutoModelForQuestionAnswering.from_pretrained('gsarti/biobert-nli')\n",
    "\n",
    "# # Some weights of BertForQuestionAnswering were not initialized from the model checkpoint at gsarti/biobert-nli and are newly initialized: ['qa_outputs.weight', 'qa_outputs.bias']\n",
    "# # You should probably TRAIN this model on a down-stream task to be able to use it for predictions and inference."
   ]
  },
  {
   "cell_type": "code",
   "execution_count": null,
   "id": "c190e117",
   "metadata": {},
   "outputs": [],
   "source": [
    "outputs = model(inputs['input_ids'])"
   ]
  },
  {
   "cell_type": "code",
   "execution_count": null,
   "id": "0f1729c6",
   "metadata": {},
   "outputs": [],
   "source": [
    "import tensorflow as tf"
   ]
  },
  {
   "cell_type": "code",
   "execution_count": null,
   "id": "c396aa66",
   "metadata": {},
   "outputs": [],
   "source": [
    "answer_start = tf.argmax(\n",
    "          outputs.start_logits.detach().numpy(), axis=1\n",
    "      ).numpy()  # Get the most likely beginning of each answer with the argmax of the score\n",
    "\n",
    "\n",
    "answer_end = (\n",
    "          tf.argmax(outputs.end_logits.detach().numpy(), axis=1) + 1\n",
    "      ).numpy()"
   ]
  },
  {
   "cell_type": "code",
   "execution_count": null,
   "id": "6e4f4fff",
   "metadata": {},
   "outputs": [],
   "source": [
    "answer_start_scores, answer_end_scores = ouputs"
   ]
  },
  {
   "cell_type": "code",
   "execution_count": null,
   "id": "21f2818c",
   "metadata": {},
   "outputs": [],
   "source": [
    "ouputs"
   ]
  },
  {
   "cell_type": "code",
   "execution_count": null,
   "id": "d5d96165",
   "metadata": {},
   "outputs": [],
   "source": [
    "input_text.split('[SEP] ', 2)[0]"
   ]
  },
  {
   "cell_type": "code",
   "execution_count": null,
   "id": "2ef55ad0",
   "metadata": {},
   "outputs": [],
   "source": [
    "answers = []\n",
    "\n",
    "for i, text in enumerate(text_chunks):\n",
    "    input_text = bio_bert_tokenizer.decode(input_ids[i, :], clean_up_tokenization_spaces=True)\n",
    "    input_text = input_text.split('[SEP] ', 2)[0]\n",
    "    answer = bio_bert_tokenizer.decode(\n",
    "        input_ids[i, answer_start[i]:answer_end[i]], clean_up_tokenization_spaces=True)\n",
    "    # score_start = answer_start_scores.numpy()[i][answer_start[i]]\n",
    "    # score_end = answer_end_scores.numpy()[i][answer_end[i]-1]\n",
    "    if answer and not '[CLS]' in answer:\n",
    "        answers.append([answer, input_text])\n",
    "    else:\n",
    "        answers.append(None)"
   ]
  },
  {
   "cell_type": "code",
   "execution_count": null,
   "id": "6837254d",
   "metadata": {},
   "outputs": [],
   "source": [
    "answers"
   ]
  },
  {
   "cell_type": "code",
   "execution_count": null,
   "id": "5bc9bfa6",
   "metadata": {},
   "outputs": [],
   "source": [
    "input_text = input_text.split('[SEP] ', 2)[1]\n",
    "answer = tokenizer.decode(\n",
    "    input_ids[i, answer_start[i]:answer_end[i]], clean_up_tokenization_spaces=True)"
   ]
  },
  {
   "cell_type": "code",
   "execution_count": null,
   "id": "2c3337aa",
   "metadata": {},
   "outputs": [],
   "source": [
    "answer_end"
   ]
  },
  {
   "cell_type": "code",
   "execution_count": null,
   "id": "e9a19bf4",
   "metadata": {},
   "outputs": [],
   "source": [
    "bio_bert_tokenizer.decode(ouputs['last_hidden_state'][0])"
   ]
  },
  {
   "cell_type": "code",
   "execution_count": null,
   "id": "685793d6",
   "metadata": {},
   "outputs": [],
   "source": [
    "dir(model)"
   ]
  },
  {
   "cell_type": "code",
   "execution_count": null,
   "id": "74f77505",
   "metadata": {},
   "outputs": [],
   "source": [
    "model.generate(token_chunks[0])"
   ]
  },
  {
   "cell_type": "code",
   "execution_count": null,
   "id": "1ff80d61",
   "metadata": {},
   "outputs": [],
   "source": [
    "summary_task_prefix = \"Summarize :\"\n",
    "qa_task_prefix = \"Question :\""
   ]
  },
  {
   "cell_type": "code",
   "execution_count": 12,
   "id": "5a7bbdea",
   "metadata": {},
   "outputs": [],
   "source": [
    "# T5 Abstractive Text Summarization Model\n",
    "def t5summary_model(tokenizer, text, t5model):\n",
    "    summarize = \"summarize: \"\n",
    "    encoding = tokenizer([summarize + text], return_tensors=\"tf\")\n",
    "    output = t5model.generate(\n",
    "        encoding.input_ids,\n",
    "        num_beams=3,\n",
    "        no_repeat_ngram_size=2,\n",
    "        top_k=10,\n",
    "        top_p=80,\n",
    "        max_length=500,\n",
    "        min_length=50,\n",
    "    )\n",
    "    return [\n",
    "        tokenizer.decode(\n",
    "            w, skip_special_tokens=True, clean_up_tokenization_spaces=True\n",
    "        )\n",
    "        for w in output\n",
    "    ]"
   ]
  },
  {
   "cell_type": "code",
   "execution_count": 16,
   "id": "300fe9d2",
   "metadata": {},
   "outputs": [],
   "source": [
    "temp = text_splitter.split_text(context)"
   ]
  },
  {
   "cell_type": "code",
   "execution_count": 17,
   "id": "909606e4",
   "metadata": {},
   "outputs": [
    {
     "data": {
      "text/plain": [
       "['Microvascular density (MVD), a marker for tumor angiogenesis, has been demonstrated to have prognostic significance in various malignancies. Previous studies have demonstrated that MVD is an independent prognostic factor in pancreatic adenocarcinoma and that longer survival is associated with hypovascular tumors. The prognostic importance of MVD in pancreatic neuroendocrine tumor (NET) has not been documented. We evaluated MVD in pancreatic NET and correlated it with clinicopathologic features and patient outcome to determine whether MVD is a useful prognostic indicator for these patients. Twenty-five pancreatic NETs from our archival files resected between 1981 and 2000 were identified. The mean MVD was determined for each tumor from the 3 most vascularized 200 × fields. Clinical follow-up ranged from 1 to 19 years, with a mean of 4.9 years. At last follow-up, 6 patients were dead of disease, 10 patients were alive without disease, 4 patients were alive with disease, and 5 patients were alive with disease status unknown. Mean MVD ranged from 43 to 527 microvessels per 200 × field. MVD did not correlate with tumor size, the examined histologic parameters, or patient outcome. MVD in pancreatic NET does not correlate with the clinicohistologic features',\n",
       " 'with the clinicohistologic features evaluated in this study or with the patient outcome and is not a useful prognostic indicator in these patients. These results suggest that factors other than the simple number of microvessels are important in determining pancreatic NET behavior. However, most tumors were highly vascular, and additional studies may be helpful to clarify further the role of vascularity and assess the utility of antiangiogenic agents in the treatment of pancreatic NET. Background/Aim: This study aimed to identify risk factors for recurrence of patients with stage III colorectal cancer by assessing clinicopathological features. Patients and Methods: The study included 231 patients with stage III colorectal cancer who underwent curative resection between 2006 and 2012 at the Department of Surgery of the Jikei University Hospital, Tokyo, Japan. Clinicopathological data of the patients were retrospectively evaluated. Results: The recurrence rate was 27.7% (64/231) in the study group. The univariate analysis for recurrence identified five risk factors: site of primary tumor (rectal cancer), surgical procedure (open surgery), preoperative serum CEA level (>5 ng/ml), preoperative serum CA19-9 level (>37 U/ml), and number of metastatic lymph nodes (over three metastases). The multivariate analysis for recurrence',\n",
       " 'multivariate analysis for recurrence identified three risk factors: rectal cancer, preoperative serum CEA level >5.0 ng/ml 95%, and more than three metastatic lymph nodes. Conclusion: The risk factors for stage III colorectal cancer recurrence seem to be rectal cancer, preoperative serum CEA level >5.0 ng/ml, and more than three metastatic lymph nodes. Abstract Purpose Colon cancer is one of the malignant tumors that threatens human health. miR-510 was demonstrated to play roles in the progression of various cancers; its dysregulation was speculated to be associated with the development of colon cancer. Methods One hundred and thirteen colon cancer patients participated in this research. With the help of RT-qPCR, the expression of miR-510 in collected tissues and cultured cells was analyzed. The association between miR-510 expression level and clinical features and prognosis of patients was evaluated. Moreover, the effects of miR-510 on cell proliferation, migration, and invasion of colon cancer were assessed by CCK8 and Transwell assay. Results miR-510 significantly upregulated in colon cancer tissues and cell lines relative to the adjacent normal tissues and colonic cells. The expression of miR-510 was significantly associated with the TNM stage and poor prognosis of patients, indicating',\n",
       " 'prognosis of patients, indicating miR-510 was involved in the disease progression and clinical prognosis of colon cancer. Additionally, the upregulation of miR-510 significantly promoted cell proliferation, migration, and invasion of colon cancer, while its knockdown significantly inhibited these cellular processes. SRCIN 1 was the direct target of miR-510 during its promoted effect on the development of colon cancer. Conclusion The upregulation of miR-510 acts as an independent prognostic indicator and a tumor promoter by targeting SRCIN 1 in colon cancer, which provides novel therapeutic strategies for colon cancer. Prostate cancer (PC) is a heterogeneous disease characterized by variable morphological patterns. Thus, establishing a patient-derived xenograft (PDX) model that retains the key features of the primary tumor for each type of PC is important for appropriate evaluation. In this study, we established PDX models of hormone-naïve (D17225) and castration-resistant (B45354) PC by implanting fresh tumor samples, obtained from patients with advanced PC under the renal capsule of immune-compromised mice. Supplementation with exogenous androgens shortened the latent period of tumorigenesis and increased the tumor formation rate. The PDX models exhibited the same major genomic and phenotypic features of the disease in humans and maintained the',\n",
       " 'humans and maintained the main pathological features of the primary tumors. Moreover, both PDX models showed different outcomes after castration or docetaxel treatment. The hormone-naïve D17225 PDX model displayed a range of responses from complete tumor regression to overt tumor progression, and the development of castrate-resistant PC was induced after castration. The responses of the two PDX models to androgen deprivation and docetaxel were similar to those observed in patients with advanced PC. These new preclinical PC models will facilitate research on the mechanisms underlying treatment response and resistance. Patient: Female, 67 Final Diagnosis: Intrahepatic cholangiocarcinoma Symptoms: Atypical chest pain Medication: — Clinical Procedure: Liver biopsy Specialty: Internal Medicine/Oncology Objective: Rare disease Background: Intrahepatic cholangiocarcinoma is a rare condition which typically occurs in males between 50 and 70 years of age, and presents with symptoms related to biliary obstruction including jaundice, pruritus, and dark urine. Other common symptoms at presentation include abdominal pain, weight loss, and fever. Case Report: We present a case of a 67-year-old female initially presenting with chest pain at rest, found to have a lung nodule on diagnostic imaging at the time of admission. On further imaging, a',\n",
       " 'On further imaging, a 9 cm liver lesion was incidentally discovered, initially suspicious for hepatocellular carcinoma on imaging, with initial biopsy staining CK7 positive, and CK20 negative. The patient also had an elevated alpha-fetoprotein level. Biopsy results were later confirmed as moderately differentiated adenocarcinoma consistent with intrahepatic cholangiocarcinoma. Conclusions: This report illustrates an unusual presentation of intrahepatic cholangiocarcinoma. Although rare, cholangio-carcinoma is diagnosed most frequently as an incidental finding on imaging studies. With quick work-up and successful biopsy results, patients can undergo surgical or chemo-radiation therapy earlier, potentially leading to a longer survival time. Purpose: Recent studies have suggested that osteopontin is induced by hypoxia in head and neck cancer cell lines and its plasma level may serve as a surrogate marker for tumor hypoxia and treatment outcome in head and neck cancer. We investigated the response of osteopontin to in vitro hypoxia in nasopharyngeal carcinoma cell lines, and determined plasma osteopontin levels in nasopharyngeal carcinoma patients, nonnasopharyngeal carcinoma head and neck cancer patients, and healthy controls. We explored the relationship of plasma osteopontin and response to radiotherapy in nasopharyngeal carcinoma. Experimental Design: Nasopharyngeal carcinoma cell lines HK1, HONE-1, C666-1,',\n",
       " 'HONE-1, C666-1, and CNE-2 were treated with 0 to 48 hours of hypoxia or normoxia, +/− reoxygenation. Osteopontin secretion in the supernatant was measured by ELISA assay. Cellular osteopontin protein and mRNA were detected by Western blotting and reverse transcription-PCR, respectively. Plasma osteopontin levels in patients (n = 66; 44 nasopharyngeal carcinoma, 22 head and neck cancer) and controls (n = 29) were measured by ELISA. Results: Hypoxia has no effect on osteopontin protein and mRNA level in nasopharyngeal carcinoma cells. Only CNE-2 secreted osteopontin, and there was no significant induction by hypoxia. Plasma osteopontin levels in patients of metastatic nasopharyngeal carcinoma and head and neck cancer, but not in locoregional nasopharyngeal carcinoma, were significantly higher than in controls. In patients with locoregional nasopharyngeal carcinoma receiving curative radiotherapy (n = 31), a high (>median) pretreatment plasma osteopontin level was a significant predictor of poor response to radiotherapy (complete response rate, 40% versus 88%; P = 0.009), which remained significant in multivariate analysis. Conclusion: Our results suggested that the pretreatment plasma osteopontin level may be a useful biomarker of response to radiotherapy in nasopharyngeal carcinoma.',\n",
       " 'radiotherapy in nasopharyngeal carcinoma. Transarterial chemoembolization (TACE) is a therapeutic option for patients with intermediate‐stage hepatocellular carcinoma (HCC) or metastatic liver cancers. Identifying those patients who particularly benefit from TACE remains challenging. Macrophage migration inhibitory factor (MIF) represents is an inflammatory protein described in patients with liver cancer, but no data on its prognostic relevance in patients undergoing TACE exist. Here, we evaluate MIF serum concentrations as a potential biomarker in patients undergoing TACE for primary and secondary hepatic malignancies. MIF serum concentrations were measured by multiplex immunoassay in 50 patients (HCC: n = 39, liver metastases: n = 11) before and 1 day after TACE as well as in 51 healthy controls. Serum concentrations of MIF did not differ between patients and healthy controls. Interestingly, in the subgroup of patients with larger tumor size, significantly more patients had increased MIF concentrations. Patients with an objective tumor response to TACE therapy showed comparable concentrations of serum MIF compared to patients who did not respond. MIF concentrations at day 1 after TACE were significantly higher compared to baseline concentrations. Importantly, baseline MIF concentrations above the optimal cutoff value (0.625 ng/ml) turned out as a',\n",
       " 'turned out as a significant and independent prognostic marker for a reduced overall survival (OS) following TACE: patients with elevated MIF concentrations showed a significantly reduced median OS of only 719 days compared to patients below the cutoff value (median OS: 1430 days, p = 0.021). Baseline MIF serum concentrations are associated with tumor size of intrahepatic malignancies and predict outcome of patients with liver cancer receiving TACE. Cancer vaccines are emerging as a viable strategy for cancer treatment. In the current study, we screened for genes associated with the prognosis of patients with lung adenocarcinoma and positively correlated with antigen-presenting cell infiltration and identified KLRG1 and CBFA2T3 as potential tumor antigens for mRNA vaccines in lung adenocarcinoma (LUAD). Further analyses of immune subtypes revealed that patients with early-stage LUAD, high immune cell infiltration, high immune checkpoint expression, and low tumor mutation burden might benefit from mRNA vaccination. Moreover, we identified four biomarkers that can be used to assess mRNA vaccination suitability. We also identified potentially sensitive anti-cancer drugs for populations not suitable for vaccination by means of anti-cancer drug susceptibility prediction. Overall, we provided a new perspective for mRNA vaccine treatment strategies',\n",
       " 'mRNA vaccine treatment strategies for LUAD and emphasized the importance of precise and personalized treatments. Background: Recurrent laryngeal nerve paralysis (RLNP), a severe complication of mini-invasive esophagectomy, usually occurs during lymphadenectomy adjacent to recurrent laryngeal nerve. This systematic review and meta-analysis aimed to evaluate the efficacy of intraoperative nerve monitoring (IONM) in reducing RLNP incidence during mini-invasive esophagectomy. Methods: Systematic literature search of PubMed, EMBASE, EBSCO, Web of Knowledge, and Cochrane Library until June 4, 2021 was performed using the terms “(nerve monitoring) OR neuromonitoring OR neural monitoring OR recurrent laryngeal nerve AND (esophagectomy OR esophageal).” Primary outcome was postoperative RLNP incidence. Secondary outcomes were sensitivity, specificity, and positive and negative predictive values for IONM; complications after esophagectomy; number of dissected lymph nodes; operation time; and length of hospital stay. Results: Among 2,330 studies, five studies comprising 509 patients were eligible for final analysis. The RLNP incidence was significantly lower (odds ratio [OR] 0.33, 95% confidence interval [CI] 0.12–0.88, p < 0.05), the number of dissected mediastinal lymph nodes was significantly higher (mean difference 4.30, 95%CI 2.75–5.85, p < 0.001), and the rate',\n",
       " 'and the rate of hoarseness was significantly lower (OR 0.14, 95%CI 0.03–0.63, p = 0.01) in the IONM group than in the non-IONM group. The rates of aspiration (OR 0.31, 95%CI 0.06–1.64, p = 0.17), pneumonia (OR 1.08, 95%CI 0.70–1.67, p = 0.71), and operation time (mean difference 7.68, 95%CI −23.60–38.95, p = 0.63) were not significantly different between the two groups. The mean sensitivity, specificity, and positive and negative predictive values for IONM were 53.2% (0–66.7%), 93.7% (54.8–100%), 71.4% (0–100%), and 87.1% (68.0–96.6%), respectively. Conclusion: IONM was a feasible and effective approach to minimize RLNP, improve lymphadenectomy, and reduce hoarseness after thoracoscopic esophagectomy for esophageal cancer, although IONM did not provide significant benefit in reducing aspiration, pneumonia, operation time, and length of hospital stay. Aim: The Italian Piedmont region sponsored in 2005 a population‐based registry to assess the epidemiology of childhood chronic organ failure involving kidneys, liver, heart or lungs.']"
      ]
     },
     "execution_count": 17,
     "metadata": {},
     "output_type": "execute_result"
    }
   ],
   "source": [
    "temp"
   ]
  },
  {
   "cell_type": "code",
   "execution_count": 18,
   "id": "18aecef7",
   "metadata": {},
   "outputs": [
    {
     "data": {
      "text/plain": [
       "[['microvascular density (MVD) has been shown to have prognostic significance. MVd was determined for each tumor from the 3 most vascularized 200  fields.'],\n",
       " ['recurrence rate of patients with stage III colorectal cancer was 27.7% (64/231) in the study group. the univariate analysis identified five risk factors: site of primary tumor (rectal'],\n",
       " ['rectal cancer, preoperative serum CEA level >5.0 ng/ml 95% risk factors. results: miR-510 significantly upregulated in colon cancer tissues and cell lines relative to adjacent normal tissues, colonic cells'],\n",
       " ['miR-510 was involved in the disease progression and clinical prognosis of colon cancer. a knockdown of the gene significantly inhibited these cellular processes, says dr robert mcd'],\n",
       " ['two PDX models showed different outcomes after castration or docetaxel treatment. the hormone-nave model displayed a range of responses from complete tumor regression to overt tumor progression.'],\n",
       " ['a 9 cm liver lesion was initially suspicious for hepatocellular carcinoma. cholangio-carcinoma is diagnosed most frequently as an incidental finding on imaging studies.'],\n",
       " ['hypoxia has no effect on osteopontin protein and mRNA level in nasopharyngeal carcinoma cells. only CNE-2 secreted bone-marrow, and there was no significant induction'],\n",
       " ['chemoembolization (TACE) is a therapeutic option for patients with hepatocellular carcinoma. identifying those patients who particularly benefit from TACE remains challenging, says dr. simon t'],\n",
       " ['patients with elevated MIF concentrations showed a significantly reduced median OS of only 719 days compared to patients below the cutoff value. cancer vaccines are emerging as viable strategy for cancer treatment.'],\n",
       " ['recurrent laryngeal nerve paralysis (RLNP) is a severe complication of esophagectomy. intraoperative nerve monitoring (IONM) was shown to reduce the rlnp'],\n",
       " ['rate of hoarseness significantly lower in the IONM group than in non-IONm group. rates of aspiration (OR 0.31, 95%CI 0.06–1.64, p = 0.17), pneumonia']]"
      ]
     },
     "execution_count": 18,
     "metadata": {},
     "output_type": "execute_result"
    }
   ],
   "source": [
    "results = []\n",
    "\n",
    "for t in temp: \n",
    "    results.append(t5summary_model(T5tokens, t, T5Abstract_model))\n",
    "    \n",
    "results\n"
   ]
  },
  {
   "cell_type": "code",
   "execution_count": null,
   "id": "90e55b9b",
   "metadata": {},
   "outputs": [],
   "source": [
    "# Check if summary is less than abstract\n",
    "len(text_example) > len(results[0])"
   ]
  },
  {
   "cell_type": "markdown",
   "id": "10b7d142",
   "metadata": {},
   "source": [
    "## Training New Models"
   ]
  },
  {
   "cell_type": "code",
   "execution_count": null,
   "id": "af9f9900",
   "metadata": {
    "scrolled": true
   },
   "outputs": [],
   "source": [
    "from transformers import BioGptModel, BioGptConfig, BioGptTokenizer\n",
    "\n",
    "biogpttokenizer = BioGptTokenizer.from_pretrained(\"microsoft/biogpt\")\n",
    "biogptmodel = BioGptModel.from_pretrained(\"microsoft/biogpt\")"
   ]
  },
  {
   "cell_type": "markdown",
   "id": "98e9f30c",
   "metadata": {},
   "source": [
    "### Q&A Model"
   ]
  },
  {
   "cell_type": "code",
   "execution_count": null,
   "id": "190c1015",
   "metadata": {},
   "outputs": [],
   "source": [
    "# BioBERT or BERT Q&A or Clincal-T5-Large"
   ]
  },
  {
   "cell_type": "markdown",
   "id": "ecf4783a",
   "metadata": {},
   "source": [
    "### Extractive Summary Model"
   ]
  },
  {
   "cell_type": "code",
   "execution_count": null,
   "id": "b414ab51",
   "metadata": {},
   "outputs": [],
   "source": [
    "# T5 or T5v1 or Clincal-T5-Large or Bio-GPT"
   ]
  },
  {
   "cell_type": "markdown",
   "id": "da8c816c",
   "metadata": {},
   "source": [
    "### Classification Model"
   ]
  },
  {
   "cell_type": "code",
   "execution_count": null,
   "id": "10eda67e",
   "metadata": {},
   "outputs": [],
   "source": [
    "# BERT or Bio-GPT"
   ]
  },
  {
   "cell_type": "markdown",
   "id": "33841278",
   "metadata": {},
   "source": [
    "### NER Model"
   ]
  },
  {
   "cell_type": "code",
   "execution_count": null,
   "id": "772b0ed7",
   "metadata": {},
   "outputs": [],
   "source": [
    "# BioELECTRA"
   ]
  }
 ],
 "metadata": {
  "kernelspec": {
   "display_name": "Python 3 (ipykernel)",
   "language": "python",
   "name": "python3"
  },
  "language_info": {
   "codemirror_mode": {
    "name": "ipython",
    "version": 3
   },
   "file_extension": ".py",
   "mimetype": "text/x-python",
   "name": "python",
   "nbconvert_exporter": "python",
   "pygments_lexer": "ipython3",
   "version": "3.10.6"
  }
 },
 "nbformat": 4,
 "nbformat_minor": 5
}
