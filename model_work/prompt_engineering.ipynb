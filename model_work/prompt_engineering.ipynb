{
 "cells": [
  {
   "cell_type": "code",
   "execution_count": null,
   "metadata": {},
   "outputs": [],
   "source": [
    "from langchain.prompts import PromptTemplate, ChatPromptTemplate, HumanMessagePromptTemplate\n",
    "\n",
    "template=\"Answer the user question.\\n{format_instructions}\\n{query}\\n\",\n",
    "\n",
    "prompt = PromptTemplate(\n",
    "    template= template,\n",
    "    input_variables=[\"query\"],\n",
    "    partial_variables={\"format_instructions\": parser.get_format_instructions()}\n",
    ")\n"
   ]
  },
  {
   "cell_type": "code",
   "execution_count": null,
   "metadata": {},
   "outputs": [],
   "source": [
    "multi_template = \"\"\"Answer the following questions one at a time.\n",
    "\n",
    "\n",
    "Questions:\n",
    "{questions}\n",
    "\n",
    "\n",
    "Answers:\n",
    "\"\"\""
   ]
  },
  {
   "cell_type": "code",
   "execution_count": null,
   "metadata": {},
   "outputs": [],
   "source": [
    "from langchain.chains import LLMChain, TransformChain\n",
    "from langchain.chains import SequentialChain\n",
    "\n",
    "llm_chain = LLMChain(\n",
    "    prompt=prompt,\n",
    "    llm=biogptmodel,\n",
    "    output_key=\"json_string\",\n",
    ")\n"
   ]
  },
  {
   "cell_type": "code",
   "execution_count": null,
   "metadata": {},
   "outputs": [],
   "source": [
    "\n",
    "def parse_output(inputs: dict) -> dict:\n",
    "    text = inputs[\"json_string\"]\n",
    "    return {\"result\": parser.parse(text)}\n",
    "\n",
    "transform_chain = TransformChain(\n",
    "    input_variables=[\"json_string\"],\n",
    "    output_variables=[\"result\"],\n",
    "    transform=parse_output\n",
    ")\n",
    "\n",
    "chain = SequentialChain(\n",
    "    input_variables=[\"joke_query\"],\n",
    "    output_variables=[\"result\"],\n",
    "    chains=[llm_chain, transform_chain],\n",
    ")\n",
    "\n",
    "chain.run(query=\"Tell me a joke.\")"
   ]
  },
  {
   "cell_type": "code",
   "execution_count": null,
   "metadata": {},
   "outputs": [],
   "source": [
    "print(llm_chain.run(qs_str))"
   ]
  }
 ],
 "metadata": {
  "language_info": {
   "name": "python"
  },
  "orig_nbformat": 4
 },
 "nbformat": 4,
 "nbformat_minor": 2
}
