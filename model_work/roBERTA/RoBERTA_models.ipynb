{
 "cells": [
  {
   "cell_type": "code",
   "execution_count": null,
   "metadata": {},
   "outputs": [],
   "source": [
    "# import functions from a file stored in a different directory\n",
    "import sys\n",
    "sys.path.append('~/work/therapeutic_accelerator/scripts/utils')\n",
    "sys.path.append('~/work/therapeutic_accelerator/scripts/database')\n",
    "\n",
    "from utils import import_config\n",
    "from db_tools import db_connection\n",
    "\n",
    "config, keys = import_config()\n",
    "\n",
    "engine = db_connection(password = keys[\"postgres\"], host = config[\"database\"][\"host\"])"
   ]
  },
  {
   "cell_type": "code",
   "execution_count": null,
   "metadata": {},
   "outputs": [],
   "source": [
    "from transformers import RobertaForQuestionAnswering, RobertaTokenizer, AutoTokenizer, TFAutoModel, RobertaForSequenceClassification\n",
    "\n",
    "roberta_tokens = AutoTokenizer.from_pretrained(\"deepset/roberta-base-squad2\")\n",
    "robertaqa_model = TFAutoModel.from_pretrained(\"deepset/roberta-base-squad2\")\n",
    "\n",
    "roberta_tokenized_qa = roberta_tokens([sample_question + sample_context], padding=True,  return_tensors='tf')\n",
    "roberta_model_layer = robertaqa_model(**roberta_tokenized_qa)\n"
   ]
  },
  {
   "cell_type": "code",
   "execution_count": null,
   "metadata": {},
   "outputs": [],
   "source": []
  }
 ],
 "metadata": {
  "language_info": {
   "name": "python"
  },
  "orig_nbformat": 4
 },
 "nbformat": 4,
 "nbformat_minor": 2
}
