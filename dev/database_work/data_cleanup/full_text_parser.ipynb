{
 "cells": [
  {
   "cell_type": "code",
   "execution_count": 1,
   "metadata": {},
   "outputs": [],
   "source": [
    "import pandas as pd\n",
    "import os\n",
    "import json\n",
    "import jsonlines\n",
    "from tqdm import tqdm\n",
    "import glob\n",
    "import yaml\n",
    "from sqlalchemy import create_engine\n",
    "from sqlalchemy.sql import text"
   ]
  },
  {
   "cell_type": "code",
   "execution_count": 2,
   "metadata": {},
   "outputs": [
    {
     "data": {
      "text/plain": [
       "'c:\\\\Users\\\\nickl\\\\Documents\\\\Berkeley\\\\W210\\\\final_project\\\\therapeutic_accelerator\\\\dev\\\\database_work\\\\data_cleanup'"
      ]
     },
     "execution_count": 2,
     "metadata": {},
     "output_type": "execute_result"
    }
   ],
   "source": [
    "os.getcwd()"
   ]
  },
  {
   "cell_type": "code",
   "execution_count": 5,
   "metadata": {},
   "outputs": [
    {
     "ename": "ValueError",
     "evalue": "'mode' must be either 'r', 'w', 'a', or 'x'",
     "output_type": "error",
     "traceback": [
      "\u001b[1;31m---------------------------------------------------------------------------\u001b[0m",
      "\u001b[1;31mValueError\u001b[0m                                Traceback (most recent call last)",
      "Cell \u001b[1;32mIn[5], line 5\u001b[0m\n\u001b[0;32m      1\u001b[0m temp_df \u001b[38;5;241m=\u001b[39m pd\u001b[38;5;241m.\u001b[39mDataFrame()\n\u001b[0;32m      3\u001b[0m file \u001b[38;5;241m=\u001b[39m \u001b[38;5;124m\"\u001b[39m\u001b[38;5;124m../../../data/papers_metadata/20240426_070545_00280_f8inb_0a6bea85-47c6-4cee-9031-3ee628632813.json.gz\u001b[39m\u001b[38;5;124m\"\u001b[39m\n\u001b[1;32m----> 5\u001b[0m \u001b[38;5;28;01mwith\u001b[39;00m \u001b[43mjsonlines\u001b[49m\u001b[38;5;241;43m.\u001b[39;49m\u001b[43mopen\u001b[49m\u001b[43m(\u001b[49m\u001b[43mfile\u001b[49m\u001b[43m,\u001b[49m\u001b[43m \u001b[49m\u001b[38;5;124;43m\"\u001b[39;49m\u001b[38;5;124;43mrb\u001b[39;49m\u001b[38;5;124;43m\"\u001b[39;49m\u001b[43m)\u001b[49m \u001b[38;5;28;01mas\u001b[39;00m reader: \n\u001b[0;32m      6\u001b[0m     count \u001b[38;5;241m=\u001b[39m \u001b[38;5;241m0\u001b[39m\n\u001b[0;32m      7\u001b[0m     \u001b[38;5;28;01mfor\u001b[39;00m line \u001b[38;5;129;01min\u001b[39;00m tqdm(reader\u001b[38;5;241m.\u001b[39miter(skip_invalid\u001b[38;5;241m=\u001b[39m\u001b[38;5;28;01mTrue\u001b[39;00m)): \n",
      "File \u001b[1;32mc:\\Users\\nickl\\Documents\\Berkeley\\W210\\final_project\\therapeutic_accelerator\\.venv\\Lib\\site-packages\\jsonlines\\jsonlines.py:639\u001b[0m, in \u001b[0;36mopen\u001b[1;34m(file, mode, loads, dumps, compact, sort_keys, flush)\u001b[0m\n\u001b[0;32m    614\u001b[0m \u001b[38;5;250m\u001b[39m\u001b[38;5;124;03m\"\"\"\u001b[39;00m\n\u001b[0;32m    615\u001b[0m \u001b[38;5;124;03mOpen a jsonlines file for reading or writing.\u001b[39;00m\n\u001b[0;32m    616\u001b[0m \n\u001b[1;32m   (...)\u001b[0m\n\u001b[0;32m    636\u001b[0m \u001b[38;5;124;03m    writing (``w``), appending (``a``), or exclusive creation (``x``).\u001b[39;00m\n\u001b[0;32m    637\u001b[0m \u001b[38;5;124;03m\"\"\"\u001b[39;00m\n\u001b[0;32m    638\u001b[0m \u001b[38;5;28;01mif\u001b[39;00m mode \u001b[38;5;129;01mnot\u001b[39;00m \u001b[38;5;129;01min\u001b[39;00m {\u001b[38;5;124m\"\u001b[39m\u001b[38;5;124mr\u001b[39m\u001b[38;5;124m\"\u001b[39m, \u001b[38;5;124m\"\u001b[39m\u001b[38;5;124mw\u001b[39m\u001b[38;5;124m\"\u001b[39m, \u001b[38;5;124m\"\u001b[39m\u001b[38;5;124ma\u001b[39m\u001b[38;5;124m\"\u001b[39m, \u001b[38;5;124m\"\u001b[39m\u001b[38;5;124mx\u001b[39m\u001b[38;5;124m\"\u001b[39m}:\n\u001b[1;32m--> 639\u001b[0m     \u001b[38;5;28;01mraise\u001b[39;00m \u001b[38;5;167;01mValueError\u001b[39;00m(\u001b[38;5;124m\"\u001b[39m\u001b[38;5;124m'\u001b[39m\u001b[38;5;124mmode\u001b[39m\u001b[38;5;124m'\u001b[39m\u001b[38;5;124m must be either \u001b[39m\u001b[38;5;124m'\u001b[39m\u001b[38;5;124mr\u001b[39m\u001b[38;5;124m'\u001b[39m\u001b[38;5;124m, \u001b[39m\u001b[38;5;124m'\u001b[39m\u001b[38;5;124mw\u001b[39m\u001b[38;5;124m'\u001b[39m\u001b[38;5;124m, \u001b[39m\u001b[38;5;124m'\u001b[39m\u001b[38;5;124ma\u001b[39m\u001b[38;5;124m'\u001b[39m\u001b[38;5;124m, or \u001b[39m\u001b[38;5;124m'\u001b[39m\u001b[38;5;124mx\u001b[39m\u001b[38;5;124m'\u001b[39m\u001b[38;5;124m\"\u001b[39m)\n\u001b[0;32m    641\u001b[0m \u001b[38;5;28mcls\u001b[39m \u001b[38;5;241m=\u001b[39m Reader \u001b[38;5;28;01mif\u001b[39;00m mode \u001b[38;5;241m==\u001b[39m \u001b[38;5;124m\"\u001b[39m\u001b[38;5;124mr\u001b[39m\u001b[38;5;124m\"\u001b[39m \u001b[38;5;28;01melse\u001b[39;00m Writer\n\u001b[0;32m    642\u001b[0m encoding \u001b[38;5;241m=\u001b[39m \u001b[38;5;124m\"\u001b[39m\u001b[38;5;124mutf-8-sig\u001b[39m\u001b[38;5;124m\"\u001b[39m \u001b[38;5;28;01mif\u001b[39;00m mode \u001b[38;5;241m==\u001b[39m \u001b[38;5;124m\"\u001b[39m\u001b[38;5;124mr\u001b[39m\u001b[38;5;124m\"\u001b[39m \u001b[38;5;28;01melse\u001b[39;00m \u001b[38;5;124m\"\u001b[39m\u001b[38;5;124mutf-8\u001b[39m\u001b[38;5;124m\"\u001b[39m\n",
      "\u001b[1;31mValueError\u001b[0m: 'mode' must be either 'r', 'w', 'a', or 'x'"
     ]
    }
   ],
   "source": [
    "temp_df = pd.DataFrame()\n",
    "\n",
    "file = \"../../../data/papers_metadata/20240426_070545_00280_f8inb_0a6bea85-47c6-4cee-9031-3ee628632813.json.gz\"\n",
    "\n",
    "with jsonlines.open(file, \"r\") as reader: \n",
    "    count = 0\n",
    "    for line in tqdm(reader.iter(skip_invalid=True)): \n",
    "        if count >= 5: \n",
    "            break\n",
    "        else: \n",
    "            temp_df = pd.concat([temp_df,pd.DataFrame([line])]) # reads json, converts to dataframe, preprocess functions and appends results to database\n",
    "            count += 1\n",
    "            \n",
    "temp_df.reset_index(inplace = True, drop = True)"
   ]
  },
  {
   "cell_type": "code",
   "execution_count": 14,
   "metadata": {},
   "outputs": [],
   "source": [
    "temp_df = pd.DataFrame()\n",
    "\n",
    "file = \"../../../data/papers_metadata/20240426_070545_00280_f8inb_0a6bea85-47c6-4cee-9031-3ee628632813.json.gz\"\n",
    "\n",
    "with open(file, \"rb\") as reader: \n",
    "    count = 0\n",
    "    lines = reader.readline()\n",
    "#     for line in tqdm(reader.iter(skip_invalid=True)): \n",
    "#         if count >= 5: \n",
    "#             break\n",
    "#         else: \n",
    "#             temp_df = pd.concat([temp_df,pd.DataFrame([line])]) # reads json, converts to dataframe, preprocess functions and appends results to database\n",
    "#             count += 1\n",
    "            \n",
    "# temp_df.reset_index(inplace = True, drop = True)"
   ]
  },
  {
   "cell_type": "code",
   "execution_count": 18,
   "metadata": {},
   "outputs": [
    {
     "data": {
      "text/plain": [
       "b'\\x1f\\x8b\\x08\\x08S\\xd2-f\\x02\\xff20240426_070545_00280_f8inb_0a6bea85-47c6-4cee-9031-3ee628632813.json\\x00\\xcc\\xbdks\\xdc\\xd6\\x956\\xfa}\\xaa\\xe6?\\xa0\\xf4\\xe1\\xc8\\xaeBS\\xfb~\\xf1\\xf9p\\x8a\\x92(\\x89\\xb2(\\xe9%i{\\x9c9\\xa9\\xd4\\x06\\xb0A\\xc2\\xeanp\\x80n\\xc9\\xd4[S%K\\xce\\xd5\\xb9x\\x92x\\xe2$vl\\xe72\\x89\\'\\xf1\\xc4\\x8e\\x9d\\xc4\\xb78U\\xd1\\xe4;\\xf5\\x17\"\\xcbv\\x12\\xa5\\xde\\xbfp\\xd6\\x02\\xba)\\xa2\\x1b\\x94\\xe8\\xa689\\xb6Du\\x83\\xc0\\x06\\xb0\\xf7\\xda\\xeb\\xbe\\x9e\\x15\\xc6y\\xb11,\\xb3$\\xf4O\\x0e|\\xd1w\\xdd,)\\xc3a\\xd1\\r\\x07\\xd9\\xa0\\xebC7\\x1c\\xac\\xe7E\\x19^\\xf4\\xfd\\xa1\\x0f7\\x86Q7\\x8b\\xdd \\xcb\\xfb\\xd5\\x01\\xb8l\\xd3\\xbb\",|\\xea\\x0b\\xdf\\x8f}\\x9c\\x0f\\xfb\\x830\\xce\\x06\\xd59\\xf5\\xb7\\xac\\x9fv\\x87\\xbe?\\xc8\\\\w\\xe2\\x17e\\xbe\\xe1\\xfb.\\x8e}Y\\x86%K3\\xdfM\\xca<-\\x07\\xc3ds\\xe7\\xad\\x06\\x9b\\x1b\\xbe\\xdcy q\\x03\\x1f>\\x91\\x0f\\xf1q\\xff\\xf1\\x1fH(\\xa8\\xb5T(\\x1e\\x1e\\xfa\\xdf\\x87\\xe7\\x8f\\x9d9\\xfcPp6\\xef\\xfb08|\\xfc\\xe8\\x99\\xf3w\\xbe\\xcd\\x17\\xff\\x94]\\xbc\\xf3ui\\xfe\\xe4\\x9d/\\xc7\\xaaiXL\\xe0\\xc8\\xe1\\xf1p\\x87\\xe1\\xf8\\xf9a\\xb4\\xe4\\xab\\xa3\\x943\\xc3\\xb4\\xa0x\\xf4\\xf8\\xb9\\xc5;\\x97\\xd6\\xa7\\x1c\\x837,\\\\wt\\xf8_\\x0f\\x85\\xeb\\x83\\xc1F\\xf9\\xd0\\x91#\\x97.]\\x9a+}\\xcf\\xc1\\x04\\xc4e\\xbc\\x9ew]1\\x97\\x17kG6\\xdc\\x86/\\x8eH\\x13\\x13+\\xe2\\xd4$i\"\\x8d\\xe2\\x94\\xf1\\x949\\x9d0\\x1a\\x894Nd\\xcc\\x04I%\\xe1\\xe1B\\x9a\\xfax\\x10\\xe4i\\x00\\x03\\xac\\xf9\\xc0\\xf5p\\x0eK<\\xb0\\xd1ue\\xcf\\x05i\\x91\\xf7\\x82\\xc4\\x97\\xf9\\x93\\x9bk0\\xad\\x03\\x9f\\x04Q7\\xcf\\x93 \\xef\\x07\\xbe\\xd8\\x1c\\xac\\x17\\xf9F\\x9e\\xf92+\\xe7\\xc2C\\xff\\xfc\\xbf\\x0f\\xd7K[\\xbf2U\\xc4\\x08C4\\xbe\\\\\\xdf\\xf5<\\x1e[\\x98\\x0bNeE\\xf9\\x84+.f\\x87\\xff\\xf5\\xb3\\x87\\xc2\\xf9x\\xe0\\x82\\xf3\\xeb\\x9be\\x96w\\xf35X\\x8b`%v\\xfd$\\xeb\\xbb\\x8b\\xf0%\\xb4\\x9e0\\x17%\\xaa\\xc3\\x157\\x1d\\x91J\\xdbq\\x9a\\xb3\\x8e\\x93\\xa9v\\x9a1\\xa1R\\x12R+\\xe5\\x1c\\t\\xeb\\xffO\\xb8n\\xe9\\xabg\\x81u\\xf5ky\\xb1\\x89\\xf7=Z\\r\\xbf\\x89\\x8fR\\xc2\\x1a\\xc7\\xd5\\xc3\\x94\\xac\\x93\\xe6e\\xa7\\x97\\'\\xbe{\\xf8_\\xff!h^\\x02\\xf3\\x9f\\xc5Y\\xdf\\xef\\xff\\x9a\\xf1.\\xa8^\\xf8\\x9f\\x0f\\x9f\\xae\\x89l\\xbe\\x80\\xc5\\xeb\\xfa\\xc3\\x9f\\r\\x91\\xc4\\xc6\\x13T\\xcd\\xc7\\xc6n\\xf3\\x81\\xe3n\\xb85_\\xe2\\xa9\\xffo?\\xd8\\xfe\\x8f\\xe3\\xec\\x88;G\\xf0\\xc4\\x8bywX\\x0f\\xcaE \\x0e\\xff\\xeb\\xa1\\x7f\\xfc\\x07\\x1aR\\xa68!\\x82\\xd3Y\\xe8\\xfa0\\xd3Jq\\xc6hM\\xc7;\\xe9{{\\xdc\\x06\\x81\\x8f\\x87\\xaeH\\xfb0%s\\x94*u\\xe4\\x89x\\xd0\\x9fc\\x84\\xea9e\\x8d>\\xbc_rg\\xb1\\x04\\x92p\\x89t\\tK\\xa9\\xd0<\\x11\\x821\\x9f\\xa6\\x94\\xea\\xc8\\xd0DF.\\xa5\\x8a\\xca\\xf0Q\\x17\\x0f\\x87\\xbd\\xe0h\\xe1.\\x03\\x1d\\x9f\\xce\\xb3\\x11\\xad\\xaff\\x1d5\\xdf\\xed\\x88G\\x83A\\x1e\\xac\\x0c\\xbc\\xef\\x06\\x97\\xb2\\xc1zpt~\\x8d\\xb1\\xe0D\\xd6\\xed\\xfa\"X\\xf2\\x03\\xd7\\x9d\\xa2q\\xa5\\x8d`\\x96\\xec$\\xf1\\x95\\xb9`~.xx\\xd8sEM ;\\xcf\\xe7D\\xc3\\xe4i\\xb6\\xf3\\x82\\xe5\\xb9\\xe0$,\\xf1:\\xac\\xf1`\\xdd\\xf5+*\\t\\xc3j~\\xeeN\\xd4K\\xf0\\xb9\\x00\\x0eX\\x02\\x8dd\\xc8)?\\r\\xa9.\\xf4\\xd7\\x80P\\xe1\\xfa\\xfe\\xda\\xa7\\xa2pxFX\\t\\\\\\x88\\xbb\\x10y\\xf5\\xf4\\x1dJ;\\x84\\xee$\\xee\\x11\\xe5\\xe3\\x9c\\x1f\\xcb{\\x1b\\xc3\\x9aq\\xc3\\x01x\\xfd`u\\xdd\\xe7\\x85\\x87\\x81\\xe1\\xfbY\\xd7\\xcf\\xcb;\\xef\\xb4M\\xf2R\\x1a\\xd9\\x81\\x1f\\xb6I\\xdf\\xb4\\xa6n\\x16Z\\xa6\\xac\\xd4\\xca\\xccD\\xdc\\x94\\x11k\\x187j\\x92\\xb6\\xc7\\xa3\\xeeN\\xda\\xf7\\x83kG\\xcc\\xa6V\\n'"
      ]
     },
     "execution_count": 18,
     "metadata": {},
     "output_type": "execute_result"
    }
   ],
   "source": [
    "lines"
   ]
  },
  {
   "cell_type": "code",
   "execution_count": 19,
   "metadata": {},
   "outputs": [
    {
     "ename": "LookupError",
     "evalue": "unknown encoding: UNICODE",
     "output_type": "error",
     "traceback": [
      "\u001b[1;31m---------------------------------------------------------------------------\u001b[0m",
      "\u001b[1;31mLookupError\u001b[0m                               Traceback (most recent call last)",
      "Cell \u001b[1;32mIn[19], line 1\u001b[0m\n\u001b[1;32m----> 1\u001b[0m \u001b[43mlines\u001b[49m\u001b[38;5;241;43m.\u001b[39;49m\u001b[43mdecode\u001b[49m\u001b[43m(\u001b[49m\u001b[43mencoding\u001b[49m\u001b[38;5;241;43m=\u001b[39;49m\u001b[38;5;124;43m'\u001b[39;49m\u001b[38;5;124;43mUNICODE\u001b[39;49m\u001b[38;5;124;43m'\u001b[39;49m\u001b[43m)\u001b[49m\n",
      "\u001b[1;31mLookupError\u001b[0m: unknown encoding: UNICODE"
     ]
    }
   ],
   "source": [
    "lines.decode(encoding='')"
   ]
  },
  {
   "attachments": {},
   "cell_type": "markdown",
   "metadata": {},
   "source": [
    "Get section headers to split text into parts\n",
    "|corpusID|authors|section(s)|\n",
    "|---|---|---|"
   ]
  },
  {
   "attachments": {},
   "cell_type": "markdown",
   "metadata": {},
   "source": [
    "Don't need source, need text and annotations\n",
    "- stored in lists with indexes convert to human readable"
   ]
  },
  {
   "attachments": {},
   "cell_type": "markdown",
   "metadata": {},
   "source": [
    "Get Corpus IDs from DB"
   ]
  },
  {
   "cell_type": "code",
   "execution_count": null,
   "metadata": {},
   "outputs": [],
   "source": [
    "# import psycopg2\n",
    "\n",
    "# psy_engine = psycopg2.connect(\n",
    "#     database=config['database']['name'],\n",
    "#     user=config['database']['user'],\n",
    "#     password=keys['postgres'],\n",
    "#     host=config['database']['host'],\n",
    "#     port='5432'\n",
    "# )\n",
    "\n",
    "# cur = psy_engine.cursor()\n",
    "\n",
    "# conn = sql.connect()\n",
    "\n",
    "# test = cur.execute(\"SELECT * FROM attributes;\") \n",
    "\n",
    "# psy_engine.commit()\n",
    "# cur.close()\n",
    "# psy_engine.close()"
   ]
  },
  {
   "cell_type": "code",
   "execution_count": null,
   "metadata": {},
   "outputs": [],
   "source": [
    "# pull content out because that's all I need\n",
    "test = temp_df.loc[0, 'content']\n",
    "test.pop('source')"
   ]
  },
  {
   "cell_type": "code",
   "execution_count": null,
   "metadata": {},
   "outputs": [],
   "source": [
    "# turn into dataclass\n",
    "def convert_text(text, key):\n",
    "    temp = json.loads(text['annotations'][key])\n",
    "    results = []\n",
    "    for i in temp: \n",
    "        results.append(test['text'][temp['start']:temp['end']])\n",
    "    return results"
   ]
  },
  {
   "cell_type": "code",
   "execution_count": null,
   "metadata": {},
   "outputs": [],
   "source": [
    "def get_abstract(text_dict):\n",
    "    \"\"\" \"\"\"\n",
    "    ant_index = json.loads(text_dict['annotations']['abstract'])[0]\n",
    "    ant = test['text'][ant_index['start']:ant_index['end']]\n",
    "    return ant"
   ]
  },
  {
   "cell_type": "code",
   "execution_count": null,
   "metadata": {},
   "outputs": [],
   "source": [
    "get_abstract(test)"
   ]
  },
  {
   "attachments": {},
   "cell_type": "markdown",
   "metadata": {},
   "source": [
    "Just need sections"
   ]
  },
  {
   "cell_type": "code",
   "execution_count": null,
   "metadata": {},
   "outputs": [],
   "source": [
    "def get_sections(text, indexes): \n",
    "    # Looking at sections\n",
    "    section = {}\n",
    "    for i in json.loads(text['annotations']['sectionheader']): \n",
    "        section['name'] = text['text'][i['start']:i['end']]\n",
    "        section['start'] = i['start']\n",
    "        section['end'] = i['end']\n",
    "        \n",
    "    return section"
   ]
  },
  {
   "cell_type": "code",
   "execution_count": null,
   "metadata": {},
   "outputs": [],
   "source": [
    "get_sections(test)"
   ]
  },
  {
   "attachments": {},
   "cell_type": "markdown",
   "metadata": {},
   "source": [
    "Remove figure and table annotations"
   ]
  },
  {
   "attachments": {},
   "cell_type": "markdown",
   "metadata": {},
   "source": [
    "Pull relevant texts from DB with right corpusID"
   ]
  },
  {
   "cell_type": "code",
   "execution_count": null,
   "metadata": {},
   "outputs": [],
   "source": [
    "temp_df"
   ]
  }
 ],
 "metadata": {
  "kernelspec": {
   "display_name": "base",
   "language": "python",
   "name": "python3"
  },
  "language_info": {
   "codemirror_mode": {
    "name": "ipython",
    "version": 3
   },
   "file_extension": ".py",
   "mimetype": "text/x-python",
   "name": "python",
   "nbconvert_exporter": "python",
   "pygments_lexer": "ipython3",
   "version": "3.12.3"
  },
  "orig_nbformat": 4
 },
 "nbformat": 4,
 "nbformat_minor": 2
}
