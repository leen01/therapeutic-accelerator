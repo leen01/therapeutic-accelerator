{
 "cells": [
  {
   "cell_type": "code",
   "execution_count": null,
   "metadata": {},
   "outputs": [],
   "source": [
    "import yaml\n",
    "from sqlalchemy import create_engine, text\n",
    "\n",
    "# set up\n",
    "with open(\"/home/ubuntu/work/therapeutic_accelerator/config/main.yaml\", \"r\") as f:\n",
    "    config = yaml.load(f, Loader=yaml.FullLoader)\n",
    "    \n",
    "with open(\"/home/ubuntu/work/therapeutic_accelerator/config/keys.yaml\", \"r\") as f:\n",
    "    keys = yaml.load(f, Loader=yaml.FullLoader)\n",
    "\n",
    "# Create engine to connect to database\n",
    "engine = create_engine(f'postgresql://postgres:{keys[\"postgres\"]}@{config[\"database\"][\"host\"]}:5432/postgres')"
   ]
  },
  {
   "cell_type": "code",
   "execution_count": 6,
   "metadata": {},
   "outputs": [
    {
     "data": {
      "text/plain": [
       "['', 'index', 'paperId', 'corpusId', 'abstract']"
      ]
     },
     "execution_count": 6,
     "metadata": {},
     "output_type": "execute_result"
    }
   ],
   "source": [
    "# Read header from CSV to create columns\n",
    "from csv import DictReader\n",
    "\n",
    "csv_path = '/home/ubuntu/work/backup/terms/assay_terms.csv'\n",
    "\n",
    "with open(csv_path, 'r') as f:\n",
    "    d_reader = DictReader(f)\n",
    "\n",
    "    #get fieldnames from DictReader object and store in list\n",
    "    headers = d_reader.fieldnames\n",
    "    \n",
    "headers"
   ]
  },
  {
   "cell_type": "code",
   "execution_count": 9,
   "metadata": {},
   "outputs": [
    {
     "data": {
      "text/plain": [
       "[',index,paperId,corpusId,abstract\\n',\n",
       " '0,,39063bcddbd9decd4c8f5c5d3e8392280ab046ad,52273203,\\n',\n",
       " '1,,6ec7c156b4173ad7ca0dbc654da9267474644a41,23708908,\"Constitutive JAK/STAT3 signaling contributes to disease progression in many lymphoproliferative disorders. Recent genetic analyses have revealed gain-of-function STAT3 mutations in lymphoid cancers leading to hyperactivation of STAT3, which may represent a potential therapeutic target. Using a functional reporter assay, we screened 306 compounds with selective activity against various target molecules to identify drugs capable of inhibiting the cellular activity of STAT3. Top hits were further validated with additional models including STAT3-mutated natural killer (NK)-cell leukemia/lymphoma cell lines and primary large granular lymphocytic (LGL) leukemia cells to assess their ability to inhibit STAT3 phosphorylation and STAT3 dependent cell viability. We identified JAK, mTOR, Hsp90 and CDK inhibitors as potent inhibitors of both WT and mutant STAT3 activity. The Hsp90 inhibitor luminespib was highly effective at reducing the viability of mutant STAT3 NK cell lines and LGL leukemia patient samples. Luminespib decreased the phosphorylation of mutant STAT3 at Y705, whereas JAK1/JAK2 inhibitor ruxolitinib had reduced efficacy on mutant STAT3 phosphorylation. Additionally, combinations involving Hsp90, JAK and mTOR inhibitors were more effective at reducing cell viability than single agents. Our findings show alternative approaches to inhibit STAT3 activity and suggest Hsp90 as a therapeutic target in lymphoproliferative disorders with constitutively active STAT3.\"\\n',\n",
       " '2,,c856627242a754d2d756b32843523e6d7a089148,13232625,\"Summary: The current work characterizes young men’s memory for young women’s heterosocially relevant affective cues (e.g. sexual interest and rejection) and examines characteristics of both the woman being perceived and the male perceiver as predictors of memory. Undergraduate men (n ¼232) completed similarity-ratings and recognition-memory tasks with photos of undergraduate women who varied in attractiveness, provocativeness of clothing and expression of sexual interest. Participants also completed a control memory task and a measure relevant to the risk of exhibiting sexually aggressive behaviour, as well as indicating how many serious relationships they had experienced. Multilevel regression techniques revealed that (a) men’s memory for women’s sexual interest improved when women were sexually interested at encoding, attractive and dressed provocatively; (b) men who reported more frequent serious relationships showed better memory for women’s sexual interest and (c) men at risk of exhibiting sexually aggressive behaviour showed worse memory for women’s sexual interest. Copyright # 2010 John Wiley & Sons, Ltd. Men’s memory for women’s heterosocially relevant affect (e.g. sexual interest and rejection) is a surprisingly understudied area of inquiry, given the hypothesized centrality of affective processing to social interactions, intimate relationships and sexual aggression among acquaintances (e.g. Abbey, McAuslan, & Ross, 1998; Casey, Garrett, Brackett, & Rivers, 2007; Mayer, Roberts, & Barsade, 2008; McFall, 1990). Nonverbal affective cues, particularly sexual-interest and rejection cues, frequently are used to communicate to a current or potential partner the likelihood that initial or continued sexual overtures will be received positively (e.g. Abbey, 1982; Fichten, Tagalakis, Judd, Wright, & Amsel, 1992; Muehlenhard, Koralewski, Andrews, & Burdick, 1986). Heterosocial competence requires not only accurate perception of these affective cues, however, but also recognition of changes in the cues, such as from positive to negative. Memory provides critical support for successful change detection, via adequate storage and retrieval of affective information. Successful initiation and maintenance of serious romantic relationships, for example, necessitate detection and retention of the fluctuations in a partner’s emotions. Moreover, decreased attention and sensitivity to young women’s affective cues have been linked to an increased risk of sexually coercive or aggressive behaviour towards acquaintances among college-aged males (see review by Farris, Treat, Viken, & McFall, 2008). Above and beyond impoverished encoding of women’s affect, however, insufficient storage or retrieval of women’s affective cues may decrease the likelihood that high-risk men recognize and respond appropriately to women’s changing affect. In sum, careful characterization of the correlates of memory for young women’s sexual interest may advance our understanding of the role of affective processing in both normative and problematic heterosocial interactions. The present work uses multilevel modelling techniques to distinguish two classes of influences on men’s memory:\"\\n',\n",
       " '3,,d4c9b2fa2b760b5cf90ce8635a7dede5b4cd58a2,73484844,\"Ionotropic glutamate receptors (iGluRs) mediate the synaptic and metabolic actions of glutamate. These iGluRs are classified within the α-amino-3-hydroxy-5-methyl-4-isoxazole propionic acid (AMPA)-type, kainate-type, and N-methyl-d-aspartate (NMDA)-type functional receptor families. The iGluR assemblies are regulated by transcription, alternative splicing, and cytoplasmic post-translational modifications. The iGluR subunit proteins are transported from the endoplasmic reticulum, inserted into the synaptic membranes, and anchored at their action site by different scaffolding and interacting proteins. The functional properties of iGluRs depend on their subunit composition, the amino acid sequence of the protein domains, and the scaffolding proteins in the synaptic membranes. The iGluRs are removed from the membranes by enzymatic action and endocytosis. Hippocampal iGluRs are rearranged through the upregulation and downregulation of the subunits following deafferentation and epileptic seizures. The rearrangement of iGluRs and the alteration of their subunit composition transform neurons into “pathological” cells, determining the further plasticity or pathology of the hippocampal formation. In the present review, we summarize the expression of AMPA, kainate, and NMDA receptor subunits following deafferentation, repeated mild seizures, and status epilepticus. We compare our results to literature descriptions, and draw conclusions as to the reactive plasticity of iGluRs in the hippocampus.\"\\n']"
      ]
     },
     "execution_count": 9,
     "metadata": {},
     "output_type": "execute_result"
    }
   ],
   "source": [
    "lines_number = 5\n",
    "with open(csv_path) as input_file:\n",
    "    head = [next(input_file) for _ in range(lines_number)]\n",
    "head"
   ]
  },
  {
   "attachments": {},
   "cell_type": "markdown",
   "metadata": {},
   "source": [
    "Delete old table if necessary to replace with new table"
   ]
  },
  {
   "attachments": {},
   "cell_type": "markdown",
   "metadata": {},
   "source": [
    "sql = text(''' \n",
    "    DROP TABLE IF EXISTS abstracts;\n",
    "''')\n",
    "\n",
    "with engine.connect() as conn: \n",
    "    query = conn.execute(sql)"
   ]
  },
  {
   "cell_type": "code",
   "execution_count": 32,
   "metadata": {},
   "outputs": [],
   "source": [
    "# Create Table in DB first before uploading\n",
    "from sqlalchemy import MetaData, Table, Column, Integer, String\n",
    "\n",
    "metadata_obj = MetaData()\n",
    "table_name = 'abstracts'\n",
    "# Create abstracts metadata\n",
    "abstracts = Table(\n",
    "    table_name,\n",
    "    metadata_obj,\n",
    "    Column(\"id\", Integer, nullable = True), # has to be integer so that dask can partition the table\n",
    "    Column(\"index\", String, nullable=True),\n",
    "    Column(\"paperId\", String(50)),\n",
    "    Column(\"corpusId\", String, nullable=True),\n",
    "    Column(\"abstract\", String, nullable=True),\n",
    ")\n",
    "\n",
    "metadata_obj.create_all(engine)"
   ]
  },
  {
   "attachments": {},
   "cell_type": "markdown",
   "metadata": {},
   "source": [
    "Has to be run in the terminal because you have to supply the password\n",
    "- `psql --host=database-1.cuaho2dof33c.us-east-1.rds.amazonaws.com \\\n",
    "--port=5432 --username=postgres --password \\\n",
    "--dbname=postgres`"
   ]
  },
  {
   "cell_type": "code",
   "execution_count": 26,
   "metadata": {},
   "outputs": [
    {
     "name": "stdout",
     "output_type": "stream",
     "text": [
      "\\copy abstracts FROM /home/ubuntu/work/attributes/papers_abstracts.csv WITH (FORMAT CSV, HEADER true, DELIMITER ',');\n"
     ]
    }
   ],
   "source": [
    "# Upload CSV to DB\n",
    "## Copy and paste the output below into the postgres terminal. \n",
    "## HEADER true means that the csv file contains the header. Number of columns in csv has to match exactly with DB columns\n",
    "print(rf\"\\copy {table_name} FROM {csv_path} WITH (FORMAT CSV, HEADER true, DELIMITER ',');\")"
   ]
  },
  {
   "cell_type": "code",
   "execution_count": 33,
   "metadata": {},
   "outputs": [
    {
     "data": {
      "text/html": [
       "<div>\n",
       "<style scoped>\n",
       "    .dataframe tbody tr th:only-of-type {\n",
       "        vertical-align: middle;\n",
       "    }\n",
       "\n",
       "    .dataframe tbody tr th {\n",
       "        vertical-align: top;\n",
       "    }\n",
       "\n",
       "    .dataframe thead th {\n",
       "        text-align: right;\n",
       "    }\n",
       "</style>\n",
       "<table border=\"1\" class=\"dataframe\">\n",
       "  <thead>\n",
       "    <tr style=\"text-align: right;\">\n",
       "      <th></th>\n",
       "      <th>id</th>\n",
       "      <th>index</th>\n",
       "      <th>paperId</th>\n",
       "      <th>corpusId</th>\n",
       "      <th>abstract</th>\n",
       "    </tr>\n",
       "  </thead>\n",
       "  <tbody>\n",
       "    <tr>\n",
       "      <th>0</th>\n",
       "      <td>0</td>\n",
       "      <td>None</td>\n",
       "      <td>39063bcddbd9decd4c8f5c5d3e8392280ab046ad</td>\n",
       "      <td>52273203</td>\n",
       "      <td>None</td>\n",
       "    </tr>\n",
       "    <tr>\n",
       "      <th>1</th>\n",
       "      <td>1</td>\n",
       "      <td>None</td>\n",
       "      <td>6ec7c156b4173ad7ca0dbc654da9267474644a41</td>\n",
       "      <td>23708908</td>\n",
       "      <td>Constitutive JAK/STAT3 signaling contributes t...</td>\n",
       "    </tr>\n",
       "    <tr>\n",
       "      <th>2</th>\n",
       "      <td>2</td>\n",
       "      <td>None</td>\n",
       "      <td>c856627242a754d2d756b32843523e6d7a089148</td>\n",
       "      <td>13232625</td>\n",
       "      <td>Summary: The current work characterizes young ...</td>\n",
       "    </tr>\n",
       "    <tr>\n",
       "      <th>3</th>\n",
       "      <td>3</td>\n",
       "      <td>None</td>\n",
       "      <td>d4c9b2fa2b760b5cf90ce8635a7dede5b4cd58a2</td>\n",
       "      <td>73484844</td>\n",
       "      <td>Ionotropic glutamate receptors (iGluRs) mediat...</td>\n",
       "    </tr>\n",
       "    <tr>\n",
       "      <th>4</th>\n",
       "      <td>4</td>\n",
       "      <td>None</td>\n",
       "      <td>7f13abe2c82bf0c66ca423e905d8f5967c4517b1</td>\n",
       "      <td>229159752</td>\n",
       "      <td>Aim The current pandemic of coronavirus diseas...</td>\n",
       "    </tr>\n",
       "  </tbody>\n",
       "</table>\n",
       "</div>"
      ],
      "text/plain": [
       "   id index                                   paperId   corpusId  \\\n",
       "0   0  None  39063bcddbd9decd4c8f5c5d3e8392280ab046ad   52273203   \n",
       "1   1  None  6ec7c156b4173ad7ca0dbc654da9267474644a41   23708908   \n",
       "2   2  None  c856627242a754d2d756b32843523e6d7a089148   13232625   \n",
       "3   3  None  d4c9b2fa2b760b5cf90ce8635a7dede5b4cd58a2   73484844   \n",
       "4   4  None  7f13abe2c82bf0c66ca423e905d8f5967c4517b1  229159752   \n",
       "\n",
       "                                            abstract  \n",
       "0                                               None  \n",
       "1  Constitutive JAK/STAT3 signaling contributes t...  \n",
       "2  Summary: The current work characterizes young ...  \n",
       "3  Ionotropic glutamate receptors (iGluRs) mediat...  \n",
       "4  Aim The current pandemic of coronavirus diseas...  "
      ]
     },
     "execution_count": 33,
     "metadata": {},
     "output_type": "execute_result"
    }
   ],
   "source": [
    "# Check if it worked\n",
    "import pandas as pd\n",
    "sql = text(f''' \n",
    "    SELECT * FROM {table_name} LIMIT 5;\n",
    "''')\n",
    "\n",
    "with engine.connect() as conn: \n",
    "    query = conn.execute(sql)\n",
    "\n",
    "test = pd.DataFrame(query.fetchall())\n",
    "test.head()"
   ]
  }
 ],
 "metadata": {
  "kernelspec": {
   "display_name": "base",
   "language": "python",
   "name": "python3"
  },
  "language_info": {
   "codemirror_mode": {
    "name": "ipython",
    "version": 3
   },
   "file_extension": ".py",
   "mimetype": "text/x-python",
   "name": "python",
   "nbconvert_exporter": "python",
   "pygments_lexer": "ipython3",
   "version": "3.10.11"
  },
  "orig_nbformat": 4
 },
 "nbformat": 4,
 "nbformat_minor": 2
}
