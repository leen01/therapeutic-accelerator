{
 "cells": [
  {
   "cell_type": "code",
   "execution_count": null,
   "metadata": {},
   "outputs": [],
   "source": []
  },
  {
   "cell_type": "code",
   "execution_count": null,
   "metadata": {},
   "outputs": [],
   "source": [
    "# ADD ID column for indexing\n",
    "# sql = '''ALTER TABLE abstracts ADD COLUMN id BIGSERIAL PRIMARY KEY;'''\n",
    "\n",
    "# with engine.connect() as conn: \n",
    "#     results = conn.execute(text(sql))\n",
    "    \n",
    "# index = Column('index', INTEGER(), nullable=False, autoincrement=True)"
   ]
  }
 ],
 "metadata": {
  "language_info": {
   "name": "python"
  },
  "orig_nbformat": 4
 },
 "nbformat": 4,
 "nbformat_minor": 2
}
