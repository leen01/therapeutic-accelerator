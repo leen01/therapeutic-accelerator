{
 "cells": [
  {
   "cell_type": "code",
   "execution_count": null,
   "metadata": {},
   "outputs": [],
   "source": []
  },
  {
   "cell_type": "code",
   "execution_count": null,
   "metadata": {},
   "outputs": [],
   "source": [
    "# ADD ID column for indexing\n",
    "sql = '''ALTER TABLE abstracts ADD COLUMN id BIGSERIAL PRIMARY KEY;'''\n",
    "\n",
    "with engine.connect() as conn: \n",
    "    results = conn.execute(text(sql))\n",
    "    \n",
    "index = Column('index', INTEGER(), nullable=False, autoincrement=True)"
   ]
  },
  {
   "cell_type": "code",
   "execution_count": null,
   "metadata": {},
   "outputs": [],
   "source": [
    "# sql = text(''' \n",
    "    CREATE INDEX idx_corpusid \n",
    "    ON attributes(corpusid);\n",
    "''')\n",
    "\n",
    "with engine.connect() as conn: \n",
    "    query = conn.execute(sql)\n"
   ]
  }
 ],
 "metadata": {
  "language_info": {
   "name": "python"
  },
  "orig_nbformat": 4
 },
 "nbformat": 4,
 "nbformat_minor": 2
}
