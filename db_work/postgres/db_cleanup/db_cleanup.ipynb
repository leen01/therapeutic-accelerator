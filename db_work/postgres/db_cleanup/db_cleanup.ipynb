{
 "cells": [
  {
   "cell_type": "code",
   "execution_count": 2,
   "metadata": {},
   "outputs": [],
   "source": [
    "# Base code\n",
    "%run /home/ubuntu/work/therapeutic_accelerator/scripts/base.py"
   ]
  },
  {
   "cell_type": "code",
   "execution_count": 29,
   "metadata": {},
   "outputs": [],
   "source": [
    "from sqlalchemy import MetaData, text\n",
    "import pandas as pd"
   ]
  },
  {
   "cell_type": "code",
   "execution_count": 30,
   "metadata": {},
   "outputs": [],
   "source": [
    "# create function to submit query to database with sqlalchemy\n",
    "def query_db(query):\n",
    "    with engine.connect() as con:\n",
    "        rs = con.execute(text(query))\n",
    "        return rs"
   ]
  },
  {
   "cell_type": "code",
   "execution_count": 4,
   "metadata": {},
   "outputs": [],
   "source": [
    "index_sql = '''\n",
    "    CREATE INDEX idx_attr_corpusid \n",
    "    ON attributes(corpusid);\n",
    "'''\n",
    "\n",
    "query_db(index_sql)"
   ]
  },
  {
   "cell_type": "code",
   "execution_count": 6,
   "metadata": {},
   "outputs": [],
   "source": [
    "# get metadata for table in postgresql database\n",
    "def get_metadata(table_name):\n",
    "    metadata = MetaData()\n",
    "    metadata.reflect(engine)\n",
    "    table = metadata.tables[table_name]\n",
    "    return table"
   ]
  },
  {
   "cell_type": "code",
   "execution_count": 8,
   "metadata": {},
   "outputs": [],
   "source": [
    "# display metadata for table in postgresql database as json\n",
    "def display_metadata(table_name):\n",
    "    table = get_metadata(table_name)\n",
    "    return table.columns.keys()"
   ]
  },
  {
   "cell_type": "code",
   "execution_count": 9,
   "metadata": {},
   "outputs": [
    {
     "data": {
      "text/plain": [
       "['index',\n",
       " 'corpusid',\n",
       " 'externalids',\n",
       " 'url',\n",
       " 'title',\n",
       " 'authors',\n",
       " 'venue',\n",
       " 'publicationvenueid',\n",
       " 'year',\n",
       " 'referencecount',\n",
       " 'citationcount',\n",
       " 'influentialcitationcount',\n",
       " 'isopenaccess',\n",
       " 's2fieldsofstudy',\n",
       " 'publicationtypes',\n",
       " 'publicationdate',\n",
       " 'journal',\n",
       " 'updated',\n",
       " 'id']"
      ]
     },
     "execution_count": 9,
     "metadata": {},
     "output_type": "execute_result"
    }
   ],
   "source": [
    "display_metadata('attributes')"
   ]
  },
  {
   "cell_type": "code",
   "execution_count": 10,
   "metadata": {},
   "outputs": [],
   "source": [
    "res = get_metadata('attributes')"
   ]
  },
  {
   "cell_type": "code",
   "execution_count": 13,
   "metadata": {},
   "outputs": [
    {
     "data": {
      "text/plain": [
       "dict_keys(['attributes', 'authors', 'fulltext', 'abstracts', 'abstracts_encodings'])"
      ]
     },
     "execution_count": 13,
     "metadata": {},
     "output_type": "execute_result"
    }
   ],
   "source": [
    "# get all table names in postgresql database\n",
    "def get_table_names():\n",
    "    metadata = MetaData()\n",
    "    metadata.reflect(engine)\n",
    "    return metadata.tables.keys()\n",
    "\n",
    "get_table_names()"
   ]
  },
  {
   "cell_type": "code",
   "execution_count": 14,
   "metadata": {},
   "outputs": [],
   "source": [
    "# get all column names for all tables in postgresql database\n",
    "def get_column_names():\n",
    "    metadata = MetaData()\n",
    "    metadata.reflect(engine)\n",
    "    return metadata.tables"
   ]
  },
  {
   "cell_type": "code",
   "execution_count": 17,
   "metadata": {},
   "outputs": [
    {
     "name": "stdout",
     "output_type": "stream",
     "text": [
      "attributes\n",
      "['index', 'corpusid', 'externalids', 'url', 'title', 'authors', 'venue', 'publicationvenueid', 'year', 'referencecount', 'citationcount', 'influentialcitationcount', 'isopenaccess', 's2fieldsofstudy', 'publicationtypes', 'publicationdate', 'journal', 'updated', 'id']\n",
      "authors\n",
      "['authorId', 'name']\n",
      "fulltext\n",
      "['empty', 'Unnamed: 0', 'corpusid', 'text', 'source.pdfurls', 'source.pdfsha', 'source.oainfo', 'annotations.abstract', 'annotations.author', 'annotations.authoraffiliation', 'annotations.authorfirstname', 'annotations.authorlastname', 'annotations.bibauthor', 'annotations.bibauthorfirstname', 'annotations.bibauthorlastname', 'annotations.bibentry', 'annotations.bibref', 'annotations.bibtitle', 'annotations.bibvenue', 'annotations.figure', 'annotations.figurecaption', 'annotations.figureref', 'annotations.formula', 'annotations.paragraph', 'annotations.publisher', 'annotations.sectionheader', 'annotations.table', 'annotations.tableref', 'annotations.title', 'annotations.venue', 'source.oainfo.license', 'source.oainfo.openaccessurl', 'source.oainfo.status', 'id']\n",
      "abstracts\n",
      "['id', 'index', 'paperId', 'corpusId', 'abstract']\n",
      "abstracts_encodings\n",
      "['paperId', 'corpusId', 'abstract', 'input_ids', 'attention_mask']\n"
     ]
    }
   ],
   "source": [
    "for k in get_column_names().keys():\n",
    "    print(k)\n",
    "    print(get_column_names()[k].columns.keys())"
   ]
  },
  {
   "cell_type": "code",
   "execution_count": 19,
   "metadata": {},
   "outputs": [],
   "source": [
    "# Create index column based on corpus id for tables in postgresql database\n",
    "index_sql = '''\n",
    "    CREATE INDEX idx_absend_corpusid \n",
    "    ON abstracts_encodings(\"corpusId\");\n",
    "    \n",
    "    CREATE INDEX idx_fulltext_corpusid \n",
    "    ON fulltext(corpusid);\n",
    "'''\n",
    "\n",
    "query_db(index_sql)"
   ]
  },
  {
   "cell_type": "code",
   "execution_count": 20,
   "metadata": {},
   "outputs": [],
   "source": [
    "# drop empty columns from postgresql database tables\n",
    "def drop_empty_columns(table_name):\n",
    "    table = get_metadata(table_name)\n",
    "    for c in table.columns:\n",
    "        if table.count().loc[c.name] == 0:\n",
    "            query = f'ALTER TABLE {table_name} DROP COLUMN {c.name}'\n",
    "            query_db(query)\n",
    "            print(f'Dropped column {c.name} from table {table_name}')"
   ]
  },
  {
   "cell_type": "code",
   "execution_count": 40,
   "metadata": {},
   "outputs": [],
   "source": [
    "# drop row from postgresql database table if column value is null\n",
    "def drop_null_rows(table_name, column_name):\n",
    "    table = get_metadata(table_name)\n",
    "    query = f'DELETE FROM {table_name} WHERE {column_name} IS NULL'\n",
    "    query_db(query)\n",
    "    print(f'Dropped null rows from table {table_name}')"
   ]
  },
  {
   "cell_type": "code",
   "execution_count": 41,
   "metadata": {},
   "outputs": [
    {
     "name": "stdout",
     "output_type": "stream",
     "text": [
      "Dropped null rows from table abstracts\n"
     ]
    }
   ],
   "source": [
    "drop_null_rows('abstracts', 'abstract')"
   ]
  },
  {
   "cell_type": "code",
   "execution_count": 42,
   "metadata": {},
   "outputs": [
    {
     "data": {
      "text/html": [
       "<div>\n",
       "<style scoped>\n",
       "    .dataframe tbody tr th:only-of-type {\n",
       "        vertical-align: middle;\n",
       "    }\n",
       "\n",
       "    .dataframe tbody tr th {\n",
       "        vertical-align: top;\n",
       "    }\n",
       "\n",
       "    .dataframe thead th {\n",
       "        text-align: right;\n",
       "    }\n",
       "</style>\n",
       "<table border=\"1\" class=\"dataframe\">\n",
       "  <thead>\n",
       "    <tr style=\"text-align: right;\">\n",
       "      <th></th>\n",
       "      <th>id</th>\n",
       "      <th>index</th>\n",
       "      <th>paperId</th>\n",
       "      <th>corpusId</th>\n",
       "      <th>abstract</th>\n",
       "    </tr>\n",
       "  </thead>\n",
       "  <tbody>\n",
       "  </tbody>\n",
       "</table>\n",
       "</div>"
      ],
      "text/plain": [
       "Empty DataFrame\n",
       "Columns: [id, index, paperId, corpusId, abstract]\n",
       "Index: []"
      ]
     },
     "execution_count": 42,
     "metadata": {},
     "output_type": "execute_result"
    }
   ],
   "source": [
    "table_name = 'abstracts'\n",
    "column_name = 'abstract'\n",
    "null_sql = f''' SELECT * FROM {table_name} WHERE {column_name} IS NULL OR {column_name} = ' ';'''\n",
    "\n",
    "def query_to_df(query):\n",
    "    return pd.read_sql(query, engine)\n",
    "\n",
    "query_to_df(null_sql)"
   ]
  },
  {
   "cell_type": "code",
   "execution_count": 44,
   "metadata": {},
   "outputs": [],
   "source": [
    "abstract_sql = f''' SELECT * FROM {table_name};'''\n",
    "\n",
    "abstract_df = query_to_df(abstract_sql)"
   ]
  },
  {
   "cell_type": "code",
   "execution_count": 50,
   "metadata": {},
   "outputs": [
    {
     "name": "stdout",
     "output_type": "stream",
     "text": [
      "attributes\n",
      "['index', 'corpusid', 'externalids', 'url', 'title', 'authors', 'venue', 'publicationvenueid', 'year', 'referencecount', 'citationcount', 'influentialcitationcount', 'isopenaccess', 's2fieldsofstudy', 'publicationtypes', 'publicationdate', 'journal', 'updated', 'id']\n",
      "authors\n",
      "['authorId', 'name']\n",
      "fulltext\n",
      "['empty', 'Unnamed: 0', 'corpusid', 'text', 'source.pdfurls', 'source.pdfsha', 'source.oainfo', 'annotations.abstract', 'annotations.author', 'annotations.authoraffiliation', 'annotations.authorfirstname', 'annotations.authorlastname', 'annotations.bibauthor', 'annotations.bibauthorfirstname', 'annotations.bibauthorlastname', 'annotations.bibentry', 'annotations.bibref', 'annotations.bibtitle', 'annotations.bibvenue', 'annotations.figure', 'annotations.figurecaption', 'annotations.figureref', 'annotations.formula', 'annotations.paragraph', 'annotations.publisher', 'annotations.sectionheader', 'annotations.table', 'annotations.tableref', 'annotations.title', 'annotations.venue', 'source.oainfo.license', 'source.oainfo.openaccessurl', 'source.oainfo.status', 'id']\n",
      "abstracts\n",
      "['id', 'index', 'paperId', 'corpusId', 'abstract']\n",
      "abstracts_encodings\n",
      "['paperId', 'corpusId', 'abstract', 'input_ids', 'attention_mask']\n"
     ]
    }
   ],
   "source": [
    "for k in get_column_names().keys():\n",
    "    print(k)\n",
    "    print(get_column_names()[k].columns.keys())"
   ]
  },
  {
   "cell_type": "code",
   "execution_count": 54,
   "metadata": {},
   "outputs": [
    {
     "data": {
      "text/html": [
       "<div>\n",
       "<style scoped>\n",
       "    .dataframe tbody tr th:only-of-type {\n",
       "        vertical-align: middle;\n",
       "    }\n",
       "\n",
       "    .dataframe tbody tr th {\n",
       "        vertical-align: top;\n",
       "    }\n",
       "\n",
       "    .dataframe thead th {\n",
       "        text-align: right;\n",
       "    }\n",
       "</style>\n",
       "<table border=\"1\" class=\"dataframe\">\n",
       "  <thead>\n",
       "    <tr style=\"text-align: right;\">\n",
       "      <th></th>\n",
       "      <th>empty</th>\n",
       "      <th>Unnamed: 0</th>\n",
       "      <th>corpusid</th>\n",
       "      <th>text</th>\n",
       "      <th>source.pdfurls</th>\n",
       "      <th>source.pdfsha</th>\n",
       "      <th>source.oainfo</th>\n",
       "      <th>annotations.abstract</th>\n",
       "      <th>annotations.author</th>\n",
       "      <th>annotations.authoraffiliation</th>\n",
       "      <th>...</th>\n",
       "      <th>annotations.publisher</th>\n",
       "      <th>annotations.sectionheader</th>\n",
       "      <th>annotations.table</th>\n",
       "      <th>annotations.tableref</th>\n",
       "      <th>annotations.title</th>\n",
       "      <th>annotations.venue</th>\n",
       "      <th>source.oainfo.license</th>\n",
       "      <th>source.oainfo.openaccessurl</th>\n",
       "      <th>source.oainfo.status</th>\n",
       "      <th>id</th>\n",
       "    </tr>\n",
       "  </thead>\n",
       "  <tbody>\n",
       "  </tbody>\n",
       "</table>\n",
       "<p>0 rows × 34 columns</p>\n",
       "</div>"
      ],
      "text/plain": [
       "Empty DataFrame\n",
       "Columns: [empty, Unnamed: 0, corpusid, text, source.pdfurls, source.pdfsha, source.oainfo, annotations.abstract, annotations.author, annotations.authoraffiliation, annotations.authorfirstname, annotations.authorlastname, annotations.bibauthor, annotations.bibauthorfirstname, annotations.bibauthorlastname, annotations.bibentry, annotations.bibref, annotations.bibtitle, annotations.bibvenue, annotations.figure, annotations.figurecaption, annotations.figureref, annotations.formula, annotations.paragraph, annotations.publisher, annotations.sectionheader, annotations.table, annotations.tableref, annotations.title, annotations.venue, source.oainfo.license, source.oainfo.openaccessurl, source.oainfo.status, id]\n",
       "Index: []\n",
       "\n",
       "[0 rows x 34 columns]"
      ]
     },
     "execution_count": 54,
     "metadata": {},
     "output_type": "execute_result"
    }
   ],
   "source": [
    "table_name = 'fulltext'\n",
    "column_name = 'Unnamed: 0'\n",
    "null_sql = f''' SELECT * FROM {table_name} WHERE \"{column_name}\" IS NULL OR \"{column_name}\" = ' ';'''\n",
    "\n",
    "query_to_df(null_sql)"
   ]
  },
  {
   "cell_type": "code",
   "execution_count": 52,
   "metadata": {},
   "outputs": [
    {
     "name": "stdout",
     "output_type": "stream",
     "text": [
      "Dropped null rows from table fulltext\n"
     ]
    }
   ],
   "source": [
    "drop_null_rows('fulltext', 'empty')"
   ]
  },
  {
   "cell_type": "code",
   "execution_count": 58,
   "metadata": {},
   "outputs": [],
   "source": [
    "# get count of all null values in postgresql database table from column\n",
    "def get_null_count(table_name, column_name):\n",
    "    table = get_metadata(table_name)\n",
    "    query = f'SELECT COUNT(*) FROM {table_name} WHERE \"{column_name}\" IS NULL'\n",
    "    return query_db(query).fetchone()[0]"
   ]
  },
  {
   "cell_type": "code",
   "execution_count": 59,
   "metadata": {},
   "outputs": [
    {
     "name": "stdout",
     "output_type": "stream",
     "text": [
      "attributes\n",
      "\t index 0\n",
      "\t corpusid 0\n",
      "\t externalids 0\n",
      "\t url 0\n",
      "\t title 0\n",
      "\t authors 0\n",
      "\t venue 209481\n",
      "\t publicationvenueid 233902\n",
      "\t year 77\n",
      "\t referencecount 0\n",
      "\t citationcount 0\n",
      "\t influentialcitationcount 0\n",
      "\t isopenaccess 0\n",
      "\t s2fieldsofstudy 0\n",
      "\t publicationtypes 212494\n",
      "\t publicationdate 71461\n",
      "\t journal 291\n",
      "\t updated 0\n",
      "\t id 0\n",
      "--------------------------------------------------\n",
      "authors\n",
      "\t authorId 20650\n",
      "\t name 0\n",
      "--------------------------------------------------\n",
      "fulltext\n",
      "\t empty 0\n",
      "\t Unnamed: 0 0\n",
      "\t corpusid 0\n",
      "\t text 1367\n",
      "\t source.pdfurls 148681\n",
      "\t source.pdfsha 1367\n",
      "\t source.oainfo 158844\n",
      "\t annotations.abstract 27060\n",
      "\t annotations.author 6665\n",
      "\t annotations.authoraffiliation 41333\n",
      "\t annotations.authorfirstname 13712\n",
      "\t annotations.authorlastname 13680\n",
      "\t annotations.bibauthor 7642\n",
      "\t annotations.bibauthorfirstname 7787\n",
      "\t annotations.bibauthorlastname 7712\n",
      "\t annotations.bibentry 7243\n",
      "\t annotations.bibref 7419\n",
      "\t annotations.bibtitle 9658\n",
      "\t annotations.bibvenue 7296\n",
      "\t annotations.figure 8401\n",
      "\t annotations.figurecaption 8520\n",
      "\t annotations.figureref 31944\n",
      "\t annotations.formula 132796\n",
      "\t annotations.paragraph 3603\n",
      "\t annotations.publisher 156354\n",
      "\t annotations.sectionheader 4384\n",
      "\t annotations.table 44838\n",
      "\t annotations.tableref 45453\n",
      "\t annotations.title 14194\n",
      "\t annotations.venue 108871\n",
      "\t source.oainfo.license 11622\n",
      "\t source.oainfo.openaccessurl 7473\n",
      "\t source.oainfo.status 7218\n",
      "\t id 0\n",
      "--------------------------------------------------\n",
      "abstracts\n",
      "\t id 0\n",
      "\t index 454618\n",
      "\t paperId 0\n",
      "\t corpusId 0\n",
      "\t abstract 0\n",
      "--------------------------------------------------\n",
      "abstracts_encodings\n",
      "\t paperId 0\n",
      "\t corpusId 0\n",
      "\t abstract 1\n",
      "\t input_ids 0\n",
      "\t attention_mask 0\n",
      "--------------------------------------------------\n"
     ]
    }
   ],
   "source": [
    "for k in get_column_names().keys():\n",
    "    print(k)\n",
    "    for c in get_column_names()[k].columns.keys(): \n",
    "        print(\"\\t\", c, get_null_count(k, c))\n",
    "    print(\"-\" * 50)"
   ]
  },
  {
   "cell_type": "code",
   "execution_count": 60,
   "metadata": {},
   "outputs": [],
   "source": [
    "# drop column from postgresql database table\n",
    "def drop_column(table_name, column_name):\n",
    "    table = get_metadata(table_name)\n",
    "    query = f'ALTER TABLE {table_name} DROP COLUMN {column_name}'\n",
    "    query_db(query)\n",
    "    print(f'Dropped column {column_name} from table {table_name}')"
   ]
  },
  {
   "cell_type": "code",
   "execution_count": 61,
   "metadata": {},
   "outputs": [
    {
     "name": "stdout",
     "output_type": "stream",
     "text": [
      "Dropped column index from table abstracts\n"
     ]
    }
   ],
   "source": [
    "drop_column('abstracts', 'index')"
   ]
  }
 ],
 "metadata": {
  "kernelspec": {
   "display_name": "chroma",
   "language": "python",
   "name": "python3"
  },
  "language_info": {
   "codemirror_mode": {
    "name": "ipython",
    "version": 3
   },
   "file_extension": ".py",
   "mimetype": "text/x-python",
   "name": "python",
   "nbconvert_exporter": "python",
   "pygments_lexer": "ipython3",
   "version": "3.10.11"
  },
  "orig_nbformat": 4
 },
 "nbformat": 4,
 "nbformat_minor": 2
}
