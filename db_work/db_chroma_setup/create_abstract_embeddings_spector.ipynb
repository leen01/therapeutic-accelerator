{
 "cells": [
  {
   "cell_type": "code",
   "execution_count": 1,
   "metadata": {},
   "outputs": [],
   "source": [
    "import pandas as pd\n",
    "import numpy as np\n",
    "import dask\n",
    "import dask.dataframe as dd\n",
    "\n",
    "import logging\n",
    "\n",
    "import re\n",
    "\n",
    "# with open(\"/home/ubuntu/work/therapeutic_accelerator/scripts/base.py\") as f:\n",
    "#     exec(f.read())"
   ]
  },
  {
   "cell_type": "code",
   "execution_count": 24,
   "metadata": {},
   "outputs": [],
   "source": [
    "# Create embeddings function with specter model\n",
    "from transformers import AutoTokenizer, AutoModel\n",
    "\n",
    "tokenizer = AutoTokenizer.from_pretrained('allenai/specter')\n",
    "model = AutoModel.from_pretrained('allenai/specter')\n",
    "\n",
    "from chromadb.api.types import Documents, EmbeddingFunction, Embeddings\n",
    "\n",
    "class specter_ef(EmbeddingFunction):\n",
    "    def __init__(self, model, tokenizer):\n",
    "        self.model = model\n",
    "        self.tokenizer = tokenizer\n",
    "    \n",
    "    def embed_documents(self, texts: Documents) -> Embeddings:\n",
    "        \n",
    "        text_list = [re.sub(\"\\n\", \" \", p) for p in texts]\n",
    "        texts = [re.sub(\"\\s\\s+\", \" \", t) for t in text_list]\n",
    "        \n",
    "        # embed the documents somehow\n",
    "        embeddings = []\n",
    "        \n",
    "        for text in texts:\n",
    "            inputs = tokenizer(text, padding=True, truncation=True, return_tensors=\"pt\", max_length=512)\n",
    "            result = model(**inputs)\n",
    "            embeddings.append(result.last_hidden_state[:, 0, :])\n",
    "        \n",
    "        return embeddings\n",
    "    \n",
    "    \n",
    "specter_embeder = specter_ef(model, tokenizer)"
   ]
  },
  {
   "cell_type": "code",
   "execution_count": null,
   "metadata": {},
   "outputs": [],
   "source": [
    "# # Create dask cluster\n",
    "# dask.config.set(scheduler='processes')  # overwrite default with multiprocessing scheduler\n",
    "\n",
    "# cluster = distributed.LocalCluster(name='local', n_workers=7, memory_limit = '4GiB', threads_per_worker=4)  # Launches a scheduler and workers locally\n",
    "# client = distributed.client._get_global_client() or distributed.Client(cluster)\n",
    "\n",
    "# client"
   ]
  },
  {
   "cell_type": "code",
   "execution_count": 4,
   "metadata": {},
   "outputs": [],
   "source": [
    "from langchain.text_splitter import CharacterTextSplitter\n",
    "# import tiktoken\n",
    "\n",
    "# @dask.delayed\n",
    "def token_len(text): \n",
    "    \"\"\" Get the length of tokens from text\"\"\"\n",
    "    tokens = tokenizer(text, padding=True, truncation=True, return_tensors=\"pt\", max_length=512)['input_ids'][0]\n",
    "    return len(tokens)\n",
    "    \n",
    "chunk_size = 2000\n",
    "\n",
    "# create text splitters for processing the texts\n",
    "text_splitter = CharacterTextSplitter(\n",
    "    separator = \"\\n\\n\",\n",
    "    chunk_size = chunk_size,\n",
    "    chunk_overlap  = 20,\n",
    "    length_function = token_len\n",
    ")"
   ]
  },
  {
   "cell_type": "code",
   "execution_count": 5,
   "metadata": {},
   "outputs": [
    {
     "name": "stdout",
     "output_type": "stream",
     "text": [
      "Nanosecond heartbeat on server 1689387218119775774000\n"
     ]
    },
    {
     "data": {
      "text/plain": [
       "[Collection(name=langchain_store),\n",
       " Collection(name=abstracts),\n",
       " Collection(name=fulltext),\n",
       " Collection(name=specter_abstracts)]"
      ]
     },
     "execution_count": 5,
     "metadata": {},
     "output_type": "execute_result"
    }
   ],
   "source": [
    "import chromadb\n",
    "from chromadb.config import Settings\n",
    "\n",
    "# Create chroma client\n",
    "chroma = chromadb.Client(Settings(chroma_api_impl=\"rest\",\n",
    "                                  chroma_server_host=\"54.210.84.192\", # EC2 instance public IPv4\n",
    "                                  chroma_server_http_port=8000))\n",
    "\n",
    "print(\"Nanosecond heartbeat on server\", chroma.heartbeat()) # returns a nanosecond heartbeat. Useful for making sure the client remains connected.\n",
    "\n",
    "# Check Existing connections\n",
    "chroma.list_collections()"
   ]
  },
  {
   "cell_type": "code",
   "execution_count": 6,
   "metadata": {},
   "outputs": [],
   "source": [
    "collection = chroma.get_or_create_collection(\"specter_abstracts\", embedding_function=specter_ef(model, tokenizer))"
   ]
  },
  {
   "cell_type": "code",
   "execution_count": 7,
   "metadata": {},
   "outputs": [],
   "source": [
    "def create_doc(splited_text, corpusid):\n",
    "    \"\"\" Create documents for each chunk \"\"\"\n",
    "        \n",
    "    try:\n",
    "        docs = {\n",
    "            \"documents\": splited_text, # list of all documents [doc1, doc2, doc3, ...]\n",
    "            'ids': [f'{corpusid}-{i}' for i in range(len(splited_text))], # list of all ids [id1, id2, id3, ...]\n",
    "            'metadatas': [{'corpusid': int(corpusid), 'chunk': i} for i in range(len(splited_text))] # list of dictionaries with metadata for each document\n",
    "        }\n",
    "        return docs\n",
    "\n",
    "    except Exception as e:\n",
    "        logging.error(e)"
   ]
  },
  {
   "cell_type": "code",
   "execution_count": 8,
   "metadata": {},
   "outputs": [],
   "source": [
    "def add_to_collection(docs, collection):\n",
    "    \"\"\" Add documents to collection \"\"\"\n",
    "    \n",
    "    try:\n",
    "        collection.add(**docs)\n",
    "        return True\n",
    "    \n",
    "    except Exception as e:\n",
    "        logging.error(e)\n",
    "        return False"
   ]
  },
  {
   "cell_type": "code",
   "execution_count": 10,
   "metadata": {},
   "outputs": [],
   "source": [
    "def split_text(row):\n",
    "    \"\"\" Split text into chunks \"\"\"\n",
    "    return text_splitter.split_text(row['abstract'])"
   ]
  },
  {
   "cell_type": "code",
   "execution_count": 31,
   "metadata": {},
   "outputs": [
    {
     "data": {
      "text/plain": [
       "['Constitutive JAK/STAT3 signaling contributes to disease progression in many lymphoproliferative disorders. Recent genetic analyses have revealed gain-of-function STAT3 mutations in lymphoid cancers leading to hyperactivation of STAT3, which may represent a potential therapeutic target. Using a functional reporter assay, we screened 306 compounds with selective activity against various target molecules to identify drugs capable of inhibiting the cellular activity of STAT3. Top hits were further validated with additional models including STAT3-mutated natural killer (NK)-cell leukemia/lymphoma cell lines and primary large granular lymphocytic (LGL) leukemia cells to assess their ability to inhibit STAT3 phosphorylation and STAT3 dependent cell viability. We identified JAK, mTOR, Hsp90 and CDK inhibitors as potent inhibitors of both WT and mutant STAT3 activity. The Hsp90 inhibitor luminespib was highly effective at reducing the viability of mutant STAT3 NK cell lines and LGL leukemia patient samples. Luminespib decreased the phosphorylation of mutant STAT3 at Y705, whereas JAK1/JAK2 inhibitor ruxolitinib had reduced efficacy on mutant STAT3 phosphorylation. Additionally, combinations involving Hsp90, JAK and mTOR inhibitors were more effective at reducing cell viability than single agents. Our findings show alternative approaches to inhibit STAT3 activity and suggest Hsp90 as a therapeutic target in lymphoproliferative disorders with constitutively active STAT3.']"
      ]
     },
     "execution_count": 31,
     "metadata": {},
     "output_type": "execute_result"
    }
   ],
   "source": [
    "docs['documents']"
   ]
  },
  {
   "cell_type": "code",
   "execution_count": 32,
   "metadata": {},
   "outputs": [
    {
     "data": {
      "text/plain": [
       "[tensor([[ 3.4218e-01,  6.8138e-02,  5.3174e-02, -4.8539e-01,  6.4126e-01,\n",
       "           8.8838e-01,  5.6956e-01,  3.4740e-01,  8.1531e-01,  1.0447e+00,\n",
       "          -1.1157e+00,  6.9248e-02, -1.5451e-01,  5.6292e-01, -3.9001e-01,\n",
       "          -2.5722e-01, -1.7069e-01,  2.7875e-01,  6.7626e-01, -2.1069e-01,\n",
       "          -1.5390e+00,  5.4673e-01,  7.2121e-01,  1.4600e+00, -3.4173e-01,\n",
       "          -3.2670e-01,  1.2596e-01, -2.8560e-01,  2.8500e-01, -1.3940e-01,\n",
       "          -7.2112e-01,  1.5694e+00, -1.0804e-01,  6.3248e-01, -1.7919e+00,\n",
       "           6.2874e-01, -2.5977e-01,  1.1278e+00,  8.9014e-01,  3.8433e-01,\n",
       "          -1.4571e-02, -1.8413e-01, -2.5524e-01, -3.3604e-01, -1.3239e-01,\n",
       "          -3.4614e-01, -2.9149e-01, -2.0888e-02,  6.4878e-02,  7.6201e-01,\n",
       "           2.4094e-01,  5.6828e-01, -2.1536e-01, -2.5431e-01, -3.8628e-02,\n",
       "           5.6838e-01, -5.0036e-02, -6.8892e-01, -7.2793e-02, -1.1216e-01,\n",
       "           8.6185e-01,  6.2680e-01, -1.8049e-02,  8.4125e-01,  1.2957e+00,\n",
       "           1.6533e-01,  1.3217e+00, -5.6094e-01,  7.9096e-01, -2.3318e-01,\n",
       "           2.0779e-01, -6.8633e-01,  4.8918e-01, -6.1735e-01, -8.5243e-01,\n",
       "          -1.8203e-01, -2.1729e-01, -3.0602e-01, -3.7436e-01, -5.7334e-02,\n",
       "           1.1060e+00,  7.6190e-02,  4.4381e-01, -4.2685e-01, -2.2572e-01,\n",
       "          -9.4279e-01, -1.8547e-01, -1.6387e+00,  4.6989e-01, -8.3795e-01,\n",
       "          -1.6304e-01,  7.5070e-01,  9.0210e-01, -3.2941e-01, -1.2086e+00,\n",
       "          -2.4765e-01,  4.9451e-02,  4.9910e-01, -9.0534e-02,  1.4731e-01,\n",
       "           3.7683e-01, -1.0249e+00,  1.3408e+00, -7.3645e-01,  3.0210e-01,\n",
       "           1.2976e+00,  7.3761e-01, -2.6554e-01, -4.4031e-02,  8.2106e-01,\n",
       "          -3.8933e-01,  5.0610e-01,  2.3031e-01,  1.2251e+00, -5.1253e-01,\n",
       "          -4.5090e-01,  1.6709e-01,  1.8473e-01, -9.9540e-01, -6.9691e-01,\n",
       "          -9.9519e-02, -3.3157e-01,  2.5511e-01,  6.4346e-01,  1.2221e+00,\n",
       "          -8.3039e-01,  7.0922e-01, -6.5122e-02, -5.9333e-01, -1.6657e-01,\n",
       "           2.0077e+00, -3.4598e-02,  1.0641e+00,  7.0109e-01,  2.5560e+00,\n",
       "          -7.1704e-01,  8.4219e-01,  1.0039e-02, -3.6474e-01, -4.4318e-01,\n",
       "           9.1271e-01, -4.5245e-01,  1.2252e+00, -9.1256e-02, -1.3801e+00,\n",
       "          -6.0783e-01, -7.1792e-01,  9.8415e-01, -4.4355e-01, -1.0255e-01,\n",
       "          -9.1747e-01,  7.8486e-01,  3.6260e-01, -7.5457e-01,  7.0052e-02,\n",
       "           6.2157e-01, -5.2556e-01,  2.6699e-01, -1.1086e-01,  1.7826e-02,\n",
       "           4.4120e-01, -2.0286e-01,  8.9562e-01, -4.9534e-01,  6.9228e-01,\n",
       "           6.4553e-02,  9.2905e-01, -1.3194e-01, -1.8389e+00, -8.6679e-01,\n",
       "          -7.3469e-01,  8.9101e-01, -6.0848e-01,  5.8360e-01, -2.6004e-01,\n",
       "          -1.0482e+00,  1.4363e+00,  6.8251e-01,  3.0055e-01,  5.5305e-01,\n",
       "          -8.0572e-01,  2.2228e-01, -2.1402e-01,  7.4662e-02,  1.6197e-01,\n",
       "           5.6348e-01, -6.6058e-01, -1.2661e+00, -1.2816e+00,  2.7586e-01,\n",
       "          -7.5835e-03,  1.2662e-01,  3.4803e-01,  2.1262e-01,  3.3004e-01,\n",
       "          -6.4193e-01,  7.5160e-01, -9.9985e-01, -1.0963e-01,  1.5209e-01,\n",
       "          -9.4622e-02,  7.0102e-01, -2.8706e-01,  1.3922e-01, -1.0154e-01,\n",
       "          -1.0230e+00,  4.9295e-01, -5.9661e-01,  1.2211e+00, -1.3334e-01,\n",
       "          -6.3113e-01,  8.0796e-01, -2.1722e-01,  2.2532e-01,  2.6606e-01,\n",
       "          -5.7847e-01, -6.4694e-01, -1.3049e-01, -1.1661e+00, -9.1211e-01,\n",
       "           3.0129e-01, -8.7645e-01, -1.0511e-01,  1.0585e+00,  6.6847e-01,\n",
       "          -1.9264e-01,  1.1725e-01, -1.7031e+00, -9.4634e-02, -1.9523e-01,\n",
       "           6.3634e-01, -3.0624e-01,  7.4560e-01,  1.3565e+00, -8.0679e-01,\n",
       "           4.3580e-01,  4.7980e-01, -6.5691e-01, -5.9748e-01,  6.5191e-01,\n",
       "           8.0720e-01, -2.1829e-01, -6.2487e-01,  6.1611e-01, -2.5345e-02,\n",
       "           3.9399e-01, -5.9277e-01, -8.5749e-02,  9.1482e-01, -4.6420e-01,\n",
       "           5.6491e-02,  1.0217e+00,  9.3730e-02,  6.5323e-01, -9.3591e-01,\n",
       "           2.1123e-01,  3.6825e-01, -3.5662e-01, -4.8160e-01, -6.1270e-01,\n",
       "          -4.7010e-01,  1.8820e-01, -9.4361e-01, -6.8874e-01, -4.6055e-01,\n",
       "          -2.4546e-01,  7.8649e-02, -1.4743e-03,  5.2399e-01, -1.6002e+00,\n",
       "           2.3588e-01, -5.1044e-01, -1.0252e+00,  7.2804e-01, -1.3985e+00,\n",
       "          -8.4609e-01, -9.6988e-01,  1.4141e+00,  7.4419e-01,  1.2977e-01,\n",
       "          -9.5066e-02, -8.9592e-01,  1.4590e+00,  4.4093e-01,  1.8835e-02,\n",
       "          -6.5079e-02, -1.7607e-01, -8.2699e-01, -1.2326e-02, -3.5688e-01,\n",
       "           4.5454e-01,  1.1723e+00,  7.4105e-01,  6.6571e-01,  4.2678e-02,\n",
       "           2.5073e-02, -3.7912e-01,  4.8164e-01, -6.1296e-01, -8.4792e-01,\n",
       "           6.8915e-01, -9.5609e-01,  2.6611e-01, -8.3294e-01, -5.5214e-01,\n",
       "          -1.1115e-01,  3.5433e-01, -5.3955e-01,  1.3201e+00,  1.7872e-01,\n",
       "          -8.8406e-02,  9.5892e-01, -7.5283e-01, -8.3819e-01, -9.7637e-01,\n",
       "          -3.9638e-01,  7.1307e-02, -3.4909e-01,  3.5131e-01, -3.7719e-01,\n",
       "           4.8224e-01,  2.2047e-01, -9.9444e-01,  9.6755e-02, -4.3267e-01,\n",
       "          -7.9416e-04,  4.7871e-02, -1.1048e-01, -1.5200e+00,  1.1788e+00,\n",
       "           1.2945e-01,  4.5828e-02, -8.9806e-01, -1.9582e+00, -4.8691e-01,\n",
       "           5.7580e-01, -5.5896e-02,  1.0443e+00, -7.1477e-02,  2.0834e-01,\n",
       "           2.4336e-01, -1.6244e-01, -2.0931e-01,  5.2368e-01, -1.7447e-01,\n",
       "          -5.3483e-01, -7.4115e-02, -8.5291e-03,  5.4923e-02,  5.9522e-01,\n",
       "          -1.9725e-01,  6.0164e-01,  9.2405e-01, -3.8006e-01, -1.1546e+00,\n",
       "          -5.5445e-01,  7.1210e-01,  5.6227e-01,  4.9901e-01, -2.1997e-01,\n",
       "           7.2446e-01, -8.2853e-01,  9.0946e-01, -9.8178e-02,  3.1653e-01,\n",
       "          -9.2907e-01, -5.3988e-01, -3.6496e-01, -3.0365e-01,  4.4579e-01,\n",
       "          -6.5065e-01, -3.3257e-01, -1.6550e-01,  2.6198e-01,  4.2590e-02,\n",
       "          -1.2542e+00, -5.5100e-01,  4.0827e-01, -4.6216e-01, -9.5881e-01,\n",
       "          -7.5299e-01, -8.8503e-01, -1.1821e+00, -5.6589e-01, -1.7817e-01,\n",
       "          -1.4101e+00, -3.5301e-01,  2.5973e-01,  1.0504e+00,  5.1638e-01,\n",
       "          -3.2423e-01,  1.3658e-01, -7.7973e-01, -2.4225e+00,  5.0886e-01,\n",
       "          -1.8151e-01, -7.8326e-01,  5.3862e-01,  1.4643e-01, -1.4028e+00,\n",
       "           1.1363e+00,  3.0526e-01, -7.4127e-01, -4.2050e-01, -1.5310e+00,\n",
       "          -1.8398e+00, -5.1440e-02, -4.7243e-01, -1.2069e+00, -4.3615e-01,\n",
       "           8.7220e-02, -5.7234e-01, -6.6592e-01,  3.6756e-01, -2.5205e-01,\n",
       "           5.5747e-01, -5.9950e-01,  2.2633e-01, -1.3478e-01, -1.3244e-01,\n",
       "           5.3758e-01,  1.5787e+00,  6.9445e-01, -6.0602e-01,  1.1438e+00,\n",
       "           7.6256e-01,  2.3547e-01,  1.4213e+00, -2.0703e-01, -3.3719e-01,\n",
       "          -1.6014e-01, -1.2867e-01,  1.1599e+00, -2.2891e-01,  1.5307e-01,\n",
       "           6.2728e-01,  4.0331e-01,  1.6007e+00, -2.1123e-01,  1.9740e-01,\n",
       "          -6.3994e-01,  4.6452e-01,  9.5850e-01,  7.7953e-02, -4.0298e-01,\n",
       "           1.6703e+00, -7.4507e-01, -4.7419e-01, -1.0773e+00, -1.2223e+00,\n",
       "           8.7221e-01, -5.0145e-01, -1.0675e+00, -3.1322e-01, -1.1228e+01,\n",
       "           7.2158e-01,  9.1794e-03,  1.9603e-01, -1.0436e+00,  6.6910e-01,\n",
       "          -8.2740e-02, -7.2411e-01, -1.6213e-01, -7.7097e-02,  8.0609e-01,\n",
       "           1.3066e+00,  1.9393e+00, -1.2645e+00, -2.6492e-01, -8.7637e-01,\n",
       "           5.9858e-01, -4.7209e-01, -5.4312e-01, -6.5149e-01,  7.3905e-02,\n",
       "          -9.0081e-01,  5.4207e-01, -9.8398e-01,  7.0239e-01, -2.5247e-01,\n",
       "           1.8135e-01, -3.4756e-01,  1.7735e-01,  6.1845e-01,  2.8417e-01,\n",
       "           1.3353e+00, -8.0149e-01, -7.2455e-01, -8.7047e-01, -1.8000e-01,\n",
       "          -6.5837e-01, -7.2073e-01, -4.6023e-01, -8.8500e-01,  3.9336e-01,\n",
       "           1.6964e+00, -5.4812e-03, -6.7222e-01, -1.8617e-01, -1.0865e+00,\n",
       "           6.8697e-02,  5.8324e-02,  2.2110e-01, -1.4269e-02, -2.1445e-01,\n",
       "           2.2727e-01, -4.0408e-01,  3.6936e-03, -1.5170e-01,  4.2139e-01,\n",
       "          -8.6037e-01,  8.6950e-01, -1.3355e+00,  3.2471e-01,  3.6228e-01,\n",
       "          -9.0875e-01, -8.8637e-01,  1.0430e+00,  1.6179e-01, -4.3823e-02,\n",
       "          -4.0593e-01, -8.1566e-01, -4.3123e-01, -9.6974e-03,  1.4259e+00,\n",
       "           4.0850e-01,  1.2447e-01, -1.3620e-01, -1.0711e-01, -1.5737e-02,\n",
       "           2.1296e-01, -3.1330e-01,  8.9258e-01,  5.6446e-01, -1.5002e+00,\n",
       "           2.3409e-01, -1.7662e-01,  3.9242e-01, -5.0660e-01, -3.3053e-01,\n",
       "          -5.7277e-01, -5.4249e-01,  2.4044e-01,  2.8007e-01, -4.6128e-01,\n",
       "          -3.1391e-01, -4.1999e-01, -5.9002e-01, -4.8996e-01, -2.9029e-01,\n",
       "          -1.1019e+00,  7.8501e-01, -3.1252e-01,  4.6418e-01,  2.2599e-01,\n",
       "           3.4463e-01, -7.2246e-01, -4.3330e-01,  1.6459e+00, -2.9772e-01,\n",
       "          -4.1274e-01, -4.0761e-01, -4.6072e-01, -4.0928e-01, -2.3974e-02,\n",
       "           3.1986e-01,  2.9571e-01,  4.0841e-02, -1.3401e-01,  6.5425e-01,\n",
       "           8.3022e-01,  2.5763e-01, -4.3173e-01,  5.9117e-01,  9.8631e-03,\n",
       "           2.6931e-01,  7.3355e-01,  1.9897e-01, -1.0008e+00,  1.2817e+00,\n",
       "           4.9817e-01,  1.0734e-01,  2.1846e-01, -6.1540e-01,  1.3308e+00,\n",
       "          -2.2259e-01, -4.2225e-01, -1.5638e-01,  7.0411e-01, -2.9941e-01,\n",
       "           2.3361e-01,  8.0682e-01,  1.6884e-01, -8.1914e-01, -9.0971e-01,\n",
       "          -3.2136e-01, -9.4662e-01, -6.1023e-01, -1.3262e+00, -1.1227e-01,\n",
       "          -1.7591e+00, -4.7507e-02,  5.1066e-01,  6.1645e-02,  3.9630e-01,\n",
       "          -5.4232e-01,  1.2658e+00,  1.2883e-01, -2.9165e-01, -3.1862e-02,\n",
       "           7.8492e-02,  2.5475e-01, -1.6913e-01,  1.2221e+00, -5.1195e-02,\n",
       "           5.1715e-01,  7.8022e-02,  1.0477e+00,  6.5207e-01, -1.2071e-01,\n",
       "           6.8428e-01,  3.4217e-01, -9.0575e-02, -7.1307e-01,  6.8962e-01,\n",
       "           5.4757e-01, -1.3761e-01,  4.4038e-01,  1.9941e-01, -5.3223e-01,\n",
       "           7.4634e-01,  2.5032e-02, -9.8538e-01, -5.0088e-01, -6.4473e-01,\n",
       "           5.3016e-01,  1.1523e+00, -1.4672e+00, -1.0387e+00,  4.1390e-01,\n",
       "           4.4037e-02,  4.0051e-01, -6.1990e-01, -1.1532e+00, -7.0744e-01,\n",
       "          -1.6258e+00,  9.3309e-02,  5.6848e-01,  9.2543e-01, -7.8489e-01,\n",
       "           1.0367e+00, -3.0817e-01,  2.9409e-01, -6.2675e-01,  8.4643e-02,\n",
       "          -4.9304e-02, -2.2834e-01,  1.9639e-01, -7.9852e-01,  4.7620e-01,\n",
       "          -9.3232e-01, -2.6082e-02,  1.0072e+00,  1.0342e+00, -3.7786e-02,\n",
       "          -1.0690e+00,  1.0402e+00,  5.1331e-01, -9.7674e-01, -8.8980e-01,\n",
       "           8.2392e-01,  7.2796e-01, -1.8368e-01,  5.7939e-01,  1.7714e+00,\n",
       "           3.9184e-01, -8.8954e-02,  1.6772e-01,  8.3405e-01,  8.8687e-01,\n",
       "           1.1216e+00,  4.3180e-01, -1.9264e-01,  6.5430e-01, -1.0736e+00,\n",
       "           3.1849e-01, -1.7656e-01, -5.1059e-01, -1.2970e-01,  2.5376e-01,\n",
       "           3.8273e-01, -2.1680e-01, -2.9902e-01, -8.3958e-02, -1.0420e+00,\n",
       "           3.2556e-01, -1.6217e-01,  6.1698e-01,  9.6409e-01,  8.3539e-01,\n",
       "           1.3100e+00,  4.9932e-01, -2.7428e-01,  1.3452e+00, -2.2172e-01,\n",
       "           1.1855e+00,  3.5762e-01,  5.2073e-01,  1.0597e+00,  6.0022e-02,\n",
       "           6.2166e-02,  7.2610e-01,  1.6465e+00,  2.0764e+00,  6.3088e-01,\n",
       "          -2.1261e-01, -4.0887e-01,  7.1465e-01, -1.1368e-01, -3.2340e-01,\n",
       "           1.9989e-01,  2.1200e-01,  7.7451e-02, -1.7688e-01,  4.8910e-01,\n",
       "           7.3098e-01, -8.4964e-02, -7.1218e-01,  9.3336e-01, -5.3271e-01,\n",
       "          -1.1203e-01, -1.0738e+00,  7.7747e-02,  2.2312e-01,  1.6127e-01,\n",
       "           4.5493e-01, -8.3579e-01,  6.9315e-01,  1.2410e+00, -2.1812e-01,\n",
       "           4.3955e-01,  3.6974e-01, -1.7743e-01,  1.0109e+00,  3.5055e-01,\n",
       "           2.2067e-01, -6.5691e-01,  3.5287e-01, -8.0758e-01, -1.1956e-01,\n",
       "           8.5116e-01, -8.3889e-01, -2.3498e-01,  3.7855e-01,  1.3045e-01,\n",
       "          -3.5789e-01, -3.9459e-01,  3.1331e-01,  4.0868e-01,  1.2872e-01,\n",
       "           1.3745e+00,  1.0274e+00,  4.8056e-02,  1.4360e-01,  5.2096e-01,\n",
       "          -5.5882e-01, -4.2176e-02, -9.9626e-03]], grad_fn=<SliceBackward0>)]"
      ]
     },
     "execution_count": 32,
     "metadata": {},
     "output_type": "execute_result"
    }
   ],
   "source": [
    "specter_embeder.embed_documents(docs['documents'])"
   ]
  },
  {
   "cell_type": "code",
   "execution_count": 51,
   "metadata": {},
   "outputs": [],
   "source": [
    "def main(row, collection): \n",
    "    \"\"\" Main workflow \"\"\"\n",
    "    \n",
    "    splited_text = split_text(row)\n",
    "    \n",
    "    docs = create_doc(splited_text, row['corpusId'])\n",
    "    \n",
    "    docs['embeddings'] = specter_embeder.embed_documents(docs['documents'])[0][0].tolist()\n",
    "    \n",
    "    addition_results = add_to_collection(docs, collection)\n",
    "    \n",
    "    return docs"
   ]
  },
  {
   "cell_type": "code",
   "execution_count": 12,
   "metadata": {},
   "outputs": [],
   "source": [
    "abstracts = pd.read_csv(\"/home/ubuntu/work/data/abstracts.csv\")\n",
    "abstracts.shape"
   ]
  },
  {
   "cell_type": "code",
   "execution_count": 13,
   "metadata": {},
   "outputs": [
    {
     "data": {
      "text/html": [
       "<div>\n",
       "<style scoped>\n",
       "    .dataframe tbody tr th:only-of-type {\n",
       "        vertical-align: middle;\n",
       "    }\n",
       "\n",
       "    .dataframe tbody tr th {\n",
       "        vertical-align: top;\n",
       "    }\n",
       "\n",
       "    .dataframe thead th {\n",
       "        text-align: right;\n",
       "    }\n",
       "</style>\n",
       "<table border=\"1\" class=\"dataframe\">\n",
       "  <thead>\n",
       "    <tr style=\"text-align: right;\">\n",
       "      <th></th>\n",
       "      <th>id</th>\n",
       "      <th>paperId</th>\n",
       "      <th>corpusId</th>\n",
       "      <th>abstract</th>\n",
       "    </tr>\n",
       "  </thead>\n",
       "  <tbody>\n",
       "    <tr>\n",
       "      <th>0</th>\n",
       "      <td>1</td>\n",
       "      <td>6ec7c156b4173ad7ca0dbc654da9267474644a41</td>\n",
       "      <td>23708908</td>\n",
       "      <td>Constitutive JAK/STAT3 signaling contributes t...</td>\n",
       "    </tr>\n",
       "    <tr>\n",
       "      <th>1</th>\n",
       "      <td>2</td>\n",
       "      <td>c856627242a754d2d756b32843523e6d7a089148</td>\n",
       "      <td>13232625</td>\n",
       "      <td>Summary: The current work characterizes young ...</td>\n",
       "    </tr>\n",
       "    <tr>\n",
       "      <th>2</th>\n",
       "      <td>3</td>\n",
       "      <td>d4c9b2fa2b760b5cf90ce8635a7dede5b4cd58a2</td>\n",
       "      <td>73484844</td>\n",
       "      <td>Ionotropic glutamate receptors (iGluRs) mediat...</td>\n",
       "    </tr>\n",
       "    <tr>\n",
       "      <th>3</th>\n",
       "      <td>4</td>\n",
       "      <td>7f13abe2c82bf0c66ca423e905d8f5967c4517b1</td>\n",
       "      <td>229159752</td>\n",
       "      <td>Aim The current pandemic of coronavirus diseas...</td>\n",
       "    </tr>\n",
       "    <tr>\n",
       "      <th>4</th>\n",
       "      <td>7</td>\n",
       "      <td>9b9659a4e9a4a48d7c532c76dd14ee9ccd696025</td>\n",
       "      <td>219603447</td>\n",
       "      <td>Background The Brain Injury Guidelines provide...</td>\n",
       "    </tr>\n",
       "  </tbody>\n",
       "</table>\n",
       "</div>"
      ],
      "text/plain": [
       "   id                                   paperId   corpusId  \\\n",
       "0   1  6ec7c156b4173ad7ca0dbc654da9267474644a41   23708908   \n",
       "1   2  c856627242a754d2d756b32843523e6d7a089148   13232625   \n",
       "2   3  d4c9b2fa2b760b5cf90ce8635a7dede5b4cd58a2   73484844   \n",
       "3   4  7f13abe2c82bf0c66ca423e905d8f5967c4517b1  229159752   \n",
       "4   7  9b9659a4e9a4a48d7c532c76dd14ee9ccd696025  219603447   \n",
       "\n",
       "                                            abstract  \n",
       "0  Constitutive JAK/STAT3 signaling contributes t...  \n",
       "1  Summary: The current work characterizes young ...  \n",
       "2  Ionotropic glutamate receptors (iGluRs) mediat...  \n",
       "3  Aim The current pandemic of coronavirus diseas...  \n",
       "4  Background The Brain Injury Guidelines provide...  "
      ]
     },
     "execution_count": 13,
     "metadata": {},
     "output_type": "execute_result"
    }
   ],
   "source": [
    "abstracts.head()"
   ]
  },
  {
   "cell_type": "code",
   "execution_count": 54,
   "metadata": {},
   "outputs": [
    {
     "name": "stderr",
     "output_type": "stream",
     "text": [
      "ERROR:root:IDs ['23708908-0'] already exist in collection ac7095cd-348d-4c16-bb3f-975081402b45\n"
     ]
    },
    {
     "ename": "",
     "evalue": "",
     "output_type": "error",
     "traceback": [
      "\u001b[1;31mCannot execute code, session has been disposed. Please try restarting the Kernel."
     ]
    },
    {
     "ename": "",
     "evalue": "",
     "output_type": "error",
     "traceback": [
      "\u001b[1;31mThe Kernel crashed while executing code in the the current cell or a previous cell. Please review the code in the cell(s) to identify a possible cause of the failure. Click <a href='https://aka.ms/vscodeJupyterKernelCrash'>here</a> for more info. View Jupyter <a href='command:jupyter.viewOutput'>log</a> for further details."
     ]
    }
   ],
   "source": [
    "results = abstracts.apply(main, axis=1, args=(collection,))"
   ]
  },
  {
   "cell_type": "code",
   "execution_count": 53,
   "metadata": {},
   "outputs": [
    {
     "data": {
      "text/plain": [
       "{'ids': ['23708908-0'],\n",
       " 'embeddings': None,\n",
       " 'metadatas': None,\n",
       " 'documents': ['Constitutive JAK/STAT3 signaling contributes to disease progression in many lymphoproliferative disorders. Recent genetic analyses have revealed gain-of-function STAT3 mutations in lymphoid cancers leading to hyperactivation of STAT3, which may represent a potential therapeutic target. Using a functional reporter assay, we screened 306 compounds with selective activity against various target molecules to identify drugs capable of inhibiting the cellular activity of STAT3. Top hits were further validated with additional models including STAT3-mutated natural killer (NK)-cell leukemia/lymphoma cell lines and primary large granular lymphocytic (LGL) leukemia cells to assess their ability to inhibit STAT3 phosphorylation and STAT3 dependent cell viability. We identified JAK, mTOR, Hsp90 and CDK inhibitors as potent inhibitors of both WT and mutant STAT3 activity. The Hsp90 inhibitor luminespib was highly effective at reducing the viability of mutant STAT3 NK cell lines and LGL leukemia patient samples. Luminespib decreased the phosphorylation of mutant STAT3 at Y705, whereas JAK1/JAK2 inhibitor ruxolitinib had reduced efficacy on mutant STAT3 phosphorylation. Additionally, combinations involving Hsp90, JAK and mTOR inhibitors were more effective at reducing cell viability than single agents. Our findings show alternative approaches to inhibit STAT3 activity and suggest Hsp90 as a therapeutic target in lymphoproliferative disorders with constitutively active STAT3.']}"
      ]
     },
     "execution_count": 53,
     "metadata": {},
     "output_type": "execute_result"
    }
   ],
   "source": [
    "collection.get(\n",
    "    include=['documents']\n",
    ")"
   ]
  },
  {
   "cell_type": "code",
   "execution_count": null,
   "metadata": {},
   "outputs": [],
   "source": [
    "import boto3"
   ]
  },
  {
   "cell_type": "code",
   "execution_count": null,
   "metadata": {},
   "outputs": [],
   "source": [
    "s3 = boto3.resource('s3')\n",
    "\n",
    "# Print out bucket names\n",
    "for bucket in s3.buckets.all():\n",
    "    print(bucket.name)"
   ]
  },
  {
   "cell_type": "code",
   "execution_count": null,
   "metadata": {},
   "outputs": [],
   "source": [
    "import torch\n",
    "torch.save(test, '/home/ubuntu/work/bucket/tensors_abstracts/tensor0-0.pt')"
   ]
  },
  {
   "cell_type": "code",
   "execution_count": null,
   "metadata": {},
   "outputs": [],
   "source": [
    "# import dask processingbar\n",
    "from dask.diagnostics import ProgressBar\n",
    "\n",
    "with ProgressBar():\n",
    "    tokens = df['abstract'].apply(tokenize_abstracts, meta=('abstract', 'object')).compute()"
   ]
  },
  {
   "cell_type": "code",
   "execution_count": null,
   "metadata": {},
   "outputs": [],
   "source": [
    "tokenized = client.map(tokenize_abstracts, df['abstract'])\n",
    "inputs = client.map(run_inputs, tokenized)\n",
    "embeddings = client.submit(get_embeddings, inputs)"
   ]
  },
  {
   "cell_type": "code",
   "execution_count": null,
   "metadata": {},
   "outputs": [],
   "source": [
    "# import dask processingbar\n",
    "from dask.diagnostics import ProgressBar\n",
    "\n",
    "with ProgressBar():\n",
    "    abstract_embeddings = ddf['abstract'].apply(get_embeddings, meta=('abstract', 'object')).compute()"
   ]
  },
  {
   "cell_type": "code",
   "execution_count": null,
   "metadata": {},
   "outputs": [],
   "source": []
  }
 ],
 "metadata": {
  "kernelspec": {
   "display_name": "chroma",
   "language": "python",
   "name": "python3"
  },
  "language_info": {
   "codemirror_mode": {
    "name": "ipython",
    "version": 3
   },
   "file_extension": ".py",
   "mimetype": "text/x-python",
   "name": "python",
   "nbconvert_exporter": "python",
   "pygments_lexer": "ipython3",
   "version": "3.10.6"
  },
  "orig_nbformat": 4
 },
 "nbformat": 4,
 "nbformat_minor": 2
}
