{
  "cells": [
    {
      "cell_type": "code",
      "execution_count": 2,
      "metadata": {},
      "outputs": [],
      "source": [
        "import pandas as pd\n",
        "import yaml\n",
        "from sqlalchemy import create_engine\n",
        "import polars"
      ]
    },
    {
      "cell_type": "code",
      "execution_count": 26,
      "metadata": {},
      "outputs": [],
      "source": [
        "with open(\"../config/main.yaml\", \"r\") as f:\n",
        "    config = yaml.load(f, Loader=yaml.FullLoader)\n",
        "\n",
        "with open(\"../config/keys.yaml\", \"r\") as f:\n",
        "    keys = yaml.load(f, Loader=yaml.FullLoader)\n",
        "\n",
        "import psycopg2\n",
        "\n",
        "psy_engine = psycopg2.connect(\n",
        "    database=config['database']['name'],\n",
        "    user=config['database']['user'],\n",
        "    password=keys['postgres'],\n",
        "    host=config['database']['host'],\n",
        "    port='5432'\n",
        ")\n",
        "\n",
        "cur = psy_engine.cursor()"
      ]
    },
    {
      "cell_type": "code",
      "execution_count": 4,
      "metadata": {},
      "outputs": [],
      "source": [
        "# load in csv for attributes\n",
        "df = pd.read_csv(\"/home/ubuntu/work/attributes/final.csv\").iloc[:, 1:]"
      ]
    },
    {
      "cell_type": "code",
      "execution_count": null,
      "metadata": {},
      "outputs": [],
      "source": [
        "# df2 = polars.read_csv(\"/home/ubuntu/work/attributes/final.csv\")"
      ]
    },
    {
      "cell_type": "code",
      "execution_count": 12,
      "metadata": {},
      "outputs": [
        {
          "data": {
            "text/plain": [
              "Unnamed: 0                    int64\n",
              "corpusid                      int64\n",
              "externalids                  object\n",
              "url                          object\n",
              "title                        object\n",
              "authors                      object\n",
              "venue                        object\n",
              "publicationvenueid           object\n",
              "year                        float64\n",
              "referencecount                int64\n",
              "citationcount                 int64\n",
              "influentialcitationcount      int64\n",
              "isopenaccess                   bool\n",
              "s2fieldsofstudy              object\n",
              "publicationtypes             object\n",
              "publicationdate              object\n",
              "journal                      object\n",
              "updated                      object\n",
              "id                            int64\n",
              "dtype: object"
            ]
          },
          "execution_count": 12,
          "metadata": {},
          "output_type": "execute_result"
        }
      ],
      "source": [
        "df.dtypes"
      ]
    },
    {
      "cell_type": "code",
      "execution_count": 5,
      "metadata": {},
      "outputs": [],
      "source": [
        "df = df.drop(\"Unnamed: 0\", axis = 1)"
      ]
    },
    {
      "cell_type": "code",
      "execution_count": 21,
      "metadata": {},
      "outputs": [],
      "source": [
        "df = df.drop_duplicates(subset = 'corpusid')\n",
        "index_col = df.pop('corpusid')"
      ]
    },
    {
      "cell_type": "code",
      "execution_count": 23,
      "metadata": {},
      "outputs": [],
      "source": [
        "sql = create_engine(f'postgresql://postgres:{keys[\"postgres\"]}@{config[\"database\"][\"host\"]}:5432/postgres')"
      ]
    },
    {
      "cell_type": "code",
      "execution_count": 24,
      "metadata": {},
      "outputs": [
        {
          "data": {
            "text/plain": [
              "72817"
            ]
          },
          "execution_count": 24,
          "metadata": {},
          "output_type": "execute_result"
        }
      ],
      "source": [
        "df.to_sql('attributes', con=sql, if_exists='replace', index=index_col, chunksize = 10000)"
      ]
    },
    {
      "cell_type": "code",
      "execution_count": 28,
      "metadata": {},
      "outputs": [],
      "source": [
        "test = cur.execute(\"SELECT * FROM attributes;\")"
      ]
    },
    {
      "cell_type": "code",
      "execution_count": 29,
      "metadata": {},
      "outputs": [
        {
          "data": {
            "text/plain": [
              "('{\"ACL\": null, \"DBLP\": null, \"ArXiv\": null, \"MAG\": \"2889324973\", \"CorpusId\": \"52273203\", \"PubMed\": \"30272009\", \"DOI\": \"10.1038/s42003-018-0133-4\", \"PubMedCentral\": \"6123708\"}',\n",
              " 'https://www.semanticscholar.org/paper/39063bcddbd9decd4c8f5c5d3e8392280ab046ad',\n",
              " 'Large conformational changes of a highly dynamic pre-protein binding domain in SecA',\n",
              " '{\"{\\\\\"authorId\\\\\": \\\\\"51285510\\\\\", \\\\\"name\\\\\": \\\\\"Isabel Ernst\\\\\"}\",\"{\\\\\"authorId\\\\\": \\\\\"10784515\\\\\", \\\\\"name\\\\\": \\\\\"Maximilian Haase\\\\\"}\",\"{\\\\\"authorId\\\\\": \\\\\"47832514\\\\\", \\\\\"name\\\\\": \\\\\"S. Ernst\\\\\"}\",\"{\\\\\"authorId\\\\\": \\\\\"46262768\\\\\", \\\\\"name\\\\\": \\\\\"Shuguang Yuan\\\\\"}\",\"{\\\\\"authorId\\\\\": \\\\\"46371491\\\\\", \\\\\"name\\\\\": \\\\\"A. Kuhn\\\\\"}\",\"{\\\\\"authorId\\\\\": \\\\\"6835497\\\\\", \\\\\"name\\\\\": \\\\\"S. Leptihn\\\\\"}\"}',\n",
              " 'Communications Biology',\n",
              " '069e05e7-ca35-41d0-a8c7-bdc9ec6a82af',\n",
              " 2018.0,\n",
              " 28,\n",
              " 13,\n",
              " 0,\n",
              " True,\n",
              " '{\"{\\\\\"category\\\\\": \\\\\"Biology\\\\\", \\\\\"source\\\\\": \\\\\"s2-fos-model\\\\\"}\",\"{\\\\\"category\\\\\": \\\\\"Chemistry\\\\\", \\\\\"source\\\\\": \\\\\"s2-fos-model\\\\\"}\",\"{\\\\\"category\\\\\": \\\\\"Chemistry\\\\\", \\\\\"source\\\\\": \\\\\"external\\\\\"}\",\"{\\\\\"category\\\\\": \\\\\"Medicine\\\\\", \\\\\"source\\\\\": \\\\\"external\\\\\"}\"}',\n",
              " '{JournalArticle}',\n",
              " '2018-09-03',\n",
              " '{\"name\": \"Communications Biology\", \"pages\": null, \"volume\": \"1\"}',\n",
              " '2023-03-31T01:28:37.897Z',\n",
              " 5692596)"
            ]
          },
          "execution_count": 29,
          "metadata": {},
          "output_type": "execute_result"
        }
      ],
      "source": [
        "cur.fetchone()"
      ]
    },
    {
      "cell_type": "code",
      "execution_count": 30,
      "metadata": {},
      "outputs": [],
      "source": [
        "psy_engine.commit()\n",
        "cur.close()\n",
        "psy_engine.close()"
      ]
    },
    {
      "cell_type": "code",
      "execution_count": null,
      "metadata": {},
      "outputs": [],
      "source": []
    }
  ],
  "metadata": {
    "colab": {
      "authorship_tag": "ABX9TyMAtrDtrb60mmioL5IT05lT",
      "provenance": []
    },
    "kernelspec": {
      "display_name": "Python 3",
      "name": "python3"
    },
    "language_info": {
      "codemirror_mode": {
        "name": "ipython",
        "version": 3
      },
      "file_extension": ".py",
      "mimetype": "text/x-python",
      "name": "python",
      "nbconvert_exporter": "python",
      "pygments_lexer": "ipython3",
      "version": "3.10.9"
    }
  },
  "nbformat": 4,
  "nbformat_minor": 0
}
