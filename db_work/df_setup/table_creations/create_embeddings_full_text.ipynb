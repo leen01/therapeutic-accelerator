{
 "cells": [
  {
   "attachments": {},
   "cell_type": "markdown",
   "metadata": {},
   "source": [
    "# Setup"
   ]
  },
  {
   "attachments": {},
   "cell_type": "markdown",
   "metadata": {},
   "source": [
    "## Packages"
   ]
  },
  {
   "cell_type": "code",
   "execution_count": 1,
   "metadata": {},
   "outputs": [],
   "source": [
    "%run /home/ubuntu/work/therapeutic_accelerator/scripts/base.py"
   ]
  },
  {
   "cell_type": "code",
   "execution_count": 2,
   "metadata": {},
   "outputs": [],
   "source": [
    "import pandas as pd\n",
    "import numpy as np\n",
    "\n",
    "from transformers import T5Tokenizer # AutoModel, AutoTokenizer, BertTokenizer,BioGptModel, BioGptConfig, BioGptTokenizer\n",
    "\n",
    "import torch"
   ]
  },
  {
   "attachments": {},
   "cell_type": "markdown",
   "metadata": {},
   "source": [
    "## Tokenizers and Models"
   ]
  },
  {
   "cell_type": "code",
   "execution_count": 3,
   "metadata": {},
   "outputs": [],
   "source": [
    "max_sequence_length = 1200\n",
    "embedding_size = 200\n",
    "T5tokens = T5Tokenizer.from_pretrained('t5-base', model_max_length = max_sequence_length)"
   ]
  },
  {
   "cell_type": "code",
   "execution_count": 4,
   "metadata": {},
   "outputs": [],
   "source": [
    "# bio_bert_model = AutoModel.from_pretrained(\"gsarti/biobert-nli\")\n",
    "# bio_bert_tokenizer = AutoTokenizer.from_pretrained(\"gsarti/biobert-nli\")\n",
    "# original_bert_tokenizer = BertTokenizer.from_pretrained('bert-base-uncased')\n",
    "# T5Abstract_model = TFT5ForConditionalGeneration.from_pretrained('t5-base')\n",
    "# biogpttokenizer = BioGptTokenizer.from_pretrained(\"microsoft/biogpt\")\n",
    "# biogptmodel = BioGptModel.from_pretrained(\"microsoft/biogpt\")"
   ]
  },
  {
   "attachments": {},
   "cell_type": "markdown",
   "metadata": {},
   "source": [
    "Custom embeddings function"
   ]
  },
  {
   "cell_type": "code",
   "execution_count": 5,
   "metadata": {},
   "outputs": [],
   "source": [
    "from chromadb.api.types import Documents, EmbeddingFunction, Embeddings\n",
    "\n",
    "class MyEmbeddingFunction(EmbeddingFunction):\n",
    "    def __call__(self, texts: Documents) -> Embeddings:\n",
    "        #create document embeddings with T5\n",
    "        embeddings = []\n",
    "        for text in texts:\n",
    "            input_ids = T5tokens.encode(text)\n",
    "            input_ids = torch.tensor(input_ids).unsqueeze(0)\n",
    "            with torch.no_grad():\n",
    "                output = T5Abstract_model(input_ids)\n",
    "            embeddings.append(output[0][0][0].numpy())\n",
    "        return embeddings"
   ]
  },
  {
   "attachments": {},
   "cell_type": "markdown",
   "metadata": {},
   "source": [
    "# Langchain Sentence Embeddings"
   ]
  },
  {
   "cell_type": "code",
   "execution_count": 6,
   "metadata": {},
   "outputs": [],
   "source": [
    "from abc import ABC\n",
    "from typing import List, Optional, Any\n",
    "\n",
    "import chromadb\n",
    "from langchain.docstore.document import Document\n",
    "from langchain.embeddings.base import Embeddings\n",
    "from langchain.vectorstores import Chroma\n",
    "from langchain.embeddings.openai import OpenAIEmbeddings\n",
    "from langchain.embeddings import OpenAIEmbeddings"
   ]
  },
  {
   "cell_type": "code",
   "execution_count": null,
   "metadata": {},
   "outputs": [],
   "source": [
    "from abc import ABC\n",
    "from typing import List, Optional, Any\n",
    "\n",
    "\n",
    "class CachedChroma(Chroma, ABC):\n",
    "    \"\"\"\n",
    "    Wrapper around Chroma to make caching embeddings easier.\n",
    "    \n",
    "    It automatically uses a cached version of a specified collection, if available.\n",
    "        Example:\n",
    "            .. code-block:: python\n",
    "                    from langchain.vectorstores import Chroma\n",
    "                    from langchain.embeddings.openai import OpenAIEmbeddings\n",
    "                    embeddings = OpenAIEmbeddings()\n",
    "                    vectorstore = CachedChroma.from_documents_with_cache(\n",
    "                        \".persisted_data\", texts, embeddings, collection_name=\"fun_experiement\"\n",
    "                    )\n",
    "        \"\"\"\n",
    "    \n",
    "    @classmethod\n",
    "    def from_documents_with_cache(\n",
    "            cls,\n",
    "            persist_directory: str,\n",
    "            documents: List[Document],\n",
    "            embedding: Optional[Embeddings] = None,\n",
    "            ids: Optional[List[str]] = None,\n",
    "            collection_name: str = Chroma._LANGCHAIN_DEFAULT_COLLECTION_NAME,\n",
    "            client_settings: Optional[chromadb.config.Settings] = None,\n",
    "            **kwargs: Any,\n",
    "    ) -> Chroma:\n",
    "        settings = chromadb.config.Settings(\n",
    "            chroma_db_impl=\"duckdb+parquet\",\n",
    "            persist_directory=persist_directory\n",
    "        )\n",
    "        client = chromadb.Client(settings)\n",
    "        collection_names = [c.name for c in client.list_collections()]\n",
    "\n",
    "        if collection_name in collection_names:\n",
    "            return Chroma(\n",
    "                collection_name=collection_name,\n",
    "                embedding_function=embedding,\n",
    "                persist_directory=persist_directory,\n",
    "                client_settings=client_settings,\n",
    "            )\n",
    "\n",
    "        return Chroma.from_documents(\n",
    "            documents=documents,\n",
    "            embedding=embedding,\n",
    "            ids=ids,\n",
    "            collection_name=collection_name,\n",
    "            persist_directory=persist_directory,\n",
    "            client_settings=client_settings,\n",
    "            **kwargs\n",
    "        )"
   ]
  },
  {
   "cell_type": "code",
   "execution_count": 9,
   "metadata": {},
   "outputs": [],
   "source": [
    "# openai embeddings model\n",
    "embeddings_model = OpenAIEmbeddings(openai_api_key=keys['openai_api_key'])"
   ]
  },
  {
   "cell_type": "code",
   "execution_count": null,
   "metadata": {},
   "outputs": [],
   "source": [
    "# vectorstore = CachedChroma.from_documents_with_cache(\n",
    "#     \".persisted_data\", texts, embeddings, collection_name=\"fun_experiement\"\n",
    "# )"
   ]
  },
  {
   "cell_type": "code",
   "execution_count": 11,
   "metadata": {},
   "outputs": [],
   "source": [
    "# create a function that uses langchain to embed sentences\n",
    "def embed_sentences(sentences, tokenizer, model, max_sequence_length):\n",
    "    # tokenize the sentences\n",
    "    tokenized_sentences = tokenizer(sentences, padding=True, truncation=True, return_tensors=\"pt\", max_length=max_sequence_length)\n",
    "    # get the embeddings\n",
    "    with torch.no_grad():\n",
    "        model_output = model(**tokenized_sentences)\n",
    "    # get the embeddings from the model output\n",
    "    embeddings = model_output[0][:,0,:].numpy()\n",
    "    return embeddings"
   ]
  },
  {
   "attachments": {},
   "cell_type": "markdown",
   "metadata": {},
   "source": [
    "# Create Encodings using Dask"
   ]
  },
  {
   "attachments": {},
   "cell_type": "markdown",
   "metadata": {},
   "source": [
    "## Full Text"
   ]
  },
  {
   "cell_type": "code",
   "execution_count": 12,
   "metadata": {},
   "outputs": [],
   "source": [
    "# import dask\n",
    "import sqlalchemy as sa\n",
    "from dask import dataframe as dd\n",
    "from dask.delayed import delayed\n",
    "from dask.diagnostics import ProgressBar\n",
    "import json\n",
    "import re\n",
    "# from glob import glob"
   ]
  },
  {
   "cell_type": "code",
   "execution_count": 13,
   "metadata": {},
   "outputs": [],
   "source": [
    "table_name = 'fulltext'"
   ]
  },
  {
   "cell_type": "code",
   "execution_count": 14,
   "metadata": {},
   "outputs": [],
   "source": [
    "def create_dictionary(text):\n",
    "    \"\"\" Turn string containing list of dictionaries into a dictionary\"\"\"\n",
    "    \n",
    "    # remove new line characters\n",
    "    categories = re.sub(r'[\\[\\]\\'\\\\]', '', text)\n",
    "\n",
    "    # remove outer brackets, quotes, and split on commas\n",
    "    categories = categories.strip('{}').strip('\"').split('\",\"')\n",
    "\n",
    "    # create list with unique values from category\n",
    "    # categories = pd.Series([json.loads(t)['category'] for t in categories]).unique().tolist()\n",
    "    categories = [json.loads(t) for t in categories]\n",
    "    \n",
    "    return categories"
   ]
  },
  {
   "cell_type": "code",
   "execution_count": 15,
   "metadata": {},
   "outputs": [],
   "source": [
    "# Pull fulltext table and combine with attributes table for metadata embeddings\n",
    "sql = sa.text(f''' \n",
    "    SELECT * FROM {table_name} LEFT JOIN attributes ON ({table_name}.corpusid = CAST(attributes.corpusid as text)) LIMIT 10;\n",
    "''')\n",
    "\n",
    "with engine.connect() as conn: \n",
    "    query = conn.execute(sql)\n",
    "    \n",
    "ft = pd.DataFrame(query.fetchall())"
   ]
  },
  {
   "cell_type": "code",
   "execution_count": 16,
   "metadata": {},
   "outputs": [],
   "source": [
    "# Get locations of figure captions to remvoe from full text\n",
    "ft['annotations.figurecaption'] = ft['annotations.figurecaption'].apply(json.loads)\n",
    "\n",
    "# turn strings into list of dictionaries\n",
    "ft['s2fieldsofstudy'] = ft['s2fieldsofstudy'].apply(create_dictionary).apply(lambda x: pd.Series([d['category'] for d in x]).unique().tolist())\n",
    "ft['authors'] = ft['authors'].apply(create_dictionary)"
   ]
  },
  {
   "cell_type": "code",
   "execution_count": 17,
   "metadata": {},
   "outputs": [],
   "source": [
    "def get_text_from_index(text, indexes): \n",
    "    \"\"\" index is a list of dictionary with start and end keys\"\"\"\n",
    "    # Looking at sections\n",
    "    section = {}\n",
    "    for i in indexes: \n",
    "        section['name'] = text['text'][i['start']:i['end']]\n",
    "        section['start'] = i['start']\n",
    "        section['end'] = i['end']\n",
    "        \n",
    "    return section"
   ]
  },
  {
   "cell_type": "code",
   "execution_count": 18,
   "metadata": {},
   "outputs": [],
   "source": [
    "# Keep relevant columns\n",
    "ft = ft[\n",
    "    [\n",
    "        \"text\",\n",
    "        \"corpusid\",\n",
    "        \"title\",\n",
    "        \"s2fieldsofstudy\",\n",
    "        \"authors\",\n",
    "        \"venue\",\n",
    "        \"year\",\n",
    "        \"referencecount\",\n",
    "        \"citationcount\",\n",
    "        \"influentialcitationcount\",\n",
    "        \"isopenaccess\",\n",
    "        \"s2fieldsofstudy\",\n",
    "        \"publicationtypes\",\n",
    "        \"publicationdate\",\n",
    "        \"journal\",\n",
    "    ]\n",
    "]"
   ]
  },
  {
   "cell_type": "code",
   "execution_count": 35,
   "metadata": {},
   "outputs": [],
   "source": [
    "from langchain.text_splitter import CharacterTextSplitter, RecursiveCharacterTextSplitter\n",
    "import tiktoken\n",
    "\n",
    "def token_len(text): \n",
    "    \"\"\" Get the length of tokens from text\"\"\"\n",
    "    tokens = T5tokens.encode(text)\n",
    "    return len(tokens)\n",
    "    \n",
    "# create text splitters for processing the texts\n",
    "text_splitter = CharacterTextSplitter(\n",
    "    separator = \"\\n\\n\",\n",
    "    chunk_size = 400,\n",
    "    chunk_overlap  = 200,\n",
    "    length_function = token_len,\n",
    ")\n",
    "\n",
    "recursive_splitter = RecursiveCharacterTextSplitter(\n",
    "    separators = [\"\\n\\n\", \"\\n\", \".\", \"?\", \"!\"],\n",
    "    chunk_size = 400,\n",
    "    chunk_overlap  = 20,\n",
    "    length_function = token_len,\n",
    ")"
   ]
  },
  {
   "cell_type": "code",
   "execution_count": 36,
   "metadata": {},
   "outputs": [],
   "source": [
    "# from langchain.document_loaders.csv_loader import CSVLoader\n",
    "# loader = CSVLoader(file_path='./example_data/mlb_teams_2012.csv')\n",
    "# data = loader.load()"
   ]
  },
  {
   "cell_type": "code",
   "execution_count": 38,
   "metadata": {},
   "outputs": [
    {
     "name": "stderr",
     "output_type": "stream",
     "text": [
      "Created a chunk of size 486, which is longer than the specified 400\n",
      "Created a chunk of size 427, which is longer than the specified 400\n"
     ]
    },
    {
     "data": {
      "text/plain": [
       "[Document(page_content=\"2018\\n\\nGuro Hospital \\nSeoul ; \\nJanssen \\nM.D.Eun Young Lee \\nJeong Seok Lee \\nDivision of Rheumatology\\nDepartment of Internal Medicine\\nSeoul National University Hospital\\nSeoul\\n\\nYeong Wook Song \\nDivision of Rheumatology\\nDepartment of Internal Medicine\\nSeoul National University Hospital\\nSeoul\\n\\nTae Hwan Kim \\nDivision of Rheumatology\\nDepartment of Internal Medicine\\nHanyang University Seoul Hospital\\nSeoul\\n\\nWon Tae Chung \\nDivision of Rheumatology\\nDepartment of Internal Medicine\\nDong-A University Hospital\\nBusan\\n\\nSeung Geun Lee \\nDivision of Rheumatology\\nDepartment of Internal Medicine\\nPusan National University Hospital\\nBusan\\n\\nSung Hwan Park \\nDivision of Rheumatology\\nDepartment of Internal Medicine\\nCollege of Medicine\\nSeoul St. Mary's Hospital\\nThe Catholic University of Korea\\nSeoul\\n\\nGwan Gyu Song \\nDivision of Rheumatology\\nDepartment of Internal Medicine\\nKorea, Medical Affairs\\nSeoulKorea University, Korea\\n\\nDaeYoung Yu \\nStephen Xu \\nDepartment of Biostatistics\\nDivision of Rheumatology\\nDepartment of Internal Medicine\\nJanssen Research & Development, LLC\\nSpring HousePAUSA\\n\\nSeoul National University Hospital\\n101 Daehak-ro, Jongno-gu03080SeoulKorea\\n\\nEun Young Lee \\nDivision of Rheumatology\\nDepartment of Internal Medicine\\nSeoul National University Hospital\\nSeoul\\n\\nKorean J Intern Med\\n33201810.3904/kjim.2016.046Received : February 19, 2016 Revised : May 12, 2016 Accepted : May 22, 2016 Correspondence toORIGINAL ARTICLE Lee JS, et al. Spinal damage in ankylosing spondylitis in Koreans\\n\\n\\nINTRODUCTION\", metadata={}),\n",
       " Document(page_content='Ankylosing spondylitis (AS) is a chronic rheumatic disease associated with spinal inflammation and bony fusion of the spine that leads to functional impairment [1]. Radiographic damage of the spine can be quantified by the modified stoke AS spine score (mSASSS) [2]. Although tumor necrosis factor α (TNF-α) blockade has been shown to reduce active inflammation in AS patients, the previous clinical trials of TNF-α blockade showed discordant results in pre-Background/Aims: For patients with ankylosing spondylitis (AS), golimumab has consistent efficacy in controlling disease activity over 5 years but its benefit in preventing radiographic progression was less clear at 4 years. To predict radiographic progression, we analyzed the baseline characteristics of AS patients in a Korean population. Methods: Sixty-eight Korean patients with AS participated in the phase 3, multicenter, randomized, placebo-controlled, double-blind trial (GO-RAISE) which has previously been described. Baseline modified stoke AS spine score (mSASSS) and change in mSASSS from baseline (ΔmSASSS) until week 208 were analyzed in the Korean patients enrolled in the GO-RAISE study. Results: Although Korean patients had lower baseline mSASSS compared to non-Korean patients and received active management, radiographic progression was not prevented. Korean patients who did not undergo radiographic progression of spinal lesions of AS were younger and had shorter symptomatic duration, lower Bath AS functional and metrology indices, better chest expansion, and lower baseline mSASSS. The baseline mSASSS and ΔmSASSS were positively correlated in Korean AS patients (p < 0.001). Radiographic progression was more prevalent (80.0%) when baseline mSASSS > 10 and less common (13.0%) with baseline mSASSS = 0. Conclusions: In Korean AS patients, radiographic progression of the spine after 4 years was predicted effectively by the initial severity of the spinal lesion(s) in patients treated with golimumab.', metadata={}),\n",
       " Document(page_content='Keywords: Spondylitis, ankylosing; Golimumab; Disease progression Baseline extent of damage predicts spinal radiographic progression in Korean patients with ankylosing spondylitis treated with golimumab venting radiologic progression as measured by mSASSS [3][4][5][6][7]. Golimumab, a human monoclonal anti-TNF-α antibody, was evaluated successfully by the randomized controlled trial GO-RAISE (multicenter, randomized, placebo-controlled, double-blind trial), which demonstrated the consistent efficacy of golimumab over 5 years in terms of function, disease activity, and spinal mobility [8]. However, the benefit of golimumab over placebo in preventing radiographic progression was unclear at 4 years because the patients in the placebo group crossed over to the golimumab 50 mg group at week 24 due to ethical concerns.\\n\\nAfter following the patients with AS who received golimumab for more than 3-and-a-half to 4 years in Korea, we had a clinical impression that our patients could be divided into two groups based on radiographic progression. Indeed, in infliximab users, radiographic damage at baseline was suggested as a predictor for radiographic progression [3]. In the Korean population, several factors, including baseline mSASSS and peripheral joint disease, were proposed to be associated with radiographic progression in previous studies [9,10]. However, these retrospective studies were not able to draw definite conclusions about the factors predictive for radiographic progression.\\n\\nTo investigate the reason for these outcomes, we tried to analyze baseline characteristics and to suggest factors predictive for radiographic progression in Korean patients with AS who were enrolled in the GO-RAISE trial.', metadata={}),\n",
       " Document(page_content='After following the patients with AS who received golimumab for more than 3-and-a-half to 4 years in Korea, we had a clinical impression that our patients could be divided into two groups based on radiographic progression. Indeed, in infliximab users, radiographic damage at baseline was suggested as a predictor for radiographic progression [3]. In the Korean population, several factors, including baseline mSASSS and peripheral joint disease, were proposed to be associated with radiographic progression in previous studies [9,10]. However, these retrospective studies were not able to draw definite conclusions about the factors predictive for radiographic progression.\\n\\nTo investigate the reason for these outcomes, we tried to analyze baseline characteristics and to suggest factors predictive for radiographic progression in Korean patients with AS who were enrolled in the GO-RAISE trial.\\n\\n\\nMETHODS\\n\\n\\nPatients\\n\\nIn Korea, 72 patients were enrolled initially in the phase 3, GO-RAISE trial investigating the clinical efficacy of golimumab, as previously described [7,8]. Of these, 66 remained on trial through 5 years and 68 Korean patients who had radiographic data were included in this analysis. According to the study protocol, all patients gave informed consent. The clinical study was conducted in six centers in Korea and approved by the local Ethics Committees of each participating center.', metadata={}),\n",
       " Document(page_content='To investigate the reason for these outcomes, we tried to analyze baseline characteristics and to suggest factors predictive for radiographic progression in Korean patients with AS who were enrolled in the GO-RAISE trial.\\n\\n\\nMETHODS\\n\\n\\nPatients\\n\\nIn Korea, 72 patients were enrolled initially in the phase 3, GO-RAISE trial investigating the clinical efficacy of golimumab, as previously described [7,8]. Of these, 66 remained on trial through 5 years and 68 Korean patients who had radiographic data were included in this analysis. According to the study protocol, all patients gave informed consent. The clinical study was conducted in six centers in Korea and approved by the local Ethics Committees of each participating center.\\n\\nAmong the 68 patients, 15, 24, and 29 of them were initially assigned to receive subcutaneous doses of placebo, golimumab 50 mg, or golimumab 100 mg, respectively, at baseline and every 4 weeks thereafter. All 15 patients initially assigned to the placebo group crossed over at week 24 to the 50 mg golimumab group. After unblinding at week 104, patients receiving golimumab 50 mg could increase the dose to 100 mg every 4 weeks. A dose decrease from 100 to 50 mg was also allowed. Radiographic evaluations were performed at baseline, week 104, and week 208. Therefore, all 68 patients received golimumab for at least 3-and-a-half years before week 208.\\n\\nThe mSASSS scorings for radiographic assessment of the spinal lesions for all the GO-RAISE trial patients were performed by two independent readers who were blinded to treatment information and radiographic sequence.', metadata={}),\n",
       " Document(page_content='The mSASSS scorings for radiographic assessment of the spinal lesions for all the GO-RAISE trial patients were performed by two independent readers who were blinded to treatment information and radiographic sequence.\\n\\nAfter analyzing the baseline characteristics that might predict radiographic progression in Korean patients, we compared baseline mSASSS and change in mSASSS from baseline (ΔmSASSS) at week 208 among the Korean patients and those of other countries (Canada, USA, Germany, Belgium, Taiwan, Finland, France, and the Netherlands). Assessment of SpondyloArthritis international Society (ASAS) partial remission rate was also compared. We carried out a more detailed analysis on the pattern of the relationship between baseline mSASSS and ΔmSASSS. The trial is registered as a clinical trial at ClinicalTrials.gov (NCT00265083) (registration date: December 12,2005).\\n\\n\\nStatistical analysis', metadata={}),\n",
       " Document(page_content=\"After analyzing the baseline characteristics that might predict radiographic progression in Korean patients, we compared baseline mSASSS and change in mSASSS from baseline (ΔmSASSS) at week 208 among the Korean patients and those of other countries (Canada, USA, Germany, Belgium, Taiwan, Finland, France, and the Netherlands). Assessment of SpondyloArthritis international Society (ASAS) partial remission rate was also compared. We carried out a more detailed analysis on the pattern of the relationship between baseline mSASSS and ΔmSASSS. The trial is registered as a clinical trial at ClinicalTrials.gov (NCT00265083) (registration date: December 12,2005).\\n\\n\\nStatistical analysis\\n\\nBased on whether any progression of radiographic lesion(s) existed, we divided the patients into two groups: one group was 'progressors' who had relatively aggressive exacerbation over time and the other was 'non-progressors' who remained in an indolent status. Baseline demographics and disease characteristics were compared between patients with radiographic progression at week 208 (ΔmSASSS > 0 vs. ΔmSASSS ≤ 0) using an independent t test. The correlation between baseline mSASSS and ΔmSASSS was calculated using Spearman's rho and the Freeman-Halton extension of the Fisher exact probability test. All statistical tests were performed with two-sided alternatives and with a type I error of 0.05 by SAS version 9.2 (SAS Institute Inc., Cary, NC, USA).\\n\\n\\nRESULTS\\n\\n\\nBaseline characteristics associated with the progression of mSASSS\", metadata={}),\n",
       " Document(page_content=\"RESULTS\\n\\n\\nBaseline characteristics associated with the progression of mSASSS\\n\\nThe patients who did not undergo radiographic progression of the spinal lesion(s) of AS had the following characteristics: (1) relatively younger age; (2) shorter symptom duration; (3) lower Bath AS Functional Index; (4) lower Bath AS Metrology Index; (5) greater chest expansion; and (6) lower baseline mSASSS ( Table 1). As the mean ΔmSASSS of 'ΔmSASSS ≤ 0' group was −0.56 ± 1.39 and 'ΔmSASSS > 0' group was 7.22 ± 6.62 in Korean patients, ΔmSASSS = 0 could be a useful parameter for separating non-progressors from progressors. Sex, human leukocyte antigen (HLA)-B27, smoking, baseline level of C-reactive protein, disease duration before diagnosis, Bath AS disease activity index, and patients' general assessment of back pain and disease activity were not significantly different between progressors and non-progressors. After logistic regression analysis by the parameters with statistical significance or clinical importance, baseline mSASSS was the only variable predicting radiographic progression at week 208 (Table 2).\\n\\n\\nBaseline mSASSS and ΔmSASSS at week 208 in a Korean AS population\", metadata={}),\n",
       " Document(page_content='Baseline mSASSS and ΔmSASSS at week 208 in a Korean AS population\\n\\nOf the 271 patients who had radiographic data in GO-RAISE trial, there were 68 Korean patients (25.1%), the third largest population by country. Baseline mSASSS was lower in Korean than non-Korean patients with statistical significance (Fig. 1). In addition, Korean patients were consistently more treatment-compliant (Korean 91.7%, non-Korean 66.4%, p < 0.001) and had a higher ASAS partial remission rate (Korean 44.4%, non-Korean 31.3%, p = 0.036) until week 256 (Fig. 2). However, Δm-SASSS was higher in Korean patients when evaluated at week 104 (Korean 1.72 ± 4.14, non-Korean 0.97 ± 3.62, p = 0.143) and week 208 (Korean 2.87 ± 5.93, non-Korean 1.66 ± 4.42, p = 0.393) but this was without statistical significance (Fig. 1). \\n\\n\\nRadiographic progression in relation to baseline mSASSS', metadata={}),\n",
       " Document(page_content=\"Radiographic progression in relation to baseline mSASSS\\n\\nThere was a positive correlation between baseline mSASSS and ΔmSASSS at week 208 in Korean AS patients (Spearman's rho = 0.487, p < 0.001) (Fig. 3). The trend was more evident when the patients were stratified into subgroups based on the baseline mSASSS. Radiographic progression was more prevalent (80.0%) in the patients who had a baseline mSASSS > 10 and less common (13.0%) in the group without baseline radiographic damage (mSASSS = 0) (Fig. 3).\\n\\n\\nDISCUSSION\\n\\nAccording to our analysis, radiographic progression in Korean patients with AS showed particular features. In spite of favorable radiographic status at baseline and  \\n\\n\\nA B\", metadata={}),\n",
       " Document(page_content=\"the clinical course during the trial, radiographic progression was not prevented as a result of treatment with golimumab. Ironically, the baseline characteristic with the highest predictive value was baseline mSASSS. Most of the progressors (ΔmSASSS > 0) had a higher baseline mSASSS (> 10) and most of the non-progressors (Δm-SASSS ≤ 0) had no radiographic damage initially. This 'all-or-none' phenomenon could be explained by the hypothesis that early spinal lesions may resolve completely after effective suppression of inflammation with TNF-α blockade [11,12]. Previous studies considered two units or more of mSASSS change (ΔmSASSS ≥ 2) as significant change [7,13]. In light of our results, the criteria we set (baseline mSASSS = 0, ΔmSASSS > 0) were more meaningful for predicting progression because a single bone lesion on X-ray could indicate the existence of other reversible spinal lesions, not detectable by X-ray but which could be detected by magnetic resonance imaging [12]. Our findings also support previous results that showed early initiation and longer use of TNF-α blockade was effective in preventing radiographic progression [14]. As a Korean population is relatively homogeneous in ethnicity, subgroup study can be valuable. Indeed, the predominant subtype of HLA-B27 of Korean AS patients was HLA-B*2705, unlike other Asians [15]. The previous retrospective studies on the clinical characteristics of Korean patients with AS focused mainly on the higher prevalence of juvenile onset AS and peripheral arthritis and the association between the presence of peripheral arthritis and slow radiographic progression [9,10,16,17]. Younger age was shown to be a favorable factor for radiographic progression, but the influence of peripheral arthritis was still controversial [18].\", metadata={}),\n",
       " Document(page_content='Our study provided the first prospective data for an analysis of the clinical features of AS regarding radiographic progression in Korean patients receiving TNF-α blockade, but the study did have a few limitations.  \\n\\n\\nA B\\n\\nwere included. Therefore, the results of this study cannot be generalized to Asian ethnicity. (2) Because of the smaller size of the study population the statistical power was weaker than for the original study. However, a consistent tendency was noted when comparing baseline mSASSS and ΔmSASSS in Korean and non-Korean populations. (3) The natural course of disease in Korean AS patients could be different from that in golimumab users. In addition, as in the original study, the true effect of golimumab itself was uncertain because all the patients initially belonging to the placebo group (22% of the total study population) crossed over to golimumab groups during the study [8]. Therefore, the results of this study should be interpreted with caution, recognizing these limitations related to the study population.\\n\\nIn conclusion, Korean patients with AS involved in the randomized controlled trial receiving golimumab for up to 4 years had distinctive patterns of spinal lesion progression detected by simple radiographs at week 208. This distinctive pattern of progression could be predicted reliably by the initial severity of the spinal lesion(s). Despite several shortcomings, this study confirmed the value of early and active biological treatment for AS before the appearance of overt spinal damage.\\n\\nFigure 1 .\\n1(A) Means of baseline modified stoke ankylosing spondylitis (AS) spine score (mSASSS) and (B) means of change in mSASSS from baseline (ΔmSASSS) at week 104 and 208.', metadata={}),\n",
       " Document(page_content=\"In conclusion, Korean patients with AS involved in the randomized controlled trial receiving golimumab for up to 4 years had distinctive patterns of spinal lesion progression detected by simple radiographs at week 208. This distinctive pattern of progression could be predicted reliably by the initial severity of the spinal lesion(s). Despite several shortcomings, this study confirmed the value of early and active biological treatment for AS before the appearance of overt spinal damage.\\n\\nFigure 1 .\\n1(A) Means of baseline modified stoke ankylosing spondylitis (AS) spine score (mSASSS) and (B) means of change in mSASSS from baseline (ΔmSASSS) at week 104 and 208.\\n\\nFigure 2 .\\n2Comparison of ASAS (Assessment of SpondyloArthritis international Society) partial remission rate in Korean and non-Korean ankylosing spondylitis patients using golimumab till week 256. a p < 0.05.\\n\\nFigure 3 .\\n3(A) Correlation between baseline modified stoke ankylosing spondylitis (AS) spine score (mSASSS) and change in mSASSS from baseline (ΔmSASSS) at week 208 (Spearman's rho). (B) Population distribution stratified by baseline mSASSS and ΔmSASSS at week 208 analyzed by the Freeman-Halton extension of the Fisher exact probability test.\", metadata={}),\n",
       " Document(page_content=\"Figure 2 .\\n2Comparison of ASAS (Assessment of SpondyloArthritis international Society) partial remission rate in Korean and non-Korean ankylosing spondylitis patients using golimumab till week 256. a p < 0.05.\\n\\nFigure 3 .\\n3(A) Correlation between baseline modified stoke ankylosing spondylitis (AS) spine score (mSASSS) and change in mSASSS from baseline (ΔmSASSS) at week 208 (Spearman's rho). (B) Population distribution stratified by baseline mSASSS and ΔmSASSS at week 208 analyzed by the Freeman-Halton extension of the Fisher exact probability test.\\n\\nTable 1 .\\n1Baseline characteristics associated with radiographic progression over 4 years in Korean ankylosing spondylitis pa-Values are presented as mean ± SD. mSASSS, modified stoke ankylosing spondylitis (AS) spine score; ΔmSASSS, change in mSASSS from baseline; HLA, human leukocyte antigen; SpA, spondyloarthropathy; BASDAI, Bath AS Disease Activity Index; BASFI, Bath AS Functional Index; BASMI, Bath AS Metrology Index; VAS, visual analog scale.tients \\n\\nCharacteristic \\nΔmSASSS ≤ 0 (n = 38) \\nΔmSASSS > 0 (n = 30) \\np value\", metadata={}),\n",
       " Document(page_content='Table 1 .\\n1Baseline characteristics associated with radiographic progression over 4 years in Korean ankylosing spondylitis pa-Values are presented as mean ± SD. mSASSS, modified stoke ankylosing spondylitis (AS) spine score; ΔmSASSS, change in mSASSS from baseline; HLA, human leukocyte antigen; SpA, spondyloarthropathy; BASDAI, Bath AS Disease Activity Index; BASFI, Bath AS Functional Index; BASMI, Bath AS Metrology Index; VAS, visual analog scale.tients \\n\\nCharacteristic \\nΔmSASSS ≤ 0 (n = 38) \\nΔmSASSS > 0 (n = 30) \\np value \\n\\nAge, yr a \\n27.79 ± 7.14 \\n33.10 ± 7.36 \\n0.003 \\n\\nMale sex, % \\n86.8 \\n90.0 \\n0.688 \\n\\nHLA-B27 (positive), % \\n92.1 \\n93.3 \\n0.847 \\n\\nSmoking (yes), % \\n36.8 \\n46.7 \\n0.414 \\n\\nC-reactive protein, mg/dL \\n2.18 ± 2.37 \\n2.70 ± 2.30 \\n0.438 \\n\\nDisease duration, yr \\n4.30 ± 4.41 \\n5.96 ± 4.71 \\n0.059 \\n\\nDuration of SpA symptoms, yr a \\n5.24 ± 4.49 \\n7.93 ± 5.92 \\n0.037 \\n\\nDuration of inflammatory back pain, yr a \\n5.32 ± 4.59 \\n8.57 ± 6.09 \\n0.015 \\n\\nBASDAI score \\n6.48 ± 1.34 \\n7.00 ± 1.23 \\n0.093', metadata={}),\n",
       " Document(page_content=\"Male sex, % \\n86.8 \\n90.0 \\n0.688 \\n\\nHLA-B27 (positive), % \\n92.1 \\n93.3 \\n0.847 \\n\\nSmoking (yes), % \\n36.8 \\n46.7 \\n0.414 \\n\\nC-reactive protein, mg/dL \\n2.18 ± 2.37 \\n2.70 ± 2.30 \\n0.438 \\n\\nDisease duration, yr \\n4.30 ± 4.41 \\n5.96 ± 4.71 \\n0.059 \\n\\nDuration of SpA symptoms, yr a \\n5.24 ± 4.49 \\n7.93 ± 5.92 \\n0.037 \\n\\nDuration of inflammatory back pain, yr a \\n5.32 ± 4.59 \\n8.57 ± 6.09 \\n0.015 \\n\\nBASDAI score \\n6.48 ± 1.34 \\n7.00 ± 1.23 \\n0.093 \\n\\nBASFI score a \\n2.33 ± 1.69 \\n4.07 ± 2.54 \\n0.002 \\n\\nBASMI score a \\n2.29 ± 1.41 \\n4.20 ± 2.38 \\n< 0.001 \\n\\nChest expansion, cm a \\n3.82 ± 1.66 \\n2.51 ± 1.23 \\n< 0.001 \\n\\nmSASSS a \\n2.74 ± 4.85 \\n18.80 ± 17.26 \\n< 0.001 \\n\\nPatients' general assessment of total back pain (VAS, 0-10) \\n6.74 ± 1.61 \\n7.49 ± 1.63 \\n0.055 \\n\\nPatients' general assessment of disease activity (VAS, 0-10) \\n6.62 ± 1.84 \\n7.03 ± 1.99 \\n0.336 \\n\\na \\n\\np < 0.05. \\n\\n\\nTable 2 .\\n2Logistic-regression analysis to identify predictors of radiographic progression at week 208 in Korean ankylosingspondylitis patients\", metadata={}),\n",
       " Document(page_content=\"BASMI score a \\n2.29 ± 1.41 \\n4.20 ± 2.38 \\n< 0.001 \\n\\nChest expansion, cm a \\n3.82 ± 1.66 \\n2.51 ± 1.23 \\n< 0.001 \\n\\nmSASSS a \\n2.74 ± 4.85 \\n18.80 ± 17.26 \\n< 0.001 \\n\\nPatients' general assessment of total back pain (VAS, 0-10) \\n6.74 ± 1.61 \\n7.49 ± 1.63 \\n0.055 \\n\\nPatients' general assessment of disease activity (VAS, 0-10) \\n6.62 ± 1.84 \\n7.03 ± 1.99 \\n0.336 \\n\\na \\n\\np < 0.05. \\n\\n\\nTable 2 .\\n2Logistic-regression analysis to identify predictors of radiographic progression at week 208 in Korean ankylosingspondylitis patients \\n\\nResponse variable \\nIndependent variable \\nCoefficient \\np value \\nOR (95% CI) \\n\\nΔmSASSS ≤ 0 (Y/N) Age, yr \\n−0.08 \\n0.139 \\n0.92 (0.83-1.03) \\n\\nSmoking (yes), % \\n−0.07 \\n0.856 \\n0.86 (0.18-4.23) \\n\\nC-reactive protein, mg/dL \\n0.06 \\n0.736 \\n1.06 (0.77-1.46) \\n\\nDisease duration, yr \\n0.12 \\n0.216 \\n1.13 (0.93-1.37) \\n\\nDuration of SpA symptoms, yr \\n−0.00 \\n0.999 \\n1.00 (0.77-1.30) \\n\\nDuration of inflammatory back pain, yr \\n−0.10 \\n0.430 \\n0.90 (0.70-1.16) \\n\\nBASFI score \\n−0.35 \\n0.170 \\n0.71 (0.43-1.16)\", metadata={}),\n",
       " Document(page_content='Response variable \\nIndependent variable \\nCoefficient \\np value \\nOR (95% CI) \\n\\nΔmSASSS ≤ 0 (Y/N) Age, yr \\n−0.08 \\n0.139 \\n0.92 (0.83-1.03) \\n\\nSmoking (yes), % \\n−0.07 \\n0.856 \\n0.86 (0.18-4.23) \\n\\nC-reactive protein, mg/dL \\n0.06 \\n0.736 \\n1.06 (0.77-1.46) \\n\\nDisease duration, yr \\n0.12 \\n0.216 \\n1.13 (0.93-1.37) \\n\\nDuration of SpA symptoms, yr \\n−0.00 \\n0.999 \\n1.00 (0.77-1.30) \\n\\nDuration of inflammatory back pain, yr \\n−0.10 \\n0.430 \\n0.90 (0.70-1.16) \\n\\nBASFI score \\n−0.35 \\n0.170 \\n0.71 (0.43-1.16) \\n\\nBASMI score \\n0.09 \\n0.748 \\n1.10 (0.62-1.94) \\n\\nChest expansion, cm \\n0.29 \\n0.329 \\n1.34 (0.75-2.39) \\n\\nmSASSS a \\n−0.15 \\n0.032 \\n0.86 (0.74-0.99) \\n\\nOR, odds ratio; CI, confidence interval; ΔmSASSS, change in mSASSS from baseline; SpA, spondyloarthropathy; BASFI, Bath \\nAS Functional Index; BASMI, Bath AS Metrology Index; mSASSS, modified stoke ankylosing spondylitis (AS) spine score. \\n\\na \\n\\np < 0.05.', metadata={}),\n",
       " Document(page_content='BASFI score \\n−0.35 \\n0.170 \\n0.71 (0.43-1.16) \\n\\nBASMI score \\n0.09 \\n0.748 \\n1.10 (0.62-1.94) \\n\\nChest expansion, cm \\n0.29 \\n0.329 \\n1.34 (0.75-2.39) \\n\\nmSASSS a \\n−0.15 \\n0.032 \\n0.86 (0.74-0.99) \\n\\nOR, odds ratio; CI, confidence interval; ΔmSASSS, change in mSASSS from baseline; SpA, spondyloarthropathy; BASFI, Bath \\nAS Functional Index; BASMI, Bath AS Metrology Index; mSASSS, modified stoke ankylosing spondylitis (AS) spine score. \\n\\na \\n\\np < 0.05. \\n\\n\\nConflict of interestThis study was supported by Janssen Pharmaceuticals, Inc.\\nPhysical function in ankylosing spondylitis is independently determined by both disease activity and radiographic damage of the spine. R Landewe, M Dougados, H Mielants, H Van Der Tempel, D Van Der Heijde, Ann Rheum Dis. 68Landewe R, Dougados M, Mielants H, van der Tempel H, van der Heijde D. Physical function in ankylosing spon- dylitis is independently determined by both disease ac- tivity and radiographic damage of the spine. Ann Rheum Dis 2009;68:863-867.', metadata={}),\n",
       " Document(page_content=\"a \\n\\np < 0.05. \\n\\n\\nConflict of interestThis study was supported by Janssen Pharmaceuticals, Inc.\\nPhysical function in ankylosing spondylitis is independently determined by both disease activity and radiographic damage of the spine. R Landewe, M Dougados, H Mielants, H Van Der Tempel, D Van Der Heijde, Ann Rheum Dis. 68Landewe R, Dougados M, Mielants H, van der Tempel H, van der Heijde D. Physical function in ankylosing spon- dylitis is independently determined by both disease ac- tivity and radiographic damage of the spine. Ann Rheum Dis 2009;68:863-867.\\n\\nAssessment of outcome in ankylosing spondylitis: an extended radiographic scoring system. M C Creemers, M J Franssen, M A Van&apos;t Hof, F W Gribnau, L B Van De Putte, P L Van Riel, Ann Rheum Dis. 64Creemers MC, Franssen MJ, van't Hof MA, Gribnau FW, van de Putte LB, van Riel PL. Assessment of outcome in ankylosing spondylitis: an extended radiographic scoring system. Ann Rheum Dis 2005;64:127-129.\", metadata={}),\n",
       " Document(page_content=\"Assessment of outcome in ankylosing spondylitis: an extended radiographic scoring system. M C Creemers, M J Franssen, M A Van&apos;t Hof, F W Gribnau, L B Van De Putte, P L Van Riel, Ann Rheum Dis. 64Creemers MC, Franssen MJ, van't Hof MA, Gribnau FW, van de Putte LB, van Riel PL. Assessment of outcome in ankylosing spondylitis: an extended radiographic scoring system. Ann Rheum Dis 2005;64:127-129.\\n\\nRadiographic progression in patients with ankylosing spondylitis after 2 years of treatment with the tumour necrosis factor alpha antibody infliximab. X Baraliakos, J Listing, M Rudwaleit, J Brandt, J Sieper, J Braun, Ann Rheum Dis. 64Baraliakos X, Listing J, Rudwaleit M, Brandt J, Sieper J, Braun J. Radiographic progression in patients with an- kylosing spondylitis after 2 years of treatment with the tumour necrosis factor alpha antibody infliximab. Ann Rheum Dis 2005;64:1462-1466.\", metadata={}),\n",
       " Document(page_content='Radiographic progression in patients with ankylosing spondylitis after 2 years of treatment with the tumour necrosis factor alpha antibody infliximab. X Baraliakos, J Listing, M Rudwaleit, J Brandt, J Sieper, J Braun, Ann Rheum Dis. 64Baraliakos X, Listing J, Rudwaleit M, Brandt J, Sieper J, Braun J. Radiographic progression in patients with an- kylosing spondylitis after 2 years of treatment with the tumour necrosis factor alpha antibody infliximab. Ann Rheum Dis 2005;64:1462-1466.\\n\\nRadiographic progression in patients with ankylosing spondylitis after 4 yrs of treatment with the anti-TNF-alpha antibody infliximab. X Baraliakos, J Listing, J Brandt, Rheumatology (Oxford). 46Baraliakos X, Listing J, Brandt J, et al. Radiographic pro- gression in patients with ankylosing spondylitis after 4 yrs of treatment with the anti-TNF-alpha antibody inflix- imab. Rheumatology (Oxford) 2007;46:1450-1453.', metadata={}),\n",
       " Document(page_content='Radiographic progression in patients with ankylosing spondylitis after 4 yrs of treatment with the anti-TNF-alpha antibody infliximab. X Baraliakos, J Listing, J Brandt, Rheumatology (Oxford). 46Baraliakos X, Listing J, Brandt J, et al. Radiographic pro- gression in patients with ankylosing spondylitis after 4 yrs of treatment with the anti-TNF-alpha antibody inflix- imab. Rheumatology (Oxford) 2007;46:1450-1453.\\n\\nRadiographic progression of ankylosing spondylitis after up to two years of treatment with etanercept. D Van Der Heijde, R Landewe, S Einstein, Arthritis Rheum. 58van der Heijde D, Landewe R, Einstein S, et al. Radio- graphic progression of ankylosing spondylitis after up to two years of treatment with etanercept. Arthritis Rheum 2008;58:1324-1331.', metadata={}),\n",
       " Document(page_content='Radiographic progression of ankylosing spondylitis after up to two years of treatment with etanercept. D Van Der Heijde, R Landewe, S Einstein, Arthritis Rheum. 58van der Heijde D, Landewe R, Einstein S, et al. Radio- graphic progression of ankylosing spondylitis after up to two years of treatment with etanercept. Arthritis Rheum 2008;58:1324-1331.\\n\\nAssessment of radiographic progression in the spines of patients with ankylosing spondylitis treated with adalimumab for up to 2 years. D Van Der Heijde, D Salonen, B N Weissman, Arthritis Res Ther. 11127van der Heijde D, Salonen D, Weissman BN, et al. As- sessment of radiographic progression in the spines of patients with ankylosing spondylitis treated with adalim- umab for up to 2 years. Arthritis Res Ther 2009;11:R127.', metadata={}),\n",
       " Document(page_content='Assessment of radiographic progression in the spines of patients with ankylosing spondylitis treated with adalimumab for up to 2 years. D Van Der Heijde, D Salonen, B N Weissman, Arthritis Res Ther. 11127van der Heijde D, Salonen D, Weissman BN, et al. As- sessment of radiographic progression in the spines of patients with ankylosing spondylitis treated with adalim- umab for up to 2 years. Arthritis Res Ther 2009;11:R127.\\n\\nThe effect of two golimumab doses on radiographic progression in ankylosing spondylitis: results through 4 years of the GO-RAISE trial. J Braun, X Baraliakos, K G Hermann, Ann Rheum Dis. 73Braun J, Baraliakos X, Hermann KG, et al. The effect of two golimumab doses on radiographic progression in ankylosing spondylitis: results through 4 years of the GO-RAISE trial. Ann Rheum Dis 2014;73:1107-1113.', metadata={}),\n",
       " Document(page_content='The effect of two golimumab doses on radiographic progression in ankylosing spondylitis: results through 4 years of the GO-RAISE trial. J Braun, X Baraliakos, K G Hermann, Ann Rheum Dis. 73Braun J, Baraliakos X, Hermann KG, et al. The effect of two golimumab doses on radiographic progression in ankylosing spondylitis: results through 4 years of the GO-RAISE trial. Ann Rheum Dis 2014;73:1107-1113.\\n\\nGolimumab administered subcutaneously every 4 weeks in ankylosing spondylitis: 5-year results of the GO-RAISE study. A Deodhar, J Braun, R D Inman, Ann Rheum Dis. 74Deodhar A, Braun J, Inman RD, et al. Golimumab admin- istered subcutaneously every 4 weeks in ankylosing spon- dylitis: 5-year results of the GO-RAISE study. Ann Rheum Dis 2015;74:757-761.', metadata={}),\n",
       " Document(page_content='Golimumab administered subcutaneously every 4 weeks in ankylosing spondylitis: 5-year results of the GO-RAISE study. A Deodhar, J Braun, R D Inman, Ann Rheum Dis. 74Deodhar A, Braun J, Inman RD, et al. Golimumab admin- istered subcutaneously every 4 weeks in ankylosing spon- dylitis: 5-year results of the GO-RAISE study. Ann Rheum Dis 2015;74:757-761.\\n\\nClinical features of adultonset ankylosing spondylitis in Korean patients: patients with peripheral joint disease (PJD) have less severe spinal disease course than those without PJD. H J Baek, K C Shin, Y J Lee, Rheumatology (Oxford). 43Baek HJ, Shin KC, Lee YJ, et al. Clinical features of adult- onset ankylosing spondylitis in Korean patients: patients with peripheral joint disease (PJD) have less severe spinal disease course than those without PJD. Rheumatology (Oxford) 2004;43:1526-1531.', metadata={}),\n",
       " Document(page_content='Clinical features of adultonset ankylosing spondylitis in Korean patients: patients with peripheral joint disease (PJD) have less severe spinal disease course than those without PJD. H J Baek, K C Shin, Y J Lee, Rheumatology (Oxford). 43Baek HJ, Shin KC, Lee YJ, et al. Clinical features of adult- onset ankylosing spondylitis in Korean patients: patients with peripheral joint disease (PJD) have less severe spinal disease course than those without PJD. Rheumatology (Oxford) 2004;43:1526-1531.\\n\\nThe presence of peripheral arthritis delays spinal radiographic progression in ankylosing spondylitis: Observation Study of the Korean Spondyloarthropathy Registry. T J Kim, S Lee, K B Joo, Rheumatology (Oxford). 53Kim TJ, Lee S, Joo KB, et al. The presence of peripheral arthritis delays spinal radiographic progression in an- kylosing spondylitis: Observation Study of the Korean Spondyloarthropathy Registry. Rheumatology (Oxford) 2014;53:1404-1408.\\n\\nSpondyloarthritis in 2012: advances in pathogenesis through animal models and imaging. W P Maksymowych, Nat Rev Rheumatol. 9Maksymowych WP. Spondyloarthritis in 2012: advances in pathogenesis through animal models and imaging. Nat Rev Rheumatol 2013;9:72-74.', metadata={}),\n",
       " Document(page_content=\"Spondyloarthritis in 2012: advances in pathogenesis through animal models and imaging. W P Maksymowych, Nat Rev Rheumatol. 9Maksymowych WP. Spondyloarthritis in 2012: advances in pathogenesis through animal models and imaging. Nat Rev Rheumatol 2013;9:72-74.\\n\\nSuppression of inflammation and effects on KEY MESSAGE 1. Korean ankylosing spondylitis patients had distinctive patterns of spinal lesion progression, as 'progressors' versus 'non-progressors. W P Maksymowych, N Morency, B Conner-Spady, R G Lambert, despite active treatment with golimumabMaksymowych WP, Morency N, Conner-Spady B, Lam- bert RG. Suppression of inflammation and effects on KEY MESSAGE 1. Korean ankylosing spondylitis patients had dis- tinctive patterns of spinal lesion progression, as 'progressors' versus 'non-progressors,' despite active treatment with golimumab.\\n\\nThe initial severity of the spinal lesion(s) was important in predicting radiographic progression. The initial severity of the spinal lesion(s) was important in predicting radiographic progres- sion.\\n\\nnew bone formation in ankylosing spondylitis: evidence for a window of opportunity in disease modification. Ann Rheum Dis. 72new bone formation in ankylosing spondylitis: evidence for a window of opportunity in disease modification. Ann Rheum Dis 2013;72:23-28.\", metadata={}),\n",
       " Document(page_content='The initial severity of the spinal lesion(s) was important in predicting radiographic progression. The initial severity of the spinal lesion(s) was important in predicting radiographic progres- sion.\\n\\nnew bone formation in ankylosing spondylitis: evidence for a window of opportunity in disease modification. Ann Rheum Dis. 72new bone formation in ankylosing spondylitis: evidence for a window of opportunity in disease modification. Ann Rheum Dis 2013;72:23-28.\\n\\nProgression of radiographic damage in patients with ankylosing spondylitis: defining the central role of syndesmophytes. X Baraliakos, J Listing, M Rudwaleit, Ann Rheum Dis. 66Baraliakos X, Listing J, Rudwaleit M, et al. Progression of radiographic damage in patients with ankylosing spon- dylitis: defining the central role of syndesmophytes. Ann Rheum Dis 2007;66:910-915.\\n\\nThe impact of tumor necrosis factor α inhibitors on radiographic progression in ankylosing spondylitis. N Haroon, R D Inman, T J Learch, Arthritis Rheum. 65Haroon N, Inman RD, Learch TJ, et al. The impact of tumor necrosis factor α inhibitors on radiographic progression in ankylosing spondylitis. Arthritis Rheum 2013;65:2645-2654.', metadata={}),\n",
       " Document(page_content='The impact of tumor necrosis factor α inhibitors on radiographic progression in ankylosing spondylitis. N Haroon, R D Inman, T J Learch, Arthritis Rheum. 65Haroon N, Inman RD, Learch TJ, et al. The impact of tumor necrosis factor α inhibitors on radiographic progression in ankylosing spondylitis. Arthritis Rheum 2013;65:2645-2654.\\n\\nHuman leukocyte antigen-B*2705 is the predominant subtype in the Korean population with ankylosing spondylitis, unlike in other Asians. S H Lee, I A Choi, Y A Lee, Rheumatol Int. 29Lee SH, Choi IA, Lee YA, et al. Human leukocyte anti- gen-B*2705 is the predominant subtype in the Korean population with ankylosing spondylitis, unlike in other Asians. Rheumatol Int 2008;29:43-46.\\n\\nClinical spectrum of ankylosing spondylitis in Korea. T J Kim, T H Kim, Joint Bone Spine. 77Kim TJ, Kim TH. Clinical spectrum of ankylosing spon- dylitis in Korea. Joint Bone Spine 2010;77:235-240.', metadata={}),\n",
       " Document(page_content='Clinical spectrum of ankylosing spondylitis in Korea. T J Kim, T H Kim, Joint Bone Spine. 77Kim TJ, Kim TH. Clinical spectrum of ankylosing spon- dylitis in Korea. Joint Bone Spine 2010;77:235-240.\\n\\nHigher prevalence of peripheral arthritis among ankylosing spondylitis patients. J H Lee, J B Jun, S Jung, J Korean Med Sci. 17Lee JH, Jun JB, Jung S, et al. Higher prevalence of periph- eral arthritis among ankylosing spondylitis patients. J Korean Med Sci 2002;17:669-673.\\n\\nThe influence of peripheral arthritis on disease activity in ankylosing spondylitis patients as measured with the Bath Ankylosing Spondylitis Disease Activity Index. L Heuft-Dorenbosch, A Van Tubergen, A Spoorenberg, Arthritis Rheum. 51Heuft-Dorenbosch L, van Tubergen A, Spoorenberg A, et al. The influence of peripheral arthritis on disease activ- ity in ankylosing spondylitis patients as measured with the Bath Ankylosing Spondylitis Disease Activity Index. Arthritis Rheum 2004;51:154-159.', metadata={})]"
      ]
     },
     "execution_count": 38,
     "metadata": {},
     "output_type": "execute_result"
    }
   ],
   "source": [
    "# split the text into chunks\n",
    "documents = text_splitter.create_documents([ft.loc[0, 'text']])\n",
    "documents"
   ]
  },
  {
   "cell_type": "code",
   "execution_count": 39,
   "metadata": {},
   "outputs": [],
   "source": [
    "# # Create unique id for each chunk\n",
    "# import hashlib\n",
    "# m = hashlib.md5()\n",
    "# uid = m.hexdigest()[:12]\n",
    "\n",
    "# data = [{\n",
    "#     'id': f'{uid}-{i}',\n",
    "#     'text': chunk,\n",
    "#     'source': 'prompt',\n",
    "# } for i, chunk in enumerate(chunks)\n",
    "# ]"
   ]
  },
  {
   "cell_type": "code",
   "execution_count": 44,
   "metadata": {},
   "outputs": [],
   "source": [
    "# create data for chroma\n",
    "data = [\n",
    "    {\n",
    "        'id': f'{ft.loc[0, \"corpusid\"]}-{i}',\n",
    "        'text': chunk,\n",
    "        'metadata': ft.iloc[0, 1:].to_dict()\n",
    "    } for i, chunk in enumerate(documents)\n",
    "]"
   ]
  },
  {
   "cell_type": "code",
   "execution_count": 42,
   "metadata": {},
   "outputs": [
    {
     "data": {
      "text/plain": [
       "[Document(page_content=\"2018\\n\\nGuro Hospital \\nSeoul ; \\nJanssen \\nM.D.Eun Young Lee \\nJeong Seok Lee \\nDivision of Rheumatology\\nDepartment of Internal Medicine\\nSeoul National University Hospital\\nSeoul\\n\\nYeong Wook Song \\nDivision of Rheumatology\\nDepartment of Internal Medicine\\nSeoul National University Hospital\\nSeoul\\n\\nTae Hwan Kim \\nDivision of Rheumatology\\nDepartment of Internal Medicine\\nHanyang University Seoul Hospital\\nSeoul\\n\\nWon Tae Chung \\nDivision of Rheumatology\\nDepartment of Internal Medicine\\nDong-A University Hospital\\nBusan\\n\\nSeung Geun Lee \\nDivision of Rheumatology\\nDepartment of Internal Medicine\\nPusan National University Hospital\\nBusan\\n\\nSung Hwan Park \\nDivision of Rheumatology\\nDepartment of Internal Medicine\\nCollege of Medicine\\nSeoul St. Mary's Hospital\\nThe Catholic University of Korea\\nSeoul\\n\\nGwan Gyu Song \\nDivision of Rheumatology\\nDepartment of Internal Medicine\\nKorea, Medical Affairs\\nSeoulKorea University, Korea\\n\\nDaeYoung Yu \\nStephen Xu \\nDepartment of Biostatistics\\nDivision of Rheumatology\\nDepartment of Internal Medicine\\nJanssen Research & Development, LLC\\nSpring HousePAUSA\\n\\nSeoul National University Hospital\\n101 Daehak-ro, Jongno-gu03080SeoulKorea\\n\\nEun Young Lee \\nDivision of Rheumatology\\nDepartment of Internal Medicine\\nSeoul National University Hospital\\nSeoul\\n\\nKorean J Intern Med\\n33201810.3904/kjim.2016.046Received : February 19, 2016 Revised : May 12, 2016 Accepted : May 22, 2016 Correspondence toORIGINAL ARTICLE Lee JS, et al. Spinal damage in ankylosing spondylitis in Koreans\\n\\n\\nINTRODUCTION\", metadata={'corpusid': 19069287, 'title': 'Baseline extent of damage predicts spinal radiographic progression in Korean patients with ankylosing spondylitis treated with golimumab', 's2fieldsofstudy': ['Medicine'], 'authors': [{'authorId': '77537957', 'name': 'J. Lee'}, {'authorId': '2213462146', 'name': 'Y. Song'}, {'authorId': '2155054411', 'name': 'Tae Hwan Kim'}, {'authorId': '3758292', 'name': 'W. Chung'}, {'authorId': '2108208260', 'name': 'Seung Geun Lee'}, {'authorId': '2115276755', 'name': 'S. Park'}, {'authorId': '5157481', 'name': 'G. Song'}, {'authorId': '2152794301', 'name': 'D. Y. Yu'}, {'authorId': '66948336', 'name': 'Stephen Xu'}, {'authorId': '145031477', 'name': 'E. Lee'}], 'venue': 'The Korean Journal of Internal Medicine', 'year': 2017.0, 'referencecount': 21, 'citationcount': 4, 'influentialcitationcount': 0, 'isopenaccess': True, 'publicationtypes': '{Study,JournalArticle}', 'publicationdate': '2017-01-20', 'journal': '{\"name\": \"The Korean Journal of Internal Medicine\", \"pages\": \"622 - 628\", \"volume\": \"33\"}', 'chunk_id': 0}),\n",
       " Document(page_content='Ankylosing spondylitis (AS) is a chronic rheumatic disease associated with spinal inflammation and bony fusion of the spine that leads to functional impairment [1]. Radiographic damage of the spine can be quantified by the modified stoke AS spine score (mSASSS) [2]. Although tumor necrosis factor α (TNF-α) blockade has been shown to reduce active inflammation in AS patients, the previous clinical trials of TNF-α blockade showed discordant results in pre-Background/Aims: For patients with ankylosing spondylitis (AS), golimumab has consistent efficacy in controlling disease activity over 5 years but its benefit in preventing radiographic progression was less clear at 4 years. To predict radiographic progression, we analyzed the baseline characteristics of AS patients in a Korean population. Methods: Sixty-eight Korean patients with AS participated in the phase 3, multicenter, randomized, placebo-controlled, double-blind trial (GO-RAISE) which has previously been described. Baseline modified stoke AS spine score (mSASSS) and change in mSASSS from baseline (ΔmSASSS) until week 208 were analyzed in the Korean patients enrolled in the GO-RAISE study. Results: Although Korean patients had lower baseline mSASSS compared to non-Korean patients and received active management, radiographic progression was not prevented. Korean patients who did not undergo radiographic progression of spinal lesions of AS were younger and had shorter symptomatic duration, lower Bath AS functional and metrology indices, better chest expansion, and lower baseline mSASSS. The baseline mSASSS and ΔmSASSS were positively correlated in Korean AS patients (p < 0.001). Radiographic progression was more prevalent (80.0%) when baseline mSASSS > 10 and less common (13.0%) with baseline mSASSS = 0. Conclusions: In Korean AS patients, radiographic progression of the spine after 4 years was predicted effectively by the initial severity of the spinal lesion(s) in patients treated with golimumab.', metadata={'corpusid': 19069287, 'title': 'Baseline extent of damage predicts spinal radiographic progression in Korean patients with ankylosing spondylitis treated with golimumab', 's2fieldsofstudy': ['Medicine'], 'authors': [{'authorId': '77537957', 'name': 'J. Lee'}, {'authorId': '2213462146', 'name': 'Y. Song'}, {'authorId': '2155054411', 'name': 'Tae Hwan Kim'}, {'authorId': '3758292', 'name': 'W. Chung'}, {'authorId': '2108208260', 'name': 'Seung Geun Lee'}, {'authorId': '2115276755', 'name': 'S. Park'}, {'authorId': '5157481', 'name': 'G. Song'}, {'authorId': '2152794301', 'name': 'D. Y. Yu'}, {'authorId': '66948336', 'name': 'Stephen Xu'}, {'authorId': '145031477', 'name': 'E. Lee'}], 'venue': 'The Korean Journal of Internal Medicine', 'year': 2017.0, 'referencecount': 21, 'citationcount': 4, 'influentialcitationcount': 0, 'isopenaccess': True, 'publicationtypes': '{Study,JournalArticle}', 'publicationdate': '2017-01-20', 'journal': '{\"name\": \"The Korean Journal of Internal Medicine\", \"pages\": \"622 - 628\", \"volume\": \"33\"}', 'chunk_id': 1}),\n",
       " Document(page_content='Keywords: Spondylitis, ankylosing; Golimumab; Disease progression Baseline extent of damage predicts spinal radiographic progression in Korean patients with ankylosing spondylitis treated with golimumab venting radiologic progression as measured by mSASSS [3][4][5][6][7]. Golimumab, a human monoclonal anti-TNF-α antibody, was evaluated successfully by the randomized controlled trial GO-RAISE (multicenter, randomized, placebo-controlled, double-blind trial), which demonstrated the consistent efficacy of golimumab over 5 years in terms of function, disease activity, and spinal mobility [8]. However, the benefit of golimumab over placebo in preventing radiographic progression was unclear at 4 years because the patients in the placebo group crossed over to the golimumab 50 mg group at week 24 due to ethical concerns.\\n\\nAfter following the patients with AS who received golimumab for more than 3-and-a-half to 4 years in Korea, we had a clinical impression that our patients could be divided into two groups based on radiographic progression. Indeed, in infliximab users, radiographic damage at baseline was suggested as a predictor for radiographic progression [3]. In the Korean population, several factors, including baseline mSASSS and peripheral joint disease, were proposed to be associated with radiographic progression in previous studies [9,10]. However, these retrospective studies were not able to draw definite conclusions about the factors predictive for radiographic progression.\\n\\nTo investigate the reason for these outcomes, we tried to analyze baseline characteristics and to suggest factors predictive for radiographic progression in Korean patients with AS who were enrolled in the GO-RAISE trial.', metadata={'corpusid': 19069287, 'title': 'Baseline extent of damage predicts spinal radiographic progression in Korean patients with ankylosing spondylitis treated with golimumab', 's2fieldsofstudy': ['Medicine'], 'authors': [{'authorId': '77537957', 'name': 'J. Lee'}, {'authorId': '2213462146', 'name': 'Y. Song'}, {'authorId': '2155054411', 'name': 'Tae Hwan Kim'}, {'authorId': '3758292', 'name': 'W. Chung'}, {'authorId': '2108208260', 'name': 'Seung Geun Lee'}, {'authorId': '2115276755', 'name': 'S. Park'}, {'authorId': '5157481', 'name': 'G. Song'}, {'authorId': '2152794301', 'name': 'D. Y. Yu'}, {'authorId': '66948336', 'name': 'Stephen Xu'}, {'authorId': '145031477', 'name': 'E. Lee'}], 'venue': 'The Korean Journal of Internal Medicine', 'year': 2017.0, 'referencecount': 21, 'citationcount': 4, 'influentialcitationcount': 0, 'isopenaccess': True, 'publicationtypes': '{Study,JournalArticle}', 'publicationdate': '2017-01-20', 'journal': '{\"name\": \"The Korean Journal of Internal Medicine\", \"pages\": \"622 - 628\", \"volume\": \"33\"}', 'chunk_id': 2}),\n",
       " Document(page_content='After following the patients with AS who received golimumab for more than 3-and-a-half to 4 years in Korea, we had a clinical impression that our patients could be divided into two groups based on radiographic progression. Indeed, in infliximab users, radiographic damage at baseline was suggested as a predictor for radiographic progression [3]. In the Korean population, several factors, including baseline mSASSS and peripheral joint disease, were proposed to be associated with radiographic progression in previous studies [9,10]. However, these retrospective studies were not able to draw definite conclusions about the factors predictive for radiographic progression.\\n\\nTo investigate the reason for these outcomes, we tried to analyze baseline characteristics and to suggest factors predictive for radiographic progression in Korean patients with AS who were enrolled in the GO-RAISE trial.\\n\\n\\nMETHODS\\n\\n\\nPatients\\n\\nIn Korea, 72 patients were enrolled initially in the phase 3, GO-RAISE trial investigating the clinical efficacy of golimumab, as previously described [7,8]. Of these, 66 remained on trial through 5 years and 68 Korean patients who had radiographic data were included in this analysis. According to the study protocol, all patients gave informed consent. The clinical study was conducted in six centers in Korea and approved by the local Ethics Committees of each participating center.', metadata={'corpusid': 19069287, 'title': 'Baseline extent of damage predicts spinal radiographic progression in Korean patients with ankylosing spondylitis treated with golimumab', 's2fieldsofstudy': ['Medicine'], 'authors': [{'authorId': '77537957', 'name': 'J. Lee'}, {'authorId': '2213462146', 'name': 'Y. Song'}, {'authorId': '2155054411', 'name': 'Tae Hwan Kim'}, {'authorId': '3758292', 'name': 'W. Chung'}, {'authorId': '2108208260', 'name': 'Seung Geun Lee'}, {'authorId': '2115276755', 'name': 'S. Park'}, {'authorId': '5157481', 'name': 'G. Song'}, {'authorId': '2152794301', 'name': 'D. Y. Yu'}, {'authorId': '66948336', 'name': 'Stephen Xu'}, {'authorId': '145031477', 'name': 'E. Lee'}], 'venue': 'The Korean Journal of Internal Medicine', 'year': 2017.0, 'referencecount': 21, 'citationcount': 4, 'influentialcitationcount': 0, 'isopenaccess': True, 'publicationtypes': '{Study,JournalArticle}', 'publicationdate': '2017-01-20', 'journal': '{\"name\": \"The Korean Journal of Internal Medicine\", \"pages\": \"622 - 628\", \"volume\": \"33\"}', 'chunk_id': 3}),\n",
       " Document(page_content='To investigate the reason for these outcomes, we tried to analyze baseline characteristics and to suggest factors predictive for radiographic progression in Korean patients with AS who were enrolled in the GO-RAISE trial.\\n\\n\\nMETHODS\\n\\n\\nPatients\\n\\nIn Korea, 72 patients were enrolled initially in the phase 3, GO-RAISE trial investigating the clinical efficacy of golimumab, as previously described [7,8]. Of these, 66 remained on trial through 5 years and 68 Korean patients who had radiographic data were included in this analysis. According to the study protocol, all patients gave informed consent. The clinical study was conducted in six centers in Korea and approved by the local Ethics Committees of each participating center.\\n\\nAmong the 68 patients, 15, 24, and 29 of them were initially assigned to receive subcutaneous doses of placebo, golimumab 50 mg, or golimumab 100 mg, respectively, at baseline and every 4 weeks thereafter. All 15 patients initially assigned to the placebo group crossed over at week 24 to the 50 mg golimumab group. After unblinding at week 104, patients receiving golimumab 50 mg could increase the dose to 100 mg every 4 weeks. A dose decrease from 100 to 50 mg was also allowed. Radiographic evaluations were performed at baseline, week 104, and week 208. Therefore, all 68 patients received golimumab for at least 3-and-a-half years before week 208.\\n\\nThe mSASSS scorings for radiographic assessment of the spinal lesions for all the GO-RAISE trial patients were performed by two independent readers who were blinded to treatment information and radiographic sequence.', metadata={'corpusid': 19069287, 'title': 'Baseline extent of damage predicts spinal radiographic progression in Korean patients with ankylosing spondylitis treated with golimumab', 's2fieldsofstudy': ['Medicine'], 'authors': [{'authorId': '77537957', 'name': 'J. Lee'}, {'authorId': '2213462146', 'name': 'Y. Song'}, {'authorId': '2155054411', 'name': 'Tae Hwan Kim'}, {'authorId': '3758292', 'name': 'W. Chung'}, {'authorId': '2108208260', 'name': 'Seung Geun Lee'}, {'authorId': '2115276755', 'name': 'S. Park'}, {'authorId': '5157481', 'name': 'G. Song'}, {'authorId': '2152794301', 'name': 'D. Y. Yu'}, {'authorId': '66948336', 'name': 'Stephen Xu'}, {'authorId': '145031477', 'name': 'E. Lee'}], 'venue': 'The Korean Journal of Internal Medicine', 'year': 2017.0, 'referencecount': 21, 'citationcount': 4, 'influentialcitationcount': 0, 'isopenaccess': True, 'publicationtypes': '{Study,JournalArticle}', 'publicationdate': '2017-01-20', 'journal': '{\"name\": \"The Korean Journal of Internal Medicine\", \"pages\": \"622 - 628\", \"volume\": \"33\"}', 'chunk_id': 4}),\n",
       " Document(page_content='The mSASSS scorings for radiographic assessment of the spinal lesions for all the GO-RAISE trial patients were performed by two independent readers who were blinded to treatment information and radiographic sequence.\\n\\nAfter analyzing the baseline characteristics that might predict radiographic progression in Korean patients, we compared baseline mSASSS and change in mSASSS from baseline (ΔmSASSS) at week 208 among the Korean patients and those of other countries (Canada, USA, Germany, Belgium, Taiwan, Finland, France, and the Netherlands). Assessment of SpondyloArthritis international Society (ASAS) partial remission rate was also compared. We carried out a more detailed analysis on the pattern of the relationship between baseline mSASSS and ΔmSASSS. The trial is registered as a clinical trial at ClinicalTrials.gov (NCT00265083) (registration date: December 12,2005).\\n\\n\\nStatistical analysis', metadata={'corpusid': 19069287, 'title': 'Baseline extent of damage predicts spinal radiographic progression in Korean patients with ankylosing spondylitis treated with golimumab', 's2fieldsofstudy': ['Medicine'], 'authors': [{'authorId': '77537957', 'name': 'J. Lee'}, {'authorId': '2213462146', 'name': 'Y. Song'}, {'authorId': '2155054411', 'name': 'Tae Hwan Kim'}, {'authorId': '3758292', 'name': 'W. Chung'}, {'authorId': '2108208260', 'name': 'Seung Geun Lee'}, {'authorId': '2115276755', 'name': 'S. Park'}, {'authorId': '5157481', 'name': 'G. Song'}, {'authorId': '2152794301', 'name': 'D. Y. Yu'}, {'authorId': '66948336', 'name': 'Stephen Xu'}, {'authorId': '145031477', 'name': 'E. Lee'}], 'venue': 'The Korean Journal of Internal Medicine', 'year': 2017.0, 'referencecount': 21, 'citationcount': 4, 'influentialcitationcount': 0, 'isopenaccess': True, 'publicationtypes': '{Study,JournalArticle}', 'publicationdate': '2017-01-20', 'journal': '{\"name\": \"The Korean Journal of Internal Medicine\", \"pages\": \"622 - 628\", \"volume\": \"33\"}', 'chunk_id': 5}),\n",
       " Document(page_content=\"After analyzing the baseline characteristics that might predict radiographic progression in Korean patients, we compared baseline mSASSS and change in mSASSS from baseline (ΔmSASSS) at week 208 among the Korean patients and those of other countries (Canada, USA, Germany, Belgium, Taiwan, Finland, France, and the Netherlands). Assessment of SpondyloArthritis international Society (ASAS) partial remission rate was also compared. We carried out a more detailed analysis on the pattern of the relationship between baseline mSASSS and ΔmSASSS. The trial is registered as a clinical trial at ClinicalTrials.gov (NCT00265083) (registration date: December 12,2005).\\n\\n\\nStatistical analysis\\n\\nBased on whether any progression of radiographic lesion(s) existed, we divided the patients into two groups: one group was 'progressors' who had relatively aggressive exacerbation over time and the other was 'non-progressors' who remained in an indolent status. Baseline demographics and disease characteristics were compared between patients with radiographic progression at week 208 (ΔmSASSS > 0 vs. ΔmSASSS ≤ 0) using an independent t test. The correlation between baseline mSASSS and ΔmSASSS was calculated using Spearman's rho and the Freeman-Halton extension of the Fisher exact probability test. All statistical tests were performed with two-sided alternatives and with a type I error of 0.05 by SAS version 9.2 (SAS Institute Inc., Cary, NC, USA).\\n\\n\\nRESULTS\\n\\n\\nBaseline characteristics associated with the progression of mSASSS\", metadata={'corpusid': 19069287, 'title': 'Baseline extent of damage predicts spinal radiographic progression in Korean patients with ankylosing spondylitis treated with golimumab', 's2fieldsofstudy': ['Medicine'], 'authors': [{'authorId': '77537957', 'name': 'J. Lee'}, {'authorId': '2213462146', 'name': 'Y. Song'}, {'authorId': '2155054411', 'name': 'Tae Hwan Kim'}, {'authorId': '3758292', 'name': 'W. Chung'}, {'authorId': '2108208260', 'name': 'Seung Geun Lee'}, {'authorId': '2115276755', 'name': 'S. Park'}, {'authorId': '5157481', 'name': 'G. Song'}, {'authorId': '2152794301', 'name': 'D. Y. Yu'}, {'authorId': '66948336', 'name': 'Stephen Xu'}, {'authorId': '145031477', 'name': 'E. Lee'}], 'venue': 'The Korean Journal of Internal Medicine', 'year': 2017.0, 'referencecount': 21, 'citationcount': 4, 'influentialcitationcount': 0, 'isopenaccess': True, 'publicationtypes': '{Study,JournalArticle}', 'publicationdate': '2017-01-20', 'journal': '{\"name\": \"The Korean Journal of Internal Medicine\", \"pages\": \"622 - 628\", \"volume\": \"33\"}', 'chunk_id': 6}),\n",
       " Document(page_content=\"RESULTS\\n\\n\\nBaseline characteristics associated with the progression of mSASSS\\n\\nThe patients who did not undergo radiographic progression of the spinal lesion(s) of AS had the following characteristics: (1) relatively younger age; (2) shorter symptom duration; (3) lower Bath AS Functional Index; (4) lower Bath AS Metrology Index; (5) greater chest expansion; and (6) lower baseline mSASSS ( Table 1). As the mean ΔmSASSS of 'ΔmSASSS ≤ 0' group was −0.56 ± 1.39 and 'ΔmSASSS > 0' group was 7.22 ± 6.62 in Korean patients, ΔmSASSS = 0 could be a useful parameter for separating non-progressors from progressors. Sex, human leukocyte antigen (HLA)-B27, smoking, baseline level of C-reactive protein, disease duration before diagnosis, Bath AS disease activity index, and patients' general assessment of back pain and disease activity were not significantly different between progressors and non-progressors. After logistic regression analysis by the parameters with statistical significance or clinical importance, baseline mSASSS was the only variable predicting radiographic progression at week 208 (Table 2).\\n\\n\\nBaseline mSASSS and ΔmSASSS at week 208 in a Korean AS population\", metadata={'corpusid': 19069287, 'title': 'Baseline extent of damage predicts spinal radiographic progression in Korean patients with ankylosing spondylitis treated with golimumab', 's2fieldsofstudy': ['Medicine'], 'authors': [{'authorId': '77537957', 'name': 'J. Lee'}, {'authorId': '2213462146', 'name': 'Y. Song'}, {'authorId': '2155054411', 'name': 'Tae Hwan Kim'}, {'authorId': '3758292', 'name': 'W. Chung'}, {'authorId': '2108208260', 'name': 'Seung Geun Lee'}, {'authorId': '2115276755', 'name': 'S. Park'}, {'authorId': '5157481', 'name': 'G. Song'}, {'authorId': '2152794301', 'name': 'D. Y. Yu'}, {'authorId': '66948336', 'name': 'Stephen Xu'}, {'authorId': '145031477', 'name': 'E. Lee'}], 'venue': 'The Korean Journal of Internal Medicine', 'year': 2017.0, 'referencecount': 21, 'citationcount': 4, 'influentialcitationcount': 0, 'isopenaccess': True, 'publicationtypes': '{Study,JournalArticle}', 'publicationdate': '2017-01-20', 'journal': '{\"name\": \"The Korean Journal of Internal Medicine\", \"pages\": \"622 - 628\", \"volume\": \"33\"}', 'chunk_id': 7}),\n",
       " Document(page_content='Baseline mSASSS and ΔmSASSS at week 208 in a Korean AS population\\n\\nOf the 271 patients who had radiographic data in GO-RAISE trial, there were 68 Korean patients (25.1%), the third largest population by country. Baseline mSASSS was lower in Korean than non-Korean patients with statistical significance (Fig. 1). In addition, Korean patients were consistently more treatment-compliant (Korean 91.7%, non-Korean 66.4%, p < 0.001) and had a higher ASAS partial remission rate (Korean 44.4%, non-Korean 31.3%, p = 0.036) until week 256 (Fig. 2). However, Δm-SASSS was higher in Korean patients when evaluated at week 104 (Korean 1.72 ± 4.14, non-Korean 0.97 ± 3.62, p = 0.143) and week 208 (Korean 2.87 ± 5.93, non-Korean 1.66 ± 4.42, p = 0.393) but this was without statistical significance (Fig. 1). \\n\\n\\nRadiographic progression in relation to baseline mSASSS', metadata={'corpusid': 19069287, 'title': 'Baseline extent of damage predicts spinal radiographic progression in Korean patients with ankylosing spondylitis treated with golimumab', 's2fieldsofstudy': ['Medicine'], 'authors': [{'authorId': '77537957', 'name': 'J. Lee'}, {'authorId': '2213462146', 'name': 'Y. Song'}, {'authorId': '2155054411', 'name': 'Tae Hwan Kim'}, {'authorId': '3758292', 'name': 'W. Chung'}, {'authorId': '2108208260', 'name': 'Seung Geun Lee'}, {'authorId': '2115276755', 'name': 'S. Park'}, {'authorId': '5157481', 'name': 'G. Song'}, {'authorId': '2152794301', 'name': 'D. Y. Yu'}, {'authorId': '66948336', 'name': 'Stephen Xu'}, {'authorId': '145031477', 'name': 'E. Lee'}], 'venue': 'The Korean Journal of Internal Medicine', 'year': 2017.0, 'referencecount': 21, 'citationcount': 4, 'influentialcitationcount': 0, 'isopenaccess': True, 'publicationtypes': '{Study,JournalArticle}', 'publicationdate': '2017-01-20', 'journal': '{\"name\": \"The Korean Journal of Internal Medicine\", \"pages\": \"622 - 628\", \"volume\": \"33\"}', 'chunk_id': 8}),\n",
       " Document(page_content=\"Radiographic progression in relation to baseline mSASSS\\n\\nThere was a positive correlation between baseline mSASSS and ΔmSASSS at week 208 in Korean AS patients (Spearman's rho = 0.487, p < 0.001) (Fig. 3). The trend was more evident when the patients were stratified into subgroups based on the baseline mSASSS. Radiographic progression was more prevalent (80.0%) in the patients who had a baseline mSASSS > 10 and less common (13.0%) in the group without baseline radiographic damage (mSASSS = 0) (Fig. 3).\\n\\n\\nDISCUSSION\\n\\nAccording to our analysis, radiographic progression in Korean patients with AS showed particular features. In spite of favorable radiographic status at baseline and  \\n\\n\\nA B\", metadata={'corpusid': 19069287, 'title': 'Baseline extent of damage predicts spinal radiographic progression in Korean patients with ankylosing spondylitis treated with golimumab', 's2fieldsofstudy': ['Medicine'], 'authors': [{'authorId': '77537957', 'name': 'J. Lee'}, {'authorId': '2213462146', 'name': 'Y. Song'}, {'authorId': '2155054411', 'name': 'Tae Hwan Kim'}, {'authorId': '3758292', 'name': 'W. Chung'}, {'authorId': '2108208260', 'name': 'Seung Geun Lee'}, {'authorId': '2115276755', 'name': 'S. Park'}, {'authorId': '5157481', 'name': 'G. Song'}, {'authorId': '2152794301', 'name': 'D. Y. Yu'}, {'authorId': '66948336', 'name': 'Stephen Xu'}, {'authorId': '145031477', 'name': 'E. Lee'}], 'venue': 'The Korean Journal of Internal Medicine', 'year': 2017.0, 'referencecount': 21, 'citationcount': 4, 'influentialcitationcount': 0, 'isopenaccess': True, 'publicationtypes': '{Study,JournalArticle}', 'publicationdate': '2017-01-20', 'journal': '{\"name\": \"The Korean Journal of Internal Medicine\", \"pages\": \"622 - 628\", \"volume\": \"33\"}', 'chunk_id': 9}),\n",
       " Document(page_content=\"the clinical course during the trial, radiographic progression was not prevented as a result of treatment with golimumab. Ironically, the baseline characteristic with the highest predictive value was baseline mSASSS. Most of the progressors (ΔmSASSS > 0) had a higher baseline mSASSS (> 10) and most of the non-progressors (Δm-SASSS ≤ 0) had no radiographic damage initially. This 'all-or-none' phenomenon could be explained by the hypothesis that early spinal lesions may resolve completely after effective suppression of inflammation with TNF-α blockade [11,12]. Previous studies considered two units or more of mSASSS change (ΔmSASSS ≥ 2) as significant change [7,13]. In light of our results, the criteria we set (baseline mSASSS = 0, ΔmSASSS > 0) were more meaningful for predicting progression because a single bone lesion on X-ray could indicate the existence of other reversible spinal lesions, not detectable by X-ray but which could be detected by magnetic resonance imaging [12]. Our findings also support previous results that showed early initiation and longer use of TNF-α blockade was effective in preventing radiographic progression [14]. As a Korean population is relatively homogeneous in ethnicity, subgroup study can be valuable. Indeed, the predominant subtype of HLA-B27 of Korean AS patients was HLA-B*2705, unlike other Asians [15]. The previous retrospective studies on the clinical characteristics of Korean patients with AS focused mainly on the higher prevalence of juvenile onset AS and peripheral arthritis and the association between the presence of peripheral arthritis and slow radiographic progression [9,10,16,17]. Younger age was shown to be a favorable factor for radiographic progression, but the influence of peripheral arthritis was still controversial [18].\", metadata={'corpusid': 19069287, 'title': 'Baseline extent of damage predicts spinal radiographic progression in Korean patients with ankylosing spondylitis treated with golimumab', 's2fieldsofstudy': ['Medicine'], 'authors': [{'authorId': '77537957', 'name': 'J. Lee'}, {'authorId': '2213462146', 'name': 'Y. Song'}, {'authorId': '2155054411', 'name': 'Tae Hwan Kim'}, {'authorId': '3758292', 'name': 'W. Chung'}, {'authorId': '2108208260', 'name': 'Seung Geun Lee'}, {'authorId': '2115276755', 'name': 'S. Park'}, {'authorId': '5157481', 'name': 'G. Song'}, {'authorId': '2152794301', 'name': 'D. Y. Yu'}, {'authorId': '66948336', 'name': 'Stephen Xu'}, {'authorId': '145031477', 'name': 'E. Lee'}], 'venue': 'The Korean Journal of Internal Medicine', 'year': 2017.0, 'referencecount': 21, 'citationcount': 4, 'influentialcitationcount': 0, 'isopenaccess': True, 'publicationtypes': '{Study,JournalArticle}', 'publicationdate': '2017-01-20', 'journal': '{\"name\": \"The Korean Journal of Internal Medicine\", \"pages\": \"622 - 628\", \"volume\": \"33\"}', 'chunk_id': 10}),\n",
       " Document(page_content='Our study provided the first prospective data for an analysis of the clinical features of AS regarding radiographic progression in Korean patients receiving TNF-α blockade, but the study did have a few limitations.  \\n\\n\\nA B\\n\\nwere included. Therefore, the results of this study cannot be generalized to Asian ethnicity. (2) Because of the smaller size of the study population the statistical power was weaker than for the original study. However, a consistent tendency was noted when comparing baseline mSASSS and ΔmSASSS in Korean and non-Korean populations. (3) The natural course of disease in Korean AS patients could be different from that in golimumab users. In addition, as in the original study, the true effect of golimumab itself was uncertain because all the patients initially belonging to the placebo group (22% of the total study population) crossed over to golimumab groups during the study [8]. Therefore, the results of this study should be interpreted with caution, recognizing these limitations related to the study population.\\n\\nIn conclusion, Korean patients with AS involved in the randomized controlled trial receiving golimumab for up to 4 years had distinctive patterns of spinal lesion progression detected by simple radiographs at week 208. This distinctive pattern of progression could be predicted reliably by the initial severity of the spinal lesion(s). Despite several shortcomings, this study confirmed the value of early and active biological treatment for AS before the appearance of overt spinal damage.\\n\\nFigure 1 .\\n1(A) Means of baseline modified stoke ankylosing spondylitis (AS) spine score (mSASSS) and (B) means of change in mSASSS from baseline (ΔmSASSS) at week 104 and 208.', metadata={'corpusid': 19069287, 'title': 'Baseline extent of damage predicts spinal radiographic progression in Korean patients with ankylosing spondylitis treated with golimumab', 's2fieldsofstudy': ['Medicine'], 'authors': [{'authorId': '77537957', 'name': 'J. Lee'}, {'authorId': '2213462146', 'name': 'Y. Song'}, {'authorId': '2155054411', 'name': 'Tae Hwan Kim'}, {'authorId': '3758292', 'name': 'W. Chung'}, {'authorId': '2108208260', 'name': 'Seung Geun Lee'}, {'authorId': '2115276755', 'name': 'S. Park'}, {'authorId': '5157481', 'name': 'G. Song'}, {'authorId': '2152794301', 'name': 'D. Y. Yu'}, {'authorId': '66948336', 'name': 'Stephen Xu'}, {'authorId': '145031477', 'name': 'E. Lee'}], 'venue': 'The Korean Journal of Internal Medicine', 'year': 2017.0, 'referencecount': 21, 'citationcount': 4, 'influentialcitationcount': 0, 'isopenaccess': True, 'publicationtypes': '{Study,JournalArticle}', 'publicationdate': '2017-01-20', 'journal': '{\"name\": \"The Korean Journal of Internal Medicine\", \"pages\": \"622 - 628\", \"volume\": \"33\"}', 'chunk_id': 11}),\n",
       " Document(page_content=\"In conclusion, Korean patients with AS involved in the randomized controlled trial receiving golimumab for up to 4 years had distinctive patterns of spinal lesion progression detected by simple radiographs at week 208. This distinctive pattern of progression could be predicted reliably by the initial severity of the spinal lesion(s). Despite several shortcomings, this study confirmed the value of early and active biological treatment for AS before the appearance of overt spinal damage.\\n\\nFigure 1 .\\n1(A) Means of baseline modified stoke ankylosing spondylitis (AS) spine score (mSASSS) and (B) means of change in mSASSS from baseline (ΔmSASSS) at week 104 and 208.\\n\\nFigure 2 .\\n2Comparison of ASAS (Assessment of SpondyloArthritis international Society) partial remission rate in Korean and non-Korean ankylosing spondylitis patients using golimumab till week 256. a p < 0.05.\\n\\nFigure 3 .\\n3(A) Correlation between baseline modified stoke ankylosing spondylitis (AS) spine score (mSASSS) and change in mSASSS from baseline (ΔmSASSS) at week 208 (Spearman's rho). (B) Population distribution stratified by baseline mSASSS and ΔmSASSS at week 208 analyzed by the Freeman-Halton extension of the Fisher exact probability test.\", metadata={'corpusid': 19069287, 'title': 'Baseline extent of damage predicts spinal radiographic progression in Korean patients with ankylosing spondylitis treated with golimumab', 's2fieldsofstudy': ['Medicine'], 'authors': [{'authorId': '77537957', 'name': 'J. Lee'}, {'authorId': '2213462146', 'name': 'Y. Song'}, {'authorId': '2155054411', 'name': 'Tae Hwan Kim'}, {'authorId': '3758292', 'name': 'W. Chung'}, {'authorId': '2108208260', 'name': 'Seung Geun Lee'}, {'authorId': '2115276755', 'name': 'S. Park'}, {'authorId': '5157481', 'name': 'G. Song'}, {'authorId': '2152794301', 'name': 'D. Y. Yu'}, {'authorId': '66948336', 'name': 'Stephen Xu'}, {'authorId': '145031477', 'name': 'E. Lee'}], 'venue': 'The Korean Journal of Internal Medicine', 'year': 2017.0, 'referencecount': 21, 'citationcount': 4, 'influentialcitationcount': 0, 'isopenaccess': True, 'publicationtypes': '{Study,JournalArticle}', 'publicationdate': '2017-01-20', 'journal': '{\"name\": \"The Korean Journal of Internal Medicine\", \"pages\": \"622 - 628\", \"volume\": \"33\"}', 'chunk_id': 12}),\n",
       " Document(page_content=\"Figure 2 .\\n2Comparison of ASAS (Assessment of SpondyloArthritis international Society) partial remission rate in Korean and non-Korean ankylosing spondylitis patients using golimumab till week 256. a p < 0.05.\\n\\nFigure 3 .\\n3(A) Correlation between baseline modified stoke ankylosing spondylitis (AS) spine score (mSASSS) and change in mSASSS from baseline (ΔmSASSS) at week 208 (Spearman's rho). (B) Population distribution stratified by baseline mSASSS and ΔmSASSS at week 208 analyzed by the Freeman-Halton extension of the Fisher exact probability test.\\n\\nTable 1 .\\n1Baseline characteristics associated with radiographic progression over 4 years in Korean ankylosing spondylitis pa-Values are presented as mean ± SD. mSASSS, modified stoke ankylosing spondylitis (AS) spine score; ΔmSASSS, change in mSASSS from baseline; HLA, human leukocyte antigen; SpA, spondyloarthropathy; BASDAI, Bath AS Disease Activity Index; BASFI, Bath AS Functional Index; BASMI, Bath AS Metrology Index; VAS, visual analog scale.tients \\n\\nCharacteristic \\nΔmSASSS ≤ 0 (n = 38) \\nΔmSASSS > 0 (n = 30) \\np value\", metadata={'corpusid': 19069287, 'title': 'Baseline extent of damage predicts spinal radiographic progression in Korean patients with ankylosing spondylitis treated with golimumab', 's2fieldsofstudy': ['Medicine'], 'authors': [{'authorId': '77537957', 'name': 'J. Lee'}, {'authorId': '2213462146', 'name': 'Y. Song'}, {'authorId': '2155054411', 'name': 'Tae Hwan Kim'}, {'authorId': '3758292', 'name': 'W. Chung'}, {'authorId': '2108208260', 'name': 'Seung Geun Lee'}, {'authorId': '2115276755', 'name': 'S. Park'}, {'authorId': '5157481', 'name': 'G. Song'}, {'authorId': '2152794301', 'name': 'D. Y. Yu'}, {'authorId': '66948336', 'name': 'Stephen Xu'}, {'authorId': '145031477', 'name': 'E. Lee'}], 'venue': 'The Korean Journal of Internal Medicine', 'year': 2017.0, 'referencecount': 21, 'citationcount': 4, 'influentialcitationcount': 0, 'isopenaccess': True, 'publicationtypes': '{Study,JournalArticle}', 'publicationdate': '2017-01-20', 'journal': '{\"name\": \"The Korean Journal of Internal Medicine\", \"pages\": \"622 - 628\", \"volume\": \"33\"}', 'chunk_id': 13}),\n",
       " Document(page_content='Table 1 .\\n1Baseline characteristics associated with radiographic progression over 4 years in Korean ankylosing spondylitis pa-Values are presented as mean ± SD. mSASSS, modified stoke ankylosing spondylitis (AS) spine score; ΔmSASSS, change in mSASSS from baseline; HLA, human leukocyte antigen; SpA, spondyloarthropathy; BASDAI, Bath AS Disease Activity Index; BASFI, Bath AS Functional Index; BASMI, Bath AS Metrology Index; VAS, visual analog scale.tients \\n\\nCharacteristic \\nΔmSASSS ≤ 0 (n = 38) \\nΔmSASSS > 0 (n = 30) \\np value \\n\\nAge, yr a \\n27.79 ± 7.14 \\n33.10 ± 7.36 \\n0.003 \\n\\nMale sex, % \\n86.8 \\n90.0 \\n0.688 \\n\\nHLA-B27 (positive), % \\n92.1 \\n93.3 \\n0.847 \\n\\nSmoking (yes), % \\n36.8 \\n46.7 \\n0.414 \\n\\nC-reactive protein, mg/dL \\n2.18 ± 2.37 \\n2.70 ± 2.30 \\n0.438 \\n\\nDisease duration, yr \\n4.30 ± 4.41 \\n5.96 ± 4.71 \\n0.059 \\n\\nDuration of SpA symptoms, yr a \\n5.24 ± 4.49 \\n7.93 ± 5.92 \\n0.037 \\n\\nDuration of inflammatory back pain, yr a \\n5.32 ± 4.59 \\n8.57 ± 6.09 \\n0.015 \\n\\nBASDAI score \\n6.48 ± 1.34 \\n7.00 ± 1.23 \\n0.093', metadata={'corpusid': 19069287, 'title': 'Baseline extent of damage predicts spinal radiographic progression in Korean patients with ankylosing spondylitis treated with golimumab', 's2fieldsofstudy': ['Medicine'], 'authors': [{'authorId': '77537957', 'name': 'J. Lee'}, {'authorId': '2213462146', 'name': 'Y. Song'}, {'authorId': '2155054411', 'name': 'Tae Hwan Kim'}, {'authorId': '3758292', 'name': 'W. Chung'}, {'authorId': '2108208260', 'name': 'Seung Geun Lee'}, {'authorId': '2115276755', 'name': 'S. Park'}, {'authorId': '5157481', 'name': 'G. Song'}, {'authorId': '2152794301', 'name': 'D. Y. Yu'}, {'authorId': '66948336', 'name': 'Stephen Xu'}, {'authorId': '145031477', 'name': 'E. Lee'}], 'venue': 'The Korean Journal of Internal Medicine', 'year': 2017.0, 'referencecount': 21, 'citationcount': 4, 'influentialcitationcount': 0, 'isopenaccess': True, 'publicationtypes': '{Study,JournalArticle}', 'publicationdate': '2017-01-20', 'journal': '{\"name\": \"The Korean Journal of Internal Medicine\", \"pages\": \"622 - 628\", \"volume\": \"33\"}', 'chunk_id': 14}),\n",
       " Document(page_content=\"Male sex, % \\n86.8 \\n90.0 \\n0.688 \\n\\nHLA-B27 (positive), % \\n92.1 \\n93.3 \\n0.847 \\n\\nSmoking (yes), % \\n36.8 \\n46.7 \\n0.414 \\n\\nC-reactive protein, mg/dL \\n2.18 ± 2.37 \\n2.70 ± 2.30 \\n0.438 \\n\\nDisease duration, yr \\n4.30 ± 4.41 \\n5.96 ± 4.71 \\n0.059 \\n\\nDuration of SpA symptoms, yr a \\n5.24 ± 4.49 \\n7.93 ± 5.92 \\n0.037 \\n\\nDuration of inflammatory back pain, yr a \\n5.32 ± 4.59 \\n8.57 ± 6.09 \\n0.015 \\n\\nBASDAI score \\n6.48 ± 1.34 \\n7.00 ± 1.23 \\n0.093 \\n\\nBASFI score a \\n2.33 ± 1.69 \\n4.07 ± 2.54 \\n0.002 \\n\\nBASMI score a \\n2.29 ± 1.41 \\n4.20 ± 2.38 \\n< 0.001 \\n\\nChest expansion, cm a \\n3.82 ± 1.66 \\n2.51 ± 1.23 \\n< 0.001 \\n\\nmSASSS a \\n2.74 ± 4.85 \\n18.80 ± 17.26 \\n< 0.001 \\n\\nPatients' general assessment of total back pain (VAS, 0-10) \\n6.74 ± 1.61 \\n7.49 ± 1.63 \\n0.055 \\n\\nPatients' general assessment of disease activity (VAS, 0-10) \\n6.62 ± 1.84 \\n7.03 ± 1.99 \\n0.336 \\n\\na \\n\\np < 0.05. \\n\\n\\nTable 2 .\\n2Logistic-regression analysis to identify predictors of radiographic progression at week 208 in Korean ankylosingspondylitis patients\", metadata={'corpusid': 19069287, 'title': 'Baseline extent of damage predicts spinal radiographic progression in Korean patients with ankylosing spondylitis treated with golimumab', 's2fieldsofstudy': ['Medicine'], 'authors': [{'authorId': '77537957', 'name': 'J. Lee'}, {'authorId': '2213462146', 'name': 'Y. Song'}, {'authorId': '2155054411', 'name': 'Tae Hwan Kim'}, {'authorId': '3758292', 'name': 'W. Chung'}, {'authorId': '2108208260', 'name': 'Seung Geun Lee'}, {'authorId': '2115276755', 'name': 'S. Park'}, {'authorId': '5157481', 'name': 'G. Song'}, {'authorId': '2152794301', 'name': 'D. Y. Yu'}, {'authorId': '66948336', 'name': 'Stephen Xu'}, {'authorId': '145031477', 'name': 'E. Lee'}], 'venue': 'The Korean Journal of Internal Medicine', 'year': 2017.0, 'referencecount': 21, 'citationcount': 4, 'influentialcitationcount': 0, 'isopenaccess': True, 'publicationtypes': '{Study,JournalArticle}', 'publicationdate': '2017-01-20', 'journal': '{\"name\": \"The Korean Journal of Internal Medicine\", \"pages\": \"622 - 628\", \"volume\": \"33\"}', 'chunk_id': 15}),\n",
       " Document(page_content=\"BASMI score a \\n2.29 ± 1.41 \\n4.20 ± 2.38 \\n< 0.001 \\n\\nChest expansion, cm a \\n3.82 ± 1.66 \\n2.51 ± 1.23 \\n< 0.001 \\n\\nmSASSS a \\n2.74 ± 4.85 \\n18.80 ± 17.26 \\n< 0.001 \\n\\nPatients' general assessment of total back pain (VAS, 0-10) \\n6.74 ± 1.61 \\n7.49 ± 1.63 \\n0.055 \\n\\nPatients' general assessment of disease activity (VAS, 0-10) \\n6.62 ± 1.84 \\n7.03 ± 1.99 \\n0.336 \\n\\na \\n\\np < 0.05. \\n\\n\\nTable 2 .\\n2Logistic-regression analysis to identify predictors of radiographic progression at week 208 in Korean ankylosingspondylitis patients \\n\\nResponse variable \\nIndependent variable \\nCoefficient \\np value \\nOR (95% CI) \\n\\nΔmSASSS ≤ 0 (Y/N) Age, yr \\n−0.08 \\n0.139 \\n0.92 (0.83-1.03) \\n\\nSmoking (yes), % \\n−0.07 \\n0.856 \\n0.86 (0.18-4.23) \\n\\nC-reactive protein, mg/dL \\n0.06 \\n0.736 \\n1.06 (0.77-1.46) \\n\\nDisease duration, yr \\n0.12 \\n0.216 \\n1.13 (0.93-1.37) \\n\\nDuration of SpA symptoms, yr \\n−0.00 \\n0.999 \\n1.00 (0.77-1.30) \\n\\nDuration of inflammatory back pain, yr \\n−0.10 \\n0.430 \\n0.90 (0.70-1.16) \\n\\nBASFI score \\n−0.35 \\n0.170 \\n0.71 (0.43-1.16)\", metadata={'corpusid': 19069287, 'title': 'Baseline extent of damage predicts spinal radiographic progression in Korean patients with ankylosing spondylitis treated with golimumab', 's2fieldsofstudy': ['Medicine'], 'authors': [{'authorId': '77537957', 'name': 'J. Lee'}, {'authorId': '2213462146', 'name': 'Y. Song'}, {'authorId': '2155054411', 'name': 'Tae Hwan Kim'}, {'authorId': '3758292', 'name': 'W. Chung'}, {'authorId': '2108208260', 'name': 'Seung Geun Lee'}, {'authorId': '2115276755', 'name': 'S. Park'}, {'authorId': '5157481', 'name': 'G. Song'}, {'authorId': '2152794301', 'name': 'D. Y. Yu'}, {'authorId': '66948336', 'name': 'Stephen Xu'}, {'authorId': '145031477', 'name': 'E. Lee'}], 'venue': 'The Korean Journal of Internal Medicine', 'year': 2017.0, 'referencecount': 21, 'citationcount': 4, 'influentialcitationcount': 0, 'isopenaccess': True, 'publicationtypes': '{Study,JournalArticle}', 'publicationdate': '2017-01-20', 'journal': '{\"name\": \"The Korean Journal of Internal Medicine\", \"pages\": \"622 - 628\", \"volume\": \"33\"}', 'chunk_id': 16}),\n",
       " Document(page_content='Response variable \\nIndependent variable \\nCoefficient \\np value \\nOR (95% CI) \\n\\nΔmSASSS ≤ 0 (Y/N) Age, yr \\n−0.08 \\n0.139 \\n0.92 (0.83-1.03) \\n\\nSmoking (yes), % \\n−0.07 \\n0.856 \\n0.86 (0.18-4.23) \\n\\nC-reactive protein, mg/dL \\n0.06 \\n0.736 \\n1.06 (0.77-1.46) \\n\\nDisease duration, yr \\n0.12 \\n0.216 \\n1.13 (0.93-1.37) \\n\\nDuration of SpA symptoms, yr \\n−0.00 \\n0.999 \\n1.00 (0.77-1.30) \\n\\nDuration of inflammatory back pain, yr \\n−0.10 \\n0.430 \\n0.90 (0.70-1.16) \\n\\nBASFI score \\n−0.35 \\n0.170 \\n0.71 (0.43-1.16) \\n\\nBASMI score \\n0.09 \\n0.748 \\n1.10 (0.62-1.94) \\n\\nChest expansion, cm \\n0.29 \\n0.329 \\n1.34 (0.75-2.39) \\n\\nmSASSS a \\n−0.15 \\n0.032 \\n0.86 (0.74-0.99) \\n\\nOR, odds ratio; CI, confidence interval; ΔmSASSS, change in mSASSS from baseline; SpA, spondyloarthropathy; BASFI, Bath \\nAS Functional Index; BASMI, Bath AS Metrology Index; mSASSS, modified stoke ankylosing spondylitis (AS) spine score. \\n\\na \\n\\np < 0.05.', metadata={'corpusid': 19069287, 'title': 'Baseline extent of damage predicts spinal radiographic progression in Korean patients with ankylosing spondylitis treated with golimumab', 's2fieldsofstudy': ['Medicine'], 'authors': [{'authorId': '77537957', 'name': 'J. Lee'}, {'authorId': '2213462146', 'name': 'Y. Song'}, {'authorId': '2155054411', 'name': 'Tae Hwan Kim'}, {'authorId': '3758292', 'name': 'W. Chung'}, {'authorId': '2108208260', 'name': 'Seung Geun Lee'}, {'authorId': '2115276755', 'name': 'S. Park'}, {'authorId': '5157481', 'name': 'G. Song'}, {'authorId': '2152794301', 'name': 'D. Y. Yu'}, {'authorId': '66948336', 'name': 'Stephen Xu'}, {'authorId': '145031477', 'name': 'E. Lee'}], 'venue': 'The Korean Journal of Internal Medicine', 'year': 2017.0, 'referencecount': 21, 'citationcount': 4, 'influentialcitationcount': 0, 'isopenaccess': True, 'publicationtypes': '{Study,JournalArticle}', 'publicationdate': '2017-01-20', 'journal': '{\"name\": \"The Korean Journal of Internal Medicine\", \"pages\": \"622 - 628\", \"volume\": \"33\"}', 'chunk_id': 17}),\n",
       " Document(page_content='BASFI score \\n−0.35 \\n0.170 \\n0.71 (0.43-1.16) \\n\\nBASMI score \\n0.09 \\n0.748 \\n1.10 (0.62-1.94) \\n\\nChest expansion, cm \\n0.29 \\n0.329 \\n1.34 (0.75-2.39) \\n\\nmSASSS a \\n−0.15 \\n0.032 \\n0.86 (0.74-0.99) \\n\\nOR, odds ratio; CI, confidence interval; ΔmSASSS, change in mSASSS from baseline; SpA, spondyloarthropathy; BASFI, Bath \\nAS Functional Index; BASMI, Bath AS Metrology Index; mSASSS, modified stoke ankylosing spondylitis (AS) spine score. \\n\\na \\n\\np < 0.05. \\n\\n\\nConflict of interestThis study was supported by Janssen Pharmaceuticals, Inc.\\nPhysical function in ankylosing spondylitis is independently determined by both disease activity and radiographic damage of the spine. R Landewe, M Dougados, H Mielants, H Van Der Tempel, D Van Der Heijde, Ann Rheum Dis. 68Landewe R, Dougados M, Mielants H, van der Tempel H, van der Heijde D. Physical function in ankylosing spon- dylitis is independently determined by both disease ac- tivity and radiographic damage of the spine. Ann Rheum Dis 2009;68:863-867.', metadata={'corpusid': 19069287, 'title': 'Baseline extent of damage predicts spinal radiographic progression in Korean patients with ankylosing spondylitis treated with golimumab', 's2fieldsofstudy': ['Medicine'], 'authors': [{'authorId': '77537957', 'name': 'J. Lee'}, {'authorId': '2213462146', 'name': 'Y. Song'}, {'authorId': '2155054411', 'name': 'Tae Hwan Kim'}, {'authorId': '3758292', 'name': 'W. Chung'}, {'authorId': '2108208260', 'name': 'Seung Geun Lee'}, {'authorId': '2115276755', 'name': 'S. Park'}, {'authorId': '5157481', 'name': 'G. Song'}, {'authorId': '2152794301', 'name': 'D. Y. Yu'}, {'authorId': '66948336', 'name': 'Stephen Xu'}, {'authorId': '145031477', 'name': 'E. Lee'}], 'venue': 'The Korean Journal of Internal Medicine', 'year': 2017.0, 'referencecount': 21, 'citationcount': 4, 'influentialcitationcount': 0, 'isopenaccess': True, 'publicationtypes': '{Study,JournalArticle}', 'publicationdate': '2017-01-20', 'journal': '{\"name\": \"The Korean Journal of Internal Medicine\", \"pages\": \"622 - 628\", \"volume\": \"33\"}', 'chunk_id': 18}),\n",
       " Document(page_content=\"a \\n\\np < 0.05. \\n\\n\\nConflict of interestThis study was supported by Janssen Pharmaceuticals, Inc.\\nPhysical function in ankylosing spondylitis is independently determined by both disease activity and radiographic damage of the spine. R Landewe, M Dougados, H Mielants, H Van Der Tempel, D Van Der Heijde, Ann Rheum Dis. 68Landewe R, Dougados M, Mielants H, van der Tempel H, van der Heijde D. Physical function in ankylosing spon- dylitis is independently determined by both disease ac- tivity and radiographic damage of the spine. Ann Rheum Dis 2009;68:863-867.\\n\\nAssessment of outcome in ankylosing spondylitis: an extended radiographic scoring system. M C Creemers, M J Franssen, M A Van&apos;t Hof, F W Gribnau, L B Van De Putte, P L Van Riel, Ann Rheum Dis. 64Creemers MC, Franssen MJ, van't Hof MA, Gribnau FW, van de Putte LB, van Riel PL. Assessment of outcome in ankylosing spondylitis: an extended radiographic scoring system. Ann Rheum Dis 2005;64:127-129.\", metadata={'corpusid': 19069287, 'title': 'Baseline extent of damage predicts spinal radiographic progression in Korean patients with ankylosing spondylitis treated with golimumab', 's2fieldsofstudy': ['Medicine'], 'authors': [{'authorId': '77537957', 'name': 'J. Lee'}, {'authorId': '2213462146', 'name': 'Y. Song'}, {'authorId': '2155054411', 'name': 'Tae Hwan Kim'}, {'authorId': '3758292', 'name': 'W. Chung'}, {'authorId': '2108208260', 'name': 'Seung Geun Lee'}, {'authorId': '2115276755', 'name': 'S. Park'}, {'authorId': '5157481', 'name': 'G. Song'}, {'authorId': '2152794301', 'name': 'D. Y. Yu'}, {'authorId': '66948336', 'name': 'Stephen Xu'}, {'authorId': '145031477', 'name': 'E. Lee'}], 'venue': 'The Korean Journal of Internal Medicine', 'year': 2017.0, 'referencecount': 21, 'citationcount': 4, 'influentialcitationcount': 0, 'isopenaccess': True, 'publicationtypes': '{Study,JournalArticle}', 'publicationdate': '2017-01-20', 'journal': '{\"name\": \"The Korean Journal of Internal Medicine\", \"pages\": \"622 - 628\", \"volume\": \"33\"}', 'chunk_id': 19}),\n",
       " Document(page_content=\"Assessment of outcome in ankylosing spondylitis: an extended radiographic scoring system. M C Creemers, M J Franssen, M A Van&apos;t Hof, F W Gribnau, L B Van De Putte, P L Van Riel, Ann Rheum Dis. 64Creemers MC, Franssen MJ, van't Hof MA, Gribnau FW, van de Putte LB, van Riel PL. Assessment of outcome in ankylosing spondylitis: an extended radiographic scoring system. Ann Rheum Dis 2005;64:127-129.\\n\\nRadiographic progression in patients with ankylosing spondylitis after 2 years of treatment with the tumour necrosis factor alpha antibody infliximab. X Baraliakos, J Listing, M Rudwaleit, J Brandt, J Sieper, J Braun, Ann Rheum Dis. 64Baraliakos X, Listing J, Rudwaleit M, Brandt J, Sieper J, Braun J. Radiographic progression in patients with an- kylosing spondylitis after 2 years of treatment with the tumour necrosis factor alpha antibody infliximab. Ann Rheum Dis 2005;64:1462-1466.\", metadata={'corpusid': 19069287, 'title': 'Baseline extent of damage predicts spinal radiographic progression in Korean patients with ankylosing spondylitis treated with golimumab', 's2fieldsofstudy': ['Medicine'], 'authors': [{'authorId': '77537957', 'name': 'J. Lee'}, {'authorId': '2213462146', 'name': 'Y. Song'}, {'authorId': '2155054411', 'name': 'Tae Hwan Kim'}, {'authorId': '3758292', 'name': 'W. Chung'}, {'authorId': '2108208260', 'name': 'Seung Geun Lee'}, {'authorId': '2115276755', 'name': 'S. Park'}, {'authorId': '5157481', 'name': 'G. Song'}, {'authorId': '2152794301', 'name': 'D. Y. Yu'}, {'authorId': '66948336', 'name': 'Stephen Xu'}, {'authorId': '145031477', 'name': 'E. Lee'}], 'venue': 'The Korean Journal of Internal Medicine', 'year': 2017.0, 'referencecount': 21, 'citationcount': 4, 'influentialcitationcount': 0, 'isopenaccess': True, 'publicationtypes': '{Study,JournalArticle}', 'publicationdate': '2017-01-20', 'journal': '{\"name\": \"The Korean Journal of Internal Medicine\", \"pages\": \"622 - 628\", \"volume\": \"33\"}', 'chunk_id': 20}),\n",
       " Document(page_content='Radiographic progression in patients with ankylosing spondylitis after 2 years of treatment with the tumour necrosis factor alpha antibody infliximab. X Baraliakos, J Listing, M Rudwaleit, J Brandt, J Sieper, J Braun, Ann Rheum Dis. 64Baraliakos X, Listing J, Rudwaleit M, Brandt J, Sieper J, Braun J. Radiographic progression in patients with an- kylosing spondylitis after 2 years of treatment with the tumour necrosis factor alpha antibody infliximab. Ann Rheum Dis 2005;64:1462-1466.\\n\\nRadiographic progression in patients with ankylosing spondylitis after 4 yrs of treatment with the anti-TNF-alpha antibody infliximab. X Baraliakos, J Listing, J Brandt, Rheumatology (Oxford). 46Baraliakos X, Listing J, Brandt J, et al. Radiographic pro- gression in patients with ankylosing spondylitis after 4 yrs of treatment with the anti-TNF-alpha antibody inflix- imab. Rheumatology (Oxford) 2007;46:1450-1453.', metadata={'corpusid': 19069287, 'title': 'Baseline extent of damage predicts spinal radiographic progression in Korean patients with ankylosing spondylitis treated with golimumab', 's2fieldsofstudy': ['Medicine'], 'authors': [{'authorId': '77537957', 'name': 'J. Lee'}, {'authorId': '2213462146', 'name': 'Y. Song'}, {'authorId': '2155054411', 'name': 'Tae Hwan Kim'}, {'authorId': '3758292', 'name': 'W. Chung'}, {'authorId': '2108208260', 'name': 'Seung Geun Lee'}, {'authorId': '2115276755', 'name': 'S. Park'}, {'authorId': '5157481', 'name': 'G. Song'}, {'authorId': '2152794301', 'name': 'D. Y. Yu'}, {'authorId': '66948336', 'name': 'Stephen Xu'}, {'authorId': '145031477', 'name': 'E. Lee'}], 'venue': 'The Korean Journal of Internal Medicine', 'year': 2017.0, 'referencecount': 21, 'citationcount': 4, 'influentialcitationcount': 0, 'isopenaccess': True, 'publicationtypes': '{Study,JournalArticle}', 'publicationdate': '2017-01-20', 'journal': '{\"name\": \"The Korean Journal of Internal Medicine\", \"pages\": \"622 - 628\", \"volume\": \"33\"}', 'chunk_id': 21}),\n",
       " Document(page_content='Radiographic progression in patients with ankylosing spondylitis after 4 yrs of treatment with the anti-TNF-alpha antibody infliximab. X Baraliakos, J Listing, J Brandt, Rheumatology (Oxford). 46Baraliakos X, Listing J, Brandt J, et al. Radiographic pro- gression in patients with ankylosing spondylitis after 4 yrs of treatment with the anti-TNF-alpha antibody inflix- imab. Rheumatology (Oxford) 2007;46:1450-1453.\\n\\nRadiographic progression of ankylosing spondylitis after up to two years of treatment with etanercept. D Van Der Heijde, R Landewe, S Einstein, Arthritis Rheum. 58van der Heijde D, Landewe R, Einstein S, et al. Radio- graphic progression of ankylosing spondylitis after up to two years of treatment with etanercept. Arthritis Rheum 2008;58:1324-1331.', metadata={'corpusid': 19069287, 'title': 'Baseline extent of damage predicts spinal radiographic progression in Korean patients with ankylosing spondylitis treated with golimumab', 's2fieldsofstudy': ['Medicine'], 'authors': [{'authorId': '77537957', 'name': 'J. Lee'}, {'authorId': '2213462146', 'name': 'Y. Song'}, {'authorId': '2155054411', 'name': 'Tae Hwan Kim'}, {'authorId': '3758292', 'name': 'W. Chung'}, {'authorId': '2108208260', 'name': 'Seung Geun Lee'}, {'authorId': '2115276755', 'name': 'S. Park'}, {'authorId': '5157481', 'name': 'G. Song'}, {'authorId': '2152794301', 'name': 'D. Y. Yu'}, {'authorId': '66948336', 'name': 'Stephen Xu'}, {'authorId': '145031477', 'name': 'E. Lee'}], 'venue': 'The Korean Journal of Internal Medicine', 'year': 2017.0, 'referencecount': 21, 'citationcount': 4, 'influentialcitationcount': 0, 'isopenaccess': True, 'publicationtypes': '{Study,JournalArticle}', 'publicationdate': '2017-01-20', 'journal': '{\"name\": \"The Korean Journal of Internal Medicine\", \"pages\": \"622 - 628\", \"volume\": \"33\"}', 'chunk_id': 22}),\n",
       " Document(page_content='Radiographic progression of ankylosing spondylitis after up to two years of treatment with etanercept. D Van Der Heijde, R Landewe, S Einstein, Arthritis Rheum. 58van der Heijde D, Landewe R, Einstein S, et al. Radio- graphic progression of ankylosing spondylitis after up to two years of treatment with etanercept. Arthritis Rheum 2008;58:1324-1331.\\n\\nAssessment of radiographic progression in the spines of patients with ankylosing spondylitis treated with adalimumab for up to 2 years. D Van Der Heijde, D Salonen, B N Weissman, Arthritis Res Ther. 11127van der Heijde D, Salonen D, Weissman BN, et al. As- sessment of radiographic progression in the spines of patients with ankylosing spondylitis treated with adalim- umab for up to 2 years. Arthritis Res Ther 2009;11:R127.', metadata={'corpusid': 19069287, 'title': 'Baseline extent of damage predicts spinal radiographic progression in Korean patients with ankylosing spondylitis treated with golimumab', 's2fieldsofstudy': ['Medicine'], 'authors': [{'authorId': '77537957', 'name': 'J. Lee'}, {'authorId': '2213462146', 'name': 'Y. Song'}, {'authorId': '2155054411', 'name': 'Tae Hwan Kim'}, {'authorId': '3758292', 'name': 'W. Chung'}, {'authorId': '2108208260', 'name': 'Seung Geun Lee'}, {'authorId': '2115276755', 'name': 'S. Park'}, {'authorId': '5157481', 'name': 'G. Song'}, {'authorId': '2152794301', 'name': 'D. Y. Yu'}, {'authorId': '66948336', 'name': 'Stephen Xu'}, {'authorId': '145031477', 'name': 'E. Lee'}], 'venue': 'The Korean Journal of Internal Medicine', 'year': 2017.0, 'referencecount': 21, 'citationcount': 4, 'influentialcitationcount': 0, 'isopenaccess': True, 'publicationtypes': '{Study,JournalArticle}', 'publicationdate': '2017-01-20', 'journal': '{\"name\": \"The Korean Journal of Internal Medicine\", \"pages\": \"622 - 628\", \"volume\": \"33\"}', 'chunk_id': 23}),\n",
       " Document(page_content='Assessment of radiographic progression in the spines of patients with ankylosing spondylitis treated with adalimumab for up to 2 years. D Van Der Heijde, D Salonen, B N Weissman, Arthritis Res Ther. 11127van der Heijde D, Salonen D, Weissman BN, et al. As- sessment of radiographic progression in the spines of patients with ankylosing spondylitis treated with adalim- umab for up to 2 years. Arthritis Res Ther 2009;11:R127.\\n\\nThe effect of two golimumab doses on radiographic progression in ankylosing spondylitis: results through 4 years of the GO-RAISE trial. J Braun, X Baraliakos, K G Hermann, Ann Rheum Dis. 73Braun J, Baraliakos X, Hermann KG, et al. The effect of two golimumab doses on radiographic progression in ankylosing spondylitis: results through 4 years of the GO-RAISE trial. Ann Rheum Dis 2014;73:1107-1113.', metadata={'corpusid': 19069287, 'title': 'Baseline extent of damage predicts spinal radiographic progression in Korean patients with ankylosing spondylitis treated with golimumab', 's2fieldsofstudy': ['Medicine'], 'authors': [{'authorId': '77537957', 'name': 'J. Lee'}, {'authorId': '2213462146', 'name': 'Y. Song'}, {'authorId': '2155054411', 'name': 'Tae Hwan Kim'}, {'authorId': '3758292', 'name': 'W. Chung'}, {'authorId': '2108208260', 'name': 'Seung Geun Lee'}, {'authorId': '2115276755', 'name': 'S. Park'}, {'authorId': '5157481', 'name': 'G. Song'}, {'authorId': '2152794301', 'name': 'D. Y. Yu'}, {'authorId': '66948336', 'name': 'Stephen Xu'}, {'authorId': '145031477', 'name': 'E. Lee'}], 'venue': 'The Korean Journal of Internal Medicine', 'year': 2017.0, 'referencecount': 21, 'citationcount': 4, 'influentialcitationcount': 0, 'isopenaccess': True, 'publicationtypes': '{Study,JournalArticle}', 'publicationdate': '2017-01-20', 'journal': '{\"name\": \"The Korean Journal of Internal Medicine\", \"pages\": \"622 - 628\", \"volume\": \"33\"}', 'chunk_id': 24}),\n",
       " Document(page_content='The effect of two golimumab doses on radiographic progression in ankylosing spondylitis: results through 4 years of the GO-RAISE trial. J Braun, X Baraliakos, K G Hermann, Ann Rheum Dis. 73Braun J, Baraliakos X, Hermann KG, et al. The effect of two golimumab doses on radiographic progression in ankylosing spondylitis: results through 4 years of the GO-RAISE trial. Ann Rheum Dis 2014;73:1107-1113.\\n\\nGolimumab administered subcutaneously every 4 weeks in ankylosing spondylitis: 5-year results of the GO-RAISE study. A Deodhar, J Braun, R D Inman, Ann Rheum Dis. 74Deodhar A, Braun J, Inman RD, et al. Golimumab admin- istered subcutaneously every 4 weeks in ankylosing spon- dylitis: 5-year results of the GO-RAISE study. Ann Rheum Dis 2015;74:757-761.', metadata={'corpusid': 19069287, 'title': 'Baseline extent of damage predicts spinal radiographic progression in Korean patients with ankylosing spondylitis treated with golimumab', 's2fieldsofstudy': ['Medicine'], 'authors': [{'authorId': '77537957', 'name': 'J. Lee'}, {'authorId': '2213462146', 'name': 'Y. Song'}, {'authorId': '2155054411', 'name': 'Tae Hwan Kim'}, {'authorId': '3758292', 'name': 'W. Chung'}, {'authorId': '2108208260', 'name': 'Seung Geun Lee'}, {'authorId': '2115276755', 'name': 'S. Park'}, {'authorId': '5157481', 'name': 'G. Song'}, {'authorId': '2152794301', 'name': 'D. Y. Yu'}, {'authorId': '66948336', 'name': 'Stephen Xu'}, {'authorId': '145031477', 'name': 'E. Lee'}], 'venue': 'The Korean Journal of Internal Medicine', 'year': 2017.0, 'referencecount': 21, 'citationcount': 4, 'influentialcitationcount': 0, 'isopenaccess': True, 'publicationtypes': '{Study,JournalArticle}', 'publicationdate': '2017-01-20', 'journal': '{\"name\": \"The Korean Journal of Internal Medicine\", \"pages\": \"622 - 628\", \"volume\": \"33\"}', 'chunk_id': 25}),\n",
       " Document(page_content='Golimumab administered subcutaneously every 4 weeks in ankylosing spondylitis: 5-year results of the GO-RAISE study. A Deodhar, J Braun, R D Inman, Ann Rheum Dis. 74Deodhar A, Braun J, Inman RD, et al. Golimumab admin- istered subcutaneously every 4 weeks in ankylosing spon- dylitis: 5-year results of the GO-RAISE study. Ann Rheum Dis 2015;74:757-761.\\n\\nClinical features of adultonset ankylosing spondylitis in Korean patients: patients with peripheral joint disease (PJD) have less severe spinal disease course than those without PJD. H J Baek, K C Shin, Y J Lee, Rheumatology (Oxford). 43Baek HJ, Shin KC, Lee YJ, et al. Clinical features of adult- onset ankylosing spondylitis in Korean patients: patients with peripheral joint disease (PJD) have less severe spinal disease course than those without PJD. Rheumatology (Oxford) 2004;43:1526-1531.', metadata={'corpusid': 19069287, 'title': 'Baseline extent of damage predicts spinal radiographic progression in Korean patients with ankylosing spondylitis treated with golimumab', 's2fieldsofstudy': ['Medicine'], 'authors': [{'authorId': '77537957', 'name': 'J. Lee'}, {'authorId': '2213462146', 'name': 'Y. Song'}, {'authorId': '2155054411', 'name': 'Tae Hwan Kim'}, {'authorId': '3758292', 'name': 'W. Chung'}, {'authorId': '2108208260', 'name': 'Seung Geun Lee'}, {'authorId': '2115276755', 'name': 'S. Park'}, {'authorId': '5157481', 'name': 'G. Song'}, {'authorId': '2152794301', 'name': 'D. Y. Yu'}, {'authorId': '66948336', 'name': 'Stephen Xu'}, {'authorId': '145031477', 'name': 'E. Lee'}], 'venue': 'The Korean Journal of Internal Medicine', 'year': 2017.0, 'referencecount': 21, 'citationcount': 4, 'influentialcitationcount': 0, 'isopenaccess': True, 'publicationtypes': '{Study,JournalArticle}', 'publicationdate': '2017-01-20', 'journal': '{\"name\": \"The Korean Journal of Internal Medicine\", \"pages\": \"622 - 628\", \"volume\": \"33\"}', 'chunk_id': 26}),\n",
       " Document(page_content='Clinical features of adultonset ankylosing spondylitis in Korean patients: patients with peripheral joint disease (PJD) have less severe spinal disease course than those without PJD. H J Baek, K C Shin, Y J Lee, Rheumatology (Oxford). 43Baek HJ, Shin KC, Lee YJ, et al. Clinical features of adult- onset ankylosing spondylitis in Korean patients: patients with peripheral joint disease (PJD) have less severe spinal disease course than those without PJD. Rheumatology (Oxford) 2004;43:1526-1531.\\n\\nThe presence of peripheral arthritis delays spinal radiographic progression in ankylosing spondylitis: Observation Study of the Korean Spondyloarthropathy Registry. T J Kim, S Lee, K B Joo, Rheumatology (Oxford). 53Kim TJ, Lee S, Joo KB, et al. The presence of peripheral arthritis delays spinal radiographic progression in an- kylosing spondylitis: Observation Study of the Korean Spondyloarthropathy Registry. Rheumatology (Oxford) 2014;53:1404-1408.\\n\\nSpondyloarthritis in 2012: advances in pathogenesis through animal models and imaging. W P Maksymowych, Nat Rev Rheumatol. 9Maksymowych WP. Spondyloarthritis in 2012: advances in pathogenesis through animal models and imaging. Nat Rev Rheumatol 2013;9:72-74.', metadata={'corpusid': 19069287, 'title': 'Baseline extent of damage predicts spinal radiographic progression in Korean patients with ankylosing spondylitis treated with golimumab', 's2fieldsofstudy': ['Medicine'], 'authors': [{'authorId': '77537957', 'name': 'J. Lee'}, {'authorId': '2213462146', 'name': 'Y. Song'}, {'authorId': '2155054411', 'name': 'Tae Hwan Kim'}, {'authorId': '3758292', 'name': 'W. Chung'}, {'authorId': '2108208260', 'name': 'Seung Geun Lee'}, {'authorId': '2115276755', 'name': 'S. Park'}, {'authorId': '5157481', 'name': 'G. Song'}, {'authorId': '2152794301', 'name': 'D. Y. Yu'}, {'authorId': '66948336', 'name': 'Stephen Xu'}, {'authorId': '145031477', 'name': 'E. Lee'}], 'venue': 'The Korean Journal of Internal Medicine', 'year': 2017.0, 'referencecount': 21, 'citationcount': 4, 'influentialcitationcount': 0, 'isopenaccess': True, 'publicationtypes': '{Study,JournalArticle}', 'publicationdate': '2017-01-20', 'journal': '{\"name\": \"The Korean Journal of Internal Medicine\", \"pages\": \"622 - 628\", \"volume\": \"33\"}', 'chunk_id': 27}),\n",
       " Document(page_content=\"Spondyloarthritis in 2012: advances in pathogenesis through animal models and imaging. W P Maksymowych, Nat Rev Rheumatol. 9Maksymowych WP. Spondyloarthritis in 2012: advances in pathogenesis through animal models and imaging. Nat Rev Rheumatol 2013;9:72-74.\\n\\nSuppression of inflammation and effects on KEY MESSAGE 1. Korean ankylosing spondylitis patients had distinctive patterns of spinal lesion progression, as 'progressors' versus 'non-progressors. W P Maksymowych, N Morency, B Conner-Spady, R G Lambert, despite active treatment with golimumabMaksymowych WP, Morency N, Conner-Spady B, Lam- bert RG. Suppression of inflammation and effects on KEY MESSAGE 1. Korean ankylosing spondylitis patients had dis- tinctive patterns of spinal lesion progression, as 'progressors' versus 'non-progressors,' despite active treatment with golimumab.\\n\\nThe initial severity of the spinal lesion(s) was important in predicting radiographic progression. The initial severity of the spinal lesion(s) was important in predicting radiographic progres- sion.\\n\\nnew bone formation in ankylosing spondylitis: evidence for a window of opportunity in disease modification. Ann Rheum Dis. 72new bone formation in ankylosing spondylitis: evidence for a window of opportunity in disease modification. Ann Rheum Dis 2013;72:23-28.\", metadata={'corpusid': 19069287, 'title': 'Baseline extent of damage predicts spinal radiographic progression in Korean patients with ankylosing spondylitis treated with golimumab', 's2fieldsofstudy': ['Medicine'], 'authors': [{'authorId': '77537957', 'name': 'J. Lee'}, {'authorId': '2213462146', 'name': 'Y. Song'}, {'authorId': '2155054411', 'name': 'Tae Hwan Kim'}, {'authorId': '3758292', 'name': 'W. Chung'}, {'authorId': '2108208260', 'name': 'Seung Geun Lee'}, {'authorId': '2115276755', 'name': 'S. Park'}, {'authorId': '5157481', 'name': 'G. Song'}, {'authorId': '2152794301', 'name': 'D. Y. Yu'}, {'authorId': '66948336', 'name': 'Stephen Xu'}, {'authorId': '145031477', 'name': 'E. Lee'}], 'venue': 'The Korean Journal of Internal Medicine', 'year': 2017.0, 'referencecount': 21, 'citationcount': 4, 'influentialcitationcount': 0, 'isopenaccess': True, 'publicationtypes': '{Study,JournalArticle}', 'publicationdate': '2017-01-20', 'journal': '{\"name\": \"The Korean Journal of Internal Medicine\", \"pages\": \"622 - 628\", \"volume\": \"33\"}', 'chunk_id': 28}),\n",
       " Document(page_content='The initial severity of the spinal lesion(s) was important in predicting radiographic progression. The initial severity of the spinal lesion(s) was important in predicting radiographic progres- sion.\\n\\nnew bone formation in ankylosing spondylitis: evidence for a window of opportunity in disease modification. Ann Rheum Dis. 72new bone formation in ankylosing spondylitis: evidence for a window of opportunity in disease modification. Ann Rheum Dis 2013;72:23-28.\\n\\nProgression of radiographic damage in patients with ankylosing spondylitis: defining the central role of syndesmophytes. X Baraliakos, J Listing, M Rudwaleit, Ann Rheum Dis. 66Baraliakos X, Listing J, Rudwaleit M, et al. Progression of radiographic damage in patients with ankylosing spon- dylitis: defining the central role of syndesmophytes. Ann Rheum Dis 2007;66:910-915.\\n\\nThe impact of tumor necrosis factor α inhibitors on radiographic progression in ankylosing spondylitis. N Haroon, R D Inman, T J Learch, Arthritis Rheum. 65Haroon N, Inman RD, Learch TJ, et al. The impact of tumor necrosis factor α inhibitors on radiographic progression in ankylosing spondylitis. Arthritis Rheum 2013;65:2645-2654.', metadata={'corpusid': 19069287, 'title': 'Baseline extent of damage predicts spinal radiographic progression in Korean patients with ankylosing spondylitis treated with golimumab', 's2fieldsofstudy': ['Medicine'], 'authors': [{'authorId': '77537957', 'name': 'J. Lee'}, {'authorId': '2213462146', 'name': 'Y. Song'}, {'authorId': '2155054411', 'name': 'Tae Hwan Kim'}, {'authorId': '3758292', 'name': 'W. Chung'}, {'authorId': '2108208260', 'name': 'Seung Geun Lee'}, {'authorId': '2115276755', 'name': 'S. Park'}, {'authorId': '5157481', 'name': 'G. Song'}, {'authorId': '2152794301', 'name': 'D. Y. Yu'}, {'authorId': '66948336', 'name': 'Stephen Xu'}, {'authorId': '145031477', 'name': 'E. Lee'}], 'venue': 'The Korean Journal of Internal Medicine', 'year': 2017.0, 'referencecount': 21, 'citationcount': 4, 'influentialcitationcount': 0, 'isopenaccess': True, 'publicationtypes': '{Study,JournalArticle}', 'publicationdate': '2017-01-20', 'journal': '{\"name\": \"The Korean Journal of Internal Medicine\", \"pages\": \"622 - 628\", \"volume\": \"33\"}', 'chunk_id': 29}),\n",
       " Document(page_content='The impact of tumor necrosis factor α inhibitors on radiographic progression in ankylosing spondylitis. N Haroon, R D Inman, T J Learch, Arthritis Rheum. 65Haroon N, Inman RD, Learch TJ, et al. The impact of tumor necrosis factor α inhibitors on radiographic progression in ankylosing spondylitis. Arthritis Rheum 2013;65:2645-2654.\\n\\nHuman leukocyte antigen-B*2705 is the predominant subtype in the Korean population with ankylosing spondylitis, unlike in other Asians. S H Lee, I A Choi, Y A Lee, Rheumatol Int. 29Lee SH, Choi IA, Lee YA, et al. Human leukocyte anti- gen-B*2705 is the predominant subtype in the Korean population with ankylosing spondylitis, unlike in other Asians. Rheumatol Int 2008;29:43-46.\\n\\nClinical spectrum of ankylosing spondylitis in Korea. T J Kim, T H Kim, Joint Bone Spine. 77Kim TJ, Kim TH. Clinical spectrum of ankylosing spon- dylitis in Korea. Joint Bone Spine 2010;77:235-240.', metadata={'corpusid': 19069287, 'title': 'Baseline extent of damage predicts spinal radiographic progression in Korean patients with ankylosing spondylitis treated with golimumab', 's2fieldsofstudy': ['Medicine'], 'authors': [{'authorId': '77537957', 'name': 'J. Lee'}, {'authorId': '2213462146', 'name': 'Y. Song'}, {'authorId': '2155054411', 'name': 'Tae Hwan Kim'}, {'authorId': '3758292', 'name': 'W. Chung'}, {'authorId': '2108208260', 'name': 'Seung Geun Lee'}, {'authorId': '2115276755', 'name': 'S. Park'}, {'authorId': '5157481', 'name': 'G. Song'}, {'authorId': '2152794301', 'name': 'D. Y. Yu'}, {'authorId': '66948336', 'name': 'Stephen Xu'}, {'authorId': '145031477', 'name': 'E. Lee'}], 'venue': 'The Korean Journal of Internal Medicine', 'year': 2017.0, 'referencecount': 21, 'citationcount': 4, 'influentialcitationcount': 0, 'isopenaccess': True, 'publicationtypes': '{Study,JournalArticle}', 'publicationdate': '2017-01-20', 'journal': '{\"name\": \"The Korean Journal of Internal Medicine\", \"pages\": \"622 - 628\", \"volume\": \"33\"}', 'chunk_id': 30}),\n",
       " Document(page_content='Clinical spectrum of ankylosing spondylitis in Korea. T J Kim, T H Kim, Joint Bone Spine. 77Kim TJ, Kim TH. Clinical spectrum of ankylosing spon- dylitis in Korea. Joint Bone Spine 2010;77:235-240.\\n\\nHigher prevalence of peripheral arthritis among ankylosing spondylitis patients. J H Lee, J B Jun, S Jung, J Korean Med Sci. 17Lee JH, Jun JB, Jung S, et al. Higher prevalence of periph- eral arthritis among ankylosing spondylitis patients. J Korean Med Sci 2002;17:669-673.\\n\\nThe influence of peripheral arthritis on disease activity in ankylosing spondylitis patients as measured with the Bath Ankylosing Spondylitis Disease Activity Index. L Heuft-Dorenbosch, A Van Tubergen, A Spoorenberg, Arthritis Rheum. 51Heuft-Dorenbosch L, van Tubergen A, Spoorenberg A, et al. The influence of peripheral arthritis on disease activ- ity in ankylosing spondylitis patients as measured with the Bath Ankylosing Spondylitis Disease Activity Index. Arthritis Rheum 2004;51:154-159.', metadata={'corpusid': 19069287, 'title': 'Baseline extent of damage predicts spinal radiographic progression in Korean patients with ankylosing spondylitis treated with golimumab', 's2fieldsofstudy': ['Medicine'], 'authors': [{'authorId': '77537957', 'name': 'J. Lee'}, {'authorId': '2213462146', 'name': 'Y. Song'}, {'authorId': '2155054411', 'name': 'Tae Hwan Kim'}, {'authorId': '3758292', 'name': 'W. Chung'}, {'authorId': '2108208260', 'name': 'Seung Geun Lee'}, {'authorId': '2115276755', 'name': 'S. Park'}, {'authorId': '5157481', 'name': 'G. Song'}, {'authorId': '2152794301', 'name': 'D. Y. Yu'}, {'authorId': '66948336', 'name': 'Stephen Xu'}, {'authorId': '145031477', 'name': 'E. Lee'}], 'venue': 'The Korean Journal of Internal Medicine', 'year': 2017.0, 'referencecount': 21, 'citationcount': 4, 'influentialcitationcount': 0, 'isopenaccess': True, 'publicationtypes': '{Study,JournalArticle}', 'publicationdate': '2017-01-20', 'journal': '{\"name\": \"The Korean Journal of Internal Medicine\", \"pages\": \"622 - 628\", \"volume\": \"33\"}', 'chunk_id': 31})]"
      ]
     },
     "execution_count": 42,
     "metadata": {},
     "output_type": "execute_result"
    }
   ],
   "source": [
    "# create metadata dictionary\n",
    "metadata = ft.iloc[0, 1:].to_dict()\n",
    "\n",
    "for i, d in enumerate(documents): \n",
    "    d.metadata = metadata\n",
    "    \n",
    "documents"
   ]
  },
  {
   "cell_type": "code",
   "execution_count": 40,
   "metadata": {},
   "outputs": [],
   "source": [
    "# embed the documents\n",
    "encoded_documents = [\n",
    "    T5tokens.encode(d.page_content, return_tensors=\"pt\", max_length=512, truncation=True) for d in documents\n",
    "]"
   ]
  },
  {
   "cell_type": "code",
   "execution_count": null,
   "metadata": {},
   "outputs": [],
   "source": [
    "# create me a function that will preprocess text to prepare to be used in a nlp model\n",
    "import unidecode\n",
    "\n",
    "def remove_accented_chars(text):\n",
    "    \"\"\"remove accented characters from text, e.g. café\"\"\"\n",
    "    text = unidecode.unidecode(text)\n",
    "    return text\n",
    "\n",
    "def preprocess_text(text):\n",
    "    # remove the new lines\n",
    "    text = text.replace('\\n', ' ')\n",
    "    # remove multiple spaces\n",
    "    text = re.sub(r'\\s+', ' ', text)\n",
    "    \n",
    "    text = remove_accented_chars(text)\n",
    "    return text"
   ]
  },
  {
   "cell_type": "code",
   "execution_count": null,
   "metadata": {},
   "outputs": [],
   "source": [
    "# preprocess_text(documents[0].page_content)"
   ]
  },
  {
   "cell_type": "code",
   "execution_count": null,
   "metadata": {},
   "outputs": [],
   "source": [
    "metadatas = ... # from attributes table in postgres"
   ]
  },
  {
   "cell_type": "code",
   "execution_count": null,
   "metadata": {},
   "outputs": [],
   "source": [
    "docs = [Document(page_content=t) for t in text[:3]]"
   ]
  },
  {
   "cell_type": "code",
   "execution_count": null,
   "metadata": {},
   "outputs": [],
   "source": [
    "# Create connection to postgres db\n",
    "# from sqlalchemy.engine.url import URL\n",
    "\n",
    "# postgres_db = {'drivername': 'postgres',\n",
    "#                'database': 'postgres',\n",
    "#                'username': 'postgres',\n",
    "#                'password': keys[\"postgres\"],\n",
    "#                'host': config[\"database\"][\"host\"],\n",
    "#                'port': 5432}\n",
    "# print(URL(**postgres_db))\n",
    "# postgres = URL(**postgres_db)"
   ]
  },
  {
   "cell_type": "code",
   "execution_count": null,
   "metadata": {},
   "outputs": [],
   "source": [
    "df = pd.read_sql_table('fulltext', con = f'postgresql://postgres:{keys[\"postgres\"]}@{config[\"database\"][\"host\"]}:5432/postgres')"
   ]
  },
  {
   "cell_type": "code",
   "execution_count": null,
   "metadata": {},
   "outputs": [],
   "source": [
    "ddf = dd.read_sql_table('fulltext', \n",
    "                        con = f'postgresql://postgres:{keys[\"postgres\"]}@{config[\"database\"][\"host\"]}:5432/postgres',\n",
    "                        index_col = 'id',\n",
    "                        head_rows = 10,\n",
    "                        npartitions = 100)\n",
    "\n",
    "# Remove unnecessary columns\n",
    "# ddf = ddf.drop(columns = ['index'])\n",
    "\n",
    "# Remove empty abstract rows\n",
    "# ddf = ddf.dropna(how = 'all', subset='abstract').reset_index(drop = True)"
   ]
  },
  {
   "cell_type": "code",
   "execution_count": null,
   "metadata": {},
   "outputs": [],
   "source": [
    "\n",
    "for x in xl_files:\n",
    "    parts = dask.delayed(try_to_read)(x)\n",
    "    # filter_df = dask.delayed(get_techniques)(parts)\n",
    "    output.append(parts)\n",
    "\n",
    "# convert to a single dataframe\n",
    "df_total = dd.from_delayed(output)\n",
    "\n",
    "# df_total.visualize()\n",
    "\n",
    "with ProgressBar():\n",
    "    ddf = df_total.compute()"
   ]
  },
  {
   "attachments": {},
   "cell_type": "markdown",
   "metadata": {},
   "source": [
    "# Upload to Postgresql DB"
   ]
  },
  {
   "cell_type": "code",
   "execution_count": null,
   "metadata": {},
   "outputs": [],
   "source": [
    "# sql = text(''' \n",
    "#     SELECT EXISTS (\n",
    "#         SELECT FROM information_schema.tables \n",
    "#         WHERE    table_name   = 'abstracts'\n",
    "#     );\n",
    "# ''')\n",
    "\n",
    "# with engine.connect() as conn: \n",
    "#     conn.execute(sql)"
   ]
  },
  {
   "attachments": {},
   "cell_type": "markdown",
   "metadata": {},
   "source": [
    "Create array columns to store encoding and mask"
   ]
  },
  {
   "cell_type": "code",
   "execution_count": null,
   "metadata": {},
   "outputs": [],
   "source": [
    "table_name = 'abstracts_encodings'"
   ]
  },
  {
   "cell_type": "code",
   "execution_count": null,
   "metadata": {},
   "outputs": [],
   "source": [
    "delete_table = False\n",
    "\n",
    "if delete_table: \n",
    "    sql = text(f''' \n",
    "        DROP TABLE IF EXISTS {table_name}};\n",
    "    ''')\n",
    "\n",
    "    with engine.connect() as conn: \n",
    "        query = conn.execute(sql)"
   ]
  },
  {
   "cell_type": "code",
   "execution_count": null,
   "metadata": {},
   "outputs": [],
   "source": [
    "# create table\n",
    "# Create Table in DB first before uploading\n",
    "from sqlalchemy import MetaData, Table, Column, Integer, String, ARRAY\n",
    "\n",
    "metadata_obj = MetaData()\n",
    "\n",
    "# Create abstracts metadata\n",
    "abstracts = Table(\n",
    "    table_name,\n",
    "    metadata_obj,\n",
    "    Column(\"paperId\", String, nullable = True),\n",
    "    Column(\"corpusId\", String, nullable=True),\n",
    "    Column(\"abstract\", String, nullable = True),\n",
    "    Column(\"input_ds\", ARRAY(Integer), nullable=True),\n",
    "    Column(\"attention_mask\", ARRAY(Integer), nullable=True),\n",
    ")\n",
    "\n",
    "metadata_obj.create_all(engine)"
   ]
  },
  {
   "cell_type": "code",
   "execution_count": null,
   "metadata": {},
   "outputs": [],
   "source": [
    "# Upload dask dataframe to psql\n",
    "ddf = ddf.to_sql(name = table_name, uri = str(url_object), if_exists = 'replace', index = False, chunksize = 10000, method = 'multi')"
   ]
  },
  {
   "cell_type": "code",
   "execution_count": null,
   "metadata": {},
   "outputs": [],
   "source": [
    "# Check if it worked\n",
    "import pandas as pd\n",
    "from sqlalchemy import text\n",
    "\n",
    "table_name = 'abstracts_encodings'\n",
    "\n",
    "sql = text(f''' \n",
    "    SELECT * FROM {table_name} LIMIT 5;\n",
    "''')\n",
    "\n",
    "with engine.connect() as conn: \n",
    "    query = conn.execute(sql)\n",
    "\n",
    "test = pd.DataFrame(query.fetchall())\n",
    "test.head()"
   ]
  },
  {
   "cell_type": "code",
   "execution_count": null,
   "metadata": {},
   "outputs": [],
   "source": [
    "# Check if it worked\n",
    "import pandas as pd\n",
    "from sqlalchemy import text\n",
    "\n",
    "table_name = 'fulltext'\n",
    "\n",
    "sql = text(f''' \n",
    "    SELECT * FROM {table_name} LIMIT 5;\n",
    "''')\n",
    "\n",
    "with engine.connect() as conn: \n",
    "    query = conn.execute(sql)\n",
    "\n",
    "test = pd.DataFrame(query.fetchall())\n",
    "test.head()"
   ]
  },
  {
   "attachments": {},
   "cell_type": "markdown",
   "metadata": {},
   "source": [
    "# Create Vectore Store"
   ]
  },
  {
   "cell_type": "code",
   "execution_count": null,
   "metadata": {},
   "outputs": [],
   "source": [
    "from langchain.embeddings.openai import OpenAIEmbeddings\n",
    "from langchain.vectorstores import Chroma\n",
    "from langchain.text_splitter import CharacterTextSplitter\n",
    "from langchain.llms import OpenAI\n",
    "from langchain.chains import RetrievalQA\n",
    "\n",
    "llm = OpenAI(temperature=0)"
   ]
  }
 ],
 "metadata": {
  "kernelspec": {
   "display_name": "base",
   "language": "python",
   "name": "python3"
  },
  "language_info": {
   "codemirror_mode": {
    "name": "ipython",
    "version": 3
   },
   "file_extension": ".py",
   "mimetype": "text/x-python",
   "name": "python",
   "nbconvert_exporter": "python",
   "pygments_lexer": "ipython3",
   "version": "3.10.11"
  },
  "orig_nbformat": 4
 },
 "nbformat": 4,
 "nbformat_minor": 2
}
