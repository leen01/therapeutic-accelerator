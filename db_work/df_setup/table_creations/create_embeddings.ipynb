{
 "cells": [
  {
   "attachments": {},
   "cell_type": "markdown",
   "metadata": {},
   "source": [
    "# Setup"
   ]
  },
  {
   "attachments": {},
   "cell_type": "markdown",
   "metadata": {},
   "source": [
    "## Packages"
   ]
  },
  {
   "cell_type": "code",
   "execution_count": 1,
   "metadata": {},
   "outputs": [],
   "source": [
    "%run /home/ubuntu/work/therapeutic_accelerator/scripts/base.py"
   ]
  },
  {
   "cell_type": "code",
   "execution_count": 2,
   "metadata": {},
   "outputs": [],
   "source": [
    "import pandas as pd\n",
    "import numpy as np\n",
    "\n",
    "from transformers import T5Tokenizer # AutoModel, AutoTokenizer, BertTokenizer,BioGptModel, BioGptConfig, BioGptTokenizer\n",
    "import torch"
   ]
  },
  {
   "attachments": {},
   "cell_type": "markdown",
   "metadata": {},
   "source": [
    "## Tokenizers and Models"
   ]
  },
  {
   "cell_type": "code",
   "execution_count": 2,
   "metadata": {},
   "outputs": [],
   "source": [
    "max_sequence_length = 1200\n",
    "embedding_size = 200\n",
    "\n",
    "T5tokens = T5Tokenizer.from_pretrained('t5-base', model_max_length = max_sequence_length)"
   ]
  },
  {
   "cell_type": "code",
   "execution_count": null,
   "metadata": {},
   "outputs": [],
   "source": [
    "# bio_bert_model = AutoModel.from_pretrained(\"gsarti/biobert-nli\")\n",
    "# bio_bert_tokenizer = AutoTokenizer.from_pretrained(\"gsarti/biobert-nli\")\n",
    "# original_bert_tokenizer = BertTokenizer.from_pretrained('bert-base-uncased')\n",
    "# T5Abstract_model = TFT5ForConditionalGeneration.from_pretrained('t5-base')\n",
    "# biogpttokenizer = BioGptTokenizer.from_pretrained(\"microsoft/biogpt\")\n",
    "# biogptmodel = BioGptModel.from_pretrained(\"microsoft/biogpt\")"
   ]
  },
  {
   "attachments": {},
   "cell_type": "markdown",
   "metadata": {},
   "source": [
    "Custom embeddings function"
   ]
  },
  {
   "cell_type": "code",
   "execution_count": null,
   "metadata": {},
   "outputs": [],
   "source": [
    "from chromadb.api.types import Documents, EmbeddingFunction, Embeddings\n",
    "\n",
    "class MyEmbeddingFunction(EmbeddingFunction):\n",
    "    def __call__(self, texts: Documents) -> Embeddings:\n",
    "        #create document embeddings with T5\n",
    "        embeddings = []\n",
    "        for text in texts:\n",
    "            input_ids = T5tokens.encode(text)\n",
    "            input_ids = torch.tensor(input_ids).unsqueeze(0)\n",
    "            with torch.no_grad():\n",
    "                output = T5Abstract_model(input_ids)\n",
    "            embeddings.append(output[0][0][0].numpy())\n",
    "        return embeddings"
   ]
  },
  {
   "attachments": {},
   "cell_type": "markdown",
   "metadata": {},
   "source": [
    "# Langchain Sentence Embeddings"
   ]
  },
  {
   "cell_type": "code",
   "execution_count": null,
   "metadata": {},
   "outputs": [],
   "source": [
    "from abc import ABC\n",
    "from typing import List, Optional, Any\n",
    "\n",
    "import chromadb\n",
    "from langchain.docstore.document import Document\n",
    "from langchain.embeddings.base import Embeddings\n",
    "from langchain.vectorstores import Chroma\n",
    "from langchain.embeddings.openai import OpenAIEmbeddings\n",
    "from langchain.embeddings import OpenAIEmbeddings"
   ]
  },
  {
   "cell_type": "code",
   "execution_count": 3,
   "metadata": {},
   "outputs": [],
   "source": [
    "embeddings_model = OpenAIEmbeddings(openai_api_key=keys['openai_api_key'])"
   ]
  },
  {
   "cell_type": "code",
   "execution_count": 9,
   "metadata": {},
   "outputs": [],
   "source": [
    "# Embed abstracts\n",
    "abstracts = pd.read_sql_table(\"abstracts\", engine.connect())"
   ]
  },
  {
   "cell_type": "code",
   "execution_count": null,
   "metadata": {},
   "outputs": [],
   "source": [
    "embeddings = OpenAIEmbeddings()\n",
    "vectorstore = CachedChroma.from_documents_with_cache(\n",
    "    \".persisted_data\", texts, embeddings, collection_name=\"fun_experiement\"\n",
    ")"
   ]
  },
  {
   "cell_type": "code",
   "execution_count": null,
   "metadata": {},
   "outputs": [],
   "source": [
    "# create a function that uses langchain to embed sentences\n",
    "def embed_sentences(sentences, tokenizer, model, max_sequence_length):\n",
    "    # tokenize the sentences\n",
    "    tokenized_sentences = tokenizer(sentences, padding=True, truncation=True, return_tensors=\"pt\", max_length=max_sequence_length)\n",
    "    # get the embeddings\n",
    "    with torch.no_grad():\n",
    "        model_output = model(**tokenized_sentences)\n",
    "    # get the embeddings from the model output\n",
    "    embeddings = model_output[0][:,0,:].numpy()\n",
    "    return embeddings\n"
   ]
  },
  {
   "attachments": {},
   "cell_type": "markdown",
   "metadata": {},
   "source": [
    "# Create Encodings using Dask"
   ]
  },
  {
   "attachments": {},
   "cell_type": "markdown",
   "metadata": {},
   "source": [
    "## Abstracts"
   ]
  },
  {
   "cell_type": "code",
   "execution_count": null,
   "metadata": {},
   "outputs": [],
   "source": [
    "ddf = dd.read_sql_table('abstracts', \n",
    "                        con = f'postgresql://postgres:{keys[\"postgres\"]}@{config[\"database\"][\"host\"]}:5432/postgres',\n",
    "                        index_col = 'id',\n",
    "                        head_rows = 5,\n",
    "                        npartitions = 700)\n",
    "\n",
    "# Remove unnecessary columns\n",
    "ddf = ddf.drop(columns = ['index'])\n",
    "\n",
    "# Remove empty abstract rows\n",
    "ddf = ddf.dropna(how = 'all', subset='abstract').reset_index(drop = True)"
   ]
  },
  {
   "cell_type": "code",
   "execution_count": null,
   "metadata": {},
   "outputs": [],
   "source": [
    "# create new columns for DB table\n",
    "ddf2 = ddf.abstract.apply(T5tokens, meta=('abstract', 'string')).apply(pd.Series, meta=({'input_ids':'object', 'attention_mask':'object'}))\n",
    "\n",
    "# concatenate two dataframes\n",
    "ddf = dd.concat([ddf, ddf2], axis = 1) # create divisions in ddfs? \n",
    "# QA check\n",
    "# results"
   ]
  },
  {
   "cell_type": "code",
   "execution_count": null,
   "metadata": {},
   "outputs": [],
   "source": [
    "# Rename columns for easier reading later\n",
    "ddf.columns "
   ]
  },
  {
   "cell_type": "code",
   "execution_count": null,
   "metadata": {},
   "outputs": [],
   "source": [
    "# Save backup\n",
    "# name_function = lambda x: f\"abstracts-{x}.parquet\"\n",
    "# ddf3.to_parquet('/home/ubuntu/work/backup/', name_function = name_function)"
   ]
  },
  {
   "attachments": {},
   "cell_type": "markdown",
   "metadata": {},
   "source": [
    "## Full Text"
   ]
  },
  {
   "cell_type": "code",
   "execution_count": 3,
   "metadata": {},
   "outputs": [],
   "source": [
    "# import dask\n",
    "from dask import dataframe as dd\n",
    "from dask.delayed import delayed\n",
    "from dask.diagnostics import ProgressBar\n",
    "# from glob import glob"
   ]
  },
  {
   "cell_type": "code",
   "execution_count": null,
   "metadata": {},
   "outputs": [],
   "source": [
    "# Create connection to postgres db\n",
    "# from sqlalchemy.engine.url import URL\n",
    "\n",
    "# postgres_db = {'drivername': 'postgres',\n",
    "#                'database': 'postgres',\n",
    "#                'username': 'postgres',\n",
    "#                'password': keys[\"postgres\"],\n",
    "#                'host': config[\"database\"][\"host\"],\n",
    "#                'port': 5432}\n",
    "# print(URL(**postgres_db))\n",
    "# postgres = URL(**postgres_db)"
   ]
  },
  {
   "cell_type": "code",
   "execution_count": 4,
   "metadata": {},
   "outputs": [
    {
     "ename": "",
     "evalue": "",
     "output_type": "error",
     "traceback": [
      "\u001b[1;31mCannot execute code, session has been disposed. Please try restarting the Kernel."
     ]
    },
    {
     "ename": "",
     "evalue": "",
     "output_type": "error",
     "traceback": [
      "\u001b[1;31mThe Kernel crashed while executing code in the the current cell or a previous cell. Please review the code in the cell(s) to identify a possible cause of the failure. Click <a href='https://aka.ms/vscodeJupyterKernelCrash'>here</a> for more info. View Jupyter <a href='command:jupyter.viewOutput'>log</a> for further details."
     ]
    }
   ],
   "source": [
    "df = pd.read_sql_table('fulltext', con = f'postgresql://postgres:{keys[\"postgres\"]}@{config[\"database\"][\"host\"]}:5432/postgres')"
   ]
  },
  {
   "cell_type": "code",
   "execution_count": 18,
   "metadata": {},
   "outputs": [
    {
     "ename": "AttributeError",
     "evalue": "'OptionEngine' object has no attribute 'execute'",
     "output_type": "error",
     "traceback": [
      "\u001b[0;31m---------------------------------------------------------------------------\u001b[0m",
      "\u001b[0;31mAttributeError\u001b[0m                            Traceback (most recent call last)",
      "Cell \u001b[0;32mIn[18], line 1\u001b[0m\n\u001b[0;32m----> 1\u001b[0m ddf \u001b[39m=\u001b[39m dd\u001b[39m.\u001b[39;49mread_sql_table(\u001b[39m'\u001b[39;49m\u001b[39mfulltext\u001b[39;49m\u001b[39m'\u001b[39;49m, \n\u001b[1;32m      2\u001b[0m                         con \u001b[39m=\u001b[39;49m \u001b[39mf\u001b[39;49m\u001b[39m'\u001b[39;49m\u001b[39mpostgresql://postgres:\u001b[39;49m\u001b[39m{\u001b[39;49;00mkeys[\u001b[39m\"\u001b[39;49m\u001b[39mpostgres\u001b[39;49m\u001b[39m\"\u001b[39;49m]\u001b[39m}\u001b[39;49;00m\u001b[39m@\u001b[39;49m\u001b[39m{\u001b[39;49;00mconfig[\u001b[39m\"\u001b[39;49m\u001b[39mdatabase\u001b[39;49m\u001b[39m\"\u001b[39;49m][\u001b[39m\"\u001b[39;49m\u001b[39mhost\u001b[39;49m\u001b[39m\"\u001b[39;49m]\u001b[39m}\u001b[39;49;00m\u001b[39m:5432/postgres\u001b[39;49m\u001b[39m'\u001b[39;49m,\n\u001b[1;32m      3\u001b[0m                         index_col \u001b[39m=\u001b[39;49m \u001b[39m'\u001b[39;49m\u001b[39mid\u001b[39;49m\u001b[39m'\u001b[39;49m,\n\u001b[1;32m      4\u001b[0m                         npartitions \u001b[39m=\u001b[39;49m \u001b[39m100\u001b[39;49m)\n",
      "File \u001b[0;32m~/anaconda3/envs/chroma/lib/python3.10/site-packages/dask/dataframe/io/sql.py:344\u001b[0m, in \u001b[0;36mread_sql_table\u001b[0;34m(table_name, con, index_col, divisions, npartitions, limits, columns, bytes_per_chunk, head_rows, schema, meta, engine_kwargs, **kwargs)\u001b[0m\n\u001b[1;32m    340\u001b[0m     columns\u001b[39m.\u001b[39mappend(index)\n\u001b[1;32m    342\u001b[0m query \u001b[39m=\u001b[39m sql\u001b[39m.\u001b[39mselect(\u001b[39m*\u001b[39mcolumns)\u001b[39m.\u001b[39mselect_from(table_name)\n\u001b[0;32m--> 344\u001b[0m \u001b[39mreturn\u001b[39;00m read_sql_query(\n\u001b[1;32m    345\u001b[0m     sql\u001b[39m=\u001b[39;49mquery,\n\u001b[1;32m    346\u001b[0m     con\u001b[39m=\u001b[39;49mcon,\n\u001b[1;32m    347\u001b[0m     index_col\u001b[39m=\u001b[39;49mindex,\n\u001b[1;32m    348\u001b[0m     divisions\u001b[39m=\u001b[39;49mdivisions,\n\u001b[1;32m    349\u001b[0m     npartitions\u001b[39m=\u001b[39;49mnpartitions,\n\u001b[1;32m    350\u001b[0m     limits\u001b[39m=\u001b[39;49mlimits,\n\u001b[1;32m    351\u001b[0m     bytes_per_chunk\u001b[39m=\u001b[39;49mbytes_per_chunk,\n\u001b[1;32m    352\u001b[0m     head_rows\u001b[39m=\u001b[39;49mhead_rows,\n\u001b[1;32m    353\u001b[0m     meta\u001b[39m=\u001b[39;49mmeta,\n\u001b[1;32m    354\u001b[0m     engine_kwargs\u001b[39m=\u001b[39;49mengine_kwargs,\n\u001b[1;32m    355\u001b[0m     \u001b[39m*\u001b[39;49m\u001b[39m*\u001b[39;49mkwargs,\n\u001b[1;32m    356\u001b[0m )\n",
      "File \u001b[0;32m~/anaconda3/envs/chroma/lib/python3.10/site-packages/dask/dataframe/io/sql.py:122\u001b[0m, in \u001b[0;36mread_sql_query\u001b[0;34m(sql, con, index_col, divisions, npartitions, limits, bytes_per_chunk, head_rows, meta, engine_kwargs, **kwargs)\u001b[0m\n\u001b[1;32m    119\u001b[0m \u001b[39mif\u001b[39;00m head_rows \u001b[39m>\u001b[39m \u001b[39m0\u001b[39m:\n\u001b[1;32m    120\u001b[0m     \u001b[39m# derive metadata from first few rows\u001b[39;00m\n\u001b[1;32m    121\u001b[0m     q \u001b[39m=\u001b[39m sql\u001b[39m.\u001b[39mlimit(head_rows)\n\u001b[0;32m--> 122\u001b[0m     head \u001b[39m=\u001b[39m pd\u001b[39m.\u001b[39;49mread_sql(q, engine, \u001b[39m*\u001b[39;49m\u001b[39m*\u001b[39;49mkwargs)\n\u001b[1;32m    124\u001b[0m     \u001b[39mif\u001b[39;00m \u001b[39mlen\u001b[39m(head) \u001b[39m==\u001b[39m \u001b[39m0\u001b[39m:\n\u001b[1;32m    125\u001b[0m         \u001b[39m# no results at all\u001b[39;00m\n\u001b[1;32m    126\u001b[0m         \u001b[39mreturn\u001b[39;00m from_pandas(head, npartitions\u001b[39m=\u001b[39m\u001b[39m1\u001b[39m)\n",
      "File \u001b[0;32m~/anaconda3/envs/chroma/lib/python3.10/site-packages/pandas/io/sql.py:590\u001b[0m, in \u001b[0;36mread_sql\u001b[0;34m(sql, con, index_col, coerce_float, params, parse_dates, columns, chunksize)\u001b[0m\n\u001b[1;32m    581\u001b[0m     \u001b[39mreturn\u001b[39;00m pandas_sql\u001b[39m.\u001b[39mread_table(\n\u001b[1;32m    582\u001b[0m         sql,\n\u001b[1;32m    583\u001b[0m         index_col\u001b[39m=\u001b[39mindex_col,\n\u001b[0;32m   (...)\u001b[0m\n\u001b[1;32m    587\u001b[0m         chunksize\u001b[39m=\u001b[39mchunksize,\n\u001b[1;32m    588\u001b[0m     )\n\u001b[1;32m    589\u001b[0m \u001b[39melse\u001b[39;00m:\n\u001b[0;32m--> 590\u001b[0m     \u001b[39mreturn\u001b[39;00m pandas_sql\u001b[39m.\u001b[39;49mread_query(\n\u001b[1;32m    591\u001b[0m         sql,\n\u001b[1;32m    592\u001b[0m         index_col\u001b[39m=\u001b[39;49mindex_col,\n\u001b[1;32m    593\u001b[0m         params\u001b[39m=\u001b[39;49mparams,\n\u001b[1;32m    594\u001b[0m         coerce_float\u001b[39m=\u001b[39;49mcoerce_float,\n\u001b[1;32m    595\u001b[0m         parse_dates\u001b[39m=\u001b[39;49mparse_dates,\n\u001b[1;32m    596\u001b[0m         chunksize\u001b[39m=\u001b[39;49mchunksize,\n\u001b[1;32m    597\u001b[0m     )\n",
      "File \u001b[0;32m~/anaconda3/envs/chroma/lib/python3.10/site-packages/pandas/io/sql.py:1560\u001b[0m, in \u001b[0;36mSQLDatabase.read_query\u001b[0;34m(self, sql, index_col, coerce_float, parse_dates, params, chunksize, dtype)\u001b[0m\n\u001b[1;32m   1512\u001b[0m \u001b[39m\u001b[39m\u001b[39m\"\"\"\u001b[39;00m\n\u001b[1;32m   1513\u001b[0m \u001b[39mRead SQL query into a DataFrame.\u001b[39;00m\n\u001b[1;32m   1514\u001b[0m \n\u001b[0;32m   (...)\u001b[0m\n\u001b[1;32m   1556\u001b[0m \n\u001b[1;32m   1557\u001b[0m \u001b[39m\"\"\"\u001b[39;00m\n\u001b[1;32m   1558\u001b[0m args \u001b[39m=\u001b[39m _convert_params(sql, params)\n\u001b[0;32m-> 1560\u001b[0m result \u001b[39m=\u001b[39m \u001b[39mself\u001b[39;49m\u001b[39m.\u001b[39;49mexecute(\u001b[39m*\u001b[39;49margs)\n\u001b[1;32m   1561\u001b[0m columns \u001b[39m=\u001b[39m result\u001b[39m.\u001b[39mkeys()\n\u001b[1;32m   1563\u001b[0m \u001b[39mif\u001b[39;00m chunksize \u001b[39mis\u001b[39;00m \u001b[39mnot\u001b[39;00m \u001b[39mNone\u001b[39;00m:\n",
      "File \u001b[0;32m~/anaconda3/envs/chroma/lib/python3.10/site-packages/pandas/io/sql.py:1405\u001b[0m, in \u001b[0;36mSQLDatabase.execute\u001b[0;34m(self, *args, **kwargs)\u001b[0m\n\u001b[1;32m   1403\u001b[0m \u001b[39mdef\u001b[39;00m \u001b[39mexecute\u001b[39m(\u001b[39mself\u001b[39m, \u001b[39m*\u001b[39margs, \u001b[39m*\u001b[39m\u001b[39m*\u001b[39mkwargs):\n\u001b[1;32m   1404\u001b[0m \u001b[39m    \u001b[39m\u001b[39m\"\"\"Simple passthrough to SQLAlchemy connectable\"\"\"\u001b[39;00m\n\u001b[0;32m-> 1405\u001b[0m     \u001b[39mreturn\u001b[39;00m \u001b[39mself\u001b[39;49m\u001b[39m.\u001b[39;49mconnectable\u001b[39m.\u001b[39;49mexecution_options()\u001b[39m.\u001b[39;49mexecute(\u001b[39m*\u001b[39margs, \u001b[39m*\u001b[39m\u001b[39m*\u001b[39mkwargs)\n",
      "\u001b[0;31mAttributeError\u001b[0m: 'OptionEngine' object has no attribute 'execute'"
     ]
    }
   ],
   "source": [
    "ddf = dd.read_sql_table('fulltext', \n",
    "                        con = f'postgresql://postgres:{keys[\"postgres\"]}@{config[\"database\"][\"host\"]}:5432/postgres',\n",
    "                        index_col = 'id',\n",
    "                        head_rows = 10,\n",
    "                        npartitions = 100)\n",
    "\n",
    "# Remove unnecessary columns\n",
    "# ddf = ddf.drop(columns = ['index'])\n",
    "\n",
    "# Remove empty abstract rows\n",
    "# ddf = ddf.dropna(how = 'all', subset='abstract').reset_index(drop = True)"
   ]
  },
  {
   "cell_type": "code",
   "execution_count": null,
   "metadata": {},
   "outputs": [],
   "source": [
    "\n",
    "for x in xl_files:\n",
    "    parts = dask.delayed(try_to_read)(x)\n",
    "    # filter_df = dask.delayed(get_techniques)(parts)\n",
    "    output.append(parts)\n",
    "\n",
    "# convert to a single dataframe\n",
    "df_total = dd.from_delayed(output)\n",
    "\n",
    "# df_total.visualize()\n",
    "\n",
    "with ProgressBar():\n",
    "    ddf = df_total.compute()"
   ]
  },
  {
   "attachments": {},
   "cell_type": "markdown",
   "metadata": {},
   "source": [
    "# Upload to Postgresql DB"
   ]
  },
  {
   "cell_type": "code",
   "execution_count": null,
   "metadata": {},
   "outputs": [],
   "source": [
    "# sql = text(''' \n",
    "#     SELECT EXISTS (\n",
    "#         SELECT FROM information_schema.tables \n",
    "#         WHERE    table_name   = 'abstracts'\n",
    "#     );\n",
    "# ''')\n",
    "\n",
    "# with engine.connect() as conn: \n",
    "#     conn.execute(sql)"
   ]
  },
  {
   "attachments": {},
   "cell_type": "markdown",
   "metadata": {},
   "source": [
    "Create array columns to store encoding and mask"
   ]
  },
  {
   "cell_type": "code",
   "execution_count": null,
   "metadata": {},
   "outputs": [],
   "source": [
    "table_name = 'abstracts_encodings'"
   ]
  },
  {
   "cell_type": "code",
   "execution_count": null,
   "metadata": {},
   "outputs": [],
   "source": [
    "delete_table = False\n",
    "\n",
    "if delete_table: \n",
    "    sql = text(f''' \n",
    "        DROP TABLE IF EXISTS {table_name}};\n",
    "    ''')\n",
    "\n",
    "    with engine.connect() as conn: \n",
    "        query = conn.execute(sql)"
   ]
  },
  {
   "cell_type": "code",
   "execution_count": null,
   "metadata": {},
   "outputs": [],
   "source": [
    "# create table\n",
    "# Create Table in DB first before uploading\n",
    "from sqlalchemy import MetaData, Table, Column, Integer, String, ARRAY\n",
    "\n",
    "metadata_obj = MetaData()\n",
    "\n",
    "# Create abstracts metadata\n",
    "abstracts = Table(\n",
    "    table_name,\n",
    "    metadata_obj,\n",
    "    Column(\"paperId\", String, nullable = True),\n",
    "    Column(\"corpusId\", String, nullable=True),\n",
    "    Column(\"abstract\", String, nullable = True),\n",
    "    Column(\"input_ds\", ARRAY(Integer), nullable=True),\n",
    "    Column(\"attention_mask\", ARRAY(Integer), nullable=True),\n",
    ")\n",
    "\n",
    "metadata_obj.create_all(engine)"
   ]
  },
  {
   "cell_type": "code",
   "execution_count": null,
   "metadata": {},
   "outputs": [],
   "source": [
    "# Upload dask dataframe to psql\n",
    "ddf = ddf.to_sql(name = table_name, uri = str(url_object), if_exists = 'replace', index = False, chunksize = 10000, method = 'multi')"
   ]
  },
  {
   "cell_type": "code",
   "execution_count": 4,
   "metadata": {},
   "outputs": [
    {
     "data": {
      "text/html": [
       "<div>\n",
       "<style scoped>\n",
       "    .dataframe tbody tr th:only-of-type {\n",
       "        vertical-align: middle;\n",
       "    }\n",
       "\n",
       "    .dataframe tbody tr th {\n",
       "        vertical-align: top;\n",
       "    }\n",
       "\n",
       "    .dataframe thead th {\n",
       "        text-align: right;\n",
       "    }\n",
       "</style>\n",
       "<table border=\"1\" class=\"dataframe\">\n",
       "  <thead>\n",
       "    <tr style=\"text-align: right;\">\n",
       "      <th></th>\n",
       "      <th>paperId</th>\n",
       "      <th>corpusId</th>\n",
       "      <th>abstract</th>\n",
       "      <th>input_ids</th>\n",
       "      <th>attention_mask</th>\n",
       "    </tr>\n",
       "  </thead>\n",
       "  <tbody>\n",
       "    <tr>\n",
       "      <th>0</th>\n",
       "      <td>f674f1fa1bcccc7c4072aed1eca9cc3c6f773539</td>\n",
       "      <td>9445537</td>\n",
       "      <td>Introduction Meta-epidemiological studies exam...</td>\n",
       "      <td>[18921, 14204, 18, 15, 102, 23, 1778, 23, 4478...</td>\n",
       "      <td>[1, 1, 1, 1, 1, 1, 1, 1, 1, 1, 1, 1, 1, 1, 1, ...</td>\n",
       "    </tr>\n",
       "    <tr>\n",
       "      <th>1</th>\n",
       "      <td>c0bbe6967f8c4c9223112bb9fe384f1af2d28339</td>\n",
       "      <td>216030749</td>\n",
       "      <td>Purpose: To assess whether treatment with the ...</td>\n",
       "      <td>[7333, 2748, 15, 10, 304, 6570, 823, 1058, 28,...</td>\n",
       "      <td>[1, 1, 1, 1, 1, 1, 1, 1, 1, 1, 1, 1, 1, 1, 1, ...</td>\n",
       "    </tr>\n",
       "    <tr>\n",
       "      <th>2</th>\n",
       "      <td>4e112781c353ff25ea93a796f51e6a71ab7a52af</td>\n",
       "      <td>43026158</td>\n",
       "      <td>The aim of the study is to examine whether bas...</td>\n",
       "      <td>[37, 2674, 13, 8, 810, 19, 12, 5443, 823, 2072...</td>\n",
       "      <td>[1, 1, 1, 1, 1, 1, 1, 1, 1, 1, 1, 1, 1, 1, 1, ...</td>\n",
       "    </tr>\n",
       "    <tr>\n",
       "      <th>3</th>\n",
       "      <td>d79b0987af87e240fcfd1d86a7ecf0b16638139f</td>\n",
       "      <td>231849048</td>\n",
       "      <td>The scale of the SARS-CoV-2 pandemic has thrus...</td>\n",
       "      <td>[37, 2643, 13, 8, 180, 25210, 18, 3881, 553, 4...</td>\n",
       "      <td>[1, 1, 1, 1, 1, 1, 1, 1, 1, 1, 1, 1, 1, 1, 1, ...</td>\n",
       "    </tr>\n",
       "    <tr>\n",
       "      <th>4</th>\n",
       "      <td>6644258fd62e695b15ef6825099a8dd4e0710334</td>\n",
       "      <td>3701623</td>\n",
       "      <td>Group 2 innate lymphoid cells (ILC2s) are impo...</td>\n",
       "      <td>[1531, 204, 3, 28538, 25049, 32, 23, 26, 2640,...</td>\n",
       "      <td>[1, 1, 1, 1, 1, 1, 1, 1, 1, 1, 1, 1, 1, 1, 1, ...</td>\n",
       "    </tr>\n",
       "  </tbody>\n",
       "</table>\n",
       "</div>"
      ],
      "text/plain": [
       "                                    paperId   corpusId  \\\n",
       "0  f674f1fa1bcccc7c4072aed1eca9cc3c6f773539    9445537   \n",
       "1  c0bbe6967f8c4c9223112bb9fe384f1af2d28339  216030749   \n",
       "2  4e112781c353ff25ea93a796f51e6a71ab7a52af   43026158   \n",
       "3  d79b0987af87e240fcfd1d86a7ecf0b16638139f  231849048   \n",
       "4  6644258fd62e695b15ef6825099a8dd4e0710334    3701623   \n",
       "\n",
       "                                            abstract  \\\n",
       "0  Introduction Meta-epidemiological studies exam...   \n",
       "1  Purpose: To assess whether treatment with the ...   \n",
       "2  The aim of the study is to examine whether bas...   \n",
       "3  The scale of the SARS-CoV-2 pandemic has thrus...   \n",
       "4  Group 2 innate lymphoid cells (ILC2s) are impo...   \n",
       "\n",
       "                                           input_ids  \\\n",
       "0  [18921, 14204, 18, 15, 102, 23, 1778, 23, 4478...   \n",
       "1  [7333, 2748, 15, 10, 304, 6570, 823, 1058, 28,...   \n",
       "2  [37, 2674, 13, 8, 810, 19, 12, 5443, 823, 2072...   \n",
       "3  [37, 2643, 13, 8, 180, 25210, 18, 3881, 553, 4...   \n",
       "4  [1531, 204, 3, 28538, 25049, 32, 23, 26, 2640,...   \n",
       "\n",
       "                                      attention_mask  \n",
       "0  [1, 1, 1, 1, 1, 1, 1, 1, 1, 1, 1, 1, 1, 1, 1, ...  \n",
       "1  [1, 1, 1, 1, 1, 1, 1, 1, 1, 1, 1, 1, 1, 1, 1, ...  \n",
       "2  [1, 1, 1, 1, 1, 1, 1, 1, 1, 1, 1, 1, 1, 1, 1, ...  \n",
       "3  [1, 1, 1, 1, 1, 1, 1, 1, 1, 1, 1, 1, 1, 1, 1, ...  \n",
       "4  [1, 1, 1, 1, 1, 1, 1, 1, 1, 1, 1, 1, 1, 1, 1, ...  "
      ]
     },
     "execution_count": 4,
     "metadata": {},
     "output_type": "execute_result"
    }
   ],
   "source": [
    "# Check if it worked\n",
    "import pandas as pd\n",
    "from sqlalchemy import text\n",
    "\n",
    "table_name = 'abstracts_encodings'\n",
    "\n",
    "sql = text(f''' \n",
    "    SELECT * FROM {table_name} LIMIT 5;\n",
    "''')\n",
    "\n",
    "with engine.connect() as conn: \n",
    "    query = conn.execute(sql)\n",
    "\n",
    "test = pd.DataFrame(query.fetchall())\n",
    "test.head()"
   ]
  },
  {
   "cell_type": "code",
   "execution_count": 17,
   "metadata": {},
   "outputs": [
    {
     "data": {
      "text/html": [
       "<div>\n",
       "<style scoped>\n",
       "    .dataframe tbody tr th:only-of-type {\n",
       "        vertical-align: middle;\n",
       "    }\n",
       "\n",
       "    .dataframe tbody tr th {\n",
       "        vertical-align: top;\n",
       "    }\n",
       "\n",
       "    .dataframe thead th {\n",
       "        text-align: right;\n",
       "    }\n",
       "</style>\n",
       "<table border=\"1\" class=\"dataframe\">\n",
       "  <thead>\n",
       "    <tr style=\"text-align: right;\">\n",
       "      <th></th>\n",
       "      <th>empty</th>\n",
       "      <th>Unnamed: 0</th>\n",
       "      <th>corpusid</th>\n",
       "      <th>text</th>\n",
       "      <th>source.pdfurls</th>\n",
       "      <th>source.pdfsha</th>\n",
       "      <th>source.oainfo</th>\n",
       "      <th>annotations.abstract</th>\n",
       "      <th>annotations.author</th>\n",
       "      <th>annotations.authoraffiliation</th>\n",
       "      <th>...</th>\n",
       "      <th>annotations.publisher</th>\n",
       "      <th>annotations.sectionheader</th>\n",
       "      <th>annotations.table</th>\n",
       "      <th>annotations.tableref</th>\n",
       "      <th>annotations.title</th>\n",
       "      <th>annotations.venue</th>\n",
       "      <th>source.oainfo.license</th>\n",
       "      <th>source.oainfo.openaccessurl</th>\n",
       "      <th>source.oainfo.status</th>\n",
       "      <th>id</th>\n",
       "    </tr>\n",
       "  </thead>\n",
       "  <tbody>\n",
       "    <tr>\n",
       "      <th>0</th>\n",
       "      <td>1410</td>\n",
       "      <td>1410</td>\n",
       "      <td>250929149</td>\n",
       "      <td>\\nOPEN ACCESS EDITED BY\\n\\n\\nAlexander Nikolae...</td>\n",
       "      <td>None</td>\n",
       "      <td>57f2173016853ed6f6406a962adb11da43917165</td>\n",
       "      <td>None</td>\n",
       "      <td>None</td>\n",
       "      <td>[{\"end\":55,\"start\":25},{\"end\":69,\"start\":56},{...</td>\n",
       "      <td>[{\"end\":455,\"start\":306},{\"end\":1102,\"start\":4...</td>\n",
       "      <td>...</td>\n",
       "      <td>None</td>\n",
       "      <td>[{\"end\":3001,\"start\":2989},{\"end\":6895,\"start\"...</td>\n",
       "      <td>[{\"end\":35560,\"start\":34552},{\"end\":38099,\"sta...</td>\n",
       "      <td>[{\"end\":18195,\"start\":18188},{\"end\":18790,\"sta...</td>\n",
       "      <td>[{\"end\":22,\"start\":1},{\"end\":1721,\"start\":1700}]</td>\n",
       "      <td>None</td>\n",
       "      <td>None</td>\n",
       "      <td>None</td>\n",
       "      <td>None</td>\n",
       "      <td>1</td>\n",
       "    </tr>\n",
       "    <tr>\n",
       "      <th>1</th>\n",
       "      <td>1411</td>\n",
       "      <td>1411</td>\n",
       "      <td>215793097</td>\n",
       "      <td>\\n\\n\\n\\nCi Song \\nState Key Laboratory of Repr...</td>\n",
       "      <td>None</td>\n",
       "      <td>be45f9e9d6d1f4f713546b943cb2ff455989adc2</td>\n",
       "      <td>None</td>\n",
       "      <td>None</td>\n",
       "      <td>[{\"end\":228,\"start\":4},{\"end\":380,\"start\":229}...</td>\n",
       "      <td>[{\"end\":104,\"start\":13},{\"end\":227,\"start\":106...</td>\n",
       "      <td>...</td>\n",
       "      <td>None</td>\n",
       "      <td>[{\"end\":8781,\"start\":8771}]</td>\n",
       "      <td>None</td>\n",
       "      <td>[{\"end\":4906,\"start\":4898}]</td>\n",
       "      <td>None</td>\n",
       "      <td>None</td>\n",
       "      <td>None</td>\n",
       "      <td>https://academic.oup.com/biolreprod/article-pd...</td>\n",
       "      <td>BRONZE</td>\n",
       "      <td>2</td>\n",
       "    </tr>\n",
       "    <tr>\n",
       "      <th>2</th>\n",
       "      <td>1412</td>\n",
       "      <td>1412</td>\n",
       "      <td>246020601</td>\n",
       "      <td>\\nCOVID-19 and the Otolaryngology Residency Ma...</td>\n",
       "      <td>None</td>\n",
       "      <td>b7decbb79e55bb3c9b5430bef4323775813c39e0</td>\n",
       "      <td>None</td>\n",
       "      <td>[{\"end\":2210,\"start\":391}]</td>\n",
       "      <td>[{\"end\":109,\"start\":85},{\"end\":127,\"start\":110...</td>\n",
       "      <td>None</td>\n",
       "      <td>...</td>\n",
       "      <td>None</td>\n",
       "      <td>[{\"end\":2224,\"start\":2212},{\"end\":4135,\"start\"...</td>\n",
       "      <td>[{\"end\":16114,\"start\":15573},{\"end\":16650,\"sta...</td>\n",
       "      <td>[{\"attributes\":{\"ref_id\":\"tab_0\"},\"end\":7027,\"...</td>\n",
       "      <td>[{\"end\":82,\"start\":1},{\"end\":227,\"start\":146}]</td>\n",
       "      <td>None</td>\n",
       "      <td>None</td>\n",
       "      <td>https://www.ncbi.nlm.nih.gov/pmc/articles/PMC9...</td>\n",
       "      <td>GREEN</td>\n",
       "      <td>3</td>\n",
       "    </tr>\n",
       "    <tr>\n",
       "      <th>3</th>\n",
       "      <td>1413</td>\n",
       "      <td>1413</td>\n",
       "      <td>18163935</td>\n",
       "      <td>\\nAnalysis of biophysical and functional conse...</td>\n",
       "      <td>None</td>\n",
       "      <td>895fdf69460791863817c037332c0403c3e917b1</td>\n",
       "      <td>None</td>\n",
       "      <td>[{\"end\":1608,\"start\":861}]</td>\n",
       "      <td>[{\"end\":217,\"start\":201},{\"end\":235,\"start\":21...</td>\n",
       "      <td>[{\"end\":363,\"start\":257},{\"end\":410,\"start\":366}]</td>\n",
       "      <td>...</td>\n",
       "      <td>None</td>\n",
       "      <td>[{\"end\":7790,\"start\":7769},{\"end\":7810,\"start\"...</td>\n",
       "      <td>[{\"end\":32871,\"start\":32129}]</td>\n",
       "      <td>[{\"attributes\":{\"ref_id\":\"tab_0\"},\"end\":12397,...</td>\n",
       "      <td>[{\"end\":95,\"start\":1},{\"end\":506,\"start\":412}]</td>\n",
       "      <td>None</td>\n",
       "      <td>CCBY</td>\n",
       "      <td>https://doi.org/10.1002/1873-3468.12346</td>\n",
       "      <td>HYBRID</td>\n",
       "      <td>4</td>\n",
       "    </tr>\n",
       "    <tr>\n",
       "      <th>4</th>\n",
       "      <td>1414</td>\n",
       "      <td>1414</td>\n",
       "      <td>237935836</td>\n",
       "      <td>\\nImpact of Plant-Based Meat Alternatives on t...</td>\n",
       "      <td>None</td>\n",
       "      <td>acf534c72039d2b2c10544b12f7cc872c2ba1b2a</td>\n",
       "      <td>None</td>\n",
       "      <td>None</td>\n",
       "      <td>[{\"end\":289,\"start\":123},{\"end\":375,\"start\":29...</td>\n",
       "      <td>[{\"end\":219,\"start\":148},{\"end\":288,\"start\":22...</td>\n",
       "      <td>...</td>\n",
       "      <td>None</td>\n",
       "      <td>[{\"attributes\":{\"n\":\"1.\"},\"end\":1115,\"start\":1...</td>\n",
       "      <td>[{\"end\":60480,\"start\":59841},{\"end\":61332,\"sta...</td>\n",
       "      <td>[{\"attributes\":{\"ref_id\":\"tab_1\"},\"end\":8301,\"...</td>\n",
       "      <td>[{\"end\":95,\"start\":1},{\"end\":755,\"start\":661}]</td>\n",
       "      <td>None</td>\n",
       "      <td>CCBY</td>\n",
       "      <td>https://www.mdpi.com/2304-8158/10/9/2040/pdf</td>\n",
       "      <td>GOLD</td>\n",
       "      <td>5</td>\n",
       "    </tr>\n",
       "  </tbody>\n",
       "</table>\n",
       "<p>5 rows × 34 columns</p>\n",
       "</div>"
      ],
      "text/plain": [
       "  empty Unnamed: 0   corpusid  \\\n",
       "0  1410       1410  250929149   \n",
       "1  1411       1411  215793097   \n",
       "2  1412       1412  246020601   \n",
       "3  1413       1413   18163935   \n",
       "4  1414       1414  237935836   \n",
       "\n",
       "                                                text source.pdfurls  \\\n",
       "0  \\nOPEN ACCESS EDITED BY\\n\\n\\nAlexander Nikolae...           None   \n",
       "1  \\n\\n\\n\\nCi Song \\nState Key Laboratory of Repr...           None   \n",
       "2  \\nCOVID-19 and the Otolaryngology Residency Ma...           None   \n",
       "3  \\nAnalysis of biophysical and functional conse...           None   \n",
       "4  \\nImpact of Plant-Based Meat Alternatives on t...           None   \n",
       "\n",
       "                              source.pdfsha source.oainfo  \\\n",
       "0  57f2173016853ed6f6406a962adb11da43917165          None   \n",
       "1  be45f9e9d6d1f4f713546b943cb2ff455989adc2          None   \n",
       "2  b7decbb79e55bb3c9b5430bef4323775813c39e0          None   \n",
       "3  895fdf69460791863817c037332c0403c3e917b1          None   \n",
       "4  acf534c72039d2b2c10544b12f7cc872c2ba1b2a          None   \n",
       "\n",
       "         annotations.abstract  \\\n",
       "0                        None   \n",
       "1                        None   \n",
       "2  [{\"end\":2210,\"start\":391}]   \n",
       "3  [{\"end\":1608,\"start\":861}]   \n",
       "4                        None   \n",
       "\n",
       "                                  annotations.author  \\\n",
       "0  [{\"end\":55,\"start\":25},{\"end\":69,\"start\":56},{...   \n",
       "1  [{\"end\":228,\"start\":4},{\"end\":380,\"start\":229}...   \n",
       "2  [{\"end\":109,\"start\":85},{\"end\":127,\"start\":110...   \n",
       "3  [{\"end\":217,\"start\":201},{\"end\":235,\"start\":21...   \n",
       "4  [{\"end\":289,\"start\":123},{\"end\":375,\"start\":29...   \n",
       "\n",
       "                       annotations.authoraffiliation  ...  \\\n",
       "0  [{\"end\":455,\"start\":306},{\"end\":1102,\"start\":4...  ...   \n",
       "1  [{\"end\":104,\"start\":13},{\"end\":227,\"start\":106...  ...   \n",
       "2                                               None  ...   \n",
       "3  [{\"end\":363,\"start\":257},{\"end\":410,\"start\":366}]  ...   \n",
       "4  [{\"end\":219,\"start\":148},{\"end\":288,\"start\":22...  ...   \n",
       "\n",
       "  annotations.publisher                          annotations.sectionheader  \\\n",
       "0                  None  [{\"end\":3001,\"start\":2989},{\"end\":6895,\"start\"...   \n",
       "1                  None                        [{\"end\":8781,\"start\":8771}]   \n",
       "2                  None  [{\"end\":2224,\"start\":2212},{\"end\":4135,\"start\"...   \n",
       "3                  None  [{\"end\":7790,\"start\":7769},{\"end\":7810,\"start\"...   \n",
       "4                  None  [{\"attributes\":{\"n\":\"1.\"},\"end\":1115,\"start\":1...   \n",
       "\n",
       "                                   annotations.table  \\\n",
       "0  [{\"end\":35560,\"start\":34552},{\"end\":38099,\"sta...   \n",
       "1                                               None   \n",
       "2  [{\"end\":16114,\"start\":15573},{\"end\":16650,\"sta...   \n",
       "3                      [{\"end\":32871,\"start\":32129}]   \n",
       "4  [{\"end\":60480,\"start\":59841},{\"end\":61332,\"sta...   \n",
       "\n",
       "                                annotations.tableref  \\\n",
       "0  [{\"end\":18195,\"start\":18188},{\"end\":18790,\"sta...   \n",
       "1                        [{\"end\":4906,\"start\":4898}]   \n",
       "2  [{\"attributes\":{\"ref_id\":\"tab_0\"},\"end\":7027,\"...   \n",
       "3  [{\"attributes\":{\"ref_id\":\"tab_0\"},\"end\":12397,...   \n",
       "4  [{\"attributes\":{\"ref_id\":\"tab_1\"},\"end\":8301,\"...   \n",
       "\n",
       "                                  annotations.title annotations.venue  \\\n",
       "0  [{\"end\":22,\"start\":1},{\"end\":1721,\"start\":1700}]              None   \n",
       "1                                              None              None   \n",
       "2    [{\"end\":82,\"start\":1},{\"end\":227,\"start\":146}]              None   \n",
       "3    [{\"end\":95,\"start\":1},{\"end\":506,\"start\":412}]              None   \n",
       "4    [{\"end\":95,\"start\":1},{\"end\":755,\"start\":661}]              None   \n",
       "\n",
       "  source.oainfo.license                        source.oainfo.openaccessurl  \\\n",
       "0                  None                                               None   \n",
       "1                  None  https://academic.oup.com/biolreprod/article-pd...   \n",
       "2                  None  https://www.ncbi.nlm.nih.gov/pmc/articles/PMC9...   \n",
       "3                  CCBY            https://doi.org/10.1002/1873-3468.12346   \n",
       "4                  CCBY       https://www.mdpi.com/2304-8158/10/9/2040/pdf   \n",
       "\n",
       "  source.oainfo.status id  \n",
       "0                 None  1  \n",
       "1               BRONZE  2  \n",
       "2                GREEN  3  \n",
       "3               HYBRID  4  \n",
       "4                 GOLD  5  \n",
       "\n",
       "[5 rows x 34 columns]"
      ]
     },
     "execution_count": 17,
     "metadata": {},
     "output_type": "execute_result"
    }
   ],
   "source": [
    "# Check if it worked\n",
    "import pandas as pd\n",
    "from sqlalchemy import text\n",
    "\n",
    "table_name = 'fulltext'\n",
    "\n",
    "sql = text(f''' \n",
    "    SELECT * FROM {table_name} LIMIT 5;\n",
    "''')\n",
    "\n",
    "with engine.connect() as conn: \n",
    "    query = conn.execute(sql)\n",
    "\n",
    "test = pd.DataFrame(query.fetchall())\n",
    "test.head()"
   ]
  },
  {
   "attachments": {},
   "cell_type": "markdown",
   "metadata": {},
   "source": [
    "# Create Vectore Store"
   ]
  },
  {
   "cell_type": "code",
   "execution_count": null,
   "metadata": {},
   "outputs": [],
   "source": [
    "from langchain.embeddings.openai import OpenAIEmbeddings\n",
    "from langchain.vectorstores import Chroma\n",
    "from langchain.text_splitter import CharacterTextSplitter\n",
    "from langchain.llms import OpenAI\n",
    "from langchain.chains import RetrievalQA\n",
    "\n",
    "llm = OpenAI(temperature=0)"
   ]
  }
 ],
 "metadata": {
  "kernelspec": {
   "display_name": "base",
   "language": "python",
   "name": "python3"
  },
  "language_info": {
   "codemirror_mode": {
    "name": "ipython",
    "version": 3
   },
   "file_extension": ".py",
   "mimetype": "text/x-python",
   "name": "python",
   "nbconvert_exporter": "python",
   "pygments_lexer": "ipython3",
   "version": "3.10.11"
  },
  "orig_nbformat": 4
 },
 "nbformat": 4,
 "nbformat_minor": 2
}
