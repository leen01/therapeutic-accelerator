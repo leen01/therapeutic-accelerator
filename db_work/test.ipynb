{
 "cells": [
  {
   "cell_type": "code",
   "execution_count": 7,
   "metadata": {},
   "outputs": [
    {
     "ename": "KeyboardInterrupt",
     "evalue": "",
     "output_type": "error",
     "traceback": [
      "\u001b[0;31m---------------------------------------------------------------------------\u001b[0m",
      "\u001b[0;31mKeyboardInterrupt\u001b[0m                         Traceback (most recent call last)",
      "Cell \u001b[0;32mIn[7], line 15\u001b[0m\n\u001b[1;32m     12\u001b[0m fulltext_files \u001b[39m=\u001b[39m glob\u001b[39m.\u001b[39mglob(\u001b[39m\"\u001b[39m\u001b[39m\"\u001b[39m\u001b[39m.\u001b[39mjoin([bucket_path, \u001b[39m'\u001b[39m\u001b[39m/fulltext-zipped/\u001b[39m\u001b[39m'\u001b[39m, \u001b[39m'\u001b[39m\u001b[39m/*?[.gz|!.zip]\u001b[39m\u001b[39m'\u001b[39m]))\n\u001b[1;32m     14\u001b[0m \u001b[39mfor\u001b[39;00m file \u001b[39min\u001b[39;00m fulltext_files:\n\u001b[0;32m---> 15\u001b[0m    gunzip(file)\n",
      "File \u001b[0;32m~/anaconda3/lib/python3.10/site-packages/sh.py:1566\u001b[0m, in \u001b[0;36mCommand.__call__\u001b[0;34m(self, *args, **kwargs)\u001b[0m\n\u001b[1;32m   1563\u001b[0m \u001b[39mif\u001b[39;00m output_redirect_is_filename(stderr):\n\u001b[1;32m   1564\u001b[0m     stderr \u001b[39m=\u001b[39m \u001b[39mopen\u001b[39m(\u001b[39mstr\u001b[39m(stderr), \u001b[39m\"\u001b[39m\u001b[39mwb\u001b[39m\u001b[39m\"\u001b[39m)\n\u001b[0;32m-> 1566\u001b[0m \u001b[39mreturn\u001b[39;00m RunningCommand(cmd, call_args, stdin, stdout, stderr)\n",
      "File \u001b[0;32m~/anaconda3/lib/python3.10/site-packages/sh.py:822\u001b[0m, in \u001b[0;36mRunningCommand.__init__\u001b[0;34m(self, cmd, call_args, stdin, stdout, stderr)\u001b[0m\n\u001b[1;32m    819\u001b[0m \u001b[39mself\u001b[39m\u001b[39m.\u001b[39mlog\u001b[39m.\u001b[39minfo(\u001b[39m\"\u001b[39m\u001b[39mprocess started\u001b[39m\u001b[39m\"\u001b[39m)\n\u001b[1;32m    821\u001b[0m \u001b[39mif\u001b[39;00m should_wait:\n\u001b[0;32m--> 822\u001b[0m     \u001b[39mself\u001b[39;49m\u001b[39m.\u001b[39;49mwait()\n",
      "File \u001b[0;32m~/anaconda3/lib/python3.10/site-packages/sh.py:869\u001b[0m, in \u001b[0;36mRunningCommand.wait\u001b[0;34m(self, timeout)\u001b[0m\n\u001b[1;32m    866\u001b[0m     \u001b[39mself\u001b[39m\u001b[39m.\u001b[39m_waited_until_completion \u001b[39m=\u001b[39m \u001b[39mTrue\u001b[39;00m\n\u001b[1;32m    868\u001b[0m \u001b[39melse\u001b[39;00m:\n\u001b[0;32m--> 869\u001b[0m     exit_code \u001b[39m=\u001b[39m \u001b[39mself\u001b[39;49m\u001b[39m.\u001b[39;49mprocess\u001b[39m.\u001b[39;49mwait()\n\u001b[1;32m    870\u001b[0m     \u001b[39mself\u001b[39m\u001b[39m.\u001b[39m_waited_until_completion \u001b[39m=\u001b[39m \u001b[39mTrue\u001b[39;00m\n\u001b[1;32m    872\u001b[0m \u001b[39mif\u001b[39;00m \u001b[39mself\u001b[39m\u001b[39m.\u001b[39mprocess\u001b[39m.\u001b[39mtimed_out:\n\u001b[1;32m    873\u001b[0m     \u001b[39m# if we timed out, our exit code represents a signal, which is\u001b[39;00m\n\u001b[1;32m    874\u001b[0m     \u001b[39m# negative, so let's make it positive to store in our\u001b[39;00m\n\u001b[1;32m    875\u001b[0m     \u001b[39m# TimeoutException\u001b[39;00m\n",
      "File \u001b[0;32m~/anaconda3/lib/python3.10/site-packages/sh.py:2560\u001b[0m, in \u001b[0;36mOProc.wait\u001b[0;34m(self)\u001b[0m\n\u001b[1;32m   2558\u001b[0m \u001b[39mif\u001b[39;00m \u001b[39mself\u001b[39m\u001b[39m.\u001b[39mexit_code \u001b[39mis\u001b[39;00m \u001b[39mNone\u001b[39;00m:\n\u001b[1;32m   2559\u001b[0m     \u001b[39mself\u001b[39m\u001b[39m.\u001b[39mlog\u001b[39m.\u001b[39mdebug(\u001b[39m\"\u001b[39m\u001b[39mexit code not set, waiting on pid\u001b[39m\u001b[39m\"\u001b[39m)\n\u001b[0;32m-> 2560\u001b[0m     pid, exit_code \u001b[39m=\u001b[39m no_interrupt(os\u001b[39m.\u001b[39;49mwaitpid, \u001b[39mself\u001b[39;49m\u001b[39m.\u001b[39;49mpid, \u001b[39m0\u001b[39;49m)  \u001b[39m# blocks\u001b[39;00m\n\u001b[1;32m   2561\u001b[0m     \u001b[39mself\u001b[39m\u001b[39m.\u001b[39mexit_code \u001b[39m=\u001b[39m handle_process_exit_code(exit_code)\n\u001b[1;32m   2562\u001b[0m     witnessed_end \u001b[39m=\u001b[39m \u001b[39mTrue\u001b[39;00m\n",
      "File \u001b[0;32m~/anaconda3/lib/python3.10/site-packages/sh.py:1808\u001b[0m, in \u001b[0;36mno_interrupt\u001b[0;34m(syscall, *args, **kwargs)\u001b[0m\n\u001b[1;32m   1806\u001b[0m \u001b[39mwhile\u001b[39;00m \u001b[39mTrue\u001b[39;00m:\n\u001b[1;32m   1807\u001b[0m     \u001b[39mtry\u001b[39;00m:\n\u001b[0;32m-> 1808\u001b[0m         ret \u001b[39m=\u001b[39m syscall(\u001b[39m*\u001b[39;49margs, \u001b[39m*\u001b[39;49m\u001b[39m*\u001b[39;49mkwargs)\n\u001b[1;32m   1809\u001b[0m     \u001b[39mexcept\u001b[39;00m \u001b[39mOSError\u001b[39;00m \u001b[39mas\u001b[39;00m e:\n\u001b[1;32m   1810\u001b[0m         \u001b[39mif\u001b[39;00m e\u001b[39m.\u001b[39merrno \u001b[39m==\u001b[39m errno\u001b[39m.\u001b[39mEINTR:\n",
      "\u001b[0;31mKeyboardInterrupt\u001b[0m: "
     ]
    }
   ],
   "source": [
    "# Get all file paths. It is in attributes but it is the full papers\n",
    "import glob\n",
    "import yaml\n",
    "import os\n",
    "import gzip\n",
    "import shutil\n",
    "\n",
    "with open(\"/home/ubuntu/work/therapeutic_accelerator/config/main.yaml\", \"r\") as f:\n",
    "    config = yaml.load(f, Loader=yaml.FullLoader)\n",
    "    \n",
    "bucket_path = os.path.join(config['paths']['root'], config['paths']['mount'])\n",
    "\n",
    "fulltext_files = glob.glob(\"\".join([bucket_path, '/fulltext-zipped/', '/*?[.gz|!.zip]']))\n",
    "\n",
    "for file in fulltext_files: \n",
    "    with open(file, 'rb') as f_in:\n",
    "        try: \n",
    "            with gzip.open(file.strip(\"\\.gz\"), 'wb') as f_out:\n",
    "                shutil.copyfileobj(f_in, f_out)\n",
    "        except: \n",
    "            print(f\"could not extract file {file}\")"
   ]
  },
  {
   "cell_type": "code",
   "execution_count": 10,
   "metadata": {},
   "outputs": [
    {
     "data": {
      "text/plain": [
       "'20230609_111759_00053_f77bs_0249e9d0-0537-4baa-bab3-78b0c18ce031'"
      ]
     },
     "execution_count": 10,
     "metadata": {},
     "output_type": "execute_result"
    }
   ],
   "source": [
    "fulltext_files[0].strip('\\.gz')"
   ]
  },
  {
   "cell_type": "code",
   "execution_count": 4,
   "metadata": {},
   "outputs": [
    {
     "data": {
      "text/plain": [
       "'20230609_111759_00053_f77bs_0249e9d0-0537-4baa-bab3-78b0c18ce031.gz'"
      ]
     },
     "execution_count": 4,
     "metadata": {},
     "output_type": "execute_result"
    }
   ],
   "source": [
    "os.path.basename(fulltext_files[0])"
   ]
  },
  {
   "cell_type": "code",
   "execution_count": null,
   "metadata": {},
   "outputs": [],
   "source": [
    "for file in fulltext_files:\n",
    "    try: \n",
    "        with zipfile.ZipFile(file, 'r') as zip_ref:\n",
    "            zip_ref.extractall()\n",
    "    except: \n",
    "        print(f\"could not extract: {file}\")"
   ]
  }
 ],
 "metadata": {
  "kernelspec": {
   "display_name": "base",
   "language": "python",
   "name": "python3"
  },
  "language_info": {
   "codemirror_mode": {
    "name": "ipython",
    "version": 3
   },
   "file_extension": ".py",
   "mimetype": "text/x-python",
   "name": "python",
   "nbconvert_exporter": "python",
   "pygments_lexer": "ipython3",
   "version": "3.10.9"
  },
  "orig_nbformat": 4
 },
 "nbformat": 4,
 "nbformat_minor": 2
}
