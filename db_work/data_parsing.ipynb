{
 "cells": [
  {
   "cell_type": "markdown",
   "metadata": {},
   "source": [
    "# Setup"
   ]
  },
  {
   "cell_type": "markdown",
   "metadata": {},
   "source": [
    "## Packages"
   ]
  },
  {
   "cell_type": "code",
   "execution_count": 1,
   "metadata": {},
   "outputs": [],
   "source": [
    "import pandas as pd\n",
    "import numpy as np\n",
    "\n",
    "from tqdm.auto import tqdm\n",
    "import time\n",
    "\n",
    "# for using configuration files like yamls. This is to help key our keys safe\n",
    "import yaml # for configuration files \n",
    "import hydra\n",
    "from omegaconf import DictConfig, OmegaConf\n",
    "\n",
    "import multiprocessing\n",
    "import requests\n",
    "\n",
    "import urllib\n",
    "import os\n",
    "import json\n",
    "\n",
    "\n",
    "# unzip files\n",
    "import gzip\n",
    "import shutil\n",
    "\n",
    "# @hydra.main(config_path=\"../conf\", config_name=\"main\", version_base=None)"
   ]
  },
  {
   "cell_type": "code",
   "execution_count": 4,
   "metadata": {
    "scrolled": true
   },
   "outputs": [],
   "source": [
    "with open(\"../config/main.yaml\", \"r\") as f:\n",
    "    config = yaml.load(f, Loader=yaml.FullLoader)\n",
    "\n",
    "with open(\"../config/keys.yaml\", \"r\") as f:\n",
    "    keys = yaml.load(f, Loader=yaml.FullLoader)\n",
    "\n",
    "root_path = config['paths']['root']\n",
    "mount_path = os.path.join(root_path, \"mount-folder\")\n",
    "working_path = os.path.join(root_path, 'therapeutic_accelerator/db_work')"
   ]
  },
  {
   "cell_type": "code",
   "execution_count": 3,
   "metadata": {},
   "outputs": [],
   "source": [
    "from semanticscholar import SemanticScholar\n",
    "sch = SemanticScholar(api_key=keys['s2_api_key'])"
   ]
  },
  {
   "cell_type": "markdown",
   "metadata": {
    "jp-MarkdownHeadingCollapsed": true
   },
   "source": [
    "## Functions"
   ]
  },
  {
   "cell_type": "code",
   "execution_count": null,
   "metadata": {},
   "outputs": [],
   "source": [
    "# download paper\n",
    "def get_paper(url, file_path): \n",
    "    \"\"\" url to the file and the file_name to download it as \"\"\"\n",
    "    if os.path.isfile(file_path) == False:\n",
    "            try: \n",
    "                urllib.request.urlretrieve(url, file_path)\n",
    "                urllib.request.urlcleanup()\n",
    "            except: \n",
    "                print(f\"Error for {file_path}\")\n",
    "        else: \n",
    "            print(f\"{i}, File Exists\")\n",
    "    \n",
    "\n",
    "def unzip_file(zip_file_path, ext_file_path): \n",
    "    \"\"\" make sure the current working directory is set to where you want the files \"\"\"\n",
    "    if os.path.isfile(ext_file_path) == False:\n",
    "        try: \n",
    "            with gzip.open(zip_file_path, 'rb') as f_in:\n",
    "                with open(ext_file_path, 'wb') as f_out:\n",
    "                    shutil.copyfileobj(f_in, f_out)\n",
    "        except: \n",
    "            print(f\"Was not able to extract file {ext_file_path}\")\n",
    "    else:\n",
    "        print(f\"{i}, File Exists\")"
   ]
  },
  {
   "cell_type": "code",
   "execution_count": null,
   "metadata": {},
   "outputs": [],
   "source": [
    "# Multithreading\n",
    "def download(link, filelocation):\n",
    "    r = requests.get(link, stream=True)\n",
    "    with open(filelocation, 'wb') as f:\n",
    "        for chunk in r.iter_content(1024):\n",
    "            if chunk:\n",
    "                f.write(chunk)\n",
    "\n",
    "def createNewDownloadThread(link, filelocation):\n",
    "    download_thread = threading.Thread(target=download, args=(link,filelocation))\n",
    "    download_thread.start()\n",
    "\n",
    "# for i in range(0,5):\n",
    "#     file = \"C:\\\\test\" + str(i) + \".png\"\n",
    "#     print file\n",
    "#     createNewDownloadThread(\"http://stackoverflow.com/users/flair/2374517.png\", file)"
   ]
  },
  {
   "cell_type": "markdown",
   "metadata": {},
   "source": [
    "## Get Papers and latests releases"
   ]
  },
  {
   "cell_type": "code",
   "execution_count": null,
   "metadata": {},
   "outputs": [],
   "source": [
    "# Get info about the papers dataset\n",
    "papers = requests.get(config['semantic_scholar']['papers'],\n",
    "                      headers={'x-api-key':keys['x-api-key']}).json()"
   ]
  },
  {
   "cell_type": "code",
   "execution_count": null,
   "metadata": {},
   "outputs": [],
   "source": [
    "# Get info about the latest release\n",
    "latest_release = requests.get(config['semantic_scholar']['latest']).json()\n",
    "\n",
    "# Get info about past releases\n",
    "dataset_ids = requests.get(config['semantic_scholar']['release']).json()\n",
    "earliest_release = requests.get(f\"http://api.semanticscholar.org/datasets/v1/release/{dataset_ids[0]}\").json()"
   ]
  },
  {
   "cell_type": "markdown",
   "metadata": {
    "jp-MarkdownHeadingCollapsed": true
   },
   "source": [
    "## Download Files\n",
    "Create the file paths for the zipped and extracted"
   ]
  },
  {
   "cell_type": "code",
   "execution_count": null,
   "metadata": {},
   "outputs": [],
   "source": [
    "download_flag = False\n",
    "extract_flag = False"
   ]
  },
  {
   "cell_type": "code",
   "execution_count": null,
   "metadata": {},
   "outputs": [],
   "source": [
    "# create base file names\n",
    "file_names = [f\"papers-part{n}.jsonl.gz\" for n in range(len(papers['files']))]\n",
    "\n",
    "# create zipped file paths\n",
    "paper_zip = [os.path.join(mount_path, \"zipped\", f) for f in file_names]\n",
    "\n",
    "# create extracted file paths\n",
    "paper_fn = [os.path.join(mount_path, \"extracted\", f.strip(\"\\.gz\")) for f in file_names]"
   ]
  },
  {
   "cell_type": "code",
   "execution_count": null,
   "metadata": {
    "scrolled": true
   },
   "outputs": [],
   "source": [
    "# Takes ~30 minutes\n",
    "if download_flag == True: \n",
    "    with multiprocessing.Pool() as pool:\n",
    "        pool.starmap(unzip_file, zip(papers['files'], paper_zip), chunksize=10)\n",
    "    # downloads the files directly into the google cloud bucket\n",
    "    for i, (url, file_path) in tqdm(enumerate(zip(papers['files'], paper_zip))): \n",
    "        if os.path.isfile(file_path) == False:\n",
    "            try: \n",
    "                get_paper(url, file_path)\n",
    "            except: \n",
    "                print(f\"Error for {file_path}\")\n",
    "        else: \n",
    "            print(f\"{i}, File Exists\")"
   ]
  },
  {
   "cell_type": "code",
   "execution_count": null,
   "metadata": {
    "scrolled": true
   },
   "outputs": [],
   "source": [
    "## Multiprocessing to extract multiple files at once\n",
    "# Takes ~FOREVER minutes\n",
    "if extract_flag == True: \n",
    "    with multiprocessing.Pool() as pool:\n",
    "        pool.starmap(unzip_file, zip(paper_zip, paper_fn), chunksize=3)"
   ]
  },
  {
   "cell_type": "code",
   "execution_count": null,
   "metadata": {},
   "outputs": [],
   "source": [
    "# Takes ~ FOREVER mins\n",
    "if extract_flag == True: \n",
    "    for tqdm(file_path) in paper_zip:\n",
    "        if os.path.isfile(file_path) == False:\n",
    "            unzip_file(file_path)\n",
    "        else: \n",
    "            print(f\"{i}, File Exists\")"
   ]
  },
  {
   "cell_type": "markdown",
   "metadata": {},
   "source": [
    "## Parse JSON file to upload into database"
   ]
  },
  {
   "cell_type": "code",
   "execution_count": 5,
   "metadata": {},
   "outputs": [
    {
     "data": {
      "text/plain": [
       "['/home/nick_lee_berkeley_edu/mount-folder/extracted/papers-part0.jsonl',\n",
       " '/home/nick_lee_berkeley_edu/mount-folder/extracted/papers-part1.jsonl',\n",
       " '/home/nick_lee_berkeley_edu/mount-folder/extracted/papers-part10.jsonl',\n",
       " '/home/nick_lee_berkeley_edu/mount-folder/extracted/papers-part11.jsonl',\n",
       " '/home/nick_lee_berkeley_edu/mount-folder/extracted/papers-part12.jsonl',\n",
       " '/home/nick_lee_berkeley_edu/mount-folder/extracted/papers-part2.jsonl',\n",
       " '/home/nick_lee_berkeley_edu/mount-folder/extracted/papers-part20.jsonl',\n",
       " '/home/nick_lee_berkeley_edu/mount-folder/extracted/papers-part21.jsonl',\n",
       " '/home/nick_lee_berkeley_edu/mount-folder/extracted/papers-part22.jsonl',\n",
       " '/home/nick_lee_berkeley_edu/mount-folder/extracted/papers-part3.jsonl',\n",
       " '/home/nick_lee_berkeley_edu/mount-folder/extracted/papers-part4.jsonl',\n",
       " '/home/nick_lee_berkeley_edu/mount-folder/extracted/papers-part5.jsonl',\n",
       " '/home/nick_lee_berkeley_edu/mount-folder/extracted/papers-part6.jsonl',\n",
       " '/home/nick_lee_berkeley_edu/mount-folder/extracted/papers-part7.jsonl']"
      ]
     },
     "execution_count": 5,
     "metadata": {},
     "output_type": "execute_result"
    }
   ],
   "source": [
    "import glob\n",
    "attribute_files = glob.glob(\"\".join([mount_path, '/extracted/*?.jsonl']))\n",
    "attribute_files"
   ]
  },
  {
   "cell_type": "code",
   "execution_count": 23,
   "metadata": {
    "scrolled": true
   },
   "outputs": [],
   "source": [
    "def json_to_df(j): \n",
    "    \"\"\" Create dataframe to upload into database \"\"\"\n",
    "    return pd.DataFrame([json.loads(j)])"
   ]
  },
  {
   "cell_type": "markdown",
   "metadata": {},
   "source": [
    "## Upload Data to Postgres DB"
   ]
  },
  {
   "cell_type": "markdown",
   "metadata": {},
   "source": [
    "### Create connection to database"
   ]
  },
  {
   "cell_type": "code",
   "execution_count": 10,
   "metadata": {},
   "outputs": [
    {
     "data": {
      "text/plain": [
       "Engine(postgresql+pg8000://)"
      ]
     },
     "execution_count": 10,
     "metadata": {},
     "output_type": "execute_result"
    }
   ],
   "source": [
    "# create connection and add \"pool\" object to environment. Used for connecting to DB\n",
    "exec(open(os.path.join(working_path, 'sql_db_connection.py')).read())\n",
    "pool"
   ]
  },
  {
   "cell_type": "code",
   "execution_count": null,
   "metadata": {},
   "outputs": [],
   "source": [
    "meta = MetaData()\n",
    "\n",
    "articles = Table(\n",
    "    'article_attributes', meta,\n",
    "    Column('corpusid', Integer, primary_key = True),\n",
    "    Column('externalids', String),\n",
    "    Column('url', String),\n",
    "    Column('title', Integer),\n",
    "    Column('authors', ARRAY(JSONB)),\n",
    "    Column('venue', String),\n",
    "    Column('publicationvenueid', Integer),\n",
    "    Column('year', String),\n",
    "    Column('referencecount', Integer),\n",
    "    Column('citationcount', Integer),\n",
    "    Column('influentialcitationcount', Integer),\n",
    "    Column('isopenaccess', Boolean),\n",
    "    Column('s2fieldsofstudy', ARRAY(JSONB)),\n",
    "    Column('publicationtypes', Integer),\n",
    "    Column('publicationdate', Integer),\n",
    "    Column('journal', JSONB),\n",
    "    Column('updated', String)    \n",
    ")\n",
    "\n",
    "# create table in database\n",
    "meta.create_all(pool)"
   ]
  },
  {
   "cell_type": "code",
   "execution_count": 7,
   "metadata": {
    "scrolled": true
   },
   "outputs": [],
   "source": [
    "def df_to_db(df): \n",
    "    with pool.connect() as db_conn:\n",
    "        df.to_sql('article_attributes', con = db_conn, if_exists='append', index = False)"
   ]
  },
  {
   "cell_type": "code",
   "execution_count": 1,
   "metadata": {},
   "outputs": [],
   "source": [
    "import orjson # for faster reading of json\n",
    "import jsonlines # for opening jsonl files"
   ]
  },
  {
   "cell_type": "code",
   "execution_count": 9,
   "metadata": {},
   "outputs": [],
   "source": [
    "def preprocess_df(df): \n",
    "    df.year = df.year.astype(\"Int64\")\n",
    "    return df"
   ]
  },
  {
   "cell_type": "code",
   "execution_count": null,
   "metadata": {},
   "outputs": [],
   "source": [
    "for jl in tqdm(attribute_files): \n",
    "    with jsonlines.open(jl) as f:\n",
    "        for line in tqdm(f.iter()): \n",
    "            df_to_db(preprocess_df(pd.DataFrame([line]))) # reads json, converts to dataframe, preprocess functions and appends results to database"
   ]
  },
  {
   "cell_type": "code",
   "execution_count": 11,
   "metadata": {},
   "outputs": [],
   "source": [
    "# test connection \n",
    "# connect to connection pool\n",
    "with pool.connect() as db_conn:\n",
    "    # create ratings table in our sandwiches database\n",
    "    results = db_conn.execute(sqlalchemy.text(\"SELECT * FROM article_attributes LIMIT 10\")).fetchall()\n",
    "    \n",
    "    # # show results\n",
    "    # for row in results:\n",
    "    #     print(row)"
   ]
  },
  {
   "cell_type": "code",
   "execution_count": 13,
   "metadata": {},
   "outputs": [
    {
     "data": {
      "text/html": [
       "<div>\n",
       "<style scoped>\n",
       "    .dataframe tbody tr th:only-of-type {\n",
       "        vertical-align: middle;\n",
       "    }\n",
       "\n",
       "    .dataframe tbody tr th {\n",
       "        vertical-align: top;\n",
       "    }\n",
       "\n",
       "    .dataframe thead th {\n",
       "        text-align: right;\n",
       "    }\n",
       "</style>\n",
       "<table border=\"1\" class=\"dataframe\">\n",
       "  <thead>\n",
       "    <tr style=\"text-align: right;\">\n",
       "      <th></th>\n",
       "      <th>corpusid</th>\n",
       "      <th>externalids</th>\n",
       "      <th>url</th>\n",
       "      <th>title</th>\n",
       "      <th>authors</th>\n",
       "      <th>venue</th>\n",
       "      <th>publicationvenueid</th>\n",
       "      <th>year</th>\n",
       "      <th>referencecount</th>\n",
       "      <th>citationcount</th>\n",
       "      <th>influentialcitationcount</th>\n",
       "      <th>isopenaccess</th>\n",
       "      <th>s2fieldsofstudy</th>\n",
       "      <th>publicationtypes</th>\n",
       "      <th>publicationdate</th>\n",
       "      <th>journal</th>\n",
       "      <th>updated</th>\n",
       "    </tr>\n",
       "  </thead>\n",
       "  <tbody>\n",
       "    <tr>\n",
       "      <th>0</th>\n",
       "      <td>208034569</td>\n",
       "      <td>{\"ACL\": null, \"DBLP\": \"conf/igarss/Zakharova19...</td>\n",
       "      <td>https://www.semanticscholar.org/paper/bd4f0fb0...</td>\n",
       "      <td>Changes of Scattering Mechanisms in Boreal For...</td>\n",
       "      <td>{\"{\\\"authorId\\\": \\\"144748888\\\", \\\"name\\\": \\\"L....</td>\n",
       "      <td>IEEE International Geoscience and Remote Sensi...</td>\n",
       "      <td>a47b9394-c5c7-4bc8-b8fc-b08f96954278</td>\n",
       "      <td>2019</td>\n",
       "      <td>9</td>\n",
       "      <td>0</td>\n",
       "      <td>0</td>\n",
       "      <td>False</td>\n",
       "      <td>{\"{\\\"category\\\": \\\"Environmental Science\\\", \\\"...</td>\n",
       "      <td>{JournalArticle}</td>\n",
       "      <td>2019-07-01</td>\n",
       "      <td>{\"name\": \"IGARSS 2019 - 2019 IEEE Internationa...</td>\n",
       "      <td>2023-01-21T03:56:34.542Z</td>\n",
       "    </tr>\n",
       "    <tr>\n",
       "      <th>1</th>\n",
       "      <td>30128537</td>\n",
       "      <td>{\"ACL\": null, \"DBLP\": null, \"ArXiv\": null, \"MA...</td>\n",
       "      <td>https://www.semanticscholar.org/paper/55bd2815...</td>\n",
       "      <td>Dermacase. Milia.</td>\n",
       "      <td>{\"{\\\"authorId\\\": \\\"2070509491\\\", \\\"name\\\": \\\"T...</td>\n",
       "      <td>Canadian family physician Medecin de famille c...</td>\n",
       "      <td>None</td>\n",
       "      <td>1998</td>\n",
       "      <td>0</td>\n",
       "      <td>0</td>\n",
       "      <td>0</td>\n",
       "      <td>False</td>\n",
       "      <td>None</td>\n",
       "      <td>{JournalArticle,CaseReport}</td>\n",
       "      <td>None</td>\n",
       "      <td>{\"name\": \"Canadian family physician Medecin de...</td>\n",
       "      <td>2023-01-21T03:56:31.171Z</td>\n",
       "    </tr>\n",
       "    <tr>\n",
       "      <th>2</th>\n",
       "      <td>245268758</td>\n",
       "      <td>{\"ACL\": null, \"DBLP\": null, \"ArXiv\": null, \"MA...</td>\n",
       "      <td>https://www.semanticscholar.org/paper/e0548825...</td>\n",
       "      <td>The Rights of the Elderly</td>\n",
       "      <td>{\"{\\\"authorId\\\": \\\"2145489026\\\", \\\"name\\\": \\\"H...</td>\n",
       "      <td>China’s Path of Human Rights Development</td>\n",
       "      <td>None</td>\n",
       "      <td>2021</td>\n",
       "      <td>0</td>\n",
       "      <td>0</td>\n",
       "      <td>0</td>\n",
       "      <td>False</td>\n",
       "      <td>None</td>\n",
       "      <td>None</td>\n",
       "      <td>2021-08-05</td>\n",
       "      <td>{\"name\": \"China\\u2019s Path of Human Rights De...</td>\n",
       "      <td>2023-01-21T03:56:33.199Z</td>\n",
       "    </tr>\n",
       "    <tr>\n",
       "      <th>3</th>\n",
       "      <td>34122848</td>\n",
       "      <td>{\"ACL\": null, \"DBLP\": null, \"ArXiv\": null, \"MA...</td>\n",
       "      <td>https://www.semanticscholar.org/paper/6a47d6ea...</td>\n",
       "      <td>[Efficacy of human milk].</td>\n",
       "      <td>{\"{\\\"authorId\\\": \\\"2115070676\\\", \\\"name\\\": \\\"E...</td>\n",
       "      <td>Münchener medizinische Wochenschrift</td>\n",
       "      <td>25310608-131d-49b5-93f8-7e0174df9c1b</td>\n",
       "      <td>1950</td>\n",
       "      <td>0</td>\n",
       "      <td>0</td>\n",
       "      <td>0</td>\n",
       "      <td>False</td>\n",
       "      <td>None</td>\n",
       "      <td>{JournalArticle}</td>\n",
       "      <td>1950-06-23</td>\n",
       "      <td>{\"name\": \"Munchener medizinische Wochenschrift...</td>\n",
       "      <td>2023-01-21T03:56:33.201Z</td>\n",
       "    </tr>\n",
       "    <tr>\n",
       "      <th>4</th>\n",
       "      <td>29204384</td>\n",
       "      <td>{\"ACL\": null, \"DBLP\": null, \"ArXiv\": null, \"MA...</td>\n",
       "      <td>https://www.semanticscholar.org/paper/83ec4fdf...</td>\n",
       "      <td>[COMPARATIVE CLINICAL EVALUATION OF VARIOUS AN...</td>\n",
       "      <td>{\"{\\\"authorId\\\": \\\"102877137\\\", \\\"name\\\": \\\"N....</td>\n",
       "      <td>Vestnik otorinolaringologii</td>\n",
       "      <td>ab42ceb6-7f06-468e-82cf-72fedf491358</td>\n",
       "      <td>1965</td>\n",
       "      <td>0</td>\n",
       "      <td>0</td>\n",
       "      <td>0</td>\n",
       "      <td>False</td>\n",
       "      <td>{\"{\\\"category\\\": \\\"Medicine\\\", \\\"source\\\": \\\"s...</td>\n",
       "      <td>{JournalArticle}</td>\n",
       "      <td>None</td>\n",
       "      <td>{\"name\": \"Vestnik otorinolaringologii\", \"pages...</td>\n",
       "      <td>2023-01-21T03:57:18.513Z</td>\n",
       "    </tr>\n",
       "    <tr>\n",
       "      <th>5</th>\n",
       "      <td>9562</td>\n",
       "      <td>{\"ACL\": null, \"DBLP\": null, \"ArXiv\": null, \"MA...</td>\n",
       "      <td>https://www.semanticscholar.org/paper/1e1ca5b5...</td>\n",
       "      <td>[Changes in the myocardium following multiple ...</td>\n",
       "      <td>{\"{\\\"authorId\\\": \\\"13058405\\\", \\\"name\\\": \\\"V. ...</td>\n",
       "      <td>Kardiologiia</td>\n",
       "      <td>2033ee0d-05f4-4055-b85d-ea080e0b37e6</td>\n",
       "      <td>1968</td>\n",
       "      <td>0</td>\n",
       "      <td>0</td>\n",
       "      <td>0</td>\n",
       "      <td>False</td>\n",
       "      <td>{\"{\\\"category\\\": \\\"Medicine\\\", \\\"source\\\": \\\"s...</td>\n",
       "      <td>{JournalArticle}</td>\n",
       "      <td>None</td>\n",
       "      <td>{\"name\": \"Kardiologiia\", \"pages\": \"\\n         ...</td>\n",
       "      <td>2023-01-21T03:57:19.030Z</td>\n",
       "    </tr>\n",
       "    <tr>\n",
       "      <th>6</th>\n",
       "      <td>109830986</td>\n",
       "      <td>{\"ACL\": null, \"DBLP\": null, \"ArXiv\": null, \"MA...</td>\n",
       "      <td>https://www.semanticscholar.org/paper/8e2e6a69...</td>\n",
       "      <td>Capacitance Voltage Characteristics Of Stearic...</td>\n",
       "      <td>{\"{\\\"authorId\\\": \\\"2068848556\\\", \\\"name\\\": \\\"S...</td>\n",
       "      <td>1991 Annual Report. Conference on Electrical I...</td>\n",
       "      <td>None</td>\n",
       "      <td>1991</td>\n",
       "      <td>8</td>\n",
       "      <td>0</td>\n",
       "      <td>0</td>\n",
       "      <td>False</td>\n",
       "      <td>{\"{\\\"category\\\": \\\"Physics\\\", \\\"source\\\": \\\"s2...</td>\n",
       "      <td>{Conference}</td>\n",
       "      <td>1991-10-20</td>\n",
       "      <td>{\"name\": \"1991 Annual Report. Conference on El...</td>\n",
       "      <td>2023-01-21T03:57:19.048Z</td>\n",
       "    </tr>\n",
       "    <tr>\n",
       "      <th>7</th>\n",
       "      <td>238781607</td>\n",
       "      <td>{\"ACL\": null, \"DBLP\": null, \"ArXiv\": null, \"MA...</td>\n",
       "      <td>https://www.semanticscholar.org/paper/69cbf6dd...</td>\n",
       "      <td>O perfil do profissional fisioterapeuta atuant...</td>\n",
       "      <td>{\"{\\\"authorId\\\": \\\"74717662\\\", \\\"name\\\": \\\"Jos...</td>\n",
       "      <td>Research, Society and Development</td>\n",
       "      <td>9a981482-f104-474d-8fcd-f5d55cf4aace</td>\n",
       "      <td>2021</td>\n",
       "      <td>16</td>\n",
       "      <td>1</td>\n",
       "      <td>0</td>\n",
       "      <td>False</td>\n",
       "      <td>None</td>\n",
       "      <td>None</td>\n",
       "      <td>2021-08-02</td>\n",
       "      <td>{\"name\": \"Research, Society and Development\", ...</td>\n",
       "      <td>2023-01-21T03:57:19.106Z</td>\n",
       "    </tr>\n",
       "    <tr>\n",
       "      <th>8</th>\n",
       "      <td>226239949</td>\n",
       "      <td>{\"ACL\": null, \"DBLP\": null, \"ArXiv\": null, \"MA...</td>\n",
       "      <td>https://www.semanticscholar.org/paper/104e74b9...</td>\n",
       "      <td>Letter to the editor following “Gastroesophage...</td>\n",
       "      <td>{\"{\\\"authorId\\\": \\\"14041115\\\", \\\"name\\\": \\\"A. ...</td>\n",
       "      <td>Obesity Surgery</td>\n",
       "      <td>40bf9142-00ba-45cf-b914-6575c40bb357</td>\n",
       "      <td>2020</td>\n",
       "      <td>7</td>\n",
       "      <td>0</td>\n",
       "      <td>0</td>\n",
       "      <td>False</td>\n",
       "      <td>{\"{\\\"category\\\": \\\"Medicine\\\", \\\"source\\\": \\\"s...</td>\n",
       "      <td>{LettersAndComments,Review}</td>\n",
       "      <td>2020-11-03</td>\n",
       "      <td>{\"name\": \"Obesity Surgery\", \"pages\": \"1846 - 1...</td>\n",
       "      <td>2023-01-21T03:57:19.642Z</td>\n",
       "    </tr>\n",
       "    <tr>\n",
       "      <th>9</th>\n",
       "      <td>245947163</td>\n",
       "      <td>{\"ACL\": null, \"DBLP\": null, \"ArXiv\": null, \"MA...</td>\n",
       "      <td>https://www.semanticscholar.org/paper/d791f96a...</td>\n",
       "      <td>Verbal Representation of Emotions in Komi Comm...</td>\n",
       "      <td>{\"{\\\"authorId\\\": \\\"120660117\\\", \\\"name\\\": \\\"N....</td>\n",
       "      <td>Human. Culture. Education</td>\n",
       "      <td>9d5b8a82-7d39-415e-84ed-5db8e10251ea</td>\n",
       "      <td>2021</td>\n",
       "      <td>0</td>\n",
       "      <td>0</td>\n",
       "      <td>0</td>\n",
       "      <td>False</td>\n",
       "      <td>None</td>\n",
       "      <td>None</td>\n",
       "      <td>None</td>\n",
       "      <td>{\"name\": \"Human Culture Education\", \"pages\": n...</td>\n",
       "      <td>2023-01-21T03:56:34.498Z</td>\n",
       "    </tr>\n",
       "  </tbody>\n",
       "</table>\n",
       "</div>"
      ],
      "text/plain": [
       "    corpusid                                        externalids  \\\n",
       "0  208034569  {\"ACL\": null, \"DBLP\": \"conf/igarss/Zakharova19...   \n",
       "1   30128537  {\"ACL\": null, \"DBLP\": null, \"ArXiv\": null, \"MA...   \n",
       "2  245268758  {\"ACL\": null, \"DBLP\": null, \"ArXiv\": null, \"MA...   \n",
       "3   34122848  {\"ACL\": null, \"DBLP\": null, \"ArXiv\": null, \"MA...   \n",
       "4   29204384  {\"ACL\": null, \"DBLP\": null, \"ArXiv\": null, \"MA...   \n",
       "5       9562  {\"ACL\": null, \"DBLP\": null, \"ArXiv\": null, \"MA...   \n",
       "6  109830986  {\"ACL\": null, \"DBLP\": null, \"ArXiv\": null, \"MA...   \n",
       "7  238781607  {\"ACL\": null, \"DBLP\": null, \"ArXiv\": null, \"MA...   \n",
       "8  226239949  {\"ACL\": null, \"DBLP\": null, \"ArXiv\": null, \"MA...   \n",
       "9  245947163  {\"ACL\": null, \"DBLP\": null, \"ArXiv\": null, \"MA...   \n",
       "\n",
       "                                                 url  \\\n",
       "0  https://www.semanticscholar.org/paper/bd4f0fb0...   \n",
       "1  https://www.semanticscholar.org/paper/55bd2815...   \n",
       "2  https://www.semanticscholar.org/paper/e0548825...   \n",
       "3  https://www.semanticscholar.org/paper/6a47d6ea...   \n",
       "4  https://www.semanticscholar.org/paper/83ec4fdf...   \n",
       "5  https://www.semanticscholar.org/paper/1e1ca5b5...   \n",
       "6  https://www.semanticscholar.org/paper/8e2e6a69...   \n",
       "7  https://www.semanticscholar.org/paper/69cbf6dd...   \n",
       "8  https://www.semanticscholar.org/paper/104e74b9...   \n",
       "9  https://www.semanticscholar.org/paper/d791f96a...   \n",
       "\n",
       "                                               title  \\\n",
       "0  Changes of Scattering Mechanisms in Boreal For...   \n",
       "1                                  Dermacase. Milia.   \n",
       "2                          The Rights of the Elderly   \n",
       "3                          [Efficacy of human milk].   \n",
       "4  [COMPARATIVE CLINICAL EVALUATION OF VARIOUS AN...   \n",
       "5  [Changes in the myocardium following multiple ...   \n",
       "6  Capacitance Voltage Characteristics Of Stearic...   \n",
       "7  O perfil do profissional fisioterapeuta atuant...   \n",
       "8  Letter to the editor following “Gastroesophage...   \n",
       "9  Verbal Representation of Emotions in Komi Comm...   \n",
       "\n",
       "                                             authors  \\\n",
       "0  {\"{\\\"authorId\\\": \\\"144748888\\\", \\\"name\\\": \\\"L....   \n",
       "1  {\"{\\\"authorId\\\": \\\"2070509491\\\", \\\"name\\\": \\\"T...   \n",
       "2  {\"{\\\"authorId\\\": \\\"2145489026\\\", \\\"name\\\": \\\"H...   \n",
       "3  {\"{\\\"authorId\\\": \\\"2115070676\\\", \\\"name\\\": \\\"E...   \n",
       "4  {\"{\\\"authorId\\\": \\\"102877137\\\", \\\"name\\\": \\\"N....   \n",
       "5  {\"{\\\"authorId\\\": \\\"13058405\\\", \\\"name\\\": \\\"V. ...   \n",
       "6  {\"{\\\"authorId\\\": \\\"2068848556\\\", \\\"name\\\": \\\"S...   \n",
       "7  {\"{\\\"authorId\\\": \\\"74717662\\\", \\\"name\\\": \\\"Jos...   \n",
       "8  {\"{\\\"authorId\\\": \\\"14041115\\\", \\\"name\\\": \\\"A. ...   \n",
       "9  {\"{\\\"authorId\\\": \\\"120660117\\\", \\\"name\\\": \\\"N....   \n",
       "\n",
       "                                               venue  \\\n",
       "0  IEEE International Geoscience and Remote Sensi...   \n",
       "1  Canadian family physician Medecin de famille c...   \n",
       "2           China’s Path of Human Rights Development   \n",
       "3              Münchener medizinische Wochenschrift   \n",
       "4                        Vestnik otorinolaringologii   \n",
       "5                                       Kardiologiia   \n",
       "6  1991 Annual Report. Conference on Electrical I...   \n",
       "7                  Research, Society and Development   \n",
       "8                                    Obesity Surgery   \n",
       "9                          Human. Culture. Education   \n",
       "\n",
       "                     publicationvenueid  year  referencecount  citationcount  \\\n",
       "0  a47b9394-c5c7-4bc8-b8fc-b08f96954278  2019               9              0   \n",
       "1                                  None  1998               0              0   \n",
       "2                                  None  2021               0              0   \n",
       "3  25310608-131d-49b5-93f8-7e0174df9c1b  1950               0              0   \n",
       "4  ab42ceb6-7f06-468e-82cf-72fedf491358  1965               0              0   \n",
       "5  2033ee0d-05f4-4055-b85d-ea080e0b37e6  1968               0              0   \n",
       "6                                  None  1991               8              0   \n",
       "7  9a981482-f104-474d-8fcd-f5d55cf4aace  2021              16              1   \n",
       "8  40bf9142-00ba-45cf-b914-6575c40bb357  2020               7              0   \n",
       "9  9d5b8a82-7d39-415e-84ed-5db8e10251ea  2021               0              0   \n",
       "\n",
       "   influentialcitationcount  isopenaccess  \\\n",
       "0                         0         False   \n",
       "1                         0         False   \n",
       "2                         0         False   \n",
       "3                         0         False   \n",
       "4                         0         False   \n",
       "5                         0         False   \n",
       "6                         0         False   \n",
       "7                         0         False   \n",
       "8                         0         False   \n",
       "9                         0         False   \n",
       "\n",
       "                                     s2fieldsofstudy  \\\n",
       "0  {\"{\\\"category\\\": \\\"Environmental Science\\\", \\\"...   \n",
       "1                                               None   \n",
       "2                                               None   \n",
       "3                                               None   \n",
       "4  {\"{\\\"category\\\": \\\"Medicine\\\", \\\"source\\\": \\\"s...   \n",
       "5  {\"{\\\"category\\\": \\\"Medicine\\\", \\\"source\\\": \\\"s...   \n",
       "6  {\"{\\\"category\\\": \\\"Physics\\\", \\\"source\\\": \\\"s2...   \n",
       "7                                               None   \n",
       "8  {\"{\\\"category\\\": \\\"Medicine\\\", \\\"source\\\": \\\"s...   \n",
       "9                                               None   \n",
       "\n",
       "              publicationtypes publicationdate  \\\n",
       "0             {JournalArticle}      2019-07-01   \n",
       "1  {JournalArticle,CaseReport}            None   \n",
       "2                         None      2021-08-05   \n",
       "3             {JournalArticle}      1950-06-23   \n",
       "4             {JournalArticle}            None   \n",
       "5             {JournalArticle}            None   \n",
       "6                 {Conference}      1991-10-20   \n",
       "7                         None      2021-08-02   \n",
       "8  {LettersAndComments,Review}      2020-11-03   \n",
       "9                         None            None   \n",
       "\n",
       "                                             journal                   updated  \n",
       "0  {\"name\": \"IGARSS 2019 - 2019 IEEE Internationa...  2023-01-21T03:56:34.542Z  \n",
       "1  {\"name\": \"Canadian family physician Medecin de...  2023-01-21T03:56:31.171Z  \n",
       "2  {\"name\": \"China\\u2019s Path of Human Rights De...  2023-01-21T03:56:33.199Z  \n",
       "3  {\"name\": \"Munchener medizinische Wochenschrift...  2023-01-21T03:56:33.201Z  \n",
       "4  {\"name\": \"Vestnik otorinolaringologii\", \"pages...  2023-01-21T03:57:18.513Z  \n",
       "5  {\"name\": \"Kardiologiia\", \"pages\": \"\\n         ...  2023-01-21T03:57:19.030Z  \n",
       "6  {\"name\": \"1991 Annual Report. Conference on El...  2023-01-21T03:57:19.048Z  \n",
       "7  {\"name\": \"Research, Society and Development\", ...  2023-01-21T03:57:19.106Z  \n",
       "8  {\"name\": \"Obesity Surgery\", \"pages\": \"1846 - 1...  2023-01-21T03:57:19.642Z  \n",
       "9  {\"name\": \"Human Culture Education\", \"pages\": n...  2023-01-21T03:56:34.498Z  "
      ]
     },
     "execution_count": 13,
     "metadata": {},
     "output_type": "execute_result"
    }
   ],
   "source": [
    "pd.DataFrame(results)"
   ]
  },
  {
   "cell_type": "code",
   "execution_count": null,
   "metadata": {},
   "outputs": [],
   "source": [
    "import os\n",
    "import json\n",
    "from zipfile import ZipFile\n",
    "\n",
    "import pandas as pd\n",
    "import numpy as np"
   ]
  },
  {
   "cell_type": "code",
   "execution_count": null,
   "metadata": {},
   "outputs": [],
   "source": []
  },
  {
   "cell_type": "code",
   "execution_count": null,
   "metadata": {},
   "outputs": [],
   "source": [
    "z_files = []\n",
    "for root, dirs, files in os.walk(mount_path, topdown=False):\n",
    "    for name in files:\n",
    "        z_files.append(os.path.join(root, name))"
   ]
  },
  {
   "cell_type": "code",
   "execution_count": null,
   "metadata": {},
   "outputs": [],
   "source": [
    "import gzip\n",
    "import shutil\n",
    "with gzip.open(z_files[0], 'rb') as f:\n",
    "    file_content = f.read()"
   ]
  },
  {
   "cell_type": "code",
   "execution_count": null,
   "metadata": {},
   "outputs": [],
   "source": [
    "# get embeddings\n",
    "from typing import Dict, List\n",
    "import json\n",
    "\n",
    "import requests\n",
    "\n",
    "\n",
    "URL = \"https://model-apis.semanticscholar.org/specter/v1/invoke\"\n",
    "MAX_BATCH_SIZE = 16\n",
    "\n",
    "def chunks(lst, chunk_size=MAX_BATCH_SIZE):\n",
    "    \"\"\"Splits a longer list to respect batch size\"\"\"\n",
    "    for i in range(0, len(lst), chunk_size):\n",
    "        yield lst[i : i + chunk_size]\n",
    "\n",
    "\n",
    "SAMPLE_PAPERS = [\n",
    "    {\n",
    "        \"paper_id\": \"A\",\n",
    "        \"title\": \"Angiotensin-converting enzyme 2 is a functional receptor for the SARS coronavirus\",\n",
    "        \"abstract\": \"Spike (S) proteins of coronaviruses ...\",\n",
    "    },\n",
    "    {\n",
    "        \"paper_id\": \"B\",\n",
    "        \"title\": \"Hospital outbreak of Middle East respiratory syndrome coronavirus\",\n",
    "        \"abstract\": \"Between April 1 and May 23, 2013, a total of 23 cases of MERS-CoV ...\",\n",
    "    },\n",
    "]\n",
    "\n",
    "\n",
    "def embed(papers):\n",
    "    embeddings_by_paper_id: Dict[str, List[float]] = {}\n",
    "\n",
    "    for chunk in chunks(papers):\n",
    "        # Allow Python requests to convert the data above to JSON\n",
    "        response = requests.post(URL, json=chunk)\n",
    "\n",
    "        if response.status_code != 200:\n",
    "            raise RuntimeError(\"Sorry, something went wrong, please try later!\")\n",
    "\n",
    "        for paper in response.json()[\"preds\"]:\n",
    "            embeddings_by_paper_id[paper[\"paper_id\"]] = paper[\"embedding\"]\n",
    "\n",
    "    return embeddings_by_paper_id\n",
    "\n",
    "if __name__ == \"__main__\":\n",
    "    all_embeddings = embed(SAMPLE_PAPERS)\n",
    "\n",
    "    # Prints { 'A': [4.089589595794678, ...], 'B': [-0.15814849734306335, ...] }\n",
    "    print(all_embeddings)"
   ]
  }
 ],
 "metadata": {
  "kernelspec": {
   "display_name": "base",
   "language": "python",
   "name": "base"
  },
  "language_info": {
   "codemirror_mode": {
    "name": "ipython",
    "version": 3
   },
   "file_extension": ".py",
   "mimetype": "text/x-python",
   "name": "python",
   "nbconvert_exporter": "python",
   "pygments_lexer": "ipython3",
   "version": "3.10.9"
  }
 },
 "nbformat": 4,
 "nbformat_minor": 4
}
