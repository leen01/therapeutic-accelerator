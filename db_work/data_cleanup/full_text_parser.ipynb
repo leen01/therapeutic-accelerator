{
 "cells": [
  {
   "cell_type": "code",
   "execution_count": 1,
   "metadata": {},
   "outputs": [
    {
     "ename": "ModuleNotFoundError",
     "evalue": "No module named 'jsonlines'",
     "output_type": "error",
     "traceback": [
      "\u001b[0;31m---------------------------------------------------------------------------\u001b[0m",
      "\u001b[0;31mModuleNotFoundError\u001b[0m                       Traceback (most recent call last)",
      "Cell \u001b[0;32mIn[1], line 4\u001b[0m\n\u001b[1;32m      2\u001b[0m \u001b[39mimport\u001b[39;00m \u001b[39mos\u001b[39;00m\n\u001b[1;32m      3\u001b[0m \u001b[39mimport\u001b[39;00m \u001b[39mjson\u001b[39;00m\n\u001b[0;32m----> 4\u001b[0m \u001b[39mimport\u001b[39;00m \u001b[39mjsonlines\u001b[39;00m\n\u001b[1;32m      5\u001b[0m \u001b[39mfrom\u001b[39;00m \u001b[39mtqdm\u001b[39;00m \u001b[39mimport\u001b[39;00m tqdm\n\u001b[1;32m      6\u001b[0m \u001b[39mimport\u001b[39;00m \u001b[39mglob\u001b[39;00m\n",
      "\u001b[0;31mModuleNotFoundError\u001b[0m: No module named 'jsonlines'"
     ]
    }
   ],
   "source": [
    "import pandas as pd\n",
    "import os\n",
    "import json\n",
    "import jsonlines\n",
    "from tqdm import tqdm\n",
    "import glob\n",
    "import yaml\n",
    "from sqlalchemy import create_engine\n",
    "from sqlalchemy.sql import text\n",
    "\n",
    "with open(\"/home/ubuntu/work/therapeutic_accelerator/config/main.yaml\", \"r\") as f:\n",
    "    config = yaml.load(f, Loader=yaml.FullLoader)\n",
    "    \n",
    "with open(\"../config/keys.yaml\", \"r\") as f:\n",
    "    keys = yaml.load(f, Loader=yaml.FullLoader)\n",
    "    \n",
    "bucket_path = os.path.join(config['paths']['root'], config['paths']['mount'])"
   ]
  },
  {
   "cell_type": "code",
   "execution_count": 2,
   "metadata": {},
   "outputs": [
    {
     "name": "stderr",
     "output_type": "stream",
     "text": [
      "0it [00:00, ?it/s]"
     ]
    },
    {
     "name": "stderr",
     "output_type": "stream",
     "text": [
      "5it [00:00,  7.50it/s]\n"
     ]
    }
   ],
   "source": [
    "temp_df = pd.DataFrame()\n",
    "\n",
    "file = \"/home/ubuntu/work/bucket/fulltext-zipped/20230609_111759_00053_f77bs_0b8065d5-00f3-4eb0-8919-b403872088a4\"\n",
    "\n",
    "with jsonlines.open(file, \"r\") as reader: \n",
    "    count = 0\n",
    "    for line in tqdm(reader.iter(skip_invalid=True)): \n",
    "        if count >= 5: \n",
    "            break\n",
    "        else: \n",
    "            temp_df = pd.concat([temp_df,pd.DataFrame([line])]) # reads json, converts to dataframe, preprocess functions and appends results to database\n",
    "            count += 1\n",
    "            \n",
    "temp_df.reset_index(inplace = True, drop = True)"
   ]
  },
  {
   "attachments": {},
   "cell_type": "markdown",
   "metadata": {},
   "source": [
    "Get section headers to split text into parts\n",
    "|corpusID|authors|section(s)|\n",
    "|---|---|---|"
   ]
  },
  {
   "attachments": {},
   "cell_type": "markdown",
   "metadata": {},
   "source": [
    "Don't need source, need text and annotations\n",
    "- stored in lists with indexes convert to human readable"
   ]
  },
  {
   "attachments": {},
   "cell_type": "markdown",
   "metadata": {},
   "source": [
    "Get Corpus IDs from DB"
   ]
  },
  {
   "cell_type": "code",
   "execution_count": 10,
   "metadata": {},
   "outputs": [],
   "source": [
    "# import psycopg2\n",
    "\n",
    "# psy_engine = psycopg2.connect(\n",
    "#     database=config['database']['name'],\n",
    "#     user=config['database']['user'],\n",
    "#     password=keys['postgres'],\n",
    "#     host=config['database']['host'],\n",
    "#     port='5432'\n",
    "# )\n",
    "\n",
    "# cur = psy_engine.cursor()\n",
    "\n",
    "# conn = sql.connect()\n",
    "\n",
    "# test = cur.execute(\"SELECT * FROM attributes;\") \n",
    "\n",
    "# psy_engine.commit()\n",
    "# cur.close()\n",
    "# psy_engine.close()"
   ]
  },
  {
   "cell_type": "code",
   "execution_count": 4,
   "metadata": {},
   "outputs": [
    {
     "data": {
      "text/plain": [
       "{'pdfurls': ['https://export.arxiv.org/pdf/2302.13777v2.pdf'],\n",
       " 'pdfsha': '9a24b6ef9ec19eacbe7a223df8111f12d8da40ef',\n",
       " 'oainfo': None}"
      ]
     },
     "execution_count": 4,
     "metadata": {},
     "output_type": "execute_result"
    }
   ],
   "source": [
    "# pull content out because that's all I need\n",
    "test = temp_df.loc[0, 'content']\n",
    "test.pop('source')"
   ]
  },
  {
   "cell_type": "code",
   "execution_count": null,
   "metadata": {},
   "outputs": [],
   "source": [
    "# turn into dataclass\n",
    "def convert_text(text, key):\n",
    "    temp = json.loads(text['annotations'][key])\n",
    "    results = []\n",
    "    for i in temp: \n",
    "        results.append(test['text'][temp['start']:temp['end']])\n",
    "    return results"
   ]
  },
  {
   "cell_type": "code",
   "execution_count": 11,
   "metadata": {},
   "outputs": [],
   "source": [
    "def get_abstract(text_dict):\n",
    "    \"\"\" \"\"\"\n",
    "    ant_index = json.loads(text_dict['annotations']['abstract'])[0]\n",
    "    ant = test['text'][ant_index['start']:ant_index['end']]\n",
    "    return ant"
   ]
  },
  {
   "cell_type": "code",
   "execution_count": 12,
   "metadata": {},
   "outputs": [
    {
     "data": {
      "text/plain": [
       "\"A short X-ray burst was observed from the radio-loud magnetar 1E 1547.0-5408 in April 2022. Unusually however, the source stopped showing radio pulsations ≳ 3 weeks prior to the burst. After recovery, radio timing revealed that the object had also undergone a modest glitch. A model for the overall event is constructed where an initially mild perturbation adjusts the magnetic geometry near the polar caps, leading to shallow fractures. Crustal ejecta or particles leaking from a pair-plasma fireball pollute the magnetospheric gaps, shutting off the pulsar mechanism, but the energy release is not yet large enough to noticeably enhance the X-ray flux. This perturbation gradually ramps, eventuating in a large-scale energy redistribution which fuels the burst. The star's mass quadrupole moment changes in tandem, issuing a glitch. Some quantitative estimates for the magnetic reconfiguration under this interpretation are provided, based on a quasi-static model where the fluid evolves through a sequence of hydromagnetic equilibria.\""
      ]
     },
     "execution_count": 12,
     "metadata": {},
     "output_type": "execute_result"
    }
   ],
   "source": [
    "get_abstract(test)"
   ]
  },
  {
   "attachments": {},
   "cell_type": "markdown",
   "metadata": {},
   "source": [
    "Just need sections"
   ]
  },
  {
   "cell_type": "code",
   "execution_count": 18,
   "metadata": {},
   "outputs": [],
   "source": [
    "def get_sections(text, indexes): \n",
    "    # Looking at sections\n",
    "    section = {}\n",
    "    for i in json.loads(text['annotations']['sectionheader']): \n",
    "        section['name'] = text['text'][i['start']:i['end']]\n",
    "        section['start'] = i['start']\n",
    "        section['end'] = i['end']\n",
    "        \n",
    "    return section"
   ]
  },
  {
   "cell_type": "code",
   "execution_count": 20,
   "metadata": {},
   "outputs": [
    {
     "name": "stdout",
     "output_type": "stream",
     "text": [
      "INTRODUCTION\n",
      "THEORETICAL OVERVIEW AND RAMPING PERTURBATIONS\n",
      "HYDROMAGNETIC STRUCTURE\n",
      "Quadrupolar ellipticity\n",
      "OUTBURST EVENT IN 1E 1547.0-5408\n",
      "Shallow fractures: radio switch off\n",
      "Glitch: quadrupolar shifts\n",
      "Accelerated spindown\n",
      "Deeper fractures: X-ray flare\n",
      "DISCUSSION\n",
      "APPENDIX A: CALCULATION OF THE ELLIPTICITY AND CRUSTAL STRAIN\n",
      "A1 Shear modulus\n",
      "Figure 1 .\n",
      "Figure 2 .\n",
      "Figure 3 .\n"
     ]
    }
   ],
   "source": [
    "get_sections(test)"
   ]
  },
  {
   "attachments": {},
   "cell_type": "markdown",
   "metadata": {},
   "source": [
    "Remove figure and table annotations"
   ]
  },
  {
   "attachments": {},
   "cell_type": "markdown",
   "metadata": {},
   "source": [
    "Pull relevant texts from DB with right corpusID"
   ]
  },
  {
   "cell_type": "code",
   "execution_count": 21,
   "metadata": {},
   "outputs": [
    {
     "data": {
      "text/html": [
       "<div>\n",
       "<style scoped>\n",
       "    .dataframe tbody tr th:only-of-type {\n",
       "        vertical-align: middle;\n",
       "    }\n",
       "\n",
       "    .dataframe tbody tr th {\n",
       "        vertical-align: top;\n",
       "    }\n",
       "\n",
       "    .dataframe thead th {\n",
       "        text-align: right;\n",
       "    }\n",
       "</style>\n",
       "<table border=\"1\" class=\"dataframe\">\n",
       "  <thead>\n",
       "    <tr style=\"text-align: right;\">\n",
       "      <th></th>\n",
       "      <th>index</th>\n",
       "      <th>corpusid</th>\n",
       "      <th>externalids</th>\n",
       "      <th>content</th>\n",
       "      <th>updated</th>\n",
       "    </tr>\n",
       "  </thead>\n",
       "  <tbody>\n",
       "    <tr>\n",
       "      <th>0</th>\n",
       "      <td>0</td>\n",
       "      <td>257219935</td>\n",
       "      <td>{'arxiv': '2302.13777', 'mag': None, 'acl': No...</td>\n",
       "      <td>{'text': '\n",
       "The radio shut-off, glitch, and X-r...</td>\n",
       "      <td>2023-06-01T07:32:44Z</td>\n",
       "    </tr>\n",
       "    <tr>\n",
       "      <th>1</th>\n",
       "      <td>0</td>\n",
       "      <td>257223374</td>\n",
       "      <td>{'arxiv': None, 'mag': None, 'acl': None, 'pub...</td>\n",
       "      <td>{'source': {'pdfurls': None, 'pdfsha': 'e1abc5...</td>\n",
       "      <td>2023-06-02T06:11:54Z</td>\n",
       "    </tr>\n",
       "    <tr>\n",
       "      <th>2</th>\n",
       "      <td>0</td>\n",
       "      <td>257255588</td>\n",
       "      <td>{'arxiv': '2303.00647', 'mag': None, 'acl': No...</td>\n",
       "      <td>{'source': {'pdfurls': ['https://export.arxiv....</td>\n",
       "      <td>2023-06-03T15:31:25Z</td>\n",
       "    </tr>\n",
       "    <tr>\n",
       "      <th>3</th>\n",
       "      <td>0</td>\n",
       "      <td>257292514</td>\n",
       "      <td>{'arxiv': None, 'mag': None, 'acl': None, 'pub...</td>\n",
       "      <td>{'source': {'pdfurls': None, 'pdfsha': 'a432bc...</td>\n",
       "      <td>2023-06-02T05:22:08Z</td>\n",
       "    </tr>\n",
       "    <tr>\n",
       "      <th>4</th>\n",
       "      <td>0</td>\n",
       "      <td>257297251</td>\n",
       "      <td>{'arxiv': None, 'mag': None, 'acl': None, 'pub...</td>\n",
       "      <td>{'source': {'pdfurls': None, 'pdfsha': 'eff78e...</td>\n",
       "      <td>2023-05-31T06:25:15Z</td>\n",
       "    </tr>\n",
       "  </tbody>\n",
       "</table>\n",
       "</div>"
      ],
      "text/plain": [
       "   index   corpusid                                        externalids  \\\n",
       "0      0  257219935  {'arxiv': '2302.13777', 'mag': None, 'acl': No...   \n",
       "1      0  257223374  {'arxiv': None, 'mag': None, 'acl': None, 'pub...   \n",
       "2      0  257255588  {'arxiv': '2303.00647', 'mag': None, 'acl': No...   \n",
       "3      0  257292514  {'arxiv': None, 'mag': None, 'acl': None, 'pub...   \n",
       "4      0  257297251  {'arxiv': None, 'mag': None, 'acl': None, 'pub...   \n",
       "\n",
       "                                             content               updated  \n",
       "0  {'text': '\n",
       "The radio shut-off, glitch, and X-r...  2023-06-01T07:32:44Z  \n",
       "1  {'source': {'pdfurls': None, 'pdfsha': 'e1abc5...  2023-06-02T06:11:54Z  \n",
       "2  {'source': {'pdfurls': ['https://export.arxiv....  2023-06-03T15:31:25Z  \n",
       "3  {'source': {'pdfurls': None, 'pdfsha': 'a432bc...  2023-06-02T05:22:08Z  \n",
       "4  {'source': {'pdfurls': None, 'pdfsha': 'eff78e...  2023-05-31T06:25:15Z  "
      ]
     },
     "execution_count": 21,
     "metadata": {},
     "output_type": "execute_result"
    }
   ],
   "source": [
    "temp_df"
   ]
  }
 ],
 "metadata": {
  "kernelspec": {
   "display_name": "base",
   "language": "python",
   "name": "python3"
  },
  "language_info": {
   "codemirror_mode": {
    "name": "ipython",
    "version": 3
   },
   "file_extension": ".py",
   "mimetype": "text/x-python",
   "name": "python",
   "nbconvert_exporter": "python",
   "pygments_lexer": "ipython3",
   "version": "3.10.11"
  },
  "orig_nbformat": 4
 },
 "nbformat": 4,
 "nbformat_minor": 2
}
